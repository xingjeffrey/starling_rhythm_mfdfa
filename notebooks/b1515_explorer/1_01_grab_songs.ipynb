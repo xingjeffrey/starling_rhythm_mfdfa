{
 "cells": [
  {
   "cell_type": "markdown",
   "id": "aa2ce683",
   "metadata": {},
   "source": [
    "# 1.01 Grab b1515 songs from pickles\n",
    "### JX, 03/28/2023\n",
    "> Retrieve b1515 songs from Zeke's pickles, then save them as wav. "
   ]
  },
  {
   "cell_type": "code",
   "execution_count": 1,
   "id": "10def535",
   "metadata": {},
   "outputs": [],
   "source": [
    "from starling_rhythm.utils.paths import PROCESSED_DIR, ensure_dir"
   ]
  },
  {
   "cell_type": "code",
   "execution_count": 2,
   "id": "00909003",
   "metadata": {},
   "outputs": [],
   "source": [
    "bID = 's_b1515_23'"
   ]
  },
  {
   "cell_type": "code",
   "execution_count": 3,
   "id": "69236fbd",
   "metadata": {},
   "outputs": [
    {
     "data": {
      "text/plain": [
       "PosixPath('/mnt/cube/j8xing/starling_rhythm_mfdfa/data/s_b1515_23')"
      ]
     },
     "execution_count": 3,
     "metadata": {},
     "output_type": "execute_result"
    }
   ],
   "source": [
    "## output directory\n",
    "bID_DIR = PROCESSED_DIR / bID\n",
    "bID_DIR"
   ]
  },
  {
   "cell_type": "markdown",
   "id": "f421d198",
   "metadata": {},
   "source": [
    "## Find pickles of bout-checked b1515 data"
   ]
  },
  {
   "cell_type": "code",
   "execution_count": 4,
   "id": "9dc0233d",
   "metadata": {},
   "outputs": [],
   "source": [
    "from pathlib2 import Path"
   ]
  },
  {
   "cell_type": "code",
   "execution_count": 5,
   "id": "2d410462",
   "metadata": {},
   "outputs": [
    {
     "data": {
      "text/plain": [
       "PosixPath('/mnt/sphere/speech_bci/derived_data/s_b1515_23')"
      ]
     },
     "execution_count": 5,
     "metadata": {},
     "output_type": "execute_result"
    }
   ],
   "source": [
    "DATA_PATH = '/mnt/sphere/speech_bci/derived_data/' + bID\n",
    "DATA_DIR = Path(DATA_PATH)\n",
    "DATA_DIR"
   ]
  },
  {
   "cell_type": "code",
   "execution_count": null,
   "id": "b63d96e4",
   "metadata": {},
   "outputs": [],
   "source": []
  },
  {
   "cell_type": "code",
   "execution_count": 6,
   "id": "1ae46f9c",
   "metadata": {},
   "outputs": [],
   "source": [
    "## grab data from 9/20/22 - 9/29/22, when b1555 sings the most\n",
    "pickle_paths = list(Path(DATA_DIR).rglob(\"2023-03-24/bouts_sglx/bout_checked.pickle\"))"
   ]
  },
  {
   "cell_type": "code",
   "execution_count": 7,
   "id": "f61aea43",
   "metadata": {},
   "outputs": [
    {
     "data": {
      "text/plain": [
       "[PosixPath('/mnt/sphere/speech_bci/derived_data/s_b1515_23/2023-03-24/bouts_sglx/bout_checked.pickle')]"
      ]
     },
     "execution_count": 7,
     "metadata": {},
     "output_type": "execute_result"
    }
   ],
   "source": [
    "pickle_paths"
   ]
  },
  {
   "cell_type": "markdown",
   "id": "b1eac112",
   "metadata": {},
   "source": [
    "## View Pickle"
   ]
  },
  {
   "cell_type": "code",
   "execution_count": 8,
   "id": "f40d1dc9",
   "metadata": {},
   "outputs": [],
   "source": [
    "import pandas as pd\n",
    "import numpy as np"
   ]
  },
  {
   "cell_type": "code",
   "execution_count": 9,
   "id": "718b6d12",
   "metadata": {},
   "outputs": [],
   "source": [
    "bout_checked = pd.read_pickle(pickle_paths[0])"
   ]
  },
  {
   "cell_type": "code",
   "execution_count": 10,
   "id": "9f384446",
   "metadata": {},
   "outputs": [
    {
     "data": {
      "text/plain": [
       "Index(['start_ms', 'end_ms', 'start_sample', 'end_sample', 'p_step', 'rms_p',\n",
       "       'peak_p', 'bout_check', 'file', 'len_ms', 'syl_in', 'n_syl', 'peaks_p',\n",
       "       'n_peaks', 'l_p_ratio', 'waveform', 'confusing', 'valid_waveform',\n",
       "       'valid', 'spectrogram', 'is_call'],\n",
       "      dtype='object')"
      ]
     },
     "execution_count": 10,
     "metadata": {},
     "output_type": "execute_result"
    }
   ],
   "source": [
    "bout_checked.keys()"
   ]
  },
  {
   "cell_type": "code",
   "execution_count": 11,
   "id": "84f52e93",
   "metadata": {},
   "outputs": [],
   "source": [
    "bouts = bout_checked"
   ]
  },
  {
   "cell_type": "code",
   "execution_count": 12,
   "id": "daba1fe0",
   "metadata": {},
   "outputs": [],
   "source": [
    "bouts = bouts[bouts['is_call'] != True] ## not calls\n",
    "bouts = bouts[bouts['bout_check'] == True] ## bout checked\n",
    "bouts = bouts[bouts['confusing'] != True] ## not confusing"
   ]
  },
  {
   "cell_type": "code",
   "execution_count": 13,
   "id": "fddccfd0",
   "metadata": {},
   "outputs": [
    {
     "data": {
      "text/plain": [
       "200"
      ]
     },
     "execution_count": 13,
     "metadata": {},
     "output_type": "execute_result"
    }
   ],
   "source": [
    "len(bouts)"
   ]
  },
  {
   "cell_type": "code",
   "execution_count": 14,
   "id": "101e3cda",
   "metadata": {},
   "outputs": [
    {
     "data": {
      "text/plain": [
       "array(['/mnt/sphere/speech_bci/derived_data/s_b1515_23/2023-03-24/sglx/0754_con_g0/wav_mic.wav',\n",
       "       '/mnt/sphere/speech_bci/derived_data/s_b1515_23/2023-03-24/sglx/1311_stim_g0/wav_mic.wav',\n",
       "       '/mnt/sphere/speech_bci/derived_data/s_b1515_23/2023-03-24/sglx/1547_g0/wav_mic.wav'],\n",
       "      dtype=object)"
      ]
     },
     "execution_count": 14,
     "metadata": {},
     "output_type": "execute_result"
    }
   ],
   "source": [
    "file_types = np.unique(bouts.file)\n",
    "file_types"
   ]
  },
  {
   "cell_type": "code",
   "execution_count": 15,
   "id": "273f2e93",
   "metadata": {},
   "outputs": [],
   "source": [
    "conspecific = bouts[bouts.file == file_types[0]]\n",
    "stimuli = bouts[bouts.file == file_types[1]]\n",
    "alone = bouts[bouts.file == file_types[2]]"
   ]
  },
  {
   "cell_type": "code",
   "execution_count": 16,
   "id": "58be2c47",
   "metadata": {},
   "outputs": [],
   "source": [
    "assert len(np.unique(conspecific.file)) == 1\n",
    "assert len(np.unique(stimuli.file)) == 1\n",
    "assert len(np.unique(alone.file)) == 1"
   ]
  },
  {
   "cell_type": "code",
   "execution_count": 17,
   "id": "5d71fbed",
   "metadata": {},
   "outputs": [
    {
     "data": {
      "text/plain": [
       "array(['/mnt/sphere/speech_bci/derived_data/s_b1515_23/2023-03-24/sglx/0754_con_g0/wav_mic.wav'],\n",
       "      dtype=object)"
      ]
     },
     "execution_count": 17,
     "metadata": {},
     "output_type": "execute_result"
    }
   ],
   "source": [
    "np.unique(conspecific.file)"
   ]
  },
  {
   "cell_type": "code",
   "execution_count": 18,
   "id": "51c3bb03",
   "metadata": {},
   "outputs": [
    {
     "data": {
      "text/plain": [
       "43"
      ]
     },
     "execution_count": 18,
     "metadata": {},
     "output_type": "execute_result"
    }
   ],
   "source": [
    "len(conspecific)"
   ]
  },
  {
   "cell_type": "code",
   "execution_count": 19,
   "id": "2ae414b7",
   "metadata": {},
   "outputs": [
    {
     "data": {
      "text/plain": [
       "array(['/mnt/sphere/speech_bci/derived_data/s_b1515_23/2023-03-24/sglx/1311_stim_g0/wav_mic.wav'],\n",
       "      dtype=object)"
      ]
     },
     "execution_count": 19,
     "metadata": {},
     "output_type": "execute_result"
    }
   ],
   "source": [
    "np.unique(stimuli.file)"
   ]
  },
  {
   "cell_type": "code",
   "execution_count": 20,
   "id": "99a583a3",
   "metadata": {},
   "outputs": [
    {
     "data": {
      "text/plain": [
       "132"
      ]
     },
     "execution_count": 20,
     "metadata": {},
     "output_type": "execute_result"
    }
   ],
   "source": [
    "len(stimuli)"
   ]
  },
  {
   "cell_type": "code",
   "execution_count": 21,
   "id": "50f1a176",
   "metadata": {},
   "outputs": [
    {
     "data": {
      "text/plain": [
       "array(['/mnt/sphere/speech_bci/derived_data/s_b1515_23/2023-03-24/sglx/1547_g0/wav_mic.wav'],\n",
       "      dtype=object)"
      ]
     },
     "execution_count": 21,
     "metadata": {},
     "output_type": "execute_result"
    }
   ],
   "source": [
    "np.unique(alone.file)"
   ]
  },
  {
   "cell_type": "code",
   "execution_count": 22,
   "id": "6e55e858",
   "metadata": {},
   "outputs": [
    {
     "data": {
      "text/plain": [
       "25"
      ]
     },
     "execution_count": 22,
     "metadata": {},
     "output_type": "execute_result"
    }
   ],
   "source": [
    "len(alone)"
   ]
  },
  {
   "cell_type": "code",
   "execution_count": 23,
   "id": "faca132a",
   "metadata": {},
   "outputs": [
    {
     "name": "stderr",
     "output_type": "stream",
     "text": [
      "/tmp/ipykernel_27351/3870098420.py:2: TqdmWarning: IProgress not found. Please update jupyter and ipywidgets. See https://ipywidgets.readthedocs.io/en/stable/user_install.html\n",
      "  from tqdm.autonotebook import tqdm\n"
     ]
    }
   ],
   "source": [
    "import pandas as pd\n",
    "from tqdm.autonotebook import tqdm\n",
    "import scipy.io.wavfile as wav"
   ]
  },
  {
   "cell_type": "code",
   "execution_count": 24,
   "id": "545d71c7",
   "metadata": {},
   "outputs": [
    {
     "data": {
      "text/plain": [
       "['',\n",
       " 'mnt',\n",
       " 'sphere',\n",
       " 'speech_bci',\n",
       " 'derived_data',\n",
       " 's_b1515_23',\n",
       " '2023-03-24',\n",
       " 'bouts_sglx',\n",
       " 'bout_checked.pickle']"
      ]
     },
     "execution_count": 24,
     "metadata": {},
     "output_type": "execute_result"
    }
   ],
   "source": [
    "str(pickle_paths[0]).split('/')"
   ]
  },
  {
   "cell_type": "code",
   "execution_count": 25,
   "id": "893d950c",
   "metadata": {},
   "outputs": [
    {
     "data": {
      "text/plain": [
       "'1547_g0'"
      ]
     },
     "execution_count": 25,
     "metadata": {},
     "output_type": "execute_result"
    }
   ],
   "source": [
    "alone.file.values[0].split('/')[8]"
   ]
  },
  {
   "cell_type": "code",
   "execution_count": 26,
   "id": "09c0ddc3",
   "metadata": {},
   "outputs": [],
   "source": [
    "rate = 48000"
   ]
  },
  {
   "cell_type": "code",
   "execution_count": 29,
   "id": "8e69c577",
   "metadata": {},
   "outputs": [
    {
     "name": "stderr",
     "output_type": "stream",
     "text": [
      "Processing each day:   0%|          | 0/1 [00:00<?, ?it/s]\n",
      "Processing each day's bout: 0it [00:00, ?it/s]\u001b[A\n",
      "Processing each day's bout: 1it [00:00,  3.17it/s]\u001b[A"
     ]
    },
    {
     "name": "stdout",
     "output_type": "stream",
     "text": [
      "Saving /mnt/cube/j8xing/starling_rhythm_mfdfa/data/s_b1515_23/raw/s_b1515_23_2023-03-24__1311_stim_g0__1759420_1902930.wav\n",
      "Saving /mnt/cube/j8xing/starling_rhythm_mfdfa/data/s_b1515_23/raw/s_b1515_23_2023-03-24__1311_stim_g0__6883109_6988584.wav\n",
      "Saving /mnt/cube/j8xing/starling_rhythm_mfdfa/data/s_b1515_23/raw/s_b1515_23_2023-03-24__1311_stim_g0__7164904_7249199.wav\n"
     ]
    },
    {
     "name": "stderr",
     "output_type": "stream",
     "text": [
      "\n",
      "Processing each day's bout: 3it [00:00,  7.11it/s]\u001b[A\n",
      "Processing each day's bout: 5it [00:00,  9.75it/s]\u001b[A"
     ]
    },
    {
     "name": "stdout",
     "output_type": "stream",
     "text": [
      "Saving /mnt/cube/j8xing/starling_rhythm_mfdfa/data/s_b1515_23/raw/s_b1515_23_2023-03-24__1311_stim_g0__3799599_3865139.wav\n",
      "Saving /mnt/cube/j8xing/starling_rhythm_mfdfa/data/s_b1515_23/raw/s_b1515_23_2023-03-24__1311_stim_g0__5340034_5404354.wav\n",
      "Saving /mnt/cube/j8xing/starling_rhythm_mfdfa/data/s_b1515_23/raw/s_b1515_23_2023-03-24__1547_g0__13998691_14059066.wav\n",
      "Saving /mnt/cube/j8xing/starling_rhythm_mfdfa/data/s_b1515_23/raw/s_b1515_23_2023-03-24__1311_stim_g0__4427279_4487649.wav\n"
     ]
    },
    {
     "name": "stderr",
     "output_type": "stream",
     "text": [
      "\n",
      "Processing each day's bout: 7it [00:00, 11.96it/s]\u001b[A\n",
      "Processing each day's bout: 9it [00:00, 13.12it/s]\u001b[A"
     ]
    },
    {
     "name": "stdout",
     "output_type": "stream",
     "text": [
      "Saving /mnt/cube/j8xing/starling_rhythm_mfdfa/data/s_b1515_23/raw/s_b1515_23_2023-03-24__0754_con_g0__127510_187385.wav\n",
      "Saving /mnt/cube/j8xing/starling_rhythm_mfdfa/data/s_b1515_23/raw/s_b1515_23_2023-03-24__0754_con_g0__4476866_4536641.wav\n",
      "Saving /mnt/cube/j8xing/starling_rhythm_mfdfa/data/s_b1515_23/raw/s_b1515_23_2023-03-24__1311_stim_g0__4360349_4418689.wav\n",
      "Saving /mnt/cube/j8xing/starling_rhythm_mfdfa/data/s_b1515_23/raw/s_b1515_23_2023-03-24__0754_con_g0__1576865_1634160.wav\n"
     ]
    },
    {
     "name": "stderr",
     "output_type": "stream",
     "text": [
      "\n",
      "Processing each day's bout: 11it [00:00, 14.46it/s]\u001b[A\n",
      "Processing each day's bout: 13it [00:01, 15.65it/s]\u001b[A"
     ]
    },
    {
     "name": "stdout",
     "output_type": "stream",
     "text": [
      "Saving /mnt/cube/j8xing/starling_rhythm_mfdfa/data/s_b1515_23/raw/s_b1515_23_2023-03-24__0754_con_g0__1070780_1125690.wav\n",
      "Saving /mnt/cube/j8xing/starling_rhythm_mfdfa/data/s_b1515_23/raw/s_b1515_23_2023-03-24__1311_stim_g0__3202914_3256584.wav\n",
      "Saving /mnt/cube/j8xing/starling_rhythm_mfdfa/data/s_b1515_23/raw/s_b1515_23_2023-03-24__1311_stim_g0__5254219_5306324.wav\n",
      "Saving /mnt/cube/j8xing/starling_rhythm_mfdfa/data/s_b1515_23/raw/s_b1515_23_2023-03-24__1547_g0__15075981_15128066.wav\n"
     ]
    },
    {
     "name": "stderr",
     "output_type": "stream",
     "text": [
      "\n",
      "Processing each day's bout: 15it [00:01, 16.57it/s]\u001b[A\n",
      "Processing each day's bout: 17it [00:01, 17.09it/s]\u001b[A"
     ]
    },
    {
     "name": "stdout",
     "output_type": "stream",
     "text": [
      "Saving /mnt/cube/j8xing/starling_rhythm_mfdfa/data/s_b1515_23/raw/s_b1515_23_2023-03-24__1547_g0__14546451_14598081.wav\n",
      "Saving /mnt/cube/j8xing/starling_rhythm_mfdfa/data/s_b1515_23/raw/s_b1515_23_2023-03-24__1311_stim_g0__3454669_3505439.wav\n",
      "Saving /mnt/cube/j8xing/starling_rhythm_mfdfa/data/s_b1515_23/raw/s_b1515_23_2023-03-24__1311_stim_g0__3683944_3734284.wav\n",
      "Saving /mnt/cube/j8xing/starling_rhythm_mfdfa/data/s_b1515_23/raw/s_b1515_23_2023-03-24__1547_g0__13940451_13990756.wav\n",
      "Saving /mnt/cube/j8xing/starling_rhythm_mfdfa/data/s_b1515_23/raw/s_b1515_23_2023-03-24__1311_stim_g0__5061959_5111199.wav\n"
     ]
    },
    {
     "name": "stderr",
     "output_type": "stream",
     "text": [
      "\n",
      "Processing each day's bout: 20it [00:01, 18.58it/s]\u001b[A\n",
      "Processing each day's bout: 23it [00:01, 19.09it/s]\u001b[A"
     ]
    },
    {
     "name": "stdout",
     "output_type": "stream",
     "text": [
      "Saving /mnt/cube/j8xing/starling_rhythm_mfdfa/data/s_b1515_23/raw/s_b1515_23_2023-03-24__1547_g0__14657596_14706771.wav\n",
      "Saving /mnt/cube/j8xing/starling_rhythm_mfdfa/data/s_b1515_23/raw/s_b1515_23_2023-03-24__1311_stim_g0__4702629_4751404.wav\n",
      "Saving /mnt/cube/j8xing/starling_rhythm_mfdfa/data/s_b1515_23/raw/s_b1515_23_2023-03-24__1311_stim_g0__1708045_1756360.wav\n",
      "Saving /mnt/cube/j8xing/starling_rhythm_mfdfa/data/s_b1515_23/raw/s_b1515_23_2023-03-24__1311_stim_g0__3923499_3971534.wav\n"
     ]
    },
    {
     "name": "stderr",
     "output_type": "stream",
     "text": [
      "\n",
      "Processing each day's bout: 25it [00:01, 18.98it/s]\u001b[A\n",
      "Processing each day's bout: 27it [00:01, 19.07it/s]\u001b[A"
     ]
    },
    {
     "name": "stdout",
     "output_type": "stream",
     "text": [
      "Saving /mnt/cube/j8xing/starling_rhythm_mfdfa/data/s_b1515_23/raw/s_b1515_23_2023-03-24__0754_con_g0__2534698_2582558.wav\n",
      "Saving /mnt/cube/j8xing/starling_rhythm_mfdfa/data/s_b1515_23/raw/s_b1515_23_2023-03-24__1311_stim_g0__6817944_6865734.wav\n",
      "Saving /mnt/cube/j8xing/starling_rhythm_mfdfa/data/s_b1515_23/raw/s_b1515_23_2023-03-24__1311_stim_g0__4575034_4622819.wav\n",
      "Saving /mnt/cube/j8xing/starling_rhythm_mfdfa/data/s_b1515_23/raw/s_b1515_23_2023-03-24__1547_g0__15172071_15219246.wav\n"
     ]
    },
    {
     "name": "stderr",
     "output_type": "stream",
     "text": [
      "\n",
      "Processing each day's bout: 30it [00:01, 19.73it/s]\u001b[A"
     ]
    },
    {
     "name": "stdout",
     "output_type": "stream",
     "text": [
      "Saving /mnt/cube/j8xing/starling_rhythm_mfdfa/data/s_b1515_23/raw/s_b1515_23_2023-03-24__1311_stim_g0__691185_737960.wav\n",
      "Saving /mnt/cube/j8xing/starling_rhythm_mfdfa/data/s_b1515_23/raw/s_b1515_23_2023-03-24__1311_stim_g0__2298424_2344854.wav\n",
      "Saving /mnt/cube/j8xing/starling_rhythm_mfdfa/data/s_b1515_23/raw/s_b1515_23_2023-03-24__1311_stim_g0__7253134_7298979.wav\n",
      "Saving /mnt/cube/j8xing/starling_rhythm_mfdfa/data/s_b1515_23/raw/s_b1515_23_2023-03-24__1311_stim_g0__565435_610540.wav\n",
      "Saving /mnt/cube/j8xing/starling_rhythm_mfdfa/data/s_b1515_23/raw/s_b1515_23_2023-03-24__1547_g0__14296601_14341616.wav\n"
     ]
    },
    {
     "name": "stderr",
     "output_type": "stream",
     "text": [
      "\n",
      "Processing each day's bout: 33it [00:02, 20.06it/s]\u001b[A\n",
      "Processing each day's bout: 36it [00:02, 20.26it/s]\u001b[A"
     ]
    },
    {
     "name": "stdout",
     "output_type": "stream",
     "text": [
      "Saving /mnt/cube/j8xing/starling_rhythm_mfdfa/data/s_b1515_23/raw/s_b1515_23_2023-03-24__1311_stim_g0__3743254_3787634.wav\n",
      "Saving /mnt/cube/j8xing/starling_rhythm_mfdfa/data/s_b1515_23/raw/s_b1515_23_2023-03-24__0754_con_g0__194430_238235.wav\n",
      "Saving /mnt/cube/j8xing/starling_rhythm_mfdfa/data/s_b1515_23/raw/s_b1515_23_2023-03-24__1311_stim_g0__4803054_4846814.wav\n",
      "Saving /mnt/cube/j8xing/starling_rhythm_mfdfa/data/s_b1515_23/raw/s_b1515_23_2023-03-24__1547_g0__11448549_11491854.wav\n",
      "Saving /mnt/cube/j8xing/starling_rhythm_mfdfa/data/s_b1515_23/raw/s_b1515_23_2023-03-24__1311_stim_g0__6558139_6601409.wav\n"
     ]
    },
    {
     "name": "stderr",
     "output_type": "stream",
     "text": [
      "\n",
      "Processing each day's bout: 39it [00:02, 20.64it/s]\u001b[A\n",
      "Processing each day's bout: 42it [00:02, 20.85it/s]\u001b[A"
     ]
    },
    {
     "name": "stdout",
     "output_type": "stream",
     "text": [
      "Saving /mnt/cube/j8xing/starling_rhythm_mfdfa/data/s_b1515_23/raw/s_b1515_23_2023-03-24__1311_stim_g0__6370174_6413319.wav\n",
      "Saving /mnt/cube/j8xing/starling_rhythm_mfdfa/data/s_b1515_23/raw/s_b1515_23_2023-03-24__1311_stim_g0__7051379_7094524.wav\n",
      "Saving /mnt/cube/j8xing/starling_rhythm_mfdfa/data/s_b1515_23/raw/s_b1515_23_2023-03-24__1311_stim_g0__7789459_7832604.wav\n",
      "Saving /mnt/cube/j8xing/starling_rhythm_mfdfa/data/s_b1515_23/raw/s_b1515_23_2023-03-24__1311_stim_g0__7571614_7614759.wav\n",
      "Saving /mnt/cube/j8xing/starling_rhythm_mfdfa/data/s_b1515_23/raw/s_b1515_23_2023-03-24__1311_stim_g0__7374539_7417684.wav\n"
     ]
    },
    {
     "name": "stderr",
     "output_type": "stream",
     "text": [
      "\n",
      "Processing each day's bout: 45it [00:02, 21.15it/s]\u001b[A"
     ]
    },
    {
     "name": "stdout",
     "output_type": "stream",
     "text": [
      "Saving /mnt/cube/j8xing/starling_rhythm_mfdfa/data/s_b1515_23/raw/s_b1515_23_2023-03-24__1311_stim_g0__1214245_1257375.wav\n",
      "Saving /mnt/cube/j8xing/starling_rhythm_mfdfa/data/s_b1515_23/raw/s_b1515_23_2023-03-24__1547_g0__11731729_11773824.wav\n",
      "Saving /mnt/cube/j8xing/starling_rhythm_mfdfa/data/s_b1515_23/raw/s_b1515_23_2023-03-24__1547_g0__14851811_14893806.wav\n",
      "Saving /mnt/cube/j8xing/starling_rhythm_mfdfa/data/s_b1515_23/raw/s_b1515_23_2023-03-24__1311_stim_g0__5718754_5760749.wav\n",
      "Saving /mnt/cube/j8xing/starling_rhythm_mfdfa/data/s_b1515_23/raw/s_b1515_23_2023-03-24__1311_stim_g0__1338095_1379565.wav\n"
     ]
    },
    {
     "name": "stderr",
     "output_type": "stream",
     "text": [
      "\n",
      "Processing each day's bout: 48it [00:02, 21.20it/s]\u001b[A\n",
      "Processing each day's bout: 51it [00:02, 21.40it/s]\u001b[A"
     ]
    },
    {
     "name": "stdout",
     "output_type": "stream",
     "text": [
      "Saving /mnt/cube/j8xing/starling_rhythm_mfdfa/data/s_b1515_23/raw/s_b1515_23_2023-03-24__1547_g0__13736211_13777451.wav\n",
      "Saving /mnt/cube/j8xing/starling_rhythm_mfdfa/data/s_b1515_23/raw/s_b1515_23_2023-03-24__0754_con_g0__1149485_1190650.wav\n",
      "Saving /mnt/cube/j8xing/starling_rhythm_mfdfa/data/s_b1515_23/raw/s_b1515_23_2023-03-24__1311_stim_g0__6435914_6477009.wav\n",
      "Saving /mnt/cube/j8xing/starling_rhythm_mfdfa/data/s_b1515_23/raw/s_b1515_23_2023-03-24__0754_con_g0__4031983_4073008.wav\n",
      "Saving /mnt/cube/j8xing/starling_rhythm_mfdfa/data/s_b1515_23/raw/s_b1515_23_2023-03-24__1547_g0__13084421_13125291.wav\n"
     ]
    },
    {
     "name": "stderr",
     "output_type": "stream",
     "text": [
      "\n",
      "Processing each day's bout: 54it [00:03, 21.58it/s]\u001b[A\n",
      "Processing each day's bout: 57it [00:03, 22.81it/s]\u001b[A"
     ]
    },
    {
     "name": "stdout",
     "output_type": "stream",
     "text": [
      "Saving /mnt/cube/j8xing/starling_rhythm_mfdfa/data/s_b1515_23/raw/s_b1515_23_2023-03-24__1311_stim_g0__2469974_2510484.wav\n",
      "Saving /mnt/cube/j8xing/starling_rhythm_mfdfa/data/s_b1515_23/raw/s_b1515_23_2023-03-24__0754_con_g0__6221751_6260916.wav\n",
      "Saving /mnt/cube/j8xing/starling_rhythm_mfdfa/data/s_b1515_23/raw/s_b1515_23_2023-03-24__1311_stim_g0__623615_661750.wav\n",
      "Saving /mnt/cube/j8xing/starling_rhythm_mfdfa/data/s_b1515_23/raw/s_b1515_23_2023-03-24__1547_g0__11270064_11308029.wav\n",
      "Saving /mnt/cube/j8xing/starling_rhythm_mfdfa/data/s_b1515_23/raw/s_b1515_23_2023-03-24__0754_con_g0__5491921_5529321.wav\n",
      "Saving /mnt/cube/j8xing/starling_rhythm_mfdfa/data/s_b1515_23/raw/s_b1515_23_2023-03-24__1547_g0__11343044_11380429.wav\n"
     ]
    },
    {
     "name": "stderr",
     "output_type": "stream",
     "text": [
      "\n",
      "Processing each day's bout: 60it [00:03, 23.97it/s]\u001b[A\n",
      "Processing each day's bout: 63it [00:03, 24.30it/s]\u001b[A"
     ]
    },
    {
     "name": "stdout",
     "output_type": "stream",
     "text": [
      "Saving /mnt/cube/j8xing/starling_rhythm_mfdfa/data/s_b1515_23/raw/s_b1515_23_2023-03-24__1311_stim_g0__8008459_8045439.wav\n",
      "Saving /mnt/cube/j8xing/starling_rhythm_mfdfa/data/s_b1515_23/raw/s_b1515_23_2023-03-24__1311_stim_g0__853335_889715.wav\n",
      "Saving /mnt/cube/j8xing/starling_rhythm_mfdfa/data/s_b1515_23/raw/s_b1515_23_2023-03-24__1547_g0__14360761_14396116.wav\n",
      "Saving /mnt/cube/j8xing/starling_rhythm_mfdfa/data/s_b1515_23/raw/s_b1515_23_2023-03-24__1311_stim_g0__2247544_2282229.wav\n",
      "Saving /mnt/cube/j8xing/starling_rhythm_mfdfa/data/s_b1515_23/raw/s_b1515_23_2023-03-24__1311_stim_g0__6615314_6649359.wav\n"
     ]
    },
    {
     "name": "stderr",
     "output_type": "stream",
     "text": [
      "\n",
      "Processing each day's bout: 66it [00:03, 24.85it/s]\u001b[A\n",
      "Processing each day's bout: 69it [00:03, 26.10it/s]\u001b[A"
     ]
    },
    {
     "name": "stdout",
     "output_type": "stream",
     "text": [
      "Saving /mnt/cube/j8xing/starling_rhythm_mfdfa/data/s_b1515_23/raw/s_b1515_23_2023-03-24__0754_con_g0__1806305_1840000.wav\n",
      "Saving /mnt/cube/j8xing/starling_rhythm_mfdfa/data/s_b1515_23/raw/s_b1515_23_2023-03-24__0754_con_g0__621325_654850.wav\n",
      "Saving /mnt/cube/j8xing/starling_rhythm_mfdfa/data/s_b1515_23/raw/s_b1515_23_2023-03-24__1311_stim_g0__5166504_5199504.wav\n",
      "Saving /mnt/cube/j8xing/starling_rhythm_mfdfa/data/s_b1515_23/raw/s_b1515_23_2023-03-24__1311_stim_g0__3381934_3414294.wav\n",
      "Saving /mnt/cube/j8xing/starling_rhythm_mfdfa/data/s_b1515_23/raw/s_b1515_23_2023-03-24__1311_stim_g0__7430824_7463124.wav\n",
      "Saving /mnt/cube/j8xing/starling_rhythm_mfdfa/data/s_b1515_23/raw/s_b1515_23_2023-03-24__1311_stim_g0__3880594_3912419.wav\n"
     ]
    },
    {
     "name": "stderr",
     "output_type": "stream",
     "text": [
      "\n",
      "Processing each day's bout: 72it [00:03, 26.29it/s]\u001b[A\n",
      "Processing each day's bout: 75it [00:03, 26.96it/s]\u001b[A"
     ]
    },
    {
     "name": "stdout",
     "output_type": "stream",
     "text": [
      "Saving /mnt/cube/j8xing/starling_rhythm_mfdfa/data/s_b1515_23/raw/s_b1515_23_2023-03-24__1311_stim_g0__2085895_2117375.wav\n",
      "Saving /mnt/cube/j8xing/starling_rhythm_mfdfa/data/s_b1515_23/raw/s_b1515_23_2023-03-24__1311_stim_g0__5122939_5154234.wav\n",
      "Saving /mnt/cube/j8xing/starling_rhythm_mfdfa/data/s_b1515_23/raw/s_b1515_23_2023-03-24__1311_stim_g0__2189310_2220515.wav\n",
      "Saving /mnt/cube/j8xing/starling_rhythm_mfdfa/data/s_b1515_23/raw/s_b1515_23_2023-03-24__0754_con_g0__541150_572350.wav\n",
      "Saving /mnt/cube/j8xing/starling_rhythm_mfdfa/data/s_b1515_23/raw/s_b1515_23_2023-03-24__1311_stim_g0__5014799_5045779.wav\n",
      "Saving /mnt/cube/j8xing/starling_rhythm_mfdfa/data/s_b1515_23/raw/s_b1515_23_2023-03-24__1311_stim_g0__7648484_7679374.wav\n"
     ]
    },
    {
     "name": "stderr",
     "output_type": "stream",
     "text": [
      "\n",
      "Processing each day's bout: 78it [00:03, 27.45it/s]\u001b[A\n",
      "Processing each day's bout: 81it [00:04, 27.48it/s]\u001b[A"
     ]
    },
    {
     "name": "stdout",
     "output_type": "stream",
     "text": [
      "Saving /mnt/cube/j8xing/starling_rhythm_mfdfa/data/s_b1515_23/raw/s_b1515_23_2023-03-24__1311_stim_g0__2129325_2160035.wav\n",
      "Saving /mnt/cube/j8xing/starling_rhythm_mfdfa/data/s_b1515_23/raw/s_b1515_23_2023-03-24__0754_con_g0__40520_71005.wav\n",
      "Saving /mnt/cube/j8xing/starling_rhythm_mfdfa/data/s_b1515_23/raw/s_b1515_23_2023-03-24__1311_stim_g0__4527394_4557859.wav\n",
      "Saving /mnt/cube/j8xing/starling_rhythm_mfdfa/data/s_b1515_23/raw/s_b1515_23_2023-03-24__1311_stim_g0__7003669_7034134.wav\n",
      "Saving /mnt/cube/j8xing/starling_rhythm_mfdfa/data/s_b1515_23/raw/s_b1515_23_2023-03-24__1311_stim_g0__5212984_5243449.wav\n",
      "Saving /mnt/cube/j8xing/starling_rhythm_mfdfa/data/s_b1515_23/raw/s_b1515_23_2023-03-24__1311_stim_g0__5572534_5602994.wav\n"
     ]
    },
    {
     "name": "stderr",
     "output_type": "stream",
     "text": [
      "\n",
      "Processing each day's bout: 85it [00:04, 28.53it/s]\u001b[A\n",
      "Processing each day's bout: 88it [00:04, 28.34it/s]\u001b[A"
     ]
    },
    {
     "name": "stdout",
     "output_type": "stream",
     "text": [
      "Saving /mnt/cube/j8xing/starling_rhythm_mfdfa/data/s_b1515_23/raw/s_b1515_23_2023-03-24__1311_stim_g0__5828059_5858519.wav\n",
      "Saving /mnt/cube/j8xing/starling_rhythm_mfdfa/data/s_b1515_23/raw/s_b1515_23_2023-03-24__1311_stim_g0__5675589_5706049.wav\n",
      "Saving /mnt/cube/j8xing/starling_rhythm_mfdfa/data/s_b1515_23/raw/s_b1515_23_2023-03-24__0754_con_g0__2265373_2295338.wav\n",
      "Saving /mnt/cube/j8xing/starling_rhythm_mfdfa/data/s_b1515_23/raw/s_b1515_23_2023-03-24__0754_con_g0__2045860_2075675.wav\n",
      "Saving /mnt/cube/j8xing/starling_rhythm_mfdfa/data/s_b1515_23/raw/s_b1515_23_2023-03-24__1311_stim_g0__37830_67400.wav\n",
      "Saving /mnt/cube/j8xing/starling_rhythm_mfdfa/data/s_b1515_23/raw/s_b1515_23_2023-03-24__1311_stim_g0__6321804_6351369.wav\n"
     ]
    },
    {
     "name": "stderr",
     "output_type": "stream",
     "text": [
      "\n",
      "Processing each day's bout: 92it [00:04, 30.10it/s]\u001b[A"
     ]
    },
    {
     "name": "stdout",
     "output_type": "stream",
     "text": [
      "Saving /mnt/cube/j8xing/starling_rhythm_mfdfa/data/s_b1515_23/raw/s_b1515_23_2023-03-24__1311_stim_g0__3511929_3541304.wav\n",
      "Saving /mnt/cube/j8xing/starling_rhythm_mfdfa/data/s_b1515_23/raw/s_b1515_23_2023-03-24__1547_g0__14807641_14836906.wav\n",
      "Saving /mnt/cube/j8xing/starling_rhythm_mfdfa/data/s_b1515_23/raw/s_b1515_23_2023-03-24__1311_stim_g0__1289365_1318580.wav\n",
      "Saving /mnt/cube/j8xing/starling_rhythm_mfdfa/data/s_b1515_23/raw/s_b1515_23_2023-03-24__1311_stim_g0__7958289_7987344.wav\n",
      "Saving /mnt/cube/j8xing/starling_rhythm_mfdfa/data/s_b1515_23/raw/s_b1515_23_2023-03-24__0754_con_g0__1738365_1767320.wav\n",
      "Saving /mnt/cube/j8xing/starling_rhythm_mfdfa/data/s_b1515_23/raw/s_b1515_23_2023-03-24__1311_stim_g0__305770_334680.wav\n",
      "Saving /mnt/cube/j8xing/starling_rhythm_mfdfa/data/s_b1515_23/raw/s_b1515_23_2023-03-24__1311_stim_g0__3318109_3346994.wav\n",
      "Saving /mnt/cube/j8xing/starling_rhythm_mfdfa/data/s_b1515_23/raw/s_b1515_23_2023-03-24__1311_stim_g0__4198874_4227759.wav\n"
     ]
    },
    {
     "name": "stderr",
     "output_type": "stream",
     "text": [
      "\n",
      "Processing each day's bout: 96it [00:04, 30.98it/s]\u001b[A\n",
      "Processing each day's bout: 100it [00:04, 30.56it/s]\u001b[A"
     ]
    },
    {
     "name": "stdout",
     "output_type": "stream",
     "text": [
      "Saving /mnt/cube/j8xing/starling_rhythm_mfdfa/data/s_b1515_23/raw/s_b1515_23_2023-03-24__1311_stim_g0__4072629_4101509.wav\n",
      "Saving /mnt/cube/j8xing/starling_rhythm_mfdfa/data/s_b1515_23/raw/s_b1515_23_2023-03-24__1311_stim_g0__4136814_4165694.wav\n",
      "Saving /mnt/cube/j8xing/starling_rhythm_mfdfa/data/s_b1515_23/raw/s_b1515_23_2023-03-24__0754_con_g0__2480083_2508578.wav\n",
      "Saving /mnt/cube/j8xing/starling_rhythm_mfdfa/data/s_b1515_23/raw/s_b1515_23_2023-03-24__1311_stim_g0__4657174_4685589.wav\n",
      "Saving /mnt/cube/j8xing/starling_rhythm_mfdfa/data/s_b1515_23/raw/s_b1515_23_2023-03-24__0754_con_g0__245455_273725.wav\n",
      "Saving /mnt/cube/j8xing/starling_rhythm_mfdfa/data/s_b1515_23/raw/s_b1515_23_2023-03-24__1311_stim_g0__7530584_7558569.wav\n"
     ]
    },
    {
     "name": "stderr",
     "output_type": "stream",
     "text": [
      "\n",
      "Processing each day's bout: 104it [00:04, 31.18it/s]\u001b[A\n",
      "Processing each day's bout: 108it [00:04, 32.38it/s]\u001b[A"
     ]
    },
    {
     "name": "stdout",
     "output_type": "stream",
     "text": [
      "Saving /mnt/cube/j8xing/starling_rhythm_mfdfa/data/s_b1515_23/raw/s_b1515_23_2023-03-24__1311_stim_g0__6174414_6202389.wav\n",
      "Saving /mnt/cube/j8xing/starling_rhythm_mfdfa/data/s_b1515_23/raw/s_b1515_23_2023-03-24__1311_stim_g0__7897019_7924899.wav\n",
      "Saving /mnt/cube/j8xing/starling_rhythm_mfdfa/data/s_b1515_23/raw/s_b1515_23_2023-03-24__1311_stim_g0__7325554_7353309.wav\n",
      "Saving /mnt/cube/j8xing/starling_rhythm_mfdfa/data/s_b1515_23/raw/s_b1515_23_2023-03-24__1311_stim_g0__6711899_6739614.wav\n",
      "Saving /mnt/cube/j8xing/starling_rhythm_mfdfa/data/s_b1515_23/raw/s_b1515_23_2023-03-24__1311_stim_g0__5634589_5662254.wav\n",
      "Saving /mnt/cube/j8xing/starling_rhythm_mfdfa/data/s_b1515_23/raw/s_b1515_23_2023-03-24__1311_stim_g0__6075549_6103214.wav\n",
      "Saving /mnt/cube/j8xing/starling_rhythm_mfdfa/data/s_b1515_23/raw/s_b1515_23_2023-03-24__1311_stim_g0__6509284_6536949.wav\n",
      "Saving /mnt/cube/j8xing/starling_rhythm_mfdfa/data/s_b1515_23/raw/s_b1515_23_2023-03-24__1311_stim_g0__1967020_1994610.wav\n"
     ]
    },
    {
     "name": "stderr",
     "output_type": "stream",
     "text": [
      "\n",
      "Processing each day's bout: 112it [00:05, 31.33it/s]\u001b[A\n",
      "Processing each day's bout: 116it [00:05, 32.25it/s]\u001b[A"
     ]
    },
    {
     "name": "stdout",
     "output_type": "stream",
     "text": [
      "Saving /mnt/cube/j8xing/starling_rhythm_mfdfa/data/s_b1515_23/raw/s_b1515_23_2023-03-24__0754_con_g0__498000_525580.wav\n",
      "Saving /mnt/cube/j8xing/starling_rhythm_mfdfa/data/s_b1515_23/raw/s_b1515_23_2023-03-24__1311_stim_g0__3423164_3450569.wav\n",
      "Saving /mnt/cube/j8xing/starling_rhythm_mfdfa/data/s_b1515_23/raw/s_b1515_23_2023-03-24__1311_stim_g0__1388405_1415310.wav\n",
      "Saving /mnt/cube/j8xing/starling_rhythm_mfdfa/data/s_b1515_23/raw/s_b1515_23_2023-03-24__1311_stim_g0__7744189_7770884.wav\n",
      "Saving /mnt/cube/j8xing/starling_rhythm_mfdfa/data/s_b1515_23/raw/s_b1515_23_2023-03-24__0754_con_g0__1701050_1727610.wav\n",
      "Saving /mnt/cube/j8xing/starling_rhythm_mfdfa/data/s_b1515_23/raw/s_b1515_23_2023-03-24__1311_stim_g0__5529829_5555924.wav\n",
      "Saving /mnt/cube/j8xing/starling_rhythm_mfdfa/data/s_b1515_23/raw/s_b1515_23_2023-03-24__1311_stim_g0__4974759_5000629.wav\n"
     ]
    },
    {
     "name": "stderr",
     "output_type": "stream",
     "text": [
      "\n",
      "Processing each day's bout: 121it [00:05, 34.43it/s]\u001b[A"
     ]
    },
    {
     "name": "stdout",
     "output_type": "stream",
     "text": [
      "Saving /mnt/cube/j8xing/starling_rhythm_mfdfa/data/s_b1515_23/raw/s_b1515_23_2023-03-24__1311_stim_g0__5437699_5462629.wav\n",
      "Saving /mnt/cube/j8xing/starling_rhythm_mfdfa/data/s_b1515_23/raw/s_b1515_23_2023-03-24__1311_stim_g0__3602364_3626754.wav\n",
      "Saving /mnt/cube/j8xing/starling_rhythm_mfdfa/data/s_b1515_23/raw/s_b1515_23_2023-03-24__1311_stim_g0__1446465_1470665.wav\n",
      "Saving /mnt/cube/j8xing/starling_rhythm_mfdfa/data/s_b1515_23/raw/s_b1515_23_2023-03-24__0754_con_g0__2144673_2168778.wav\n",
      "Saving /mnt/cube/j8xing/starling_rhythm_mfdfa/data/s_b1515_23/raw/s_b1515_23_2023-03-24__1311_stim_g0__5926564_5950169.wav\n",
      "Saving /mnt/cube/j8xing/starling_rhythm_mfdfa/data/s_b1515_23/raw/s_b1515_23_2023-03-24__1311_stim_g0__6266589_6290194.wav\n",
      "Saving /mnt/cube/j8xing/starling_rhythm_mfdfa/data/s_b1515_23/raw/s_b1515_23_2023-03-24__1311_stim_g0__6020424_6043989.wav\n",
      "Saving /mnt/cube/j8xing/starling_rhythm_mfdfa/data/s_b1515_23/raw/s_b1515_23_2023-03-24__1311_stim_g0__2518869_2542419.wav\n"
     ]
    },
    {
     "name": "stderr",
     "output_type": "stream",
     "text": [
      "\n",
      "Processing each day's bout: 125it [00:05, 33.46it/s]\u001b[A\n",
      "Processing each day's bout: 129it [00:05, 34.46it/s]\u001b[A"
     ]
    },
    {
     "name": "stdout",
     "output_type": "stream",
     "text": [
      "Saving /mnt/cube/j8xing/starling_rhythm_mfdfa/data/s_b1515_23/raw/s_b1515_23_2023-03-24__1311_stim_g0__6754389_6777904.wav\n",
      "Saving /mnt/cube/j8xing/starling_rhythm_mfdfa/data/s_b1515_23/raw/s_b1515_23_2023-03-24__0754_con_g0__1362225_1385500.wav\n",
      "Saving /mnt/cube/j8xing/starling_rhythm_mfdfa/data/s_b1515_23/raw/s_b1515_23_2023-03-24__1311_stim_g0__99060_122295.wav\n",
      "Saving /mnt/cube/j8xing/starling_rhythm_mfdfa/data/s_b1515_23/raw/s_b1515_23_2023-03-24__1311_stim_g0__2400119_2422774.wav\n",
      "Saving /mnt/cube/j8xing/starling_rhythm_mfdfa/data/s_b1515_23/raw/s_b1515_23_2023-03-24__1311_stim_g0__154465_176505.wav\n",
      "Saving /mnt/cube/j8xing/starling_rhythm_mfdfa/data/s_b1515_23/raw/s_b1515_23_2023-03-24__0754_con_g0__1453160_1475005.wav\n",
      "Saving /mnt/cube/j8xing/starling_rhythm_mfdfa/data/s_b1515_23/raw/s_b1515_23_2023-03-24__1311_stim_g0__3988884_4010299.wav\n",
      "Saving /mnt/cube/j8xing/starling_rhythm_mfdfa/data/s_b1515_23/raw/s_b1515_23_2023-03-24__1311_stim_g0__5765024_5786359.wav\n"
     ]
    },
    {
     "name": "stderr",
     "output_type": "stream",
     "text": [
      "\n",
      "Processing each day's bout: 133it [00:05, 35.54it/s]\u001b[A\n",
      "Processing each day's bout: 137it [00:05, 36.02it/s]\u001b[A"
     ]
    },
    {
     "name": "stdout",
     "output_type": "stream",
     "text": [
      "Saving /mnt/cube/j8xing/starling_rhythm_mfdfa/data/s_b1515_23/raw/s_b1515_23_2023-03-24__1311_stim_g0__3356154_3377444.wav\n",
      "Saving /mnt/cube/j8xing/starling_rhythm_mfdfa/data/s_b1515_23/raw/s_b1515_23_2023-03-24__1311_stim_g0__6781114_6802184.wav\n",
      "Saving /mnt/cube/j8xing/starling_rhythm_mfdfa/data/s_b1515_23/raw/s_b1515_23_2023-03-24__0754_con_g0__591285_612155.wav\n",
      "Saving /mnt/cube/j8xing/starling_rhythm_mfdfa/data/s_b1515_23/raw/s_b1515_23_2023-03-24__1311_stim_g0__223475_243740.wav\n",
      "Saving /mnt/cube/j8xing/starling_rhythm_mfdfa/data/s_b1515_23/raw/s_b1515_23_2023-03-24__1311_stim_g0__4494394_4514099.wav\n",
      "Saving /mnt/cube/j8xing/starling_rhythm_mfdfa/data/s_b1515_23/raw/s_b1515_23_2023-03-24__1311_stim_g0__2369574_2389174.wav\n",
      "Saving /mnt/cube/j8xing/starling_rhythm_mfdfa/data/s_b1515_23/raw/s_b1515_23_2023-03-24__1311_stim_g0__2431014_2449119.wav\n",
      "Saving /mnt/cube/j8xing/starling_rhythm_mfdfa/data/s_b1515_23/raw/s_b1515_23_2023-03-24__1311_stim_g0__1175550_1193235.wav\n",
      "Saving /mnt/cube/j8xing/starling_rhythm_mfdfa/data/s_b1515_23/raw/s_b1515_23_2023-03-24__1311_stim_g0__4320964_4338649.wav\n"
     ]
    },
    {
     "name": "stderr",
     "output_type": "stream",
     "text": [
      "\n",
      "Processing each day's bout: 143it [00:05, 40.81it/s]\u001b[A\n",
      "Processing each day's bout: 149it [00:05, 44.74it/s]\u001b[A"
     ]
    },
    {
     "name": "stdout",
     "output_type": "stream",
     "text": [
      "Saving /mnt/cube/j8xing/starling_rhythm_mfdfa/data/s_b1515_23/raw/s_b1515_23_2023-03-24__0754_con_g0__1034135_1051605.wav\n",
      "Saving /mnt/cube/j8xing/starling_rhythm_mfdfa/data/s_b1515_23/raw/s_b1515_23_2023-03-24__0754_con_g0__1417605_1435045.wav\n",
      "Saving /mnt/cube/j8xing/starling_rhythm_mfdfa/data/s_b1515_23/raw/s_b1515_23_2023-03-24__0754_con_g0__2459703_2476523.wav\n",
      "Saving /mnt/cube/j8xing/starling_rhythm_mfdfa/data/s_b1515_23/raw/s_b1515_23_2023-03-24__1311_stim_g0__4020139_4036674.wav\n",
      "Saving /mnt/cube/j8xing/starling_rhythm_mfdfa/data/s_b1515_23/raw/s_b1515_23_2023-03-24__0754_con_g0__4676801_4693151.wav\n",
      "Saving /mnt/cube/j8xing/starling_rhythm_mfdfa/data/s_b1515_23/raw/s_b1515_23_2023-03-24__1311_stim_g0__3266754_3283034.wav\n",
      "Saving /mnt/cube/j8xing/starling_rhythm_mfdfa/data/s_b1515_23/raw/s_b1515_23_2023-03-24__1311_stim_g0__5796529_5812809.wav\n",
      "Saving /mnt/cube/j8xing/starling_rhythm_mfdfa/data/s_b1515_23/raw/s_b1515_23_2023-03-24__1311_stim_g0__4887414_4903694.wav\n",
      "Saving /mnt/cube/j8xing/starling_rhythm_mfdfa/data/s_b1515_23/raw/s_b1515_23_2023-03-24__1311_stim_g0__4276494_4292674.wav\n",
      "Saving /mnt/cube/j8xing/starling_rhythm_mfdfa/data/s_b1515_23/raw/s_b1515_23_2023-03-24__0754_con_g0__1555345_1571385.wav\n",
      "Saving /mnt/cube/j8xing/starling_rhythm_mfdfa/data/s_b1515_23/raw/s_b1515_23_2023-03-24__0754_con_g0__1293485_1309160.wav\n"
     ]
    },
    {
     "name": "stderr",
     "output_type": "stream",
     "text": [
      "\n",
      "Processing each day's bout: 155it [00:06, 47.88it/s]\u001b[A\n",
      "Processing each day's bout: 160it [00:06, 46.99it/s]\u001b[A"
     ]
    },
    {
     "name": "stdout",
     "output_type": "stream",
     "text": [
      "Saving /mnt/cube/j8xing/starling_rhythm_mfdfa/data/s_b1515_23/raw/s_b1515_23_2023-03-24__0754_con_g0__5464526_5480136.wav\n",
      "Saving /mnt/cube/j8xing/starling_rhythm_mfdfa/data/s_b1515_23/raw/s_b1515_23_2023-03-24__1311_stim_g0__6056784_6071919.wav\n",
      "Saving /mnt/cube/j8xing/starling_rhythm_mfdfa/data/s_b1515_23/raw/s_b1515_23_2023-03-24__0754_con_g0__1274875_1289945.wav\n",
      "Saving /mnt/cube/j8xing/starling_rhythm_mfdfa/data/s_b1515_23/raw/s_b1515_23_2023-03-24__1547_g0__13064901_13079591.wav\n",
      "Saving /mnt/cube/j8xing/starling_rhythm_mfdfa/data/s_b1515_23/raw/s_b1515_23_2023-03-24__1311_stim_g0__1912055_1926320.wav\n",
      "Saving /mnt/cube/j8xing/starling_rhythm_mfdfa/data/s_b1515_23/raw/s_b1515_23_2023-03-24__0754_con_g0__5550711_5564311.wav\n",
      "Saving /mnt/cube/j8xing/starling_rhythm_mfdfa/data/s_b1515_23/raw/s_b1515_23_2023-03-24__0754_con_g0__2589963_2603528.wav\n",
      "Saving /mnt/cube/j8xing/starling_rhythm_mfdfa/data/s_b1515_23/raw/s_b1515_23_2023-03-24__0754_con_g0__4080203_4093558.wav\n",
      "Saving /mnt/cube/j8xing/starling_rhythm_mfdfa/data/s_b1515_23/raw/s_b1515_23_2023-03-24__1547_g0__11325454_11338154.wav\n",
      "Saving /mnt/cube/j8xing/starling_rhythm_mfdfa/data/s_b1515_23/raw/s_b1515_23_2023-03-24__1311_stim_g0__3546049_3558669.wav\n"
     ]
    },
    {
     "name": "stderr",
     "output_type": "stream",
     "text": [
      "\n",
      "Processing each day's bout: 166it [00:06, 49.78it/s]\u001b[A\n",
      "Processing each day's bout: 174it [00:06, 56.82it/s]\u001b[A"
     ]
    },
    {
     "name": "stdout",
     "output_type": "stream",
     "text": [
      "Saving /mnt/cube/j8xing/starling_rhythm_mfdfa/data/s_b1515_23/raw/s_b1515_23_2023-03-24__1311_stim_g0__4253664_4266219.wav\n",
      "Saving /mnt/cube/j8xing/starling_rhythm_mfdfa/data/s_b1515_23/raw/s_b1515_23_2023-03-24__1311_stim_g0__1929805_1941800.wav\n",
      "Saving /mnt/cube/j8xing/starling_rhythm_mfdfa/data/s_b1515_23/raw/s_b1515_23_2023-03-24__1311_stim_g0__672630_684315.wav\n",
      "Saving /mnt/cube/j8xing/starling_rhythm_mfdfa/data/s_b1515_23/raw/s_b1515_23_2023-03-24__1311_stim_g0__4120894_4132329.wav\n",
      "Saving /mnt/cube/j8xing/starling_rhythm_mfdfa/data/s_b1515_23/raw/s_b1515_23_2023-03-24__0754_con_g0__1347845_1358855.wav\n",
      "Saving /mnt/cube/j8xing/starling_rhythm_mfdfa/data/s_b1515_23/raw/s_b1515_23_2023-03-24__1311_stim_g0__1274420_1284925.wav\n",
      "Saving /mnt/cube/j8xing/starling_rhythm_mfdfa/data/s_b1515_23/raw/s_b1515_23_2023-03-24__1311_stim_g0__2070965_2081455.wav\n",
      "Saving /mnt/cube/j8xing/starling_rhythm_mfdfa/data/s_b1515_23/raw/s_b1515_23_2023-03-24__1311_stim_g0__7635119_7645339.wav\n",
      "Saving /mnt/cube/j8xing/starling_rhythm_mfdfa/data/s_b1515_23/raw/s_b1515_23_2023-03-24__1311_stim_g0__3303864_3313669.wav\n",
      "Saving /mnt/cube/j8xing/starling_rhythm_mfdfa/data/s_b1515_23/raw/s_b1515_23_2023-03-24__1311_stim_g0__4184629_4194434.wav\n",
      "Saving /mnt/cube/j8xing/starling_rhythm_mfdfa/data/s_b1515_23/raw/s_b1515_23_2023-03-24__1311_stim_g0__4058379_4068184.wav\n",
      "Saving /mnt/cube/j8xing/starling_rhythm_mfdfa/data/s_b1515_23/raw/s_b1515_23_2023-03-24__1311_stim_g0__23585_33385.wav\n",
      "Saving /mnt/cube/j8xing/starling_rhythm_mfdfa/data/s_b1515_23/raw/s_b1515_23_2023-03-24__1311_stim_g0__277340_287090.wav\n",
      "Saving /mnt/cube/j8xing/starling_rhythm_mfdfa/data/s_b1515_23/raw/s_b1515_23_2023-03-24__1311_stim_g0__4931809_4941399.wav\n",
      "Saving /mnt/cube/j8xing/starling_rhythm_mfdfa/data/s_b1515_23/raw/s_b1515_23_2023-03-24__1311_stim_g0__895545_904475.wav\n"
     ]
    },
    {
     "name": "stderr",
     "output_type": "stream",
     "text": [
      "\n",
      "Processing each day's bout: 181it [00:06, 58.92it/s]\u001b[A\n",
      "Processing each day's bout: 190it [00:06, 66.22it/s]\u001b[A"
     ]
    },
    {
     "name": "stdout",
     "output_type": "stream",
     "text": [
      "Saving /mnt/cube/j8xing/starling_rhythm_mfdfa/data/s_b1515_23/raw/s_b1515_23_2023-03-24__0754_con_g0__5581331_5590161.wav\n",
      "Saving /mnt/cube/j8xing/starling_rhythm_mfdfa/data/s_b1515_23/raw/s_b1515_23_2023-03-24__1311_stim_g0__5495219_5503809.wav\n",
      "Saving /mnt/cube/j8xing/starling_rhythm_mfdfa/data/s_b1515_23/raw/s_b1515_23_2023-03-24__1547_g0__11688889_11697299.wav\n",
      "Saving /mnt/cube/j8xing/starling_rhythm_mfdfa/data/s_b1515_23/raw/s_b1515_23_2023-03-24__1547_g0__11703629_11711659.wav\n",
      "Saving /mnt/cube/j8xing/starling_rhythm_mfdfa/data/s_b1515_23/raw/s_b1515_23_2023-03-24__1547_g0__11667029_11674499.wav\n",
      "Saving /mnt/cube/j8xing/starling_rhythm_mfdfa/data/s_b1515_23/raw/s_b1515_23_2023-03-24__1311_stim_g0__5483424_5490799.wav\n",
      "Saving /mnt/cube/j8xing/starling_rhythm_mfdfa/data/s_b1515_23/raw/s_b1515_23_2023-03-24__1547_g0__15157406_15164571.wav\n",
      "Saving /mnt/cube/j8xing/starling_rhythm_mfdfa/data/s_b1515_23/raw/s_b1515_23_2023-03-24__0754_con_g0__4021243_4028278.wav\n",
      "Saving /mnt/cube/j8xing/starling_rhythm_mfdfa/data/s_b1515_23/raw/s_b1515_23_2023-03-24__1311_stim_g0__2239100_2245790.wav\n",
      "Saving /mnt/cube/j8xing/starling_rhythm_mfdfa/data/s_b1515_23/raw/s_b1515_23_2023-03-24__1311_stim_g0__144100_150190.wav\n",
      "Saving /mnt/cube/j8xing/starling_rhythm_mfdfa/data/s_b1515_23/raw/s_b1515_23_2023-03-24__0754_con_g0__1978210_1984260.wav\n",
      "Saving /mnt/cube/j8xing/starling_rhythm_mfdfa/data/s_b1515_23/raw/s_b1515_23_2023-03-24__0754_con_g0__1495455_1501020.wav\n",
      "Saving /mnt/cube/j8xing/starling_rhythm_mfdfa/data/s_b1515_23/raw/s_b1515_23_2023-03-24__1547_g0__14919546_14924981.wav\n",
      "Saving /mnt/cube/j8xing/starling_rhythm_mfdfa/data/s_b1515_23/raw/s_b1515_23_2023-03-24__1311_stim_g0__2360664_2365849.wav\n",
      "Saving /mnt/cube/j8xing/starling_rhythm_mfdfa/data/s_b1515_23/raw/s_b1515_23_2023-03-24__1547_g0__10821786_10826136.wav\n",
      "Saving /mnt/cube/j8xing/starling_rhythm_mfdfa/data/s_b1515_23/raw/s_b1515_23_2023-03-24__1311_stim_g0__2180955_2185160.wav\n",
      "Saving /mnt/cube/j8xing/starling_rhythm_mfdfa/data/s_b1515_23/raw/s_b1515_23_2023-03-24__0754_con_g0__5734146_5738276.wav\n",
      "Saving /mnt/cube/j8xing/starling_rhythm_mfdfa/data/s_b1515_23/raw/s_b1515_23_2023-03-24__1311_stim_g0__1693370_1697035.wav\n"
     ]
    },
    {
     "name": "stderr",
     "output_type": "stream",
     "text": [
      "Processing each day's bout: 200it [00:06, 29.96it/s]\n",
      "Processing each day: 100%|██████████| 1/1 [00:14<00:00, 14.06s/it]"
     ]
    },
    {
     "name": "stdout",
     "output_type": "stream",
     "text": [
      "Saving /mnt/cube/j8xing/starling_rhythm_mfdfa/data/s_b1515_23/raw/s_b1515_23_2023-03-24__1547_g0__20608280_20611880.wav\n",
      "Saving /mnt/cube/j8xing/starling_rhythm_mfdfa/data/s_b1515_23/raw/s_b1515_23_2023-03-24__0754_con_g0__2611018_2614333.wav\n",
      "Saving /mnt/cube/j8xing/starling_rhythm_mfdfa/data/s_b1515_23/raw/s_b1515_23_2023-03-24__1311_stim_g0__1331120_1334365.wav\n",
      "Saving /mnt/cube/j8xing/starling_rhythm_mfdfa/data/s_b1515_23/raw/s_b1515_23_2023-03-24__1311_stim_g0__2174085_2177110.wav\n"
     ]
    },
    {
     "name": "stderr",
     "output_type": "stream",
     "text": [
      "\n"
     ]
    }
   ],
   "source": [
    "## For every pickle path\n",
    "for pickle in tqdm(pickle_paths, desc = 'Processing each day'):\n",
    "    \n",
    "    ## load in the pickle\n",
    "    bouts = pd.read_pickle(pickle)\n",
    "    ## filter out calls\n",
    "    bouts = bouts[bouts['is_call'] != True] ## not calls\n",
    "    bouts = bouts[bouts['bout_check'] == True] ## yes, bout checked\n",
    "    bouts = bouts[bouts['confusing'] != True] ## not confusing\n",
    "    \n",
    "    ## for each bout, find its audio, and construct its name\n",
    "    for i, row in tqdm(bouts.iterrows(), desc = \"Processing each day's bout\"):\n",
    "        data = row.waveform\n",
    "        \n",
    "        ## CONVENTION: bID_YYYY-MM-DD_TYPE_STRT_END.wav\n",
    "        ymd = str(pickle).split('/')[6]\n",
    "        song_type = row.file.split('/')[8]\n",
    "        strt = str(row.start_ms)\n",
    "        end = str(row.end_ms)\n",
    "        \n",
    "        filename = bID + '_' + ymd + '__' + song_type + '__' + strt + '_' + end + str('.wav')\n",
    "        filename = PROCESSED_DIR / bID / 'raw' / filename\n",
    "        \n",
    "        ensure_dir(filename)\n",
    "        \n",
    "        print('Saving ' + str(filename))\n",
    "        \n",
    "        wav.write(filename = filename, rate = rate, data = data)"
   ]
  },
  {
   "cell_type": "code",
   "execution_count": null,
   "id": "3bcec7c9",
   "metadata": {},
   "outputs": [],
   "source": []
  }
 ],
 "metadata": {
  "kernelspec": {
   "display_name": "starling_rhythm",
   "language": "python",
   "name": "starling_rhythm"
  },
  "language_info": {
   "codemirror_mode": {
    "name": "ipython",
    "version": 3
   },
   "file_extension": ".py",
   "mimetype": "text/x-python",
   "name": "python",
   "nbconvert_exporter": "python",
   "pygments_lexer": "ipython3",
   "version": "3.10.10"
  }
 },
 "nbformat": 4,
 "nbformat_minor": 5
}
