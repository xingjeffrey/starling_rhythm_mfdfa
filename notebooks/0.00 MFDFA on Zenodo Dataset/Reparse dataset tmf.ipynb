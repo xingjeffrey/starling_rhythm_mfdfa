{
 "cells": [
  {
   "cell_type": "markdown",
   "id": "20c22ddb",
   "metadata": {},
   "source": [
    "## Reparse tmf of zenodo dataset"
   ]
  },
  {
   "cell_type": "code",
   "execution_count": 1,
   "id": "4586c408",
   "metadata": {},
   "outputs": [
    {
     "name": "stderr",
     "output_type": "stream",
     "text": [
      "/mnt/cube/j8xing/conda_envs/txori/starling_rhythm/lib/python3.10/site-packages/tqdm/auto.py:22: TqdmWarning: IProgress not found. Please update jupyter and ipywidgets. See https://ipywidgets.readthedocs.io/en/stable/user_install.html\n",
      "  from .autonotebook import tqdm as notebook_tqdm\n"
     ]
    }
   ],
   "source": [
    "from starling_rhythm.mfdfa import tmf\n",
    "from starling_rhythm.utils.paths import PROCESSED_DIR\n",
    "from starling_rhythm.utils.paths import DATA_DIR"
   ]
  },
  {
   "cell_type": "code",
   "execution_count": 2,
   "id": "d61dfb61",
   "metadata": {},
   "outputs": [],
   "source": [
    "from scipy.io.wavfile import read"
   ]
  },
  {
   "cell_type": "code",
   "execution_count": 3,
   "id": "ba88832a",
   "metadata": {},
   "outputs": [],
   "source": [
    "from pathlib2 import Path\n",
    "from glob import glob"
   ]
  },
  {
   "cell_type": "markdown",
   "id": "4055a75c",
   "metadata": {},
   "source": [
    "## Find all the wavs"
   ]
  },
  {
   "cell_type": "code",
   "execution_count": 4,
   "id": "30f7017b",
   "metadata": {},
   "outputs": [],
   "source": [
    "import pandas as pd\n",
    "import numpy as np"
   ]
  },
  {
   "cell_type": "code",
   "execution_count": 5,
   "id": "9482092d",
   "metadata": {},
   "outputs": [],
   "source": [
    "wav_paths = list(Path(DATA_DIR).rglob(\"20*.wav\"))"
   ]
  },
  {
   "cell_type": "code",
   "execution_count": 6,
   "id": "bb13cfac",
   "metadata": {},
   "outputs": [],
   "source": [
    "wavs = pd.DataFrame(\n",
    "    {\n",
    "        'wavs': wav_paths\n",
    "    }\n",
    ")"
   ]
  },
  {
   "cell_type": "code",
   "execution_count": 7,
   "id": "c041c5fb",
   "metadata": {},
   "outputs": [],
   "source": [
    "bID = []\n",
    "for index, row in wavs.iterrows():\n",
    "    bID.append(str(row['wavs']).split('/')[-3])\n",
    "    \n",
    "wavs['bID'] = bID"
   ]
  },
  {
   "cell_type": "code",
   "execution_count": 8,
   "id": "fb486b63",
   "metadata": {},
   "outputs": [
    {
     "data": {
      "text/plain": [
       "10499"
      ]
     },
     "execution_count": 8,
     "metadata": {},
     "output_type": "execute_result"
    }
   ],
   "source": [
    "len(wavs)"
   ]
  },
  {
   "cell_type": "code",
   "execution_count": 9,
   "id": "da4a3935",
   "metadata": {},
   "outputs": [
    {
     "data": {
      "text/html": [
       "<div>\n",
       "<style scoped>\n",
       "    .dataframe tbody tr th:only-of-type {\n",
       "        vertical-align: middle;\n",
       "    }\n",
       "\n",
       "    .dataframe tbody tr th {\n",
       "        vertical-align: top;\n",
       "    }\n",
       "\n",
       "    .dataframe thead th {\n",
       "        text-align: right;\n",
       "    }\n",
       "</style>\n",
       "<table border=\"1\" class=\"dataframe\">\n",
       "  <thead>\n",
       "    <tr style=\"text-align: right;\">\n",
       "      <th></th>\n",
       "      <th>wavs</th>\n",
       "      <th>bID</th>\n",
       "    </tr>\n",
       "  </thead>\n",
       "  <tbody>\n",
       "    <tr>\n",
       "      <th>0</th>\n",
       "      <td>/mnt/cube/Datasets/public_ds_starlings_ts_2019...</td>\n",
       "      <td>b1053</td>\n",
       "    </tr>\n",
       "    <tr>\n",
       "      <th>1</th>\n",
       "      <td>/mnt/cube/Datasets/public_ds_starlings_ts_2019...</td>\n",
       "      <td>b1053</td>\n",
       "    </tr>\n",
       "    <tr>\n",
       "      <th>2</th>\n",
       "      <td>/mnt/cube/Datasets/public_ds_starlings_ts_2019...</td>\n",
       "      <td>b1053</td>\n",
       "    </tr>\n",
       "    <tr>\n",
       "      <th>3</th>\n",
       "      <td>/mnt/cube/Datasets/public_ds_starlings_ts_2019...</td>\n",
       "      <td>b1053</td>\n",
       "    </tr>\n",
       "    <tr>\n",
       "      <th>4</th>\n",
       "      <td>/mnt/cube/Datasets/public_ds_starlings_ts_2019...</td>\n",
       "      <td>b1053</td>\n",
       "    </tr>\n",
       "  </tbody>\n",
       "</table>\n",
       "</div>"
      ],
      "text/plain": [
       "                                                wavs    bID\n",
       "0  /mnt/cube/Datasets/public_ds_starlings_ts_2019...  b1053\n",
       "1  /mnt/cube/Datasets/public_ds_starlings_ts_2019...  b1053\n",
       "2  /mnt/cube/Datasets/public_ds_starlings_ts_2019...  b1053\n",
       "3  /mnt/cube/Datasets/public_ds_starlings_ts_2019...  b1053\n",
       "4  /mnt/cube/Datasets/public_ds_starlings_ts_2019...  b1053"
      ]
     },
     "execution_count": 9,
     "metadata": {},
     "output_type": "execute_result"
    }
   ],
   "source": [
    "wavs.head()"
   ]
  },
  {
   "cell_type": "code",
   "execution_count": 10,
   "id": "b58a614e",
   "metadata": {},
   "outputs": [
    {
     "data": {
      "text/plain": [
       "array(['B335', 'B336', 'B337', 'B338', 'b1053', 'b1060', 'b1066', 'b1076',\n",
       "       'b1077', 'b1125', 'b1143', 'b1145', 'b1159', 'b1160'], dtype=object)"
      ]
     },
     "execution_count": 10,
     "metadata": {},
     "output_type": "execute_result"
    }
   ],
   "source": [
    "np.unique(wavs.bID)"
   ]
  },
  {
   "cell_type": "markdown",
   "id": "cad5621a",
   "metadata": {},
   "source": [
    "## Goals\n",
    "Calculate white noise mean  \n",
    "Calculate empirical tmf, get their p values  "
   ]
  },
  {
   "cell_type": "code",
   "execution_count": 11,
   "id": "6aeb9d7e",
   "metadata": {},
   "outputs": [],
   "source": [
    "from joblib import Parallel, delayed\n",
    "from tqdm.autonotebook import tqdm"
   ]
  },
  {
   "cell_type": "code",
   "execution_count": 12,
   "id": "e7b4c8fa",
   "metadata": {},
   "outputs": [],
   "source": [
    "import psutil\n",
    "psutil.Process().nice(19)# if on *ux"
   ]
  },
  {
   "cell_type": "code",
   "execution_count": 13,
   "id": "fcccb77d",
   "metadata": {},
   "outputs": [],
   "source": [
    "n_jobs = 42\n",
    "verbose = 0"
   ]
  },
  {
   "cell_type": "code",
   "execution_count": 14,
   "id": "d3671263",
   "metadata": {},
   "outputs": [
    {
     "name": "stderr",
     "output_type": "stream",
     "text": [
      "getting all the real ones:   1%|          | 126/10499 [04:26<7:36:03,  2.64s/it]/mnt/cube/j8xing/conda_envs/txori/starling_rhythm/lib/python3.10/site-packages/joblib/externals/loky/process_executor.py:702: UserWarning: A worker stopped while some jobs were given to the executor. This can be caused by a too short worker timeout or by a memory leak.\n",
      "  warnings.warn(\n",
      "getting all the real ones: 100%|██████████| 10499/10499 [13:15:19<00:00,  4.55s/it] \n"
     ]
    }
   ],
   "source": [
    "with Parallel(n_jobs = n_jobs, verbose = verbose) as parallel:\n",
    "    tmfs = parallel(\n",
    "        delayed(tmf)(\n",
    "            address,\n",
    "            ns = 32,\n",
    "            amp_env_sr = 200,\n",
    "            return_p = True\n",
    "        )\n",
    "        for address in tqdm(wavs['wavs'], desc = 'getting all the real ones')\n",
    "    )"
   ]
  },
  {
   "cell_type": "code",
   "execution_count": 15,
   "id": "69663e7c",
   "metadata": {},
   "outputs": [],
   "source": [
    "tmfs, ps = zip(*tmfs)"
   ]
  },
  {
   "cell_type": "code",
   "execution_count": 16,
   "id": "1a148521",
   "metadata": {
    "scrolled": true
   },
   "outputs": [],
   "source": [
    "wavs['tmf'] = tmfs\n",
    "wavs['ps'] = ps"
   ]
  },
  {
   "cell_type": "code",
   "execution_count": 17,
   "id": "1511e9ac",
   "metadata": {},
   "outputs": [],
   "source": [
    "from starling_rhythm.utils.paths import PROCESSED_DIR, ensure_dir\n",
    "SAVE_PATH = PROCESSED_DIR / 'starling_zenodo_2019_revised.pickle'\n",
    "ensure_dir(SAVE_PATH)"
   ]
  },
  {
   "cell_type": "code",
   "execution_count": 18,
   "id": "4f39037f",
   "metadata": {},
   "outputs": [],
   "source": [
    "wavs.to_pickle(SAVE_PATH)"
   ]
  }
 ],
 "metadata": {
  "kernelspec": {
   "display_name": "starling_rhythm",
   "language": "python",
   "name": "starling_rhythm"
  },
  "language_info": {
   "codemirror_mode": {
    "name": "ipython",
    "version": 3
   },
   "file_extension": ".py",
   "mimetype": "text/x-python",
   "name": "python",
   "nbconvert_exporter": "python",
   "pygments_lexer": "ipython3",
   "version": "3.10.10"
  }
 },
 "nbformat": 4,
 "nbformat_minor": 5
}
