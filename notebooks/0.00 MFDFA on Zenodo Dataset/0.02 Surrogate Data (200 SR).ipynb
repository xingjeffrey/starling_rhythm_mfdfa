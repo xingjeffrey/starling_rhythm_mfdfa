{
 "cells": [
  {
   "cell_type": "markdown",
   "id": "f307d59f",
   "metadata": {},
   "source": [
    "# Get MF-DFA on Surrogate Data\n",
    "#### Date: 9/07/2022, JX\n",
    "> Make IAAFT and get surrogate data on /mnt/cube/j8xing/starling_rhythm_mfdfa/data/starling_zenodo_2019_amp_envs_MF.pickle"
   ]
  },
  {
   "cell_type": "code",
   "execution_count": 1,
   "id": "3459099c",
   "metadata": {},
   "outputs": [],
   "source": [
    "from starling_rhythm.utils.paths import PROCESSED_DIR"
   ]
  },
  {
   "cell_type": "markdown",
   "id": "7351cfa1",
   "metadata": {},
   "source": [
    "## Import dataframe"
   ]
  },
  {
   "cell_type": "code",
   "execution_count": 2,
   "id": "30da70ca",
   "metadata": {},
   "outputs": [],
   "source": [
    "import pandas as pd"
   ]
  },
  {
   "cell_type": "code",
   "execution_count": 3,
   "id": "4a31cd8f",
   "metadata": {},
   "outputs": [],
   "source": [
    "SAVE_PATH = PROCESSED_DIR / 'starling_zenodo_2019_amp_envs_MF200.pickle'\n",
    "ae_df = pd.read_pickle(SAVE_PATH)"
   ]
  },
  {
   "cell_type": "markdown",
   "id": "f2ce2be8",
   "metadata": {},
   "source": [
    "## Generate IAAFT Surrogates\n",
    "> 1. Store the amplitude spectrum (list of amplitudes corresponding to each frequency of a FT)\n",
    "2. Randomized the series (build randomized phase spectrum)\n",
    "3. Replace the amplitude spectrum in the randomized series with stored amplitude spectrum using inverse FT\n",
    "4. Replace the rank-order value of iFT with ranked-ordered matches in the original series\n",
    "5. Reiterate steps 2-4 until difference between empirical amplitude spectra and surrogate is less than 5 percent. \n",
    "## Retrieve Sampling Distribution of MF_range for each amplitude envelope\n",
    "> Use surrogate count of 32 for $\\alpha$ = 0.05, effect size = 0.5, power = 0.5 (See Kelty-Stephen et al. 2022)"
   ]
  },
  {
   "cell_type": "code",
   "execution_count": 4,
   "id": "364595f1",
   "metadata": {},
   "outputs": [
    {
     "name": "stderr",
     "output_type": "stream",
     "text": [
      "/home/AD/j8xing/anaconda3/envs/starling_rhythm/lib/python3.10/site-packages/tqdm/auto.py:22: TqdmWarning: IProgress not found. Please update jupyter and ipywidgets. See https://ipywidgets.readthedocs.io/en/stable/user_install.html\n",
      "  from .autonotebook import tqdm as notebook_tqdm\n"
     ]
    }
   ],
   "source": [
    "import starling_rhythm.iaaft as iaaft\n",
    "from starling_rhythm.mfdfa import hurst_expo\n",
    "from joblib import Parallel, delayed\n",
    "from timeit import timeit\n",
    "from tqdm.autonotebook import tqdm"
   ]
  },
  {
   "cell_type": "code",
   "execution_count": 5,
   "id": "bb0e33c0",
   "metadata": {},
   "outputs": [],
   "source": [
    "def SDoMF_iaaft(amp_env, ns = 32):\n",
    "    '''\n",
    "    For each amplitude envelope, find some number of its surrogates, and find MF_range for all surrogates\n",
    "    '''\n",
    "    \n",
    "    ## calculate its surrogates\n",
    "    surrogates = iaaft.surrogates(amp_env, ns = ns, maxiter = 10000, verbose = False)\n",
    "    \n",
    "    ## container for SDoMF_iaaft\n",
    "    SDoMF = []\n",
    "    \n",
    "    ## find all the Hurst exponents of all the surrogates\n",
    "    for surrogate in surrogates:\n",
    "        ## Output Hs for each surrogate\n",
    "        h_expos = hurst_expo(surrogate)\n",
    "        SDoMF.append(max(h_expos) - min(h_expos))\n",
    "            \n",
    "    return SDoMF"
   ]
  },
  {
   "cell_type": "code",
   "execution_count": 6,
   "id": "2111856f",
   "metadata": {},
   "outputs": [],
   "source": [
    "n_jobs = 36 ## set up joblib parameters\n",
    "verbose = 0"
   ]
  },
  {
   "cell_type": "code",
   "execution_count": 7,
   "id": "3155a5a0",
   "metadata": {},
   "outputs": [],
   "source": [
    "import psutil\n",
    "psutil.Process().nice(19)"
   ]
  },
  {
   "cell_type": "code",
   "execution_count": null,
   "id": "5b67e063",
   "metadata": {
    "scrolled": true
   },
   "outputs": [
    {
     "name": "stderr",
     "output_type": "stream",
     "text": [
      "Running Surrogate Data:  34%|███▍      | 3600/10499 [7:33:56<21:58:53, 11.47s/it]"
     ]
    }
   ],
   "source": [
    "with Parallel(n_jobs = n_jobs, verbose = verbose) as parallel:\n",
    "    mf_ranges = parallel(\n",
    "        delayed(SDoMF_iaaft)(\n",
    "            amp_env\n",
    "        )\n",
    "        for amp_env in tqdm(ae_df.amp_env.values, desc = 'Running Surrogate Data')\n",
    "    )"
   ]
  },
  {
   "cell_type": "code",
   "execution_count": null,
   "id": "712f5398",
   "metadata": {},
   "outputs": [],
   "source": [
    "mf_ranges"
   ]
  },
  {
   "cell_type": "code",
   "execution_count": null,
   "id": "bfca9e11",
   "metadata": {},
   "outputs": [],
   "source": [
    "ae_df['mf_iaaft_range'] = mf_ranges"
   ]
  },
  {
   "cell_type": "markdown",
   "id": "f9df5bf3",
   "metadata": {},
   "source": [
    "## Pickle Dataframe"
   ]
  },
  {
   "cell_type": "code",
   "execution_count": null,
   "id": "4a45f5cb",
   "metadata": {},
   "outputs": [],
   "source": [
    "from starling_rhythm.utils.paths import PROCESSED_DIR, ensure_dir"
   ]
  },
  {
   "cell_type": "code",
   "execution_count": null,
   "id": "29f0b67c",
   "metadata": {},
   "outputs": [],
   "source": [
    "SAVE_PATH = PROCESSED_DIR / 'starling_zenodo_2019_amp_envs_MF_IAAFT200_FULL.pickle'\n",
    "ensure_dir(SAVE_PATH)"
   ]
  },
  {
   "cell_type": "code",
   "execution_count": null,
   "id": "601a9e5f",
   "metadata": {},
   "outputs": [],
   "source": [
    "ae_df.to_pickle(SAVE_PATH)"
   ]
  }
 ],
 "metadata": {
  "kernelspec": {
   "display_name": "starling_rhythm",
   "language": "python",
   "name": "starling_rhythm"
  },
  "language_info": {
   "codemirror_mode": {
    "name": "ipython",
    "version": 3
   },
   "file_extension": ".py",
   "mimetype": "text/x-python",
   "name": "python",
   "nbconvert_exporter": "python",
   "pygments_lexer": "ipython3",
   "version": "3.10.4"
  }
 },
 "nbformat": 4,
 "nbformat_minor": 5
}
