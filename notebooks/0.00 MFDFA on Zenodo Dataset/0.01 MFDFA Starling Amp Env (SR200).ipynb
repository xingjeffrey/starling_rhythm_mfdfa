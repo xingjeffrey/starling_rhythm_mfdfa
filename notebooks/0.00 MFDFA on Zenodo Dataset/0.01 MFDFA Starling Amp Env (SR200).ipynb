{
 "cells": [
  {
   "cell_type": "markdown",
   "id": "a5f4744f",
   "metadata": {},
   "source": [
    "# Get MF-DFA on starling amplitude envelope\n",
    "#### Date: 8/31/2022, JX\n",
    "> Use MF-DFA on /mnt/cube/j8xing/starling_rhythm_mfdfa/data/starling_zenodo_2019_amp_envs.pickle"
   ]
  },
  {
   "cell_type": "code",
   "execution_count": 1,
   "id": "c5b70769",
   "metadata": {},
   "outputs": [],
   "source": [
    "from starling_rhythm.utils.paths import PROCESSED_DIR"
   ]
  },
  {
   "cell_type": "markdown",
   "id": "23675c82",
   "metadata": {},
   "source": [
    "## Import dataframe"
   ]
  },
  {
   "cell_type": "code",
   "execution_count": 2,
   "id": "27cff789",
   "metadata": {},
   "outputs": [],
   "source": [
    "import pandas as pd"
   ]
  },
  {
   "cell_type": "code",
   "execution_count": 3,
   "id": "4a3fbca3",
   "metadata": {},
   "outputs": [],
   "source": [
    "SAVE_PATH = PROCESSED_DIR / 'starling_zenodo_2019_amp_envs200.pickle'\n",
    "ae_df = pd.read_pickle(SAVE_PATH)"
   ]
  },
  {
   "cell_type": "code",
   "execution_count": 4,
   "id": "327ad280",
   "metadata": {},
   "outputs": [
    {
     "data": {
      "text/html": [
       "<div>\n",
       "<style scoped>\n",
       "    .dataframe tbody tr th:only-of-type {\n",
       "        vertical-align: middle;\n",
       "    }\n",
       "\n",
       "    .dataframe tbody tr th {\n",
       "        vertical-align: top;\n",
       "    }\n",
       "\n",
       "    .dataframe thead th {\n",
       "        text-align: right;\n",
       "    }\n",
       "</style>\n",
       "<table border=\"1\" class=\"dataframe\">\n",
       "  <thead>\n",
       "    <tr style=\"text-align: right;\">\n",
       "      <th></th>\n",
       "      <th>bID</th>\n",
       "      <th>wav_file</th>\n",
       "      <th>amp_env</th>\n",
       "    </tr>\n",
       "  </thead>\n",
       "  <tbody>\n",
       "    <tr>\n",
       "      <th>0</th>\n",
       "      <td>b1053</td>\n",
       "      <td>2017-11-13_16-29-28-410000.wav</td>\n",
       "      <td>[0.009873399510979652, 0.015623422339558601, 0...</td>\n",
       "    </tr>\n",
       "    <tr>\n",
       "      <th>1</th>\n",
       "      <td>b1053</td>\n",
       "      <td>2017-11-16_15-17-52-520000.wav</td>\n",
       "      <td>[0.0003380597336217761, 0.00034135428722947836...</td>\n",
       "    </tr>\n",
       "    <tr>\n",
       "      <th>2</th>\n",
       "      <td>b1053</td>\n",
       "      <td>2017-11-20_14-15-32-360000.wav</td>\n",
       "      <td>[2.641892910003662, 2.6070051193237305, 2.5947...</td>\n",
       "    </tr>\n",
       "    <tr>\n",
       "      <th>3</th>\n",
       "      <td>b1053</td>\n",
       "      <td>2017-11-20_12-40-56-130000.wav</td>\n",
       "      <td>[3.971318801632151e-05, 3.945435310015455e-05,...</td>\n",
       "    </tr>\n",
       "    <tr>\n",
       "      <th>4</th>\n",
       "      <td>b1053</td>\n",
       "      <td>2017-11-15_15-30-01-000000.wav</td>\n",
       "      <td>[0.005851297173649073, 0.49159008264541626, 1....</td>\n",
       "    </tr>\n",
       "  </tbody>\n",
       "</table>\n",
       "</div>"
      ],
      "text/plain": [
       "     bID                        wav_file  \\\n",
       "0  b1053  2017-11-13_16-29-28-410000.wav   \n",
       "1  b1053  2017-11-16_15-17-52-520000.wav   \n",
       "2  b1053  2017-11-20_14-15-32-360000.wav   \n",
       "3  b1053  2017-11-20_12-40-56-130000.wav   \n",
       "4  b1053  2017-11-15_15-30-01-000000.wav   \n",
       "\n",
       "                                             amp_env  \n",
       "0  [0.009873399510979652, 0.015623422339558601, 0...  \n",
       "1  [0.0003380597336217761, 0.00034135428722947836...  \n",
       "2  [2.641892910003662, 2.6070051193237305, 2.5947...  \n",
       "3  [3.971318801632151e-05, 3.945435310015455e-05,...  \n",
       "4  [0.005851297173649073, 0.49159008264541626, 1....  "
      ]
     },
     "execution_count": 4,
     "metadata": {},
     "output_type": "execute_result"
    }
   ],
   "source": [
    "ae_df.head()"
   ]
  },
  {
   "cell_type": "markdown",
   "id": "6db121f1",
   "metadata": {},
   "source": [
    "## Pull out MF-DFA\n",
    "\n",
    "> 1. Filter time-series to have compact support\n",
    "2. Determine time windows"
   ]
  },
  {
   "cell_type": "code",
   "execution_count": 5,
   "id": "b2292795",
   "metadata": {},
   "outputs": [
    {
     "name": "stderr",
     "output_type": "stream",
     "text": [
      "/home/AD/j8xing/anaconda3/envs/starling_rhythm/lib/python3.10/site-packages/tqdm/auto.py:22: TqdmWarning: IProgress not found. Please update jupyter and ipywidgets. See https://ipywidgets.readthedocs.io/en/stable/user_install.html\n",
      "  from .autonotebook import tqdm as notebook_tqdm\n"
     ]
    }
   ],
   "source": [
    "import numpy as np\n",
    "from starling_rhythm.mfdfa import hurst_expo\n",
    "from joblib import Parallel, delayed\n",
    "from tqdm.autonotebook import tqdm"
   ]
  },
  {
   "cell_type": "code",
   "execution_count": 6,
   "id": "33adc708",
   "metadata": {},
   "outputs": [],
   "source": [
    "n_jobs = 36 ## set up joblib parameters\n",
    "verbose = 0"
   ]
  },
  {
   "cell_type": "code",
   "execution_count": 7,
   "id": "bac1557e",
   "metadata": {},
   "outputs": [
    {
     "name": "stderr",
     "output_type": "stream",
     "text": [
      "Retrieving Hurst Exponents for all Amplitude Envelopes.: 100%|██████████| 10499/10499 [03:02<00:00, 57.42it/s]\n"
     ]
    }
   ],
   "source": [
    "with Parallel(n_jobs = n_jobs, verbose = verbose) as parallel:\n",
    "    h_expos = parallel(\n",
    "        delayed(hurst_expo)(\n",
    "            amp_env\n",
    "        ) \n",
    "        for amp_env in tqdm(ae_df.amp_env.values, desc = \"Retrieving Hurst Exponents for all Amplitude Envelopes.\")\n",
    "    )"
   ]
  },
  {
   "cell_type": "code",
   "execution_count": 8,
   "id": "23850077",
   "metadata": {},
   "outputs": [],
   "source": [
    "## Get MF_range\n",
    "MF_range = []\n",
    "for h_expo in h_expos:\n",
    "    MF_range.append(max(h_expo) - min(h_expo))"
   ]
  },
  {
   "cell_type": "code",
   "execution_count": 9,
   "id": "24636981",
   "metadata": {},
   "outputs": [],
   "source": [
    "ae_df['h_expo'] = h_expos\n",
    "ae_df['MF_range'] = MF_range"
   ]
  },
  {
   "cell_type": "code",
   "execution_count": 10,
   "id": "ac7bb0d6",
   "metadata": {},
   "outputs": [
    {
     "data": {
      "text/html": [
       "<div>\n",
       "<style scoped>\n",
       "    .dataframe tbody tr th:only-of-type {\n",
       "        vertical-align: middle;\n",
       "    }\n",
       "\n",
       "    .dataframe tbody tr th {\n",
       "        vertical-align: top;\n",
       "    }\n",
       "\n",
       "    .dataframe thead th {\n",
       "        text-align: right;\n",
       "    }\n",
       "</style>\n",
       "<table border=\"1\" class=\"dataframe\">\n",
       "  <thead>\n",
       "    <tr style=\"text-align: right;\">\n",
       "      <th></th>\n",
       "      <th>bID</th>\n",
       "      <th>wav_file</th>\n",
       "      <th>amp_env</th>\n",
       "      <th>h_expo</th>\n",
       "      <th>MF_range</th>\n",
       "    </tr>\n",
       "  </thead>\n",
       "  <tbody>\n",
       "    <tr>\n",
       "      <th>0</th>\n",
       "      <td>b1053</td>\n",
       "      <td>2017-11-13_16-29-28-410000.wav</td>\n",
       "      <td>[0.009873399510979652, 0.015623422339558601, 0...</td>\n",
       "      <td>[1.528071866963577, 1.0370111976118286, 0.8437...</td>\n",
       "      <td>1.011097</td>\n",
       "    </tr>\n",
       "    <tr>\n",
       "      <th>1</th>\n",
       "      <td>b1053</td>\n",
       "      <td>2017-11-16_15-17-52-520000.wav</td>\n",
       "      <td>[0.0003380597336217761, 0.00034135428722947836...</td>\n",
       "      <td>[1.1938116698829084, 1.0984076594608625, 1.032...</td>\n",
       "      <td>0.351719</td>\n",
       "    </tr>\n",
       "    <tr>\n",
       "      <th>2</th>\n",
       "      <td>b1053</td>\n",
       "      <td>2017-11-20_14-15-32-360000.wav</td>\n",
       "      <td>[2.641892910003662, 2.6070051193237305, 2.5947...</td>\n",
       "      <td>[1.1806910145575205, 1.0637405119967855, 0.977...</td>\n",
       "      <td>0.426110</td>\n",
       "    </tr>\n",
       "    <tr>\n",
       "      <th>3</th>\n",
       "      <td>b1053</td>\n",
       "      <td>2017-11-20_12-40-56-130000.wav</td>\n",
       "      <td>[3.971318801632151e-05, 3.945435310015455e-05,...</td>\n",
       "      <td>[1.1870676604975956, 1.0644852178050632, 0.983...</td>\n",
       "      <td>0.416832</td>\n",
       "    </tr>\n",
       "    <tr>\n",
       "      <th>4</th>\n",
       "      <td>b1053</td>\n",
       "      <td>2017-11-15_15-30-01-000000.wav</td>\n",
       "      <td>[0.005851297173649073, 0.49159008264541626, 1....</td>\n",
       "      <td>[1.1330045795095076, 1.0547100658878008, 0.984...</td>\n",
       "      <td>0.376517</td>\n",
       "    </tr>\n",
       "    <tr>\n",
       "      <th>...</th>\n",
       "      <td>...</td>\n",
       "      <td>...</td>\n",
       "      <td>...</td>\n",
       "      <td>...</td>\n",
       "      <td>...</td>\n",
       "    </tr>\n",
       "    <tr>\n",
       "      <th>10495</th>\n",
       "      <td>b1145</td>\n",
       "      <td>2017-11-09_13-26-01-740000.wav</td>\n",
       "      <td>[0.0003850629145745188, 0.0003816374228335917,...</td>\n",
       "      <td>[1.180004894319496, 1.0197033102020214, 0.9132...</td>\n",
       "      <td>0.545500</td>\n",
       "    </tr>\n",
       "    <tr>\n",
       "      <th>10496</th>\n",
       "      <td>b1145</td>\n",
       "      <td>2017-11-07_17-30-06-880000.wav</td>\n",
       "      <td>[0.00022515977616421878, 0.0001997244544327259...</td>\n",
       "      <td>[1.2047430508822017, 1.0585859494621113, 0.943...</td>\n",
       "      <td>0.611907</td>\n",
       "    </tr>\n",
       "    <tr>\n",
       "      <th>10497</th>\n",
       "      <td>b1145</td>\n",
       "      <td>2017-11-09_09-34-49-120000.wav</td>\n",
       "      <td>[0.004488207399845123, 1.2879040241241455, 3.4...</td>\n",
       "      <td>[1.28912933912076, 1.1004097813293756, 0.96728...</td>\n",
       "      <td>0.661470</td>\n",
       "    </tr>\n",
       "    <tr>\n",
       "      <th>10498</th>\n",
       "      <td>b1145</td>\n",
       "      <td>2017-11-09_09-26-04-120000.wav</td>\n",
       "      <td>[0.00029243348399177194, 0.0002883640117943287...</td>\n",
       "      <td>[1.260354642359515, 1.0466296263441792, 0.9064...</td>\n",
       "      <td>0.669632</td>\n",
       "    </tr>\n",
       "    <tr>\n",
       "      <th>10499</th>\n",
       "      <td>b1145</td>\n",
       "      <td>2017-11-04_15-00-51-100000.wav</td>\n",
       "      <td>[0.0012021420989185572, 0.0012225217651575804,...</td>\n",
       "      <td>[1.294949268727799, 1.1245458403332544, 1.0228...</td>\n",
       "      <td>0.479904</td>\n",
       "    </tr>\n",
       "  </tbody>\n",
       "</table>\n",
       "<p>10499 rows × 5 columns</p>\n",
       "</div>"
      ],
      "text/plain": [
       "         bID                        wav_file  \\\n",
       "0      b1053  2017-11-13_16-29-28-410000.wav   \n",
       "1      b1053  2017-11-16_15-17-52-520000.wav   \n",
       "2      b1053  2017-11-20_14-15-32-360000.wav   \n",
       "3      b1053  2017-11-20_12-40-56-130000.wav   \n",
       "4      b1053  2017-11-15_15-30-01-000000.wav   \n",
       "...      ...                             ...   \n",
       "10495  b1145  2017-11-09_13-26-01-740000.wav   \n",
       "10496  b1145  2017-11-07_17-30-06-880000.wav   \n",
       "10497  b1145  2017-11-09_09-34-49-120000.wav   \n",
       "10498  b1145  2017-11-09_09-26-04-120000.wav   \n",
       "10499  b1145  2017-11-04_15-00-51-100000.wav   \n",
       "\n",
       "                                                 amp_env  \\\n",
       "0      [0.009873399510979652, 0.015623422339558601, 0...   \n",
       "1      [0.0003380597336217761, 0.00034135428722947836...   \n",
       "2      [2.641892910003662, 2.6070051193237305, 2.5947...   \n",
       "3      [3.971318801632151e-05, 3.945435310015455e-05,...   \n",
       "4      [0.005851297173649073, 0.49159008264541626, 1....   \n",
       "...                                                  ...   \n",
       "10495  [0.0003850629145745188, 0.0003816374228335917,...   \n",
       "10496  [0.00022515977616421878, 0.0001997244544327259...   \n",
       "10497  [0.004488207399845123, 1.2879040241241455, 3.4...   \n",
       "10498  [0.00029243348399177194, 0.0002883640117943287...   \n",
       "10499  [0.0012021420989185572, 0.0012225217651575804,...   \n",
       "\n",
       "                                                  h_expo  MF_range  \n",
       "0      [1.528071866963577, 1.0370111976118286, 0.8437...  1.011097  \n",
       "1      [1.1938116698829084, 1.0984076594608625, 1.032...  0.351719  \n",
       "2      [1.1806910145575205, 1.0637405119967855, 0.977...  0.426110  \n",
       "3      [1.1870676604975956, 1.0644852178050632, 0.983...  0.416832  \n",
       "4      [1.1330045795095076, 1.0547100658878008, 0.984...  0.376517  \n",
       "...                                                  ...       ...  \n",
       "10495  [1.180004894319496, 1.0197033102020214, 0.9132...  0.545500  \n",
       "10496  [1.2047430508822017, 1.0585859494621113, 0.943...  0.611907  \n",
       "10497  [1.28912933912076, 1.1004097813293756, 0.96728...  0.661470  \n",
       "10498  [1.260354642359515, 1.0466296263441792, 0.9064...  0.669632  \n",
       "10499  [1.294949268727799, 1.1245458403332544, 1.0228...  0.479904  \n",
       "\n",
       "[10499 rows x 5 columns]"
      ]
     },
     "execution_count": 10,
     "metadata": {},
     "output_type": "execute_result"
    }
   ],
   "source": [
    "ae_df"
   ]
  },
  {
   "cell_type": "markdown",
   "id": "93080605",
   "metadata": {},
   "source": [
    "## Pickle dataframe"
   ]
  },
  {
   "cell_type": "code",
   "execution_count": 11,
   "id": "1d9c99db",
   "metadata": {},
   "outputs": [],
   "source": [
    "from starling_rhythm.utils.paths import PROCESSED_DIR, ensure_dir"
   ]
  },
  {
   "cell_type": "code",
   "execution_count": 12,
   "id": "28225c70",
   "metadata": {},
   "outputs": [],
   "source": [
    "SAVE_PATH = PROCESSED_DIR / 'starling_zenodo_2019_amp_envs_MF200.pickle'\n",
    "ensure_dir(SAVE_PATH)"
   ]
  },
  {
   "cell_type": "code",
   "execution_count": 13,
   "id": "9298c9d2",
   "metadata": {},
   "outputs": [],
   "source": [
    "ae_df.to_pickle(SAVE_PATH)"
   ]
  }
 ],
 "metadata": {
  "kernelspec": {
   "display_name": "starling_rhythm",
   "language": "python",
   "name": "starling_rhythm"
  },
  "language_info": {
   "codemirror_mode": {
    "name": "ipython",
    "version": 3
   },
   "file_extension": ".py",
   "mimetype": "text/x-python",
   "name": "python",
   "nbconvert_exporter": "python",
   "pygments_lexer": "ipython3",
   "version": "3.10.4"
  }
 },
 "nbformat": 4,
 "nbformat_minor": 5
}
