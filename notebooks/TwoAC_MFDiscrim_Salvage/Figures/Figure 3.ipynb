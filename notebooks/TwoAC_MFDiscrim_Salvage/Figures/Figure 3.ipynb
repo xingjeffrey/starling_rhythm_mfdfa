{
 "cells": [
  {
   "cell_type": "markdown",
   "id": "6e29dfa8",
   "metadata": {},
   "source": [
    "# Figure 3\n",
    "\n",
    "Panel A: Two alternative choice paradigm  \n",
    "Panel B: Training Stimuli Generation  \n",
    "Panel C: Test Stimuli Generation  \n",
    "Panel D: Hypotheses  "
   ]
  },
  {
   "cell_type": "markdown",
   "id": "beed3801",
   "metadata": {},
   "source": [
    "## PANEL A Copy"
   ]
  },
  {
   "cell_type": "markdown",
   "id": "0443a538",
   "metadata": {},
   "source": [
    "## PANEL B"
   ]
  },
  {
   "cell_type": "code",
   "execution_count": null,
   "id": "63b8279a",
   "metadata": {},
   "outputs": [],
   "source": []
  }
 ],
 "metadata": {
  "kernelspec": {
   "display_name": "starling_rhythm",
   "language": "python",
   "name": "starling_rhythm"
  },
  "language_info": {
   "codemirror_mode": {
    "name": "ipython",
    "version": 3
   },
   "file_extension": ".py",
   "mimetype": "text/x-python",
   "name": "python",
   "nbconvert_exporter": "python",
   "pygments_lexer": "ipython3",
   "version": "3.10.10"
  }
 },
 "nbformat": 4,
 "nbformat_minor": 5
}
