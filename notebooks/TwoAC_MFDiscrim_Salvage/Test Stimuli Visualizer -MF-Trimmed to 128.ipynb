{
 "cells": [
  {
   "cell_type": "markdown",
   "id": "4ff05d5c",
   "metadata": {},
   "source": [
    "# Visualize test stimuli"
   ]
  },
  {
   "cell_type": "code",
   "execution_count": null,
   "id": "1913c5cf",
   "metadata": {},
   "outputs": [],
   "source": [
    "from starling_rhythm.utils.paths import PROCESSED_DIR, ensure_dir\n",
    "import pandas as pd\n",
    "import numpy as np\n",
    "from scipy.io.wavfile import read, write\n",
    "from starling_rhythm.utils.audio import extract_amp_env\n",
    "import matplotlib.pyplot as plt"
   ]
  },
  {
   "cell_type": "code",
   "execution_count": null,
   "id": "fb82e7ce",
   "metadata": {},
   "outputs": [],
   "source": [
    "bID = 's_b1555_22'"
   ]
  },
  {
   "cell_type": "code",
   "execution_count": null,
   "id": "5b3cf12a",
   "metadata": {},
   "outputs": [],
   "source": [
    "MF_PATH = PROCESSED_DIR / bID / 'salvage_tmf.pickle'"
   ]
  },
  {
   "cell_type": "code",
   "execution_count": null,
   "id": "cc4079da",
   "metadata": {},
   "outputs": [],
   "source": [
    "stims = pd.read_pickle(MF_PATH)"
   ]
  },
  {
   "cell_type": "code",
   "execution_count": null,
   "id": "35c68acd",
   "metadata": {},
   "outputs": [],
   "source": [
    "stims"
   ]
  },
  {
   "cell_type": "code",
   "execution_count": null,
   "id": "64d603a6",
   "metadata": {},
   "outputs": [],
   "source": [
    "pair_index = []\n",
    "for i, row in stims.iterrows():\n",
    "    pair_index.append(str(row.address).split('/')[-1].split('_')[-2])\n",
    "    \n",
    "stims['pair_index'] = pair_index"
   ]
  },
  {
   "cell_type": "code",
   "execution_count": null,
   "id": "ddf8a083",
   "metadata": {},
   "outputs": [],
   "source": [
    "stims_0 = stims[stims.pair_index == '0']"
   ]
  },
  {
   "cell_type": "code",
   "execution_count": null,
   "id": "81e71a8b",
   "metadata": {},
   "outputs": [],
   "source": [
    "stims_1 = stims[stims.pair_index == '1']"
   ]
  },
  {
   "cell_type": "code",
   "execution_count": null,
   "id": "6acc49aa",
   "metadata": {},
   "outputs": [],
   "source": [
    "stims_0['rank'] = stims_0['mean_tMF'].rank(ascending = False)\n",
    "stims_1['rank'] = stims_1['mean_tMF'].rank(ascending = False)"
   ]
  },
  {
   "cell_type": "markdown",
   "id": "ee7321d6",
   "metadata": {},
   "source": [
    "## Additional trimming"
   ]
  },
  {
   "cell_type": "code",
   "execution_count": null,
   "id": "76391659",
   "metadata": {},
   "outputs": [],
   "source": [
    "stims_0 = stims_0[(stims_0.mean_tMF < 92.718680) & (stims_0.mean_tMF > 37.848900)]\n",
    "stims_1 = stims_1[(stims_1.mean_tMF < 60.389137) & (stims_1.mean_tMF > 8.363697)]"
   ]
  },
  {
   "cell_type": "code",
   "execution_count": null,
   "id": "7ce757cc",
   "metadata": {},
   "outputs": [],
   "source": [
    "def trimmer(stim_df):\n",
    "    target_array = np.linspace(stim_df.mean_tMF.min(), stim_df.mean_tMF.max(), 128)\n",
    "    column_values = stim_df.mean_tMF.values\n",
    "    closest_indices = []\n",
    "    used_indices = []\n",
    "    for i in range(len(target_array)):\n",
    "        # Calculate the absolute difference between each element in the column and the target array\n",
    "        abs_diff = np.abs(column_values - target_array[i])\n",
    "\n",
    "        # Find the closest index that has not been used\n",
    "        available_indices = list(set(range(len(column_values))) - set(used_indices))\n",
    "        closest_idx = available_indices[np.argmin(abs_diff[available_indices])]\n",
    "\n",
    "        # Add the closest index to the list of closest indices and mark it as used\n",
    "        closest_indices.append(closest_idx)\n",
    "        used_indices.append(closest_idx)\n",
    "\n",
    "    print(closest_indices)\n",
    "        \n",
    "    return stim_df.loc[closest_indices]"
   ]
  },
  {
   "cell_type": "code",
   "execution_count": null,
   "id": "9f72be49",
   "metadata": {},
   "outputs": [],
   "source": [
    "stims_0_trimmed = trimmer(stims_0.reset_index(drop = True))"
   ]
  },
  {
   "cell_type": "code",
   "execution_count": null,
   "id": "5ec64adb",
   "metadata": {},
   "outputs": [],
   "source": [
    "import seaborn as sns"
   ]
  },
  {
   "cell_type": "code",
   "execution_count": null,
   "id": "0e531520",
   "metadata": {},
   "outputs": [],
   "source": [
    "sns.histplot(stims_0_trimmed, x = 'mean_tMF')"
   ]
  },
  {
   "cell_type": "code",
   "execution_count": null,
   "id": "a5c8b448",
   "metadata": {
    "scrolled": false
   },
   "outputs": [],
   "source": [
    "sns.histplot(stims_0_trimmed, x = 'rank')"
   ]
  },
  {
   "cell_type": "markdown",
   "id": "b7f5a236",
   "metadata": {},
   "source": [
    "## visualize"
   ]
  },
  {
   "cell_type": "code",
   "execution_count": null,
   "id": "7e296723",
   "metadata": {},
   "outputs": [],
   "source": [
    "import matplotlib.pyplot as plt\n",
    "from tqdm.autonotebook import tqdm"
   ]
  },
  {
   "cell_type": "code",
   "execution_count": null,
   "id": "892807be",
   "metadata": {
    "scrolled": false
   },
   "outputs": [],
   "source": [
    "## MF\n",
    "\n",
    "fig, axs = plt.subplots(len(stims_0), sharex = True, figsize=(18, 36), dpi=300)\n",
    "\n",
    "for i, row in tqdm(stims_0.iterrows()):\n",
    "    axs[i].title.set_text(str(row.pair_index) + '_' + str(row.mean_tMF) + '_' + str(row['rank']))\n",
    "    sr, data = read(row.address)\n",
    "    x = axs[i].specgram(data, Fs = sr, cmap = 'twilight')"
   ]
  },
  {
   "cell_type": "code",
   "execution_count": null,
   "id": "3a895617",
   "metadata": {
    "scrolled": false
   },
   "outputs": [],
   "source": [
    "## MF\n",
    "\n",
    "fig, axs = plt.subplots(len(stims_1), sharex = True, figsize=(18, 36), dpi=300)\n",
    "\n",
    "for i, row in tqdm(stims_1.iterrows()):\n",
    "    axs[i].title.set_text(str(row.pair_index) + '_' + str(row.mean_tMF) + '_' + str(row['rank']))\n",
    "    sr, data = read(row.address)\n",
    "    x = axs[i].specgram(data, Fs = sr, cmap = 'twilight')"
   ]
  }
 ],
 "metadata": {
  "kernelspec": {
   "display_name": "starling_rhythm",
   "language": "python",
   "name": "starling_rhythm"
  },
  "language_info": {
   "codemirror_mode": {
    "name": "ipython",
    "version": 3
   },
   "file_extension": ".py",
   "mimetype": "text/x-python",
   "name": "python",
   "nbconvert_exporter": "python",
   "pygments_lexer": "ipython3",
   "version": "3.10.10"
  }
 },
 "nbformat": 4,
 "nbformat_minor": 5
}
