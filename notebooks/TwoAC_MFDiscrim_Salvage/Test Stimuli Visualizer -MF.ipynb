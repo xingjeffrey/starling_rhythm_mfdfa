{
 "cells": [
  {
   "cell_type": "markdown",
   "id": "4ff05d5c",
   "metadata": {},
   "source": [
    "# Visualize test stimuli"
   ]
  },
  {
   "cell_type": "code",
   "execution_count": null,
   "id": "1913c5cf",
   "metadata": {},
   "outputs": [],
   "source": [
    "from starling_rhythm.utils.paths import PROCESSED_DIR, ensure_dir\n",
    "import pandas as pd\n",
    "import numpy as np\n",
    "from scipy.io.wavfile import read, write\n",
    "from starling_rhythm.utils.audio import extract_amp_env\n",
    "import matplotlib.pyplot as plt"
   ]
  },
  {
   "cell_type": "code",
   "execution_count": null,
   "id": "fb82e7ce",
   "metadata": {},
   "outputs": [],
   "source": [
    "bID = 's_b1555_22'"
   ]
  },
  {
   "cell_type": "code",
   "execution_count": null,
   "id": "5b3cf12a",
   "metadata": {},
   "outputs": [],
   "source": [
    "MF_PATH = PROCESSED_DIR / bID / 'salvage_tmf.pickle'"
   ]
  },
  {
   "cell_type": "code",
   "execution_count": null,
   "id": "cc4079da",
   "metadata": {},
   "outputs": [],
   "source": [
    "stims = pd.read_pickle(MF_PATH)"
   ]
  },
  {
   "cell_type": "code",
   "execution_count": null,
   "id": "35c68acd",
   "metadata": {},
   "outputs": [],
   "source": [
    "stims"
   ]
  },
  {
   "cell_type": "code",
   "execution_count": null,
   "id": "64d603a6",
   "metadata": {},
   "outputs": [],
   "source": [
    "pair_index = []\n",
    "for i, row in stims.iterrows():\n",
    "    pair_index.append(str(row.address).split('/')[-1].split('_')[-2])\n",
    "    \n",
    "stims['pair_index'] = pair_index"
   ]
  },
  {
   "cell_type": "code",
   "execution_count": null,
   "id": "ddf8a083",
   "metadata": {},
   "outputs": [],
   "source": [
    "stims_0 = stims[stims.pair_index == '0']"
   ]
  },
  {
   "cell_type": "code",
   "execution_count": null,
   "id": "81e71a8b",
   "metadata": {},
   "outputs": [],
   "source": [
    "stims_1 = stims[stims.pair_index == '1']"
   ]
  },
  {
   "cell_type": "code",
   "execution_count": null,
   "id": "6acc49aa",
   "metadata": {},
   "outputs": [],
   "source": [
    "stims_0['rank'] = stims_0['mean_tMF'].rank(ascending = False)\n",
    "stims_1['rank'] = stims_1['mean_tMF'].rank(ascending = False)"
   ]
  },
  {
   "cell_type": "code",
   "execution_count": null,
   "id": "73defa21",
   "metadata": {},
   "outputs": [],
   "source": [
    "stims_0 = stims_0.sort_values('rank').reset_index(drop = True)\n",
    "stims_1 = stims_1.sort_values('rank').reset_index(drop = True)"
   ]
  },
  {
   "cell_type": "markdown",
   "id": "b7f5a236",
   "metadata": {},
   "source": [
    "## visualize"
   ]
  },
  {
   "cell_type": "code",
   "execution_count": null,
   "id": "7e296723",
   "metadata": {},
   "outputs": [],
   "source": [
    "import matplotlib.pyplot as plt\n",
    "from tqdm.autonotebook import tqdm"
   ]
  },
  {
   "cell_type": "code",
   "execution_count": null,
   "id": "892807be",
   "metadata": {
    "scrolled": false
   },
   "outputs": [],
   "source": [
    "## MF\n",
    "\n",
    "fig, axs = plt.subplots(len(stims_0), sharex = True, figsize=(18, 36), dpi=300)\n",
    "\n",
    "for i, row in tqdm(stims_0.iterrows()):\n",
    "    axs[i].title.set_text(str(row.pair_index) + '_' + str(row.mean_tMF) + '_' + str(row['rank']))\n",
    "    sr, data = read(row.address)\n",
    "    x = axs[i].specgram(data, Fs = sr, cmap = 'twilight')"
   ]
  },
  {
   "cell_type": "code",
   "execution_count": null,
   "id": "3a895617",
   "metadata": {
    "scrolled": false
   },
   "outputs": [],
   "source": [
    "## MF\n",
    "\n",
    "fig, axs = plt.subplots(len(stims_1), sharex = True, figsize=(18, 36), dpi=300)\n",
    "\n",
    "for i, row in tqdm(stims_1.iterrows()):\n",
    "    axs[i].title.set_text(str(row.pair_index) + '_' + str(row.mean_tMF) + '_' + str(row['rank']))\n",
    "    sr, data = read(row.address)\n",
    "    x = axs[i].specgram(data, Fs = sr, cmap = 'twilight')"
   ]
  }
 ],
 "metadata": {
  "kernelspec": {
   "display_name": "starling_rhythm",
   "language": "python",
   "name": "starling_rhythm"
  },
  "language_info": {
   "codemirror_mode": {
    "name": "ipython",
    "version": 3
   },
   "file_extension": ".py",
   "mimetype": "text/x-python",
   "name": "python",
   "nbconvert_exporter": "python",
   "pygments_lexer": "ipython3",
   "version": "3.10.10"
  }
 },
 "nbformat": 4,
 "nbformat_minor": 5
}
