{
 "cells": [
  {
   "cell_type": "markdown",
   "id": "e59229fd",
   "metadata": {},
   "source": [
    "## Interpolation Test Stimuli Performance\n",
    "Test set 1: Linear Interpolation. \n",
    "\n",
    "Two subjects are tested on linearly interpolated shuffle gaps. Here is what I need:\n",
    "- Load in data and remove debug trials. \n",
    "- For each test trial, examine if the previous 64 training trials had over 80% accuracy. \n",
    "    - 4 training stimuli, means on average >13/16 of each stimuli\n",
    "- Combined, individuals\n",
    "    - Psychometric Functions"
   ]
  },
  {
   "cell_type": "markdown",
   "id": "3033126a",
   "metadata": {},
   "source": [
    "### Load data"
   ]
  },
  {
   "cell_type": "code",
   "execution_count": 1,
   "id": "eff3ae6b",
   "metadata": {},
   "outputs": [],
   "source": [
    "import numpy as np\n",
    "import matplotlib.pyplot as plt\n",
    "%matplotlib inline\n",
    "\n",
    "from behav import plotting, utils, loading\n",
    "\n",
    "import seaborn as sns\n",
    "sns.set_style(\"whitegrid\")\n",
    "\n",
    "data_path = '/mnt/cube/RawData/Magpi/'\n",
    "\n",
    "subjects = (\n",
    "    ['B1520', 'B1535']\n",
    ")"
   ]
  },
  {
   "cell_type": "code",
   "execution_count": 2,
   "id": "521aca9b",
   "metadata": {},
   "outputs": [
    {
     "name": "stdout",
     "output_type": "stream",
     "text": [
      "CPU times: user 1.03 s, sys: 78 ms, total: 1.11 s\n",
      "Wall time: 3.18 s\n"
     ]
    }
   ],
   "source": [
    "%%time\n",
    "behav_data = loading.load_data_pandas(subjects, data_path)"
   ]
  },
  {
   "cell_type": "markdown",
   "id": "e7becbb3",
   "metadata": {},
   "source": [
    "### Clean out debug trials before shaping"
   ]
  },
  {
   "cell_type": "code",
   "execution_count": 3,
   "id": "e395c819",
   "metadata": {},
   "outputs": [],
   "source": [
    "behav_data['B1520'] = behav_data['B1520'][behav_data['B1520'].index > '2023-01-19 00:00:00.000000'] \n",
    "## B1520 started trials on the 19th, previous are debug trials"
   ]
  },
  {
   "cell_type": "code",
   "execution_count": 4,
   "id": "10ca0cef",
   "metadata": {},
   "outputs": [],
   "source": [
    "behav_data['B1535'] = behav_data['B1535'][behav_data['B1535'].index > '2023-01-20 00:00:00.000000'] \n",
    "## B1535 started trials on the 20th, previous are debug trials"
   ]
  },
  {
   "cell_type": "markdown",
   "id": "278350f4",
   "metadata": {},
   "source": [
    "### For every test trial, only keep if the previous 64 trial accuracy is > 0.8"
   ]
  },
  {
   "cell_type": "code",
   "execution_count": 5,
   "id": "a4ce78af",
   "metadata": {},
   "outputs": [
    {
     "name": "stderr",
     "output_type": "stream",
     "text": [
      "/tmp/ipykernel_47381/158874326.py:2: TqdmWarning: IProgress not found. Please update jupyter and ipywidgets. See https://ipywidgets.readthedocs.io/en/stable/user_install.html\n",
      "  from tqdm.autonotebook import tqdm\n"
     ]
    }
   ],
   "source": [
    "import pandas as pd\n",
    "from tqdm.autonotebook import tqdm"
   ]
  },
  {
   "cell_type": "code",
   "execution_count": 6,
   "id": "15866330",
   "metadata": {},
   "outputs": [],
   "source": [
    "max_trials = 100\n",
    "accuracy_threshold = 0.8"
   ]
  },
  {
   "cell_type": "code",
   "execution_count": null,
   "id": "cf21746a",
   "metadata": {},
   "outputs": [
    {
     "name": "stderr",
     "output_type": "stream",
     "text": [
      "1007it [00:56, 18.05it/s]"
     ]
    }
   ],
   "source": [
    "%%time\n",
    "test_data = {}\n",
    "## for each subject\n",
    "for subj in subjects:\n",
    "    numbered_trials = behav_data[subj].reset_index()\n",
    "    test_trials = numbered_trials[numbered_trials.type_ == 'test']\n",
    "    valid_trials = pd.DataFrame(columns = test_trials.columns)\n",
    "    ## iterative through each test trial\n",
    "    for i, row in tqdm(test_trials.iterrows()):\n",
    "        training_trials = []\n",
    "        pointer = i\n",
    "        ## while training trials are not fully collected\n",
    "        while len(training_trials) < max_trials:\n",
    "            ## go to previous trial to the pointer\n",
    "            pointer = pointer - 1\n",
    "            pointed_trial = numbered_trials.loc[pointer]\n",
    "            ## if the pointer is on a normal trial, append to training_trials\n",
    "            if pointed_trial.type_ == 'normal':\n",
    "                training_trials.append(pointed_trial)\n",
    "        \n",
    "        ## check if training trials exceed criteria\n",
    "        training_trials = pd.concat(training_trials)\n",
    "        training_accuracy = np.mean(training_trials.correct)\n",
    "        if training_accuracy > 0.8:\n",
    "            valid_trials = pd.concat([valid_trials, pd.DataFrame([row], columns = test_trials.columns)], ignore_index = False)\n",
    "    \n",
    "    test_data[subj] = valid_trials"
   ]
  },
  {
   "cell_type": "code",
   "execution_count": null,
   "id": "e336d4a4",
   "metadata": {},
   "outputs": [],
   "source": [
    "## For every test trial, parse relevant info\n",
    "for subj in subjects:\n",
    "    \n",
    "    stim_types = []\n",
    "    pair_indices = []\n",
    "    inter_nums = []\n",
    "\n",
    "    for i, row in test_data[subj].iterrows():\n",
    "        parsed = row.stimulus.split('_')\n",
    "        stim_types.append(parsed[2])\n",
    "        pair_indices.append(parsed[3])\n",
    "        inter_nums.append(int(parsed[4].split('.')[0]))\n",
    "        \n",
    "\n",
    "    test_data[subj]['stim_type'] = stim_types\n",
    "    test_data[subj]['pair_indices'] = pair_indices\n",
    "    test_data[subj]['inter_nums'] = inter_nums"
   ]
  },
  {
   "cell_type": "code",
   "execution_count": null,
   "id": "ddc6139a",
   "metadata": {},
   "outputs": [],
   "source": [
    "for subj in subjects:\n",
    "    test_data[subj] = test_data[subj][test_data[subj]['inter_nums'] != 0]"
   ]
  },
  {
   "cell_type": "code",
   "execution_count": null,
   "id": "00798689",
   "metadata": {},
   "outputs": [],
   "source": [
    "test_data['B1520']"
   ]
  },
  {
   "cell_type": "markdown",
   "id": "a7412fd4",
   "metadata": {},
   "source": [
    "## Plot stimuli functions"
   ]
  },
  {
   "cell_type": "code",
   "execution_count": null,
   "id": "4ffdff67",
   "metadata": {},
   "outputs": [],
   "source": [
    "from starling_rhythm.utils.paths import PROCESSED_DIR\n",
    "import pandas as pd\n",
    "import seaborn as sns\n",
    "bID = \"s_b1555_22\"\n",
    "SAVE_PATH = PROCESSED_DIR / bID / 'salvage_inter_tmf.pickle'"
   ]
  },
  {
   "cell_type": "code",
   "execution_count": null,
   "id": "f8e0118a",
   "metadata": {},
   "outputs": [],
   "source": [
    "stims = pd.read_pickle(SAVE_PATH)\n",
    "pair0_stims = stims[stims.pair_index == 0][::4]\n",
    "pair1_stims = stims[stims.pair_index == 1][::4]"
   ]
  },
  {
   "cell_type": "code",
   "execution_count": null,
   "id": "3bea8d2f",
   "metadata": {},
   "outputs": [],
   "source": [
    "stims.head()"
   ]
  },
  {
   "cell_type": "code",
   "execution_count": null,
   "id": "266f8169",
   "metadata": {},
   "outputs": [],
   "source": [
    "def normalize(x, newRange=(0, 1)): #x is an array. Default range is between zero and one\n",
    "    xmin, xmax = np.min(x), np.max(x) #get max and min from input array\n",
    "    norm = (x - xmin)/(xmax - xmin) # scale between zero and one\n",
    "    \n",
    "    if newRange == (0, 1):\n",
    "        return(norm) # wanted range is the same as norm\n",
    "    elif newRange != (0, 1):\n",
    "        return norm * (newRange[1] - newRange[0]) + newRange[0] #scale to a different range.    \n",
    "    #add other conditions here. For example, an error message"
   ]
  },
  {
   "cell_type": "code",
   "execution_count": null,
   "id": "a4bdf880",
   "metadata": {},
   "outputs": [],
   "source": [
    "def linear_func(x, c, d):\n",
    "    return c*x + d\n",
    "\n",
    "def cubic_func(x, a, b, c, d):\n",
    "    return a*x**3 + b*x**2 + c*x + d\n",
    "\n",
    "def quad_func(x, b, c, d):\n",
    "    return b*x**2 + c*x + d\n",
    "\n",
    "def quartic_func(x, a, b, c, d, e):\n",
    "    return a * x**4 + b * x**3 + c * x**2 + d * x + e\n",
    "\n",
    "def logistic_4pm(x, A, K, B, M):\n",
    "    return A + (K - A) / (1 + np.exp(-B * (x - M)))"
   ]
  },
  {
   "cell_type": "code",
   "execution_count": null,
   "id": "eac76a33",
   "metadata": {},
   "outputs": [],
   "source": [
    "## Test tmf model fit"
   ]
  },
  {
   "cell_type": "code",
   "execution_count": null,
   "id": "42663ffd",
   "metadata": {},
   "outputs": [],
   "source": [
    "from starling_rhythm.utils import logistic\n",
    "from scipy.optimize import curve_fit"
   ]
  },
  {
   "cell_type": "code",
   "execution_count": null,
   "id": "aaef2251",
   "metadata": {},
   "outputs": [],
   "source": [
    "fig, axs = plt.subplots(3, sharex = True, figsize=(6, 6), dpi=300)\n",
    "## plot linear function\n",
    "input_frame = pair0_stims\n",
    "\n",
    "axs[0].plot(input_frame['interpolation_num'], np.linspace(0.8, 0.2, len(input_frame)))\n",
    "axs[0].set_title('Hypothesis 1: Perceive by Linear Interpolation')\n",
    "\n",
    "## plot tmf\n",
    "lower = 0.2\n",
    "upper = 0.8\n",
    "range_adjust = normalize(input_frame['mean_tMF'], newRange = (0.2, 0.8))\n",
    "## plot quad function\n",
    "popt, pcov = curve_fit(quad_func, input_frame['interpolation_num'], range_adjust)\n",
    "new_y = quad_func(input_frame['interpolation_num'], *popt)\n",
    "axs[1].plot(input_frame['interpolation_num'], new_y, label = 'Quadratic Fit')\n",
    "axs[1].plot(input_frame['interpolation_num'], range_adjust, label = 'Scaled tMF')\n",
    "axs[1].set_title('Hypothesis 2: Perceive by Multifractality')\n",
    "axs[1].legend()\n",
    "\n",
    "## plot logistic function\n",
    "logistic_y = logistic_4pm(input_frame['interpolation_num'], 0.8, 0.2, 0.25, 64)\n",
    "axs[2].plot(input_frame['interpolation_num'], logistic_y)\n",
    "axs[2].set_title('Hypothesis 3: Perceive by Categorization')\n",
    "\n",
    "fig.supylabel('Proportion of Left Response')\n",
    "fig.supxlabel('Interpolation # (0 = MaxMF, 128 = MinMF)')"
   ]
  },
  {
   "cell_type": "code",
   "execution_count": null,
   "id": "abb99826",
   "metadata": {},
   "outputs": [],
   "source": [
    "import numpy as np\n",
    "import statsmodels.api as sm"
   ]
  },
  {
   "cell_type": "code",
   "execution_count": null,
   "id": "29eaffe4",
   "metadata": {},
   "outputs": [],
   "source": [
    "X = sm.add_constant(input_frame['interpolation_num'])\n",
    "\n",
    "order = []\n",
    "aics = []\n",
    "bics = []\n",
    "\n",
    "for i in np.arange(0, 10):\n",
    "    model = sm.OLS(range_adjust, X**i).fit()\n",
    "    print(i)\n",
    "    order.append(i)\n",
    "    print('AIC for model: {:.3f}'.format(model.aic))\n",
    "    aics.append(model.aic)\n",
    "    print('BIC for model: {:.3f}'.format(model.bic))\n",
    "    bics.append(model.bic)\n",
    "    \n",
    "tmf_models = pd.DataFrame(\n",
    "    {\n",
    "        'order': order,\n",
    "        'aic': aics,\n",
    "        'bic': bics\n",
    "    }\n",
    ")"
   ]
  },
  {
   "cell_type": "code",
   "execution_count": null,
   "id": "89d24a19",
   "metadata": {
    "scrolled": false
   },
   "outputs": [],
   "source": [
    "plt.plot(tmf_models)"
   ]
  },
  {
   "cell_type": "code",
   "execution_count": null,
   "id": "8b8ed3ff",
   "metadata": {},
   "outputs": [],
   "source": [
    "fig, axs = plt.subplots(2, sharex = True, figsize=(6, 4), dpi=300)\n",
    "## plot linear function\n",
    "input_frame = pair1_stims\n",
    "\n",
    "axs[0].plot(input_frame['interpolation_num'], np.linspace(0.8, 0.2, len(input_frame)))\n",
    "axs[0].set_title('Hypothesis 1: Perceive by Linear Interpolation')\n",
    "\n",
    "## plot tmf\n",
    "lower = 0.2\n",
    "upper = 0.8\n",
    "range_adjust = normalize(input_frame['mean_tMF'], newRange = (0.2, 0.8))\n",
    "axs[1].plot(input_frame['interpolation_num'], range_adjust, label = 'Normalized tMF')\n",
    "axs[1].set_title('Hypothesis 2: Perceive by Multifractality')\n",
    "\n",
    "## plot cubic function\n",
    "popt, pcov = curve_fit(cubic_func, input_frame['interpolation_num'], range_adjust)\n",
    "new_y = cubic_func(input_frame['interpolation_num'], *popt)\n",
    "axs[1].plot(input_frame['interpolation_num'], new_y, label = 'Cubic Fit')\n",
    "plt.legend()\n",
    "\n",
    "fig.supylabel('Proportion of Left Response')\n",
    "fig.supxlabel('Interpolation # (0 = MaxMF, 128 = MinMF)')"
   ]
  },
  {
   "cell_type": "code",
   "execution_count": null,
   "id": "15096177",
   "metadata": {
    "scrolled": false
   },
   "outputs": [],
   "source": [
    "X = sm.add_constant(input_frame['interpolation_num'])\n",
    "\n",
    "order = []\n",
    "aics = []\n",
    "bics = []\n",
    "\n",
    "for i in np.arange(0, 10):\n",
    "    model = sm.OLS(range_adjust, X**i).fit()\n",
    "    print(i)\n",
    "    order.append(i)\n",
    "    print('AIC for model: {:.3f}'.format(model.aic))\n",
    "    aics.append(model.aic)\n",
    "    print('BIC for model: {:.3f}'.format(model.bic))\n",
    "    bics.append(model.bic)\n",
    "    \n",
    "tmf_models = pd.DataFrame(\n",
    "    {\n",
    "        'order': order,\n",
    "        'aic': aics,\n",
    "        'bic': bics\n",
    "    }\n",
    ")"
   ]
  },
  {
   "cell_type": "code",
   "execution_count": null,
   "id": "0ba99ec5",
   "metadata": {},
   "outputs": [],
   "source": [
    "plt.plot(tmf_models)"
   ]
  },
  {
   "cell_type": "markdown",
   "id": "aafba8f3",
   "metadata": {},
   "source": [
    "## Plot psychometric function"
   ]
  },
  {
   "cell_type": "code",
   "execution_count": null,
   "id": "e97e9ca3",
   "metadata": {},
   "outputs": [],
   "source": [
    "import pandas as pd\n",
    "import seaborn as sns\n",
    "import matplotlib.pyplot as plt"
   ]
  },
  {
   "cell_type": "code",
   "execution_count": null,
   "id": "92af7f7b",
   "metadata": {},
   "outputs": [],
   "source": [
    "PMFX = {}\n",
    "for subj in subjects:\n",
    "    test_proportion = pd.DataFrame(test_data[subj].groupby(\n",
    "            ['stim_type', 'pair_indices', 'inter_nums']\n",
    "        )['response'].agg('value_counts', normalize = True))\n",
    "    test_proportion = test_proportion.rename(columns = {'response': 'prop'})\n",
    "    PMFX[subj] = test_proportion"
   ]
  },
  {
   "cell_type": "markdown",
   "id": "4e7e48e2",
   "metadata": {},
   "source": [
    "### Fit psychometric function"
   ]
  },
  {
   "cell_type": "markdown",
   "id": "155aec4f",
   "metadata": {},
   "source": [
    "## Plot"
   ]
  },
  {
   "cell_type": "code",
   "execution_count": null,
   "id": "5ee3c29c",
   "metadata": {
    "scrolled": false
   },
   "outputs": [],
   "source": [
    "subject_list = []\n",
    "stim_type_list = []\n",
    "pair_index_list = []\n",
    "response_type_list = []\n",
    "parameter_list = []\n",
    "\n",
    "## plotting\n",
    "for subj in subjects:\n",
    "    ## for each stim_type\n",
    "    for stim_type in np.unique(test_data[subj].stim_type):\n",
    "        ## for each pair index\n",
    "        for pair_index in np.unique(test_data[subj].pair_indices):\n",
    "            plt.figure(figsize = (16, 4))\n",
    "            \n",
    "            PMFX2 = PMFX[subj].reset_index()\n",
    "            PMFX2 = PMFX2[PMFX2.response == 'left']\n",
    "            PMFX2_specific = PMFX2[(PMFX2.pair_indices == pair_index) & (PMFX2.response == 'left')]\n",
    "            \n",
    "            ## plot empirical accuracies\n",
    "            sns.scatterplot(\n",
    "                data = PMFX2_specific, \n",
    "                x = 'inter_nums', y = 'prop', marker = \"X\", alpha = 1, color = 'salmon'\n",
    "            )\n",
    "            plt.ylim([0, 1])\n",
    "            \n",
    "            ## fit and plot psychometric functions\n",
    "            \n",
    "            for response_type in np.unique(PMFX2.response):\n",
    "                if response_type == 'none':\n",
    "                    continue\n",
    "                #print(\"Generating psychometric curve for \" + str(pair_index) + '_' + str(response_type))\n",
    "                PMFX2_specific = PMFX2[(PMFX2.pair_indices == pair_index) & (PMFX2.response == response_type)]\n",
    "                x = PMFX2_specific['inter_nums'].values\n",
    "                y = PMFX2_specific['prop'].values\n",
    "                assert len(x) == len(y)\n",
    "                try:\n",
    "                    solutions = logistic.fit_4pl(x, y, p_start = [0, 1, 0, 64])\n",
    "                    parameter_list.append(solutions)\n",
    "                    subject_list.append(subj)\n",
    "                    stim_type_list.append(stim_type)\n",
    "                    pair_index_list.append(pair_index)\n",
    "                    response_type_list.append(response_type)\n",
    "                    y_sig = logistic.four_param_logistic(solutions)(x)\n",
    "                    line_col = 'green'\n",
    "                    if response_type == 'left':\n",
    "                        line_col = 'cornflowerblue'\n",
    "                    if response_type == 'right':\n",
    "                        line_col = 'orange'\n",
    "                        \n",
    "                    linear_popt, linear_popv = curve_fit(linear_func, x, y)\n",
    "                    y_lin = linear_func(x, *linear_popt)\n",
    "                    \n",
    "                    quad_popt, quad_popv = curve_fit(quad_func, x, y)\n",
    "                    y_quad = quad_func(x, *quad_popt)\n",
    "                        \n",
    "                    ## graph linear model\n",
    "                    sns.lineplot(x, y_lin, color = line_col, linewidth = 3, alpha = 0.9, label = 'Linear')\n",
    "                    ## graph quadratic model\n",
    "                    sns.lineplot(x, y_quad, color = line_col, linewidth = 3, linestyle = 'dashed', alpha = 0.9, label = 'Quadratic')\n",
    "                    ## graph sigmoidal 4-parameter logistic model\n",
    "                    sns.lineplot(x, y_sig, color = line_col, linewidth = 3, linestyle = 'dotted', alpha = 0.9, label = 'Logistic')\n",
    "                    plt.legend()\n",
    "                    \n",
    "                except Exception as e:\n",
    "                    print(e)\n",
    "            \n",
    "            plt.xlabel('Interpolation # (0 = MaxMF, 128 = MinMF)')\n",
    "            plt.ylabel('Proportion of Response')\n",
    "            title = subj + '_' + stim_type + '_index:' + pair_index\n",
    "            plt.title(title)\n",
    "            plt.ylim([0, 1])\n",
    "            \n",
    "PMFX_results = pd.DataFrame(\n",
    "    {\n",
    "        \"subject\": subject_list,\n",
    "        \"stim_type\": stim_type_list,\n",
    "        \"pair_index\": pair_index_list,\n",
    "        \"response_type\": response_type_list,\n",
    "        \"parameters\": parameter_list\n",
    "    }\n",
    ")"
   ]
  },
  {
   "cell_type": "code",
   "execution_count": null,
   "id": "b91ff6f5",
   "metadata": {},
   "outputs": [],
   "source": [
    "subject_list = []\n",
    "stim_type_list = []\n",
    "pair_index_list = []\n",
    "response_type_list = []\n",
    "parameter_list = []\n",
    "\n",
    "## plotting\n",
    "for subj in subjects:\n",
    "    ## for each stim_type\n",
    "    for stim_type in np.unique(test_data[subj].stim_type):\n",
    "        ## for each pair index\n",
    "        for pair_index in np.unique(test_data[subj].pair_indices):\n",
    "            plt.figure(figsize = (16, 4))\n",
    "            \n",
    "            PMFX2 = PMFX[subj].reset_index()\n",
    "            PMFX2 = PMFX2[PMFX2.response == 'right']\n",
    "            PMFX2_specific = PMFX2[(PMFX2.pair_indices == pair_index) & (PMFX2.response == 'right')]\n",
    "            \n",
    "            ## plot empirical accuracies\n",
    "            sns.scatterplot(\n",
    "                data = PMFX2_specific, \n",
    "                x = 'inter_nums', y = 'prop', marker = \"X\", alpha = 1, color = 'salmon'\n",
    "            )\n",
    "            plt.ylim([0, 1])\n",
    "            \n",
    "            ## fit and plot psychometric functions\n",
    "            \n",
    "            for response_type in np.unique(PMFX2.response):\n",
    "                if response_type == 'none':\n",
    "                    continue\n",
    "                #print(\"Generating psychometric curve for \" + str(pair_index) + '_' + str(response_type))\n",
    "                PMFX2_specific = PMFX2[(PMFX2.pair_indices == pair_index) & (PMFX2.response == response_type)]\n",
    "                x = PMFX2_specific['inter_nums'].values\n",
    "                y = PMFX2_specific['prop'].values\n",
    "                assert len(x) == len(y)\n",
    "                try:\n",
    "                    solutions = logistic.fit_4pl(x, y, p_start = [0, 1, 0, 64])\n",
    "                    parameter_list.append(solutions)\n",
    "                    subject_list.append(subj)\n",
    "                    stim_type_list.append(stim_type)\n",
    "                    pair_index_list.append(pair_index)\n",
    "                    response_type_list.append(response_type)\n",
    "                    y_sig = logistic.four_param_logistic(solutions)(x)\n",
    "                    line_col = 'green'\n",
    "                    if response_type == 'left':\n",
    "                        line_col = 'cornflowerblue'\n",
    "                    if response_type == 'right':\n",
    "                        line_col = 'orange'\n",
    "                        \n",
    "                    linear_popt, linear_popv = curve_fit(linear_func, x, y)\n",
    "                    y_lin = linear_func(x, *linear_popt)\n",
    "                    \n",
    "                    quad_popt, quad_popv = curve_fit(quad_func, x, y)\n",
    "                    y_quad = quad_func(x, *quad_popt)\n",
    "                        \n",
    "                    ## graph linear model\n",
    "                    sns.lineplot(x, y_lin, color = line_col, linewidth = 3, alpha = 0.9, label = 'Linear')\n",
    "                    ## graph quadratic model\n",
    "                    sns.lineplot(x, y_quad, color = line_col, linewidth = 3, linestyle = 'dashed', alpha = 0.9, label = 'Quadratic')\n",
    "                    ## graph sigmoidal 4-parameter logistic model\n",
    "                    sns.lineplot(x, y_sig, color = line_col, linewidth = 3, linestyle = 'dotted', alpha = 0.9, label = 'Logistic')\n",
    "                    plt.legend()\n",
    "                    \n",
    "                except Exception as e:\n",
    "                    print(e)\n",
    "            \n",
    "            plt.xlabel('Interpolation # (0 = MaxMF, 128 = MinMF)')\n",
    "            plt.ylabel('Proportion of Response')\n",
    "            title = subj + '_' + stim_type + '_index:' + pair_index\n",
    "            plt.title(title)\n",
    "            plt.ylim([0, 1])\n",
    "            \n",
    "PMFX_results = pd.DataFrame(\n",
    "    {\n",
    "        \"subject\": subject_list,\n",
    "        \"stim_type\": stim_type_list,\n",
    "        \"pair_index\": pair_index_list,\n",
    "        \"response_type\": response_type_list,\n",
    "        \"parameters\": parameter_list\n",
    "    }\n",
    ")"
   ]
  },
  {
   "cell_type": "code",
   "execution_count": null,
   "id": "87d09cb7",
   "metadata": {
    "scrolled": false
   },
   "outputs": [],
   "source": [
    "subject_list = []\n",
    "stim_type_list = []\n",
    "pair_index_list = []\n",
    "response_type_list = []\n",
    "parameter_list = []\n",
    "\n",
    "## plotting\n",
    "for subj in subjects:\n",
    "    ## for each stim_type\n",
    "    for stim_type in np.unique(test_data[subj].stim_type):\n",
    "        ## for each pair index\n",
    "        for pair_index in np.unique(test_data[subj].pair_indices):\n",
    "            plt.figure(figsize = (16, 4))\n",
    "            \n",
    "            PMFX2 = PMFX[subj].reset_index()\n",
    "            PMFX2 = PMFX2[(PMFX2.pair_indices == pair_index)]\n",
    "            \n",
    "            ## plot empirical accuracies\n",
    "            sns.scatterplot(\n",
    "                data = PMFX2, \n",
    "                x = 'inter_nums', y = 'prop', marker = \"X\", alpha = 1, hue = 'response'\n",
    "            )\n",
    "            plt.ylim([0, 1])\n",
    "            \n",
    "            ## fit and plot psychometric functions\n",
    "            \n",
    "            for response_type in np.unique(PMFX2.response):\n",
    "                if response_type == 'none':\n",
    "                    continue\n",
    "                #print(\"Generating psychometric curve for \" + str(pair_index) + '_' + str(response_type))\n",
    "                PMFX2_specific = PMFX2[(PMFX2.pair_indices == pair_index) & (PMFX2.response == response_type)]\n",
    "                x = PMFX2_specific['inter_nums'].values\n",
    "                y = PMFX2_specific['prop'].values\n",
    "                assert len(x) == len(y)\n",
    "                try:\n",
    "                    solutions = logistic.fit_4pl(x, y, p_start = [0, 1, 0, 64])\n",
    "                    parameter_list.append(solutions)\n",
    "                    subject_list.append(subj)\n",
    "                    stim_type_list.append(stim_type)\n",
    "                    pair_index_list.append(pair_index)\n",
    "                    response_type_list.append(response_type)\n",
    "                    y_sig = logistic.four_param_logistic(solutions)(x)\n",
    "                    line_col = 'green'\n",
    "                    if response_type == 'left':\n",
    "                        line_col = 'cornflowerblue'\n",
    "                    if response_type == 'right':\n",
    "                        line_col = 'orange'\n",
    "                        \n",
    "                    linear_popt, linear_popv = curve_fit(linear_func, x, y)\n",
    "                    y_lin = linear_func(x, *linear_popt)\n",
    "                    \n",
    "                    quad_popt, quad_popv = curve_fit(quad_func, x, y)\n",
    "                    y_quad = quad_func(x, *quad_popt)\n",
    "                        \n",
    "                    ## graph linear model\n",
    "                    sns.lineplot(x, y_lin, color = line_col, linewidth = 3, alpha = 0.9, label = 'Linear')\n",
    "                    ## graph quadratic model\n",
    "                    sns.lineplot(x, y_quad, color = line_col, linewidth = 3, linestyle = 'dashed', alpha = 0.9, label = 'Quadratic')\n",
    "                    ## graph sigmoidal 4-parameter logistic model\n",
    "                    sns.lineplot(x, y_sig, color = line_col, linewidth = 3, linestyle = 'dotted', alpha = 0.9, label = 'Logistic')\n",
    "                    plt.legend()\n",
    "                    \n",
    "                except Exception as e:\n",
    "                    print(e)\n",
    "            \n",
    "            plt.xlabel('Interpolation # (0 = MaxMF, 128 = MinMF)')\n",
    "            plt.ylabel('Proportion of Response')\n",
    "            title = subj + '_' + stim_type + '_index:' + pair_index\n",
    "            plt.title(title)\n",
    "            plt.ylim([0, 1])\n",
    "            \n",
    "PMFX_results = pd.DataFrame(\n",
    "    {\n",
    "        \"subject\": subject_list,\n",
    "        \"stim_type\": stim_type_list,\n",
    "        \"pair_index\": pair_index_list,\n",
    "        \"response_type\": response_type_list,\n",
    "        \"parameters\": parameter_list\n",
    "    }\n",
    ")"
   ]
  },
  {
   "cell_type": "code",
   "execution_count": null,
   "id": "51ae82a0",
   "metadata": {
    "scrolled": true
   },
   "outputs": [],
   "source": [
    "PMFX_results"
   ]
  },
  {
   "cell_type": "markdown",
   "id": "51ebec45",
   "metadata": {},
   "source": [
    "## Model Comparisons"
   ]
  },
  {
   "cell_type": "code",
   "execution_count": null,
   "id": "b3b1b1d1",
   "metadata": {},
   "outputs": [],
   "source": [
    "import statsmodels.formula.api as smf"
   ]
  },
  {
   "cell_type": "code",
   "execution_count": null,
   "id": "daf72e46",
   "metadata": {},
   "outputs": [],
   "source": [
    "import numpy as np\n",
    "import pandas as pd\n",
    "import statsmodels.api as sm\n",
    "\n",
    "def calc_aic_bic_manual(nparams, func, p, y, x):\n",
    "    \"\"\"\n",
    "    Calculate the AIC and BIC for a given model and data.\n",
    "\n",
    "    Parameters:\n",
    "        model (statsmodels.api object): the fitted model object\n",
    "        y (array-like): the dependent variable\n",
    "        x (array-like): the independent variable(s)\n",
    "\n",
    "    Returns:\n",
    "        AIC (float): the Akaike Information Criterion\n",
    "        BIC (float): the Bayesian Information Criterion\n",
    "    \"\"\"\n",
    "    # calculate the number of observations and parameters in the model\n",
    "    nobs = len(y)\n",
    "    #nparams = model.params.shape[0]\n",
    "\n",
    "    # calculate the residual sum of squares\n",
    "    resid = y - func(x, *p)\n",
    "    rss = np.sum(resid**2)\n",
    "\n",
    "    # calculate the maximum log-likelihood\n",
    "    llf = -0.5 * nobs * (np.log(2*np.pi) + np.log(rss/nobs) + 1)\n",
    "\n",
    "    # calculate the AIC and BIC\n",
    "    aic = 2 * nparams - 2 * llf\n",
    "    bic = np.log(nobs) * nparams - 2 * llf\n",
    "\n",
    "    return aic, bic"
   ]
  },
  {
   "cell_type": "code",
   "execution_count": null,
   "id": "d7b14055",
   "metadata": {},
   "outputs": [],
   "source": [
    "subject_list = []\n",
    "stim_type_list = []\n",
    "pair_index_list = []\n",
    "response_type_list = []\n",
    "\n",
    "## plotting\n",
    "for subj in subjects:\n",
    "    print(subj)\n",
    "    ## for each stim_type\n",
    "    for stim_type in np.unique(test_data[subj].stim_type):\n",
    "        ## for each pair index\n",
    "        for pair_index in np.unique(test_data[subj].pair_indices):\n",
    "            \n",
    "            print(pair_index)\n",
    "            response_type = 'left'\n",
    "            if response_type == 'none':\n",
    "                continue\n",
    "            if response_type == 'right':\n",
    "                continue\n",
    "            \n",
    "            PMFX2 = PMFX[subj].reset_index()\n",
    "            PMFX2_specific = PMFX2[(PMFX2.pair_indices == pair_index) & (PMFX2.response == response_type)]\n",
    "            \n",
    "            \n",
    "            x = PMFX2_specific['inter_nums'].values\n",
    "            y = PMFX2_specific['prop'].values\n",
    "            \n",
    "            # create and fit linear model\n",
    "            X_linear = sm.add_constant(x)\n",
    "            linear_model = sm.OLS(y, X_linear).fit()\n",
    "\n",
    "            # create and fit quadratic model\n",
    "            X_quadratic = sm.add_constant(np.column_stack((x, x**2)))\n",
    "            quadratic_model = sm.OLS(y, X_quadratic).fit()    \n",
    "            \n",
    "            # generate predictions for each model\n",
    "            linear_pred = linear_model.predict(X_linear)\n",
    "            \n",
    "            quadratic_pred = quadratic_model.predict(X_quadratic)\n",
    "            plt.plot(quadratic_pred)\n",
    "            \n",
    "            ## generate aic and bic for 4p_log\n",
    "            imported_parameters = PMFX_results[\n",
    "                (PMFX_results.subject == subj) &\n",
    "                (PMFX_results.pair_index == pair_index) & \n",
    "                (PMFX_results.response_type == response_type)\n",
    "            ]\n",
    "            p = imported_parameters.parameters.values[0]\n",
    "            log_aic, log_bic = calc_aic_bic_manual(4, logistic_4pm, p, y, x)\n",
    "            \n",
    "            \n",
    "            \n",
    "            # aic, bic\n",
    "            print('lin')\n",
    "            print(linear_model.aic)\n",
    "            #print(linear_model.bic)\n",
    "            print('quad')\n",
    "            print(quadratic_model.aic)\n",
    "            #print(quadratic_model.bic)\n",
    "            print('log')\n",
    "            print(log_aic)\n",
    "            #print(log_bic)"
   ]
  },
  {
   "cell_type": "markdown",
   "id": "f3baf2bb",
   "metadata": {},
   "source": [
    "## Sample size"
   ]
  },
  {
   "cell_type": "code",
   "execution_count": null,
   "id": "736ed4b3",
   "metadata": {},
   "outputs": [],
   "source": [
    "sample_size = {}\n",
    "for subj in subjects:\n",
    "    test_count = pd.DataFrame(test_data[subj].groupby(\n",
    "            ['stim_type', 'pair_indices', 'inter_nums']\n",
    "        )['response'].agg('count'))\n",
    "    sample_size[subj] = test_count"
   ]
  },
  {
   "cell_type": "code",
   "execution_count": null,
   "id": "08dbff29",
   "metadata": {},
   "outputs": [],
   "source": [
    "sample_size['B1520']"
   ]
  },
  {
   "cell_type": "code",
   "execution_count": null,
   "id": "f020f998",
   "metadata": {
    "scrolled": false
   },
   "outputs": [],
   "source": [
    "## plotting\n",
    "for subj in subjects:\n",
    "    ## for each stim_type\n",
    "    for stim_type in np.unique(test_data[subj].stim_type):\n",
    "        ## for each pair index\n",
    "        for pair_index in np.unique(test_data[subj].pair_indices):\n",
    "            plt.figure(figsize = (16, 4))\n",
    "            sns.lineplot(\n",
    "                data = sample_size[subj].loc[stim_type, pair_index], \n",
    "                x = 'inter_nums',\n",
    "                y = 'response',\n",
    "                linewidth = 3\n",
    "            )\n",
    "            plt.xlabel('Interpolation # (0 = MaxMF, 128 = MinMF)')\n",
    "            title = subj + '_' + stim_type + '_index:' + pair_index\n",
    "            plt.title(title)"
   ]
  }
 ],
 "metadata": {
  "kernelspec": {
   "display_name": "starling_rhythm",
   "language": "python",
   "name": "starling_rhythm"
  },
  "language_info": {
   "codemirror_mode": {
    "name": "ipython",
    "version": 3
   },
   "file_extension": ".py",
   "mimetype": "text/x-python",
   "name": "python",
   "nbconvert_exporter": "python",
   "pygments_lexer": "ipython3",
   "version": "3.10.10"
  }
 },
 "nbformat": 4,
 "nbformat_minor": 5
}
