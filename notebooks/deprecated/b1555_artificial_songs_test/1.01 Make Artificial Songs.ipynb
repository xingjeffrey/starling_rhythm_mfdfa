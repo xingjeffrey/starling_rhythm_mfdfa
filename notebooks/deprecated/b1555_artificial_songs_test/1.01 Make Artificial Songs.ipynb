{
 "cells": [
  {
   "cell_type": "markdown",
   "id": "b657b3dd",
   "metadata": {},
   "source": [
    "# Make beep1555 songs\n",
    "### JX, 10/13/2022\n",
    "> compose fake songs and output them"
   ]
  },
  {
   "cell_type": "markdown",
   "id": "6935493c",
   "metadata": {},
   "source": [
    "## load in both dataframes"
   ]
  },
  {
   "cell_type": "code",
   "execution_count": 1,
   "id": "f77608b9",
   "metadata": {},
   "outputs": [],
   "source": [
    "from starling_rhythm.utils.paths import PROCESSED_DIR, ensure_dir\n",
    "import pandas as pd"
   ]
  },
  {
   "cell_type": "code",
   "execution_count": 2,
   "id": "fff06773",
   "metadata": {},
   "outputs": [],
   "source": [
    "SAVE_PATH = PROCESSED_DIR / 'starling_b1555_syllable_df_labels.pickle'\n",
    "syllable_df = pd.read_pickle(SAVE_PATH)"
   ]
  },
  {
   "cell_type": "code",
   "execution_count": 3,
   "id": "8fd8cb88",
   "metadata": {},
   "outputs": [],
   "source": [
    "SAVE_PATH = PROCESSED_DIR / 'starling_b1555_amp_envs200_spl.pickle'\n",
    "ae_df = pd.read_pickle(SAVE_PATH).reset_index()"
   ]
  },
  {
   "cell_type": "markdown",
   "id": "28a92271",
   "metadata": {},
   "source": [
    "## select only necessary columns to save memory"
   ]
  },
  {
   "cell_type": "code",
   "execution_count": 4,
   "id": "33e5a339",
   "metadata": {},
   "outputs": [],
   "source": [
    "syllable_df = syllable_df[['ae_df_index', 'onsets_ms', 'offsets_ms', 'hdbscan_labels']]\n",
    "ae_df = ae_df[['waveform']]"
   ]
  },
  {
   "cell_type": "code",
   "execution_count": 5,
   "id": "59a14bff",
   "metadata": {},
   "outputs": [],
   "source": [
    "FAKE_SONG_DIR = PROCESSED_DIR/'fake_songs'"
   ]
  },
  {
   "cell_type": "code",
   "execution_count": 6,
   "id": "96a66c1d",
   "metadata": {},
   "outputs": [
    {
     "data": {
      "text/plain": [
       "PosixPath('/mnt/cube/j8xing/starling_rhythm_mfdfa/data/fake_songs')"
      ]
     },
     "execution_count": 6,
     "metadata": {},
     "output_type": "execute_result"
    }
   ],
   "source": [
    "FAKE_SONG_DIR"
   ]
  },
  {
   "cell_type": "markdown",
   "id": "224cf134",
   "metadata": {},
   "source": [
    "## Synthesis Algorithm\n",
    "\n",
    "1. Slide 10 second window along syllable start times and capture syllables in that range. \n",
    "2. Record actual end time of last syllable\n",
    "2. For syn_real songs, place down waveforms of original syllables at original start times. \n",
    "4. For syn_fake songs, place down waveform templates fo original syllables at tiled start times such that intersyllable gaps are the same. "
   ]
  },
  {
   "cell_type": "code",
   "execution_count": 7,
   "id": "3e5fec40",
   "metadata": {},
   "outputs": [
    {
     "name": "stderr",
     "output_type": "stream",
     "text": [
      "/tmp/ipykernel_19641/4157363571.py:2: TqdmWarning: IProgress not found. Please update jupyter and ipywidgets. See https://ipywidgets.readthedocs.io/en/stable/user_install.html\n",
      "  from tqdm.autonotebook import tqdm\n"
     ]
    }
   ],
   "source": [
    "import random\n",
    "from tqdm.autonotebook import tqdm\n",
    "import numpy as np\n",
    "import scipy.io.wavfile as wv"
   ]
  },
  {
   "cell_type": "code",
   "execution_count": 8,
   "id": "395f7ebd",
   "metadata": {},
   "outputs": [],
   "source": [
    "def taper_audio(audio, taper):\n",
    "    '''\n",
    "    Linearly fade audio in/out\n",
    "    note: taper is in samples\n",
    "    '''\n",
    "    \n",
    "    ## taper audio\n",
    "    fade_in = audio[0:taper]*np.linspace(0, 1, num = taper)\n",
    "    fade_out = audio[-taper:]*np.linspace(1, 0, num = taper)\n",
    "            \n",
    "    audio[0:taper] = fade_in\n",
    "    audio[-taper:] = fade_out\n",
    "    \n",
    "    return audio"
   ]
  },
  {
   "cell_type": "code",
   "execution_count": 9,
   "id": "b4a89472",
   "metadata": {},
   "outputs": [],
   "source": [
    "def fake_songs(bout_nb, sampling_rate = 48000):\n",
    "    '''\n",
    "    for a bout_nb, return its real_syn songs, fake_syn_songs, and 100 shuffle_intergap songs\n",
    "    '''\n",
    "    real_syns = []\n",
    "    fake_syns = []\n",
    "    shuffle_intergaps_total = []\n",
    "    \n",
    "    ## grab all of their syllables\n",
    "    bout = syllable_df[syllable_df['ae_df_index'] == bout_nb]\n",
    "    \n",
    "    ## window of inspection is 10 sec / 10000 ms\n",
    "    window_size = 10\n",
    "    ## terminal syllable end\n",
    "    terminal = max(bout['offsets_ms'].values)\n",
    "    \n",
    "    ## window\n",
    "    windows_strt = np.arange(0, terminal - window_size + 1, step = 5)\n",
    "    windows_end = np.arange(window_size, terminal + 1, step = 5)\n",
    "    \n",
    "    ## slide window\n",
    "    for strt, end in zip(windows_strt, windows_end):\n",
    "        \n",
    "        ## between this range, pull out all the syllables \n",
    "        bout_slice = bout[(bout['onsets_ms'] > strt) & (bout['offsets_ms'] < end)] \n",
    "        \n",
    "        ## pull out all the syllable labels\n",
    "        sequence = bout_slice['hdbscan_labels'].values\n",
    "        \n",
    "        '''\n",
    "        Discard rules\n",
    "        '''\n",
    "        \n",
    "        ## discard all segments that don't have at least 10 syllables\n",
    "        if len(sequence) < 10:\n",
    "            continue\n",
    "        \n",
    "        ## discard all segments that don't have repetition of syllables\n",
    "        \n",
    "        #### get reptition counts\n",
    "        uniques, counts = np.unique(sequence, return_counts = True)\n",
    "        \n",
    "        #### any unlabeled syllables are not in this search\n",
    "        if np.any(uniques == -1):\n",
    "            uniques = uniques[1:]\n",
    "            counts = counts[1:]\n",
    "            \n",
    "        if len(np.unique(counts)) <= 1:\n",
    "            continue\n",
    "        \n",
    "        #print(strt, end, sequence)\n",
    "        \n",
    "        '''\n",
    "        Generate real synthesized songs:\n",
    "        '''\n",
    "        \n",
    "        min_onset = int(min(bout_slice.onsets_ms) * sampling_rate)\n",
    "        max_offset = int(max(bout_slice.offsets_ms) * sampling_rate)\n",
    "        real_syn = np.zeros(max_offset-min_onset)\n",
    "        taper = 96 ## 2ms\n",
    "        \n",
    "        audio = ae_df.loc[bout_nb].waveform\n",
    "        \n",
    "        for index, syllable in bout_slice.iterrows():\n",
    "            ## get the waveform for the syllable\n",
    "            syllable_sample_onset = int(syllable.onsets_ms * sampling_rate)\n",
    "            syllable_sample_offset = int(syllable.offsets_ms * sampling_rate)\n",
    "            syllable_audio = audio[syllable_sample_onset:syllable_sample_offset]\n",
    "            \n",
    "            ## taper audio\n",
    "            syllable_audio = taper_audio(syllable_audio, taper)\n",
    "            \n",
    "            ## replace into the blank syn\n",
    "            real_syn[(syllable_sample_onset-min_onset):(syllable_sample_offset-min_onset)] = syllable_audio\n",
    "            \n",
    "        filename = FAKE_SONG_DIR / ('bout_' + str(bout_nb)) / str(str(strt) + '-' + str(end)) / 'real_syn' / ('bout_nb' + str(bout_nb) + '-' + str(strt) + '-' + str(end) + '_real_syn.wav')\n",
    "        ensure_dir(filename)\n",
    "        wv.write(filename = filename, data = real_syn, rate = sampling_rate)\n",
    "        \n",
    "        '''\n",
    "        Generate fake synthesized songs:\n",
    "        '''\n",
    "        \n",
    "        # (1) generate a dictionary for labels that appear\n",
    "        waveform_dict = {'-1': 0}\n",
    "        for label, count in zip(uniques, counts):\n",
    "\n",
    "            ## don't record template for not grouped labels\n",
    "            if label == -1:\n",
    "                continue\n",
    "\n",
    "            else:\n",
    "                ## find the label within syllable_df\n",
    "                label_df = bout_slice[bout_slice['hdbscan_labels'] == label]\n",
    "                label_strt = int(label_df['onsets_ms'].values[0] * sampling_rate)\n",
    "                label_end = int(label_df['offsets_ms'].values[0] * sampling_rate)\n",
    "                template = audio[label_strt:label_end]\n",
    "                \n",
    "                template = taper_audio(template, taper)\n",
    "\n",
    "                waveform_dict[str(label)] = template\n",
    "        \n",
    "        # (2) find all the intersyllable gaps\n",
    "        gap_list = (bout_slice.onsets_ms.values[1:] - bout_slice.offsets_ms.values[:-1]) * sampling_rate\n",
    "        total_gap = sum(gap_list)\n",
    "        gaps = len(bout_slice) - 1\n",
    "        intergap = int(total_gap/gaps)\n",
    "        \n",
    "        # (3) walk through labels, and generate songs\n",
    "        fake_syn = []\n",
    "        negative_counter = 0\n",
    "        negative_df = bout_slice[bout_slice['hdbscan_labels'] == -1]\n",
    "\n",
    "        for label in bout_slice['hdbscan_labels'].values:\n",
    "\n",
    "            ## if label is ambiguous, use the existing one\n",
    "            if label == -1:\n",
    "                label_strt = int(list(negative_df.iterrows())[negative_counter][1].onsets_ms * sampling_rate)\n",
    "                label_end = int(list(negative_df.iterrows())[negative_counter][1].offsets_ms * sampling_rate)\n",
    "                label_audio = audio[label_strt:label_end]\n",
    "                negative_counter = negative_counter + 1\n",
    "\n",
    "            ## if label is known, query dictionary\n",
    "            else:\n",
    "                label_audio = waveform_dict[str(label)]\n",
    "                \n",
    "            ## add the syllable\n",
    "            fake_syn = np.append(fake_syn, label_audio)\n",
    "            ## add the intergap\n",
    "            fake_syn = np.append(fake_syn, np.zeros(intergap)*sampling_rate)\n",
    "            \n",
    "        ## delete the last gap by selecting up to the real song length\n",
    "        fake_syn = fake_syn[:len(real_syn)]\n",
    "        \n",
    "        filename = FAKE_SONG_DIR / ('bout_' + str(bout_nb)) / str(str(strt) + '-' + str(end)) / 'fake_syn' / ('bout_nb' + str(bout_nb) + '-' + str(strt) + '-' + str(end) + '_fake_syn.wav')\n",
    "        ensure_dir(filename)\n",
    "        wv.write(filename = filename, data = fake_syn, rate = sampling_rate)\n",
    "        \n",
    "        '''\n",
    "        Generate 30 shuffle-intergap songs:\n",
    "        '''\n",
    "        shuffle_intergaps = []\n",
    "        \n",
    "        for n in np.arange(0, 30):\n",
    "            \n",
    "            ## make container\n",
    "            shuffle_intergap = []\n",
    "            \n",
    "            ## shuffle order of intergap\n",
    "            shuffle_gap_list = gap_list\n",
    "            random.shuffle(shuffle_gap_list)\n",
    "            ## add end offset\n",
    "            shuffle_gap_list = np.append(shuffle_gap_list, [0])\n",
    "            \n",
    "            ## reset negative_counter\n",
    "            negative_counter = 0\n",
    "            \n",
    "            for label, gap in zip(bout_slice['hdbscan_labels'].values, shuffle_gap_list):\n",
    "\n",
    "                ## if label is ambiguous, use the existing one\n",
    "                if label == -1:\n",
    "                    label_strt = int(list(negative_df.iterrows())[negative_counter][1].onsets_ms * sampling_rate)\n",
    "                    label_end = int(list(negative_df.iterrows())[negative_counter][1].offsets_ms * sampling_rate)\n",
    "                    label_audio = audio[label_strt:label_end]\n",
    "                    negative_counter = negative_counter + 1\n",
    "\n",
    "                ## if label is known, query dictionary\n",
    "                else:\n",
    "                    label_audio = waveform_dict[str(label)]\n",
    "\n",
    "                ## add the syllable\n",
    "                shuffle_intergap = np.append(shuffle_intergap, label_audio)\n",
    "                ## add the intergap\n",
    "                shuffle_intergap = np.append(shuffle_intergap, np.zeros(int(gap))*sampling_rate)\n",
    "                \n",
    "            ## delete the last gap by selecting up to the real song length\n",
    "            filename = FAKE_SONG_DIR / ('bout_' + str(bout_nb)) / str(str(strt) + '-' + str(end)) / 'shuffle_intergap' / ('bout_nb' + str(bout_nb) + '-' + str(strt) + '-' + str(end) + '_shuffle_intergap_' + str(n) + '.wav')\n",
    "            ensure_dir(filename)\n",
    "            wv.write(filename = filename, data = shuffle_intergap, rate = sampling_rate)\n",
    "        shuffle_intergaps_total.append(shuffle_intergaps)"
   ]
  },
  {
   "cell_type": "code",
   "execution_count": 10,
   "id": "5cc3122d",
   "metadata": {},
   "outputs": [],
   "source": [
    "from joblib import Parallel, delayed\n",
    "n_jobs = 36\n",
    "verbosity = 0"
   ]
  },
  {
   "cell_type": "code",
   "execution_count": 11,
   "id": "ae78c811",
   "metadata": {},
   "outputs": [
    {
     "name": "stderr",
     "output_type": "stream",
     "text": [
      "Creating fake songs:   7%|▋         | 73/1041 [00:46<10:46,  1.50it/s]/home/AD/j8xing/anaconda3/envs/starling_rhythm/lib/python3.10/site-packages/joblib/externals/loky/process_executor.py:702: UserWarning: A worker stopped while some jobs were given to the executor. This can be caused by a too short worker timeout or by a memory leak.\n",
      "  warnings.warn(\n",
      "Creating fake songs:  76%|███████▌  | 792/1041 [3:20:58<53:41, 12.94s/it]  "
     ]
    },
    {
     "ename": "ValueError",
     "evalue": "could not broadcast input array from shape (10992,) into shape (11040,)",
     "output_type": "error",
     "traceback": [
      "\u001b[0;31m---------------------------------------------------------------------------\u001b[0m",
      "\u001b[0;31m_RemoteTraceback\u001b[0m                          Traceback (most recent call last)",
      "\u001b[0;31m_RemoteTraceback\u001b[0m: \n\"\"\"\nTraceback (most recent call last):\n  File \"/home/AD/j8xing/anaconda3/envs/starling_rhythm/lib/python3.10/site-packages/joblib/externals/loky/process_executor.py\", line 436, in _process_worker\n    r = call_item()\n  File \"/home/AD/j8xing/anaconda3/envs/starling_rhythm/lib/python3.10/site-packages/joblib/externals/loky/process_executor.py\", line 288, in __call__\n    return self.fn(*self.args, **self.kwargs)\n  File \"/home/AD/j8xing/anaconda3/envs/starling_rhythm/lib/python3.10/site-packages/joblib/_parallel_backends.py\", line 595, in __call__\n    return self.func(*args, **kwargs)\n  File \"/home/AD/j8xing/anaconda3/envs/starling_rhythm/lib/python3.10/site-packages/joblib/parallel.py\", line 262, in __call__\n    return [func(*args, **kwargs)\n  File \"/home/AD/j8xing/anaconda3/envs/starling_rhythm/lib/python3.10/site-packages/joblib/parallel.py\", line 262, in <listcomp>\n    return [func(*args, **kwargs)\n  File \"/tmp/ipykernel_19641/472043242.py\", line 74, in fake_songs\nValueError: could not broadcast input array from shape (10992,) into shape (11040,)\n\"\"\"",
      "\nThe above exception was the direct cause of the following exception:\n",
      "\u001b[0;31mValueError\u001b[0m                                Traceback (most recent call last)",
      "Input \u001b[0;32mIn [11]\u001b[0m, in \u001b[0;36m<cell line: 1>\u001b[0;34m()\u001b[0m\n\u001b[1;32m      1\u001b[0m \u001b[38;5;28;01mwith\u001b[39;00m Parallel(n_jobs\u001b[38;5;241m=\u001b[39mn_jobs, verbose\u001b[38;5;241m=\u001b[39mverbosity) \u001b[38;5;28;01mas\u001b[39;00m parallel:\n\u001b[0;32m----> 2\u001b[0m     \u001b[43mparallel\u001b[49m\u001b[43m(\u001b[49m\n\u001b[1;32m      3\u001b[0m \u001b[43m        \u001b[49m\u001b[43mdelayed\u001b[49m\u001b[43m(\u001b[49m\u001b[43mfake_songs\u001b[49m\u001b[43m)\u001b[49m\u001b[43m(\u001b[49m\n\u001b[1;32m      4\u001b[0m \u001b[43m            \u001b[49m\u001b[43mbout_nb\u001b[49m\u001b[43m \u001b[49m\u001b[38;5;241;43m=\u001b[39;49m\u001b[43m \u001b[49m\u001b[43mbout_nb\u001b[49m\n\u001b[1;32m      5\u001b[0m \u001b[43m        \u001b[49m\u001b[43m)\u001b[49m\n\u001b[1;32m      6\u001b[0m \u001b[43m        \u001b[49m\u001b[38;5;28;43;01mfor\u001b[39;49;00m\u001b[43m \u001b[49m\u001b[43mbout_nb\u001b[49m\u001b[43m \u001b[49m\u001b[38;5;129;43;01min\u001b[39;49;00m\u001b[43m \u001b[49m\u001b[43mtqdm\u001b[49m\u001b[43m(\u001b[49m\n\u001b[1;32m      7\u001b[0m \u001b[43m            \u001b[49m\u001b[43mnp\u001b[49m\u001b[38;5;241;43m.\u001b[39;49m\u001b[43munique\u001b[49m\u001b[43m(\u001b[49m\u001b[43msyllable_df\u001b[49m\u001b[43m[\u001b[49m\u001b[38;5;124;43m'\u001b[39;49m\u001b[38;5;124;43mae_df_index\u001b[39;49m\u001b[38;5;124;43m'\u001b[39;49m\u001b[43m]\u001b[49m\u001b[38;5;241;43m.\u001b[39;49m\u001b[43mvalues\u001b[49m\u001b[43m)\u001b[49m\u001b[43m,\u001b[49m\n\u001b[1;32m      8\u001b[0m \u001b[43m            \u001b[49m\u001b[43mdesc\u001b[49m\u001b[38;5;241;43m=\u001b[39;49m\u001b[38;5;124;43m\"\u001b[39;49m\u001b[38;5;124;43mCreating fake songs\u001b[39;49m\u001b[38;5;124;43m\"\u001b[39;49m\u001b[43m,\u001b[49m\n\u001b[1;32m      9\u001b[0m \u001b[43m            \u001b[49m\u001b[43mleave\u001b[49m\u001b[38;5;241;43m=\u001b[39;49m\u001b[38;5;28;43;01mFalse\u001b[39;49;00m\u001b[43m,\u001b[49m\n\u001b[1;32m     10\u001b[0m \u001b[43m        \u001b[49m\u001b[43m)\u001b[49m\n\u001b[1;32m     11\u001b[0m \u001b[43m    \u001b[49m\u001b[43m)\u001b[49m\n",
      "File \u001b[0;32m~/anaconda3/envs/starling_rhythm/lib/python3.10/site-packages/joblib/parallel.py:1056\u001b[0m, in \u001b[0;36mParallel.__call__\u001b[0;34m(self, iterable)\u001b[0m\n\u001b[1;32m   1053\u001b[0m     \u001b[38;5;28mself\u001b[39m\u001b[38;5;241m.\u001b[39m_iterating \u001b[38;5;241m=\u001b[39m \u001b[38;5;28;01mFalse\u001b[39;00m\n\u001b[1;32m   1055\u001b[0m \u001b[38;5;28;01mwith\u001b[39;00m \u001b[38;5;28mself\u001b[39m\u001b[38;5;241m.\u001b[39m_backend\u001b[38;5;241m.\u001b[39mretrieval_context():\n\u001b[0;32m-> 1056\u001b[0m     \u001b[38;5;28;43mself\u001b[39;49m\u001b[38;5;241;43m.\u001b[39;49m\u001b[43mretrieve\u001b[49m\u001b[43m(\u001b[49m\u001b[43m)\u001b[49m\n\u001b[1;32m   1057\u001b[0m \u001b[38;5;66;03m# Make sure that we get a last message telling us we are done\u001b[39;00m\n\u001b[1;32m   1058\u001b[0m elapsed_time \u001b[38;5;241m=\u001b[39m time\u001b[38;5;241m.\u001b[39mtime() \u001b[38;5;241m-\u001b[39m \u001b[38;5;28mself\u001b[39m\u001b[38;5;241m.\u001b[39m_start_time\n",
      "File \u001b[0;32m~/anaconda3/envs/starling_rhythm/lib/python3.10/site-packages/joblib/parallel.py:935\u001b[0m, in \u001b[0;36mParallel.retrieve\u001b[0;34m(self)\u001b[0m\n\u001b[1;32m    933\u001b[0m \u001b[38;5;28;01mtry\u001b[39;00m:\n\u001b[1;32m    934\u001b[0m     \u001b[38;5;28;01mif\u001b[39;00m \u001b[38;5;28mgetattr\u001b[39m(\u001b[38;5;28mself\u001b[39m\u001b[38;5;241m.\u001b[39m_backend, \u001b[38;5;124m'\u001b[39m\u001b[38;5;124msupports_timeout\u001b[39m\u001b[38;5;124m'\u001b[39m, \u001b[38;5;28;01mFalse\u001b[39;00m):\n\u001b[0;32m--> 935\u001b[0m         \u001b[38;5;28mself\u001b[39m\u001b[38;5;241m.\u001b[39m_output\u001b[38;5;241m.\u001b[39mextend(\u001b[43mjob\u001b[49m\u001b[38;5;241;43m.\u001b[39;49m\u001b[43mget\u001b[49m\u001b[43m(\u001b[49m\u001b[43mtimeout\u001b[49m\u001b[38;5;241;43m=\u001b[39;49m\u001b[38;5;28;43mself\u001b[39;49m\u001b[38;5;241;43m.\u001b[39;49m\u001b[43mtimeout\u001b[49m\u001b[43m)\u001b[49m)\n\u001b[1;32m    936\u001b[0m     \u001b[38;5;28;01melse\u001b[39;00m:\n\u001b[1;32m    937\u001b[0m         \u001b[38;5;28mself\u001b[39m\u001b[38;5;241m.\u001b[39m_output\u001b[38;5;241m.\u001b[39mextend(job\u001b[38;5;241m.\u001b[39mget())\n",
      "File \u001b[0;32m~/anaconda3/envs/starling_rhythm/lib/python3.10/site-packages/joblib/_parallel_backends.py:542\u001b[0m, in \u001b[0;36mLokyBackend.wrap_future_result\u001b[0;34m(future, timeout)\u001b[0m\n\u001b[1;32m    539\u001b[0m \u001b[38;5;124;03m\"\"\"Wrapper for Future.result to implement the same behaviour as\u001b[39;00m\n\u001b[1;32m    540\u001b[0m \u001b[38;5;124;03mAsyncResults.get from multiprocessing.\"\"\"\u001b[39;00m\n\u001b[1;32m    541\u001b[0m \u001b[38;5;28;01mtry\u001b[39;00m:\n\u001b[0;32m--> 542\u001b[0m     \u001b[38;5;28;01mreturn\u001b[39;00m \u001b[43mfuture\u001b[49m\u001b[38;5;241;43m.\u001b[39;49m\u001b[43mresult\u001b[49m\u001b[43m(\u001b[49m\u001b[43mtimeout\u001b[49m\u001b[38;5;241;43m=\u001b[39;49m\u001b[43mtimeout\u001b[49m\u001b[43m)\u001b[49m\n\u001b[1;32m    543\u001b[0m \u001b[38;5;28;01mexcept\u001b[39;00m CfTimeoutError \u001b[38;5;28;01mas\u001b[39;00m e:\n\u001b[1;32m    544\u001b[0m     \u001b[38;5;28;01mraise\u001b[39;00m \u001b[38;5;167;01mTimeoutError\u001b[39;00m \u001b[38;5;28;01mfrom\u001b[39;00m \u001b[38;5;21;01me\u001b[39;00m\n",
      "File \u001b[0;32m~/anaconda3/envs/starling_rhythm/lib/python3.10/concurrent/futures/_base.py:446\u001b[0m, in \u001b[0;36mFuture.result\u001b[0;34m(self, timeout)\u001b[0m\n\u001b[1;32m    444\u001b[0m     \u001b[38;5;28;01mraise\u001b[39;00m CancelledError()\n\u001b[1;32m    445\u001b[0m \u001b[38;5;28;01melif\u001b[39;00m \u001b[38;5;28mself\u001b[39m\u001b[38;5;241m.\u001b[39m_state \u001b[38;5;241m==\u001b[39m FINISHED:\n\u001b[0;32m--> 446\u001b[0m     \u001b[38;5;28;01mreturn\u001b[39;00m \u001b[38;5;28;43mself\u001b[39;49m\u001b[38;5;241;43m.\u001b[39;49m\u001b[43m__get_result\u001b[49m\u001b[43m(\u001b[49m\u001b[43m)\u001b[49m\n\u001b[1;32m    447\u001b[0m \u001b[38;5;28;01melse\u001b[39;00m:\n\u001b[1;32m    448\u001b[0m     \u001b[38;5;28;01mraise\u001b[39;00m \u001b[38;5;167;01mTimeoutError\u001b[39;00m()\n",
      "File \u001b[0;32m~/anaconda3/envs/starling_rhythm/lib/python3.10/concurrent/futures/_base.py:391\u001b[0m, in \u001b[0;36mFuture.__get_result\u001b[0;34m(self)\u001b[0m\n\u001b[1;32m    389\u001b[0m \u001b[38;5;28;01mif\u001b[39;00m \u001b[38;5;28mself\u001b[39m\u001b[38;5;241m.\u001b[39m_exception:\n\u001b[1;32m    390\u001b[0m     \u001b[38;5;28;01mtry\u001b[39;00m:\n\u001b[0;32m--> 391\u001b[0m         \u001b[38;5;28;01mraise\u001b[39;00m \u001b[38;5;28mself\u001b[39m\u001b[38;5;241m.\u001b[39m_exception\n\u001b[1;32m    392\u001b[0m     \u001b[38;5;28;01mfinally\u001b[39;00m:\n\u001b[1;32m    393\u001b[0m         \u001b[38;5;66;03m# Break a reference cycle with the exception in self._exception\u001b[39;00m\n\u001b[1;32m    394\u001b[0m         \u001b[38;5;28mself\u001b[39m \u001b[38;5;241m=\u001b[39m \u001b[38;5;28;01mNone\u001b[39;00m\n",
      "\u001b[0;31mValueError\u001b[0m: could not broadcast input array from shape (10992,) into shape (11040,)"
     ]
    }
   ],
   "source": [
    "with Parallel(n_jobs=n_jobs, verbose=verbosity) as parallel:\n",
    "    parallel(\n",
    "        delayed(fake_songs)(\n",
    "            bout_nb = bout_nb\n",
    "        )\n",
    "        for bout_nb in tqdm(\n",
    "            np.unique(syllable_df['ae_df_index'].values),\n",
    "            desc=\"Creating fake songs\",\n",
    "            leave=False,\n",
    "        )\n",
    "    )"
   ]
  }
 ],
 "metadata": {
  "kernelspec": {
   "display_name": "starling_rhythm",
   "language": "python",
   "name": "starling_rhythm"
  },
  "language_info": {
   "codemirror_mode": {
    "name": "ipython",
    "version": 3
   },
   "file_extension": ".py",
   "mimetype": "text/x-python",
   "name": "python",
   "nbconvert_exporter": "python",
   "pygments_lexer": "ipython3",
   "version": "3.10.4"
  }
 },
 "nbformat": 4,
 "nbformat_minor": 5
}
