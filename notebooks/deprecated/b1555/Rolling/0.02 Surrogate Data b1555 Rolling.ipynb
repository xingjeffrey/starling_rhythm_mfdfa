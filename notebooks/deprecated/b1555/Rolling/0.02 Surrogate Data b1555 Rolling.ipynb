{
 "cells": [
  {
   "cell_type": "markdown",
   "id": "f307d59f",
   "metadata": {},
   "source": [
    "# Get MF-DFA on Surrogate Data\n",
    "#### Date: 9/07/2022, JX\n",
    "> Make IAAFT and get surrogate data on /mnt/cube/j8xing/starling_rhythm_mfdfa/data/starling_zenodo_2019_amp_envs_MF.pickle"
   ]
  },
  {
   "cell_type": "code",
   "execution_count": 1,
   "id": "3459099c",
   "metadata": {},
   "outputs": [],
   "source": [
    "from starling_rhythm.utils.paths import PROCESSED_DIR"
   ]
  },
  {
   "cell_type": "markdown",
   "id": "7351cfa1",
   "metadata": {},
   "source": [
    "## Import dataframe"
   ]
  },
  {
   "cell_type": "code",
   "execution_count": 2,
   "id": "30da70ca",
   "metadata": {},
   "outputs": [],
   "source": [
    "import pandas as pd"
   ]
  },
  {
   "cell_type": "code",
   "execution_count": 3,
   "id": "4a31cd8f",
   "metadata": {},
   "outputs": [],
   "source": [
    "SAVE_PATH = PROCESSED_DIR / 'starling_b1555_rolling.pickle'\n",
    "ae_df = pd.read_pickle(SAVE_PATH)"
   ]
  },
  {
   "cell_type": "code",
   "execution_count": 4,
   "id": "e4fac871",
   "metadata": {},
   "outputs": [
    {
     "data": {
      "text/html": [
       "<div>\n",
       "<style scoped>\n",
       "    .dataframe tbody tr th:only-of-type {\n",
       "        vertical-align: middle;\n",
       "    }\n",
       "\n",
       "    .dataframe tbody tr th {\n",
       "        vertical-align: top;\n",
       "    }\n",
       "\n",
       "    .dataframe thead th {\n",
       "        text-align: right;\n",
       "    }\n",
       "</style>\n",
       "<table border=\"1\" class=\"dataframe\">\n",
       "  <thead>\n",
       "    <tr style=\"text-align: right;\">\n",
       "      <th></th>\n",
       "      <th>file</th>\n",
       "      <th>ae_windows</th>\n",
       "      <th>wf_windows</th>\n",
       "      <th>ae_segs</th>\n",
       "      <th>wf_segs</th>\n",
       "      <th>MF_range</th>\n",
       "      <th>h_expos</th>\n",
       "    </tr>\n",
       "  </thead>\n",
       "  <tbody>\n",
       "    <tr>\n",
       "      <th>0</th>\n",
       "      <td>/mnt/sphere/speech_bci/raw_data/s_b1555_22/202...</td>\n",
       "      <td>[0, 200, 400, 600, 800, 1000, 1200, 1400, 1600...</td>\n",
       "      <td>[0, 48000, 96000, 144000, 192000, 240000, 2880...</td>\n",
       "      <td>[[2.4892911824281327e-05, 0.002640440361574292...</td>\n",
       "      <td>[[-5, -5, -5, -5, -3, -5, -5, -4, -6, -4, -2, ...</td>\n",
       "      <td>[0.8730673405528055, 0.8706626699489289, 0.824...</td>\n",
       "      <td>[[1.4657739775265182, 1.1010962192283225, 0.91...</td>\n",
       "    </tr>\n",
       "    <tr>\n",
       "      <th>1</th>\n",
       "      <td>/mnt/sphere/speech_bci/raw_data/s_b1555_22/202...</td>\n",
       "      <td>[0, 200, 400, 600, 800, 1000, 1200, 1400, 1600...</td>\n",
       "      <td>[0, 48000, 96000, 144000, 192000, 240000, 2880...</td>\n",
       "      <td>[[5.805372893519234e-06, 0.0016227918677031994...</td>\n",
       "      <td>[[3, 1, 1, 1, 1, 1, 0, 1, 1, 0, 0, 0, -1, -1, ...</td>\n",
       "      <td>[0.9664169621780289, 0.9809983239740178, 0.921...</td>\n",
       "      <td>[[1.5238986061634554, 1.0951816274909019, 0.89...</td>\n",
       "    </tr>\n",
       "    <tr>\n",
       "      <th>2</th>\n",
       "      <td>/mnt/sphere/speech_bci/raw_data/s_b1555_22/202...</td>\n",
       "      <td>[0, 200, 400, 600, 800, 1000, 1200, 1400, 1600...</td>\n",
       "      <td>[0, 48000, 96000, 144000, 192000, 240000, 2880...</td>\n",
       "      <td>[[9.765496361069381e-05, 0.007925855927169323,...</td>\n",
       "      <td>[[-11, -11, -11, -11, -12, -11, -11, -11, -10,...</td>\n",
       "      <td>[0.8120662801276709, 0.7727702312106444, 0.668...</td>\n",
       "      <td>[[1.4775920884087206, 1.2183430534260593, 1.04...</td>\n",
       "    </tr>\n",
       "    <tr>\n",
       "      <th>3</th>\n",
       "      <td>/mnt/sphere/speech_bci/raw_data/s_b1555_22/202...</td>\n",
       "      <td>[0, 200, 400, 600, 800, 1000, 1200, 1400, 1600...</td>\n",
       "      <td>[0, 48000, 96000, 144000, 192000, 240000, 2880...</td>\n",
       "      <td>[[5.769828931079246e-05, 0.015915358439087868,...</td>\n",
       "      <td>[[-2, -2, -1, -2, -2, -2, -3, -3, -3, -3, -3, ...</td>\n",
       "      <td>[0.8538805324313644, 0.8593869372675185, 0.891...</td>\n",
       "      <td>[[1.6557807113490535, 1.2840303064511298, 1.09...</td>\n",
       "    </tr>\n",
       "    <tr>\n",
       "      <th>4</th>\n",
       "      <td>/mnt/sphere/speech_bci/raw_data/s_b1555_22/202...</td>\n",
       "      <td>[0, 200, 400, 600, 800, 1000, 1200, 1400, 1600...</td>\n",
       "      <td>[0, 48000, 96000, 144000, 192000, 240000, 2880...</td>\n",
       "      <td>[[5.337237780622672e-06, 0.0012986172223463655...</td>\n",
       "      <td>[[6, 5, 5, 5, 3, 4, 4, 4, 4, 4, 4, 4, 3, 3, 3,...</td>\n",
       "      <td>[0.5083580005636952, 0.4765988787740265, 0.458...</td>\n",
       "      <td>[[1.3349906028500809, 1.1858083499345686, 1.08...</td>\n",
       "    </tr>\n",
       "  </tbody>\n",
       "</table>\n",
       "</div>"
      ],
      "text/plain": [
       "                                                file  \\\n",
       "0  /mnt/sphere/speech_bci/raw_data/s_b1555_22/202...   \n",
       "1  /mnt/sphere/speech_bci/raw_data/s_b1555_22/202...   \n",
       "2  /mnt/sphere/speech_bci/raw_data/s_b1555_22/202...   \n",
       "3  /mnt/sphere/speech_bci/raw_data/s_b1555_22/202...   \n",
       "4  /mnt/sphere/speech_bci/raw_data/s_b1555_22/202...   \n",
       "\n",
       "                                          ae_windows  \\\n",
       "0  [0, 200, 400, 600, 800, 1000, 1200, 1400, 1600...   \n",
       "1  [0, 200, 400, 600, 800, 1000, 1200, 1400, 1600...   \n",
       "2  [0, 200, 400, 600, 800, 1000, 1200, 1400, 1600...   \n",
       "3  [0, 200, 400, 600, 800, 1000, 1200, 1400, 1600...   \n",
       "4  [0, 200, 400, 600, 800, 1000, 1200, 1400, 1600...   \n",
       "\n",
       "                                          wf_windows  \\\n",
       "0  [0, 48000, 96000, 144000, 192000, 240000, 2880...   \n",
       "1  [0, 48000, 96000, 144000, 192000, 240000, 2880...   \n",
       "2  [0, 48000, 96000, 144000, 192000, 240000, 2880...   \n",
       "3  [0, 48000, 96000, 144000, 192000, 240000, 2880...   \n",
       "4  [0, 48000, 96000, 144000, 192000, 240000, 2880...   \n",
       "\n",
       "                                             ae_segs  \\\n",
       "0  [[2.4892911824281327e-05, 0.002640440361574292...   \n",
       "1  [[5.805372893519234e-06, 0.0016227918677031994...   \n",
       "2  [[9.765496361069381e-05, 0.007925855927169323,...   \n",
       "3  [[5.769828931079246e-05, 0.015915358439087868,...   \n",
       "4  [[5.337237780622672e-06, 0.0012986172223463655...   \n",
       "\n",
       "                                             wf_segs  \\\n",
       "0  [[-5, -5, -5, -5, -3, -5, -5, -4, -6, -4, -2, ...   \n",
       "1  [[3, 1, 1, 1, 1, 1, 0, 1, 1, 0, 0, 0, -1, -1, ...   \n",
       "2  [[-11, -11, -11, -11, -12, -11, -11, -11, -10,...   \n",
       "3  [[-2, -2, -1, -2, -2, -2, -3, -3, -3, -3, -3, ...   \n",
       "4  [[6, 5, 5, 5, 3, 4, 4, 4, 4, 4, 4, 4, 3, 3, 3,...   \n",
       "\n",
       "                                            MF_range  \\\n",
       "0  [0.8730673405528055, 0.8706626699489289, 0.824...   \n",
       "1  [0.9664169621780289, 0.9809983239740178, 0.921...   \n",
       "2  [0.8120662801276709, 0.7727702312106444, 0.668...   \n",
       "3  [0.8538805324313644, 0.8593869372675185, 0.891...   \n",
       "4  [0.5083580005636952, 0.4765988787740265, 0.458...   \n",
       "\n",
       "                                             h_expos  \n",
       "0  [[1.4657739775265182, 1.1010962192283225, 0.91...  \n",
       "1  [[1.5238986061634554, 1.0951816274909019, 0.89...  \n",
       "2  [[1.4775920884087206, 1.2183430534260593, 1.04...  \n",
       "3  [[1.6557807113490535, 1.2840303064511298, 1.09...  \n",
       "4  [[1.3349906028500809, 1.1858083499345686, 1.08...  "
      ]
     },
     "execution_count": 4,
     "metadata": {},
     "output_type": "execute_result"
    }
   ],
   "source": [
    "ae_df.head()"
   ]
  },
  {
   "cell_type": "code",
   "execution_count": 5,
   "id": "6896f133",
   "metadata": {},
   "outputs": [],
   "source": [
    "ae_df = ae_df[:25] ##look at only 25"
   ]
  },
  {
   "cell_type": "markdown",
   "id": "f2ce2be8",
   "metadata": {},
   "source": [
    "## Generate IAAFT Surrogates\n",
    "> 1. Store the amplitude spectrum (list of amplitudes corresponding to each frequency of a FT)\n",
    "2. Randomized the series (build randomized phase spectrum)\n",
    "3. Replace the amplitude spectrum in the randomized series with stored amplitude spectrum using inverse FT\n",
    "4. Replace the rank-order value of iFT with ranked-ordered matches in the original series\n",
    "5. Reiterate steps 2-4 until difference between empirical amplitude spectra and surrogate is less than 5 percent. \n",
    "## Retrieve Sampling Distribution of MF_range for each amplitude envelope\n",
    "> Use surrogate count of 32 for $\\alpha$ = 0.05, effect size = 0.5, power = 0.5 (See Kelty-Stephen et al. 2022)"
   ]
  },
  {
   "cell_type": "code",
   "execution_count": 6,
   "id": "364595f1",
   "metadata": {},
   "outputs": [
    {
     "name": "stderr",
     "output_type": "stream",
     "text": [
      "/home/AD/j8xing/anaconda3/envs/starling_rhythm/lib/python3.10/site-packages/tqdm/auto.py:22: TqdmWarning: IProgress not found. Please update jupyter and ipywidgets. See https://ipywidgets.readthedocs.io/en/stable/user_install.html\n",
      "  from .autonotebook import tqdm as notebook_tqdm\n"
     ]
    }
   ],
   "source": [
    "import starling_rhythm.iaaft as iaaft\n",
    "from starling_rhythm.mfdfa import hurst_expo\n",
    "from joblib import Parallel, delayed\n",
    "from timeit import timeit\n",
    "from tqdm.autonotebook import tqdm"
   ]
  },
  {
   "cell_type": "code",
   "execution_count": 7,
   "id": "bb0e33c0",
   "metadata": {},
   "outputs": [],
   "source": [
    "def SDoMF_iaaft(amp_env, ns = 32):\n",
    "    '''\n",
    "    For each amplitude envelope, find some number of its surrogates, and find MF_range for all surrogates\n",
    "    '''\n",
    "    \n",
    "    ## calculate its surrogates\n",
    "    surrogates = iaaft.surrogates(amp_env, ns = ns, maxiter = 10000, verbose = False)\n",
    "    \n",
    "    ## container for SDoMF_iaaft\n",
    "    SDoMF = []\n",
    "    \n",
    "    ## find all the Hurst exponents of all the surrogates\n",
    "    for surrogate in surrogates:\n",
    "        ## Output Hs for each surrogate\n",
    "        h_expos = hurst_expo(surrogate)\n",
    "        SDoMF.append(max(h_expos) - min(h_expos))\n",
    "            \n",
    "    return SDoMF"
   ]
  },
  {
   "cell_type": "code",
   "execution_count": 8,
   "id": "2111856f",
   "metadata": {},
   "outputs": [],
   "source": [
    "n_jobs = 36 ## set up joblib parameters\n",
    "verbose = 0"
   ]
  },
  {
   "cell_type": "code",
   "execution_count": 9,
   "id": "3155a5a0",
   "metadata": {},
   "outputs": [],
   "source": [
    "import psutil\n",
    "psutil.Process().nice(19)"
   ]
  },
  {
   "cell_type": "code",
   "execution_count": 10,
   "id": "5b67e063",
   "metadata": {
    "scrolled": true
   },
   "outputs": [
    {
     "name": "stderr",
     "output_type": "stream",
     "text": [
      "Running Surrogate Data: 100%|██████████| 60/60 [00:03<00:00, 17.45it/s]\n",
      "Running Surrogate Data: 100%|██████████| 55/55 [00:00<00:00, 2313.81it/s]\n",
      "Running Surrogate Data: 100%|██████████| 55/55 [00:00<00:00, 3038.79it/s]\n",
      "Running Surrogate Data: 100%|██████████| 53/53 [00:00<00:00, 2045.10it/s]\n",
      "Running Surrogate Data: 100%|██████████| 53/53 [00:00<00:00, 2999.17it/s]\n",
      "Running Surrogate Data: 100%|██████████| 53/53 [00:00<00:00, 2975.36it/s]\n",
      "Running Surrogate Data: 100%|██████████| 53/53 [00:00<00:00, 3327.17it/s]\n",
      "Running Surrogate Data: 100%|██████████| 53/53 [00:00<00:00, 3035.91it/s]\n",
      "Running Surrogate Data: 100%|██████████| 52/52 [00:00<00:00, 3165.83it/s]\n",
      "Running Surrogate Data: 100%|██████████| 52/52 [00:00<00:00, 2194.00it/s]\n",
      "Running Surrogate Data: 100%|██████████| 52/52 [00:00<00:00, 7191.97it/s]\n",
      "Running Surrogate Data: 100%|██████████| 51/51 [00:00<00:00, 3341.97it/s]\n",
      "Running Surrogate Data: 100%|██████████| 51/51 [00:00<00:00, 2387.68it/s]\n",
      "Running Surrogate Data: 100%|██████████| 51/51 [00:00<00:00, 2504.88it/s]\n",
      "Running Surrogate Data: 100%|██████████| 51/51 [00:00<00:00, 2874.66it/s]\n",
      "Running Surrogate Data: 100%|██████████| 50/50 [00:00<00:00, 6389.47it/s]\n",
      "Running Surrogate Data: 100%|██████████| 50/50 [00:00<00:00, 2598.60it/s]\n",
      "Running Surrogate Data: 100%|██████████| 50/50 [00:00<00:00, 9292.18it/s]\n",
      "Running Surrogate Data: 100%|██████████| 50/50 [00:00<00:00, 2296.01it/s]\n",
      "Running Surrogate Data: 100%|██████████| 50/50 [00:00<00:00, 3986.75it/s]\n",
      "Running Surrogate Data: 100%|██████████| 50/50 [00:00<00:00, 2013.43it/s]\n",
      "Running Surrogate Data: 100%|██████████| 50/50 [00:00<00:00, 6799.00it/s]\n",
      "Running Surrogate Data: 100%|██████████| 49/49 [00:00<00:00, 3108.91it/s]\n",
      "Running Surrogate Data: 100%|██████████| 49/49 [00:00<00:00, 7679.58it/s]\n",
      "Running Surrogate Data: 100%|██████████| 48/48 [00:00<00:00, 13282.75it/s]\n"
     ]
    }
   ],
   "source": [
    "total_mf_ranges = []\n",
    "\n",
    "for ae_seg in ae_df.ae_segs.values:\n",
    "    with Parallel(n_jobs = n_jobs, verbose = verbose) as parallel:\n",
    "        mf_ranges = parallel(\n",
    "            delayed(SDoMF_iaaft)(\n",
    "                amp_env\n",
    "            )\n",
    "            for amp_env in tqdm(ae_seg, desc = 'Running Surrogate Data')\n",
    "        )\n",
    "        \n",
    "    total_mf_ranges.append(mf_ranges)\n",
    "    \n",
    "ae_df['mf_iaaft_range'] = total_mf_ranges"
   ]
  },
  {
   "cell_type": "markdown",
   "id": "f9df5bf3",
   "metadata": {},
   "source": [
    "## Pickle Dataframe"
   ]
  },
  {
   "cell_type": "code",
   "execution_count": 11,
   "id": "4a45f5cb",
   "metadata": {},
   "outputs": [],
   "source": [
    "from starling_rhythm.utils.paths import PROCESSED_DIR, ensure_dir"
   ]
  },
  {
   "cell_type": "code",
   "execution_count": 12,
   "id": "29f0b67c",
   "metadata": {},
   "outputs": [],
   "source": [
    "SAVE_PATH = PROCESSED_DIR / 'starling_b1555_rolling_IAAFT.pickle'\n",
    "ensure_dir(SAVE_PATH)"
   ]
  },
  {
   "cell_type": "code",
   "execution_count": 13,
   "id": "601a9e5f",
   "metadata": {},
   "outputs": [],
   "source": [
    "ae_df.to_pickle(SAVE_PATH)"
   ]
  }
 ],
 "metadata": {
  "kernelspec": {
   "display_name": "starling_rhythm",
   "language": "python",
   "name": "starling_rhythm"
  },
  "language_info": {
   "codemirror_mode": {
    "name": "ipython",
    "version": 3
   },
   "file_extension": ".py",
   "mimetype": "text/x-python",
   "name": "python",
   "nbconvert_exporter": "python",
   "pygments_lexer": "ipython3",
   "version": "3.10.4"
  }
 },
 "nbformat": 4,
 "nbformat_minor": 5
}
