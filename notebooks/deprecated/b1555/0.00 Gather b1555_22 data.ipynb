{
 "cells": [
  {
   "cell_type": "markdown",
   "id": "613cc293",
   "metadata": {},
   "source": [
    "# Gather Starling Data\n",
    "#### Date: 8/30/2022, JX\n",
    "> Gather local starling data from https://doi.org/10.5281/zenodo.3237218 and get amplitude envelopes\n"
   ]
  },
  {
   "cell_type": "code",
   "execution_count": 1,
   "id": "34d7f23f",
   "metadata": {},
   "outputs": [],
   "source": [
    "from starling_rhythm.utils.paths import DATA_DIR"
   ]
  },
  {
   "cell_type": "markdown",
   "id": "b6d0a266",
   "metadata": {},
   "source": [
    "## Get list of wavs"
   ]
  },
  {
   "cell_type": "code",
   "execution_count": 2,
   "id": "71425646",
   "metadata": {},
   "outputs": [],
   "source": [
    "from pathlib import Path\n",
    "from glob import glob"
   ]
  },
  {
   "cell_type": "code",
   "execution_count": 3,
   "id": "a11af8d1",
   "metadata": {},
   "outputs": [],
   "source": [
    "DATA_DIR = Path('/mnt/sphere/speech_bci/derived_data/s_b1555_22/')"
   ]
  },
  {
   "cell_type": "code",
   "execution_count": 4,
   "id": "fa93dec1",
   "metadata": {},
   "outputs": [],
   "source": [
    "wav_paths = list(Path(DATA_DIR).rglob(\"2022-09-2*/alsa/bouts_ceciestunepipe/bout_checked.pickle\"))"
   ]
  },
  {
   "cell_type": "code",
   "execution_count": 5,
   "id": "74b2f618",
   "metadata": {},
   "outputs": [
    {
     "data": {
      "text/plain": [
       "[PosixPath('/mnt/sphere/speech_bci/derived_data/s_b1555_22/2022-09-23/alsa/bouts_ceciestunepipe/bout_checked.pickle'),\n",
       " PosixPath('/mnt/sphere/speech_bci/derived_data/s_b1555_22/2022-09-29/alsa/bouts_ceciestunepipe/bout_checked.pickle'),\n",
       " PosixPath('/mnt/sphere/speech_bci/derived_data/s_b1555_22/2022-09-24/alsa/bouts_ceciestunepipe/bout_checked.pickle'),\n",
       " PosixPath('/mnt/sphere/speech_bci/derived_data/s_b1555_22/2022-09-20/alsa/bouts_ceciestunepipe/bout_checked.pickle'),\n",
       " PosixPath('/mnt/sphere/speech_bci/derived_data/s_b1555_22/2022-09-27/alsa/bouts_ceciestunepipe/bout_checked.pickle'),\n",
       " PosixPath('/mnt/sphere/speech_bci/derived_data/s_b1555_22/2022-09-25/alsa/bouts_ceciestunepipe/bout_checked.pickle'),\n",
       " PosixPath('/mnt/sphere/speech_bci/derived_data/s_b1555_22/2022-09-28/alsa/bouts_ceciestunepipe/bout_checked.pickle'),\n",
       " PosixPath('/mnt/sphere/speech_bci/derived_data/s_b1555_22/2022-09-22/alsa/bouts_ceciestunepipe/bout_checked.pickle'),\n",
       " PosixPath('/mnt/sphere/speech_bci/derived_data/s_b1555_22/2022-09-26/alsa/bouts_ceciestunepipe/bout_checked.pickle'),\n",
       " PosixPath('/mnt/sphere/speech_bci/derived_data/s_b1555_22/2022-09-21/alsa/bouts_ceciestunepipe/bout_checked.pickle')]"
      ]
     },
     "execution_count": 5,
     "metadata": {},
     "output_type": "execute_result"
    }
   ],
   "source": [
    "wav_paths"
   ]
  },
  {
   "cell_type": "markdown",
   "id": "5be0ac19",
   "metadata": {},
   "source": [
    "## Extract Amplitude Envelope"
   ]
  },
  {
   "cell_type": "code",
   "execution_count": 6,
   "id": "c9490a7b",
   "metadata": {},
   "outputs": [],
   "source": [
    "import pandas as pd"
   ]
  },
  {
   "cell_type": "code",
   "execution_count": 7,
   "id": "cb27cb68",
   "metadata": {},
   "outputs": [
    {
     "name": "stderr",
     "output_type": "stream",
     "text": [
      "/home/AD/j8xing/anaconda3/envs/starling_rhythm/lib/python3.10/site-packages/tqdm/auto.py:22: TqdmWarning: IProgress not found. Please update jupyter and ipywidgets. See https://ipywidgets.readthedocs.io/en/stable/user_install.html\n",
      "  from .autonotebook import tqdm as notebook_tqdm\n"
     ]
    }
   ],
   "source": [
    "## modified\n",
    "\n",
    "from scipy.io.wavfile import read\n",
    "from scipy.signal import hilbert, get_window\n",
    "from librosa import resample\n",
    "import noisereduce as nr\n",
    "import pandas as pd\n",
    "import numpy as np\n",
    "\n",
    "def int16_to_float32(data):\n",
    "    \"\"\" Converts from uint16 wav to float32 wav\n",
    "    \"\"\"\n",
    "    if np.max(np.abs(data)) > 32768:\n",
    "        raise ValueError(\"Data has values above 32768\")\n",
    "    return (data / 32768.0).astype(\"float32\")\n",
    "\n",
    "\n",
    "def extract_amp_env(\n",
    "    data, \n",
    "    target_sr, \n",
    "    win_type = 'boxcar', \n",
    "    res_type = 'linear',\n",
    "    stds = 1,\n",
    "    buffer = 100\n",
    "):\n",
    "    '''\n",
    "    Extract amplitude envelope of recordings. Attach ID info to the envelope. \n",
    "    ## Input: wav_path\n",
    "    ## Output: df_entry\n",
    "    '''\n",
    "    \n",
    "    sr = 48000\n",
    "    data = int16_to_float32(data)\n",
    "    data = nr.reduce_noise(y=data, sr=sr)\n",
    "    \n",
    "    ## Transform waveform into an analytic signal (has no negative frequency), \n",
    "    analytic_sig = hilbert(data)\n",
    "    \n",
    "    ## The absolute value of an analytic signal is a representative amplitude envelope\n",
    "    amp_env = np.abs(analytic_sig)\n",
    "    \n",
    "    ## Rolling window average (boxcar window) 10 ms window\n",
    "    amp_env = np.convolve(amp_env, get_window(win_type, int((sr*10)/1000)))\n",
    "    \n",
    "    ## resample the amp env to have 1 ms step\n",
    "    amp_env = resample(amp_env, orig_sr = sr, target_sr = target_sr, res_type = res_type)\n",
    "    \n",
    "    ## make compact support time series\n",
    "    #amp_env = compact_support(amp_env, stds = stds, buffer = buffer)\n",
    "    \n",
    "    return amp_env\n",
    "\n",
    "def compact_support(amp_env, stds = 1, buffer = 500):\n",
    "    '''\n",
    "    Takes amplitude envelope and create compact support\n",
    "    '''\n",
    "    \n",
    "    ## take standard deviation of the time-series\n",
    "    amp_env_sd = np.std(amp_env)\n",
    "    \n",
    "    ## amplitude envelopes should start some number of standard deviations away from 0\n",
    "    ae_indices = np.argwhere(amp_env > stds * amp_env_sd)\n",
    "    strt = ae_indices[0][0] - buffer ## start and ends should have some buffers\n",
    "    end = ae_indices[-1][0] + buffer\n",
    "    \n",
    "    ## check if strt and end are legal\n",
    "    if strt < 0:\n",
    "        strt = 0\n",
    "    if end > (len(amp_env) - 1):\n",
    "        end = (len(amp_env) - 1)\n",
    "    \n",
    "    return amp_env[strt:end]\n",
    "\n",
    "def time_windows(amp_env, num = 50):\n",
    "    '''\n",
    "    Takes amplitude envelope and create log-scaled time windows from 1ms to full length of the song\n",
    "    '''\n",
    "    \n",
    "    lag = np.unique(np.geomspace(1, len(amp_env), num = num).astype(int))\n",
    "    \n",
    "    return lag"
   ]
  },
  {
   "cell_type": "code",
   "execution_count": 8,
   "id": "f6947307",
   "metadata": {},
   "outputs": [],
   "source": [
    "from tqdm.autonotebook import tqdm\n",
    "from joblib import Parallel, delayed\n",
    "import numpy as np\n",
    "import pandas as pd"
   ]
  },
  {
   "cell_type": "code",
   "execution_count": 9,
   "id": "0f724fbb",
   "metadata": {},
   "outputs": [],
   "source": [
    "n_jobs = 36 ## joblib setting\n",
    "verbose = 0"
   ]
  },
  {
   "cell_type": "code",
   "execution_count": 10,
   "id": "50c55d6b",
   "metadata": {},
   "outputs": [
    {
     "name": "stderr",
     "output_type": "stream",
     "text": [
      "Extracting Amplitude Envelope: 100%|██████████| 114/114 [00:18<00:00,  6.10it/s]\n",
      "Extracting Amplitude Envelope:  53%|█████▎    | 72/135 [00:04<00:04, 15.36it/s] /home/AD/j8xing/anaconda3/envs/starling_rhythm/lib/python3.10/site-packages/joblib/externals/loky/process_executor.py:702: UserWarning: A worker stopped while some jobs were given to the executor. This can be caused by a too short worker timeout or by a memory leak.\n",
      "  warnings.warn(\n",
      "Extracting Amplitude Envelope: 100%|██████████| 135/135 [00:13<00:00,  9.71it/s]\n",
      "Extracting Amplitude Envelope: 100%|██████████| 100/100 [00:04<00:00, 22.13it/s]\n",
      "/home/AD/j8xing/anaconda3/envs/starling_rhythm/lib/python3.10/site-packages/joblib/externals/loky/process_executor.py:702: UserWarning: A worker stopped while some jobs were given to the executor. This can be caused by a too short worker timeout or by a memory leak.\n",
      "  warnings.warn(\n",
      "Extracting Amplitude Envelope: 100%|██████████| 88/88 [00:06<00:00, 14.15it/s]\n",
      "/home/AD/j8xing/anaconda3/envs/starling_rhythm/lib/python3.10/site-packages/joblib/externals/loky/process_executor.py:702: UserWarning: A worker stopped while some jobs were given to the executor. This can be caused by a too short worker timeout or by a memory leak.\n",
      "  warnings.warn(\n",
      "Extracting Amplitude Envelope:  55%|█████▌    | 72/130 [00:05<00:05, 11.33it/s]/home/AD/j8xing/anaconda3/envs/starling_rhythm/lib/python3.10/site-packages/joblib/externals/loky/process_executor.py:702: UserWarning: A worker stopped while some jobs were given to the executor. This can be caused by a too short worker timeout or by a memory leak.\n",
      "  warnings.warn(\n",
      "Extracting Amplitude Envelope: 100%|██████████| 130/130 [00:18<00:00,  7.12it/s]\n",
      "Extracting Amplitude Envelope: 100%|██████████| 105/105 [00:06<00:00, 16.80it/s]\n",
      "/home/AD/j8xing/anaconda3/envs/starling_rhythm/lib/python3.10/site-packages/joblib/externals/loky/process_executor.py:702: UserWarning: A worker stopped while some jobs were given to the executor. This can be caused by a too short worker timeout or by a memory leak.\n",
      "  warnings.warn(\n",
      "Extracting Amplitude Envelope: 100%|██████████| 95/95 [00:05<00:00, 16.32it/s]\n",
      "/home/AD/j8xing/anaconda3/envs/starling_rhythm/lib/python3.10/site-packages/joblib/externals/loky/process_executor.py:702: UserWarning: A worker stopped while some jobs were given to the executor. This can be caused by a too short worker timeout or by a memory leak.\n",
      "  warnings.warn(\n",
      "Extracting Amplitude Envelope: 100%|██████████| 95/95 [00:04<00:00, 20.81it/s]\n",
      "/home/AD/j8xing/anaconda3/envs/starling_rhythm/lib/python3.10/site-packages/joblib/externals/loky/process_executor.py:702: UserWarning: A worker stopped while some jobs were given to the executor. This can be caused by a too short worker timeout or by a memory leak.\n",
      "  warnings.warn(\n",
      "Extracting Amplitude Envelope: 100%|██████████| 95/95 [00:05<00:00, 16.79it/s]\n",
      "/home/AD/j8xing/anaconda3/envs/starling_rhythm/lib/python3.10/site-packages/joblib/externals/loky/process_executor.py:702: UserWarning: A worker stopped while some jobs were given to the executor. This can be caused by a too short worker timeout or by a memory leak.\n",
      "  warnings.warn(\n",
      "Extracting Amplitude Envelope: 100%|██████████| 84/84 [00:08<00:00,  9.79it/s]\n",
      "/home/AD/j8xing/anaconda3/envs/starling_rhythm/lib/python3.10/site-packages/joblib/externals/loky/process_executor.py:702: UserWarning: A worker stopped while some jobs were given to the executor. This can be caused by a too short worker timeout or by a memory leak.\n",
      "  warnings.warn(\n"
     ]
    }
   ],
   "source": [
    "## for each pickle address\n",
    "\n",
    "bouts_df = []\n",
    "\n",
    "for wav_path in wav_paths:\n",
    "    ## get dataframe\n",
    "    bouts = pd.read_pickle(wav_path)\n",
    "    ## delete calls\n",
    "    bouts = bouts[bouts['is_call'] != True]\n",
    "    \n",
    "    ## for the pickle, extract its amp env\n",
    "    with Parallel(n_jobs = n_jobs, verbose = verbose) as parallel:\n",
    "        amp_envs = parallel(\n",
    "            delayed(extract_amp_env)(\n",
    "                wav_path,\n",
    "                target_sr = 200, ## each number is 5 ms\n",
    "                win_type = 'boxcar', ## smooth with boxcar window (rolling average)\n",
    "                res_type = 'linear', ## linear resample\n",
    "                stds = 1, ## make compact support\n",
    "                buffer = 100 ## buffer compact support\n",
    "            )\n",
    "            for wav_path in tqdm(bouts['waveform'], desc = 'Extracting Amplitude Envelope')\n",
    "        )\n",
    "    \n",
    "    bouts['amp_env'] = amp_envs\n",
    "    \n",
    "    bouts_df.append(bouts)\n",
    "    \n",
    "bouts_df = pd.concat(bouts_df)"
   ]
  },
  {
   "cell_type": "markdown",
   "id": "23321aeb",
   "metadata": {},
   "source": [
    "## Proof"
   ]
  },
  {
   "cell_type": "code",
   "execution_count": 11,
   "id": "be4d7661",
   "metadata": {},
   "outputs": [],
   "source": [
    "import matplotlib.pyplot as plt\n",
    "from scipy.io.wavfile import read"
   ]
  },
  {
   "cell_type": "code",
   "execution_count": 12,
   "id": "9ed94b0a",
   "metadata": {},
   "outputs": [
    {
     "data": {
      "text/plain": [
       "[<matplotlib.lines.Line2D at 0x7f9e8090eda0>]"
      ]
     },
     "execution_count": 12,
     "metadata": {},
     "output_type": "execute_result"
    },
    {
     "data": {
      "image/png": "[encoded data removed]",
      "text/plain": [
       "<Figure size 432x288 with 1 Axes>"
      ]
     },
     "metadata": {
      "needs_background": "light"
     },
     "output_type": "display_data"
    }
   ],
   "source": [
    "plt.plot(bouts['waveform'].values[0])"
   ]
  },
  {
   "cell_type": "code",
   "execution_count": 13,
   "id": "383c85e3",
   "metadata": {},
   "outputs": [
    {
     "data": {
      "text/plain": [
       "[<matplotlib.lines.Line2D at 0x7f9e6874f4c0>]"
      ]
     },
     "execution_count": 13,
     "metadata": {},
     "output_type": "execute_result"
    },
    {
     "data": {
      "image/png": "[encoded data removed]",
      "text/plain": [
       "<Figure size 432x288 with 1 Axes>"
      ]
     },
     "metadata": {
      "needs_background": "light"
     },
     "output_type": "display_data"
    }
   ],
   "source": [
    "plt.plot(bouts['amp_env'].values[0])"
   ]
  },
  {
   "cell_type": "markdown",
   "id": "0c856da4",
   "metadata": {},
   "source": [
    "## Pickle dataframe"
   ]
  },
  {
   "cell_type": "code",
   "execution_count": 14,
   "id": "bb36b17b",
   "metadata": {},
   "outputs": [],
   "source": [
    "from starling_rhythm.utils.paths import PROCESSED_DIR, ensure_dir"
   ]
  },
  {
   "cell_type": "code",
   "execution_count": 15,
   "id": "43f2a56d",
   "metadata": {},
   "outputs": [],
   "source": [
    "SAVE_PATH = PROCESSED_DIR / 'starling_b1555_amp_envs200.pickle'\n",
    "ensure_dir(SAVE_PATH)"
   ]
  },
  {
   "cell_type": "code",
   "execution_count": 16,
   "id": "f945e68f",
   "metadata": {},
   "outputs": [],
   "source": [
    "bouts_df.to_pickle(SAVE_PATH)"
   ]
  }
 ],
 "metadata": {
  "kernelspec": {
   "display_name": "starling_rhythm",
   "language": "python",
   "name": "starling_rhythm"
  },
  "language_info": {
   "codemirror_mode": {
    "name": "ipython",
    "version": 3
   },
   "file_extension": ".py",
   "mimetype": "text/x-python",
   "name": "python",
   "nbconvert_exporter": "python",
   "pygments_lexer": "ipython3",
   "version": "3.10.4"
  }
 },
 "nbformat": 4,
 "nbformat_minor": 5
}
