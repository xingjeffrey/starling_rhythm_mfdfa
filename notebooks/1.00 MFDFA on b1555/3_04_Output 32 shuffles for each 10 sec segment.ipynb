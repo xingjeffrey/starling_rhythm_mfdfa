{
 "cells": [
  {
   "cell_type": "markdown",
   "id": "5179c7ac",
   "metadata": {},
   "source": [
    "# Output shuffles\n",
    "\n",
    "1. Find all the segment addresses\n",
    "2. For each segment, generate 32 inter-motif gap shuffles"
   ]
  },
  {
   "cell_type": "code",
   "execution_count": 1,
   "id": "7272f8b9",
   "metadata": {},
   "outputs": [],
   "source": [
    "from starling_rhythm.utils.paths import PROCESSED_DIR, ensure_dir\n",
    "from starling_rhythm import synth"
   ]
  },
  {
   "cell_type": "code",
   "execution_count": 2,
   "id": "bb54330c",
   "metadata": {},
   "outputs": [],
   "source": [
    "bID = 's_b1555_22'"
   ]
  },
  {
   "cell_type": "code",
   "execution_count": 3,
   "id": "d4de462b",
   "metadata": {},
   "outputs": [],
   "source": [
    "bID_DIR = PROCESSED_DIR / bID\n",
    "SEG_DIR = bID_DIR / 'segments'"
   ]
  },
  {
   "cell_type": "code",
   "execution_count": 4,
   "id": "cec4ba7f",
   "metadata": {},
   "outputs": [
    {
     "data": {
      "text/plain": [
       "PosixPath('/mnt/cube/j8xing/starling_rhythm_mfdfa/data/s_b1555_22/segments')"
      ]
     },
     "execution_count": 4,
     "metadata": {},
     "output_type": "execute_result"
    }
   ],
   "source": [
    "SEG_DIR"
   ]
  },
  {
   "cell_type": "code",
   "execution_count": 5,
   "id": "9bff471d",
   "metadata": {},
   "outputs": [],
   "source": [
    "seg_list = list(SEG_DIR.glob('*.wav'))"
   ]
  },
  {
   "cell_type": "markdown",
   "id": "2afacbaa",
   "metadata": {},
   "source": [
    "## choose randomly 500 of the segments"
   ]
  },
  {
   "cell_type": "code",
   "execution_count": 6,
   "id": "f6064677",
   "metadata": {},
   "outputs": [],
   "source": [
    "import random"
   ]
  },
  {
   "cell_type": "code",
   "execution_count": 7,
   "id": "f900556b",
   "metadata": {},
   "outputs": [],
   "source": [
    "## shuffle the list, and then pull out first 500\n",
    "random.shuffle(seg_list)\n",
    "seg_list = seg_list[:500]"
   ]
  },
  {
   "cell_type": "markdown",
   "id": "0e4ae751",
   "metadata": {},
   "source": [
    "## import labels"
   ]
  },
  {
   "cell_type": "code",
   "execution_count": 8,
   "id": "455c8c74",
   "metadata": {},
   "outputs": [],
   "source": [
    "import pandas as pd"
   ]
  },
  {
   "cell_type": "code",
   "execution_count": 9,
   "id": "55c63b21",
   "metadata": {},
   "outputs": [],
   "source": [
    "syllable_df = list(bID_DIR.glob('syllable_df_labels.pickle'))[0]\n",
    "syllable_df = pd.read_pickle(syllable_df)"
   ]
  },
  {
   "cell_type": "code",
   "execution_count": 10,
   "id": "cacc3cc2",
   "metadata": {},
   "outputs": [
    {
     "data": {
      "text/html": [
       "<div>\n",
       "<style scoped>\n",
       "    .dataframe tbody tr th:only-of-type {\n",
       "        vertical-align: middle;\n",
       "    }\n",
       "\n",
       "    .dataframe tbody tr th {\n",
       "        vertical-align: top;\n",
       "    }\n",
       "\n",
       "    .dataframe thead th {\n",
       "        text-align: right;\n",
       "    }\n",
       "</style>\n",
       "<table border=\"1\" class=\"dataframe\">\n",
       "  <thead>\n",
       "    <tr style=\"text-align: right;\">\n",
       "      <th></th>\n",
       "      <th>file</th>\n",
       "      <th>onsets_ms</th>\n",
       "      <th>offsets_ms</th>\n",
       "      <th>umap</th>\n",
       "      <th>hdbscan_labels</th>\n",
       "    </tr>\n",
       "  </thead>\n",
       "  <tbody>\n",
       "    <tr>\n",
       "      <th>0</th>\n",
       "      <td>/mnt/cube/j8xing/starling_rhythm_mfdfa/data/s_...</td>\n",
       "      <td>0.754</td>\n",
       "      <td>1.826</td>\n",
       "      <td>[-8.604912, 7.309538]</td>\n",
       "      <td>137</td>\n",
       "    </tr>\n",
       "    <tr>\n",
       "      <th>1</th>\n",
       "      <td>/mnt/cube/j8xing/starling_rhythm_mfdfa/data/s_...</td>\n",
       "      <td>1.828</td>\n",
       "      <td>2.338</td>\n",
       "      <td>[-10.148851, 5.063254]</td>\n",
       "      <td>112</td>\n",
       "    </tr>\n",
       "    <tr>\n",
       "      <th>2</th>\n",
       "      <td>/mnt/cube/j8xing/starling_rhythm_mfdfa/data/s_...</td>\n",
       "      <td>3.680</td>\n",
       "      <td>4.537</td>\n",
       "      <td>[-5.2042804, 12.267234]</td>\n",
       "      <td>189</td>\n",
       "    </tr>\n",
       "    <tr>\n",
       "      <th>3</th>\n",
       "      <td>/mnt/cube/j8xing/starling_rhythm_mfdfa/data/s_...</td>\n",
       "      <td>5.632</td>\n",
       "      <td>6.140</td>\n",
       "      <td>[-3.7597797, 11.497626]</td>\n",
       "      <td>-1</td>\n",
       "    </tr>\n",
       "    <tr>\n",
       "      <th>4</th>\n",
       "      <td>/mnt/cube/j8xing/starling_rhythm_mfdfa/data/s_...</td>\n",
       "      <td>6.162</td>\n",
       "      <td>6.284</td>\n",
       "      <td>[2.050827, 0.011981498]</td>\n",
       "      <td>193</td>\n",
       "    </tr>\n",
       "    <tr>\n",
       "      <th>...</th>\n",
       "      <td>...</td>\n",
       "      <td>...</td>\n",
       "      <td>...</td>\n",
       "      <td>...</td>\n",
       "      <td>...</td>\n",
       "    </tr>\n",
       "    <tr>\n",
       "      <th>60376</th>\n",
       "      <td>/mnt/cube/j8xing/starling_rhythm_mfdfa/data/s_...</td>\n",
       "      <td>30.155</td>\n",
       "      <td>30.803</td>\n",
       "      <td>[-11.164899, 2.6515484]</td>\n",
       "      <td>121</td>\n",
       "    </tr>\n",
       "    <tr>\n",
       "      <th>60377</th>\n",
       "      <td>/mnt/cube/j8xing/starling_rhythm_mfdfa/data/s_...</td>\n",
       "      <td>30.905</td>\n",
       "      <td>31.609</td>\n",
       "      <td>[3.2972312, -3.1319356]</td>\n",
       "      <td>146</td>\n",
       "    </tr>\n",
       "    <tr>\n",
       "      <th>60378</th>\n",
       "      <td>/mnt/cube/j8xing/starling_rhythm_mfdfa/data/s_...</td>\n",
       "      <td>31.678</td>\n",
       "      <td>32.390</td>\n",
       "      <td>[3.3780773, -3.0171862]</td>\n",
       "      <td>146</td>\n",
       "    </tr>\n",
       "    <tr>\n",
       "      <th>60379</th>\n",
       "      <td>/mnt/cube/j8xing/starling_rhythm_mfdfa/data/s_...</td>\n",
       "      <td>32.429</td>\n",
       "      <td>32.542</td>\n",
       "      <td>[-6.3328857, 2.910542]</td>\n",
       "      <td>202</td>\n",
       "    </tr>\n",
       "    <tr>\n",
       "      <th>60380</th>\n",
       "      <td>/mnt/cube/j8xing/starling_rhythm_mfdfa/data/s_...</td>\n",
       "      <td>32.569</td>\n",
       "      <td>33.474</td>\n",
       "      <td>[2.0359507, 4.680669]</td>\n",
       "      <td>207</td>\n",
       "    </tr>\n",
       "  </tbody>\n",
       "</table>\n",
       "<p>60381 rows × 5 columns</p>\n",
       "</div>"
      ],
      "text/plain": [
       "                                                    file  onsets_ms  \\\n",
       "0      /mnt/cube/j8xing/starling_rhythm_mfdfa/data/s_...      0.754   \n",
       "1      /mnt/cube/j8xing/starling_rhythm_mfdfa/data/s_...      1.828   \n",
       "2      /mnt/cube/j8xing/starling_rhythm_mfdfa/data/s_...      3.680   \n",
       "3      /mnt/cube/j8xing/starling_rhythm_mfdfa/data/s_...      5.632   \n",
       "4      /mnt/cube/j8xing/starling_rhythm_mfdfa/data/s_...      6.162   \n",
       "...                                                  ...        ...   \n",
       "60376  /mnt/cube/j8xing/starling_rhythm_mfdfa/data/s_...     30.155   \n",
       "60377  /mnt/cube/j8xing/starling_rhythm_mfdfa/data/s_...     30.905   \n",
       "60378  /mnt/cube/j8xing/starling_rhythm_mfdfa/data/s_...     31.678   \n",
       "60379  /mnt/cube/j8xing/starling_rhythm_mfdfa/data/s_...     32.429   \n",
       "60380  /mnt/cube/j8xing/starling_rhythm_mfdfa/data/s_...     32.569   \n",
       "\n",
       "       offsets_ms                     umap  hdbscan_labels  \n",
       "0           1.826    [-8.604912, 7.309538]             137  \n",
       "1           2.338   [-10.148851, 5.063254]             112  \n",
       "2           4.537  [-5.2042804, 12.267234]             189  \n",
       "3           6.140  [-3.7597797, 11.497626]              -1  \n",
       "4           6.284  [2.050827, 0.011981498]             193  \n",
       "...           ...                      ...             ...  \n",
       "60376      30.803  [-11.164899, 2.6515484]             121  \n",
       "60377      31.609  [3.2972312, -3.1319356]             146  \n",
       "60378      32.390  [3.3780773, -3.0171862]             146  \n",
       "60379      32.542   [-6.3328857, 2.910542]             202  \n",
       "60380      33.474    [2.0359507, 4.680669]             207  \n",
       "\n",
       "[60381 rows x 5 columns]"
      ]
     },
     "execution_count": 10,
     "metadata": {},
     "output_type": "execute_result"
    }
   ],
   "source": [
    "syllable_df"
   ]
  },
  {
   "cell_type": "markdown",
   "id": "2263ca42",
   "metadata": {},
   "source": [
    "## Make test batch for the first address"
   ]
  },
  {
   "cell_type": "code",
   "execution_count": 11,
   "id": "beac0821",
   "metadata": {},
   "outputs": [],
   "source": [
    "batchsize = 32\n",
    "tester = seg_list[0]"
   ]
  },
  {
   "cell_type": "code",
   "execution_count": 12,
   "id": "ed7c0fdc",
   "metadata": {},
   "outputs": [],
   "source": [
    "from starling_rhythm.synth import synth_song, save_synth, save_synth_shuffle_batch\n",
    "import numpy as np"
   ]
  },
  {
   "cell_type": "code",
   "execution_count": 13,
   "id": "876f08d9",
   "metadata": {},
   "outputs": [],
   "source": [
    "for n in np.arange(0, batchsize):\n",
    "    shuffle_syn = save_synth(tester, syllable_df, bID_DIR, templating = False, gap_type = 'shuffle', n = n)"
   ]
  },
  {
   "cell_type": "markdown",
   "id": "a332a350",
   "metadata": {},
   "source": [
    "## Output all shuffles"
   ]
  },
  {
   "cell_type": "code",
   "execution_count": 14,
   "id": "8b091a8a",
   "metadata": {},
   "outputs": [
    {
     "name": "stderr",
     "output_type": "stream",
     "text": [
      "/tmp/ipykernel_3182/123448108.py:2: TqdmWarning: IProgress not found. Please update jupyter and ipywidgets. See https://ipywidgets.readthedocs.io/en/stable/user_install.html\n",
      "  from tqdm.autonotebook import tqdm\n"
     ]
    }
   ],
   "source": [
    "from joblib import Parallel, delayed\n",
    "from tqdm.autonotebook import tqdm"
   ]
  },
  {
   "cell_type": "code",
   "execution_count": 15,
   "id": "e5c25602",
   "metadata": {},
   "outputs": [],
   "source": [
    "n_jobs = 47\n",
    "verbose = 0"
   ]
  },
  {
   "cell_type": "code",
   "execution_count": 16,
   "id": "dc63cc0f",
   "metadata": {},
   "outputs": [
    {
     "name": "stderr",
     "output_type": "stream",
     "text": [
      "Outputting 32 shuffles for each seg: 100%|██████████| 500/500 [03:36<00:00,  2.31it/s]\n"
     ]
    }
   ],
   "source": [
    "with Parallel(n_jobs = n_jobs, verbose = verbose) as parallel:\n",
    "    parallel(\n",
    "        delayed(save_synth_shuffle_batch)(\n",
    "            wav_address,\n",
    "            syllable_df,\n",
    "            bID_DIR,\n",
    "            templating = False,\n",
    "            gap_type = 'shuffle',\n",
    "            batchsize = batchsize\n",
    "        )\n",
    "        for wav_address in tqdm(seg_list, desc = 'Outputting 32 shuffles for each seg')\n",
    "    )"
   ]
  }
 ],
 "metadata": {
  "kernelspec": {
   "display_name": "starling_rhythm",
   "language": "python",
   "name": "starling_rhythm"
  },
  "language_info": {
   "codemirror_mode": {
    "name": "ipython",
    "version": 3
   },
   "file_extension": ".py",
   "mimetype": "text/x-python",
   "name": "python",
   "nbconvert_exporter": "python",
   "pygments_lexer": "ipython3",
   "version": "3.10.10"
  }
 },
 "nbformat": 4,
 "nbformat_minor": 5
}
