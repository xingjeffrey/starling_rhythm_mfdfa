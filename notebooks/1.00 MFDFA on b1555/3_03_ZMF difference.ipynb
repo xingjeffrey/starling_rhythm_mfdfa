{
 "cells": [
  {
   "cell_type": "code",
   "execution_count": 1,
   "id": "ef3b2b26",
   "metadata": {},
   "outputs": [
    {
     "name": "stderr",
     "output_type": "stream",
     "text": [
      "/home/AD/j8xing/anaconda3/envs/starling_rhythm/lib/python3.10/site-packages/tqdm/auto.py:22: TqdmWarning: IProgress not found. Please update jupyter and ipywidgets. See https://ipywidgets.readthedocs.io/en/stable/user_install.html\n",
      "  from .autonotebook import tqdm as notebook_tqdm\n"
     ]
    }
   ],
   "source": [
    "from starling_rhythm.mfdfa import tmf\n",
    "from starling_rhythm.utils.paths import PROCESSED_DIR"
   ]
  },
  {
   "cell_type": "code",
   "execution_count": 2,
   "id": "7b6d5e3a",
   "metadata": {},
   "outputs": [],
   "source": [
    "bID = 's_b1555_22'"
   ]
  },
  {
   "cell_type": "code",
   "execution_count": 3,
   "id": "a0a694fa",
   "metadata": {},
   "outputs": [],
   "source": [
    "real_DIR = PROCESSED_DIR / bID / 'templatingFalse-empiricalstrict'\n",
    "real_wavs = list(real_DIR.glob('*.wav'))\n",
    "fake_DIR = PROCESSED_DIR / bID / 'templatingTrue-transition_gap_profilesstrict'\n",
    "fake_wavs = list(fake_DIR.glob('*.wav'))"
   ]
  },
  {
   "cell_type": "code",
   "execution_count": 4,
   "id": "9496e74e",
   "metadata": {},
   "outputs": [],
   "source": [
    "from joblib import Parallel, delayed\n",
    "from tqdm.autonotebook import tqdm"
   ]
  },
  {
   "cell_type": "code",
   "execution_count": 5,
   "id": "f683d753",
   "metadata": {},
   "outputs": [],
   "source": [
    "n_jobs = 36\n",
    "verbose = 0"
   ]
  },
  {
   "cell_type": "code",
   "execution_count": 6,
   "id": "0ec66823",
   "metadata": {},
   "outputs": [
    {
     "name": "stderr",
     "output_type": "stream",
     "text": [
      "real ones: 100%|██████████| 150/150 [00:51<00:00,  2.94it/s]\n"
     ]
    }
   ],
   "source": [
    "with Parallel(n_jobs = n_jobs, verbose = verbose) as parallel:\n",
    "    real_zs = parallel(\n",
    "        delayed(tmf)(\n",
    "            address,\n",
    "            amp_env_sr = 200,\n",
    "            z = False\n",
    "        )\n",
    "        for address in tqdm(real_wavs, desc = 'real ones')\n",
    "    )"
   ]
  },
  {
   "cell_type": "code",
   "execution_count": 7,
   "id": "3fea9b05",
   "metadata": {},
   "outputs": [
    {
     "name": "stderr",
     "output_type": "stream",
     "text": [
      "fake ones: 100%|██████████| 150/150 [00:51<00:00,  2.93it/s]\n"
     ]
    }
   ],
   "source": [
    "with Parallel(n_jobs = n_jobs, verbose = verbose) as parallel:\n",
    "    fake_zs = parallel(\n",
    "        delayed(tmf)(\n",
    "            address,\n",
    "            amp_env_sr = 200,\n",
    "            z = False\n",
    "        )\n",
    "        for address in tqdm(fake_wavs, desc = 'fake ones')\n",
    "    )"
   ]
  },
  {
   "cell_type": "code",
   "execution_count": 8,
   "id": "db7802c0",
   "metadata": {},
   "outputs": [],
   "source": [
    "import pandas as pd\n",
    "import numpy as np"
   ]
  },
  {
   "cell_type": "code",
   "execution_count": 9,
   "id": "e72203d5",
   "metadata": {},
   "outputs": [],
   "source": [
    "real_df = pd.DataFrame(\n",
    "    {\n",
    "        'id': np.full(len(real_zs), 'real'),\n",
    "        'zs': real_zs\n",
    "    }\n",
    ")\n",
    "fake_df = pd.DataFrame(\n",
    "    {\n",
    "        'id': np.full(len(real_zs), 'fake'),\n",
    "        'zs': fake_zs\n",
    "    }\n",
    ")"
   ]
  },
  {
   "cell_type": "code",
   "execution_count": 10,
   "id": "e24b2b96",
   "metadata": {},
   "outputs": [],
   "source": [
    "total_df = pd.concat([real_df, fake_df])"
   ]
  },
  {
   "cell_type": "code",
   "execution_count": 11,
   "id": "cb575aa7",
   "metadata": {},
   "outputs": [],
   "source": [
    "total_df = total_df.reset_index()"
   ]
  },
  {
   "cell_type": "code",
   "execution_count": 12,
   "id": "71f19428",
   "metadata": {},
   "outputs": [],
   "source": [
    "import seaborn as sns"
   ]
  },
  {
   "cell_type": "code",
   "execution_count": 13,
   "id": "b632d8d0",
   "metadata": {},
   "outputs": [
    {
     "data": {
      "text/plain": [
       "<AxesSubplot:xlabel='zs', ylabel='Count'>"
      ]
     },
     "execution_count": 13,
     "metadata": {},
     "output_type": "execute_result"
    },
    {
     "data": {
      "image/png": "[encoded data removed]",
      "text/plain": [
       "<Figure size 432x288 with 1 Axes>"
      ]
     },
     "metadata": {
      "needs_background": "light"
     },
     "output_type": "display_data"
    }
   ],
   "source": [
    "sns.histplot(data = total_df, x = \"zs\", hue = \"id\")"
   ]
  },
  {
   "cell_type": "code",
   "execution_count": 14,
   "id": "0848ceec",
   "metadata": {},
   "outputs": [
    {
     "data": {
      "text/plain": [
       "33.49306900249017"
      ]
     },
     "execution_count": 14,
     "metadata": {},
     "output_type": "execute_result"
    }
   ],
   "source": [
    "np.mean(real_zs)"
   ]
  },
  {
   "cell_type": "code",
   "execution_count": 15,
   "id": "73682642",
   "metadata": {},
   "outputs": [
    {
     "data": {
      "text/plain": [
       "34.14530095536233"
      ]
     },
     "execution_count": 15,
     "metadata": {},
     "output_type": "execute_result"
    }
   ],
   "source": [
    "np.mean(fake_zs)"
   ]
  },
  {
   "cell_type": "code",
   "execution_count": 16,
   "id": "8499ce62",
   "metadata": {},
   "outputs": [],
   "source": [
    "import scipy.stats"
   ]
  },
  {
   "cell_type": "code",
   "execution_count": 17,
   "id": "4e7e0769",
   "metadata": {},
   "outputs": [
    {
     "data": {
      "text/plain": [
       "Ttest_indResult(statistic=-0.3985041708353653, pvalue=0.6905439587991811)"
      ]
     },
     "execution_count": 17,
     "metadata": {},
     "output_type": "execute_result"
    }
   ],
   "source": [
    "scipy.stats.ttest_ind(real_zs, fake_zs)"
   ]
  }
 ],
 "metadata": {
  "kernelspec": {
   "display_name": "starling_rhythm",
   "language": "python",
   "name": "starling_rhythm"
  },
  "language_info": {
   "codemirror_mode": {
    "name": "ipython",
    "version": 3
   },
   "file_extension": ".py",
   "mimetype": "text/x-python",
   "name": "python",
   "nbconvert_exporter": "python",
   "pygments_lexer": "ipython3",
   "version": "3.10.4"
  }
 },
 "nbformat": 4,
 "nbformat_minor": 5
}
