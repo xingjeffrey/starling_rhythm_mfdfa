{
 "cells": [
  {
   "cell_type": "markdown",
   "id": "e71824eb",
   "metadata": {},
   "source": [
    "# Write json config for pyoperant"
   ]
  },
  {
   "cell_type": "code",
   "execution_count": 1,
   "id": "db0ea226",
   "metadata": {},
   "outputs": [],
   "source": [
    "from starling_rhythm.utils.paths import PROCESSED_DIR, ensure_dir"
   ]
  },
  {
   "cell_type": "code",
   "execution_count": 2,
   "id": "28824c96",
   "metadata": {},
   "outputs": [],
   "source": [
    "from pathlib2 import Path"
   ]
  },
  {
   "cell_type": "code",
   "execution_count": 3,
   "id": "da90f047",
   "metadata": {},
   "outputs": [],
   "source": [
    "TOP_DIR = Path('/mnt/cube/j8xing/starling_rhythm_mfdfa')"
   ]
  },
  {
   "cell_type": "code",
   "execution_count": 4,
   "id": "dfe9926f",
   "metadata": {},
   "outputs": [
    {
     "data": {
      "text/plain": [
       "PosixPath('/mnt/cube/j8xing/starling_rhythm_mfdfa')"
      ]
     },
     "execution_count": 4,
     "metadata": {},
     "output_type": "execute_result"
    }
   ],
   "source": [
    "TOP_DIR"
   ]
  },
  {
   "cell_type": "code",
   "execution_count": 5,
   "id": "004f4194",
   "metadata": {},
   "outputs": [],
   "source": [
    "bID = 's_b1555_22'\n",
    "SAVE_PATH = PROCESSED_DIR / bID / 'accordion.pickle'"
   ]
  },
  {
   "cell_type": "code",
   "execution_count": 6,
   "id": "259b0fcf",
   "metadata": {},
   "outputs": [],
   "source": [
    "import pandas as pd"
   ]
  },
  {
   "cell_type": "code",
   "execution_count": 7,
   "id": "46bc2ee1",
   "metadata": {},
   "outputs": [],
   "source": [
    "final_stimuli_set = pd.read_pickle(SAVE_PATH)"
   ]
  },
  {
   "cell_type": "code",
   "execution_count": 8,
   "id": "877be716",
   "metadata": {},
   "outputs": [],
   "source": [
    "final_stimuli_set = final_stimuli_set.sort_values(by = 'id')"
   ]
  },
  {
   "cell_type": "markdown",
   "id": "939b4b3f",
   "metadata": {},
   "source": [
    "## Input immutable information"
   ]
  },
  {
   "cell_type": "code",
   "execution_count": 9,
   "id": "f69a46e1",
   "metadata": {},
   "outputs": [],
   "source": [
    "import json"
   ]
  },
  {
   "cell_type": "code",
   "execution_count": 10,
   "id": "793e6f8d",
   "metadata": {},
   "outputs": [],
   "source": [
    "json_skeleton = {\n",
    "    \"comments\": \"json doesn't support comments\",\n",
    "    \"experimenter\": {\n",
    "        \"name\": \"Jeffrey Xing\",\n",
    "        \"email\": \"j8xing@ucsd.edu\"\n",
    "    },\n",
    "    \"subject\": \"B9999\",\n",
    "    \"panel_name\": \"magpi01\",\n",
    "    \"experiment_path\": \"/home/bird/opdat/B9999\",\n",
    "    \"stim_path\": \"/home/bird/opdat/B9999/stimuli\",\n",
    "    \"name\": \"Tempo modulation detection\",\n",
    "    \"description\": \"discriminate between isochrony and tempo-modulated stimuli\",\n",
    "    \"debug\": True, \n",
    "    \"log_handlers\": [],\n",
    "    'stims': {},\n",
    "    \"left_stims\": {},\n",
    "    \"right_stims\": {},\n",
    "    \"current_available_motifs\": 9,\n",
    "    \"classes\": {\n",
    "        \"L\": {\n",
    "            \"reward_value\": 2.0,\n",
    "            \"punish_value\": 20.0,\n",
    "            \"component\": \"left\"\n",
    "        },\n",
    "        \"R\": {\n",
    "            \"reward_value\": 2.0,\n",
    "            \"punish_value\": 20.0,\n",
    "            \"component\": \"right\"\n",
    "        }\n",
    "    },\n",
    "    \"block_design\": {\n",
    "        \"blocks\": {\n",
    "            \"default\": {\n",
    "                \"queue\": \"block\",\n",
    "                \"condition\": []\n",
    "            }\n",
    "        },\n",
    "        \"order\": [\"default\"]\n",
    "    },\n",
    "    \"category_condition\" : [\n",
    "        {\"class\": \"L\", \"stim_name\": \"1\"},\n",
    "        {\"class\": \"R\", \"stim_name\": \"0\"}\n",
    "    ],\n",
    "    \"reinforcement\": {\n",
    "        \"schedule\": \"fixed_ratio\",\n",
    "        \"ratio\": 1,\n",
    "        \"secondary\": True\n",
    "    },\n",
    "    \"correction_trials\": True,\n",
    "    \"response_win\": 5.0,\n",
    "    \"intertrial_min\": 5.0,\n",
    "    \"forced_choice\": False,\n",
    "    \"light_schedule\": \"sun\",\n",
    "    \"distribution_type\": \"amodal\",\n",
    "    \"trial_condition\": \"equal\",\n",
    "    \"inject_test\": True,\n",
    "    \"sr\": 48000,\n",
    "    \"shape\": False\n",
    "}"
   ]
  },
  {
   "cell_type": "markdown",
   "id": "425e6e02",
   "metadata": {},
   "source": [
    "## Insert stimuli"
   ]
  },
  {
   "cell_type": "code",
   "execution_count": 11,
   "id": "02ef1e02",
   "metadata": {},
   "outputs": [],
   "source": [
    "max_df = final_stimuli_set[final_stimuli_set['kink_factor'] == 1.0]\n",
    "min_df = final_stimuli_set[final_stimuli_set['kink_factor'] == 0.0]"
   ]
  },
  {
   "cell_type": "code",
   "execution_count": 12,
   "id": "7135d52d",
   "metadata": {},
   "outputs": [],
   "source": [
    "left_stims = {}\n",
    "right_stims = {}\n",
    "\n",
    "for index, wav in max_df.iterrows():\n",
    "    left_stims[str(wav['id'])] = str(wav['stimuli_path']).split('/')[-1]\n",
    "    \n",
    "for index, wav in min_df.iterrows():\n",
    "    right_stims[str(wav['id'])] = str(wav['stimuli_path']).split('/')[-1]"
   ]
  },
  {
   "cell_type": "code",
   "execution_count": 13,
   "id": "08ef176f",
   "metadata": {},
   "outputs": [],
   "source": [
    "json_skeleton['left_stims'] = left_stims\n",
    "json_skeleton['right_stims'] = right_stims"
   ]
  },
  {
   "cell_type": "code",
   "execution_count": 14,
   "id": "675cb5d1",
   "metadata": {},
   "outputs": [],
   "source": [
    "json_output = json.dumps(json_skeleton, indent=4)\n",
    "\n",
    "with open('TwoAC_TempoMod.json', 'w') as outfile:\n",
    "    outfile.write(json_output)"
   ]
  },
  {
   "cell_type": "code",
   "execution_count": 15,
   "id": "adcc4ecd",
   "metadata": {},
   "outputs": [
    {
     "data": {
      "text/plain": [
       "'{\\n    \"comments\": \"json doesn\\'t support comments\",\\n    \"experimenter\": {\\n        \"name\": \"Jeffrey Xing\",\\n        \"email\": \"j8xing@ucsd.edu\"\\n    },\\n    \"subject\": \"B9999\",\\n    \"panel_name\": \"magpi01\",\\n    \"experiment_path\": \"/home/bird/opdat/B9999\",\\n    \"stim_path\": \"/home/bird/opdat/B9999/stimuli\",\\n    \"name\": \"Tempo modulation detection\",\\n    \"description\": \"discriminate between isochrony and tempo-modulated stimuli\",\\n    \"debug\": true,\\n    \"log_handlers\": [],\\n    \"stims\": {},\\n    \"left_stims\": {\\n        \"0\": \"motif58_1.0.wav\",\\n        \"1\": \"motif24_1.0.wav\",\\n        \"2\": \"motif23_1.0.wav\",\\n        \"3\": \"motif51_1.0.wav\",\\n        \"4\": \"motif56_1.0.wav\",\\n        \"5\": \"motif63_1.0.wav\",\\n        \"6\": \"motif18_1.0.wav\",\\n        \"7\": \"motif16_1.0.wav\"\\n    },\\n    \"right_stims\": {\\n        \"0\": \"motif58_0.0.wav\",\\n        \"1\": \"motif24_0.0.wav\",\\n        \"2\": \"motif23_0.0.wav\",\\n        \"3\": \"motif51_0.0.wav\",\\n        \"4\": \"motif56_0.0.wav\",\\n        \"5\": \"motif63_0.0.wav\",\\n        \"6\": \"motif18_0.0.wav\",\\n        \"7\": \"motif16_0.0.wav\"\\n    },\\n    \"current_available_motifs\": 9,\\n    \"classes\": {\\n        \"L\": {\\n            \"reward_value\": 2.0,\\n            \"punish_value\": 20.0,\\n            \"component\": \"left\"\\n        },\\n        \"R\": {\\n            \"reward_value\": 2.0,\\n            \"punish_value\": 20.0,\\n            \"component\": \"right\"\\n        }\\n    },\\n    \"block_design\": {\\n        \"blocks\": {\\n            \"default\": {\\n                \"queue\": \"block\",\\n                \"condition\": []\\n            }\\n        },\\n        \"order\": [\\n            \"default\"\\n        ]\\n    },\\n    \"category_condition\": [\\n        {\\n            \"class\": \"L\",\\n            \"stim_name\": \"1\"\\n        },\\n        {\\n            \"class\": \"R\",\\n            \"stim_name\": \"0\"\\n        }\\n    ],\\n    \"reinforcement\": {\\n        \"schedule\": \"fixed_ratio\",\\n        \"ratio\": 1,\\n        \"secondary\": true\\n    },\\n    \"correction_trials\": true,\\n    \"response_win\": 5.0,\\n    \"intertrial_min\": 5.0,\\n    \"forced_choice\": false,\\n    \"light_schedule\": \"sun\",\\n    \"distribution_type\": \"amodal\",\\n    \"trial_condition\": \"equal\",\\n    \"inject_test\": true,\\n    \"sr\": 48000,\\n    \"shape\": false\\n}'"
      ]
     },
     "execution_count": 15,
     "metadata": {},
     "output_type": "execute_result"
    }
   ],
   "source": [
    "json_output"
   ]
  },
  {
   "cell_type": "code",
   "execution_count": null,
   "id": "62337569",
   "metadata": {},
   "outputs": [],
   "source": []
  }
 ],
 "metadata": {
  "kernelspec": {
   "display_name": "starling_rhythm",
   "language": "python",
   "name": "starling_rhythm"
  },
  "language_info": {
   "codemirror_mode": {
    "name": "ipython",
    "version": 3
   },
   "file_extension": ".py",
   "mimetype": "text/x-python",
   "name": "python",
   "nbconvert_exporter": "python",
   "pygments_lexer": "ipython3",
   "version": "3.10.4"
  }
 },
 "nbformat": 4,
 "nbformat_minor": 5
}
