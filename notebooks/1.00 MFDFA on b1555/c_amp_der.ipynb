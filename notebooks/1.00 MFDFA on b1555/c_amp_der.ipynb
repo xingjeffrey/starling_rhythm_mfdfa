{
 "cells": [
  {
   "cell_type": "markdown",
   "id": "47cfd400",
   "metadata": {},
   "source": [
    "# Make Artificial Songs"
   ]
  },
  {
   "cell_type": "code",
   "execution_count": 1,
   "id": "3fbb000b",
   "metadata": {},
   "outputs": [],
   "source": [
    "from starling_rhythm.utils.paths import PROCESSED_DIR, ensure_dir\n",
    "from starling_rhythm import synth"
   ]
  },
  {
   "cell_type": "code",
   "execution_count": 2,
   "id": "eb215b05",
   "metadata": {},
   "outputs": [],
   "source": [
    "bID = 's_b1555_22'"
   ]
  },
  {
   "cell_type": "code",
   "execution_count": 3,
   "id": "c4fddf2e",
   "metadata": {},
   "outputs": [],
   "source": [
    "bID_DIR = PROCESSED_DIR / bID\n",
    "EMP_DIR = bID_DIR / 'templatingFalse-empiricalstrict'\n",
    "QUA_DIR = bID_DIR / 'templatingTrue-transition_gap_profilesstrict'"
   ]
  },
  {
   "cell_type": "code",
   "execution_count": 4,
   "id": "ad8b2580",
   "metadata": {},
   "outputs": [],
   "source": [
    "emp_list = list(EMP_DIR.glob('*.wav'))\n",
    "qua_list = list(QUA_DIR.glob('*.wav'))"
   ]
  },
  {
   "cell_type": "code",
   "execution_count": 5,
   "id": "d554791f",
   "metadata": {},
   "outputs": [],
   "source": [
    "emp_list.sort()"
   ]
  },
  {
   "cell_type": "code",
   "execution_count": 6,
   "id": "19e5c2cf",
   "metadata": {},
   "outputs": [],
   "source": [
    "qua_list.sort()"
   ]
  },
  {
   "cell_type": "markdown",
   "id": "f2267546",
   "metadata": {},
   "source": [
    "## Dump into DataFrame"
   ]
  },
  {
   "cell_type": "code",
   "execution_count": 7,
   "id": "b5381c40",
   "metadata": {},
   "outputs": [],
   "source": [
    "import pandas as pd\n",
    "import numpy as np"
   ]
  },
  {
   "cell_type": "code",
   "execution_count": 8,
   "id": "31abe1f1",
   "metadata": {},
   "outputs": [],
   "source": [
    "n_jobs = 42\n",
    "verbose = 0"
   ]
  },
  {
   "cell_type": "code",
   "execution_count": 9,
   "id": "1d42d0da",
   "metadata": {},
   "outputs": [],
   "source": [
    "emp_df = pd.DataFrame(\n",
    "    {\n",
    "        'file': emp_list,\n",
    "        'type': np.full(len(emp_list), fill_value = 'empirical'),\n",
    "        'dummy_id': np.arange(len(emp_list))\n",
    "    }\n",
    ")\n",
    "qua_df = pd.DataFrame(\n",
    "    {\n",
    "        'file': qua_list,\n",
    "        'type': np.full(len(qua_list), fill_value = 'quantized'),\n",
    "        'dummy_id': np.arange(len(qua_list))\n",
    "    }\n",
    ")\n",
    "\n",
    "stimuli_df = pd.concat([emp_df, qua_df])"
   ]
  },
  {
   "cell_type": "markdown",
   "id": "2fbe5fac",
   "metadata": {},
   "source": [
    "## analyze length"
   ]
  },
  {
   "cell_type": "code",
   "execution_count": 16,
   "id": "5186ef3d",
   "metadata": {},
   "outputs": [],
   "source": [
    "from scipy.io.wavfile import read\n",
    "from scipy.signal import hilbert"
   ]
  },
  {
   "cell_type": "code",
   "execution_count": 17,
   "id": "cf2d2ba8",
   "metadata": {},
   "outputs": [
    {
     "data": {
      "text/html": [
       "<div>\n",
       "<style scoped>\n",
       "    .dataframe tbody tr th:only-of-type {\n",
       "        vertical-align: middle;\n",
       "    }\n",
       "\n",
       "    .dataframe tbody tr th {\n",
       "        vertical-align: top;\n",
       "    }\n",
       "\n",
       "    .dataframe thead th {\n",
       "        text-align: right;\n",
       "    }\n",
       "</style>\n",
       "<table border=\"1\" class=\"dataframe\">\n",
       "  <thead>\n",
       "    <tr style=\"text-align: right;\">\n",
       "      <th></th>\n",
       "      <th>file</th>\n",
       "      <th>type</th>\n",
       "      <th>dummy_id</th>\n",
       "      <th>sr</th>\n",
       "      <th>length</th>\n",
       "      <th>length_sec</th>\n",
       "    </tr>\n",
       "  </thead>\n",
       "  <tbody>\n",
       "    <tr>\n",
       "      <th>0</th>\n",
       "      <td>/mnt/cube/j8xing/starling_rhythm_mfdfa/data/s_...</td>\n",
       "      <td>empirical</td>\n",
       "      <td>0</td>\n",
       "      <td>48000</td>\n",
       "      <td>422445</td>\n",
       "      <td>8.800937</td>\n",
       "    </tr>\n",
       "    <tr>\n",
       "      <th>1</th>\n",
       "      <td>/mnt/cube/j8xing/starling_rhythm_mfdfa/data/s_...</td>\n",
       "      <td>empirical</td>\n",
       "      <td>1</td>\n",
       "      <td>48000</td>\n",
       "      <td>467898</td>\n",
       "      <td>9.747875</td>\n",
       "    </tr>\n",
       "    <tr>\n",
       "      <th>2</th>\n",
       "      <td>/mnt/cube/j8xing/starling_rhythm_mfdfa/data/s_...</td>\n",
       "      <td>empirical</td>\n",
       "      <td>2</td>\n",
       "      <td>48000</td>\n",
       "      <td>454744</td>\n",
       "      <td>9.473833</td>\n",
       "    </tr>\n",
       "    <tr>\n",
       "      <th>3</th>\n",
       "      <td>/mnt/cube/j8xing/starling_rhythm_mfdfa/data/s_...</td>\n",
       "      <td>empirical</td>\n",
       "      <td>3</td>\n",
       "      <td>48000</td>\n",
       "      <td>447108</td>\n",
       "      <td>9.314750</td>\n",
       "    </tr>\n",
       "    <tr>\n",
       "      <th>4</th>\n",
       "      <td>/mnt/cube/j8xing/starling_rhythm_mfdfa/data/s_...</td>\n",
       "      <td>empirical</td>\n",
       "      <td>4</td>\n",
       "      <td>48000</td>\n",
       "      <td>453303</td>\n",
       "      <td>9.443812</td>\n",
       "    </tr>\n",
       "    <tr>\n",
       "      <th>...</th>\n",
       "      <td>...</td>\n",
       "      <td>...</td>\n",
       "      <td>...</td>\n",
       "      <td>...</td>\n",
       "      <td>...</td>\n",
       "      <td>...</td>\n",
       "    </tr>\n",
       "    <tr>\n",
       "      <th>295</th>\n",
       "      <td>/mnt/cube/j8xing/starling_rhythm_mfdfa/data/s_...</td>\n",
       "      <td>quantized</td>\n",
       "      <td>145</td>\n",
       "      <td>48000</td>\n",
       "      <td>458585</td>\n",
       "      <td>9.553854</td>\n",
       "    </tr>\n",
       "    <tr>\n",
       "      <th>296</th>\n",
       "      <td>/mnt/cube/j8xing/starling_rhythm_mfdfa/data/s_...</td>\n",
       "      <td>quantized</td>\n",
       "      <td>146</td>\n",
       "      <td>48000</td>\n",
       "      <td>454640</td>\n",
       "      <td>9.471667</td>\n",
       "    </tr>\n",
       "    <tr>\n",
       "      <th>297</th>\n",
       "      <td>/mnt/cube/j8xing/starling_rhythm_mfdfa/data/s_...</td>\n",
       "      <td>quantized</td>\n",
       "      <td>147</td>\n",
       "      <td>48000</td>\n",
       "      <td>453636</td>\n",
       "      <td>9.450750</td>\n",
       "    </tr>\n",
       "    <tr>\n",
       "      <th>298</th>\n",
       "      <td>/mnt/cube/j8xing/starling_rhythm_mfdfa/data/s_...</td>\n",
       "      <td>quantized</td>\n",
       "      <td>148</td>\n",
       "      <td>48000</td>\n",
       "      <td>441303</td>\n",
       "      <td>9.193812</td>\n",
       "    </tr>\n",
       "    <tr>\n",
       "      <th>299</th>\n",
       "      <td>/mnt/cube/j8xing/starling_rhythm_mfdfa/data/s_...</td>\n",
       "      <td>quantized</td>\n",
       "      <td>149</td>\n",
       "      <td>48000</td>\n",
       "      <td>447978</td>\n",
       "      <td>9.332875</td>\n",
       "    </tr>\n",
       "  </tbody>\n",
       "</table>\n",
       "<p>300 rows × 6 columns</p>\n",
       "</div>"
      ],
      "text/plain": [
       "                                                  file       type  dummy_id  \\\n",
       "0    /mnt/cube/j8xing/starling_rhythm_mfdfa/data/s_...  empirical         0   \n",
       "1    /mnt/cube/j8xing/starling_rhythm_mfdfa/data/s_...  empirical         1   \n",
       "2    /mnt/cube/j8xing/starling_rhythm_mfdfa/data/s_...  empirical         2   \n",
       "3    /mnt/cube/j8xing/starling_rhythm_mfdfa/data/s_...  empirical         3   \n",
       "4    /mnt/cube/j8xing/starling_rhythm_mfdfa/data/s_...  empirical         4   \n",
       "..                                                 ...        ...       ...   \n",
       "295  /mnt/cube/j8xing/starling_rhythm_mfdfa/data/s_...  quantized       145   \n",
       "296  /mnt/cube/j8xing/starling_rhythm_mfdfa/data/s_...  quantized       146   \n",
       "297  /mnt/cube/j8xing/starling_rhythm_mfdfa/data/s_...  quantized       147   \n",
       "298  /mnt/cube/j8xing/starling_rhythm_mfdfa/data/s_...  quantized       148   \n",
       "299  /mnt/cube/j8xing/starling_rhythm_mfdfa/data/s_...  quantized       149   \n",
       "\n",
       "        sr  length  length_sec  \n",
       "0    48000  422445    8.800937  \n",
       "1    48000  467898    9.747875  \n",
       "2    48000  454744    9.473833  \n",
       "3    48000  447108    9.314750  \n",
       "4    48000  453303    9.443812  \n",
       "..     ...     ...         ...  \n",
       "295  48000  458585    9.553854  \n",
       "296  48000  454640    9.471667  \n",
       "297  48000  453636    9.450750  \n",
       "298  48000  441303    9.193812  \n",
       "299  48000  447978    9.332875  \n",
       "\n",
       "[300 rows x 6 columns]"
      ]
     },
     "execution_count": 17,
     "metadata": {},
     "output_type": "execute_result"
    }
   ],
   "source": [
    "stimuli_df"
   ]
  },
  {
   "cell_type": "code",
   "execution_count": null,
   "id": "2a89f915",
   "metadata": {},
   "outputs": [],
   "source": []
  }
 ],
 "metadata": {
  "kernelspec": {
   "display_name": "starling_rhythm",
   "language": "python",
   "name": "starling_rhythm"
  },
  "language_info": {
   "codemirror_mode": {
    "name": "ipython",
    "version": 3
   },
   "file_extension": ".py",
   "mimetype": "text/x-python",
   "name": "python",
   "nbconvert_exporter": "python",
   "pygments_lexer": "ipython3",
   "version": "3.10.4"
  }
 },
 "nbformat": 4,
 "nbformat_minor": 5
}
