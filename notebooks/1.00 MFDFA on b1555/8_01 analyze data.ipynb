{
 "cells": [
  {
   "cell_type": "markdown",
   "id": "e71824eb",
   "metadata": {},
   "source": [
    "# import data"
   ]
  },
  {
   "cell_type": "code",
   "execution_count": 1,
   "id": "db0ea226",
   "metadata": {},
   "outputs": [],
   "source": [
    "from starling_rhythm.utils.paths import PROCESSED_DIR, ensure_dir"
   ]
  },
  {
   "cell_type": "code",
   "execution_count": 2,
   "id": "004f4194",
   "metadata": {},
   "outputs": [],
   "source": [
    "bID = 's_b1555_22'\n",
    "SAVE_PATH = PROCESSED_DIR / bID / 'final_stimuli_set.pickle'"
   ]
  },
  {
   "cell_type": "code",
   "execution_count": 3,
   "id": "98759a56",
   "metadata": {},
   "outputs": [
    {
     "data": {
      "text/plain": [
       "PosixPath('/mnt/cube/j8xing/starling_rhythm_mfdfa/data/s_b1555_22/final_stimuli_set.pickle')"
      ]
     },
     "execution_count": 3,
     "metadata": {},
     "output_type": "execute_result"
    }
   ],
   "source": [
    "SAVE_PATH"
   ]
  },
  {
   "cell_type": "code",
   "execution_count": 4,
   "id": "109b366e",
   "metadata": {},
   "outputs": [],
   "source": [
    "from pathlib2 import Path\n",
    "import pandas as pd"
   ]
  },
  {
   "cell_type": "code",
   "execution_count": 5,
   "id": "40fccedd",
   "metadata": {},
   "outputs": [],
   "source": [
    "data = pd.read_csv(Path('/mnt/cube/RawData/Magpi/B9999/B9999_trialdata_20230112173430.csv'))"
   ]
  },
  {
   "cell_type": "code",
   "execution_count": 6,
   "id": "688fd9aa",
   "metadata": {},
   "outputs": [
    {
     "data": {
      "text/html": [
       "<div>\n",
       "<style scoped>\n",
       "    .dataframe tbody tr th:only-of-type {\n",
       "        vertical-align: middle;\n",
       "    }\n",
       "\n",
       "    .dataframe tbody tr th {\n",
       "        vertical-align: top;\n",
       "    }\n",
       "\n",
       "    .dataframe thead th {\n",
       "        text-align: right;\n",
       "    }\n",
       "</style>\n",
       "<table border=\"1\" class=\"dataframe\">\n",
       "  <thead>\n",
       "    <tr style=\"text-align: right;\">\n",
       "      <th></th>\n",
       "      <th>session</th>\n",
       "      <th>index</th>\n",
       "      <th>type_</th>\n",
       "      <th>stimulus</th>\n",
       "      <th>class_</th>\n",
       "      <th>response</th>\n",
       "      <th>correct</th>\n",
       "      <th>rt</th>\n",
       "      <th>reward</th>\n",
       "      <th>punish</th>\n",
       "      <th>time</th>\n",
       "    </tr>\n",
       "  </thead>\n",
       "  <tbody>\n",
       "    <tr>\n",
       "      <th>0</th>\n",
       "      <td>1</td>\n",
       "      <td>0</td>\n",
       "      <td>normal</td>\n",
       "      <td>/home/bird/opdat/B9999/stimuli/shuffleGap_14_m...</td>\n",
       "      <td>R</td>\n",
       "      <td>left</td>\n",
       "      <td>False</td>\n",
       "      <td>2.785494</td>\n",
       "      <td>False</td>\n",
       "      <td>True</td>\n",
       "      <td>2023-01-12 17:35:31.352029</td>\n",
       "    </tr>\n",
       "    <tr>\n",
       "      <th>1</th>\n",
       "      <td>1</td>\n",
       "      <td>1</td>\n",
       "      <td>correction</td>\n",
       "      <td>/home/bird/opdat/B9999/stimuli/shuffleGap_14_m...</td>\n",
       "      <td>R</td>\n",
       "      <td>right</td>\n",
       "      <td>True</td>\n",
       "      <td>3.517957</td>\n",
       "      <td>False</td>\n",
       "      <td>False</td>\n",
       "      <td>2023-01-12 17:36:16.008994</td>\n",
       "    </tr>\n",
       "    <tr>\n",
       "      <th>2</th>\n",
       "      <td>1</td>\n",
       "      <td>2</td>\n",
       "      <td>normal</td>\n",
       "      <td>/home/bird/opdat/B9999/stimuli/shuffleGap_9_ma...</td>\n",
       "      <td>L</td>\n",
       "      <td>left</td>\n",
       "      <td>True</td>\n",
       "      <td>1.686884</td>\n",
       "      <td>True</td>\n",
       "      <td>False</td>\n",
       "      <td>2023-01-12 17:36:36.538288</td>\n",
       "    </tr>\n",
       "    <tr>\n",
       "      <th>3</th>\n",
       "      <td>1</td>\n",
       "      <td>3</td>\n",
       "      <td>normal</td>\n",
       "      <td>/home/bird/opdat/B9999/stimuli/shuffleGap_10_m...</td>\n",
       "      <td>R</td>\n",
       "      <td>left</td>\n",
       "      <td>False</td>\n",
       "      <td>1.368589</td>\n",
       "      <td>False</td>\n",
       "      <td>True</td>\n",
       "      <td>2023-01-12 17:36:58.136891</td>\n",
       "    </tr>\n",
       "    <tr>\n",
       "      <th>4</th>\n",
       "      <td>1</td>\n",
       "      <td>4</td>\n",
       "      <td>correction</td>\n",
       "      <td>/home/bird/opdat/B9999/stimuli/shuffleGap_10_m...</td>\n",
       "      <td>R</td>\n",
       "      <td>right</td>\n",
       "      <td>True</td>\n",
       "      <td>0.887691</td>\n",
       "      <td>False</td>\n",
       "      <td>False</td>\n",
       "      <td>2023-01-12 17:37:34.545595</td>\n",
       "    </tr>\n",
       "    <tr>\n",
       "      <th>...</th>\n",
       "      <td>...</td>\n",
       "      <td>...</td>\n",
       "      <td>...</td>\n",
       "      <td>...</td>\n",
       "      <td>...</td>\n",
       "      <td>...</td>\n",
       "      <td>...</td>\n",
       "      <td>...</td>\n",
       "      <td>...</td>\n",
       "      <td>...</td>\n",
       "      <td>...</td>\n",
       "    </tr>\n",
       "    <tr>\n",
       "      <th>70</th>\n",
       "      <td>1</td>\n",
       "      <td>70</td>\n",
       "      <td>normal</td>\n",
       "      <td>/home/bird/opdat/B9999/stimuli/shuffleGap_6_ma...</td>\n",
       "      <td>L</td>\n",
       "      <td>right</td>\n",
       "      <td>False</td>\n",
       "      <td>4.016159</td>\n",
       "      <td>False</td>\n",
       "      <td>True</td>\n",
       "      <td>2023-01-12 18:07:02.611169</td>\n",
       "    </tr>\n",
       "    <tr>\n",
       "      <th>71</th>\n",
       "      <td>1</td>\n",
       "      <td>71</td>\n",
       "      <td>correction</td>\n",
       "      <td>/home/bird/opdat/B9999/stimuli/shuffleGap_6_ma...</td>\n",
       "      <td>L</td>\n",
       "      <td>left</td>\n",
       "      <td>True</td>\n",
       "      <td>3.998851</td>\n",
       "      <td>False</td>\n",
       "      <td>False</td>\n",
       "      <td>2023-01-12 18:07:46.475270</td>\n",
       "    </tr>\n",
       "    <tr>\n",
       "      <th>72</th>\n",
       "      <td>1</td>\n",
       "      <td>72</td>\n",
       "      <td>normal</td>\n",
       "      <td>/home/bird/opdat/B9999/stimuli/shuffleGap_9_mi...</td>\n",
       "      <td>R</td>\n",
       "      <td>right</td>\n",
       "      <td>True</td>\n",
       "      <td>1.154141</td>\n",
       "      <td>False</td>\n",
       "      <td>False</td>\n",
       "      <td>2023-01-12 18:08:24.398165</td>\n",
       "    </tr>\n",
       "    <tr>\n",
       "      <th>73</th>\n",
       "      <td>1</td>\n",
       "      <td>73</td>\n",
       "      <td>normal</td>\n",
       "      <td>/home/bird/opdat/B9999/stimuli/shuffleGap_31_m...</td>\n",
       "      <td>R</td>\n",
       "      <td>right</td>\n",
       "      <td>True</td>\n",
       "      <td>4.881857</td>\n",
       "      <td>True</td>\n",
       "      <td>False</td>\n",
       "      <td>2023-01-12 18:08:42.318619</td>\n",
       "    </tr>\n",
       "    <tr>\n",
       "      <th>74</th>\n",
       "      <td>1</td>\n",
       "      <td>74</td>\n",
       "      <td>normal</td>\n",
       "      <td>/home/bird/opdat/B9999/stimuli/shuffleGap_44_m...</td>\n",
       "      <td>L</td>\n",
       "      <td>right</td>\n",
       "      <td>False</td>\n",
       "      <td>1.917743</td>\n",
       "      <td>False</td>\n",
       "      <td>True</td>\n",
       "      <td>2023-01-12 18:09:07.367871</td>\n",
       "    </tr>\n",
       "  </tbody>\n",
       "</table>\n",
       "<p>75 rows × 11 columns</p>\n",
       "</div>"
      ],
      "text/plain": [
       "    session  index       type_  \\\n",
       "0         1      0      normal   \n",
       "1         1      1  correction   \n",
       "2         1      2      normal   \n",
       "3         1      3      normal   \n",
       "4         1      4  correction   \n",
       "..      ...    ...         ...   \n",
       "70        1     70      normal   \n",
       "71        1     71  correction   \n",
       "72        1     72      normal   \n",
       "73        1     73      normal   \n",
       "74        1     74      normal   \n",
       "\n",
       "                                             stimulus class_ response correct  \\\n",
       "0   /home/bird/opdat/B9999/stimuli/shuffleGap_14_m...      R     left   False   \n",
       "1   /home/bird/opdat/B9999/stimuli/shuffleGap_14_m...      R    right    True   \n",
       "2   /home/bird/opdat/B9999/stimuli/shuffleGap_9_ma...      L     left    True   \n",
       "3   /home/bird/opdat/B9999/stimuli/shuffleGap_10_m...      R     left   False   \n",
       "4   /home/bird/opdat/B9999/stimuli/shuffleGap_10_m...      R    right    True   \n",
       "..                                                ...    ...      ...     ...   \n",
       "70  /home/bird/opdat/B9999/stimuli/shuffleGap_6_ma...      L    right   False   \n",
       "71  /home/bird/opdat/B9999/stimuli/shuffleGap_6_ma...      L     left    True   \n",
       "72  /home/bird/opdat/B9999/stimuli/shuffleGap_9_mi...      R    right    True   \n",
       "73  /home/bird/opdat/B9999/stimuli/shuffleGap_31_m...      R    right    True   \n",
       "74  /home/bird/opdat/B9999/stimuli/shuffleGap_44_m...      L    right   False   \n",
       "\n",
       "          rt  reward  punish                        time  \n",
       "0   2.785494   False    True  2023-01-12 17:35:31.352029  \n",
       "1   3.517957   False   False  2023-01-12 17:36:16.008994  \n",
       "2   1.686884    True   False  2023-01-12 17:36:36.538288  \n",
       "3   1.368589   False    True  2023-01-12 17:36:58.136891  \n",
       "4   0.887691   False   False  2023-01-12 17:37:34.545595  \n",
       "..       ...     ...     ...                         ...  \n",
       "70  4.016159   False    True  2023-01-12 18:07:02.611169  \n",
       "71  3.998851   False   False  2023-01-12 18:07:46.475270  \n",
       "72  1.154141   False   False  2023-01-12 18:08:24.398165  \n",
       "73  4.881857    True   False  2023-01-12 18:08:42.318619  \n",
       "74  1.917743   False    True  2023-01-12 18:09:07.367871  \n",
       "\n",
       "[75 rows x 11 columns]"
      ]
     },
     "execution_count": 6,
     "metadata": {},
     "output_type": "execute_result"
    }
   ],
   "source": [
    "data"
   ]
  },
  {
   "cell_type": "code",
   "execution_count": 7,
   "id": "36923fa1",
   "metadata": {},
   "outputs": [],
   "source": [
    "import numpy as np"
   ]
  },
  {
   "cell_type": "code",
   "execution_count": 8,
   "id": "62337569",
   "metadata": {},
   "outputs": [
    {
     "data": {
      "text/plain": [
       "0.5102040816326531"
      ]
     },
     "execution_count": 8,
     "metadata": {},
     "output_type": "execute_result"
    }
   ],
   "source": [
    "np.nanmean(data[data['type_'] == 'normal']['correct'].values)"
   ]
  },
  {
   "cell_type": "code",
   "execution_count": null,
   "id": "55ed9efb",
   "metadata": {},
   "outputs": [],
   "source": []
  }
 ],
 "metadata": {
  "kernelspec": {
   "display_name": "starling_rhythm",
   "language": "python",
   "name": "starling_rhythm"
  },
  "language_info": {
   "codemirror_mode": {
    "name": "ipython",
    "version": 3
   },
   "file_extension": ".py",
   "mimetype": "text/x-python",
   "name": "python",
   "nbconvert_exporter": "python",
   "pygments_lexer": "ipython3",
   "version": "3.10.4"
  }
 },
 "nbformat": 4,
 "nbformat_minor": 5
}
