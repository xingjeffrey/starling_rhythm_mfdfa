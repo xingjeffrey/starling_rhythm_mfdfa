{
 "cells": [
  {
   "cell_type": "markdown",
   "id": "3cdbb0b8",
   "metadata": {},
   "source": [
    "## Pick stimulus\n",
    "\n",
    "- from initial reading of max and mins"
   ]
  },
  {
   "cell_type": "code",
   "execution_count": 1,
   "id": "781bce6e",
   "metadata": {},
   "outputs": [],
   "source": [
    "from starling_rhythm.utils.paths import PROCESSED_DIR"
   ]
  },
  {
   "cell_type": "code",
   "execution_count": 2,
   "id": "3bda5053",
   "metadata": {},
   "outputs": [],
   "source": [
    "bID = 's_b1555_22'\n",
    "SAVE_PATH = PROCESSED_DIR / bID / 'shuffle_tmf.pickle'"
   ]
  },
  {
   "cell_type": "code",
   "execution_count": 3,
   "id": "01acebfd",
   "metadata": {},
   "outputs": [],
   "source": [
    "import pandas as pd"
   ]
  },
  {
   "cell_type": "code",
   "execution_count": 4,
   "id": "42bbb8e7",
   "metadata": {},
   "outputs": [],
   "source": [
    "shuffle_tmf = pd.read_pickle(SAVE_PATH)[:42]"
   ]
  },
  {
   "cell_type": "code",
   "execution_count": 5,
   "id": "480924f0",
   "metadata": {},
   "outputs": [],
   "source": [
    "shuffle_wavs = shuffle_tmf.shuffle_wavs.values"
   ]
  },
  {
   "cell_type": "markdown",
   "id": "9740b3ce",
   "metadata": {},
   "source": [
    "## Original calculation. "
   ]
  },
  {
   "cell_type": "code",
   "execution_count": 6,
   "id": "8f84acbb",
   "metadata": {},
   "outputs": [
    {
     "data": {
      "text/html": [
       "<div>\n",
       "<style scoped>\n",
       "    .dataframe tbody tr th:only-of-type {\n",
       "        vertical-align: middle;\n",
       "    }\n",
       "\n",
       "    .dataframe tbody tr th {\n",
       "        vertical-align: top;\n",
       "    }\n",
       "\n",
       "    .dataframe thead th {\n",
       "        text-align: right;\n",
       "    }\n",
       "</style>\n",
       "<table border=\"1\" class=\"dataframe\">\n",
       "  <thead>\n",
       "    <tr style=\"text-align: right;\">\n",
       "      <th></th>\n",
       "      <th>index</th>\n",
       "      <th>shuffle_wavs</th>\n",
       "      <th>shuffle_og_seg</th>\n",
       "      <th>shuffle_ts</th>\n",
       "      <th>seg_nb</th>\n",
       "      <th>type</th>\n",
       "    </tr>\n",
       "  </thead>\n",
       "  <tbody>\n",
       "    <tr>\n",
       "      <th>18</th>\n",
       "      <td>18</td>\n",
       "      <td>/mnt/cube/j8xing/starling_rhythm_mfdfa/data/s_...</td>\n",
       "      <td>s_b1555_22_2022-09-20_09-00-01-01_1611695_1641...</td>\n",
       "      <td>33.540317</td>\n",
       "      <td>0</td>\n",
       "      <td>max</td>\n",
       "    </tr>\n",
       "    <tr>\n",
       "      <th>1</th>\n",
       "      <td>1</td>\n",
       "      <td>/mnt/cube/j8xing/starling_rhythm_mfdfa/data/s_...</td>\n",
       "      <td>s_b1555_22_2022-09-20_09-00-01-01_1611695_1641...</td>\n",
       "      <td>13.189624</td>\n",
       "      <td>0</td>\n",
       "      <td>min</td>\n",
       "    </tr>\n",
       "    <tr>\n",
       "      <th>3</th>\n",
       "      <td>35</td>\n",
       "      <td>/mnt/cube/j8xing/starling_rhythm_mfdfa/data/s_...</td>\n",
       "      <td>s_b1555_22_2022-09-20_09-00-01-02_1242225_1285...</td>\n",
       "      <td>48.723433</td>\n",
       "      <td>1</td>\n",
       "      <td>max</td>\n",
       "    </tr>\n",
       "    <tr>\n",
       "      <th>30</th>\n",
       "      <td>62</td>\n",
       "      <td>/mnt/cube/j8xing/starling_rhythm_mfdfa/data/s_...</td>\n",
       "      <td>s_b1555_22_2022-09-20_09-00-01-02_1242225_1285...</td>\n",
       "      <td>24.444802</td>\n",
       "      <td>1</td>\n",
       "      <td>min</td>\n",
       "    </tr>\n",
       "    <tr>\n",
       "      <th>19</th>\n",
       "      <td>83</td>\n",
       "      <td>/mnt/cube/j8xing/starling_rhythm_mfdfa/data/s_...</td>\n",
       "      <td>s_b1555_22_2022-09-20_09-00-01-02_1242225_1285...</td>\n",
       "      <td>43.137802</td>\n",
       "      <td>2</td>\n",
       "      <td>max</td>\n",
       "    </tr>\n",
       "  </tbody>\n",
       "</table>\n",
       "</div>"
      ],
      "text/plain": [
       "    index                                       shuffle_wavs  \\\n",
       "18     18  /mnt/cube/j8xing/starling_rhythm_mfdfa/data/s_...   \n",
       "1       1  /mnt/cube/j8xing/starling_rhythm_mfdfa/data/s_...   \n",
       "3      35  /mnt/cube/j8xing/starling_rhythm_mfdfa/data/s_...   \n",
       "30     62  /mnt/cube/j8xing/starling_rhythm_mfdfa/data/s_...   \n",
       "19     83  /mnt/cube/j8xing/starling_rhythm_mfdfa/data/s_...   \n",
       "\n",
       "                                       shuffle_og_seg  shuffle_ts  seg_nb type  \n",
       "18  s_b1555_22_2022-09-20_09-00-01-01_1611695_1641...   33.540317       0  max  \n",
       "1   s_b1555_22_2022-09-20_09-00-01-01_1611695_1641...   13.189624       0  min  \n",
       "3   s_b1555_22_2022-09-20_09-00-01-02_1242225_1285...   48.723433       1  max  \n",
       "30  s_b1555_22_2022-09-20_09-00-01-02_1242225_1285...   24.444802       1  min  \n",
       "19  s_b1555_22_2022-09-20_09-00-01-02_1242225_1285...   43.137802       2  max  "
      ]
     },
     "execution_count": 6,
     "metadata": {},
     "output_type": "execute_result"
    }
   ],
   "source": [
    "shuffle_tmf.head()"
   ]
  },
  {
   "cell_type": "code",
   "execution_count": 7,
   "id": "4f4a8e68",
   "metadata": {},
   "outputs": [
    {
     "name": "stderr",
     "output_type": "stream",
     "text": [
      "/tmp/ipykernel_44089/123448108.py:2: TqdmWarning: IProgress not found. Please update jupyter and ipywidgets. See https://ipywidgets.readthedocs.io/en/stable/user_install.html\n",
      "  from tqdm.autonotebook import tqdm\n"
     ]
    }
   ],
   "source": [
    "from joblib import Parallel, delayed\n",
    "from tqdm.autonotebook import tqdm"
   ]
  },
  {
   "cell_type": "code",
   "execution_count": 8,
   "id": "1dde0cc4",
   "metadata": {},
   "outputs": [],
   "source": [
    "from starling_rhythm.mfdfa import tmf\n",
    "n_jobs = 42\n",
    "verbose = 0"
   ]
  },
  {
   "cell_type": "markdown",
   "id": "8717bc79",
   "metadata": {},
   "source": [
    "## Do a power analysis"
   ]
  },
  {
   "cell_type": "code",
   "execution_count": 9,
   "id": "909d8a02",
   "metadata": {},
   "outputs": [],
   "source": [
    "import numpy as np\n",
    "from statsmodels.stats.power import TTestPower\n",
    "import matplotlib.pyplot as plt"
   ]
  },
  {
   "cell_type": "code",
   "execution_count": 10,
   "id": "faef4f05",
   "metadata": {},
   "outputs": [
    {
     "data": {
      "text/plain": [
       "0.9998707329564137"
      ]
     },
     "execution_count": 10,
     "metadata": {},
     "output_type": "execute_result"
    }
   ],
   "source": [
    "solver = TTestPower()\n",
    "solver.solve_power(effect_size = 0.5, nobs = 128, alpha = 0.05, power = None, alternative = \"two-sided\")"
   ]
  },
  {
   "cell_type": "markdown",
   "id": "b1d93e5e",
   "metadata": {},
   "source": [
    "## Do a sanity test of T"
   ]
  },
  {
   "cell_type": "code",
   "execution_count": 11,
   "id": "8b62fb5e",
   "metadata": {},
   "outputs": [
    {
     "name": "stderr",
     "output_type": "stream",
     "text": [
      "shuffle: 100%|███████████████████████████████████████████████████████████████████████████████████████████████████████████████████████████████████████████████████████| 42/42 [00:00<00:00, 91.41it/s]\n"
     ]
    },
    {
     "name": "stdout",
     "output_type": "stream",
     "text": [
      "CPU times: user 152 ms, sys: 337 ms, total: 489 ms\n",
      "Wall time: 40.7 s\n"
     ]
    }
   ],
   "source": [
    "%%time\n",
    "\n",
    "with Parallel(n_jobs = n_jobs, verbose = verbose) as parallel:\n",
    "    shuffle_ts = parallel(\n",
    "        delayed(tmf)(\n",
    "            address,\n",
    "            ns = 32,\n",
    "            amp_env_sr = 200,\n",
    "            hilbert_artifacts = True\n",
    "        )\n",
    "        for address in tqdm(shuffle_wavs, desc = 'shuffle')\n",
    "    )"
   ]
  },
  {
   "cell_type": "code",
   "execution_count": 12,
   "id": "3d025502",
   "metadata": {},
   "outputs": [],
   "source": [
    "shuffle_tmf['sanity_tmf'] = shuffle_ts"
   ]
  },
  {
   "cell_type": "code",
   "execution_count": 13,
   "id": "ee572d52",
   "metadata": {},
   "outputs": [
    {
     "data": {
      "text/html": [
       "<div>\n",
       "<style scoped>\n",
       "    .dataframe tbody tr th:only-of-type {\n",
       "        vertical-align: middle;\n",
       "    }\n",
       "\n",
       "    .dataframe tbody tr th {\n",
       "        vertical-align: top;\n",
       "    }\n",
       "\n",
       "    .dataframe thead th {\n",
       "        text-align: right;\n",
       "    }\n",
       "</style>\n",
       "<table border=\"1\" class=\"dataframe\">\n",
       "  <thead>\n",
       "    <tr style=\"text-align: right;\">\n",
       "      <th></th>\n",
       "      <th>index</th>\n",
       "      <th>shuffle_wavs</th>\n",
       "      <th>shuffle_og_seg</th>\n",
       "      <th>shuffle_ts</th>\n",
       "      <th>seg_nb</th>\n",
       "      <th>type</th>\n",
       "      <th>sanity_tmf</th>\n",
       "    </tr>\n",
       "  </thead>\n",
       "  <tbody>\n",
       "    <tr>\n",
       "      <th>18</th>\n",
       "      <td>18</td>\n",
       "      <td>/mnt/cube/j8xing/starling_rhythm_mfdfa/data/s_...</td>\n",
       "      <td>s_b1555_22_2022-09-20_09-00-01-01_1611695_1641...</td>\n",
       "      <td>33.540317</td>\n",
       "      <td>0</td>\n",
       "      <td>max</td>\n",
       "      <td>24.649391</td>\n",
       "    </tr>\n",
       "    <tr>\n",
       "      <th>1</th>\n",
       "      <td>1</td>\n",
       "      <td>/mnt/cube/j8xing/starling_rhythm_mfdfa/data/s_...</td>\n",
       "      <td>s_b1555_22_2022-09-20_09-00-01-01_1611695_1641...</td>\n",
       "      <td>13.189624</td>\n",
       "      <td>0</td>\n",
       "      <td>min</td>\n",
       "      <td>14.886053</td>\n",
       "    </tr>\n",
       "    <tr>\n",
       "      <th>3</th>\n",
       "      <td>35</td>\n",
       "      <td>/mnt/cube/j8xing/starling_rhythm_mfdfa/data/s_...</td>\n",
       "      <td>s_b1555_22_2022-09-20_09-00-01-02_1242225_1285...</td>\n",
       "      <td>48.723433</td>\n",
       "      <td>1</td>\n",
       "      <td>max</td>\n",
       "      <td>42.205795</td>\n",
       "    </tr>\n",
       "    <tr>\n",
       "      <th>30</th>\n",
       "      <td>62</td>\n",
       "      <td>/mnt/cube/j8xing/starling_rhythm_mfdfa/data/s_...</td>\n",
       "      <td>s_b1555_22_2022-09-20_09-00-01-02_1242225_1285...</td>\n",
       "      <td>24.444802</td>\n",
       "      <td>1</td>\n",
       "      <td>min</td>\n",
       "      <td>29.057396</td>\n",
       "    </tr>\n",
       "    <tr>\n",
       "      <th>19</th>\n",
       "      <td>83</td>\n",
       "      <td>/mnt/cube/j8xing/starling_rhythm_mfdfa/data/s_...</td>\n",
       "      <td>s_b1555_22_2022-09-20_09-00-01-02_1242225_1285...</td>\n",
       "      <td>43.137802</td>\n",
       "      <td>2</td>\n",
       "      <td>max</td>\n",
       "      <td>35.703088</td>\n",
       "    </tr>\n",
       "    <tr>\n",
       "      <th>29</th>\n",
       "      <td>93</td>\n",
       "      <td>/mnt/cube/j8xing/starling_rhythm_mfdfa/data/s_...</td>\n",
       "      <td>s_b1555_22_2022-09-20_09-00-01-02_1242225_1285...</td>\n",
       "      <td>15.824965</td>\n",
       "      <td>2</td>\n",
       "      <td>min</td>\n",
       "      <td>18.456518</td>\n",
       "    </tr>\n",
       "    <tr>\n",
       "      <th>28</th>\n",
       "      <td>124</td>\n",
       "      <td>/mnt/cube/j8xing/starling_rhythm_mfdfa/data/s_...</td>\n",
       "      <td>s_b1555_22_2022-09-20_09-00-01-02_1368310_1403...</td>\n",
       "      <td>105.543480</td>\n",
       "      <td>3</td>\n",
       "      <td>max</td>\n",
       "      <td>81.155597</td>\n",
       "    </tr>\n",
       "    <tr>\n",
       "      <th>16</th>\n",
       "      <td>112</td>\n",
       "      <td>/mnt/cube/j8xing/starling_rhythm_mfdfa/data/s_...</td>\n",
       "      <td>s_b1555_22_2022-09-20_09-00-01-02_1368310_1403...</td>\n",
       "      <td>56.356126</td>\n",
       "      <td>3</td>\n",
       "      <td>min</td>\n",
       "      <td>61.058053</td>\n",
       "    </tr>\n",
       "    <tr>\n",
       "      <th>2</th>\n",
       "      <td>130</td>\n",
       "      <td>/mnt/cube/j8xing/starling_rhythm_mfdfa/data/s_...</td>\n",
       "      <td>s_b1555_22_2022-09-20_09-00-01-02_1626685_1683...</td>\n",
       "      <td>60.113023</td>\n",
       "      <td>4</td>\n",
       "      <td>max</td>\n",
       "      <td>44.671308</td>\n",
       "    </tr>\n",
       "    <tr>\n",
       "      <th>27</th>\n",
       "      <td>155</td>\n",
       "      <td>/mnt/cube/j8xing/starling_rhythm_mfdfa/data/s_...</td>\n",
       "      <td>s_b1555_22_2022-09-20_09-00-01-02_1626685_1683...</td>\n",
       "      <td>29.109216</td>\n",
       "      <td>4</td>\n",
       "      <td>min</td>\n",
       "      <td>37.657902</td>\n",
       "    </tr>\n",
       "    <tr>\n",
       "      <th>18</th>\n",
       "      <td>178</td>\n",
       "      <td>/mnt/cube/j8xing/starling_rhythm_mfdfa/data/s_...</td>\n",
       "      <td>s_b1555_22_2022-09-20_09-00-01-02_963040_10210...</td>\n",
       "      <td>38.121556</td>\n",
       "      <td>5</td>\n",
       "      <td>max</td>\n",
       "      <td>29.847472</td>\n",
       "    </tr>\n",
       "    <tr>\n",
       "      <th>0</th>\n",
       "      <td>160</td>\n",
       "      <td>/mnt/cube/j8xing/starling_rhythm_mfdfa/data/s_...</td>\n",
       "      <td>s_b1555_22_2022-09-20_09-00-01-02_963040_10210...</td>\n",
       "      <td>15.734982</td>\n",
       "      <td>5</td>\n",
       "      <td>min</td>\n",
       "      <td>17.871499</td>\n",
       "    </tr>\n",
       "    <tr>\n",
       "      <th>28</th>\n",
       "      <td>220</td>\n",
       "      <td>/mnt/cube/j8xing/starling_rhythm_mfdfa/data/s_...</td>\n",
       "      <td>s_b1555_22_2022-09-20_10-00-01-01_1287330_1328...</td>\n",
       "      <td>36.394448</td>\n",
       "      <td>6</td>\n",
       "      <td>max</td>\n",
       "      <td>25.440568</td>\n",
       "    </tr>\n",
       "    <tr>\n",
       "      <th>0</th>\n",
       "      <td>192</td>\n",
       "      <td>/mnt/cube/j8xing/starling_rhythm_mfdfa/data/s_...</td>\n",
       "      <td>s_b1555_22_2022-09-20_10-00-01-01_1287330_1328...</td>\n",
       "      <td>13.834060</td>\n",
       "      <td>6</td>\n",
       "      <td>min</td>\n",
       "      <td>23.942949</td>\n",
       "    </tr>\n",
       "    <tr>\n",
       "      <th>31</th>\n",
       "      <td>255</td>\n",
       "      <td>/mnt/cube/j8xing/starling_rhythm_mfdfa/data/s_...</td>\n",
       "      <td>s_b1555_22_2022-09-20_10-00-01-01_1287330_1328...</td>\n",
       "      <td>58.821514</td>\n",
       "      <td>7</td>\n",
       "      <td>max</td>\n",
       "      <td>40.873136</td>\n",
       "    </tr>\n",
       "    <tr>\n",
       "      <th>15</th>\n",
       "      <td>239</td>\n",
       "      <td>/mnt/cube/j8xing/starling_rhythm_mfdfa/data/s_...</td>\n",
       "      <td>s_b1555_22_2022-09-20_10-00-01-01_1287330_1328...</td>\n",
       "      <td>29.579381</td>\n",
       "      <td>7</td>\n",
       "      <td>min</td>\n",
       "      <td>27.361153</td>\n",
       "    </tr>\n",
       "    <tr>\n",
       "      <th>28</th>\n",
       "      <td>284</td>\n",
       "      <td>/mnt/cube/j8xing/starling_rhythm_mfdfa/data/s_...</td>\n",
       "      <td>s_b1555_22_2022-09-20_10-00-01-01_431870_46856...</td>\n",
       "      <td>75.629631</td>\n",
       "      <td>8</td>\n",
       "      <td>max</td>\n",
       "      <td>58.946015</td>\n",
       "    </tr>\n",
       "    <tr>\n",
       "      <th>11</th>\n",
       "      <td>267</td>\n",
       "      <td>/mnt/cube/j8xing/starling_rhythm_mfdfa/data/s_...</td>\n",
       "      <td>s_b1555_22_2022-09-20_10-00-01-01_431870_46856...</td>\n",
       "      <td>33.867585</td>\n",
       "      <td>8</td>\n",
       "      <td>min</td>\n",
       "      <td>42.365275</td>\n",
       "    </tr>\n",
       "    <tr>\n",
       "      <th>16</th>\n",
       "      <td>304</td>\n",
       "      <td>/mnt/cube/j8xing/starling_rhythm_mfdfa/data/s_...</td>\n",
       "      <td>s_b1555_22_2022-09-20_10-00-01-01_575690_61250...</td>\n",
       "      <td>60.257132</td>\n",
       "      <td>9</td>\n",
       "      <td>max</td>\n",
       "      <td>46.868780</td>\n",
       "    </tr>\n",
       "    <tr>\n",
       "      <th>2</th>\n",
       "      <td>290</td>\n",
       "      <td>/mnt/cube/j8xing/starling_rhythm_mfdfa/data/s_...</td>\n",
       "      <td>s_b1555_22_2022-09-20_10-00-01-01_575690_61250...</td>\n",
       "      <td>35.583834</td>\n",
       "      <td>9</td>\n",
       "      <td>min</td>\n",
       "      <td>35.236957</td>\n",
       "    </tr>\n",
       "    <tr>\n",
       "      <th>4</th>\n",
       "      <td>324</td>\n",
       "      <td>/mnt/cube/j8xing/starling_rhythm_mfdfa/data/s_...</td>\n",
       "      <td>s_b1555_22_2022-09-20_10-00-01-02_1381465_1425...</td>\n",
       "      <td>54.523528</td>\n",
       "      <td>10</td>\n",
       "      <td>max</td>\n",
       "      <td>38.425599</td>\n",
       "    </tr>\n",
       "    <tr>\n",
       "      <th>18</th>\n",
       "      <td>338</td>\n",
       "      <td>/mnt/cube/j8xing/starling_rhythm_mfdfa/data/s_...</td>\n",
       "      <td>s_b1555_22_2022-09-20_10-00-01-02_1381465_1425...</td>\n",
       "      <td>19.980391</td>\n",
       "      <td>10</td>\n",
       "      <td>min</td>\n",
       "      <td>17.199449</td>\n",
       "    </tr>\n",
       "    <tr>\n",
       "      <th>19</th>\n",
       "      <td>371</td>\n",
       "      <td>/mnt/cube/j8xing/starling_rhythm_mfdfa/data/s_...</td>\n",
       "      <td>s_b1555_22_2022-09-20_10-00-01-02_1463625_1517...</td>\n",
       "      <td>93.676959</td>\n",
       "      <td>11</td>\n",
       "      <td>max</td>\n",
       "      <td>52.377529</td>\n",
       "    </tr>\n",
       "    <tr>\n",
       "      <th>6</th>\n",
       "      <td>358</td>\n",
       "      <td>/mnt/cube/j8xing/starling_rhythm_mfdfa/data/s_...</td>\n",
       "      <td>s_b1555_22_2022-09-20_10-00-01-02_1463625_1517...</td>\n",
       "      <td>28.110211</td>\n",
       "      <td>11</td>\n",
       "      <td>min</td>\n",
       "      <td>32.303044</td>\n",
       "    </tr>\n",
       "    <tr>\n",
       "      <th>29</th>\n",
       "      <td>413</td>\n",
       "      <td>/mnt/cube/j8xing/starling_rhythm_mfdfa/data/s_...</td>\n",
       "      <td>s_b1555_22_2022-09-20_10-00-01-02_601630_65109...</td>\n",
       "      <td>49.976460</td>\n",
       "      <td>12</td>\n",
       "      <td>max</td>\n",
       "      <td>24.856269</td>\n",
       "    </tr>\n",
       "    <tr>\n",
       "      <th>7</th>\n",
       "      <td>391</td>\n",
       "      <td>/mnt/cube/j8xing/starling_rhythm_mfdfa/data/s_...</td>\n",
       "      <td>s_b1555_22_2022-09-20_10-00-01-02_601630_65109...</td>\n",
       "      <td>17.175055</td>\n",
       "      <td>12</td>\n",
       "      <td>min</td>\n",
       "      <td>26.408327</td>\n",
       "    </tr>\n",
       "    <tr>\n",
       "      <th>3</th>\n",
       "      <td>419</td>\n",
       "      <td>/mnt/cube/j8xing/starling_rhythm_mfdfa/data/s_...</td>\n",
       "      <td>s_b1555_22_2022-09-20_10-00-01-02_601630_65109...</td>\n",
       "      <td>14.593728</td>\n",
       "      <td>13</td>\n",
       "      <td>max</td>\n",
       "      <td>12.061141</td>\n",
       "    </tr>\n",
       "    <tr>\n",
       "      <th>21</th>\n",
       "      <td>437</td>\n",
       "      <td>/mnt/cube/j8xing/starling_rhythm_mfdfa/data/s_...</td>\n",
       "      <td>s_b1555_22_2022-09-20_10-00-01-02_601630_65109...</td>\n",
       "      <td>-1.452507</td>\n",
       "      <td>13</td>\n",
       "      <td>min</td>\n",
       "      <td>-1.084078</td>\n",
       "    </tr>\n",
       "    <tr>\n",
       "      <th>4</th>\n",
       "      <td>452</td>\n",
       "      <td>/mnt/cube/j8xing/starling_rhythm_mfdfa/data/s_...</td>\n",
       "      <td>s_b1555_22_2022-09-20_11-00-01-01_559635_60219...</td>\n",
       "      <td>45.927433</td>\n",
       "      <td>14</td>\n",
       "      <td>max</td>\n",
       "      <td>44.053934</td>\n",
       "    </tr>\n",
       "    <tr>\n",
       "      <th>8</th>\n",
       "      <td>456</td>\n",
       "      <td>/mnt/cube/j8xing/starling_rhythm_mfdfa/data/s_...</td>\n",
       "      <td>s_b1555_22_2022-09-20_11-00-01-01_559635_60219...</td>\n",
       "      <td>21.426010</td>\n",
       "      <td>14</td>\n",
       "      <td>min</td>\n",
       "      <td>24.703904</td>\n",
       "    </tr>\n",
       "    <tr>\n",
       "      <th>14</th>\n",
       "      <td>494</td>\n",
       "      <td>/mnt/cube/j8xing/starling_rhythm_mfdfa/data/s_...</td>\n",
       "      <td>s_b1555_22_2022-09-20_11-00-01-01_559635_60219...</td>\n",
       "      <td>83.016307</td>\n",
       "      <td>15</td>\n",
       "      <td>max</td>\n",
       "      <td>65.129971</td>\n",
       "    </tr>\n",
       "    <tr>\n",
       "      <th>20</th>\n",
       "      <td>500</td>\n",
       "      <td>/mnt/cube/j8xing/starling_rhythm_mfdfa/data/s_...</td>\n",
       "      <td>s_b1555_22_2022-09-20_11-00-01-01_559635_60219...</td>\n",
       "      <td>46.269558</td>\n",
       "      <td>15</td>\n",
       "      <td>min</td>\n",
       "      <td>46.850039</td>\n",
       "    </tr>\n",
       "    <tr>\n",
       "      <th>3</th>\n",
       "      <td>515</td>\n",
       "      <td>/mnt/cube/j8xing/starling_rhythm_mfdfa/data/s_...</td>\n",
       "      <td>s_b1555_22_2022-09-20_11-00-01-01_559635_60219...</td>\n",
       "      <td>69.360654</td>\n",
       "      <td>16</td>\n",
       "      <td>max</td>\n",
       "      <td>60.516405</td>\n",
       "    </tr>\n",
       "    <tr>\n",
       "      <th>0</th>\n",
       "      <td>512</td>\n",
       "      <td>/mnt/cube/j8xing/starling_rhythm_mfdfa/data/s_...</td>\n",
       "      <td>s_b1555_22_2022-09-20_11-00-01-01_559635_60219...</td>\n",
       "      <td>36.737542</td>\n",
       "      <td>16</td>\n",
       "      <td>min</td>\n",
       "      <td>49.260260</td>\n",
       "    </tr>\n",
       "    <tr>\n",
       "      <th>21</th>\n",
       "      <td>565</td>\n",
       "      <td>/mnt/cube/j8xing/starling_rhythm_mfdfa/data/s_...</td>\n",
       "      <td>s_b1555_22_2022-09-20_11-00-01-02_210075_24721...</td>\n",
       "      <td>24.797965</td>\n",
       "      <td>17</td>\n",
       "      <td>max</td>\n",
       "      <td>20.959347</td>\n",
       "    </tr>\n",
       "    <tr>\n",
       "      <th>30</th>\n",
       "      <td>574</td>\n",
       "      <td>/mnt/cube/j8xing/starling_rhythm_mfdfa/data/s_...</td>\n",
       "      <td>s_b1555_22_2022-09-20_11-00-01-02_210075_24721...</td>\n",
       "      <td>3.514101</td>\n",
       "      <td>17</td>\n",
       "      <td>min</td>\n",
       "      <td>4.070498</td>\n",
       "    </tr>\n",
       "    <tr>\n",
       "      <th>6</th>\n",
       "      <td>582</td>\n",
       "      <td>/mnt/cube/j8xing/starling_rhythm_mfdfa/data/s_...</td>\n",
       "      <td>s_b1555_22_2022-09-20_11-00-01-02_502435_54569...</td>\n",
       "      <td>59.144718</td>\n",
       "      <td>18</td>\n",
       "      <td>max</td>\n",
       "      <td>52.246256</td>\n",
       "    </tr>\n",
       "    <tr>\n",
       "      <th>25</th>\n",
       "      <td>601</td>\n",
       "      <td>/mnt/cube/j8xing/starling_rhythm_mfdfa/data/s_...</td>\n",
       "      <td>s_b1555_22_2022-09-20_11-00-01-02_502435_54569...</td>\n",
       "      <td>24.038723</td>\n",
       "      <td>18</td>\n",
       "      <td>min</td>\n",
       "      <td>29.404616</td>\n",
       "    </tr>\n",
       "    <tr>\n",
       "      <th>24</th>\n",
       "      <td>632</td>\n",
       "      <td>/mnt/cube/j8xing/starling_rhythm_mfdfa/data/s_...</td>\n",
       "      <td>s_b1555_22_2022-09-20_11-00-01-02_785960_81916...</td>\n",
       "      <td>80.418869</td>\n",
       "      <td>19</td>\n",
       "      <td>max</td>\n",
       "      <td>40.576258</td>\n",
       "    </tr>\n",
       "    <tr>\n",
       "      <th>10</th>\n",
       "      <td>618</td>\n",
       "      <td>/mnt/cube/j8xing/starling_rhythm_mfdfa/data/s_...</td>\n",
       "      <td>s_b1555_22_2022-09-20_11-00-01-02_785960_81916...</td>\n",
       "      <td>32.469839</td>\n",
       "      <td>19</td>\n",
       "      <td>min</td>\n",
       "      <td>30.907344</td>\n",
       "    </tr>\n",
       "    <tr>\n",
       "      <th>1</th>\n",
       "      <td>641</td>\n",
       "      <td>/mnt/cube/j8xing/starling_rhythm_mfdfa/data/s_...</td>\n",
       "      <td>s_b1555_22_2022-09-20_12-00-02-02_780180_80128...</td>\n",
       "      <td>84.116660</td>\n",
       "      <td>20</td>\n",
       "      <td>max</td>\n",
       "      <td>50.068395</td>\n",
       "    </tr>\n",
       "    <tr>\n",
       "      <th>31</th>\n",
       "      <td>671</td>\n",
       "      <td>/mnt/cube/j8xing/starling_rhythm_mfdfa/data/s_...</td>\n",
       "      <td>s_b1555_22_2022-09-20_12-00-02-02_780180_80128...</td>\n",
       "      <td>39.924601</td>\n",
       "      <td>20</td>\n",
       "      <td>min</td>\n",
       "      <td>45.141643</td>\n",
       "    </tr>\n",
       "  </tbody>\n",
       "</table>\n",
       "</div>"
      ],
      "text/plain": [
       "    index                                       shuffle_wavs  \\\n",
       "18     18  /mnt/cube/j8xing/starling_rhythm_mfdfa/data/s_...   \n",
       "1       1  /mnt/cube/j8xing/starling_rhythm_mfdfa/data/s_...   \n",
       "3      35  /mnt/cube/j8xing/starling_rhythm_mfdfa/data/s_...   \n",
       "30     62  /mnt/cube/j8xing/starling_rhythm_mfdfa/data/s_...   \n",
       "19     83  /mnt/cube/j8xing/starling_rhythm_mfdfa/data/s_...   \n",
       "29     93  /mnt/cube/j8xing/starling_rhythm_mfdfa/data/s_...   \n",
       "28    124  /mnt/cube/j8xing/starling_rhythm_mfdfa/data/s_...   \n",
       "16    112  /mnt/cube/j8xing/starling_rhythm_mfdfa/data/s_...   \n",
       "2     130  /mnt/cube/j8xing/starling_rhythm_mfdfa/data/s_...   \n",
       "27    155  /mnt/cube/j8xing/starling_rhythm_mfdfa/data/s_...   \n",
       "18    178  /mnt/cube/j8xing/starling_rhythm_mfdfa/data/s_...   \n",
       "0     160  /mnt/cube/j8xing/starling_rhythm_mfdfa/data/s_...   \n",
       "28    220  /mnt/cube/j8xing/starling_rhythm_mfdfa/data/s_...   \n",
       "0     192  /mnt/cube/j8xing/starling_rhythm_mfdfa/data/s_...   \n",
       "31    255  /mnt/cube/j8xing/starling_rhythm_mfdfa/data/s_...   \n",
       "15    239  /mnt/cube/j8xing/starling_rhythm_mfdfa/data/s_...   \n",
       "28    284  /mnt/cube/j8xing/starling_rhythm_mfdfa/data/s_...   \n",
       "11    267  /mnt/cube/j8xing/starling_rhythm_mfdfa/data/s_...   \n",
       "16    304  /mnt/cube/j8xing/starling_rhythm_mfdfa/data/s_...   \n",
       "2     290  /mnt/cube/j8xing/starling_rhythm_mfdfa/data/s_...   \n",
       "4     324  /mnt/cube/j8xing/starling_rhythm_mfdfa/data/s_...   \n",
       "18    338  /mnt/cube/j8xing/starling_rhythm_mfdfa/data/s_...   \n",
       "19    371  /mnt/cube/j8xing/starling_rhythm_mfdfa/data/s_...   \n",
       "6     358  /mnt/cube/j8xing/starling_rhythm_mfdfa/data/s_...   \n",
       "29    413  /mnt/cube/j8xing/starling_rhythm_mfdfa/data/s_...   \n",
       "7     391  /mnt/cube/j8xing/starling_rhythm_mfdfa/data/s_...   \n",
       "3     419  /mnt/cube/j8xing/starling_rhythm_mfdfa/data/s_...   \n",
       "21    437  /mnt/cube/j8xing/starling_rhythm_mfdfa/data/s_...   \n",
       "4     452  /mnt/cube/j8xing/starling_rhythm_mfdfa/data/s_...   \n",
       "8     456  /mnt/cube/j8xing/starling_rhythm_mfdfa/data/s_...   \n",
       "14    494  /mnt/cube/j8xing/starling_rhythm_mfdfa/data/s_...   \n",
       "20    500  /mnt/cube/j8xing/starling_rhythm_mfdfa/data/s_...   \n",
       "3     515  /mnt/cube/j8xing/starling_rhythm_mfdfa/data/s_...   \n",
       "0     512  /mnt/cube/j8xing/starling_rhythm_mfdfa/data/s_...   \n",
       "21    565  /mnt/cube/j8xing/starling_rhythm_mfdfa/data/s_...   \n",
       "30    574  /mnt/cube/j8xing/starling_rhythm_mfdfa/data/s_...   \n",
       "6     582  /mnt/cube/j8xing/starling_rhythm_mfdfa/data/s_...   \n",
       "25    601  /mnt/cube/j8xing/starling_rhythm_mfdfa/data/s_...   \n",
       "24    632  /mnt/cube/j8xing/starling_rhythm_mfdfa/data/s_...   \n",
       "10    618  /mnt/cube/j8xing/starling_rhythm_mfdfa/data/s_...   \n",
       "1     641  /mnt/cube/j8xing/starling_rhythm_mfdfa/data/s_...   \n",
       "31    671  /mnt/cube/j8xing/starling_rhythm_mfdfa/data/s_...   \n",
       "\n",
       "                                       shuffle_og_seg  shuffle_ts  seg_nb  \\\n",
       "18  s_b1555_22_2022-09-20_09-00-01-01_1611695_1641...   33.540317       0   \n",
       "1   s_b1555_22_2022-09-20_09-00-01-01_1611695_1641...   13.189624       0   \n",
       "3   s_b1555_22_2022-09-20_09-00-01-02_1242225_1285...   48.723433       1   \n",
       "30  s_b1555_22_2022-09-20_09-00-01-02_1242225_1285...   24.444802       1   \n",
       "19  s_b1555_22_2022-09-20_09-00-01-02_1242225_1285...   43.137802       2   \n",
       "29  s_b1555_22_2022-09-20_09-00-01-02_1242225_1285...   15.824965       2   \n",
       "28  s_b1555_22_2022-09-20_09-00-01-02_1368310_1403...  105.543480       3   \n",
       "16  s_b1555_22_2022-09-20_09-00-01-02_1368310_1403...   56.356126       3   \n",
       "2   s_b1555_22_2022-09-20_09-00-01-02_1626685_1683...   60.113023       4   \n",
       "27  s_b1555_22_2022-09-20_09-00-01-02_1626685_1683...   29.109216       4   \n",
       "18  s_b1555_22_2022-09-20_09-00-01-02_963040_10210...   38.121556       5   \n",
       "0   s_b1555_22_2022-09-20_09-00-01-02_963040_10210...   15.734982       5   \n",
       "28  s_b1555_22_2022-09-20_10-00-01-01_1287330_1328...   36.394448       6   \n",
       "0   s_b1555_22_2022-09-20_10-00-01-01_1287330_1328...   13.834060       6   \n",
       "31  s_b1555_22_2022-09-20_10-00-01-01_1287330_1328...   58.821514       7   \n",
       "15  s_b1555_22_2022-09-20_10-00-01-01_1287330_1328...   29.579381       7   \n",
       "28  s_b1555_22_2022-09-20_10-00-01-01_431870_46856...   75.629631       8   \n",
       "11  s_b1555_22_2022-09-20_10-00-01-01_431870_46856...   33.867585       8   \n",
       "16  s_b1555_22_2022-09-20_10-00-01-01_575690_61250...   60.257132       9   \n",
       "2   s_b1555_22_2022-09-20_10-00-01-01_575690_61250...   35.583834       9   \n",
       "4   s_b1555_22_2022-09-20_10-00-01-02_1381465_1425...   54.523528      10   \n",
       "18  s_b1555_22_2022-09-20_10-00-01-02_1381465_1425...   19.980391      10   \n",
       "19  s_b1555_22_2022-09-20_10-00-01-02_1463625_1517...   93.676959      11   \n",
       "6   s_b1555_22_2022-09-20_10-00-01-02_1463625_1517...   28.110211      11   \n",
       "29  s_b1555_22_2022-09-20_10-00-01-02_601630_65109...   49.976460      12   \n",
       "7   s_b1555_22_2022-09-20_10-00-01-02_601630_65109...   17.175055      12   \n",
       "3   s_b1555_22_2022-09-20_10-00-01-02_601630_65109...   14.593728      13   \n",
       "21  s_b1555_22_2022-09-20_10-00-01-02_601630_65109...   -1.452507      13   \n",
       "4   s_b1555_22_2022-09-20_11-00-01-01_559635_60219...   45.927433      14   \n",
       "8   s_b1555_22_2022-09-20_11-00-01-01_559635_60219...   21.426010      14   \n",
       "14  s_b1555_22_2022-09-20_11-00-01-01_559635_60219...   83.016307      15   \n",
       "20  s_b1555_22_2022-09-20_11-00-01-01_559635_60219...   46.269558      15   \n",
       "3   s_b1555_22_2022-09-20_11-00-01-01_559635_60219...   69.360654      16   \n",
       "0   s_b1555_22_2022-09-20_11-00-01-01_559635_60219...   36.737542      16   \n",
       "21  s_b1555_22_2022-09-20_11-00-01-02_210075_24721...   24.797965      17   \n",
       "30  s_b1555_22_2022-09-20_11-00-01-02_210075_24721...    3.514101      17   \n",
       "6   s_b1555_22_2022-09-20_11-00-01-02_502435_54569...   59.144718      18   \n",
       "25  s_b1555_22_2022-09-20_11-00-01-02_502435_54569...   24.038723      18   \n",
       "24  s_b1555_22_2022-09-20_11-00-01-02_785960_81916...   80.418869      19   \n",
       "10  s_b1555_22_2022-09-20_11-00-01-02_785960_81916...   32.469839      19   \n",
       "1   s_b1555_22_2022-09-20_12-00-02-02_780180_80128...   84.116660      20   \n",
       "31  s_b1555_22_2022-09-20_12-00-02-02_780180_80128...   39.924601      20   \n",
       "\n",
       "   type  sanity_tmf  \n",
       "18  max   24.649391  \n",
       "1   min   14.886053  \n",
       "3   max   42.205795  \n",
       "30  min   29.057396  \n",
       "19  max   35.703088  \n",
       "29  min   18.456518  \n",
       "28  max   81.155597  \n",
       "16  min   61.058053  \n",
       "2   max   44.671308  \n",
       "27  min   37.657902  \n",
       "18  max   29.847472  \n",
       "0   min   17.871499  \n",
       "28  max   25.440568  \n",
       "0   min   23.942949  \n",
       "31  max   40.873136  \n",
       "15  min   27.361153  \n",
       "28  max   58.946015  \n",
       "11  min   42.365275  \n",
       "16  max   46.868780  \n",
       "2   min   35.236957  \n",
       "4   max   38.425599  \n",
       "18  min   17.199449  \n",
       "19  max   52.377529  \n",
       "6   min   32.303044  \n",
       "29  max   24.856269  \n",
       "7   min   26.408327  \n",
       "3   max   12.061141  \n",
       "21  min   -1.084078  \n",
       "4   max   44.053934  \n",
       "8   min   24.703904  \n",
       "14  max   65.129971  \n",
       "20  min   46.850039  \n",
       "3   max   60.516405  \n",
       "0   min   49.260260  \n",
       "21  max   20.959347  \n",
       "30  min    4.070498  \n",
       "6   max   52.246256  \n",
       "25  min   29.404616  \n",
       "24  max   40.576258  \n",
       "10  min   30.907344  \n",
       "1   max   50.068395  \n",
       "31  min   45.141643  "
      ]
     },
     "execution_count": 13,
     "metadata": {},
     "output_type": "execute_result"
    }
   ],
   "source": [
    "shuffle_tmf"
   ]
  },
  {
   "cell_type": "code",
   "execution_count": 14,
   "id": "ec8542c9",
   "metadata": {},
   "outputs": [],
   "source": [
    "import seaborn as sns"
   ]
  },
  {
   "cell_type": "code",
   "execution_count": 15,
   "id": "ffdbf1b7",
   "metadata": {},
   "outputs": [
    {
     "data": {
      "text/plain": [
       "<AxesSubplot:xlabel='shuffle_ts', ylabel='Count'>"
      ]
     },
     "execution_count": 15,
     "metadata": {},
     "output_type": "execute_result"
    },
    {
     "data": {
      "image/png": "[encoded data removed]",
      "text/plain": [
       "<Figure size 432x288 with 1 Axes>"
      ]
     },
     "metadata": {
      "needs_background": "light"
     },
     "output_type": "display_data"
    }
   ],
   "source": [
    "sns.histplot(data = shuffle_tmf.reset_index(), x = 'shuffle_ts', hue = 'type')"
   ]
  },
  {
   "cell_type": "code",
   "execution_count": 16,
   "id": "86bd7f7e",
   "metadata": {},
   "outputs": [
    {
     "data": {
      "text/plain": [
       "<AxesSubplot:xlabel='sanity_tmf', ylabel='Count'>"
      ]
     },
     "execution_count": 16,
     "metadata": {},
     "output_type": "execute_result"
    },
    {
     "data": {
      "image/png": "[encoded data removed]",
      "text/plain": [
       "<Figure size 432x288 with 1 Axes>"
      ]
     },
     "metadata": {
      "needs_background": "light"
     },
     "output_type": "display_data"
    }
   ],
   "source": [
    "sns.histplot(data = shuffle_tmf.reset_index(), x = 'sanity_tmf', hue = 'type')"
   ]
  },
  {
   "cell_type": "code",
   "execution_count": 17,
   "id": "0e0f4751",
   "metadata": {},
   "outputs": [],
   "source": [
    "## we know from this that there is a population difference when we run a second time. \n",
    "## Let's run 100 ts of each segment, and take the sample mean, and take that as the true t statistic of the recording"
   ]
  },
  {
   "cell_type": "code",
   "execution_count": 18,
   "id": "325c6b64",
   "metadata": {},
   "outputs": [],
   "source": [
    "def tmf_n(\n",
    "    address, \n",
    "    ns = 32, \n",
    "    amp_env_sr = 200,\n",
    "    nt = 36\n",
    "):\n",
    "    SDoTMF = []\n",
    "    for i in np.arange(0, nt):\n",
    "        SDoTMF.append(tmf(address, ns = ns, amp_env_sr = amp_env_sr, hilbert_artifacts = True))\n",
    "    \n",
    "    return SDoTMF"
   ]
  },
  {
   "cell_type": "code",
   "execution_count": 19,
   "id": "579c2574",
   "metadata": {},
   "outputs": [],
   "source": [
    "tester = shuffle_wavs[0]"
   ]
  },
  {
   "cell_type": "code",
   "execution_count": 20,
   "id": "dc00037e",
   "metadata": {},
   "outputs": [
    {
     "data": {
      "text/plain": [
       "PosixPath('/mnt/cube/j8xing/starling_rhythm_mfdfa/data/s_b1555_22/templatingFalse-shuffle/s_b1555_22_2022-09-20_09-00-01-01_1611695_1641125_seg_20.0_30.0_templatingFalse-shuffle_26_.wav')"
      ]
     },
     "execution_count": 20,
     "metadata": {},
     "output_type": "execute_result"
    }
   ],
   "source": [
    "tester"
   ]
  },
  {
   "cell_type": "code",
   "execution_count": 21,
   "id": "7adb3479",
   "metadata": {},
   "outputs": [
    {
     "data": {
      "text/plain": [
       "[28.310736633737495, 21.68673077125807, 22.51500008604709]"
      ]
     },
     "execution_count": 21,
     "metadata": {},
     "output_type": "execute_result"
    }
   ],
   "source": [
    "tmf_n(tester, nt = 3)"
   ]
  },
  {
   "cell_type": "code",
   "execution_count": null,
   "id": "b38ce045",
   "metadata": {},
   "outputs": [
    {
     "name": "stderr",
     "output_type": "stream",
     "text": [
      "shuffle:   8%|▊         | 84/1000 [25:27<4:37:39, 18.19s/it]/home/AD/j8xing/anaconda3/envs/starling_rhythm/lib/python3.10/site-packages/joblib/externals/loky/process_executor.py:702: UserWarning: A worker stopped while some jobs were given to the executor. This can be caused by a too short worker timeout or by a memory leak.\n",
      "  warnings.warn(\n",
      "shuffle:  34%|███▎      | 336/1000 [3:29:25<7:53:28, 42.78s/it]"
     ]
    }
   ],
   "source": [
    "%%time\n",
    "\n",
    "with Parallel(n_jobs = n_jobs, verbose = verbose) as parallel:\n",
    "    SDoTMF = parallel(\n",
    "        delayed(tmf_n)(\n",
    "            address,\n",
    "            ns = 32,\n",
    "            amp_env_sr = 200,\n",
    "            nt = 100\n",
    "        )\n",
    "        for address in tqdm(shuffle_wavs, desc = 'shuffle')\n",
    "    )"
   ]
  },
  {
   "cell_type": "code",
   "execution_count": null,
   "id": "7b86a5c1",
   "metadata": {},
   "outputs": [],
   "source": [
    "shuffle_tmf['SDoTMF'] = SDoTMF"
   ]
  },
  {
   "cell_type": "code",
   "execution_count": null,
   "id": "a4c7f9f0",
   "metadata": {},
   "outputs": [],
   "source": [
    "shuffle_tmf"
   ]
  },
  {
   "cell_type": "code",
   "execution_count": null,
   "id": "0386a62c",
   "metadata": {},
   "outputs": [],
   "source": [
    "## Pickle dataframe"
   ]
  },
  {
   "cell_type": "code",
   "execution_count": null,
   "id": "e133a05f",
   "metadata": {},
   "outputs": [],
   "source": [
    "from starling_rhythm.utils.paths import PROCESSED_DIR, ensure_dir"
   ]
  },
  {
   "cell_type": "code",
   "execution_count": null,
   "id": "4bd19eb2",
   "metadata": {},
   "outputs": [],
   "source": [
    "SAVE_PATH = PROCESSED_DIR / bID / 'shuffle_tmf_SDoTMF.pickle'\n",
    "ensure_dir(SAVE_PATH)"
   ]
  },
  {
   "cell_type": "code",
   "execution_count": null,
   "id": "79257273",
   "metadata": {},
   "outputs": [],
   "source": [
    "shuffle_tmf.to_pickle(SAVE_PATH)"
   ]
  }
 ],
 "metadata": {
  "kernelspec": {
   "display_name": "starling_rhythm",
   "language": "python",
   "name": "starling_rhythm"
  },
  "language_info": {
   "codemirror_mode": {
    "name": "ipython",
    "version": 3
   },
   "file_extension": ".py",
   "mimetype": "text/x-python",
   "name": "python",
   "nbconvert_exporter": "python",
   "pygments_lexer": "ipython3",
   "version": "3.10.10"
  }
 },
 "nbformat": 4,
 "nbformat_minor": 5
}
