{
 "cells": [
  {
   "cell_type": "markdown",
   "id": "ce7dec2b",
   "metadata": {},
   "source": [
    "# Make artificial songs"
   ]
  },
  {
   "cell_type": "code",
   "execution_count": 1,
   "id": "a868fcd7",
   "metadata": {},
   "outputs": [],
   "source": [
    "from starling_rhythm.utils.paths import PROCESSED_DIR"
   ]
  },
  {
   "cell_type": "code",
   "execution_count": 2,
   "id": "1393e320",
   "metadata": {},
   "outputs": [],
   "source": [
    "bID = 's_b1555_22'"
   ]
  },
  {
   "cell_type": "code",
   "execution_count": 3,
   "id": "b65139ce",
   "metadata": {},
   "outputs": [],
   "source": [
    "bID_DIR = PROCESSED_DIR / bID\n",
    "pickle = list(bID_DIR.glob('*.pickle'))[1]"
   ]
  },
  {
   "cell_type": "code",
   "execution_count": 4,
   "id": "bcaa9e19",
   "metadata": {},
   "outputs": [
    {
     "data": {
      "text/plain": [
       "PosixPath('/mnt/cube/j8xing/starling_rhythm_mfdfa/data/s_b1555_22/syllable_df_labels.pickle')"
      ]
     },
     "execution_count": 4,
     "metadata": {},
     "output_type": "execute_result"
    }
   ],
   "source": [
    "pickle"
   ]
  },
  {
   "cell_type": "markdown",
   "id": "081ace6b",
   "metadata": {},
   "source": [
    "## Load in dataframe"
   ]
  },
  {
   "cell_type": "code",
   "execution_count": 5,
   "id": "c25dc84b",
   "metadata": {},
   "outputs": [],
   "source": [
    "import pandas as pd"
   ]
  },
  {
   "cell_type": "code",
   "execution_count": 6,
   "id": "355f1f52",
   "metadata": {},
   "outputs": [],
   "source": [
    "syllable_df = pd.read_pickle(pickle)"
   ]
  },
  {
   "cell_type": "code",
   "execution_count": 7,
   "id": "4b557689",
   "metadata": {},
   "outputs": [
    {
     "data": {
      "text/html": [
       "<div>\n",
       "<style scoped>\n",
       "    .dataframe tbody tr th:only-of-type {\n",
       "        vertical-align: middle;\n",
       "    }\n",
       "\n",
       "    .dataframe tbody tr th {\n",
       "        vertical-align: top;\n",
       "    }\n",
       "\n",
       "    .dataframe thead th {\n",
       "        text-align: right;\n",
       "    }\n",
       "</style>\n",
       "<table border=\"1\" class=\"dataframe\">\n",
       "  <thead>\n",
       "    <tr style=\"text-align: right;\">\n",
       "      <th></th>\n",
       "      <th>file</th>\n",
       "      <th>onsets_ms</th>\n",
       "      <th>offsets_ms</th>\n",
       "      <th>umap</th>\n",
       "      <th>hdbscan_labels</th>\n",
       "    </tr>\n",
       "  </thead>\n",
       "  <tbody>\n",
       "    <tr>\n",
       "      <th>0</th>\n",
       "      <td>/mnt/cube/j8xing/starling_rhythm_mfdfa/data/s_...</td>\n",
       "      <td>0.754</td>\n",
       "      <td>1.826</td>\n",
       "      <td>[-8.604912, 7.309538]</td>\n",
       "      <td>137</td>\n",
       "    </tr>\n",
       "    <tr>\n",
       "      <th>1</th>\n",
       "      <td>/mnt/cube/j8xing/starling_rhythm_mfdfa/data/s_...</td>\n",
       "      <td>1.828</td>\n",
       "      <td>2.338</td>\n",
       "      <td>[-10.148851, 5.063254]</td>\n",
       "      <td>112</td>\n",
       "    </tr>\n",
       "    <tr>\n",
       "      <th>2</th>\n",
       "      <td>/mnt/cube/j8xing/starling_rhythm_mfdfa/data/s_...</td>\n",
       "      <td>3.680</td>\n",
       "      <td>4.537</td>\n",
       "      <td>[-5.2042804, 12.267234]</td>\n",
       "      <td>189</td>\n",
       "    </tr>\n",
       "    <tr>\n",
       "      <th>3</th>\n",
       "      <td>/mnt/cube/j8xing/starling_rhythm_mfdfa/data/s_...</td>\n",
       "      <td>5.632</td>\n",
       "      <td>6.140</td>\n",
       "      <td>[-3.7597797, 11.497626]</td>\n",
       "      <td>-1</td>\n",
       "    </tr>\n",
       "    <tr>\n",
       "      <th>4</th>\n",
       "      <td>/mnt/cube/j8xing/starling_rhythm_mfdfa/data/s_...</td>\n",
       "      <td>6.162</td>\n",
       "      <td>6.284</td>\n",
       "      <td>[2.050827, 0.011981498]</td>\n",
       "      <td>193</td>\n",
       "    </tr>\n",
       "    <tr>\n",
       "      <th>...</th>\n",
       "      <td>...</td>\n",
       "      <td>...</td>\n",
       "      <td>...</td>\n",
       "      <td>...</td>\n",
       "      <td>...</td>\n",
       "    </tr>\n",
       "    <tr>\n",
       "      <th>60376</th>\n",
       "      <td>/mnt/cube/j8xing/starling_rhythm_mfdfa/data/s_...</td>\n",
       "      <td>30.155</td>\n",
       "      <td>30.803</td>\n",
       "      <td>[-11.164899, 2.6515484]</td>\n",
       "      <td>121</td>\n",
       "    </tr>\n",
       "    <tr>\n",
       "      <th>60377</th>\n",
       "      <td>/mnt/cube/j8xing/starling_rhythm_mfdfa/data/s_...</td>\n",
       "      <td>30.905</td>\n",
       "      <td>31.609</td>\n",
       "      <td>[3.2972312, -3.1319356]</td>\n",
       "      <td>146</td>\n",
       "    </tr>\n",
       "    <tr>\n",
       "      <th>60378</th>\n",
       "      <td>/mnt/cube/j8xing/starling_rhythm_mfdfa/data/s_...</td>\n",
       "      <td>31.678</td>\n",
       "      <td>32.390</td>\n",
       "      <td>[3.3780773, -3.0171862]</td>\n",
       "      <td>146</td>\n",
       "    </tr>\n",
       "    <tr>\n",
       "      <th>60379</th>\n",
       "      <td>/mnt/cube/j8xing/starling_rhythm_mfdfa/data/s_...</td>\n",
       "      <td>32.429</td>\n",
       "      <td>32.542</td>\n",
       "      <td>[-6.3328857, 2.910542]</td>\n",
       "      <td>202</td>\n",
       "    </tr>\n",
       "    <tr>\n",
       "      <th>60380</th>\n",
       "      <td>/mnt/cube/j8xing/starling_rhythm_mfdfa/data/s_...</td>\n",
       "      <td>32.569</td>\n",
       "      <td>33.474</td>\n",
       "      <td>[2.0359507, 4.680669]</td>\n",
       "      <td>207</td>\n",
       "    </tr>\n",
       "  </tbody>\n",
       "</table>\n",
       "<p>60381 rows × 5 columns</p>\n",
       "</div>"
      ],
      "text/plain": [
       "                                                    file  onsets_ms  \\\n",
       "0      /mnt/cube/j8xing/starling_rhythm_mfdfa/data/s_...      0.754   \n",
       "1      /mnt/cube/j8xing/starling_rhythm_mfdfa/data/s_...      1.828   \n",
       "2      /mnt/cube/j8xing/starling_rhythm_mfdfa/data/s_...      3.680   \n",
       "3      /mnt/cube/j8xing/starling_rhythm_mfdfa/data/s_...      5.632   \n",
       "4      /mnt/cube/j8xing/starling_rhythm_mfdfa/data/s_...      6.162   \n",
       "...                                                  ...        ...   \n",
       "60376  /mnt/cube/j8xing/starling_rhythm_mfdfa/data/s_...     30.155   \n",
       "60377  /mnt/cube/j8xing/starling_rhythm_mfdfa/data/s_...     30.905   \n",
       "60378  /mnt/cube/j8xing/starling_rhythm_mfdfa/data/s_...     31.678   \n",
       "60379  /mnt/cube/j8xing/starling_rhythm_mfdfa/data/s_...     32.429   \n",
       "60380  /mnt/cube/j8xing/starling_rhythm_mfdfa/data/s_...     32.569   \n",
       "\n",
       "       offsets_ms                     umap  hdbscan_labels  \n",
       "0           1.826    [-8.604912, 7.309538]             137  \n",
       "1           2.338   [-10.148851, 5.063254]             112  \n",
       "2           4.537  [-5.2042804, 12.267234]             189  \n",
       "3           6.140  [-3.7597797, 11.497626]              -1  \n",
       "4           6.284  [2.050827, 0.011981498]             193  \n",
       "...           ...                      ...             ...  \n",
       "60376      30.803  [-11.164899, 2.6515484]             121  \n",
       "60377      31.609  [3.2972312, -3.1319356]             146  \n",
       "60378      32.390  [3.3780773, -3.0171862]             146  \n",
       "60379      32.542   [-6.3328857, 2.910542]             202  \n",
       "60380      33.474    [2.0359507, 4.680669]             207  \n",
       "\n",
       "[60381 rows x 5 columns]"
      ]
     },
     "execution_count": 7,
     "metadata": {},
     "output_type": "execute_result"
    }
   ],
   "source": [
    "syllable_df"
   ]
  },
  {
   "cell_type": "markdown",
   "id": "deb5f258",
   "metadata": {},
   "source": [
    "## Output segments"
   ]
  },
  {
   "cell_type": "code",
   "execution_count": 16,
   "id": "f432b464",
   "metadata": {},
   "outputs": [],
   "source": [
    "from starling_rhythm.synth import song_segments\n",
    "from joblib import Parallel, delayed\n",
    "from tqdm.autonotebook import tqdm\n",
    "import numpy as np\n",
    "n_jobs = 36\n",
    "verbose = 0"
   ]
  },
  {
   "cell_type": "code",
   "execution_count": 17,
   "id": "317d6b26",
   "metadata": {},
   "outputs": [],
   "source": [
    "SAVE_DIR = bID_DIR / 'segments'"
   ]
  },
  {
   "cell_type": "code",
   "execution_count": 18,
   "id": "ee91df31",
   "metadata": {},
   "outputs": [
    {
     "name": "stderr",
     "output_type": "stream",
     "text": [
      "Saving segments: 100%|██████████| 1041/1041 [07:05<00:00,  2.45it/s]\n"
     ]
    }
   ],
   "source": [
    "with Parallel(n_jobs, verbose = verbose) as parallel:\n",
    "    parallel(\n",
    "        delayed(song_segments)(\n",
    "            address,\n",
    "            syllable_df,\n",
    "            SAVE_DIR,\n",
    "            window_size = 10\n",
    "        )\n",
    "        for address in tqdm(np.unique(syllable_df['file'].values), desc = 'Saving segments')\n",
    "    )"
   ]
  }
 ],
 "metadata": {
  "kernelspec": {
   "display_name": "starling_rhythm",
   "language": "python",
   "name": "starling_rhythm"
  },
  "language_info": {
   "codemirror_mode": {
    "name": "ipython",
    "version": 3
   },
   "file_extension": ".py",
   "mimetype": "text/x-python",
   "name": "python",
   "nbconvert_exporter": "python",
   "pygments_lexer": "ipython3",
   "version": "3.10.4"
  }
 },
 "nbformat": 4,
 "nbformat_minor": 5
}
