{
 "cells": [
  {
   "cell_type": "code",
   "execution_count": 1,
   "id": "1117f962",
   "metadata": {},
   "outputs": [],
   "source": [
    "from starling_rhythm.utils.paths import PROCESSED_DIR"
   ]
  },
  {
   "cell_type": "code",
   "execution_count": 2,
   "id": "4de1f6c8",
   "metadata": {},
   "outputs": [],
   "source": [
    "bID = 's_b1555_22'\n",
    "SAVE_PATH = PROCESSED_DIR / bID / 'final_stimuli_set.pickle'"
   ]
  },
  {
   "cell_type": "code",
   "execution_count": 3,
   "id": "71ef7fe5",
   "metadata": {},
   "outputs": [],
   "source": [
    "import pandas as pd"
   ]
  },
  {
   "cell_type": "code",
   "execution_count": 4,
   "id": "285ae005",
   "metadata": {},
   "outputs": [],
   "source": [
    "final_stimuli_set = pd.read_pickle(SAVE_PATH)"
   ]
  },
  {
   "cell_type": "code",
   "execution_count": 5,
   "id": "be88c2c6",
   "metadata": {},
   "outputs": [
    {
     "data": {
      "text/html": [
       "<div>\n",
       "<style scoped>\n",
       "    .dataframe tbody tr th:only-of-type {\n",
       "        vertical-align: middle;\n",
       "    }\n",
       "\n",
       "    .dataframe tbody tr th {\n",
       "        vertical-align: top;\n",
       "    }\n",
       "\n",
       "    .dataframe thead th {\n",
       "        text-align: right;\n",
       "    }\n",
       "</style>\n",
       "<table border=\"1\" class=\"dataframe\">\n",
       "  <thead>\n",
       "    <tr style=\"text-align: right;\">\n",
       "      <th></th>\n",
       "      <th>index</th>\n",
       "      <th>shuffle_wavs</th>\n",
       "      <th>shuffle_og_seg</th>\n",
       "      <th>shuffle_ts</th>\n",
       "      <th>seg_nb</th>\n",
       "      <th>type</th>\n",
       "      <th>sanity_tmf</th>\n",
       "      <th>SDoTMF</th>\n",
       "      <th>mean_SDoTMF</th>\n",
       "      <th>se_SDoTMF</th>\n",
       "      <th>tmf_dif</th>\n",
       "      <th>tmf_dif_rank</th>\n",
       "      <th>pair_index</th>\n",
       "      <th>destinations</th>\n",
       "    </tr>\n",
       "  </thead>\n",
       "  <tbody>\n",
       "    <tr>\n",
       "      <th>30</th>\n",
       "      <td>13886</td>\n",
       "      <td>/mnt/cube/j8xing/starling_rhythm_mfdfa/data/s_...</td>\n",
       "      <td>s_b1555_22_2022-09-29_10-00-01-02_565720_60383...</td>\n",
       "      <td>6.945813</td>\n",
       "      <td>433</td>\n",
       "      <td>min</td>\n",
       "      <td>7.375212</td>\n",
       "      <td>[9.145448331383927, 9.17366119724478, 9.054389...</td>\n",
       "      <td>8.445942</td>\n",
       "      <td>1.322818</td>\n",
       "      <td>54.456115</td>\n",
       "      <td>1.0</td>\n",
       "      <td>0</td>\n",
       "      <td>/mnt/cube/j8xing/starling_rhythm_mfdfa/data/s_...</td>\n",
       "    </tr>\n",
       "    <tr>\n",
       "      <th>6</th>\n",
       "      <td>13862</td>\n",
       "      <td>/mnt/cube/j8xing/starling_rhythm_mfdfa/data/s_...</td>\n",
       "      <td>s_b1555_22_2022-09-29_10-00-01-02_565720_60383...</td>\n",
       "      <td>61.450189</td>\n",
       "      <td>433</td>\n",
       "      <td>max</td>\n",
       "      <td>54.949967</td>\n",
       "      <td>[53.03374153534625, 66.6278770471903, 75.05272...</td>\n",
       "      <td>62.902057</td>\n",
       "      <td>9.730260</td>\n",
       "      <td>54.456115</td>\n",
       "      <td>1.0</td>\n",
       "      <td>0</td>\n",
       "      <td>/mnt/cube/j8xing/starling_rhythm_mfdfa/data/s_...</td>\n",
       "    </tr>\n",
       "    <tr>\n",
       "      <th>4</th>\n",
       "      <td>9828</td>\n",
       "      <td>/mnt/cube/j8xing/starling_rhythm_mfdfa/data/s_...</td>\n",
       "      <td>s_b1555_22_2022-09-26_14-00-01-02_173815_20667...</td>\n",
       "      <td>106.713460</td>\n",
       "      <td>307</td>\n",
       "      <td>max</td>\n",
       "      <td>67.403514</td>\n",
       "      <td>[76.85560233799035, 92.77118123007601, 92.2731...</td>\n",
       "      <td>88.365374</td>\n",
       "      <td>10.317081</td>\n",
       "      <td>50.764255</td>\n",
       "      <td>3.0</td>\n",
       "      <td>1</td>\n",
       "      <td>/mnt/cube/j8xing/starling_rhythm_mfdfa/data/s_...</td>\n",
       "    </tr>\n",
       "    <tr>\n",
       "      <th>5</th>\n",
       "      <td>9829</td>\n",
       "      <td>/mnt/cube/j8xing/starling_rhythm_mfdfa/data/s_...</td>\n",
       "      <td>s_b1555_22_2022-09-26_14-00-01-02_173815_20667...</td>\n",
       "      <td>42.971506</td>\n",
       "      <td>307</td>\n",
       "      <td>min</td>\n",
       "      <td>30.598709</td>\n",
       "      <td>[36.79354033460216, 32.50919966175162, 33.4158...</td>\n",
       "      <td>37.601120</td>\n",
       "      <td>4.588076</td>\n",
       "      <td>50.764255</td>\n",
       "      <td>3.0</td>\n",
       "      <td>1</td>\n",
       "      <td>/mnt/cube/j8xing/starling_rhythm_mfdfa/data/s_...</td>\n",
       "    </tr>\n",
       "    <tr>\n",
       "      <th>16</th>\n",
       "      <td>9328</td>\n",
       "      <td>/mnt/cube/j8xing/starling_rhythm_mfdfa/data/s_...</td>\n",
       "      <td>s_b1555_22_2022-09-26_09-00-01-02_1377275_1405...</td>\n",
       "      <td>28.240879</td>\n",
       "      <td>291</td>\n",
       "      <td>min</td>\n",
       "      <td>23.897883</td>\n",
       "      <td>[25.35111848016801, 41.102649403186994, 35.061...</td>\n",
       "      <td>30.923015</td>\n",
       "      <td>4.613502</td>\n",
       "      <td>47.567915</td>\n",
       "      <td>5.0</td>\n",
       "      <td>2</td>\n",
       "      <td>/mnt/cube/j8xing/starling_rhythm_mfdfa/data/s_...</td>\n",
       "    </tr>\n",
       "    <tr>\n",
       "      <th>...</th>\n",
       "      <td>...</td>\n",
       "      <td>...</td>\n",
       "      <td>...</td>\n",
       "      <td>...</td>\n",
       "      <td>...</td>\n",
       "      <td>...</td>\n",
       "      <td>...</td>\n",
       "      <td>...</td>\n",
       "      <td>...</td>\n",
       "      <td>...</td>\n",
       "      <td>...</td>\n",
       "      <td>...</td>\n",
       "      <td>...</td>\n",
       "      <td>...</td>\n",
       "    </tr>\n",
       "    <tr>\n",
       "      <th>3</th>\n",
       "      <td>10723</td>\n",
       "      <td>/mnt/cube/j8xing/starling_rhythm_mfdfa/data/s_...</td>\n",
       "      <td>s_b1555_22_2022-09-27_13-00-01-02_734055_78770...</td>\n",
       "      <td>19.822962</td>\n",
       "      <td>335</td>\n",
       "      <td>min</td>\n",
       "      <td>20.887957</td>\n",
       "      <td>[19.08650652865647, 26.368182565730923, 24.835...</td>\n",
       "      <td>21.752526</td>\n",
       "      <td>3.161225</td>\n",
       "      <td>26.971885</td>\n",
       "      <td>123.0</td>\n",
       "      <td>61</td>\n",
       "      <td>/mnt/cube/j8xing/starling_rhythm_mfdfa/data/s_...</td>\n",
       "    </tr>\n",
       "    <tr>\n",
       "      <th>15</th>\n",
       "      <td>14063</td>\n",
       "      <td>/mnt/cube/j8xing/starling_rhythm_mfdfa/data/s_...</td>\n",
       "      <td>s_b1555_22_2022-09-29_11-00-01-01_21955_54420_...</td>\n",
       "      <td>26.359897</td>\n",
       "      <td>439</td>\n",
       "      <td>max</td>\n",
       "      <td>31.715220</td>\n",
       "      <td>[20.593673710030004, 30.33439678931023, 24.067...</td>\n",
       "      <td>26.368468</td>\n",
       "      <td>4.049093</td>\n",
       "      <td>26.893835</td>\n",
       "      <td>125.0</td>\n",
       "      <td>62</td>\n",
       "      <td>/mnt/cube/j8xing/starling_rhythm_mfdfa/data/s_...</td>\n",
       "    </tr>\n",
       "    <tr>\n",
       "      <th>30</th>\n",
       "      <td>14078</td>\n",
       "      <td>/mnt/cube/j8xing/starling_rhythm_mfdfa/data/s_...</td>\n",
       "      <td>s_b1555_22_2022-09-29_11-00-01-01_21955_54420_...</td>\n",
       "      <td>-1.503125</td>\n",
       "      <td>439</td>\n",
       "      <td>min</td>\n",
       "      <td>-0.408959</td>\n",
       "      <td>[-1.801555987283663, -0.5087182788122577, 0.84...</td>\n",
       "      <td>-0.525367</td>\n",
       "      <td>1.153678</td>\n",
       "      <td>26.893835</td>\n",
       "      <td>125.0</td>\n",
       "      <td>62</td>\n",
       "      <td>/mnt/cube/j8xing/starling_rhythm_mfdfa/data/s_...</td>\n",
       "    </tr>\n",
       "    <tr>\n",
       "      <th>5</th>\n",
       "      <td>3269</td>\n",
       "      <td>/mnt/cube/j8xing/starling_rhythm_mfdfa/data/s_...</td>\n",
       "      <td>s_b1555_22_2022-09-22_18-00-01-02_348975_39236...</td>\n",
       "      <td>84.537996</td>\n",
       "      <td>102</td>\n",
       "      <td>max</td>\n",
       "      <td>75.080015</td>\n",
       "      <td>[55.54630930493441, 80.14616601992029, 66.8648...</td>\n",
       "      <td>65.334950</td>\n",
       "      <td>8.884029</td>\n",
       "      <td>26.892947</td>\n",
       "      <td>127.0</td>\n",
       "      <td>63</td>\n",
       "      <td>/mnt/cube/j8xing/starling_rhythm_mfdfa/data/s_...</td>\n",
       "    </tr>\n",
       "    <tr>\n",
       "      <th>9</th>\n",
       "      <td>3273</td>\n",
       "      <td>/mnt/cube/j8xing/starling_rhythm_mfdfa/data/s_...</td>\n",
       "      <td>s_b1555_22_2022-09-22_18-00-01-02_348975_39236...</td>\n",
       "      <td>34.955595</td>\n",
       "      <td>102</td>\n",
       "      <td>min</td>\n",
       "      <td>34.557442</td>\n",
       "      <td>[37.886633573295406, 41.694674779357356, 38.89...</td>\n",
       "      <td>38.442003</td>\n",
       "      <td>5.741925</td>\n",
       "      <td>26.892947</td>\n",
       "      <td>127.0</td>\n",
       "      <td>63</td>\n",
       "      <td>/mnt/cube/j8xing/starling_rhythm_mfdfa/data/s_...</td>\n",
       "    </tr>\n",
       "  </tbody>\n",
       "</table>\n",
       "<p>128 rows × 14 columns</p>\n",
       "</div>"
      ],
      "text/plain": [
       "    index                                       shuffle_wavs  \\\n",
       "30  13886  /mnt/cube/j8xing/starling_rhythm_mfdfa/data/s_...   \n",
       "6   13862  /mnt/cube/j8xing/starling_rhythm_mfdfa/data/s_...   \n",
       "4    9828  /mnt/cube/j8xing/starling_rhythm_mfdfa/data/s_...   \n",
       "5    9829  /mnt/cube/j8xing/starling_rhythm_mfdfa/data/s_...   \n",
       "16   9328  /mnt/cube/j8xing/starling_rhythm_mfdfa/data/s_...   \n",
       "..    ...                                                ...   \n",
       "3   10723  /mnt/cube/j8xing/starling_rhythm_mfdfa/data/s_...   \n",
       "15  14063  /mnt/cube/j8xing/starling_rhythm_mfdfa/data/s_...   \n",
       "30  14078  /mnt/cube/j8xing/starling_rhythm_mfdfa/data/s_...   \n",
       "5    3269  /mnt/cube/j8xing/starling_rhythm_mfdfa/data/s_...   \n",
       "9    3273  /mnt/cube/j8xing/starling_rhythm_mfdfa/data/s_...   \n",
       "\n",
       "                                       shuffle_og_seg  shuffle_ts  seg_nb  \\\n",
       "30  s_b1555_22_2022-09-29_10-00-01-02_565720_60383...    6.945813     433   \n",
       "6   s_b1555_22_2022-09-29_10-00-01-02_565720_60383...   61.450189     433   \n",
       "4   s_b1555_22_2022-09-26_14-00-01-02_173815_20667...  106.713460     307   \n",
       "5   s_b1555_22_2022-09-26_14-00-01-02_173815_20667...   42.971506     307   \n",
       "16  s_b1555_22_2022-09-26_09-00-01-02_1377275_1405...   28.240879     291   \n",
       "..                                                ...         ...     ...   \n",
       "3   s_b1555_22_2022-09-27_13-00-01-02_734055_78770...   19.822962     335   \n",
       "15  s_b1555_22_2022-09-29_11-00-01-01_21955_54420_...   26.359897     439   \n",
       "30  s_b1555_22_2022-09-29_11-00-01-01_21955_54420_...   -1.503125     439   \n",
       "5   s_b1555_22_2022-09-22_18-00-01-02_348975_39236...   84.537996     102   \n",
       "9   s_b1555_22_2022-09-22_18-00-01-02_348975_39236...   34.955595     102   \n",
       "\n",
       "   type  sanity_tmf                                             SDoTMF  \\\n",
       "30  min    7.375212  [9.145448331383927, 9.17366119724478, 9.054389...   \n",
       "6   max   54.949967  [53.03374153534625, 66.6278770471903, 75.05272...   \n",
       "4   max   67.403514  [76.85560233799035, 92.77118123007601, 92.2731...   \n",
       "5   min   30.598709  [36.79354033460216, 32.50919966175162, 33.4158...   \n",
       "16  min   23.897883  [25.35111848016801, 41.102649403186994, 35.061...   \n",
       "..  ...         ...                                                ...   \n",
       "3   min   20.887957  [19.08650652865647, 26.368182565730923, 24.835...   \n",
       "15  max   31.715220  [20.593673710030004, 30.33439678931023, 24.067...   \n",
       "30  min   -0.408959  [-1.801555987283663, -0.5087182788122577, 0.84...   \n",
       "5   max   75.080015  [55.54630930493441, 80.14616601992029, 66.8648...   \n",
       "9   min   34.557442  [37.886633573295406, 41.694674779357356, 38.89...   \n",
       "\n",
       "    mean_SDoTMF  se_SDoTMF    tmf_dif  tmf_dif_rank  pair_index  \\\n",
       "30     8.445942   1.322818  54.456115           1.0           0   \n",
       "6     62.902057   9.730260  54.456115           1.0           0   \n",
       "4     88.365374  10.317081  50.764255           3.0           1   \n",
       "5     37.601120   4.588076  50.764255           3.0           1   \n",
       "16    30.923015   4.613502  47.567915           5.0           2   \n",
       "..          ...        ...        ...           ...         ...   \n",
       "3     21.752526   3.161225  26.971885         123.0          61   \n",
       "15    26.368468   4.049093  26.893835         125.0          62   \n",
       "30    -0.525367   1.153678  26.893835         125.0          62   \n",
       "5     65.334950   8.884029  26.892947         127.0          63   \n",
       "9     38.442003   5.741925  26.892947         127.0          63   \n",
       "\n",
       "                                         destinations  \n",
       "30  /mnt/cube/j8xing/starling_rhythm_mfdfa/data/s_...  \n",
       "6   /mnt/cube/j8xing/starling_rhythm_mfdfa/data/s_...  \n",
       "4   /mnt/cube/j8xing/starling_rhythm_mfdfa/data/s_...  \n",
       "5   /mnt/cube/j8xing/starling_rhythm_mfdfa/data/s_...  \n",
       "16  /mnt/cube/j8xing/starling_rhythm_mfdfa/data/s_...  \n",
       "..                                                ...  \n",
       "3   /mnt/cube/j8xing/starling_rhythm_mfdfa/data/s_...  \n",
       "15  /mnt/cube/j8xing/starling_rhythm_mfdfa/data/s_...  \n",
       "30  /mnt/cube/j8xing/starling_rhythm_mfdfa/data/s_...  \n",
       "5   /mnt/cube/j8xing/starling_rhythm_mfdfa/data/s_...  \n",
       "9   /mnt/cube/j8xing/starling_rhythm_mfdfa/data/s_...  \n",
       "\n",
       "[128 rows x 14 columns]"
      ]
     },
     "execution_count": 5,
     "metadata": {},
     "output_type": "execute_result"
    }
   ],
   "source": [
    "final_stimuli_set"
   ]
  },
  {
   "cell_type": "markdown",
   "id": "f695c514",
   "metadata": {},
   "source": [
    "## browser"
   ]
  },
  {
   "cell_type": "code",
   "execution_count": 40,
   "id": "6ecd5c99",
   "metadata": {},
   "outputs": [],
   "source": [
    "pair_index = 2"
   ]
  },
  {
   "cell_type": "code",
   "execution_count": 41,
   "id": "28f371fe",
   "metadata": {},
   "outputs": [],
   "source": [
    "selected_seg = final_stimuli_set[final_stimuli_set['pair_index'] == pair_index]"
   ]
  },
  {
   "cell_type": "code",
   "execution_count": 42,
   "id": "db8ce200",
   "metadata": {},
   "outputs": [
    {
     "data": {
      "text/html": [
       "<div>\n",
       "<style scoped>\n",
       "    .dataframe tbody tr th:only-of-type {\n",
       "        vertical-align: middle;\n",
       "    }\n",
       "\n",
       "    .dataframe tbody tr th {\n",
       "        vertical-align: top;\n",
       "    }\n",
       "\n",
       "    .dataframe thead th {\n",
       "        text-align: right;\n",
       "    }\n",
       "</style>\n",
       "<table border=\"1\" class=\"dataframe\">\n",
       "  <thead>\n",
       "    <tr style=\"text-align: right;\">\n",
       "      <th></th>\n",
       "      <th>index</th>\n",
       "      <th>shuffle_wavs</th>\n",
       "      <th>shuffle_og_seg</th>\n",
       "      <th>shuffle_ts</th>\n",
       "      <th>seg_nb</th>\n",
       "      <th>type</th>\n",
       "      <th>sanity_tmf</th>\n",
       "      <th>SDoTMF</th>\n",
       "      <th>mean_SDoTMF</th>\n",
       "      <th>se_SDoTMF</th>\n",
       "      <th>tmf_dif</th>\n",
       "      <th>tmf_dif_rank</th>\n",
       "      <th>pair_index</th>\n",
       "      <th>destinations</th>\n",
       "    </tr>\n",
       "  </thead>\n",
       "  <tbody>\n",
       "    <tr>\n",
       "      <th>16</th>\n",
       "      <td>9328</td>\n",
       "      <td>/mnt/cube/j8xing/starling_rhythm_mfdfa/data/s_...</td>\n",
       "      <td>s_b1555_22_2022-09-26_09-00-01-02_1377275_1405...</td>\n",
       "      <td>28.240879</td>\n",
       "      <td>291</td>\n",
       "      <td>min</td>\n",
       "      <td>23.897883</td>\n",
       "      <td>[25.35111848016801, 41.102649403186994, 35.061...</td>\n",
       "      <td>30.923015</td>\n",
       "      <td>4.613502</td>\n",
       "      <td>47.567915</td>\n",
       "      <td>5.0</td>\n",
       "      <td>2</td>\n",
       "      <td>/mnt/cube/j8xing/starling_rhythm_mfdfa/data/s_...</td>\n",
       "    </tr>\n",
       "    <tr>\n",
       "      <th>3</th>\n",
       "      <td>9315</td>\n",
       "      <td>/mnt/cube/j8xing/starling_rhythm_mfdfa/data/s_...</td>\n",
       "      <td>s_b1555_22_2022-09-26_09-00-01-02_1377275_1405...</td>\n",
       "      <td>87.544163</td>\n",
       "      <td>291</td>\n",
       "      <td>max</td>\n",
       "      <td>76.401339</td>\n",
       "      <td>[80.22959837310827, 78.37483606965964, 77.9755...</td>\n",
       "      <td>78.490930</td>\n",
       "      <td>10.252447</td>\n",
       "      <td>47.567915</td>\n",
       "      <td>5.0</td>\n",
       "      <td>2</td>\n",
       "      <td>/mnt/cube/j8xing/starling_rhythm_mfdfa/data/s_...</td>\n",
       "    </tr>\n",
       "  </tbody>\n",
       "</table>\n",
       "</div>"
      ],
      "text/plain": [
       "    index                                       shuffle_wavs  \\\n",
       "16   9328  /mnt/cube/j8xing/starling_rhythm_mfdfa/data/s_...   \n",
       "3    9315  /mnt/cube/j8xing/starling_rhythm_mfdfa/data/s_...   \n",
       "\n",
       "                                       shuffle_og_seg  shuffle_ts  seg_nb  \\\n",
       "16  s_b1555_22_2022-09-26_09-00-01-02_1377275_1405...   28.240879     291   \n",
       "3   s_b1555_22_2022-09-26_09-00-01-02_1377275_1405...   87.544163     291   \n",
       "\n",
       "   type  sanity_tmf                                             SDoTMF  \\\n",
       "16  min   23.897883  [25.35111848016801, 41.102649403186994, 35.061...   \n",
       "3   max   76.401339  [80.22959837310827, 78.37483606965964, 77.9755...   \n",
       "\n",
       "    mean_SDoTMF  se_SDoTMF    tmf_dif  tmf_dif_rank  pair_index  \\\n",
       "16    30.923015   4.613502  47.567915           5.0           2   \n",
       "3     78.490930  10.252447  47.567915           5.0           2   \n",
       "\n",
       "                                         destinations  \n",
       "16  /mnt/cube/j8xing/starling_rhythm_mfdfa/data/s_...  \n",
       "3   /mnt/cube/j8xing/starling_rhythm_mfdfa/data/s_...  "
      ]
     },
     "execution_count": 42,
     "metadata": {},
     "output_type": "execute_result"
    }
   ],
   "source": [
    "selected_seg"
   ]
  },
  {
   "cell_type": "code",
   "execution_count": 43,
   "id": "235efd7e",
   "metadata": {},
   "outputs": [],
   "source": [
    "max_address = selected_seg[selected_seg['type'] == 'max'].shuffle_wavs.values[0]\n",
    "min_address = selected_seg[selected_seg['type'] == 'min'].shuffle_wavs.values[0]"
   ]
  },
  {
   "cell_type": "code",
   "execution_count": 44,
   "id": "46058fad",
   "metadata": {},
   "outputs": [],
   "source": [
    "from scipy.io.wavfile import read"
   ]
  },
  {
   "cell_type": "code",
   "execution_count": 45,
   "id": "59873e1c",
   "metadata": {},
   "outputs": [],
   "source": [
    "max_wf = read(max_address)[1]\n",
    "min_wf = read(min_address)[1]"
   ]
  },
  {
   "cell_type": "code",
   "execution_count": 46,
   "id": "9e9063de",
   "metadata": {},
   "outputs": [],
   "source": [
    "from starling_rhythm.utils.audio import extract_amp_env"
   ]
  },
  {
   "cell_type": "code",
   "execution_count": 47,
   "id": "70cc8521",
   "metadata": {},
   "outputs": [],
   "source": [
    "max_ae = extract_amp_env(max_wf, target_sr = 200, spl = True, hilbert_artifacts = True)\n",
    "max_ae_og = extract_amp_env(max_wf, target_sr = 200, spl = True)"
   ]
  },
  {
   "cell_type": "code",
   "execution_count": 48,
   "id": "7b31648a",
   "metadata": {},
   "outputs": [],
   "source": [
    "import matplotlib.pyplot as plt"
   ]
  },
  {
   "cell_type": "code",
   "execution_count": null,
   "id": "b894a80c",
   "metadata": {
    "scrolled": true
   },
   "outputs": [
    {
     "name": "stderr",
     "output_type": "stream",
     "text": [
      "/home/AD/j8xing/anaconda3/envs/starling_rhythm/lib/python3.10/site-packages/matplotlib/axes/_axes.py:7628: RuntimeWarning: divide by zero encountered in log10\n",
      "  Z = 10. * np.log10(spec)\n"
     ]
    }
   ],
   "source": [
    "fig, axs = plt.subplots(2, sharex = True, figsize=(18, 3), dpi=300)\n",
    "axs[0].title.set_text(str(pair_index) + 'max')\n",
    "x = axs[0].specgram(max_wf, Fs = 48000, cmap = 'twilight')\n",
    "axs[1].title.set_text(str(pair_index) + 'min')\n",
    "y = axs[1].specgram(min_wf, Fs = 48000, cmap = 'twilight')"
   ]
  },
  {
   "cell_type": "code",
   "execution_count": null,
   "id": "8946fa0f",
   "metadata": {},
   "outputs": [],
   "source": [
    "fig, axs = plt.subplots(2, sharex = True, figsize=(18, 3), dpi=300)\n",
    "axs[0].title.set_text(str(pair_index) + 'hilbert artifact fixed')\n",
    "x = axs[0].plot(max_ae)\n",
    "axs[1].title.set_text(str(pair_index) + 'original')\n",
    "y = axs[1].plot(max_ae_og)"
   ]
  },
  {
   "cell_type": "markdown",
   "id": "186c4980",
   "metadata": {},
   "source": [
    "## Is there a significant difference between the TMF of the two versions?"
   ]
  },
  {
   "cell_type": "code",
   "execution_count": 17,
   "id": "ce374b54",
   "metadata": {},
   "outputs": [],
   "source": [
    "from starling_rhythm.mfdfa import tmf"
   ]
  },
  {
   "cell_type": "code",
   "execution_count": 18,
   "id": "07bf4af9",
   "metadata": {},
   "outputs": [],
   "source": [
    "def tmf_n(\n",
    "    address, \n",
    "    ns = 32, \n",
    "    amp_env_sr = 200,\n",
    "    n = 36\n",
    "):\n",
    "\n",
    "    with Parallel(n_jobs = n_jobs, verbose = verbose) as parallel:\n",
    "        SDoTMF = parallel(\n",
    "            delayed(tmf)(\n",
    "                address,\n",
    "                ns = 32,\n",
    "                amp_env_sr = 200\n",
    "            )\n",
    "            for i in tqdm(np.arange(0, n), desc = 'shuffle')\n",
    "        )\n",
    "        \n",
    "    return SDoTMF"
   ]
  },
  {
   "cell_type": "code",
   "execution_count": 19,
   "id": "5ffa13f4",
   "metadata": {},
   "outputs": [],
   "source": [
    "def tmf_n(\n",
    "    address, \n",
    "    ns = 32, \n",
    "    amp_env_sr = 200,\n",
    "    n = 36,\n",
    "    hilbert_artifacts = False\n",
    "):\n",
    "\n",
    "    with Parallel(n_jobs = n_jobs, verbose = verbose) as parallel:\n",
    "        SDoTMF = parallel(\n",
    "            delayed(tmf)(\n",
    "                address,\n",
    "                ns = 32,\n",
    "                amp_env_sr = 200,\n",
    "                hilbert_artifacts = hilbert_artifacts\n",
    "            )\n",
    "            for i in tqdm(np.arange(0, n), desc = 'shuffle')\n",
    "        )\n",
    "        \n",
    "    return SDoTMF"
   ]
  },
  {
   "cell_type": "code",
   "execution_count": 20,
   "id": "f50ac436",
   "metadata": {},
   "outputs": [],
   "source": [
    "import numpy as np"
   ]
  },
  {
   "cell_type": "code",
   "execution_count": 21,
   "id": "24dcf82b",
   "metadata": {},
   "outputs": [],
   "source": [
    "from joblib import Parallel, delayed\n",
    "from tqdm.autonotebook import tqdm\n",
    "from starling_rhythm.mfdfa import tmf\n",
    "n_jobs = 36\n",
    "verbose = 0"
   ]
  },
  {
   "cell_type": "code",
   "execution_count": 22,
   "id": "10fcaf1f",
   "metadata": {},
   "outputs": [
    {
     "name": "stderr",
     "output_type": "stream",
     "text": [
      "shuffle: 100%|██████████| 100/100 [00:15<00:00,  6.66it/s]\n",
      "shuffle: 100%|██████████| 100/100 [00:13<00:00,  7.59it/s]\n"
     ]
    }
   ],
   "source": [
    "maxblock100cleaned = tmf_n(max_address, ns = 32, n = 100, hilbert_artifacts = True)\n",
    "maxblock100original = tmf_n(max_address, ns = 32, n = 100, hilbert_artifacts = False)"
   ]
  },
  {
   "cell_type": "code",
   "execution_count": 23,
   "id": "34004b04",
   "metadata": {},
   "outputs": [],
   "source": [
    "from scipy.stats import ks_2samp"
   ]
  },
  {
   "cell_type": "code",
   "execution_count": 24,
   "id": "1ca214dd",
   "metadata": {},
   "outputs": [],
   "source": [
    "maxresults = ks_2samp(maxblock100cleaned, maxblock100original)"
   ]
  },
  {
   "cell_type": "code",
   "execution_count": 25,
   "id": "3efe4eb9",
   "metadata": {},
   "outputs": [
    {
     "data": {
      "text/plain": [
       "KstestResult(statistic=0.08, pvalue=0.9084105017744525)"
      ]
     },
     "execution_count": 25,
     "metadata": {},
     "output_type": "execute_result"
    }
   ],
   "source": [
    "maxresults"
   ]
  },
  {
   "cell_type": "code",
   "execution_count": 26,
   "id": "88d7910b",
   "metadata": {},
   "outputs": [
    {
     "name": "stderr",
     "output_type": "stream",
     "text": [
      "shuffle: 100%|██████████| 100/100 [00:13<00:00,  7.62it/s]\n",
      "shuffle: 100%|██████████| 100/100 [00:12<00:00,  7.74it/s]\n"
     ]
    }
   ],
   "source": [
    "minblock100cleaned = tmf_n(min_address, ns = 32, n = 100, hilbert_artifacts = True)\n",
    "minblock100original = tmf_n(min_address, ns = 32, n = 100, hilbert_artifacts = False)"
   ]
  },
  {
   "cell_type": "code",
   "execution_count": 27,
   "id": "7428436c",
   "metadata": {},
   "outputs": [],
   "source": [
    "minresults = ks_2samp(minblock100cleaned, minblock100original)"
   ]
  },
  {
   "cell_type": "code",
   "execution_count": 28,
   "id": "2e8504a0",
   "metadata": {},
   "outputs": [
    {
     "data": {
      "text/plain": [
       "KstestResult(statistic=0.12, pvalue=0.469506448503778)"
      ]
     },
     "execution_count": 28,
     "metadata": {},
     "output_type": "execute_result"
    }
   ],
   "source": [
    "minresults"
   ]
  }
 ],
 "metadata": {
  "kernelspec": {
   "display_name": "starling_rhythm",
   "language": "python",
   "name": "starling_rhythm"
  },
  "language_info": {
   "codemirror_mode": {
    "name": "ipython",
    "version": 3
   },
   "file_extension": ".py",
   "mimetype": "text/x-python",
   "name": "python",
   "nbconvert_exporter": "python",
   "pygments_lexer": "ipython3",
   "version": "3.10.10"
  }
 },
 "nbformat": 4,
 "nbformat_minor": 5
}
