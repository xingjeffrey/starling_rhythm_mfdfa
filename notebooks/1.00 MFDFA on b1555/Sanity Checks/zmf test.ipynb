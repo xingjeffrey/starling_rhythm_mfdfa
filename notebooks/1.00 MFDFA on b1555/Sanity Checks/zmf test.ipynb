{
 "cells": [
  {
   "cell_type": "markdown",
   "id": "3cdbb0b8",
   "metadata": {},
   "source": [
    "## Pick stimulus\n",
    "\n",
    "- from initial reading of max and mins"
   ]
  },
  {
   "cell_type": "code",
   "execution_count": 1,
   "id": "781bce6e",
   "metadata": {},
   "outputs": [],
   "source": [
    "from starling_rhythm.utils.paths import PROCESSED_DIR"
   ]
  },
  {
   "cell_type": "code",
   "execution_count": 2,
   "id": "3bda5053",
   "metadata": {},
   "outputs": [],
   "source": [
    "bID = 's_b1555_22'\n",
    "SAVE_PATH = PROCESSED_DIR / bID / 'shuffle_tmf.pickle'"
   ]
  },
  {
   "cell_type": "code",
   "execution_count": 3,
   "id": "01acebfd",
   "metadata": {},
   "outputs": [],
   "source": [
    "import pandas as pd"
   ]
  },
  {
   "cell_type": "code",
   "execution_count": 4,
   "id": "42bbb8e7",
   "metadata": {},
   "outputs": [],
   "source": [
    "shuffle_tmf = pd.read_pickle(SAVE_PATH)"
   ]
  },
  {
   "cell_type": "markdown",
   "id": "9740b3ce",
   "metadata": {},
   "source": [
    "## Original calculation. "
   ]
  },
  {
   "cell_type": "code",
   "execution_count": 5,
   "id": "8f84acbb",
   "metadata": {},
   "outputs": [
    {
     "data": {
      "text/html": [
       "<div>\n",
       "<style scoped>\n",
       "    .dataframe tbody tr th:only-of-type {\n",
       "        vertical-align: middle;\n",
       "    }\n",
       "\n",
       "    .dataframe tbody tr th {\n",
       "        vertical-align: top;\n",
       "    }\n",
       "\n",
       "    .dataframe thead th {\n",
       "        text-align: right;\n",
       "    }\n",
       "</style>\n",
       "<table border=\"1\" class=\"dataframe\">\n",
       "  <thead>\n",
       "    <tr style=\"text-align: right;\">\n",
       "      <th></th>\n",
       "      <th>index</th>\n",
       "      <th>shuffle_wavs</th>\n",
       "      <th>shuffle_og_seg</th>\n",
       "      <th>shuffle_ts</th>\n",
       "      <th>seg_nb</th>\n",
       "      <th>type</th>\n",
       "    </tr>\n",
       "  </thead>\n",
       "  <tbody>\n",
       "    <tr>\n",
       "      <th>18</th>\n",
       "      <td>18</td>\n",
       "      <td>/mnt/cube/j8xing/starling_rhythm_mfdfa/data/s_...</td>\n",
       "      <td>s_b1555_22_2022-09-20_09-00-01-01_1611695_1641...</td>\n",
       "      <td>33.540317</td>\n",
       "      <td>0</td>\n",
       "      <td>max</td>\n",
       "    </tr>\n",
       "    <tr>\n",
       "      <th>1</th>\n",
       "      <td>1</td>\n",
       "      <td>/mnt/cube/j8xing/starling_rhythm_mfdfa/data/s_...</td>\n",
       "      <td>s_b1555_22_2022-09-20_09-00-01-01_1611695_1641...</td>\n",
       "      <td>13.189624</td>\n",
       "      <td>0</td>\n",
       "      <td>min</td>\n",
       "    </tr>\n",
       "    <tr>\n",
       "      <th>3</th>\n",
       "      <td>35</td>\n",
       "      <td>/mnt/cube/j8xing/starling_rhythm_mfdfa/data/s_...</td>\n",
       "      <td>s_b1555_22_2022-09-20_09-00-01-02_1242225_1285...</td>\n",
       "      <td>48.723433</td>\n",
       "      <td>1</td>\n",
       "      <td>max</td>\n",
       "    </tr>\n",
       "    <tr>\n",
       "      <th>30</th>\n",
       "      <td>62</td>\n",
       "      <td>/mnt/cube/j8xing/starling_rhythm_mfdfa/data/s_...</td>\n",
       "      <td>s_b1555_22_2022-09-20_09-00-01-02_1242225_1285...</td>\n",
       "      <td>24.444802</td>\n",
       "      <td>1</td>\n",
       "      <td>min</td>\n",
       "    </tr>\n",
       "    <tr>\n",
       "      <th>19</th>\n",
       "      <td>83</td>\n",
       "      <td>/mnt/cube/j8xing/starling_rhythm_mfdfa/data/s_...</td>\n",
       "      <td>s_b1555_22_2022-09-20_09-00-01-02_1242225_1285...</td>\n",
       "      <td>43.137802</td>\n",
       "      <td>2</td>\n",
       "      <td>max</td>\n",
       "    </tr>\n",
       "  </tbody>\n",
       "</table>\n",
       "</div>"
      ],
      "text/plain": [
       "    index                                       shuffle_wavs  \\\n",
       "18     18  /mnt/cube/j8xing/starling_rhythm_mfdfa/data/s_...   \n",
       "1       1  /mnt/cube/j8xing/starling_rhythm_mfdfa/data/s_...   \n",
       "3      35  /mnt/cube/j8xing/starling_rhythm_mfdfa/data/s_...   \n",
       "30     62  /mnt/cube/j8xing/starling_rhythm_mfdfa/data/s_...   \n",
       "19     83  /mnt/cube/j8xing/starling_rhythm_mfdfa/data/s_...   \n",
       "\n",
       "                                       shuffle_og_seg  shuffle_ts  seg_nb type  \n",
       "18  s_b1555_22_2022-09-20_09-00-01-01_1611695_1641...   33.540317       0  max  \n",
       "1   s_b1555_22_2022-09-20_09-00-01-01_1611695_1641...   13.189624       0  min  \n",
       "3   s_b1555_22_2022-09-20_09-00-01-02_1242225_1285...   48.723433       1  max  \n",
       "30  s_b1555_22_2022-09-20_09-00-01-02_1242225_1285...   24.444802       1  min  \n",
       "19  s_b1555_22_2022-09-20_09-00-01-02_1242225_1285...   43.137802       2  max  "
      ]
     },
     "execution_count": 5,
     "metadata": {},
     "output_type": "execute_result"
    }
   ],
   "source": [
    "shuffle_tmf.head()"
   ]
  },
  {
   "cell_type": "code",
   "execution_count": 6,
   "id": "4f4a8e68",
   "metadata": {},
   "outputs": [
    {
     "name": "stderr",
     "output_type": "stream",
     "text": [
      "/tmp/ipykernel_10710/123448108.py:2: TqdmWarning: IProgress not found. Please update jupyter and ipywidgets. See https://ipywidgets.readthedocs.io/en/stable/user_install.html\n",
      "  from tqdm.autonotebook import tqdm\n"
     ]
    }
   ],
   "source": [
    "from joblib import Parallel, delayed\n",
    "from tqdm.autonotebook import tqdm"
   ]
  },
  {
   "cell_type": "code",
   "execution_count": 7,
   "id": "1dde0cc4",
   "metadata": {},
   "outputs": [],
   "source": [
    "from starling_rhythm.mfdfa import tmf\n",
    "n_jobs = 36\n",
    "verbose = 0"
   ]
  },
  {
   "cell_type": "markdown",
   "id": "8717bc79",
   "metadata": {},
   "source": [
    "## Do a power analysis"
   ]
  },
  {
   "cell_type": "code",
   "execution_count": 8,
   "id": "909d8a02",
   "metadata": {},
   "outputs": [],
   "source": [
    "import numpy as np\n",
    "from statsmodels.stats.power import TTestPower\n",
    "import matplotlib.pyplot as plt"
   ]
  },
  {
   "cell_type": "code",
   "execution_count": 9,
   "id": "faef4f05",
   "metadata": {},
   "outputs": [
    {
     "data": {
      "text/plain": [
       "0.9986097138390777"
      ]
     },
     "execution_count": 9,
     "metadata": {},
     "output_type": "execute_result"
    }
   ],
   "source": [
    "solver = TTestPower()\n",
    "solver.solve_power(effect_size = 0.5, nobs = 100, alpha = 0.05, power = None, alternative = \"two-sided\")"
   ]
  },
  {
   "cell_type": "markdown",
   "id": "d2603813",
   "metadata": {},
   "source": [
    "## Check crank ns"
   ]
  },
  {
   "cell_type": "code",
   "execution_count": 10,
   "id": "8674a099",
   "metadata": {},
   "outputs": [],
   "source": [
    "shuffle_wavs = shuffle_tmf['shuffle_wavs'].values"
   ]
  },
  {
   "cell_type": "code",
   "execution_count": 11,
   "id": "ec8542c9",
   "metadata": {},
   "outputs": [],
   "source": [
    "import seaborn as sns"
   ]
  },
  {
   "cell_type": "code",
   "execution_count": 12,
   "id": "ffdbf1b7",
   "metadata": {},
   "outputs": [
    {
     "data": {
      "text/plain": [
       "<AxesSubplot:xlabel='shuffle_ts', ylabel='Count'>"
      ]
     },
     "execution_count": 12,
     "metadata": {},
     "output_type": "execute_result"
    },
    {
     "data": {
      "image/png": "[encoded data removed]",
      "text/plain": [
       "<Figure size 432x288 with 1 Axes>"
      ]
     },
     "metadata": {
      "needs_background": "light"
     },
     "output_type": "display_data"
    }
   ],
   "source": [
    "sns.histplot(data = shuffle_tmf.reset_index(), x = 'shuffle_ts', hue = 'type')"
   ]
  },
  {
   "cell_type": "code",
   "execution_count": 13,
   "id": "0e0f4751",
   "metadata": {},
   "outputs": [],
   "source": [
    "## we know from this that there is a population difference when we run a second time. \n",
    "## Let's run 36 of each, and take the sample mean, and take that as the true t statistic of the recording"
   ]
  },
  {
   "cell_type": "code",
   "execution_count": 19,
   "id": "325c6b64",
   "metadata": {},
   "outputs": [],
   "source": [
    "def tmf_n(\n",
    "    address, \n",
    "    ns = 32, \n",
    "    amp_env_sr = 200,\n",
    "    n = 36\n",
    "):\n",
    "\n",
    "    with Parallel(n_jobs = n_jobs, verbose = verbose) as parallel:\n",
    "        SDoTMF = parallel(\n",
    "            delayed(tmf)(\n",
    "                address,\n",
    "                ns = 32,\n",
    "                amp_env_sr = 200,\n",
    "                z = True\n",
    "            )\n",
    "            for i in tqdm(np.arange(0, n), desc = 'shuffle')\n",
    "        )\n",
    "        \n",
    "    return SDoTMF"
   ]
  },
  {
   "cell_type": "code",
   "execution_count": 20,
   "id": "f9327f42",
   "metadata": {},
   "outputs": [],
   "source": [
    "tester = shuffle_wavs[0]"
   ]
  },
  {
   "cell_type": "code",
   "execution_count": 21,
   "id": "4658bd6f",
   "metadata": {},
   "outputs": [
    {
     "data": {
      "text/plain": [
       "PosixPath('/mnt/cube/j8xing/starling_rhythm_mfdfa/data/s_b1555_22/templatingFalse-shuffle/s_b1555_22_2022-09-20_09-00-01-01_1611695_1641125_seg_20.0_30.0_templatingFalse-shuffle_26_.wav')"
      ]
     },
     "execution_count": 21,
     "metadata": {},
     "output_type": "execute_result"
    }
   ],
   "source": [
    "tester"
   ]
  },
  {
   "cell_type": "code",
   "execution_count": 22,
   "id": "d845e84a",
   "metadata": {},
   "outputs": [],
   "source": [
    "## Compare empirical MF of the tester to 2/5/10/32/64/128 surrogates 30 times, \n",
    "## and give the std of t of these 30 times"
   ]
  },
  {
   "cell_type": "code",
   "execution_count": 23,
   "id": "d78db882",
   "metadata": {},
   "outputs": [
    {
     "name": "stderr",
     "output_type": "stream",
     "text": [
      "shuffle: 100%|██████████| 30/30 [00:00<00:00, 55899.21it/s]\n"
     ]
    },
    {
     "data": {
      "text/plain": [
       "0.6908306459453253"
      ]
     },
     "execution_count": 23,
     "metadata": {},
     "output_type": "execute_result"
    }
   ],
   "source": [
    "np.std(tmf_n(tester, ns = 2, n = 30))"
   ]
  },
  {
   "cell_type": "code",
   "execution_count": 24,
   "id": "dd8e51ca",
   "metadata": {},
   "outputs": [
    {
     "name": "stderr",
     "output_type": "stream",
     "text": [
      "shuffle: 100%|██████████| 30/30 [00:00<00:00, 71250.92it/s]\n"
     ]
    },
    {
     "data": {
      "text/plain": [
       "0.5620762404231633"
      ]
     },
     "execution_count": 24,
     "metadata": {},
     "output_type": "execute_result"
    }
   ],
   "source": [
    "np.std(tmf_n(tester, ns = 5, n = 30))"
   ]
  },
  {
   "cell_type": "code",
   "execution_count": 25,
   "id": "4519e415",
   "metadata": {},
   "outputs": [
    {
     "name": "stderr",
     "output_type": "stream",
     "text": [
      "shuffle: 100%|██████████| 30/30 [00:00<00:00, 70217.14it/s]\n"
     ]
    },
    {
     "data": {
      "text/plain": [
       "0.4784462512129092"
      ]
     },
     "execution_count": 25,
     "metadata": {},
     "output_type": "execute_result"
    }
   ],
   "source": [
    "np.std(tmf_n(tester, ns = 10, n = 30))"
   ]
  },
  {
   "cell_type": "code",
   "execution_count": 26,
   "id": "86b8441f",
   "metadata": {},
   "outputs": [
    {
     "name": "stderr",
     "output_type": "stream",
     "text": [
      "shuffle: 100%|██████████| 30/30 [00:00<00:00, 74764.78it/s]\n"
     ]
    },
    {
     "data": {
      "text/plain": [
       "0.6011729142535095"
      ]
     },
     "execution_count": 26,
     "metadata": {},
     "output_type": "execute_result"
    }
   ],
   "source": [
    "np.std(tmf_n(tester, ns = 32, n = 30))"
   ]
  },
  {
   "cell_type": "code",
   "execution_count": 27,
   "id": "9d6f6443",
   "metadata": {},
   "outputs": [
    {
     "name": "stderr",
     "output_type": "stream",
     "text": [
      "shuffle: 100%|██████████| 30/30 [00:00<00:00, 78057.77it/s]\n"
     ]
    },
    {
     "data": {
      "text/plain": [
       "0.5428013953363973"
      ]
     },
     "execution_count": 27,
     "metadata": {},
     "output_type": "execute_result"
    }
   ],
   "source": [
    "np.std(tmf_n(tester, ns = 64, n = 30))"
   ]
  },
  {
   "cell_type": "code",
   "execution_count": 28,
   "id": "3030e2fd",
   "metadata": {},
   "outputs": [
    {
     "name": "stderr",
     "output_type": "stream",
     "text": [
      "shuffle: 100%|██████████| 30/30 [00:00<00:00, 67360.34it/s]\n"
     ]
    },
    {
     "data": {
      "text/plain": [
       "0.6122856372863272"
      ]
     },
     "execution_count": 28,
     "metadata": {},
     "output_type": "execute_result"
    }
   ],
   "source": [
    "np.std(tmf_n(tester, ns = 128, n = 30))"
   ]
  }
 ],
 "metadata": {
  "kernelspec": {
   "display_name": "starling_rhythm",
   "language": "python",
   "name": "starling_rhythm"
  },
  "language_info": {
   "codemirror_mode": {
    "name": "ipython",
    "version": 3
   },
   "file_extension": ".py",
   "mimetype": "text/x-python",
   "name": "python",
   "nbconvert_exporter": "python",
   "pygments_lexer": "ipython3",
   "version": "3.10.10"
  }
 },
 "nbformat": 4,
 "nbformat_minor": 5
}
