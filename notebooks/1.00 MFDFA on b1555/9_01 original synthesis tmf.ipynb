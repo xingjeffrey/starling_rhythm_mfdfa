{
 "cells": [
  {
   "cell_type": "markdown",
   "id": "e71824eb",
   "metadata": {},
   "source": [
    "# import data"
   ]
  },
  {
   "cell_type": "code",
   "execution_count": 1,
   "id": "db0ea226",
   "metadata": {},
   "outputs": [],
   "source": [
    "from starling_rhythm.utils.paths import PROCESSED_DIR, ensure_dir"
   ]
  },
  {
   "cell_type": "code",
   "execution_count": 2,
   "id": "004f4194",
   "metadata": {},
   "outputs": [],
   "source": [
    "bID = 's_b1555_22'\n",
    "SAVE_PATH = PROCESSED_DIR / bID / 'final_stimuli_set.pickle'"
   ]
  },
  {
   "cell_type": "code",
   "execution_count": 3,
   "id": "46407794",
   "metadata": {},
   "outputs": [],
   "source": [
    "import pandas as pd"
   ]
  },
  {
   "cell_type": "code",
   "execution_count": 4,
   "id": "43397204",
   "metadata": {},
   "outputs": [],
   "source": [
    "data = pd.read_pickle(SAVE_PATH)"
   ]
  },
  {
   "cell_type": "code",
   "execution_count": 23,
   "id": "73306397",
   "metadata": {},
   "outputs": [],
   "source": [
    "crop = data[['pair_index', 'type', 'mean_SDoTMF']]"
   ]
  },
  {
   "cell_type": "code",
   "execution_count": 6,
   "id": "4bfd29ca",
   "metadata": {},
   "outputs": [],
   "source": [
    "import numpy as np"
   ]
  },
  {
   "cell_type": "code",
   "execution_count": 7,
   "id": "86ed6e20",
   "metadata": {},
   "outputs": [],
   "source": [
    "segments = np.unique(data['shuffle_og_seg'])"
   ]
  },
  {
   "cell_type": "code",
   "execution_count": 8,
   "id": "5b37f4da",
   "metadata": {},
   "outputs": [],
   "source": [
    "from starling_rhythm.synth import synth_song"
   ]
  },
  {
   "cell_type": "code",
   "execution_count": 14,
   "id": "e679d5c1",
   "metadata": {
    "scrolled": true
   },
   "outputs": [],
   "source": [
    "addresses = []\n",
    "for segment in segments:\n",
    "    name = segment.split('_')[:-1]\n",
    "    name = '_'.join([str(elem) for i, elem in enumerate(name)])\n",
    "    name = name + '_templatingFalse-empirical_0_.wav'\n",
    "    address = PROCESSED_DIR / bID /'templatingFalse-empirical' / name\n",
    "    addresses.append(address)"
   ]
  },
  {
   "cell_type": "code",
   "execution_count": 15,
   "id": "f52f8008",
   "metadata": {},
   "outputs": [
    {
     "data": {
      "text/plain": [
       "[PosixPath('/mnt/cube/j8xing/starling_rhythm_mfdfa/data/s_b1555_22/templatingFalse-empirical/s_b1555_22_2022-09-20_10-00-01-02_1463625_1517595_seg_35.0_45.0_templatingFalse-empirical_0_.wav'),\n",
       " PosixPath('/mnt/cube/j8xing/starling_rhythm_mfdfa/data/s_b1555_22/templatingFalse-empirical/s_b1555_22_2022-09-20_11-00-01-02_502435_545690_seg_25.0_35.0_templatingFalse-empirical_0_.wav'),\n",
       " PosixPath('/mnt/cube/j8xing/starling_rhythm_mfdfa/data/s_b1555_22/templatingFalse-empirical/s_b1555_22_2022-09-21_09-00-01-02_1256705_1285315_seg_10.0_20.0_templatingFalse-empirical_0_.wav'),\n",
       " PosixPath('/mnt/cube/j8xing/starling_rhythm_mfdfa/data/s_b1555_22/templatingFalse-empirical/s_b1555_22_2022-09-21_18-00-01-02_1414605_1454470_seg_15.0_25.0_templatingFalse-empirical_0_.wav'),\n",
       " PosixPath('/mnt/cube/j8xing/starling_rhythm_mfdfa/data/s_b1555_22/templatingFalse-empirical/s_b1555_22_2022-09-21_19-00-01-01_1721695_1757290_seg_10.0_20.0_templatingFalse-empirical_0_.wav'),\n",
       " PosixPath('/mnt/cube/j8xing/starling_rhythm_mfdfa/data/s_b1555_22/templatingFalse-empirical/s_b1555_22_2022-09-21_19-00-01-02_879755_906795_seg_15.0_25.0_templatingFalse-empirical_0_.wav'),\n",
       " PosixPath('/mnt/cube/j8xing/starling_rhythm_mfdfa/data/s_b1555_22/templatingFalse-empirical/s_b1555_22_2022-09-21_20-00-02-02_1011390_1068510_seg_20.0_30.0_templatingFalse-empirical_0_.wav'),\n",
       " PosixPath('/mnt/cube/j8xing/starling_rhythm_mfdfa/data/s_b1555_22/templatingFalse-empirical/s_b1555_22_2022-09-22_09-00-01-02_623515_658975_seg_25.0_35.0_templatingFalse-empirical_0_.wav'),\n",
       " PosixPath('/mnt/cube/j8xing/starling_rhythm_mfdfa/data/s_b1555_22/templatingFalse-empirical/s_b1555_22_2022-09-22_17-00-01-01_514895_544160_seg_5.0_15.0_templatingFalse-empirical_0_.wav'),\n",
       " PosixPath('/mnt/cube/j8xing/starling_rhythm_mfdfa/data/s_b1555_22/templatingFalse-empirical/s_b1555_22_2022-09-22_18-00-01-01_1192385_1235640_seg_25.0_35.0_templatingFalse-empirical_0_.wav'),\n",
       " PosixPath('/mnt/cube/j8xing/starling_rhythm_mfdfa/data/s_b1555_22/templatingFalse-empirical/s_b1555_22_2022-09-22_19-00-01-02_1346310_1390080_seg_35.0_45.0_templatingFalse-empirical_0_.wav'),\n",
       " PosixPath('/mnt/cube/j8xing/starling_rhythm_mfdfa/data/s_b1555_22/templatingFalse-empirical/s_b1555_22_2022-09-22_20-00-01-02_1220265_1251605_seg_0.0_10.0_templatingFalse-empirical_0_.wav'),\n",
       " PosixPath('/mnt/cube/j8xing/starling_rhythm_mfdfa/data/s_b1555_22/templatingFalse-empirical/s_b1555_22_2022-09-23_08-00-01-01_1134915_1172700_seg_25.0_35.0_templatingFalse-empirical_0_.wav'),\n",
       " PosixPath('/mnt/cube/j8xing/starling_rhythm_mfdfa/data/s_b1555_22/templatingFalse-empirical/s_b1555_22_2022-09-23_15-00-01-01_18700_55465_seg_10.0_20.0_templatingFalse-empirical_0_.wav'),\n",
       " PosixPath('/mnt/cube/j8xing/starling_rhythm_mfdfa/data/s_b1555_22/templatingFalse-empirical/s_b1555_22_2022-09-23_15-00-01-01_641180_694125_seg_5.0_15.0_templatingFalse-empirical_0_.wav'),\n",
       " PosixPath('/mnt/cube/j8xing/starling_rhythm_mfdfa/data/s_b1555_22/templatingFalse-empirical/s_b1555_22_2022-09-23_16-00-01-02_904950_941050_seg_25.0_35.0_templatingFalse-empirical_0_.wav'),\n",
       " PosixPath('/mnt/cube/j8xing/starling_rhythm_mfdfa/data/s_b1555_22/templatingFalse-empirical/s_b1555_22_2022-09-24_08-00-01-02_1279070_1305425_seg_15.0_25.0_templatingFalse-empirical_0_.wav'),\n",
       " PosixPath('/mnt/cube/j8xing/starling_rhythm_mfdfa/data/s_b1555_22/templatingFalse-empirical/s_b1555_22_2022-09-24_08-00-01-02_267520_306440_seg_20.0_30.0_templatingFalse-empirical_0_.wav'),\n",
       " PosixPath('/mnt/cube/j8xing/starling_rhythm_mfdfa/data/s_b1555_22/templatingFalse-empirical/s_b1555_22_2022-09-24_10-00-02-01_1091560_1138430_seg_35.0_45.0_templatingFalse-empirical_0_.wav'),\n",
       " PosixPath('/mnt/cube/j8xing/starling_rhythm_mfdfa/data/s_b1555_22/templatingFalse-empirical/s_b1555_22_2022-09-24_10-00-02-01_174560_231535_seg_15.0_25.0_templatingFalse-empirical_0_.wav'),\n",
       " PosixPath('/mnt/cube/j8xing/starling_rhythm_mfdfa/data/s_b1555_22/templatingFalse-empirical/s_b1555_22_2022-09-24_12-00-01-01_1108590_1152895_seg_25.0_35.0_templatingFalse-empirical_0_.wav'),\n",
       " PosixPath('/mnt/cube/j8xing/starling_rhythm_mfdfa/data/s_b1555_22/templatingFalse-empirical/s_b1555_22_2022-09-24_21-00-01-02_1460995_1500650_seg_25.0_35.0_templatingFalse-empirical_0_.wav'),\n",
       " PosixPath('/mnt/cube/j8xing/starling_rhythm_mfdfa/data/s_b1555_22/templatingFalse-empirical/s_b1555_22_2022-09-25_10-00-01-01_1560465_1599465_seg_0.0_10.0_templatingFalse-empirical_0_.wav'),\n",
       " PosixPath('/mnt/cube/j8xing/starling_rhythm_mfdfa/data/s_b1555_22/templatingFalse-empirical/s_b1555_22_2022-09-25_10-00-01-01_1692270_1730960_seg_30.0_40.0_templatingFalse-empirical_0_.wav'),\n",
       " PosixPath('/mnt/cube/j8xing/starling_rhythm_mfdfa/data/s_b1555_22/templatingFalse-empirical/s_b1555_22_2022-09-25_10-00-01-02_205690_240960_seg_10.0_20.0_templatingFalse-empirical_0_.wav'),\n",
       " PosixPath('/mnt/cube/j8xing/starling_rhythm_mfdfa/data/s_b1555_22/templatingFalse-empirical/s_b1555_22_2022-09-25_18-00-01-01_1132390_1183170_seg_15.0_25.0_templatingFalse-empirical_0_.wav'),\n",
       " PosixPath('/mnt/cube/j8xing/starling_rhythm_mfdfa/data/s_b1555_22/templatingFalse-empirical/s_b1555_22_2022-09-25_18-00-01-02_1499100_1545860_seg_10.0_20.0_templatingFalse-empirical_0_.wav'),\n",
       " PosixPath('/mnt/cube/j8xing/starling_rhythm_mfdfa/data/s_b1555_22/templatingFalse-empirical/s_b1555_22_2022-09-25_18-00-01-02_532655_561255_seg_10.0_20.0_templatingFalse-empirical_0_.wav'),\n",
       " PosixPath('/mnt/cube/j8xing/starling_rhythm_mfdfa/data/s_b1555_22/templatingFalse-empirical/s_b1555_22_2022-09-25_19-00-01-01_1460610_1502795_seg_30.0_40.0_templatingFalse-empirical_0_.wav'),\n",
       " PosixPath('/mnt/cube/j8xing/starling_rhythm_mfdfa/data/s_b1555_22/templatingFalse-empirical/s_b1555_22_2022-09-25_19-00-01-01_1580685_1613905_seg_10.0_20.0_templatingFalse-empirical_0_.wav'),\n",
       " PosixPath('/mnt/cube/j8xing/starling_rhythm_mfdfa/data/s_b1555_22/templatingFalse-empirical/s_b1555_22_2022-09-25_19-00-01-02_531695_578525_seg_0.0_10.0_templatingFalse-empirical_0_.wav'),\n",
       " PosixPath('/mnt/cube/j8xing/starling_rhythm_mfdfa/data/s_b1555_22/templatingFalse-empirical/s_b1555_22_2022-09-25_20-00-01-01_228515_272310_seg_35.0_45.0_templatingFalse-empirical_0_.wav'),\n",
       " PosixPath('/mnt/cube/j8xing/starling_rhythm_mfdfa/data/s_b1555_22/templatingFalse-empirical/s_b1555_22_2022-09-26_09-00-01-01_555665_593710_seg_5.0_15.0_templatingFalse-empirical_0_.wav'),\n",
       " PosixPath('/mnt/cube/j8xing/starling_rhythm_mfdfa/data/s_b1555_22/templatingFalse-empirical/s_b1555_22_2022-09-26_10-00-01-01_485195_519565_seg_10.0_20.0_templatingFalse-empirical_0_.wav'),\n",
       " PosixPath('/mnt/cube/j8xing/starling_rhythm_mfdfa/data/s_b1555_22/templatingFalse-empirical/s_b1555_22_2022-09-26_10-00-01-02_759010_801460_seg_20.0_30.0_templatingFalse-empirical_0_.wav'),\n",
       " PosixPath('/mnt/cube/j8xing/starling_rhythm_mfdfa/data/s_b1555_22/templatingFalse-empirical/s_b1555_22_2022-09-26_14-00-01-02_173815_206675_seg_25.0_35.0_templatingFalse-empirical_0_.wav'),\n",
       " PosixPath('/mnt/cube/j8xing/starling_rhythm_mfdfa/data/s_b1555_22/templatingFalse-empirical/s_b1555_22_2022-09-26_19-00-01-02_767110_807935_seg_5.0_15.0_templatingFalse-empirical_0_.wav'),\n",
       " PosixPath('/mnt/cube/j8xing/starling_rhythm_mfdfa/data/s_b1555_22/templatingFalse-empirical/s_b1555_22_2022-09-26_20-00-01-01_929260_977655_seg_15.0_25.0_templatingFalse-empirical_0_.wav'),\n",
       " PosixPath('/mnt/cube/j8xing/starling_rhythm_mfdfa/data/s_b1555_22/templatingFalse-empirical/s_b1555_22_2022-09-27_12-00-01-01_422815_478345_seg_20.0_30.0_templatingFalse-empirical_0_.wav'),\n",
       " PosixPath('/mnt/cube/j8xing/starling_rhythm_mfdfa/data/s_b1555_22/templatingFalse-empirical/s_b1555_22_2022-09-27_12-00-01-02_1468725_1509870_seg_30.0_40.0_templatingFalse-empirical_0_.wav'),\n",
       " PosixPath('/mnt/cube/j8xing/starling_rhythm_mfdfa/data/s_b1555_22/templatingFalse-empirical/s_b1555_22_2022-09-27_17-00-02-01_732930_765195_seg_10.0_20.0_templatingFalse-empirical_0_.wav'),\n",
       " PosixPath('/mnt/cube/j8xing/starling_rhythm_mfdfa/data/s_b1555_22/templatingFalse-empirical/s_b1555_22_2022-09-27_17-00-02-02_976320_1020640_seg_35.0_45.0_templatingFalse-empirical_0_.wav'),\n",
       " PosixPath('/mnt/cube/j8xing/starling_rhythm_mfdfa/data/s_b1555_22/templatingFalse-empirical/s_b1555_22_2022-09-27_18-00-01-01_1319745_1345640_seg_10.0_20.0_templatingFalse-empirical_0_.wav'),\n",
       " PosixPath('/mnt/cube/j8xing/starling_rhythm_mfdfa/data/s_b1555_22/templatingFalse-empirical/s_b1555_22_2022-09-27_18-00-01-02_106965_146010_seg_15.0_25.0_templatingFalse-empirical_0_.wav'),\n",
       " PosixPath('/mnt/cube/j8xing/starling_rhythm_mfdfa/data/s_b1555_22/templatingFalse-empirical/s_b1555_22_2022-09-27_20-00-01-01_1732405_1765460_seg_10.0_20.0_templatingFalse-empirical_0_.wav'),\n",
       " PosixPath('/mnt/cube/j8xing/starling_rhythm_mfdfa/data/s_b1555_22/templatingFalse-empirical/s_b1555_22_2022-09-27_21-00-01-02_1592360_1619360_seg_0.0_10.0_templatingFalse-empirical_0_.wav'),\n",
       " PosixPath('/mnt/cube/j8xing/starling_rhythm_mfdfa/data/s_b1555_22/templatingFalse-empirical/s_b1555_22_2022-09-28_08-00-01-02_302065_331470_seg_5.0_15.0_templatingFalse-empirical_0_.wav'),\n",
       " PosixPath('/mnt/cube/j8xing/starling_rhythm_mfdfa/data/s_b1555_22/templatingFalse-empirical/s_b1555_22_2022-09-28_09-00-01-02_1016370_1055445_seg_25.0_35.0_templatingFalse-empirical_0_.wav'),\n",
       " PosixPath('/mnt/cube/j8xing/starling_rhythm_mfdfa/data/s_b1555_22/templatingFalse-empirical/s_b1555_22_2022-09-28_09-00-01-02_1509385_1554500_seg_20.0_30.0_templatingFalse-empirical_0_.wav'),\n",
       " PosixPath('/mnt/cube/j8xing/starling_rhythm_mfdfa/data/s_b1555_22/templatingFalse-empirical/s_b1555_22_2022-09-28_10-00-01-01_1500935_1532050_seg_0.0_10.0_templatingFalse-empirical_0_.wav'),\n",
       " PosixPath('/mnt/cube/j8xing/starling_rhythm_mfdfa/data/s_b1555_22/templatingFalse-empirical/s_b1555_22_2022-09-28_10-00-01-01_569920_603165_seg_10.0_20.0_templatingFalse-empirical_0_.wav'),\n",
       " PosixPath('/mnt/cube/j8xing/starling_rhythm_mfdfa/data/s_b1555_22/templatingFalse-empirical/s_b1555_22_2022-09-28_12-00-01-01_1343630_1399290_seg_45.0_55.0_templatingFalse-empirical_0_.wav'),\n",
       " PosixPath('/mnt/cube/j8xing/starling_rhythm_mfdfa/data/s_b1555_22/templatingFalse-empirical/s_b1555_22_2022-09-28_20-00-02-01_1211585_1249975_seg_30.0_40.0_templatingFalse-empirical_0_.wav'),\n",
       " PosixPath('/mnt/cube/j8xing/starling_rhythm_mfdfa/data/s_b1555_22/templatingFalse-empirical/s_b1555_22_2022-09-28_20-00-02-02_872160_905510_seg_15.0_25.0_templatingFalse-empirical_0_.wav'),\n",
       " PosixPath('/mnt/cube/j8xing/starling_rhythm_mfdfa/data/s_b1555_22/templatingFalse-empirical/s_b1555_22_2022-09-29_10-00-01-02_565720_603830_seg_20.0_30.0_templatingFalse-empirical_0_.wav'),\n",
       " PosixPath('/mnt/cube/j8xing/starling_rhythm_mfdfa/data/s_b1555_22/templatingFalse-empirical/s_b1555_22_2022-09-29_11-00-01-01_136275_168240_seg_15.0_25.0_templatingFalse-empirical_0_.wav'),\n",
       " PosixPath('/mnt/cube/j8xing/starling_rhythm_mfdfa/data/s_b1555_22/templatingFalse-empirical/s_b1555_22_2022-09-29_15-00-01-02_1457010_1508465_seg_40.0_50.0_templatingFalse-empirical_0_.wav'),\n",
       " PosixPath('/mnt/cube/j8xing/starling_rhythm_mfdfa/data/s_b1555_22/templatingFalse-empirical/s_b1555_22_2022-09-29_15-00-01-02_287825_317905_seg_20.0_30.0_templatingFalse-empirical_0_.wav'),\n",
       " PosixPath('/mnt/cube/j8xing/starling_rhythm_mfdfa/data/s_b1555_22/templatingFalse-empirical/s_b1555_22_2022-09-29_19-00-01-01_1155055_1195750_seg_25.0_35.0_templatingFalse-empirical_0_.wav'),\n",
       " PosixPath('/mnt/cube/j8xing/starling_rhythm_mfdfa/data/s_b1555_22/templatingFalse-empirical/s_b1555_22_2022-09-29_19-00-01-02_1081370_1134845_seg_30.0_40.0_templatingFalse-empirical_0_.wav'),\n",
       " PosixPath('/mnt/cube/j8xing/starling_rhythm_mfdfa/data/s_b1555_22/templatingFalse-empirical/s_b1555_22_2022-09-29_19-00-01-02_273385_298080_seg_0.0_10.0_templatingFalse-empirical_0_.wav'),\n",
       " PosixPath('/mnt/cube/j8xing/starling_rhythm_mfdfa/data/s_b1555_22/templatingFalse-empirical/s_b1555_22_2022-09-29_20-00-02-02_309780_344750_seg_15.0_25.0_templatingFalse-empirical_0_.wav'),\n",
       " PosixPath('/mnt/cube/j8xing/starling_rhythm_mfdfa/data/s_b1555_22/templatingFalse-empirical/s_b1555_22_2022-09-29_21-00-01-02_1004735_1051475_seg_20.0_30.0_templatingFalse-empirical_0_.wav'),\n",
       " PosixPath('/mnt/cube/j8xing/starling_rhythm_mfdfa/data/s_b1555_22/templatingFalse-empirical/s_b1555_22_2022-09-29_21-00-01-02_1004735_1051475_seg_35.0_45.0_templatingFalse-empirical_0_.wav')]"
      ]
     },
     "execution_count": 15,
     "metadata": {},
     "output_type": "execute_result"
    }
   ],
   "source": [
    "addresses"
   ]
  },
  {
   "cell_type": "code",
   "execution_count": 16,
   "id": "f99ccb67",
   "metadata": {},
   "outputs": [],
   "source": [
    "from joblib import Parallel, delayed\n",
    "from tqdm.autonotebook import tqdm"
   ]
  },
  {
   "cell_type": "code",
   "execution_count": 17,
   "id": "8a27aae8",
   "metadata": {},
   "outputs": [],
   "source": [
    "from starling_rhythm.mfdfa import tmf\n",
    "n_jobs = 42\n",
    "verbose = 0"
   ]
  },
  {
   "cell_type": "code",
   "execution_count": 18,
   "id": "5e458d40",
   "metadata": {},
   "outputs": [
    {
     "name": "stderr",
     "output_type": "stream",
     "text": [
      "getting all the real ones: 100%|██████████| 64/64 [00:00<00:00, 108.33it/s]\n"
     ]
    }
   ],
   "source": [
    "with Parallel(n_jobs = n_jobs, verbose = verbose) as parallel:\n",
    "    real_ts = parallel(\n",
    "        delayed(tmf)(\n",
    "            address,\n",
    "            ns = 32,\n",
    "            amp_env_sr = 200,\n",
    "            hilbert_artifacts = True\n",
    "        )\n",
    "        for address in tqdm(addresses, desc = 'getting all the real ones')\n",
    "    )"
   ]
  },
  {
   "cell_type": "code",
   "execution_count": 19,
   "id": "9e36fec9",
   "metadata": {},
   "outputs": [],
   "source": [
    "pair_index = np.arange(0, 64)\n",
    "typee = np.full(64, fill_value = 'empirical')"
   ]
  },
  {
   "cell_type": "code",
   "execution_count": 20,
   "id": "33d334bb",
   "metadata": {},
   "outputs": [],
   "source": [
    "temp = pd.DataFrame(\n",
    "    {\n",
    "        'pair_index': pair_index,\n",
    "        'type': typee,\n",
    "        'mean_SDoTMF': real_ts\n",
    "    }\n",
    ")"
   ]
  },
  {
   "cell_type": "code",
   "execution_count": 26,
   "id": "4bb9ae50",
   "metadata": {},
   "outputs": [],
   "source": [
    "fin = pd.concat([temp, crop])"
   ]
  },
  {
   "cell_type": "code",
   "execution_count": 27,
   "id": "4ca55df1",
   "metadata": {},
   "outputs": [
    {
     "data": {
      "text/html": [
       "<div>\n",
       "<style scoped>\n",
       "    .dataframe tbody tr th:only-of-type {\n",
       "        vertical-align: middle;\n",
       "    }\n",
       "\n",
       "    .dataframe tbody tr th {\n",
       "        vertical-align: top;\n",
       "    }\n",
       "\n",
       "    .dataframe thead th {\n",
       "        text-align: right;\n",
       "    }\n",
       "</style>\n",
       "<table border=\"1\" class=\"dataframe\">\n",
       "  <thead>\n",
       "    <tr style=\"text-align: right;\">\n",
       "      <th></th>\n",
       "      <th>pair_index</th>\n",
       "      <th>type</th>\n",
       "      <th>mean_SDoTMF</th>\n",
       "    </tr>\n",
       "  </thead>\n",
       "  <tbody>\n",
       "    <tr>\n",
       "      <th>0</th>\n",
       "      <td>0</td>\n",
       "      <td>empirical</td>\n",
       "      <td>57.070661</td>\n",
       "    </tr>\n",
       "    <tr>\n",
       "      <th>1</th>\n",
       "      <td>1</td>\n",
       "      <td>empirical</td>\n",
       "      <td>45.037951</td>\n",
       "    </tr>\n",
       "    <tr>\n",
       "      <th>2</th>\n",
       "      <td>2</td>\n",
       "      <td>empirical</td>\n",
       "      <td>51.796020</td>\n",
       "    </tr>\n",
       "    <tr>\n",
       "      <th>3</th>\n",
       "      <td>3</td>\n",
       "      <td>empirical</td>\n",
       "      <td>46.594464</td>\n",
       "    </tr>\n",
       "    <tr>\n",
       "      <th>4</th>\n",
       "      <td>4</td>\n",
       "      <td>empirical</td>\n",
       "      <td>44.692804</td>\n",
       "    </tr>\n",
       "    <tr>\n",
       "      <th>...</th>\n",
       "      <td>...</td>\n",
       "      <td>...</td>\n",
       "      <td>...</td>\n",
       "    </tr>\n",
       "    <tr>\n",
       "      <th>20</th>\n",
       "      <td>61</td>\n",
       "      <td>min</td>\n",
       "      <td>33.769136</td>\n",
       "    </tr>\n",
       "    <tr>\n",
       "      <th>5</th>\n",
       "      <td>62</td>\n",
       "      <td>max</td>\n",
       "      <td>40.058226</td>\n",
       "    </tr>\n",
       "    <tr>\n",
       "      <th>11</th>\n",
       "      <td>62</td>\n",
       "      <td>min</td>\n",
       "      <td>13.291902</td>\n",
       "    </tr>\n",
       "    <tr>\n",
       "      <th>0</th>\n",
       "      <td>63</td>\n",
       "      <td>max</td>\n",
       "      <td>61.740009</td>\n",
       "    </tr>\n",
       "    <tr>\n",
       "      <th>2</th>\n",
       "      <td>63</td>\n",
       "      <td>min</td>\n",
       "      <td>34.977471</td>\n",
       "    </tr>\n",
       "  </tbody>\n",
       "</table>\n",
       "<p>192 rows × 3 columns</p>\n",
       "</div>"
      ],
      "text/plain": [
       "    pair_index       type  mean_SDoTMF\n",
       "0            0  empirical    57.070661\n",
       "1            1  empirical    45.037951\n",
       "2            2  empirical    51.796020\n",
       "3            3  empirical    46.594464\n",
       "4            4  empirical    44.692804\n",
       "..         ...        ...          ...\n",
       "20          61        min    33.769136\n",
       "5           62        max    40.058226\n",
       "11          62        min    13.291902\n",
       "0           63        max    61.740009\n",
       "2           63        min    34.977471\n",
       "\n",
       "[192 rows x 3 columns]"
      ]
     },
     "execution_count": 27,
     "metadata": {},
     "output_type": "execute_result"
    }
   ],
   "source": [
    "fin"
   ]
  },
  {
   "cell_type": "code",
   "execution_count": 25,
   "id": "fe56719a",
   "metadata": {},
   "outputs": [],
   "source": [
    "import seaborn as sns"
   ]
  },
  {
   "cell_type": "code",
   "execution_count": 32,
   "id": "ce87b49e",
   "metadata": {},
   "outputs": [
    {
     "data": {
      "text/plain": [
       "<AxesSubplot:xlabel='mean_SDoTMF', ylabel='Count'>"
      ]
     },
     "execution_count": 32,
     "metadata": {},
     "output_type": "execute_result"
    },
    {
     "data": {
      "image/png": "[encoded data removed]",
      "text/plain": [
       "<Figure size 432x288 with 1 Axes>"
      ]
     },
     "metadata": {
      "needs_background": "light"
     },
     "output_type": "display_data"
    }
   ],
   "source": [
    "sns.histplot(data = fin.reset_index(), x = 'mean_SDoTMF', hue = 'type', binwidth = 5, kde = True)"
   ]
  },
  {
   "cell_type": "code",
   "execution_count": null,
   "id": "49c4b962",
   "metadata": {},
   "outputs": [],
   "source": []
  }
 ],
 "metadata": {
  "kernelspec": {
   "display_name": "starling_rhythm",
   "language": "python",
   "name": "starling_rhythm"
  },
  "language_info": {
   "codemirror_mode": {
    "name": "ipython",
    "version": 3
   },
   "file_extension": ".py",
   "mimetype": "text/x-python",
   "name": "python",
   "nbconvert_exporter": "python",
   "pygments_lexer": "ipython3",
   "version": "3.10.4"
  }
 },
 "nbformat": 4,
 "nbformat_minor": 5
}
