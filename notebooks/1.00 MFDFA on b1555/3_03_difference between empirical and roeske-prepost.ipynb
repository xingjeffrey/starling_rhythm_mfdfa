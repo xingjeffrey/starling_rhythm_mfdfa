{
 "cells": [
  {
   "cell_type": "code",
   "execution_count": 1,
   "id": "ef3b2b26",
   "metadata": {},
   "outputs": [
    {
     "name": "stderr",
     "output_type": "stream",
     "text": [
      "/home/AD/j8xing/anaconda3/envs/starling_rhythm/lib/python3.10/site-packages/tqdm/auto.py:22: TqdmWarning: IProgress not found. Please update jupyter and ipywidgets. See https://ipywidgets.readthedocs.io/en/stable/user_install.html\n",
      "  from .autonotebook import tqdm as notebook_tqdm\n"
     ]
    }
   ],
   "source": [
    "from starling_rhythm.mfdfa import tmf\n",
    "from starling_rhythm.utils.paths import PROCESSED_DIR"
   ]
  },
  {
   "cell_type": "code",
   "execution_count": 2,
   "id": "7b6d5e3a",
   "metadata": {},
   "outputs": [],
   "source": [
    "bID = 's_b1555_22'"
   ]
  },
  {
   "cell_type": "code",
   "execution_count": 3,
   "id": "a0a694fa",
   "metadata": {},
   "outputs": [],
   "source": [
    "real_DIR = PROCESSED_DIR / bID / 'templatingFalse-empirical'\n",
    "real_wavs = list(real_DIR.glob('*.wav'))\n",
    "fake_DIR = PROCESSED_DIR / bID / 'templatingTrue-transition_gap_profiles'\n",
    "fake_wavs = list(fake_DIR.glob('*.wav'))\n",
    "\n",
    "real_wavs.sort()\n",
    "fake_wavs.sort()"
   ]
  },
  {
   "cell_type": "code",
   "execution_count": 4,
   "id": "62f82e64",
   "metadata": {},
   "outputs": [],
   "source": [
    "wavs = tuple(zip(real_wavs, fake_wavs))"
   ]
  },
  {
   "cell_type": "code",
   "execution_count": 5,
   "id": "9d6df3a3",
   "metadata": {},
   "outputs": [],
   "source": [
    "def tmf_diff(wav_tuple, amp_env_sr):\n",
    "    empirical = wav_tuple[0]\n",
    "    fake = wav_tuple[1]\n",
    "    \n",
    "    emp_tmf = tmf(empirical, amp_env_sr = amp_env_sr)\n",
    "    fak_tmf = tmf(fake, amp_env_sr = amp_env_sr)\n",
    "    \n",
    "    tmf_diff = emp_tmf - fak_tmf ## if positive, emp is more expressive than fake. We expect above positive.\n",
    "    \n",
    "    return tmf_diff"
   ]
  },
  {
   "cell_type": "code",
   "execution_count": 6,
   "id": "9496e74e",
   "metadata": {},
   "outputs": [],
   "source": [
    "from joblib import Parallel, delayed\n",
    "from tqdm.autonotebook import tqdm"
   ]
  },
  {
   "cell_type": "code",
   "execution_count": 7,
   "id": "f683d753",
   "metadata": {},
   "outputs": [],
   "source": [
    "n_jobs = 36\n",
    "verbose = 0"
   ]
  },
  {
   "cell_type": "code",
   "execution_count": 8,
   "id": "0ec66823",
   "metadata": {},
   "outputs": [
    {
     "name": "stderr",
     "output_type": "stream",
     "text": [
      "all the wav tuples:   5%|▍         | 252/5148 [03:21<1:17:04,  1.06it/s]/home/AD/j8xing/anaconda3/envs/starling_rhythm/lib/python3.10/site-packages/joblib/externals/loky/process_executor.py:702: UserWarning: A worker stopped while some jobs were given to the executor. This can be caused by a too short worker timeout or by a memory leak.\n",
      "  warnings.warn(\n",
      "all the wav tuples: 100%|██████████| 5148/5148 [1:25:51<00:00,  1.00s/it]\n"
     ]
    }
   ],
   "source": [
    "with Parallel(n_jobs = n_jobs, verbose = verbose) as parallel:\n",
    "    ts_diff = parallel(\n",
    "        delayed(tmf_diff)(\n",
    "            wav_tuple,\n",
    "            amp_env_sr = 200\n",
    "        )\n",
    "        for wav_tuple in tqdm(wavs, desc = 'all the wav tuples')\n",
    "    )"
   ]
  },
  {
   "cell_type": "code",
   "execution_count": 9,
   "id": "db7802c0",
   "metadata": {},
   "outputs": [],
   "source": [
    "import pandas as pd\n",
    "import numpy as np"
   ]
  },
  {
   "cell_type": "code",
   "execution_count": 10,
   "id": "e72203d5",
   "metadata": {},
   "outputs": [],
   "source": [
    "real_df = pd.DataFrame(\n",
    "    {\n",
    "        'id': np.full(len(ts_diff), 'real'),\n",
    "        'ts': ts_diff\n",
    "    }\n",
    ")"
   ]
  },
  {
   "cell_type": "code",
   "execution_count": 11,
   "id": "71f19428",
   "metadata": {},
   "outputs": [],
   "source": [
    "import seaborn as sns"
   ]
  },
  {
   "cell_type": "code",
   "execution_count": 12,
   "id": "b632d8d0",
   "metadata": {},
   "outputs": [
    {
     "data": {
      "text/plain": [
       "<AxesSubplot:xlabel='ts', ylabel='Count'>"
      ]
     },
     "execution_count": 12,
     "metadata": {},
     "output_type": "execute_result"
    },
    {
     "data": {
      "image/png": "[encoded data removed]",
      "text/plain": [
       "<Figure size 432x288 with 1 Axes>"
      ]
     },
     "metadata": {
      "needs_background": "light"
     },
     "output_type": "display_data"
    }
   ],
   "source": [
    "sns.histplot(data = real_df, x = \"ts\", hue = \"id\")"
   ]
  },
  {
   "cell_type": "code",
   "execution_count": 21,
   "id": "3b5eaf6d",
   "metadata": {},
   "outputs": [
    {
     "data": {
      "text/plain": [
       "<AxesSubplot:xlabel='ts'>"
      ]
     },
     "execution_count": 21,
     "metadata": {},
     "output_type": "execute_result"
    },
    {
     "data": {
      "image/png": "[encoded data removed]",
      "text/plain": [
       "<Figure size 432x288 with 1 Axes>"
      ]
     },
     "metadata": {
      "needs_background": "light"
     },
     "output_type": "display_data"
    }
   ],
   "source": [
    "sns.pointplot(data = real_df, x = \"ts\", hue = \"id\")"
   ]
  },
  {
   "cell_type": "code",
   "execution_count": 13,
   "id": "8499ce62",
   "metadata": {},
   "outputs": [],
   "source": [
    "import scipy.stats"
   ]
  },
  {
   "cell_type": "code",
   "execution_count": 14,
   "id": "4e7e0769",
   "metadata": {},
   "outputs": [
    {
     "data": {
      "text/plain": [
       "Ttest_1sampResult(statistic=4.648572007896773, pvalue=3.425917432844841e-06)"
      ]
     },
     "execution_count": 14,
     "metadata": {},
     "output_type": "execute_result"
    }
   ],
   "source": [
    "scipy.stats.ttest_1samp(ts_diff, popmean = 0)"
   ]
  },
  {
   "cell_type": "code",
   "execution_count": 16,
   "id": "48ffa212",
   "metadata": {},
   "outputs": [
    {
     "data": {
      "text/plain": [
       "0.6103649414635937"
      ]
     },
     "execution_count": 16,
     "metadata": {},
     "output_type": "execute_result"
    }
   ],
   "source": [
    "np.mean(ts_diff)"
   ]
  },
  {
   "cell_type": "code",
   "execution_count": null,
   "id": "c869160d",
   "metadata": {},
   "outputs": [],
   "source": []
  }
 ],
 "metadata": {
  "kernelspec": {
   "display_name": "starling_rhythm",
   "language": "python",
   "name": "starling_rhythm"
  },
  "language_info": {
   "codemirror_mode": {
    "name": "ipython",
    "version": 3
   },
   "file_extension": ".py",
   "mimetype": "text/x-python",
   "name": "python",
   "nbconvert_exporter": "python",
   "pygments_lexer": "ipython3",
   "version": "3.10.4"
  }
 },
 "nbformat": 4,
 "nbformat_minor": 5
}
