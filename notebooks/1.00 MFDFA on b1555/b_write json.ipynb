{
 "cells": [
  {
   "cell_type": "markdown",
   "id": "e71824eb",
   "metadata": {},
   "source": [
    "# Write json config for pyoperant"
   ]
  },
  {
   "cell_type": "code",
   "execution_count": 1,
   "id": "db0ea226",
   "metadata": {},
   "outputs": [],
   "source": [
    "from starling_rhythm.utils.paths import PROCESSED_DIR, ensure_dir"
   ]
  },
  {
   "cell_type": "code",
   "execution_count": 2,
   "id": "28824c96",
   "metadata": {},
   "outputs": [],
   "source": [
    "from pathlib2 import Path"
   ]
  },
  {
   "cell_type": "code",
   "execution_count": 3,
   "id": "da90f047",
   "metadata": {},
   "outputs": [],
   "source": [
    "TOP_DIR = Path('/mnt/cube/j8xing/starling_rhythm_mfdfa')"
   ]
  },
  {
   "cell_type": "code",
   "execution_count": 4,
   "id": "dfe9926f",
   "metadata": {},
   "outputs": [
    {
     "data": {
      "text/plain": [
       "PosixPath('/mnt/cube/j8xing/starling_rhythm_mfdfa')"
      ]
     },
     "execution_count": 4,
     "metadata": {},
     "output_type": "execute_result"
    }
   ],
   "source": [
    "TOP_DIR"
   ]
  },
  {
   "cell_type": "code",
   "execution_count": 5,
   "id": "004f4194",
   "metadata": {},
   "outputs": [],
   "source": [
    "bID = 's_b1555_22'\n",
    "SAVE_PATH = PROCESSED_DIR / bID / 'quant_stimuli.pickle'"
   ]
  },
  {
   "cell_type": "code",
   "execution_count": 6,
   "id": "259b0fcf",
   "metadata": {},
   "outputs": [],
   "source": [
    "import pandas as pd"
   ]
  },
  {
   "cell_type": "code",
   "execution_count": 7,
   "id": "46bc2ee1",
   "metadata": {},
   "outputs": [],
   "source": [
    "final_stimuli_set = pd.read_pickle(SAVE_PATH)"
   ]
  },
  {
   "cell_type": "code",
   "execution_count": 8,
   "id": "877be716",
   "metadata": {},
   "outputs": [],
   "source": [
    "final_stimuli_set = final_stimuli_set.sort_values(by = 'dummy_id')"
   ]
  },
  {
   "cell_type": "code",
   "execution_count": 9,
   "id": "c88117d0",
   "metadata": {},
   "outputs": [
    {
     "data": {
      "text/html": [
       "<div>\n",
       "<style scoped>\n",
       "    .dataframe tbody tr th:only-of-type {\n",
       "        vertical-align: middle;\n",
       "    }\n",
       "\n",
       "    .dataframe tbody tr th {\n",
       "        vertical-align: top;\n",
       "    }\n",
       "\n",
       "    .dataframe thead th {\n",
       "        text-align: right;\n",
       "    }\n",
       "</style>\n",
       "<table border=\"1\" class=\"dataframe\">\n",
       "  <thead>\n",
       "    <tr style=\"text-align: right;\">\n",
       "      <th></th>\n",
       "      <th>file</th>\n",
       "      <th>type</th>\n",
       "      <th>dummy_id</th>\n",
       "      <th>sr</th>\n",
       "      <th>length</th>\n",
       "      <th>length_sec</th>\n",
       "      <th>SDoTMF</th>\n",
       "      <th>m_tmf</th>\n",
       "      <th>designation</th>\n",
       "      <th>config_id</th>\n",
       "      <th>stim_name</th>\n",
       "      <th>stim_path</th>\n",
       "    </tr>\n",
       "  </thead>\n",
       "  <tbody>\n",
       "    <tr>\n",
       "      <th>1</th>\n",
       "      <td>/mnt/cube/j8xing/starling_rhythm_mfdfa/data/s_...</td>\n",
       "      <td>empirical</td>\n",
       "      <td>1</td>\n",
       "      <td>48000</td>\n",
       "      <td>467898</td>\n",
       "      <td>9.747875</td>\n",
       "      <td>[19.66101836164837, 20.21793009084281, 20.2690...</td>\n",
       "      <td>21.834898</td>\n",
       "      <td>training</td>\n",
       "      <td>0</td>\n",
       "      <td>empirical_0_training.wav</td>\n",
       "      <td>/mnt/cube/j8xing/starling_rhythm_mfdfa/data/s_...</td>\n",
       "    </tr>\n",
       "    <tr>\n",
       "      <th>151</th>\n",
       "      <td>/mnt/cube/j8xing/starling_rhythm_mfdfa/data/s_...</td>\n",
       "      <td>quantized</td>\n",
       "      <td>1</td>\n",
       "      <td>48000</td>\n",
       "      <td>465593</td>\n",
       "      <td>9.699854</td>\n",
       "      <td>[17.137967150402908, 25.243150039033672, 21.85...</td>\n",
       "      <td>19.922946</td>\n",
       "      <td>training</td>\n",
       "      <td>0</td>\n",
       "      <td>quantized_0_training.wav</td>\n",
       "      <td>/mnt/cube/j8xing/starling_rhythm_mfdfa/data/s_...</td>\n",
       "    </tr>\n",
       "    <tr>\n",
       "      <th>2</th>\n",
       "      <td>/mnt/cube/j8xing/starling_rhythm_mfdfa/data/s_...</td>\n",
       "      <td>empirical</td>\n",
       "      <td>2</td>\n",
       "      <td>48000</td>\n",
       "      <td>454744</td>\n",
       "      <td>9.473833</td>\n",
       "      <td>[21.922282662133654, 15.047856431800726, 15.22...</td>\n",
       "      <td>17.500378</td>\n",
       "      <td>training</td>\n",
       "      <td>1</td>\n",
       "      <td>empirical_1_training.wav</td>\n",
       "      <td>/mnt/cube/j8xing/starling_rhythm_mfdfa/data/s_...</td>\n",
       "    </tr>\n",
       "    <tr>\n",
       "      <th>152</th>\n",
       "      <td>/mnt/cube/j8xing/starling_rhythm_mfdfa/data/s_...</td>\n",
       "      <td>quantized</td>\n",
       "      <td>2</td>\n",
       "      <td>48000</td>\n",
       "      <td>455697</td>\n",
       "      <td>9.493688</td>\n",
       "      <td>[17.25762826877478, 15.198153185191432, 12.731...</td>\n",
       "      <td>14.821636</td>\n",
       "      <td>training</td>\n",
       "      <td>1</td>\n",
       "      <td>quantized_1_training.wav</td>\n",
       "      <td>/mnt/cube/j8xing/starling_rhythm_mfdfa/data/s_...</td>\n",
       "    </tr>\n",
       "    <tr>\n",
       "      <th>3</th>\n",
       "      <td>/mnt/cube/j8xing/starling_rhythm_mfdfa/data/s_...</td>\n",
       "      <td>empirical</td>\n",
       "      <td>3</td>\n",
       "      <td>48000</td>\n",
       "      <td>447108</td>\n",
       "      <td>9.314750</td>\n",
       "      <td>[11.695198795424167, 9.535884576389707, 7.7967...</td>\n",
       "      <td>9.521889</td>\n",
       "      <td>training</td>\n",
       "      <td>2</td>\n",
       "      <td>empirical_2_training.wav</td>\n",
       "      <td>/mnt/cube/j8xing/starling_rhythm_mfdfa/data/s_...</td>\n",
       "    </tr>\n",
       "    <tr>\n",
       "      <th>...</th>\n",
       "      <td>...</td>\n",
       "      <td>...</td>\n",
       "      <td>...</td>\n",
       "      <td>...</td>\n",
       "      <td>...</td>\n",
       "      <td>...</td>\n",
       "      <td>...</td>\n",
       "      <td>...</td>\n",
       "      <td>...</td>\n",
       "      <td>...</td>\n",
       "      <td>...</td>\n",
       "      <td>...</td>\n",
       "    </tr>\n",
       "    <tr>\n",
       "      <th>297</th>\n",
       "      <td>/mnt/cube/j8xing/starling_rhythm_mfdfa/data/s_...</td>\n",
       "      <td>quantized</td>\n",
       "      <td>147</td>\n",
       "      <td>48000</td>\n",
       "      <td>453636</td>\n",
       "      <td>9.450750</td>\n",
       "      <td>[24.142468598686342, 21.000518552260566, 23.68...</td>\n",
       "      <td>25.712599</td>\n",
       "      <td>training</td>\n",
       "      <td>62</td>\n",
       "      <td>quantized_62_training.wav</td>\n",
       "      <td>/mnt/cube/j8xing/starling_rhythm_mfdfa/data/s_...</td>\n",
       "    </tr>\n",
       "    <tr>\n",
       "      <th>298</th>\n",
       "      <td>/mnt/cube/j8xing/starling_rhythm_mfdfa/data/s_...</td>\n",
       "      <td>quantized</td>\n",
       "      <td>148</td>\n",
       "      <td>48000</td>\n",
       "      <td>441303</td>\n",
       "      <td>9.193812</td>\n",
       "      <td>[17.956093881849668, 20.936387076315437, 20.26...</td>\n",
       "      <td>20.521946</td>\n",
       "      <td>test</td>\n",
       "      <td>30</td>\n",
       "      <td>quantized_30_test.wav</td>\n",
       "      <td>/mnt/cube/j8xing/starling_rhythm_mfdfa/data/s_...</td>\n",
       "    </tr>\n",
       "    <tr>\n",
       "      <th>148</th>\n",
       "      <td>/mnt/cube/j8xing/starling_rhythm_mfdfa/data/s_...</td>\n",
       "      <td>empirical</td>\n",
       "      <td>148</td>\n",
       "      <td>48000</td>\n",
       "      <td>438568</td>\n",
       "      <td>9.136833</td>\n",
       "      <td>[30.87308155338151, 20.25095073107289, 22.3972...</td>\n",
       "      <td>26.559372</td>\n",
       "      <td>test</td>\n",
       "      <td>30</td>\n",
       "      <td>empirical_30_test.wav</td>\n",
       "      <td>/mnt/cube/j8xing/starling_rhythm_mfdfa/data/s_...</td>\n",
       "    </tr>\n",
       "    <tr>\n",
       "      <th>299</th>\n",
       "      <td>/mnt/cube/j8xing/starling_rhythm_mfdfa/data/s_...</td>\n",
       "      <td>quantized</td>\n",
       "      <td>149</td>\n",
       "      <td>48000</td>\n",
       "      <td>447978</td>\n",
       "      <td>9.332875</td>\n",
       "      <td>[35.16046506093805, 34.295470578738374, 31.533...</td>\n",
       "      <td>38.396281</td>\n",
       "      <td>training</td>\n",
       "      <td>63</td>\n",
       "      <td>quantized_63_training.wav</td>\n",
       "      <td>/mnt/cube/j8xing/starling_rhythm_mfdfa/data/s_...</td>\n",
       "    </tr>\n",
       "    <tr>\n",
       "      <th>149</th>\n",
       "      <td>/mnt/cube/j8xing/starling_rhythm_mfdfa/data/s_...</td>\n",
       "      <td>empirical</td>\n",
       "      <td>149</td>\n",
       "      <td>48000</td>\n",
       "      <td>449844</td>\n",
       "      <td>9.371750</td>\n",
       "      <td>[25.805455901844542, 34.72625418892775, 35.103...</td>\n",
       "      <td>31.942053</td>\n",
       "      <td>training</td>\n",
       "      <td>63</td>\n",
       "      <td>empirical_63_training.wav</td>\n",
       "      <td>/mnt/cube/j8xing/starling_rhythm_mfdfa/data/s_...</td>\n",
       "    </tr>\n",
       "  </tbody>\n",
       "</table>\n",
       "<p>190 rows × 12 columns</p>\n",
       "</div>"
      ],
      "text/plain": [
       "                                                  file       type  dummy_id  \\\n",
       "1    /mnt/cube/j8xing/starling_rhythm_mfdfa/data/s_...  empirical         1   \n",
       "151  /mnt/cube/j8xing/starling_rhythm_mfdfa/data/s_...  quantized         1   \n",
       "2    /mnt/cube/j8xing/starling_rhythm_mfdfa/data/s_...  empirical         2   \n",
       "152  /mnt/cube/j8xing/starling_rhythm_mfdfa/data/s_...  quantized         2   \n",
       "3    /mnt/cube/j8xing/starling_rhythm_mfdfa/data/s_...  empirical         3   \n",
       "..                                                 ...        ...       ...   \n",
       "297  /mnt/cube/j8xing/starling_rhythm_mfdfa/data/s_...  quantized       147   \n",
       "298  /mnt/cube/j8xing/starling_rhythm_mfdfa/data/s_...  quantized       148   \n",
       "148  /mnt/cube/j8xing/starling_rhythm_mfdfa/data/s_...  empirical       148   \n",
       "299  /mnt/cube/j8xing/starling_rhythm_mfdfa/data/s_...  quantized       149   \n",
       "149  /mnt/cube/j8xing/starling_rhythm_mfdfa/data/s_...  empirical       149   \n",
       "\n",
       "        sr  length  length_sec  \\\n",
       "1    48000  467898    9.747875   \n",
       "151  48000  465593    9.699854   \n",
       "2    48000  454744    9.473833   \n",
       "152  48000  455697    9.493688   \n",
       "3    48000  447108    9.314750   \n",
       "..     ...     ...         ...   \n",
       "297  48000  453636    9.450750   \n",
       "298  48000  441303    9.193812   \n",
       "148  48000  438568    9.136833   \n",
       "299  48000  447978    9.332875   \n",
       "149  48000  449844    9.371750   \n",
       "\n",
       "                                                SDoTMF      m_tmf designation  \\\n",
       "1    [19.66101836164837, 20.21793009084281, 20.2690...  21.834898    training   \n",
       "151  [17.137967150402908, 25.243150039033672, 21.85...  19.922946    training   \n",
       "2    [21.922282662133654, 15.047856431800726, 15.22...  17.500378    training   \n",
       "152  [17.25762826877478, 15.198153185191432, 12.731...  14.821636    training   \n",
       "3    [11.695198795424167, 9.535884576389707, 7.7967...   9.521889    training   \n",
       "..                                                 ...        ...         ...   \n",
       "297  [24.142468598686342, 21.000518552260566, 23.68...  25.712599    training   \n",
       "298  [17.956093881849668, 20.936387076315437, 20.26...  20.521946        test   \n",
       "148  [30.87308155338151, 20.25095073107289, 22.3972...  26.559372        test   \n",
       "299  [35.16046506093805, 34.295470578738374, 31.533...  38.396281    training   \n",
       "149  [25.805455901844542, 34.72625418892775, 35.103...  31.942053    training   \n",
       "\n",
       "     config_id                  stim_name  \\\n",
       "1            0   empirical_0_training.wav   \n",
       "151          0   quantized_0_training.wav   \n",
       "2            1   empirical_1_training.wav   \n",
       "152          1   quantized_1_training.wav   \n",
       "3            2   empirical_2_training.wav   \n",
       "..         ...                        ...   \n",
       "297         62  quantized_62_training.wav   \n",
       "298         30      quantized_30_test.wav   \n",
       "148         30      empirical_30_test.wav   \n",
       "299         63  quantized_63_training.wav   \n",
       "149         63  empirical_63_training.wav   \n",
       "\n",
       "                                             stim_path  \n",
       "1    /mnt/cube/j8xing/starling_rhythm_mfdfa/data/s_...  \n",
       "151  /mnt/cube/j8xing/starling_rhythm_mfdfa/data/s_...  \n",
       "2    /mnt/cube/j8xing/starling_rhythm_mfdfa/data/s_...  \n",
       "152  /mnt/cube/j8xing/starling_rhythm_mfdfa/data/s_...  \n",
       "3    /mnt/cube/j8xing/starling_rhythm_mfdfa/data/s_...  \n",
       "..                                                 ...  \n",
       "297  /mnt/cube/j8xing/starling_rhythm_mfdfa/data/s_...  \n",
       "298  /mnt/cube/j8xing/starling_rhythm_mfdfa/data/s_...  \n",
       "148  /mnt/cube/j8xing/starling_rhythm_mfdfa/data/s_...  \n",
       "299  /mnt/cube/j8xing/starling_rhythm_mfdfa/data/s_...  \n",
       "149  /mnt/cube/j8xing/starling_rhythm_mfdfa/data/s_...  \n",
       "\n",
       "[190 rows x 12 columns]"
      ]
     },
     "execution_count": 9,
     "metadata": {},
     "output_type": "execute_result"
    }
   ],
   "source": [
    "final_stimuli_set"
   ]
  },
  {
   "cell_type": "markdown",
   "id": "939b4b3f",
   "metadata": {},
   "source": [
    "## Input immutable information"
   ]
  },
  {
   "cell_type": "code",
   "execution_count": 10,
   "id": "f69a46e1",
   "metadata": {},
   "outputs": [],
   "source": [
    "import json"
   ]
  },
  {
   "cell_type": "code",
   "execution_count": 11,
   "id": "793e6f8d",
   "metadata": {},
   "outputs": [],
   "source": [
    "json_skeleton = {\n",
    "    \"comments\": \"json doesn't support comments\",\n",
    "    \"experimenter\": {\n",
    "        \"name\": \"Jeffrey Xing\",\n",
    "        \"email\": \"j8xing@ucsd.edu\"\n",
    "    },\n",
    "    \"subject\": \"B9999\",\n",
    "    \"panel_name\": \"magpi01\",\n",
    "    \"experiment_path\": \"/home/bird/opdat/B9999\",\n",
    "    \"stim_path\": \"/home/bird/opdat/B9999/stimuli\",\n",
    "    \"test_stim_path\": \"/home/bird/opdat/B9999/stimuli\",\n",
    "    \"name\": \"Quantization Detection Task\",\n",
    "    \"description\": \"Discriminate between empirical synthesis and quantized synthesis\",\n",
    "    \"debug\": True, \n",
    "    \"log_handlers\": [],\n",
    "    'stims': {},\n",
    "    \"test_conds\": {},\n",
    "    \"current_available_motifs\": 1,\n",
    "    \"classes\": {\n",
    "        \"L\": {\n",
    "            \"reward_value\": 2.0,\n",
    "            \"punish_value\": 10.0,\n",
    "            \"component\": \"left\"\n",
    "        },\n",
    "        \"R\": {\n",
    "            \"reward_value\": 2.0,\n",
    "            \"punish_value\": 10.0,\n",
    "            \"component\": \"right\"\n",
    "        }\n",
    "    },\n",
    "    \"block_design\": {\n",
    "        \"blocks\": {\n",
    "            \"default\": {\n",
    "                \"queue\": \"block\",\n",
    "                \"conditions\": []\n",
    "            }\n",
    "        },\n",
    "        \"order\": [\"default\"]\n",
    "    },\n",
    "    \"category_conditions\" : [\n",
    "        {\"class\": \"L\", \"stim_name\": \"1\"},\n",
    "        {\"class\": \"R\", \"stim_name\": \"0\"}\n",
    "    ],\n",
    "    \"reinforcement\": {\n",
    "        \"schedule\": \"fixed_ratio\",\n",
    "        \"ratio\": 1,\n",
    "        \"secondary\": True,\n",
    "        \"test\": \"random\"\n",
    "    },\n",
    "    \"correction_trials\": True,\n",
    "    \"response_win\": 5.0,\n",
    "    \"intertrial_min\": 5.0,\n",
    "    \"forced_choice\": False,\n",
    "    \"light_schedule\": \"sun\",\n",
    "    \"distribution_type\": \"amodal\",\n",
    "    \"trial_condition\": \"equal\",\n",
    "    \"inject_test\": True,\n",
    "    \n",
    "    \"sr\": 48000,\n",
    "    \"shape\": False,\n",
    "    \n",
    "    \"test_conditions\":[],\n",
    "    \"force_test_threshold\": 10,\n",
    "    \"n_test_motifs\": 0,\n",
    "    \"test_rate\": 0.5, \n",
    "    \n",
    "    \"left_stims\": {},\n",
    "    \"right_stims\": {}\n",
    "}"
   ]
  },
  {
   "cell_type": "markdown",
   "id": "425e6e02",
   "metadata": {},
   "source": [
    "## Insert training stimuli"
   ]
  },
  {
   "cell_type": "code",
   "execution_count": 12,
   "id": "02ef1e02",
   "metadata": {},
   "outputs": [],
   "source": [
    "emp_df = final_stimuli_set[(final_stimuli_set['type'] == 'empirical') & (final_stimuli_set['designation'] == 'training')]\n",
    "qua_df = final_stimuli_set[(final_stimuli_set['type'] == 'quantized') & (final_stimuli_set['designation'] == 'training')]"
   ]
  },
  {
   "cell_type": "code",
   "execution_count": 13,
   "id": "7135d52d",
   "metadata": {},
   "outputs": [],
   "source": [
    "left_stims = {}\n",
    "right_stims = {}\n",
    "\n",
    "for index, wav in emp_df.iterrows():\n",
    "    left_stims[str(wav['config_id'])] = str(wav['stim_path']).split('/')[-1]\n",
    "    \n",
    "for index, wav in qua_df.iterrows():\n",
    "    right_stims[str(wav['config_id'])] = str(wav['stim_path']).split('/')[-1]"
   ]
  },
  {
   "cell_type": "code",
   "execution_count": 14,
   "id": "08ef176f",
   "metadata": {},
   "outputs": [],
   "source": [
    "json_skeleton['left_stims'] = left_stims\n",
    "json_skeleton['right_stims'] = right_stims"
   ]
  },
  {
   "cell_type": "markdown",
   "id": "4863ad1b",
   "metadata": {},
   "source": [
    "## Insert test stimuli"
   ]
  },
  {
   "cell_type": "code",
   "execution_count": 15,
   "id": "b8109c94",
   "metadata": {},
   "outputs": [],
   "source": [
    "test_emp_df = final_stimuli_set[(final_stimuli_set['type'] == 'empirical') & (final_stimuli_set['designation'] == 'test')]\n",
    "test_qua_df = final_stimuli_set[(final_stimuli_set['type'] == 'quantized') & (final_stimuli_set['designation'] == 'test')]"
   ]
  },
  {
   "cell_type": "code",
   "execution_count": 16,
   "id": "d1737a17",
   "metadata": {},
   "outputs": [],
   "source": [
    "test_conditions = []\n",
    "\n",
    "for index, wav in test_emp_df.iterrows():\n",
    "    cond = {}\n",
    "    \n",
    "    if wav['type'] == 'quantized':\n",
    "        side = 'R'\n",
    "    if wav['type'] == 'empirical':\n",
    "        side = 'L'\n",
    "    \n",
    "    cond['class'] = side\n",
    "    cond['stim_name'] = wav['stim_name']\n",
    "\n",
    "    test_conditions.append(cond)\n",
    "    \n",
    "for index, wav in test_qua_df.iterrows():\n",
    "    cond = {}\n",
    "    \n",
    "    if wav['type'] == 'quantized':\n",
    "        side = 'R'\n",
    "    if wav['type'] == 'empirical':\n",
    "        side = 'L'\n",
    "    \n",
    "    cond['class'] = side\n",
    "    cond['stim_name'] = wav['stim_name']\n",
    "\n",
    "    test_conditions.append(cond)"
   ]
  },
  {
   "cell_type": "code",
   "execution_count": 17,
   "id": "ea4142eb",
   "metadata": {},
   "outputs": [],
   "source": [
    "json_skeleton['test_conditions'] = test_conditions"
   ]
  },
  {
   "cell_type": "markdown",
   "id": "fa54ae21",
   "metadata": {},
   "source": [
    "## Write JSON"
   ]
  },
  {
   "cell_type": "code",
   "execution_count": 18,
   "id": "675cb5d1",
   "metadata": {},
   "outputs": [],
   "source": [
    "json_output = json.dumps(json_skeleton, indent=4)\n",
    "\n",
    "with open('TwoAC_Quant.json', 'w') as outfile:\n",
    "    outfile.write(json_output)"
   ]
  },
  {
   "cell_type": "code",
   "execution_count": 19,
   "id": "adcc4ecd",
   "metadata": {},
   "outputs": [
    {
     "data": {
      "text/plain": [
       "'{\\n    \"comments\": \"json doesn\\'t support comments\",\\n    \"experimenter\": {\\n        \"name\": \"Jeffrey Xing\",\\n        \"email\": \"j8xing@ucsd.edu\"\\n    },\\n    \"subject\": \"B9999\",\\n    \"panel_name\": \"magpi01\",\\n    \"experiment_path\": \"/home/bird/opdat/B9999\",\\n    \"stim_path\": \"/home/bird/opdat/B9999/stimuli\",\\n    \"name\": \"Quantization Detection Task\",\\n    \"description\": \"Discriminate between empirical synthesis and quantized synthesis\",\\n    \"debug\": true,\\n    \"log_handlers\": [],\\n    \"stims\": {},\\n    \"test_conds\": {},\\n    \"current_available_motifs\": 1,\\n    \"classes\": {\\n        \"L\": {\\n            \"reward_value\": 2.0,\\n            \"punish_value\": 10.0,\\n            \"component\": \"left\"\\n        },\\n        \"R\": {\\n            \"reward_value\": 2.0,\\n            \"punish_value\": 10.0,\\n            \"component\": \"right\"\\n        }\\n    },\\n    \"block_design\": {\\n        \"blocks\": {\\n            \"default\": {\\n                \"queue\": \"block\",\\n                \"conditions\": []\\n            }\\n        },\\n        \"order\": [\\n            \"default\"\\n        ]\\n    },\\n    \"category_conditions\": [\\n        {\\n            \"class\": \"L\",\\n            \"stim_name\": \"1\"\\n        },\\n        {\\n            \"class\": \"R\",\\n            \"stim_name\": \"0\"\\n        }\\n    ],\\n    \"reinforcement\": {\\n        \"schedule\": \"fixed_ratio\",\\n        \"ratio\": 1,\\n        \"secondary\": true,\\n        \"test\": \"random\"\\n    },\\n    \"correction_trials\": true,\\n    \"response_win\": 5.0,\\n    \"intertrial_min\": 5.0,\\n    \"forced_choice\": false,\\n    \"light_schedule\": \"sun\",\\n    \"distribution_type\": \"amodal\",\\n    \"trial_condition\": \"equal\",\\n    \"inject_test\": true,\\n    \"sr\": 48000,\\n    \"shape\": false,\\n    \"test_conditions\": [\\n        {\\n            \"class\": \"L\",\\n            \"stim_name\": \"empirical_0_test.wav\"\\n        },\\n        {\\n            \"class\": \"L\",\\n            \"stim_name\": \"empirical_1_test.wav\"\\n        },\\n        {\\n            \"class\": \"L\",\\n            \"stim_name\": \"empirical_2_test.wav\"\\n        },\\n        {\\n            \"class\": \"L\",\\n            \"stim_name\": \"empirical_3_test.wav\"\\n        },\\n        {\\n            \"class\": \"L\",\\n            \"stim_name\": \"empirical_4_test.wav\"\\n        },\\n        {\\n            \"class\": \"L\",\\n            \"stim_name\": \"empirical_5_test.wav\"\\n        },\\n        {\\n            \"class\": \"L\",\\n            \"stim_name\": \"empirical_6_test.wav\"\\n        },\\n        {\\n            \"class\": \"L\",\\n            \"stim_name\": \"empirical_7_test.wav\"\\n        },\\n        {\\n            \"class\": \"L\",\\n            \"stim_name\": \"empirical_8_test.wav\"\\n        },\\n        {\\n            \"class\": \"L\",\\n            \"stim_name\": \"empirical_9_test.wav\"\\n        },\\n        {\\n            \"class\": \"L\",\\n            \"stim_name\": \"empirical_10_test.wav\"\\n        },\\n        {\\n            \"class\": \"L\",\\n            \"stim_name\": \"empirical_11_test.wav\"\\n        },\\n        {\\n            \"class\": \"L\",\\n            \"stim_name\": \"empirical_12_test.wav\"\\n        },\\n        {\\n            \"class\": \"L\",\\n            \"stim_name\": \"empirical_13_test.wav\"\\n        },\\n        {\\n            \"class\": \"L\",\\n            \"stim_name\": \"empirical_14_test.wav\"\\n        },\\n        {\\n            \"class\": \"L\",\\n            \"stim_name\": \"empirical_15_test.wav\"\\n        },\\n        {\\n            \"class\": \"L\",\\n            \"stim_name\": \"empirical_16_test.wav\"\\n        },\\n        {\\n            \"class\": \"L\",\\n            \"stim_name\": \"empirical_17_test.wav\"\\n        },\\n        {\\n            \"class\": \"L\",\\n            \"stim_name\": \"empirical_18_test.wav\"\\n        },\\n        {\\n            \"class\": \"L\",\\n            \"stim_name\": \"empirical_19_test.wav\"\\n        },\\n        {\\n            \"class\": \"L\",\\n            \"stim_name\": \"empirical_20_test.wav\"\\n        },\\n        {\\n            \"class\": \"L\",\\n            \"stim_name\": \"empirical_21_test.wav\"\\n        },\\n        {\\n            \"class\": \"L\",\\n            \"stim_name\": \"empirical_22_test.wav\"\\n        },\\n        {\\n            \"class\": \"L\",\\n            \"stim_name\": \"empirical_23_test.wav\"\\n        },\\n        {\\n            \"class\": \"L\",\\n            \"stim_name\": \"empirical_24_test.wav\"\\n        },\\n        {\\n            \"class\": \"L\",\\n            \"stim_name\": \"empirical_25_test.wav\"\\n        },\\n        {\\n            \"class\": \"L\",\\n            \"stim_name\": \"empirical_26_test.wav\"\\n        },\\n        {\\n            \"class\": \"L\",\\n            \"stim_name\": \"empirical_27_test.wav\"\\n        },\\n        {\\n            \"class\": \"L\",\\n            \"stim_name\": \"empirical_28_test.wav\"\\n        },\\n        {\\n            \"class\": \"L\",\\n            \"stim_name\": \"empirical_29_test.wav\"\\n        },\\n        {\\n            \"class\": \"L\",\\n            \"stim_name\": \"empirical_30_test.wav\"\\n        },\\n        {\\n            \"class\": \"R\",\\n            \"stim_name\": \"quantized_0_test.wav\"\\n        },\\n        {\\n            \"class\": \"R\",\\n            \"stim_name\": \"quantized_1_test.wav\"\\n        },\\n        {\\n            \"class\": \"R\",\\n            \"stim_name\": \"quantized_2_test.wav\"\\n        },\\n        {\\n            \"class\": \"R\",\\n            \"stim_name\": \"quantized_3_test.wav\"\\n        },\\n        {\\n            \"class\": \"R\",\\n            \"stim_name\": \"quantized_4_test.wav\"\\n        },\\n        {\\n            \"class\": \"R\",\\n            \"stim_name\": \"quantized_5_test.wav\"\\n        },\\n        {\\n            \"class\": \"R\",\\n            \"stim_name\": \"quantized_6_test.wav\"\\n        },\\n        {\\n            \"class\": \"R\",\\n            \"stim_name\": \"quantized_7_test.wav\"\\n        },\\n        {\\n            \"class\": \"R\",\\n            \"stim_name\": \"quantized_8_test.wav\"\\n        },\\n        {\\n            \"class\": \"R\",\\n            \"stim_name\": \"quantized_9_test.wav\"\\n        },\\n        {\\n            \"class\": \"R\",\\n            \"stim_name\": \"quantized_10_test.wav\"\\n        },\\n        {\\n            \"class\": \"R\",\\n            \"stim_name\": \"quantized_11_test.wav\"\\n        },\\n        {\\n            \"class\": \"R\",\\n            \"stim_name\": \"quantized_12_test.wav\"\\n        },\\n        {\\n            \"class\": \"R\",\\n            \"stim_name\": \"quantized_13_test.wav\"\\n        },\\n        {\\n            \"class\": \"R\",\\n            \"stim_name\": \"quantized_14_test.wav\"\\n        },\\n        {\\n            \"class\": \"R\",\\n            \"stim_name\": \"quantized_15_test.wav\"\\n        },\\n        {\\n            \"class\": \"R\",\\n            \"stim_name\": \"quantized_16_test.wav\"\\n        },\\n        {\\n            \"class\": \"R\",\\n            \"stim_name\": \"quantized_17_test.wav\"\\n        },\\n        {\\n            \"class\": \"R\",\\n            \"stim_name\": \"quantized_18_test.wav\"\\n        },\\n        {\\n            \"class\": \"R\",\\n            \"stim_name\": \"quantized_19_test.wav\"\\n        },\\n        {\\n            \"class\": \"R\",\\n            \"stim_name\": \"quantized_20_test.wav\"\\n        },\\n        {\\n            \"class\": \"R\",\\n            \"stim_name\": \"quantized_21_test.wav\"\\n        },\\n        {\\n            \"class\": \"R\",\\n            \"stim_name\": \"quantized_22_test.wav\"\\n        },\\n        {\\n            \"class\": \"R\",\\n            \"stim_name\": \"quantized_23_test.wav\"\\n        },\\n        {\\n            \"class\": \"R\",\\n            \"stim_name\": \"quantized_24_test.wav\"\\n        },\\n        {\\n            \"class\": \"R\",\\n            \"stim_name\": \"quantized_25_test.wav\"\\n        },\\n        {\\n            \"class\": \"R\",\\n            \"stim_name\": \"quantized_26_test.wav\"\\n        },\\n        {\\n            \"class\": \"R\",\\n            \"stim_name\": \"quantized_27_test.wav\"\\n        },\\n        {\\n            \"class\": \"R\",\\n            \"stim_name\": \"quantized_28_test.wav\"\\n        },\\n        {\\n            \"class\": \"R\",\\n            \"stim_name\": \"quantized_29_test.wav\"\\n        },\\n        {\\n            \"class\": \"R\",\\n            \"stim_name\": \"quantized_30_test.wav\"\\n        }\\n    ],\\n    \"force_test_threshold\": 10,\\n    \"n_test_motifs\": 0,\\n    \"test_rate\": 0.5,\\n    \"left_stims\": {\\n        \"0\": \"empirical_0_training.wav\",\\n        \"1\": \"empirical_1_training.wav\",\\n        \"2\": \"empirical_2_training.wav\",\\n        \"3\": \"empirical_3_training.wav\",\\n        \"4\": \"empirical_4_training.wav\",\\n        \"5\": \"empirical_5_training.wav\",\\n        \"6\": \"empirical_6_training.wav\",\\n        \"7\": \"empirical_7_training.wav\",\\n        \"8\": \"empirical_8_training.wav\",\\n        \"9\": \"empirical_9_training.wav\",\\n        \"10\": \"empirical_10_training.wav\",\\n        \"11\": \"empirical_11_training.wav\",\\n        \"12\": \"empirical_12_training.wav\",\\n        \"13\": \"empirical_13_training.wav\",\\n        \"14\": \"empirical_14_training.wav\",\\n        \"15\": \"empirical_15_training.wav\",\\n        \"16\": \"empirical_16_training.wav\",\\n        \"17\": \"empirical_17_training.wav\",\\n        \"18\": \"empirical_18_training.wav\",\\n        \"19\": \"empirical_19_training.wav\",\\n        \"20\": \"empirical_20_training.wav\",\\n        \"21\": \"empirical_21_training.wav\",\\n        \"22\": \"empirical_22_training.wav\",\\n        \"23\": \"empirical_23_training.wav\",\\n        \"24\": \"empirical_24_training.wav\",\\n        \"25\": \"empirical_25_training.wav\",\\n        \"26\": \"empirical_26_training.wav\",\\n        \"27\": \"empirical_27_training.wav\",\\n        \"28\": \"empirical_28_training.wav\",\\n        \"29\": \"empirical_29_training.wav\",\\n        \"30\": \"empirical_30_training.wav\",\\n        \"31\": \"empirical_31_training.wav\",\\n        \"32\": \"empirical_32_training.wav\",\\n        \"33\": \"empirical_33_training.wav\",\\n        \"34\": \"empirical_34_training.wav\",\\n        \"35\": \"empirical_35_training.wav\",\\n        \"36\": \"empirical_36_training.wav\",\\n        \"37\": \"empirical_37_training.wav\",\\n        \"38\": \"empirical_38_training.wav\",\\n        \"39\": \"empirical_39_training.wav\",\\n        \"40\": \"empirical_40_training.wav\",\\n        \"41\": \"empirical_41_training.wav\",\\n        \"42\": \"empirical_42_training.wav\",\\n        \"43\": \"empirical_43_training.wav\",\\n        \"44\": \"empirical_44_training.wav\",\\n        \"45\": \"empirical_45_training.wav\",\\n        \"46\": \"empirical_46_training.wav\",\\n        \"47\": \"empirical_47_training.wav\",\\n        \"48\": \"empirical_48_training.wav\",\\n        \"49\": \"empirical_49_training.wav\",\\n        \"50\": \"empirical_50_training.wav\",\\n        \"51\": \"empirical_51_training.wav\",\\n        \"52\": \"empirical_52_training.wav\",\\n        \"53\": \"empirical_53_training.wav\",\\n        \"54\": \"empirical_54_training.wav\",\\n        \"55\": \"empirical_55_training.wav\",\\n        \"56\": \"empirical_56_training.wav\",\\n        \"57\": \"empirical_57_training.wav\",\\n        \"58\": \"empirical_58_training.wav\",\\n        \"59\": \"empirical_59_training.wav\",\\n        \"60\": \"empirical_60_training.wav\",\\n        \"61\": \"empirical_61_training.wav\",\\n        \"62\": \"empirical_62_training.wav\",\\n        \"63\": \"empirical_63_training.wav\"\\n    },\\n    \"right_stims\": {\\n        \"0\": \"quantized_0_training.wav\",\\n        \"1\": \"quantized_1_training.wav\",\\n        \"2\": \"quantized_2_training.wav\",\\n        \"3\": \"quantized_3_training.wav\",\\n        \"4\": \"quantized_4_training.wav\",\\n        \"5\": \"quantized_5_training.wav\",\\n        \"6\": \"quantized_6_training.wav\",\\n        \"7\": \"quantized_7_training.wav\",\\n        \"8\": \"quantized_8_training.wav\",\\n        \"9\": \"quantized_9_training.wav\",\\n        \"10\": \"quantized_10_training.wav\",\\n        \"11\": \"quantized_11_training.wav\",\\n        \"12\": \"quantized_12_training.wav\",\\n        \"13\": \"quantized_13_training.wav\",\\n        \"14\": \"quantized_14_training.wav\",\\n        \"15\": \"quantized_15_training.wav\",\\n        \"16\": \"quantized_16_training.wav\",\\n        \"17\": \"quantized_17_training.wav\",\\n        \"18\": \"quantized_18_training.wav\",\\n        \"19\": \"quantized_19_training.wav\",\\n        \"20\": \"quantized_20_training.wav\",\\n        \"21\": \"quantized_21_training.wav\",\\n        \"22\": \"quantized_22_training.wav\",\\n        \"23\": \"quantized_23_training.wav\",\\n        \"24\": \"quantized_24_training.wav\",\\n        \"25\": \"quantized_25_training.wav\",\\n        \"26\": \"quantized_26_training.wav\",\\n        \"27\": \"quantized_27_training.wav\",\\n        \"28\": \"quantized_28_training.wav\",\\n        \"29\": \"quantized_29_training.wav\",\\n        \"30\": \"quantized_30_training.wav\",\\n        \"31\": \"quantized_31_training.wav\",\\n        \"32\": \"quantized_32_training.wav\",\\n        \"33\": \"quantized_33_training.wav\",\\n        \"34\": \"quantized_34_training.wav\",\\n        \"35\": \"quantized_35_training.wav\",\\n        \"36\": \"quantized_36_training.wav\",\\n        \"37\": \"quantized_37_training.wav\",\\n        \"38\": \"quantized_38_training.wav\",\\n        \"39\": \"quantized_39_training.wav\",\\n        \"40\": \"quantized_40_training.wav\",\\n        \"41\": \"quantized_41_training.wav\",\\n        \"42\": \"quantized_42_training.wav\",\\n        \"43\": \"quantized_43_training.wav\",\\n        \"44\": \"quantized_44_training.wav\",\\n        \"45\": \"quantized_45_training.wav\",\\n        \"46\": \"quantized_46_training.wav\",\\n        \"47\": \"quantized_47_training.wav\",\\n        \"48\": \"quantized_48_training.wav\",\\n        \"49\": \"quantized_49_training.wav\",\\n        \"50\": \"quantized_50_training.wav\",\\n        \"51\": \"quantized_51_training.wav\",\\n        \"52\": \"quantized_52_training.wav\",\\n        \"53\": \"quantized_53_training.wav\",\\n        \"54\": \"quantized_54_training.wav\",\\n        \"55\": \"quantized_55_training.wav\",\\n        \"56\": \"quantized_56_training.wav\",\\n        \"57\": \"quantized_57_training.wav\",\\n        \"58\": \"quantized_58_training.wav\",\\n        \"59\": \"quantized_59_training.wav\",\\n        \"60\": \"quantized_60_training.wav\",\\n        \"61\": \"quantized_61_training.wav\",\\n        \"62\": \"quantized_62_training.wav\",\\n        \"63\": \"quantized_63_training.wav\"\\n    }\\n}'"
      ]
     },
     "execution_count": 19,
     "metadata": {},
     "output_type": "execute_result"
    }
   ],
   "source": [
    "json_output"
   ]
  },
  {
   "cell_type": "code",
   "execution_count": null,
   "id": "82173753",
   "metadata": {},
   "outputs": [],
   "source": []
  },
  {
   "cell_type": "code",
   "execution_count": null,
   "id": "6f1aec3a",
   "metadata": {},
   "outputs": [],
   "source": []
  },
  {
   "cell_type": "code",
   "execution_count": 21,
   "id": "3476cc9f",
   "metadata": {},
   "outputs": [],
   "source": [
    "import random"
   ]
  },
  {
   "cell_type": "code",
   "execution_count": 24,
   "id": "662c994d",
   "metadata": {},
   "outputs": [],
   "source": [
    "test_rate = 0.5"
   ]
  },
  {
   "cell_type": "code",
   "execution_count": 82,
   "id": "5d551ffb",
   "metadata": {},
   "outputs": [
    {
     "data": {
      "text/plain": [
       "False"
      ]
     },
     "execution_count": 82,
     "metadata": {},
     "output_type": "execute_result"
    }
   ],
   "source": [
    "(random.random()<test_rate)"
   ]
  },
  {
   "cell_type": "code",
   "execution_count": null,
   "id": "b823d92c",
   "metadata": {},
   "outputs": [],
   "source": []
  }
 ],
 "metadata": {
  "kernelspec": {
   "display_name": "starling_rhythm",
   "language": "python",
   "name": "starling_rhythm"
  },
  "language_info": {
   "codemirror_mode": {
    "name": "ipython",
    "version": 3
   },
   "file_extension": ".py",
   "mimetype": "text/x-python",
   "name": "python",
   "nbconvert_exporter": "python",
   "pygments_lexer": "ipython3",
   "version": "3.10.10"
  }
 },
 "nbformat": 4,
 "nbformat_minor": 5
}
