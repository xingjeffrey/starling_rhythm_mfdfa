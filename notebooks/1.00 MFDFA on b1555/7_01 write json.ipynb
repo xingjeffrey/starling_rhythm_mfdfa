{
 "cells": [
  {
   "cell_type": "markdown",
   "id": "e71824eb",
   "metadata": {},
   "source": [
    "# Write json config for pyoperant"
   ]
  },
  {
   "cell_type": "code",
   "execution_count": 1,
   "id": "db0ea226",
   "metadata": {},
   "outputs": [],
   "source": [
    "from starling_rhythm.utils.paths import PROCESSED_DIR, ensure_dir"
   ]
  },
  {
   "cell_type": "code",
   "execution_count": 14,
   "id": "238e417e",
   "metadata": {},
   "outputs": [
    {
     "data": {
      "text/plain": [
       "PosixPath('/mnt/cube/j8xing/starling_rhythm_mfdfa/data')"
      ]
     },
     "execution_count": 14,
     "metadata": {},
     "output_type": "execute_result"
    }
   ],
   "source": [
    "PROCESSED_DIR"
   ]
  },
  {
   "cell_type": "code",
   "execution_count": 15,
   "id": "28824c96",
   "metadata": {},
   "outputs": [],
   "source": [
    "from pathlib2 import Path"
   ]
  },
  {
   "cell_type": "code",
   "execution_count": 20,
   "id": "da90f047",
   "metadata": {},
   "outputs": [],
   "source": [
    "TOP_DIR = Path('/mnt/cube/j8xing/starling_rhythm_mfdfa')"
   ]
  },
  {
   "cell_type": "code",
   "execution_count": 21,
   "id": "dfe9926f",
   "metadata": {},
   "outputs": [
    {
     "data": {
      "text/plain": [
       "PosixPath('/mnt/cube/j8xing/starling_rhythm_mfdfa')"
      ]
     },
     "execution_count": 21,
     "metadata": {},
     "output_type": "execute_result"
    }
   ],
   "source": [
    "TOP_DIR"
   ]
  },
  {
   "cell_type": "code",
   "execution_count": 2,
   "id": "004f4194",
   "metadata": {},
   "outputs": [],
   "source": [
    "bID = 's_b1555_22'\n",
    "SAVE_PATH = PROCESSED_DIR / bID / 'final_stimuli_set.pickle'"
   ]
  },
  {
   "cell_type": "code",
   "execution_count": 3,
   "id": "259b0fcf",
   "metadata": {},
   "outputs": [],
   "source": [
    "import pandas as pd"
   ]
  },
  {
   "cell_type": "code",
   "execution_count": 4,
   "id": "46bc2ee1",
   "metadata": {},
   "outputs": [],
   "source": [
    "final_stimuli_set = pd.read_pickle(SAVE_PATH)"
   ]
  },
  {
   "cell_type": "code",
   "execution_count": 5,
   "id": "877be716",
   "metadata": {},
   "outputs": [
    {
     "data": {
      "text/html": [
       "<div>\n",
       "<style scoped>\n",
       "    .dataframe tbody tr th:only-of-type {\n",
       "        vertical-align: middle;\n",
       "    }\n",
       "\n",
       "    .dataframe tbody tr th {\n",
       "        vertical-align: top;\n",
       "    }\n",
       "\n",
       "    .dataframe thead th {\n",
       "        text-align: right;\n",
       "    }\n",
       "</style>\n",
       "<table border=\"1\" class=\"dataframe\">\n",
       "  <thead>\n",
       "    <tr style=\"text-align: right;\">\n",
       "      <th></th>\n",
       "      <th>index</th>\n",
       "      <th>shuffle_wavs</th>\n",
       "      <th>shuffle_og_seg</th>\n",
       "      <th>shuffle_ts</th>\n",
       "      <th>seg_nb</th>\n",
       "      <th>type</th>\n",
       "      <th>sanity_tmf</th>\n",
       "      <th>SDoTMF</th>\n",
       "      <th>mean_SDoTMF</th>\n",
       "      <th>se_SDoTMF</th>\n",
       "      <th>tmf_dif</th>\n",
       "      <th>tmf_dif_rank</th>\n",
       "      <th>pair_index</th>\n",
       "      <th>destinations</th>\n",
       "    </tr>\n",
       "  </thead>\n",
       "  <tbody>\n",
       "    <tr>\n",
       "      <th>13</th>\n",
       "      <td>9837</td>\n",
       "      <td>/mnt/cube/j8xing/starling_rhythm_mfdfa/data/s_...</td>\n",
       "      <td>s_b1555_22_2022-09-26_14-00-01-02_173815_20667...</td>\n",
       "      <td>122.782469</td>\n",
       "      <td>307</td>\n",
       "      <td>max</td>\n",
       "      <td>107.209512</td>\n",
       "      <td>[93.79242161741706, 119.99782292320799, 79.983...</td>\n",
       "      <td>92.718680</td>\n",
       "      <td>13.628472</td>\n",
       "      <td>54.869781</td>\n",
       "      <td>1.0</td>\n",
       "      <td>0</td>\n",
       "      <td>/mnt/cube/j8xing/starling_rhythm_mfdfa/data/s_...</td>\n",
       "    </tr>\n",
       "    <tr>\n",
       "      <th>5</th>\n",
       "      <td>9829</td>\n",
       "      <td>/mnt/cube/j8xing/starling_rhythm_mfdfa/data/s_...</td>\n",
       "      <td>s_b1555_22_2022-09-26_14-00-01-02_173815_20667...</td>\n",
       "      <td>40.927312</td>\n",
       "      <td>307</td>\n",
       "      <td>min</td>\n",
       "      <td>36.529163</td>\n",
       "      <td>[40.95997244895142, 35.37399286030329, 41.6224...</td>\n",
       "      <td>37.848900</td>\n",
       "      <td>5.312385</td>\n",
       "      <td>54.869781</td>\n",
       "      <td>1.0</td>\n",
       "      <td>0</td>\n",
       "      <td>/mnt/cube/j8xing/starling_rhythm_mfdfa/data/s_...</td>\n",
       "    </tr>\n",
       "    <tr>\n",
       "      <th>30</th>\n",
       "      <td>13886</td>\n",
       "      <td>/mnt/cube/j8xing/starling_rhythm_mfdfa/data/s_...</td>\n",
       "      <td>s_b1555_22_2022-09-29_10-00-01-02_565720_60383...</td>\n",
       "      <td>6.009748</td>\n",
       "      <td>433</td>\n",
       "      <td>min</td>\n",
       "      <td>7.614779</td>\n",
       "      <td>[8.361501524561248, 10.62422564016631, 10.2048...</td>\n",
       "      <td>8.363697</td>\n",
       "      <td>1.246702</td>\n",
       "      <td>52.025441</td>\n",
       "      <td>3.0</td>\n",
       "      <td>1</td>\n",
       "      <td>/mnt/cube/j8xing/starling_rhythm_mfdfa/data/s_...</td>\n",
       "    </tr>\n",
       "    <tr>\n",
       "      <th>6</th>\n",
       "      <td>13862</td>\n",
       "      <td>/mnt/cube/j8xing/starling_rhythm_mfdfa/data/s_...</td>\n",
       "      <td>s_b1555_22_2022-09-29_10-00-01-02_565720_60383...</td>\n",
       "      <td>83.369838</td>\n",
       "      <td>433</td>\n",
       "      <td>max</td>\n",
       "      <td>69.515347</td>\n",
       "      <td>[51.6913887379686, 79.66841249919511, 56.81157...</td>\n",
       "      <td>60.389137</td>\n",
       "      <td>6.602729</td>\n",
       "      <td>52.025441</td>\n",
       "      <td>3.0</td>\n",
       "      <td>1</td>\n",
       "      <td>/mnt/cube/j8xing/starling_rhythm_mfdfa/data/s_...</td>\n",
       "    </tr>\n",
       "    <tr>\n",
       "      <th>30</th>\n",
       "      <td>15486</td>\n",
       "      <td>/mnt/cube/j8xing/starling_rhythm_mfdfa/data/s_...</td>\n",
       "      <td>s_b1555_22_2022-09-29_19-00-01-02_273385_29808...</td>\n",
       "      <td>19.617072</td>\n",
       "      <td>483</td>\n",
       "      <td>min</td>\n",
       "      <td>20.473805</td>\n",
       "      <td>[18.77149571234566, 18.997555986108985, 22.604...</td>\n",
       "      <td>20.056123</td>\n",
       "      <td>2.330568</td>\n",
       "      <td>41.162433</td>\n",
       "      <td>5.0</td>\n",
       "      <td>2</td>\n",
       "      <td>/mnt/cube/j8xing/starling_rhythm_mfdfa/data/s_...</td>\n",
       "    </tr>\n",
       "    <tr>\n",
       "      <th>...</th>\n",
       "      <td>...</td>\n",
       "      <td>...</td>\n",
       "      <td>...</td>\n",
       "      <td>...</td>\n",
       "      <td>...</td>\n",
       "      <td>...</td>\n",
       "      <td>...</td>\n",
       "      <td>...</td>\n",
       "      <td>...</td>\n",
       "      <td>...</td>\n",
       "      <td>...</td>\n",
       "      <td>...</td>\n",
       "      <td>...</td>\n",
       "      <td>...</td>\n",
       "    </tr>\n",
       "    <tr>\n",
       "      <th>20</th>\n",
       "      <td>12276</td>\n",
       "      <td>/mnt/cube/j8xing/starling_rhythm_mfdfa/data/s_...</td>\n",
       "      <td>s_b1555_22_2022-09-28_10-00-01-01_1500935_1532...</td>\n",
       "      <td>30.782973</td>\n",
       "      <td>383</td>\n",
       "      <td>min</td>\n",
       "      <td>37.754459</td>\n",
       "      <td>[28.036445575610724, 38.0316614961426, 27.6034...</td>\n",
       "      <td>33.769136</td>\n",
       "      <td>4.443809</td>\n",
       "      <td>26.773261</td>\n",
       "      <td>123.0</td>\n",
       "      <td>61</td>\n",
       "      <td>/mnt/cube/j8xing/starling_rhythm_mfdfa/data/s_...</td>\n",
       "    </tr>\n",
       "    <tr>\n",
       "      <th>5</th>\n",
       "      <td>10917</td>\n",
       "      <td>/mnt/cube/j8xing/starling_rhythm_mfdfa/data/s_...</td>\n",
       "      <td>s_b1555_22_2022-09-27_17-00-02-02_976320_10206...</td>\n",
       "      <td>56.376175</td>\n",
       "      <td>341</td>\n",
       "      <td>max</td>\n",
       "      <td>58.907416</td>\n",
       "      <td>[40.94114822423875, 34.77306993426533, 45.7985...</td>\n",
       "      <td>40.058226</td>\n",
       "      <td>5.082108</td>\n",
       "      <td>26.766323</td>\n",
       "      <td>125.0</td>\n",
       "      <td>62</td>\n",
       "      <td>/mnt/cube/j8xing/starling_rhythm_mfdfa/data/s_...</td>\n",
       "    </tr>\n",
       "    <tr>\n",
       "      <th>11</th>\n",
       "      <td>10923</td>\n",
       "      <td>/mnt/cube/j8xing/starling_rhythm_mfdfa/data/s_...</td>\n",
       "      <td>s_b1555_22_2022-09-27_17-00-02-02_976320_10206...</td>\n",
       "      <td>12.636599</td>\n",
       "      <td>341</td>\n",
       "      <td>min</td>\n",
       "      <td>15.723864</td>\n",
       "      <td>[13.498643979485756, 16.169437433012007, 10.91...</td>\n",
       "      <td>13.291902</td>\n",
       "      <td>1.861373</td>\n",
       "      <td>26.766323</td>\n",
       "      <td>125.0</td>\n",
       "      <td>62</td>\n",
       "      <td>/mnt/cube/j8xing/starling_rhythm_mfdfa/data/s_...</td>\n",
       "    </tr>\n",
       "    <tr>\n",
       "      <th>0</th>\n",
       "      <td>9184</td>\n",
       "      <td>/mnt/cube/j8xing/starling_rhythm_mfdfa/data/s_...</td>\n",
       "      <td>s_b1555_22_2022-09-26_09-00-01-01_555665_59371...</td>\n",
       "      <td>69.071680</td>\n",
       "      <td>287</td>\n",
       "      <td>max</td>\n",
       "      <td>53.460743</td>\n",
       "      <td>[59.860199304116605, 59.62246176732236, 46.699...</td>\n",
       "      <td>61.740009</td>\n",
       "      <td>8.425503</td>\n",
       "      <td>26.762537</td>\n",
       "      <td>127.0</td>\n",
       "      <td>63</td>\n",
       "      <td>/mnt/cube/j8xing/starling_rhythm_mfdfa/data/s_...</td>\n",
       "    </tr>\n",
       "    <tr>\n",
       "      <th>2</th>\n",
       "      <td>9186</td>\n",
       "      <td>/mnt/cube/j8xing/starling_rhythm_mfdfa/data/s_...</td>\n",
       "      <td>s_b1555_22_2022-09-26_09-00-01-01_555665_59371...</td>\n",
       "      <td>36.846016</td>\n",
       "      <td>287</td>\n",
       "      <td>min</td>\n",
       "      <td>44.624984</td>\n",
       "      <td>[36.76896146879863, 33.08397069346349, 34.6026...</td>\n",
       "      <td>34.977471</td>\n",
       "      <td>4.186246</td>\n",
       "      <td>26.762537</td>\n",
       "      <td>127.0</td>\n",
       "      <td>63</td>\n",
       "      <td>/mnt/cube/j8xing/starling_rhythm_mfdfa/data/s_...</td>\n",
       "    </tr>\n",
       "  </tbody>\n",
       "</table>\n",
       "<p>128 rows × 14 columns</p>\n",
       "</div>"
      ],
      "text/plain": [
       "    index                                       shuffle_wavs  \\\n",
       "13   9837  /mnt/cube/j8xing/starling_rhythm_mfdfa/data/s_...   \n",
       "5    9829  /mnt/cube/j8xing/starling_rhythm_mfdfa/data/s_...   \n",
       "30  13886  /mnt/cube/j8xing/starling_rhythm_mfdfa/data/s_...   \n",
       "6   13862  /mnt/cube/j8xing/starling_rhythm_mfdfa/data/s_...   \n",
       "30  15486  /mnt/cube/j8xing/starling_rhythm_mfdfa/data/s_...   \n",
       "..    ...                                                ...   \n",
       "20  12276  /mnt/cube/j8xing/starling_rhythm_mfdfa/data/s_...   \n",
       "5   10917  /mnt/cube/j8xing/starling_rhythm_mfdfa/data/s_...   \n",
       "11  10923  /mnt/cube/j8xing/starling_rhythm_mfdfa/data/s_...   \n",
       "0    9184  /mnt/cube/j8xing/starling_rhythm_mfdfa/data/s_...   \n",
       "2    9186  /mnt/cube/j8xing/starling_rhythm_mfdfa/data/s_...   \n",
       "\n",
       "                                       shuffle_og_seg  shuffle_ts  seg_nb  \\\n",
       "13  s_b1555_22_2022-09-26_14-00-01-02_173815_20667...  122.782469     307   \n",
       "5   s_b1555_22_2022-09-26_14-00-01-02_173815_20667...   40.927312     307   \n",
       "30  s_b1555_22_2022-09-29_10-00-01-02_565720_60383...    6.009748     433   \n",
       "6   s_b1555_22_2022-09-29_10-00-01-02_565720_60383...   83.369838     433   \n",
       "30  s_b1555_22_2022-09-29_19-00-01-02_273385_29808...   19.617072     483   \n",
       "..                                                ...         ...     ...   \n",
       "20  s_b1555_22_2022-09-28_10-00-01-01_1500935_1532...   30.782973     383   \n",
       "5   s_b1555_22_2022-09-27_17-00-02-02_976320_10206...   56.376175     341   \n",
       "11  s_b1555_22_2022-09-27_17-00-02-02_976320_10206...   12.636599     341   \n",
       "0   s_b1555_22_2022-09-26_09-00-01-01_555665_59371...   69.071680     287   \n",
       "2   s_b1555_22_2022-09-26_09-00-01-01_555665_59371...   36.846016     287   \n",
       "\n",
       "   type  sanity_tmf                                             SDoTMF  \\\n",
       "13  max  107.209512  [93.79242161741706, 119.99782292320799, 79.983...   \n",
       "5   min   36.529163  [40.95997244895142, 35.37399286030329, 41.6224...   \n",
       "30  min    7.614779  [8.361501524561248, 10.62422564016631, 10.2048...   \n",
       "6   max   69.515347  [51.6913887379686, 79.66841249919511, 56.81157...   \n",
       "30  min   20.473805  [18.77149571234566, 18.997555986108985, 22.604...   \n",
       "..  ...         ...                                                ...   \n",
       "20  min   37.754459  [28.036445575610724, 38.0316614961426, 27.6034...   \n",
       "5   max   58.907416  [40.94114822423875, 34.77306993426533, 45.7985...   \n",
       "11  min   15.723864  [13.498643979485756, 16.169437433012007, 10.91...   \n",
       "0   max   53.460743  [59.860199304116605, 59.62246176732236, 46.699...   \n",
       "2   min   44.624984  [36.76896146879863, 33.08397069346349, 34.6026...   \n",
       "\n",
       "    mean_SDoTMF  se_SDoTMF    tmf_dif  tmf_dif_rank  pair_index  \\\n",
       "13    92.718680  13.628472  54.869781           1.0           0   \n",
       "5     37.848900   5.312385  54.869781           1.0           0   \n",
       "30     8.363697   1.246702  52.025441           3.0           1   \n",
       "6     60.389137   6.602729  52.025441           3.0           1   \n",
       "30    20.056123   2.330568  41.162433           5.0           2   \n",
       "..          ...        ...        ...           ...         ...   \n",
       "20    33.769136   4.443809  26.773261         123.0          61   \n",
       "5     40.058226   5.082108  26.766323         125.0          62   \n",
       "11    13.291902   1.861373  26.766323         125.0          62   \n",
       "0     61.740009   8.425503  26.762537         127.0          63   \n",
       "2     34.977471   4.186246  26.762537         127.0          63   \n",
       "\n",
       "                                         destinations  \n",
       "13  /mnt/cube/j8xing/starling_rhythm_mfdfa/data/s_...  \n",
       "5   /mnt/cube/j8xing/starling_rhythm_mfdfa/data/s_...  \n",
       "30  /mnt/cube/j8xing/starling_rhythm_mfdfa/data/s_...  \n",
       "6   /mnt/cube/j8xing/starling_rhythm_mfdfa/data/s_...  \n",
       "30  /mnt/cube/j8xing/starling_rhythm_mfdfa/data/s_...  \n",
       "..                                                ...  \n",
       "20  /mnt/cube/j8xing/starling_rhythm_mfdfa/data/s_...  \n",
       "5   /mnt/cube/j8xing/starling_rhythm_mfdfa/data/s_...  \n",
       "11  /mnt/cube/j8xing/starling_rhythm_mfdfa/data/s_...  \n",
       "0   /mnt/cube/j8xing/starling_rhythm_mfdfa/data/s_...  \n",
       "2   /mnt/cube/j8xing/starling_rhythm_mfdfa/data/s_...  \n",
       "\n",
       "[128 rows x 14 columns]"
      ]
     },
     "execution_count": 5,
     "metadata": {},
     "output_type": "execute_result"
    }
   ],
   "source": [
    "final_stimuli_set"
   ]
  },
  {
   "cell_type": "markdown",
   "id": "939b4b3f",
   "metadata": {},
   "source": [
    "## Input immutable information"
   ]
  },
  {
   "cell_type": "code",
   "execution_count": 6,
   "id": "f69a46e1",
   "metadata": {},
   "outputs": [],
   "source": [
    "import json"
   ]
  },
  {
   "cell_type": "code",
   "execution_count": 7,
   "id": "793e6f8d",
   "metadata": {},
   "outputs": [],
   "source": [
    "json_skeleton = {\n",
    "    \"comments\": \"json doesn't support comments\",\n",
    "    \"experimenter\": {\n",
    "        \"name\": \"Jeffrey Xing\",\n",
    "        \"email\": \"j8xing@ucsd.edu\"\n",
    "    },\n",
    "    \"subject\": \"B9999\",\n",
    "    \"panel_name\": \"magpi01\",\n",
    "    \"experiment_path\": \"/home/bird/opdat/B9999\",\n",
    "    \"stim_path\": \"/home/bird/opdat/B9999/stimuli\",\n",
    "    \"name\": \"multifractality discrimination task\",\n",
    "    \"description\": \"discriminate between high and low multifractal inter-motif gap shuffle pairs\",\n",
    "    \"debug\": True, \n",
    "    \"log_handlers\": [],\n",
    "    'stims': {},\n",
    "    \"left_stims\": {},\n",
    "    \"right_stims\": {},\n",
    "    \"current_available_motifs\": 2,\n",
    "    \"classes\": {\n",
    "        \"L\": {\n",
    "            \"reward_value\": 2.0,\n",
    "            \"punish_value\": 20.0,\n",
    "            \"component\": \"left\"\n",
    "        },\n",
    "        \"R\": {\n",
    "            \"reward_value\": 2.0,\n",
    "            \"punish_value\": 20.0,\n",
    "            \"component\": \"right\"\n",
    "        }\n",
    "    },\n",
    "    \"block_design\": {\n",
    "        \"blocks\": {\n",
    "            \"default\": {\n",
    "                \"queue\": \"block\",\n",
    "                \"condition\": []\n",
    "            }\n",
    "        },\n",
    "        \"order\": [\"default\"]\n",
    "    },\n",
    "    \"category_condition\" : [\n",
    "        {\"class\": \"L\", \"stim_name\": \"1\"},\n",
    "        {\"class\": \"R\", \"stim_name\": \"0\"}\n",
    "    ],\n",
    "    \"reinforcement\": {\n",
    "        \"schedule\": \"fixed_ratio\",\n",
    "        \"ratio\": 1,\n",
    "        \"secondary\": True\n",
    "    },\n",
    "    \"correction_trials\": True,\n",
    "    \"response_win\": 5.0,\n",
    "    \"intertrial_min\": 5.0,\n",
    "    \"forced_choice\": False,\n",
    "    \"light_schedule\": \"sun\",\n",
    "    \"distribution_type\": \"amodal\",\n",
    "    \"trial_condition\": \"equal\",\n",
    "    \"inject_test\": True,\n",
    "    \"sr\": 48000,\n",
    "    \"shape\": False\n",
    "}"
   ]
  },
  {
   "cell_type": "markdown",
   "id": "425e6e02",
   "metadata": {},
   "source": [
    "## Insert stimuli"
   ]
  },
  {
   "cell_type": "code",
   "execution_count": 8,
   "id": "02ef1e02",
   "metadata": {},
   "outputs": [],
   "source": [
    "max_df = final_stimuli_set[final_stimuli_set['type'] == \"max\"]\n",
    "min_df = final_stimuli_set[final_stimuli_set['type'] == \"min\"]"
   ]
  },
  {
   "cell_type": "code",
   "execution_count": 9,
   "id": "7135d52d",
   "metadata": {},
   "outputs": [],
   "source": [
    "left_stims = {}\n",
    "right_stims = {}\n",
    "\n",
    "for index, wav in max_df.iterrows():\n",
    "    left_stims[str(wav['pair_index'])] = str(wav['destinations']).split('/')[-1]\n",
    "    \n",
    "for index, wav in min_df.iterrows():\n",
    "    right_stims[str(wav['pair_index'])] = str(wav['destinations']).split('/')[-1]"
   ]
  },
  {
   "cell_type": "code",
   "execution_count": 10,
   "id": "08ef176f",
   "metadata": {},
   "outputs": [],
   "source": [
    "json_skeleton['left_stims'] = left_stims\n",
    "json_skeleton['right_stims'] = right_stims"
   ]
  },
  {
   "cell_type": "code",
   "execution_count": 11,
   "id": "675cb5d1",
   "metadata": {},
   "outputs": [],
   "source": [
    "json_output = json.dumps(json_skeleton, indent=4)\n",
    "\n",
    "with open('TwoAC_MFDiscrim.json', 'w') as outfile:\n",
    "    outfile.write(json_output)"
   ]
  },
  {
   "cell_type": "code",
   "execution_count": 12,
   "id": "adcc4ecd",
   "metadata": {},
   "outputs": [
    {
     "data": {
      "text/plain": [
       "'{\\n    \"comments\": \"json doesn\\'t support comments\",\\n    \"experimenter\": {\\n        \"name\": \"Jeffrey Xing\",\\n        \"email\": \"j8xing@ucsd.edu\"\\n    },\\n    \"subject\": \"B9999\",\\n    \"panel_name\": \"magpi01\",\\n    \"experiment_path\": \"/home/bird/opdat/B9999\",\\n    \"stim_path\": \"/home/bird/opdat/B9999/stimuli\",\\n    \"name\": \"multifractality discrimination task\",\\n    \"description\": \"discriminate between high and low multifractal inter-motif gap shuffle pairs\",\\n    \"debug\": true,\\n    \"log_handlers\": [],\\n    \"stims\": {},\\n    \"left_stims\": {\\n        \"0\": \"shuffleGap_0_max.wav\",\\n        \"1\": \"shuffleGap_1_max.wav\",\\n        \"2\": \"shuffleGap_2_max.wav\",\\n        \"3\": \"shuffleGap_3_max.wav\",\\n        \"4\": \"shuffleGap_4_max.wav\",\\n        \"5\": \"shuffleGap_5_max.wav\",\\n        \"6\": \"shuffleGap_6_max.wav\",\\n        \"7\": \"shuffleGap_7_max.wav\",\\n        \"8\": \"shuffleGap_8_max.wav\",\\n        \"9\": \"shuffleGap_9_max.wav\",\\n        \"10\": \"shuffleGap_10_max.wav\",\\n        \"11\": \"shuffleGap_11_max.wav\",\\n        \"12\": \"shuffleGap_12_max.wav\",\\n        \"13\": \"shuffleGap_13_max.wav\",\\n        \"14\": \"shuffleGap_14_max.wav\",\\n        \"15\": \"shuffleGap_15_max.wav\",\\n        \"16\": \"shuffleGap_16_max.wav\",\\n        \"17\": \"shuffleGap_17_max.wav\",\\n        \"18\": \"shuffleGap_18_max.wav\",\\n        \"19\": \"shuffleGap_19_max.wav\",\\n        \"20\": \"shuffleGap_20_max.wav\",\\n        \"21\": \"shuffleGap_21_max.wav\",\\n        \"22\": \"shuffleGap_22_max.wav\",\\n        \"23\": \"shuffleGap_23_max.wav\",\\n        \"24\": \"shuffleGap_24_max.wav\",\\n        \"25\": \"shuffleGap_25_max.wav\",\\n        \"26\": \"shuffleGap_26_max.wav\",\\n        \"27\": \"shuffleGap_27_max.wav\",\\n        \"28\": \"shuffleGap_28_max.wav\",\\n        \"29\": \"shuffleGap_29_max.wav\",\\n        \"30\": \"shuffleGap_30_max.wav\",\\n        \"31\": \"shuffleGap_31_max.wav\",\\n        \"32\": \"shuffleGap_32_max.wav\",\\n        \"33\": \"shuffleGap_33_max.wav\",\\n        \"34\": \"shuffleGap_34_max.wav\",\\n        \"35\": \"shuffleGap_35_max.wav\",\\n        \"36\": \"shuffleGap_36_max.wav\",\\n        \"37\": \"shuffleGap_37_max.wav\",\\n        \"38\": \"shuffleGap_38_max.wav\",\\n        \"39\": \"shuffleGap_39_max.wav\",\\n        \"40\": \"shuffleGap_40_max.wav\",\\n        \"41\": \"shuffleGap_41_max.wav\",\\n        \"42\": \"shuffleGap_42_max.wav\",\\n        \"43\": \"shuffleGap_43_max.wav\",\\n        \"44\": \"shuffleGap_44_max.wav\",\\n        \"45\": \"shuffleGap_45_max.wav\",\\n        \"46\": \"shuffleGap_46_max.wav\",\\n        \"47\": \"shuffleGap_47_max.wav\",\\n        \"48\": \"shuffleGap_48_max.wav\",\\n        \"49\": \"shuffleGap_49_max.wav\",\\n        \"50\": \"shuffleGap_50_max.wav\",\\n        \"51\": \"shuffleGap_51_max.wav\",\\n        \"52\": \"shuffleGap_52_max.wav\",\\n        \"53\": \"shuffleGap_53_max.wav\",\\n        \"54\": \"shuffleGap_54_max.wav\",\\n        \"55\": \"shuffleGap_55_max.wav\",\\n        \"56\": \"shuffleGap_56_max.wav\",\\n        \"57\": \"shuffleGap_57_max.wav\",\\n        \"58\": \"shuffleGap_58_max.wav\",\\n        \"59\": \"shuffleGap_59_max.wav\",\\n        \"60\": \"shuffleGap_60_max.wav\",\\n        \"61\": \"shuffleGap_61_max.wav\",\\n        \"62\": \"shuffleGap_62_max.wav\",\\n        \"63\": \"shuffleGap_63_max.wav\"\\n    },\\n    \"right_stims\": {\\n        \"0\": \"shuffleGap_0_min.wav\",\\n        \"1\": \"shuffleGap_1_min.wav\",\\n        \"2\": \"shuffleGap_2_min.wav\",\\n        \"3\": \"shuffleGap_3_min.wav\",\\n        \"4\": \"shuffleGap_4_min.wav\",\\n        \"5\": \"shuffleGap_5_min.wav\",\\n        \"6\": \"shuffleGap_6_min.wav\",\\n        \"7\": \"shuffleGap_7_min.wav\",\\n        \"8\": \"shuffleGap_8_min.wav\",\\n        \"9\": \"shuffleGap_9_min.wav\",\\n        \"10\": \"shuffleGap_10_min.wav\",\\n        \"11\": \"shuffleGap_11_min.wav\",\\n        \"12\": \"shuffleGap_12_min.wav\",\\n        \"13\": \"shuffleGap_13_min.wav\",\\n        \"14\": \"shuffleGap_14_min.wav\",\\n        \"15\": \"shuffleGap_15_min.wav\",\\n        \"16\": \"shuffleGap_16_min.wav\",\\n        \"17\": \"shuffleGap_17_min.wav\",\\n        \"18\": \"shuffleGap_18_min.wav\",\\n        \"19\": \"shuffleGap_19_min.wav\",\\n        \"20\": \"shuffleGap_20_min.wav\",\\n        \"21\": \"shuffleGap_21_min.wav\",\\n        \"22\": \"shuffleGap_22_min.wav\",\\n        \"23\": \"shuffleGap_23_min.wav\",\\n        \"24\": \"shuffleGap_24_min.wav\",\\n        \"25\": \"shuffleGap_25_min.wav\",\\n        \"26\": \"shuffleGap_26_min.wav\",\\n        \"27\": \"shuffleGap_27_min.wav\",\\n        \"28\": \"shuffleGap_28_min.wav\",\\n        \"29\": \"shuffleGap_29_min.wav\",\\n        \"30\": \"shuffleGap_30_min.wav\",\\n        \"31\": \"shuffleGap_31_min.wav\",\\n        \"32\": \"shuffleGap_32_min.wav\",\\n        \"33\": \"shuffleGap_33_min.wav\",\\n        \"34\": \"shuffleGap_34_min.wav\",\\n        \"35\": \"shuffleGap_35_min.wav\",\\n        \"36\": \"shuffleGap_36_min.wav\",\\n        \"37\": \"shuffleGap_37_min.wav\",\\n        \"38\": \"shuffleGap_38_min.wav\",\\n        \"39\": \"shuffleGap_39_min.wav\",\\n        \"40\": \"shuffleGap_40_min.wav\",\\n        \"41\": \"shuffleGap_41_min.wav\",\\n        \"42\": \"shuffleGap_42_min.wav\",\\n        \"43\": \"shuffleGap_43_min.wav\",\\n        \"44\": \"shuffleGap_44_min.wav\",\\n        \"45\": \"shuffleGap_45_min.wav\",\\n        \"46\": \"shuffleGap_46_min.wav\",\\n        \"47\": \"shuffleGap_47_min.wav\",\\n        \"48\": \"shuffleGap_48_min.wav\",\\n        \"49\": \"shuffleGap_49_min.wav\",\\n        \"50\": \"shuffleGap_50_min.wav\",\\n        \"51\": \"shuffleGap_51_min.wav\",\\n        \"52\": \"shuffleGap_52_min.wav\",\\n        \"53\": \"shuffleGap_53_min.wav\",\\n        \"54\": \"shuffleGap_54_min.wav\",\\n        \"55\": \"shuffleGap_55_min.wav\",\\n        \"56\": \"shuffleGap_56_min.wav\",\\n        \"57\": \"shuffleGap_57_min.wav\",\\n        \"58\": \"shuffleGap_58_min.wav\",\\n        \"59\": \"shuffleGap_59_min.wav\",\\n        \"60\": \"shuffleGap_60_min.wav\",\\n        \"61\": \"shuffleGap_61_min.wav\",\\n        \"62\": \"shuffleGap_62_min.wav\",\\n        \"63\": \"shuffleGap_63_min.wav\"\\n    },\\n    \"current_available_motifs\": 2,\\n    \"classes\": {\\n        \"L\": {\\n            \"reward_value\": 2.0,\\n            \"punish_value\": 20.0,\\n            \"component\": \"left\"\\n        },\\n        \"R\": {\\n            \"reward_value\": 2.0,\\n            \"punish_value\": 20.0,\\n            \"component\": \"right\"\\n        }\\n    },\\n    \"block_design\": {\\n        \"blocks\": {\\n            \"default\": {\\n                \"queue\": \"block\",\\n                \"condition\": []\\n            }\\n        },\\n        \"order\": [\\n            \"default\"\\n        ]\\n    },\\n    \"category_condition\": [\\n        {\\n            \"class\": \"L\",\\n            \"stim_name\": \"1\"\\n        },\\n        {\\n            \"class\": \"R\",\\n            \"stim_name\": \"0\"\\n        }\\n    ],\\n    \"reinforcement\": {\\n        \"schedule\": \"fixed_ratio\",\\n        \"ratio\": 1,\\n        \"secondary\": true\\n    },\\n    \"correction_trials\": true,\\n    \"response_win\": 5.0,\\n    \"intertrial_min\": 5.0,\\n    \"forced_choice\": false,\\n    \"light_schedule\": \"sun\",\\n    \"distribution_type\": \"amodal\",\\n    \"trial_condition\": \"equal\",\\n    \"inject_test\": true,\\n    \"sr\": 48000,\\n    \"shape\": false\\n}'"
      ]
     },
     "execution_count": 12,
     "metadata": {},
     "output_type": "execute_result"
    }
   ],
   "source": [
    "json_output"
   ]
  },
  {
   "cell_type": "code",
   "execution_count": null,
   "id": "62337569",
   "metadata": {},
   "outputs": [],
   "source": []
  }
 ],
 "metadata": {
  "kernelspec": {
   "display_name": "starling_rhythm",
   "language": "python",
   "name": "starling_rhythm"
  },
  "language_info": {
   "codemirror_mode": {
    "name": "ipython",
    "version": 3
   },
   "file_extension": ".py",
   "mimetype": "text/x-python",
   "name": "python",
   "nbconvert_exporter": "python",
   "pygments_lexer": "ipython3",
   "version": "3.10.10"
  }
 },
 "nbformat": 4,
 "nbformat_minor": 5
}
