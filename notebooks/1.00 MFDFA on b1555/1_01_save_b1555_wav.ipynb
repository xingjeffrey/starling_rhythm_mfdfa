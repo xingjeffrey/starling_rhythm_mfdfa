{
 "cells": [
  {
   "cell_type": "markdown",
   "id": "1754c0f9",
   "metadata": {},
   "source": [
    "# 1.01 Grab b1555 songs from pickles\n",
    "### JX, 11/08/2022\n",
    "> Retrieve b1555 songs from Zeke's pickles, then save them as wav. "
   ]
  },
  {
   "cell_type": "code",
   "execution_count": 1,
   "id": "09fd3066",
   "metadata": {},
   "outputs": [],
   "source": [
    "from starling_rhythm.utils.paths import PROCESSED_DIR, ensure_dir"
   ]
  },
  {
   "cell_type": "code",
   "execution_count": 2,
   "id": "8d5946cf",
   "metadata": {},
   "outputs": [],
   "source": [
    "bID = 's_b1555_22'"
   ]
  },
  {
   "cell_type": "code",
   "execution_count": 3,
   "id": "a907702a",
   "metadata": {},
   "outputs": [
    {
     "data": {
      "text/plain": [
       "PosixPath('/mnt/cube/j8xing/starling_rhythm_mfdfa/data/s_b1555_22')"
      ]
     },
     "execution_count": 3,
     "metadata": {},
     "output_type": "execute_result"
    }
   ],
   "source": [
    "## output directory\n",
    "bID_DIR = PROCESSED_DIR / bID\n",
    "bID_DIR"
   ]
  },
  {
   "cell_type": "markdown",
   "id": "01c006a4",
   "metadata": {},
   "source": [
    "## Find pickles of bout-checked b1555 data"
   ]
  },
  {
   "cell_type": "code",
   "execution_count": 4,
   "id": "1649465b",
   "metadata": {},
   "outputs": [],
   "source": [
    "from pathlib2 import Path"
   ]
  },
  {
   "cell_type": "code",
   "execution_count": 5,
   "id": "d41d945f",
   "metadata": {},
   "outputs": [
    {
     "data": {
      "text/plain": [
       "PosixPath('/mnt/sphere/speech_bci/derived_data/s_b1555_22')"
      ]
     },
     "execution_count": 5,
     "metadata": {},
     "output_type": "execute_result"
    }
   ],
   "source": [
    "DATA_PATH = '/mnt/sphere/speech_bci/derived_data/' + bID\n",
    "DATA_DIR = Path(DATA_PATH)\n",
    "DATA_DIR"
   ]
  },
  {
   "cell_type": "code",
   "execution_count": 6,
   "id": "29391832",
   "metadata": {},
   "outputs": [],
   "source": [
    "## grab data from 9/20/22 - 9/29/22, when b1555 sings the most\n",
    "pickle_paths = list(Path(DATA_DIR).rglob(\"2022-09-2*/alsa/bouts_ceciestunepipe/bout_checked.pickle\"))"
   ]
  },
  {
   "cell_type": "code",
   "execution_count": 7,
   "id": "4a1107fe",
   "metadata": {},
   "outputs": [
    {
     "data": {
      "text/plain": [
       "[PosixPath('/mnt/sphere/speech_bci/derived_data/s_b1555_22/2022-09-23/alsa/bouts_ceciestunepipe/bout_checked.pickle'),\n",
       " PosixPath('/mnt/sphere/speech_bci/derived_data/s_b1555_22/2022-09-29/alsa/bouts_ceciestunepipe/bout_checked.pickle'),\n",
       " PosixPath('/mnt/sphere/speech_bci/derived_data/s_b1555_22/2022-09-24/alsa/bouts_ceciestunepipe/bout_checked.pickle'),\n",
       " PosixPath('/mnt/sphere/speech_bci/derived_data/s_b1555_22/2022-09-20/alsa/bouts_ceciestunepipe/bout_checked.pickle'),\n",
       " PosixPath('/mnt/sphere/speech_bci/derived_data/s_b1555_22/2022-09-27/alsa/bouts_ceciestunepipe/bout_checked.pickle'),\n",
       " PosixPath('/mnt/sphere/speech_bci/derived_data/s_b1555_22/2022-09-25/alsa/bouts_ceciestunepipe/bout_checked.pickle'),\n",
       " PosixPath('/mnt/sphere/speech_bci/derived_data/s_b1555_22/2022-09-28/alsa/bouts_ceciestunepipe/bout_checked.pickle'),\n",
       " PosixPath('/mnt/sphere/speech_bci/derived_data/s_b1555_22/2022-09-22/alsa/bouts_ceciestunepipe/bout_checked.pickle'),\n",
       " PosixPath('/mnt/sphere/speech_bci/derived_data/s_b1555_22/2022-09-26/alsa/bouts_ceciestunepipe/bout_checked.pickle'),\n",
       " PosixPath('/mnt/sphere/speech_bci/derived_data/s_b1555_22/2022-09-21/alsa/bouts_ceciestunepipe/bout_checked.pickle')]"
      ]
     },
     "execution_count": 7,
     "metadata": {},
     "output_type": "execute_result"
    }
   ],
   "source": [
    "pickle_paths"
   ]
  },
  {
   "cell_type": "markdown",
   "id": "78d73ec6",
   "metadata": {},
   "source": [
    "## Save all audio as wavs"
   ]
  },
  {
   "cell_type": "code",
   "execution_count": 8,
   "id": "92e9689c",
   "metadata": {},
   "outputs": [
    {
     "name": "stderr",
     "output_type": "stream",
     "text": [
      "/tmp/ipykernel_41439/3870098420.py:2: TqdmWarning: IProgress not found. Please update jupyter and ipywidgets. See https://ipywidgets.readthedocs.io/en/stable/user_install.html\n",
      "  from tqdm.autonotebook import tqdm\n"
     ]
    }
   ],
   "source": [
    "import pandas as pd\n",
    "from tqdm.autonotebook import tqdm\n",
    "import scipy.io.wavfile as wav"
   ]
  },
  {
   "cell_type": "code",
   "execution_count": 9,
   "id": "02b2a134",
   "metadata": {},
   "outputs": [],
   "source": [
    "rate = 48000"
   ]
  },
  {
   "cell_type": "code",
   "execution_count": 10,
   "id": "c2dff235",
   "metadata": {},
   "outputs": [
    {
     "name": "stderr",
     "output_type": "stream",
     "text": [
      "Processing each day:   0%|          | 0/10 [00:00<?, ?it/s]\n",
      "Processing each day's bout: 0it [00:00, ?it/s]\u001b[A\n",
      "Processing each day's bout: 2it [00:00, 17.47it/s]\u001b[A"
     ]
    },
    {
     "name": "stdout",
     "output_type": "stream",
     "text": [
      "Saving /mnt/cube/j8xing/starling_rhythm_mfdfa/data/s_b1555_22/s_b1555_22_2022-09-23_15-00-01-02_508500_566065.wav\n",
      "Saving /mnt/cube/j8xing/starling_rhythm_mfdfa/data/s_b1555_22/s_b1555_22_2022-09-23_15-00-01-01_641180_694125.wav\n",
      "Saving /mnt/cube/j8xing/starling_rhythm_mfdfa/data/s_b1555_22/s_b1555_22_2022-09-23_10-00-01-02_868940_921030.wav\n",
      "Saving /mnt/cube/j8xing/starling_rhythm_mfdfa/data/s_b1555_22/s_b1555_22_2022-09-23_10-00-01-02_1043035_1093720.wav\n"
     ]
    },
    {
     "name": "stderr",
     "output_type": "stream",
     "text": [
      "\n",
      "Processing each day's bout: 4it [00:00, 18.02it/s]\u001b[A\n",
      "Processing each day's bout: 6it [00:00, 18.01it/s]\u001b[A"
     ]
    },
    {
     "name": "stdout",
     "output_type": "stream",
     "text": [
      "Saving /mnt/cube/j8xing/starling_rhythm_mfdfa/data/s_b1555_22/s_b1555_22_2022-09-23_14-00-01-02_1423905_1474480.wav\n",
      "Saving /mnt/cube/j8xing/starling_rhythm_mfdfa/data/s_b1555_22/s_b1555_22_2022-09-23_16-00-01-01_1512540_1562890.wav\n",
      "Saving /mnt/cube/j8xing/starling_rhythm_mfdfa/data/s_b1555_22/s_b1555_22_2022-09-23_20-00-01-01_1202115_1252365.wav\n",
      "Saving /mnt/cube/j8xing/starling_rhythm_mfdfa/data/s_b1555_22/s_b1555_22_2022-09-23_15-00-01-02_903735_953820.wav\n"
     ]
    },
    {
     "name": "stderr",
     "output_type": "stream",
     "text": [
      "\n",
      "Processing each day's bout: 8it [00:00, 17.97it/s]\u001b[A\n",
      "Processing each day's bout: 10it [00:00, 17.97it/s]\u001b[A"
     ]
    },
    {
     "name": "stdout",
     "output_type": "stream",
     "text": [
      "Saving /mnt/cube/j8xing/starling_rhythm_mfdfa/data/s_b1555_22/s_b1555_22_2022-09-23_11-00-01-02_836525_886495.wav\n",
      "Saving /mnt/cube/j8xing/starling_rhythm_mfdfa/data/s_b1555_22/s_b1555_22_2022-09-23_18-00-01-01_1727480_1776755.wav\n",
      "Saving /mnt/cube/j8xing/starling_rhythm_mfdfa/data/s_b1555_22/s_b1555_22_2022-09-23_16-00-01-02_1127755_1176940.wav\n",
      "Saving /mnt/cube/j8xing/starling_rhythm_mfdfa/data/s_b1555_22/s_b1555_22_2022-09-23_20-00-01-01_577185_625810.wav\n"
     ]
    },
    {
     "name": "stderr",
     "output_type": "stream",
     "text": [
      "\n",
      "Processing each day's bout: 12it [00:00, 18.03it/s]\u001b[A\n",
      "Processing each day's bout: 14it [00:00, 17.83it/s]\u001b[A"
     ]
    },
    {
     "name": "stdout",
     "output_type": "stream",
     "text": [
      "Saving /mnt/cube/j8xing/starling_rhythm_mfdfa/data/s_b1555_22/s_b1555_22_2022-09-23_08-00-01-02_805865_854315.wav\n",
      "Saving /mnt/cube/j8xing/starling_rhythm_mfdfa/data/s_b1555_22/s_b1555_22_2022-09-23_15-00-01-01_575940_624275.wav\n",
      "Saving /mnt/cube/j8xing/starling_rhythm_mfdfa/data/s_b1555_22/s_b1555_22_2022-09-23_19-00-01-02_1436050_1484195.wav\n",
      "Saving /mnt/cube/j8xing/starling_rhythm_mfdfa/data/s_b1555_22/s_b1555_22_2022-09-23_20-00-01-02_861265_909115.wav\n"
     ]
    },
    {
     "name": "stderr",
     "output_type": "stream",
     "text": [
      "\n",
      "Processing each day's bout: 16it [00:00, 18.00it/s]\u001b[A\n",
      "Processing each day's bout: 19it [00:01, 18.84it/s]\u001b[A"
     ]
    },
    {
     "name": "stdout",
     "output_type": "stream",
     "text": [
      "Saving /mnt/cube/j8xing/starling_rhythm_mfdfa/data/s_b1555_22/s_b1555_22_2022-09-23_18-00-01-02_1054730_1102565.wav\n",
      "Saving /mnt/cube/j8xing/starling_rhythm_mfdfa/data/s_b1555_22/s_b1555_22_2022-09-23_15-00-01-02_238230_285965.wav\n",
      "Saving /mnt/cube/j8xing/starling_rhythm_mfdfa/data/s_b1555_22/s_b1555_22_2022-09-23_20-00-01-02_446490_494160.wav\n",
      "Saving /mnt/cube/j8xing/starling_rhythm_mfdfa/data/s_b1555_22/s_b1555_22_2022-09-23_19-00-01-02_806550_853975.wav\n",
      "Saving /mnt/cube/j8xing/starling_rhythm_mfdfa/data/s_b1555_22/s_b1555_22_2022-09-23_15-00-01-02_107685_154960.wav\n"
     ]
    },
    {
     "name": "stderr",
     "output_type": "stream",
     "text": [
      "\n",
      "Processing each day's bout: 21it [00:01, 18.86it/s]\u001b[A\n",
      "Processing each day's bout: 23it [00:01, 18.81it/s]\u001b[A"
     ]
    },
    {
     "name": "stdout",
     "output_type": "stream",
     "text": [
      "Saving /mnt/cube/j8xing/starling_rhythm_mfdfa/data/s_b1555_22/s_b1555_22_2022-09-23_10-00-01-01_933015_980215.wav\n",
      "Saving /mnt/cube/j8xing/starling_rhythm_mfdfa/data/s_b1555_22/s_b1555_22_2022-09-23_20-00-01-01_1411550_1458115.wav\n",
      "Saving /mnt/cube/j8xing/starling_rhythm_mfdfa/data/s_b1555_22/s_b1555_22_2022-09-23_20-00-01-02_206040_252335.wav\n",
      "Saving /mnt/cube/j8xing/starling_rhythm_mfdfa/data/s_b1555_22/s_b1555_22_2022-09-23_11-00-01-02_1417830_1463815.wav\n"
     ]
    },
    {
     "name": "stderr",
     "output_type": "stream",
     "text": [
      "\n",
      "Processing each day's bout: 25it [00:01, 18.96it/s]\u001b[A\n",
      "Processing each day's bout: 28it [00:01, 19.72it/s]\u001b[A"
     ]
    },
    {
     "name": "stdout",
     "output_type": "stream",
     "text": [
      "Saving /mnt/cube/j8xing/starling_rhythm_mfdfa/data/s_b1555_22/s_b1555_22_2022-09-23_19-00-01-02_881075_926860.wav\n",
      "Saving /mnt/cube/j8xing/starling_rhythm_mfdfa/data/s_b1555_22/s_b1555_22_2022-09-23_15-00-01-02_1305600_1351040.wav\n",
      "Saving /mnt/cube/j8xing/starling_rhythm_mfdfa/data/s_b1555_22/s_b1555_22_2022-09-23_11-00-01-02_1349090_1393670.wav\n",
      "Saving /mnt/cube/j8xing/starling_rhythm_mfdfa/data/s_b1555_22/s_b1555_22_2022-09-23_09-00-01-02_380835_425015.wav\n",
      "Saving /mnt/cube/j8xing/starling_rhythm_mfdfa/data/s_b1555_22/s_b1555_22_2022-09-23_16-00-01-01_1448240_1492290.wav\n"
     ]
    },
    {
     "name": "stderr",
     "output_type": "stream",
     "text": [
      "\n",
      "Processing each day's bout: 31it [00:01, 20.05it/s]\u001b[A\n",
      "Processing each day's bout: 34it [00:01, 20.47it/s]\u001b[A"
     ]
    },
    {
     "name": "stdout",
     "output_type": "stream",
     "text": [
      "Saving /mnt/cube/j8xing/starling_rhythm_mfdfa/data/s_b1555_22/s_b1555_22_2022-09-23_20-00-01-02_987270_1031285.wav\n",
      "Saving /mnt/cube/j8xing/starling_rhythm_mfdfa/data/s_b1555_22/s_b1555_22_2022-09-23_12-00-01-01_222740_266650.wav\n",
      "Saving /mnt/cube/j8xing/starling_rhythm_mfdfa/data/s_b1555_22/s_b1555_22_2022-09-23_20-00-01-01_1005485_1049320.wav\n",
      "Saving /mnt/cube/j8xing/starling_rhythm_mfdfa/data/s_b1555_22/s_b1555_22_2022-09-23_19-00-01-02_1114655_1157670.wav\n",
      "Saving /mnt/cube/j8xing/starling_rhythm_mfdfa/data/s_b1555_22/s_b1555_22_2022-09-23_08-00-01-01_1619630_1662515.wav\n"
     ]
    },
    {
     "name": "stderr",
     "output_type": "stream",
     "text": [
      "\n",
      "Processing each day's bout: 37it [00:01, 20.53it/s]\u001b[A"
     ]
    },
    {
     "name": "stdout",
     "output_type": "stream",
     "text": [
      "Saving /mnt/cube/j8xing/starling_rhythm_mfdfa/data/s_b1555_22/s_b1555_22_2022-09-23_15-00-01-02_626205_668695.wav\n",
      "Saving /mnt/cube/j8xing/starling_rhythm_mfdfa/data/s_b1555_22/s_b1555_22_2022-09-23_20-00-01-01_430295_472690.wav\n",
      "Saving /mnt/cube/j8xing/starling_rhythm_mfdfa/data/s_b1555_22/s_b1555_22_2022-09-23_20-00-01-02_1290425_1332620.wav\n",
      "Saving /mnt/cube/j8xing/starling_rhythm_mfdfa/data/s_b1555_22/s_b1555_22_2022-09-23_18-00-01-02_541435_583400.wav\n",
      "Saving /mnt/cube/j8xing/starling_rhythm_mfdfa/data/s_b1555_22/s_b1555_22_2022-09-23_16-00-01-01_1345945_1387590.wav\n"
     ]
    },
    {
     "name": "stderr",
     "output_type": "stream",
     "text": [
      "\n",
      "Processing each day's bout: 40it [00:02, 20.58it/s]\u001b[A\n",
      "Processing each day's bout: 43it [00:02, 20.63it/s]\u001b[A"
     ]
    },
    {
     "name": "stdout",
     "output_type": "stream",
     "text": [
      "Saving /mnt/cube/j8xing/starling_rhythm_mfdfa/data/s_b1555_22/s_b1555_22_2022-09-23_10-00-01-02_92825_133995.wav\n",
      "Saving /mnt/cube/j8xing/starling_rhythm_mfdfa/data/s_b1555_22/s_b1555_22_2022-09-23_10-00-01-01_1637550_1678590.wav\n",
      "Saving /mnt/cube/j8xing/starling_rhythm_mfdfa/data/s_b1555_22/s_b1555_22_2022-09-23_20-00-01-01_1071380_1111590.wav\n",
      "Saving /mnt/cube/j8xing/starling_rhythm_mfdfa/data/s_b1555_22/s_b1555_22_2022-09-23_10-00-01-02_743705_783425.wav\n",
      "Saving /mnt/cube/j8xing/starling_rhythm_mfdfa/data/s_b1555_22/s_b1555_22_2022-09-23_09-00-01-01_246755_286395.wav\n"
     ]
    },
    {
     "name": "stderr",
     "output_type": "stream",
     "text": [
      "\n",
      "Processing each day's bout: 46it [00:02, 20.86it/s]\u001b[A\n",
      "Processing each day's bout: 49it [00:02, 21.13it/s]\u001b[A"
     ]
    },
    {
     "name": "stdout",
     "output_type": "stream",
     "text": [
      "Saving /mnt/cube/j8xing/starling_rhythm_mfdfa/data/s_b1555_22/s_b1555_22_2022-09-23_20-00-01-01_510790_550370.wav\n",
      "Saving /mnt/cube/j8xing/starling_rhythm_mfdfa/data/s_b1555_22/s_b1555_22_2022-09-23_14-00-01-01_1653150_1692655.wav\n",
      "Saving /mnt/cube/j8xing/starling_rhythm_mfdfa/data/s_b1555_22/s_b1555_22_2022-09-23_20-00-01-01_1136160_1175620.wav\n",
      "Saving /mnt/cube/j8xing/starling_rhythm_mfdfa/data/s_b1555_22/s_b1555_22_2022-09-23_18-00-01-02_75995_115055.wav\n",
      "Saving /mnt/cube/j8xing/starling_rhythm_mfdfa/data/s_b1555_22/s_b1555_22_2022-09-23_20-00-01-01_1705720_1744755.wav\n"
     ]
    },
    {
     "name": "stderr",
     "output_type": "stream",
     "text": [
      "\n",
      "Processing each day's bout: 52it [00:02, 22.06it/s]\u001b[A"
     ]
    },
    {
     "name": "stdout",
     "output_type": "stream",
     "text": [
      "Saving /mnt/cube/j8xing/starling_rhythm_mfdfa/data/s_b1555_22/s_b1555_22_2022-09-23_12-00-01-01_695665_734465.wav\n",
      "Saving /mnt/cube/j8xing/starling_rhythm_mfdfa/data/s_b1555_22/s_b1555_22_2022-09-23_09-00-01-02_1514135_1552510.wav\n",
      "Saving /mnt/cube/j8xing/starling_rhythm_mfdfa/data/s_b1555_22/s_b1555_22_2022-09-23_10-00-01-01_1013520_1051375.wav\n",
      "Saving /mnt/cube/j8xing/starling_rhythm_mfdfa/data/s_b1555_22/s_b1555_22_2022-09-23_08-00-01-01_1134915_1172700.wav\n",
      "Saving /mnt/cube/j8xing/starling_rhythm_mfdfa/data/s_b1555_22/s_b1555_22_2022-09-23_19-00-01-02_962585_1000100.wav\n"
     ]
    },
    {
     "name": "stderr",
     "output_type": "stream",
     "text": [
      "\n",
      "Processing each day's bout: 55it [00:02, 22.28it/s]\u001b[A\n",
      "Processing each day's bout: 58it [00:02, 22.42it/s]\u001b[A"
     ]
    },
    {
     "name": "stdout",
     "output_type": "stream",
     "text": [
      "Saving /mnt/cube/j8xing/starling_rhythm_mfdfa/data/s_b1555_22/s_b1555_22_2022-09-23_10-00-01-01_793715_831180.wav\n",
      "Saving /mnt/cube/j8xing/starling_rhythm_mfdfa/data/s_b1555_22/s_b1555_22_2022-09-23_10-00-01-01_651310_688150.wav\n",
      "Saving /mnt/cube/j8xing/starling_rhythm_mfdfa/data/s_b1555_22/s_b1555_22_2022-09-23_14-00-01-02_1525810_1562575.wav\n",
      "Saving /mnt/cube/j8xing/starling_rhythm_mfdfa/data/s_b1555_22/s_b1555_22_2022-09-23_15-00-01-01_18700_55465.wav\n",
      "Saving /mnt/cube/j8xing/starling_rhythm_mfdfa/data/s_b1555_22/s_b1555_22_2022-09-23_15-00-01-02_738595_775325.wav\n"
     ]
    },
    {
     "name": "stderr",
     "output_type": "stream",
     "text": [
      "\n",
      "Processing each day's bout: 61it [00:03, 22.66it/s]\u001b[A\n",
      "Processing each day's bout: 64it [00:03, 23.41it/s]\u001b[A"
     ]
    },
    {
     "name": "stdout",
     "output_type": "stream",
     "text": [
      "Saving /mnt/cube/j8xing/starling_rhythm_mfdfa/data/s_b1555_22/s_b1555_22_2022-09-23_11-00-01-01_281305_318005.wav\n",
      "Saving /mnt/cube/j8xing/starling_rhythm_mfdfa/data/s_b1555_22/s_b1555_22_2022-09-23_16-00-01-02_904950_941050.wav\n",
      "Saving /mnt/cube/j8xing/starling_rhythm_mfdfa/data/s_b1555_22/s_b1555_22_2022-09-23_08-00-01-02_915565_951205.wav\n",
      "Saving /mnt/cube/j8xing/starling_rhythm_mfdfa/data/s_b1555_22/s_b1555_22_2022-09-23_16-00-01-02_1515235_1550840.wav\n",
      "Saving /mnt/cube/j8xing/starling_rhythm_mfdfa/data/s_b1555_22/s_b1555_22_2022-09-23_16-00-01-02_1469335_1504735.wav\n",
      "Saving /mnt/cube/j8xing/starling_rhythm_mfdfa/data/s_b1555_22/s_b1555_22_2022-09-23_12-00-01-01_792910_827750.wav\n"
     ]
    },
    {
     "name": "stderr",
     "output_type": "stream",
     "text": [
      "\n",
      "Processing each day's bout: 67it [00:03, 23.93it/s]\u001b[A\n",
      "Processing each day's bout: 70it [00:03, 24.28it/s]\u001b[A"
     ]
    },
    {
     "name": "stdout",
     "output_type": "stream",
     "text": [
      "Saving /mnt/cube/j8xing/starling_rhythm_mfdfa/data/s_b1555_22/s_b1555_22_2022-09-23_21-00-01-01_1291630_1325780.wav\n",
      "Saving /mnt/cube/j8xing/starling_rhythm_mfdfa/data/s_b1555_22/s_b1555_22_2022-09-23_09-00-01-02_1635150_1669190.wav\n",
      "Saving /mnt/cube/j8xing/starling_rhythm_mfdfa/data/s_b1555_22/s_b1555_22_2022-09-23_15-00-01-02_1105860_1139880.wav\n",
      "Saving /mnt/cube/j8xing/starling_rhythm_mfdfa/data/s_b1555_22/s_b1555_22_2022-09-23_18-00-01-02_629150_662870.wav\n",
      "Saving /mnt/cube/j8xing/starling_rhythm_mfdfa/data/s_b1555_22/s_b1555_22_2022-09-23_20-00-01-02_1394750_1427765.wav\n"
     ]
    },
    {
     "name": "stderr",
     "output_type": "stream",
     "text": [
      "\n",
      "Processing each day's bout: 73it [00:03, 24.85it/s]\u001b[A\n",
      "Processing each day's bout: 76it [00:03, 25.36it/s]\u001b[A"
     ]
    },
    {
     "name": "stdout",
     "output_type": "stream",
     "text": [
      "Saving /mnt/cube/j8xing/starling_rhythm_mfdfa/data/s_b1555_22/s_b1555_22_2022-09-23_18-00-01-02_156045_189050.wav\n",
      "Saving /mnt/cube/j8xing/starling_rhythm_mfdfa/data/s_b1555_22/s_b1555_22_2022-09-23_18-00-01-02_220145_253070.wav\n",
      "Saving /mnt/cube/j8xing/starling_rhythm_mfdfa/data/s_b1555_22/s_b1555_22_2022-09-23_11-00-01-01_346425_379325.wav\n",
      "Saving /mnt/cube/j8xing/starling_rhythm_mfdfa/data/s_b1555_22/s_b1555_22_2022-09-23_08-00-01-02_1017935_1050810.wav\n",
      "Saving /mnt/cube/j8xing/starling_rhythm_mfdfa/data/s_b1555_22/s_b1555_22_2022-09-23_08-00-01-01_1701865_1734670.wav\n",
      "Saving /mnt/cube/j8xing/starling_rhythm_mfdfa/data/s_b1555_22/s_b1555_22_2022-09-23_09-00-01-01_86075_118695.wav\n"
     ]
    },
    {
     "name": "stderr",
     "output_type": "stream",
     "text": [
      "\n",
      "Processing each day's bout: 79it [00:03, 25.63it/s]\u001b[A\n",
      "Processing each day's bout: 82it [00:03, 25.92it/s]\u001b[A"
     ]
    },
    {
     "name": "stdout",
     "output_type": "stream",
     "text": [
      "Saving /mnt/cube/j8xing/starling_rhythm_mfdfa/data/s_b1555_22/s_b1555_22_2022-09-23_17-00-01-01_201320_233700.wav\n",
      "Saving /mnt/cube/j8xing/starling_rhythm_mfdfa/data/s_b1555_22/s_b1555_22_2022-09-23_19-00-01-02_1058060_1090070.wav\n",
      "Saving /mnt/cube/j8xing/starling_rhythm_mfdfa/data/s_b1555_22/s_b1555_22_2022-09-23_20-00-01-02_520705_552430.wav\n",
      "Saving /mnt/cube/j8xing/starling_rhythm_mfdfa/data/s_b1555_22/s_b1555_22_2022-09-23_19-00-01-02_314680_346175.wav\n",
      "Saving /mnt/cube/j8xing/starling_rhythm_mfdfa/data/s_b1555_22/s_b1555_22_2022-09-23_09-00-01-01_559335_590595.wav\n",
      "Saving /mnt/cube/j8xing/starling_rhythm_mfdfa/data/s_b1555_22/s_b1555_22_2022-09-23_10-00-01-02_438210_469195.wav\n"
     ]
    },
    {
     "name": "stderr",
     "output_type": "stream",
     "text": [
      "\n",
      "Processing each day's bout: 85it [00:03, 26.14it/s]\u001b[A\n",
      "Processing each day's bout: 88it [00:04, 26.44it/s]\u001b[A"
     ]
    },
    {
     "name": "stdout",
     "output_type": "stream",
     "text": [
      "Saving /mnt/cube/j8xing/starling_rhythm_mfdfa/data/s_b1555_22/s_b1555_22_2022-09-23_09-00-01-01_1759285_1790260.wav\n",
      "Saving /mnt/cube/j8xing/starling_rhythm_mfdfa/data/s_b1555_22/s_b1555_22_2022-09-23_20-00-01-01_1500785_1531675.wav\n",
      "Saving /mnt/cube/j8xing/starling_rhythm_mfdfa/data/s_b1555_22/s_b1555_22_2022-09-23_20-00-01-01_1570020_1600790.wav\n",
      "Saving /mnt/cube/j8xing/starling_rhythm_mfdfa/data/s_b1555_22/s_b1555_22_2022-09-23_16-00-01-01_1593815_1624485.wav\n",
      "Saving /mnt/cube/j8xing/starling_rhythm_mfdfa/data/s_b1555_22/s_b1555_22_2022-09-23_16-00-01-02_962290_992845.wav\n",
      "Saving /mnt/cube/j8xing/starling_rhythm_mfdfa/data/s_b1555_22/s_b1555_22_2022-09-23_15-00-01-02_184005_214245.wav\n"
     ]
    },
    {
     "name": "stderr",
     "output_type": "stream",
     "text": [
      "\n",
      "Processing each day's bout: 91it [00:04, 26.97it/s]\u001b[A\n",
      "Processing each day's bout: 95it [00:04, 28.12it/s]\u001b[A"
     ]
    },
    {
     "name": "stdout",
     "output_type": "stream",
     "text": [
      "Saving /mnt/cube/j8xing/starling_rhythm_mfdfa/data/s_b1555_22/s_b1555_22_2022-09-23_08-00-01-02_1353640_1383850.wav\n",
      "Saving /mnt/cube/j8xing/starling_rhythm_mfdfa/data/s_b1555_22/s_b1555_22_2022-09-23_10-00-01-02_1329415_1359470.wav\n",
      "Saving /mnt/cube/j8xing/starling_rhythm_mfdfa/data/s_b1555_22/s_b1555_22_2022-09-23_15-00-01-02_819990_849935.wav\n",
      "Saving /mnt/cube/j8xing/starling_rhythm_mfdfa/data/s_b1555_22/s_b1555_22_2022-09-23_10-00-01-02_1509785_1539655.wav\n",
      "Saving /mnt/cube/j8xing/starling_rhythm_mfdfa/data/s_b1555_22/s_b1555_22_2022-09-23_20-00-01-01_690475_719320.wav\n",
      "Saving /mnt/cube/j8xing/starling_rhythm_mfdfa/data/s_b1555_22/s_b1555_22_2022-09-23_10-00-01-02_205545_233840.wav\n"
     ]
    },
    {
     "name": "stderr",
     "output_type": "stream",
     "text": [
      "\n",
      "Processing each day's bout: 99it [00:04, 28.89it/s]\u001b[A"
     ]
    },
    {
     "name": "stdout",
     "output_type": "stream",
     "text": [
      "Saving /mnt/cube/j8xing/starling_rhythm_mfdfa/data/s_b1555_22/s_b1555_22_2022-09-23_19-00-01-02_191685_219655.wav\n",
      "Saving /mnt/cube/j8xing/starling_rhythm_mfdfa/data/s_b1555_22/s_b1555_22_2022-09-23_08-00-01-02_1429465_1457205.wav\n",
      "Saving /mnt/cube/j8xing/starling_rhythm_mfdfa/data/s_b1555_22/s_b1555_22_2022-09-23_11-00-01-02_1672415_1699985.wav\n",
      "Saving /mnt/cube/j8xing/starling_rhythm_mfdfa/data/s_b1555_22/s_b1555_22_2022-09-23_20-00-01-01_643705_670435.wav\n",
      "Saving /mnt/cube/j8xing/starling_rhythm_mfdfa/data/s_b1555_22/s_b1555_22_2022-09-23_21-00-01-02_553835_580355.wav\n",
      "Saving /mnt/cube/j8xing/starling_rhythm_mfdfa/data/s_b1555_22/s_b1555_22_2022-09-23_18-00-01-01_1116740_1141900.wav\n",
      "Saving /mnt/cube/j8xing/starling_rhythm_mfdfa/data/s_b1555_22/s_b1555_22_2022-09-23_15-00-01-02_467740_491540.wav\n"
     ]
    },
    {
     "name": "stderr",
     "output_type": "stream",
     "text": [
      "\n",
      "Processing each day's bout: 102it [00:04, 28.15it/s]\u001b[A\n",
      "Processing each day's bout: 114it [00:04, 24.15it/s]\u001b[A\n",
      "Processing each day:  10%|█         | 1/10 [00:08<01:13,  8.20s/it]"
     ]
    },
    {
     "name": "stdout",
     "output_type": "stream",
     "text": [
      "Saving /mnt/cube/j8xing/starling_rhythm_mfdfa/data/s_b1555_22/s_b1555_22_2022-09-23_08-00-01-01_1226365_1249600.wav\n",
      "Saving /mnt/cube/j8xing/starling_rhythm_mfdfa/data/s_b1555_22/s_b1555_22_2022-09-23_10-00-01-01_1157035_1178680.wav\n",
      "Saving /mnt/cube/j8xing/starling_rhythm_mfdfa/data/s_b1555_22/s_b1555_22_2022-09-23_08-00-01-02_1518070_1539600.wav\n",
      "Saving /mnt/cube/j8xing/starling_rhythm_mfdfa/data/s_b1555_22/s_b1555_22_2022-09-23_19-00-01-02_383270_394935.wav\n",
      "Saving /mnt/cube/j8xing/starling_rhythm_mfdfa/data/s_b1555_22/s_b1555_22_2022-09-23_10-00-01-02_383465_392580.wav\n",
      "Saving /mnt/cube/j8xing/starling_rhythm_mfdfa/data/s_b1555_22/s_b1555_22_2022-09-23_08-00-01-01_71685_79925.wav\n",
      "Saving /mnt/cube/j8xing/starling_rhythm_mfdfa/data/s_b1555_22/s_b1555_22_2022-09-23_14-00-01-01_679825_687055.wav\n",
      "Saving /mnt/cube/j8xing/starling_rhythm_mfdfa/data/s_b1555_22/s_b1555_22_2022-09-23_16-00-01-01_1162170_1169300.wav\n",
      "Saving /mnt/cube/j8xing/starling_rhythm_mfdfa/data/s_b1555_22/s_b1555_22_2022-09-23_15-00-01-02_339865_346470.wav\n",
      "Saving /mnt/cube/j8xing/starling_rhythm_mfdfa/data/s_b1555_22/s_b1555_22_2022-09-23_08-00-01-02_208770_212225.wav\n",
      "Saving /mnt/cube/j8xing/starling_rhythm_mfdfa/data/s_b1555_22/s_b1555_22_2022-09-23_16-00-01-01_1796535_1799990.wav\n",
      "Saving /mnt/cube/j8xing/starling_rhythm_mfdfa/data/s_b1555_22/s_b1555_22_2022-09-23_11-00-01-01_631400_634820.wav\n"
     ]
    },
    {
     "name": "stderr",
     "output_type": "stream",
     "text": [
      "\n",
      "Processing each day's bout: 0it [00:00, ?it/s]\u001b[A\n",
      "Processing each day's bout: 1it [00:00,  2.98it/s]\u001b[A\n",
      "Processing each day's bout: 3it [00:00,  7.62it/s]\u001b[A"
     ]
    },
    {
     "name": "stdout",
     "output_type": "stream",
     "text": [
      "Saving /mnt/cube/j8xing/starling_rhythm_mfdfa/data/s_b1555_22/s_b1555_22_2022-09-29_18-00-01-01_1416115_1474330.wav\n",
      "Saving /mnt/cube/j8xing/starling_rhythm_mfdfa/data/s_b1555_22/s_b1555_22_2022-09-29_20-00-02-01_1090140_1148135.wav\n",
      "Saving /mnt/cube/j8xing/starling_rhythm_mfdfa/data/s_b1555_22/s_b1555_22_2022-09-29_14-00-01-02_123230_180970.wav\n",
      "Saving /mnt/cube/j8xing/starling_rhythm_mfdfa/data/s_b1555_22/s_b1555_22_2022-09-29_20-00-02-01_691895_748920.wav\n"
     ]
    },
    {
     "name": "stderr",
     "output_type": "stream",
     "text": [
      "\n",
      "Processing each day's bout: 5it [00:00, 10.65it/s]\u001b[A\n",
      "Processing each day's bout: 7it [00:00, 12.78it/s]\u001b[A"
     ]
    },
    {
     "name": "stdout",
     "output_type": "stream",
     "text": [
      "Saving /mnt/cube/j8xing/starling_rhythm_mfdfa/data/s_b1555_22/s_b1555_22_2022-09-29_19-00-01-02_1081370_1134845.wav\n",
      "Saving /mnt/cube/j8xing/starling_rhythm_mfdfa/data/s_b1555_22/s_b1555_22_2022-09-29_16-00-01-02_1579240_1631870.wav\n",
      "Saving /mnt/cube/j8xing/starling_rhythm_mfdfa/data/s_b1555_22/s_b1555_22_2022-09-29_17-00-01-01_71840_124470.wav\n",
      "Saving /mnt/cube/j8xing/starling_rhythm_mfdfa/data/s_b1555_22/s_b1555_22_2022-09-29_15-00-01-02_1457010_1508465.wav\n"
     ]
    },
    {
     "name": "stderr",
     "output_type": "stream",
     "text": [
      "\n",
      "Processing each day's bout: 9it [00:00, 14.22it/s]\u001b[A\n",
      "Processing each day's bout: 11it [00:00, 15.29it/s]\u001b[A"
     ]
    },
    {
     "name": "stdout",
     "output_type": "stream",
     "text": [
      "Saving /mnt/cube/j8xing/starling_rhythm_mfdfa/data/s_b1555_22/s_b1555_22_2022-09-29_18-00-01-02_653055_703520.wav\n",
      "Saving /mnt/cube/j8xing/starling_rhythm_mfdfa/data/s_b1555_22/s_b1555_22_2022-09-29_16-00-01-02_764570_814955.wav\n",
      "Saving /mnt/cube/j8xing/starling_rhythm_mfdfa/data/s_b1555_22/s_b1555_22_2022-09-29_12-00-02-01_1376825_1427200.wav\n",
      "Saving /mnt/cube/j8xing/starling_rhythm_mfdfa/data/s_b1555_22/s_b1555_22_2022-09-29_18-00-01-01_1258140_1308180.wav\n"
     ]
    },
    {
     "name": "stderr",
     "output_type": "stream",
     "text": [
      "\n",
      "Processing each day's bout: 13it [00:01, 16.14it/s]\u001b[A\n",
      "Processing each day's bout: 15it [00:01, 16.79it/s]\u001b[A"
     ]
    },
    {
     "name": "stdout",
     "output_type": "stream",
     "text": [
      "Saving /mnt/cube/j8xing/starling_rhythm_mfdfa/data/s_b1555_22/s_b1555_22_2022-09-29_17-00-01-01_1478095_1526475.wav\n",
      "Saving /mnt/cube/j8xing/starling_rhythm_mfdfa/data/s_b1555_22/s_b1555_22_2022-09-29_12-00-02-01_1280475_1328620.wav\n",
      "Saving /mnt/cube/j8xing/starling_rhythm_mfdfa/data/s_b1555_22/s_b1555_22_2022-09-29_09-00-01-01_1519475_1567270.wav\n",
      "Saving /mnt/cube/j8xing/starling_rhythm_mfdfa/data/s_b1555_22/s_b1555_22_2022-09-29_15-00-01-01_442275_489815.wav\n"
     ]
    },
    {
     "name": "stderr",
     "output_type": "stream",
     "text": [
      "\n",
      "Processing each day's bout: 17it [00:01, 17.39it/s]\u001b[A\n",
      "Processing each day's bout: 20it [00:01, 18.59it/s]\u001b[A"
     ]
    },
    {
     "name": "stdout",
     "output_type": "stream",
     "text": [
      "Saving /mnt/cube/j8xing/starling_rhythm_mfdfa/data/s_b1555_22/s_b1555_22_2022-09-29_11-00-01-02_672040_719425.wav\n",
      "Saving /mnt/cube/j8xing/starling_rhythm_mfdfa/data/s_b1555_22/s_b1555_22_2022-09-29_21-00-01-02_1004735_1051475.wav\n",
      "Saving /mnt/cube/j8xing/starling_rhythm_mfdfa/data/s_b1555_22/s_b1555_22_2022-09-29_11-00-01-01_1424655_1471140.wav\n",
      "Saving /mnt/cube/j8xing/starling_rhythm_mfdfa/data/s_b1555_22/s_b1555_22_2022-09-29_16-00-01-02_1179750_1225850.wav\n",
      "Saving /mnt/cube/j8xing/starling_rhythm_mfdfa/data/s_b1555_22/s_b1555_22_2022-09-29_09-00-01-02_435185_481240.wav\n"
     ]
    },
    {
     "name": "stderr",
     "output_type": "stream",
     "text": [
      "\n",
      "Processing each day's bout: 23it [00:01, 19.41it/s]\u001b[A"
     ]
    },
    {
     "name": "stdout",
     "output_type": "stream",
     "text": [
      "Saving /mnt/cube/j8xing/starling_rhythm_mfdfa/data/s_b1555_22/s_b1555_22_2022-09-29_11-00-01-01_897840_943855.wav\n",
      "Saving /mnt/cube/j8xing/starling_rhythm_mfdfa/data/s_b1555_22/s_b1555_22_2022-09-29_09-00-01-02_924880_970835.wav\n",
      "Saving /mnt/cube/j8xing/starling_rhythm_mfdfa/data/s_b1555_22/s_b1555_22_2022-09-29_18-00-01-01_1675745_1721350.wav\n",
      "Saving /mnt/cube/j8xing/starling_rhythm_mfdfa/data/s_b1555_22/s_b1555_22_2022-09-29_19-00-01-01_1505940_1551515.wav\n",
      "Saving /mnt/cube/j8xing/starling_rhythm_mfdfa/data/s_b1555_22/s_b1555_22_2022-09-29_16-00-01-02_1293085_1338275.wav\n"
     ]
    },
    {
     "name": "stderr",
     "output_type": "stream",
     "text": [
      "\n",
      "Processing each day's bout: 26it [00:01, 20.12it/s]\u001b[A\n",
      "Processing each day's bout: 29it [00:01, 20.40it/s]\u001b[A"
     ]
    },
    {
     "name": "stdout",
     "output_type": "stream",
     "text": [
      "Saving /mnt/cube/j8xing/starling_rhythm_mfdfa/data/s_b1555_22/s_b1555_22_2022-09-29_20-00-02-02_80650_125815.wav\n",
      "Saving /mnt/cube/j8xing/starling_rhythm_mfdfa/data/s_b1555_22/s_b1555_22_2022-09-29_18-00-01-01_987880_1031605.wav\n",
      "Saving /mnt/cube/j8xing/starling_rhythm_mfdfa/data/s_b1555_22/s_b1555_22_2022-09-29_21-00-01-01_1019505_1063170.wav\n",
      "Saving /mnt/cube/j8xing/starling_rhythm_mfdfa/data/s_b1555_22/s_b1555_22_2022-09-29_09-00-01-02_250850_294050.wav\n",
      "Saving /mnt/cube/j8xing/starling_rhythm_mfdfa/data/s_b1555_22/s_b1555_22_2022-09-29_12-00-02-01_315730_358870.wav\n"
     ]
    },
    {
     "name": "stderr",
     "output_type": "stream",
     "text": [
      "\n",
      "Processing each day's bout: 32it [00:01, 21.21it/s]\u001b[A\n",
      "Processing each day's bout: 35it [00:02, 21.45it/s]\u001b[A"
     ]
    },
    {
     "name": "stdout",
     "output_type": "stream",
     "text": [
      "Saving /mnt/cube/j8xing/starling_rhythm_mfdfa/data/s_b1555_22/s_b1555_22_2022-09-29_11-00-01-01_814115_857230.wav\n",
      "Saving /mnt/cube/j8xing/starling_rhythm_mfdfa/data/s_b1555_22/s_b1555_22_2022-09-29_21-00-01-01_1340145_1383210.wav\n",
      "Saving /mnt/cube/j8xing/starling_rhythm_mfdfa/data/s_b1555_22/s_b1555_22_2022-09-29_17-00-01-01_937470_980515.wav\n",
      "Saving /mnt/cube/j8xing/starling_rhythm_mfdfa/data/s_b1555_22/s_b1555_22_2022-09-29_20-00-02-01_914280_957285.wav\n",
      "Saving /mnt/cube/j8xing/starling_rhythm_mfdfa/data/s_b1555_22/s_b1555_22_2022-09-29_19-00-01-01_1601005_1643710.wav\n"
     ]
    },
    {
     "name": "stderr",
     "output_type": "stream",
     "text": [
      "\n",
      "Processing each day's bout: 38it [00:02, 21.42it/s]\u001b[A"
     ]
    },
    {
     "name": "stdout",
     "output_type": "stream",
     "text": [
      "Saving /mnt/cube/j8xing/starling_rhythm_mfdfa/data/s_b1555_22/s_b1555_22_2022-09-29_17-00-01-01_1555145_1597710.wav\n",
      "Saving /mnt/cube/j8xing/starling_rhythm_mfdfa/data/s_b1555_22/s_b1555_22_2022-09-29_15-00-01-02_235305_277615.wav\n",
      "Saving /mnt/cube/j8xing/starling_rhythm_mfdfa/data/s_b1555_22/s_b1555_22_2022-09-29_20-00-02-01_804465_846495.wav\n",
      "Saving /mnt/cube/j8xing/starling_rhythm_mfdfa/data/s_b1555_22/s_b1555_22_2022-09-29_20-00-02-01_200600_242545.wav\n",
      "Saving /mnt/cube/j8xing/starling_rhythm_mfdfa/data/s_b1555_22/s_b1555_22_2022-09-29_18-00-01-02_411855_453735.wav\n"
     ]
    },
    {
     "name": "stderr",
     "output_type": "stream",
     "text": [
      "\n",
      "Processing each day's bout: 41it [00:02, 21.40it/s]\u001b[A\n",
      "Processing each day's bout: 44it [00:02, 21.38it/s]\u001b[A"
     ]
    },
    {
     "name": "stdout",
     "output_type": "stream",
     "text": [
      "Saving /mnt/cube/j8xing/starling_rhythm_mfdfa/data/s_b1555_22/s_b1555_22_2022-09-29_18-00-01-02_337125_378920.wav\n",
      "Saving /mnt/cube/j8xing/starling_rhythm_mfdfa/data/s_b1555_22/s_b1555_22_2022-09-29_09-00-01-02_614585_656260.wav\n",
      "Saving /mnt/cube/j8xing/starling_rhythm_mfdfa/data/s_b1555_22/s_b1555_22_2022-09-29_09-00-01-01_1747470_1789115.wav\n",
      "Saving /mnt/cube/j8xing/starling_rhythm_mfdfa/data/s_b1555_22/s_b1555_22_2022-09-29_19-00-01-01_1703830_1745225.wav\n",
      "Saving /mnt/cube/j8xing/starling_rhythm_mfdfa/data/s_b1555_22/s_b1555_22_2022-09-29_15-00-01-01_1508980_1550115.wav\n"
     ]
    },
    {
     "name": "stderr",
     "output_type": "stream",
     "text": [
      "\n",
      "Processing each day's bout: 47it [00:02, 21.44it/s]\u001b[A\n",
      "Processing each day's bout: 50it [00:02, 21.46it/s]\u001b[A"
     ]
    },
    {
     "name": "stdout",
     "output_type": "stream",
     "text": [
      "Saving /mnt/cube/j8xing/starling_rhythm_mfdfa/data/s_b1555_22/s_b1555_22_2022-09-29_13-00-01-02_727495_768440.wav\n",
      "Saving /mnt/cube/j8xing/starling_rhythm_mfdfa/data/s_b1555_22/s_b1555_22_2022-09-29_20-00-02-01_292320_333185.wav\n",
      "Saving /mnt/cube/j8xing/starling_rhythm_mfdfa/data/s_b1555_22/s_b1555_22_2022-09-29_14-00-01-02_523355_564070.wav\n",
      "Saving /mnt/cube/j8xing/starling_rhythm_mfdfa/data/s_b1555_22/s_b1555_22_2022-09-29_19-00-01-01_1155055_1195750.wav\n",
      "Saving /mnt/cube/j8xing/starling_rhythm_mfdfa/data/s_b1555_22/s_b1555_22_2022-09-29_20-00-02-01_1329125_1369680.wav\n"
     ]
    },
    {
     "name": "stderr",
     "output_type": "stream",
     "text": [
      "\n",
      "Processing each day's bout: 53it [00:02, 21.69it/s]\u001b[A"
     ]
    },
    {
     "name": "stdout",
     "output_type": "stream",
     "text": [
      "Saving /mnt/cube/j8xing/starling_rhythm_mfdfa/data/s_b1555_22/s_b1555_22_2022-09-29_18-00-01-01_478465_518920.wav\n",
      "Saving /mnt/cube/j8xing/starling_rhythm_mfdfa/data/s_b1555_22/s_b1555_22_2022-09-29_10-00-01-02_871430_911600.wav\n",
      "Saving /mnt/cube/j8xing/starling_rhythm_mfdfa/data/s_b1555_22/s_b1555_22_2022-09-29_12-00-02-02_862180_902205.wav\n",
      "Saving /mnt/cube/j8xing/starling_rhythm_mfdfa/data/s_b1555_22/s_b1555_22_2022-09-29_20-00-02-02_467635_507515.wav\n",
      "Saving /mnt/cube/j8xing/starling_rhythm_mfdfa/data/s_b1555_22/s_b1555_22_2022-09-29_15-00-01-01_575725_615275.wav\n"
     ]
    },
    {
     "name": "stderr",
     "output_type": "stream",
     "text": [
      "\n",
      "Processing each day's bout: 56it [00:03, 21.92it/s]\u001b[A\n",
      "Processing each day's bout: 59it [00:03, 22.03it/s]\u001b[A"
     ]
    },
    {
     "name": "stdout",
     "output_type": "stream",
     "text": [
      "Saving /mnt/cube/j8xing/starling_rhythm_mfdfa/data/s_b1555_22/s_b1555_22_2022-09-29_09-00-01-02_546710_585795.wav\n",
      "Saving /mnt/cube/j8xing/starling_rhythm_mfdfa/data/s_b1555_22/s_b1555_22_2022-09-29_20-00-02-01_1609680_1648725.wav\n",
      "Saving /mnt/cube/j8xing/starling_rhythm_mfdfa/data/s_b1555_22/s_b1555_22_2022-09-29_18-00-01-01_892580_931615.wav\n",
      "Saving /mnt/cube/j8xing/starling_rhythm_mfdfa/data/s_b1555_22/s_b1555_22_2022-09-29_10-00-01-01_222465_261425.wav\n",
      "Saving /mnt/cube/j8xing/starling_rhythm_mfdfa/data/s_b1555_22/s_b1555_22_2022-09-29_11-00-01-02_454080_493010.wav\n"
     ]
    },
    {
     "name": "stderr",
     "output_type": "stream",
     "text": [
      "\n",
      "Processing each day's bout: 62it [00:03, 22.06it/s]\u001b[A\n",
      "Processing each day's bout: 65it [00:03, 22.25it/s]\u001b[A"
     ]
    },
    {
     "name": "stdout",
     "output_type": "stream",
     "text": [
      "Saving /mnt/cube/j8xing/starling_rhythm_mfdfa/data/s_b1555_22/s_b1555_22_2022-09-29_11-00-01-02_1308410_1347150.wav\n",
      "Saving /mnt/cube/j8xing/starling_rhythm_mfdfa/data/s_b1555_22/s_b1555_22_2022-09-29_11-00-01-02_272455_311175.wav\n",
      "Saving /mnt/cube/j8xing/starling_rhythm_mfdfa/data/s_b1555_22/s_b1555_22_2022-09-29_12-00-02-02_1205010_1243490.wav\n",
      "Saving /mnt/cube/j8xing/starling_rhythm_mfdfa/data/s_b1555_22/s_b1555_22_2022-09-29_19-00-01-02_683930_722330.wav\n",
      "Saving /mnt/cube/j8xing/starling_rhythm_mfdfa/data/s_b1555_22/s_b1555_22_2022-09-29_19-00-01-02_210870_249115.wav\n"
     ]
    },
    {
     "name": "stderr",
     "output_type": "stream",
     "text": [
      "\n",
      "Processing each day's bout: 68it [00:03, 23.08it/s]\u001b[A"
     ]
    },
    {
     "name": "stdout",
     "output_type": "stream",
     "text": [
      "Saving /mnt/cube/j8xing/starling_rhythm_mfdfa/data/s_b1555_22/s_b1555_22_2022-09-29_10-00-01-02_565720_603830.wav\n",
      "Saving /mnt/cube/j8xing/starling_rhythm_mfdfa/data/s_b1555_22/s_b1555_22_2022-09-29_18-00-01-02_878535_916630.wav\n",
      "Saving /mnt/cube/j8xing/starling_rhythm_mfdfa/data/s_b1555_22/s_b1555_22_2022-09-29_09-00-01-02_1061885_1099935.wav\n",
      "Saving /mnt/cube/j8xing/starling_rhythm_mfdfa/data/s_b1555_22/s_b1555_22_2022-09-29_12-00-02-01_998085_1036070.wav\n",
      "Saving /mnt/cube/j8xing/starling_rhythm_mfdfa/data/s_b1555_22/s_b1555_22_2022-09-29_20-00-02-02_1629460_1667380.wav\n"
     ]
    },
    {
     "name": "stderr",
     "output_type": "stream",
     "text": [
      "\n",
      "Processing each day's bout: 71it [00:03, 23.04it/s]\u001b[A\n",
      "Processing each day's bout: 74it [00:03, 23.03it/s]\u001b[A"
     ]
    },
    {
     "name": "stdout",
     "output_type": "stream",
     "text": [
      "Saving /mnt/cube/j8xing/starling_rhythm_mfdfa/data/s_b1555_22/s_b1555_22_2022-09-29_11-00-01-01_494590_532505.wav\n",
      "Saving /mnt/cube/j8xing/starling_rhythm_mfdfa/data/s_b1555_22/s_b1555_22_2022-09-29_21-00-01-01_836965_874850.wav\n",
      "Saving /mnt/cube/j8xing/starling_rhythm_mfdfa/data/s_b1555_22/s_b1555_22_2022-09-29_21-00-01-01_122715_160535.wav\n",
      "Saving /mnt/cube/j8xing/starling_rhythm_mfdfa/data/s_b1555_22/s_b1555_22_2022-09-29_19-00-01-01_1091655_1128815.wav\n",
      "Saving /mnt/cube/j8xing/starling_rhythm_mfdfa/data/s_b1555_22/s_b1555_22_2022-09-29_09-00-01-02_843400_880460.wav\n"
     ]
    },
    {
     "name": "stderr",
     "output_type": "stream",
     "text": [
      "\n",
      "Processing each day's bout: 77it [00:03, 23.08it/s]\u001b[A\n",
      "Processing each day's bout: 80it [00:04, 23.54it/s]\u001b[A"
     ]
    },
    {
     "name": "stdout",
     "output_type": "stream",
     "text": [
      "Saving /mnt/cube/j8xing/starling_rhythm_mfdfa/data/s_b1555_22/s_b1555_22_2022-09-29_19-00-01-02_748595_784810.wav\n",
      "Saving /mnt/cube/j8xing/starling_rhythm_mfdfa/data/s_b1555_22/s_b1555_22_2022-09-29_18-00-01-02_956965_993155.wav\n",
      "Saving /mnt/cube/j8xing/starling_rhythm_mfdfa/data/s_b1555_22/s_b1555_22_2022-09-29_09-00-01-02_757140_793080.wav\n",
      "Saving /mnt/cube/j8xing/starling_rhythm_mfdfa/data/s_b1555_22/s_b1555_22_2022-09-29_15-00-01-01_502845_538480.wav\n",
      "Saving /mnt/cube/j8xing/starling_rhythm_mfdfa/data/s_b1555_22/s_b1555_22_2022-09-29_21-00-01-02_844145_879595.wav\n"
     ]
    },
    {
     "name": "stderr",
     "output_type": "stream",
     "text": [
      "\n",
      "Processing each day's bout: 83it [00:04, 24.22it/s]\u001b[A\n",
      "Processing each day's bout: 86it [00:04, 24.62it/s]\u001b[A"
     ]
    },
    {
     "name": "stdout",
     "output_type": "stream",
     "text": [
      "Saving /mnt/cube/j8xing/starling_rhythm_mfdfa/data/s_b1555_22/s_b1555_22_2022-09-29_10-00-01-02_956415_991715.wav\n",
      "Saving /mnt/cube/j8xing/starling_rhythm_mfdfa/data/s_b1555_22/s_b1555_22_2022-09-29_16-00-01-02_845055_880270.wav\n",
      "Saving /mnt/cube/j8xing/starling_rhythm_mfdfa/data/s_b1555_22/s_b1555_22_2022-09-29_11-00-01-02_1433415_1468565.wav\n",
      "Saving /mnt/cube/j8xing/starling_rhythm_mfdfa/data/s_b1555_22/s_b1555_22_2022-09-29_10-00-01-01_912225_947345.wav\n",
      "Saving /mnt/cube/j8xing/starling_rhythm_mfdfa/data/s_b1555_22/s_b1555_22_2022-09-29_19-00-01-02_1388480_1423535.wav\n",
      "Saving /mnt/cube/j8xing/starling_rhythm_mfdfa/data/s_b1555_22/s_b1555_22_2022-09-29_19-00-01-02_1322905_1357935.wav\n"
     ]
    },
    {
     "name": "stderr",
     "output_type": "stream",
     "text": [
      "\n",
      "Processing each day's bout: 89it [00:04, 25.14it/s]\u001b[A\n",
      "Processing each day's bout: 92it [00:04, 25.45it/s]\u001b[A"
     ]
    },
    {
     "name": "stdout",
     "output_type": "stream",
     "text": [
      "Saving /mnt/cube/j8xing/starling_rhythm_mfdfa/data/s_b1555_22/s_b1555_22_2022-09-29_10-00-01-02_1327295_1362310.wav\n",
      "Saving /mnt/cube/j8xing/starling_rhythm_mfdfa/data/s_b1555_22/s_b1555_22_2022-09-29_18-00-01-01_426450_461460.wav\n",
      "Saving /mnt/cube/j8xing/starling_rhythm_mfdfa/data/s_b1555_22/s_b1555_22_2022-09-29_20-00-02-02_309780_344750.wav\n",
      "Saving /mnt/cube/j8xing/starling_rhythm_mfdfa/data/s_b1555_22/s_b1555_22_2022-09-29_21-00-01-01_485300_520115.wav\n",
      "Saving /mnt/cube/j8xing/starling_rhythm_mfdfa/data/s_b1555_22/s_b1555_22_2022-09-29_09-00-01-01_1599475_1634210.wav\n",
      "Saving /mnt/cube/j8xing/starling_rhythm_mfdfa/data/s_b1555_22/s_b1555_22_2022-09-29_14-00-01-01_1600775_1634750.wav\n"
     ]
    },
    {
     "name": "stderr",
     "output_type": "stream",
     "text": [
      "\n",
      "Processing each day's bout: 95it [00:04, 26.26it/s]\u001b[A\n",
      "Processing each day's bout: 98it [00:04, 26.75it/s]\u001b[A"
     ]
    },
    {
     "name": "stdout",
     "output_type": "stream",
     "text": [
      "Saving /mnt/cube/j8xing/starling_rhythm_mfdfa/data/s_b1555_22/s_b1555_22_2022-09-29_11-00-01-01_1275220_1308520.wav\n",
      "Saving /mnt/cube/j8xing/starling_rhythm_mfdfa/data/s_b1555_22/s_b1555_22_2022-09-29_21-00-01-01_571405_604365.wav\n",
      "Saving /mnt/cube/j8xing/starling_rhythm_mfdfa/data/s_b1555_22/s_b1555_22_2022-09-29_19-00-01-02_826655_859550.wav\n",
      "Saving /mnt/cube/j8xing/starling_rhythm_mfdfa/data/s_b1555_22/s_b1555_22_2022-09-29_11-00-01-01_21955_54420.wav\n",
      "Saving /mnt/cube/j8xing/starling_rhythm_mfdfa/data/s_b1555_22/s_b1555_22_2022-09-29_10-00-01-01_1163450_1195865.wav\n",
      "Saving /mnt/cube/j8xing/starling_rhythm_mfdfa/data/s_b1555_22/s_b1555_22_2022-09-29_16-00-01-01_68610_100700.wav\n"
     ]
    },
    {
     "name": "stderr",
     "output_type": "stream",
     "text": [
      "\n",
      "Processing each day's bout: 101it [00:04, 27.06it/s]\u001b[A\n",
      "Processing each day's bout: 104it [00:04, 27.27it/s]\u001b[A"
     ]
    },
    {
     "name": "stdout",
     "output_type": "stream",
     "text": [
      "Saving /mnt/cube/j8xing/starling_rhythm_mfdfa/data/s_b1555_22/s_b1555_22_2022-09-29_15-00-01-02_1575800_1607885.wav\n",
      "Saving /mnt/cube/j8xing/starling_rhythm_mfdfa/data/s_b1555_22/s_b1555_22_2022-09-29_11-00-01-01_136275_168240.wav\n",
      "Saving /mnt/cube/j8xing/starling_rhythm_mfdfa/data/s_b1555_22/s_b1555_22_2022-09-29_20-00-02-01_1492675_1524595.wav\n",
      "Saving /mnt/cube/j8xing/starling_rhythm_mfdfa/data/s_b1555_22/s_b1555_22_2022-09-29_11-00-01-01_330885_362625.wav\n",
      "Saving /mnt/cube/j8xing/starling_rhythm_mfdfa/data/s_b1555_22/s_b1555_22_2022-09-29_14-00-01-01_1665125_1696170.wav\n",
      "Saving /mnt/cube/j8xing/starling_rhythm_mfdfa/data/s_b1555_22/s_b1555_22_2022-09-29_10-00-01-01_347655_378665.wav\n"
     ]
    },
    {
     "name": "stderr",
     "output_type": "stream",
     "text": [
      "\n",
      "Processing each day's bout: 107it [00:05, 27.58it/s]\u001b[A\n",
      "Processing each day's bout: 111it [00:05, 28.98it/s]\u001b[A"
     ]
    },
    {
     "name": "stdout",
     "output_type": "stream",
     "text": [
      "Saving /mnt/cube/j8xing/starling_rhythm_mfdfa/data/s_b1555_22/s_b1555_22_2022-09-29_11-00-01-01_1767555_1798520.wav\n",
      "Saving /mnt/cube/j8xing/starling_rhythm_mfdfa/data/s_b1555_22/s_b1555_22_2022-09-29_11-00-01-01_1031170_1062060.wav\n",
      "Saving /mnt/cube/j8xing/starling_rhythm_mfdfa/data/s_b1555_22/s_b1555_22_2022-09-29_15-00-01-02_287825_317905.wav\n",
      "Saving /mnt/cube/j8xing/starling_rhythm_mfdfa/data/s_b1555_22/s_b1555_22_2022-09-29_10-00-01-02_477495_506920.wav\n",
      "Saving /mnt/cube/j8xing/starling_rhythm_mfdfa/data/s_b1555_22/s_b1555_22_2022-09-29_19-00-01-02_1658225_1687330.wav\n",
      "Saving /mnt/cube/j8xing/starling_rhythm_mfdfa/data/s_b1555_22/s_b1555_22_2022-09-29_21-00-01-01_211410_239745.wav\n",
      "Saving /mnt/cube/j8xing/starling_rhythm_mfdfa/data/s_b1555_22/s_b1555_22_2022-09-29_20-00-02-01_405610_433855.wav\n"
     ]
    },
    {
     "name": "stderr",
     "output_type": "stream",
     "text": [
      "\n",
      "Processing each day's bout: 115it [00:05, 29.45it/s]\u001b[A"
     ]
    },
    {
     "name": "stdout",
     "output_type": "stream",
     "text": [
      "Saving /mnt/cube/j8xing/starling_rhythm_mfdfa/data/s_b1555_22/s_b1555_22_2022-09-29_09-00-01-02_1585615_1613805.wav\n",
      "Saving /mnt/cube/j8xing/starling_rhythm_mfdfa/data/s_b1555_22/s_b1555_22_2022-09-29_19-00-01-02_899275_927340.wav\n",
      "Saving /mnt/cube/j8xing/starling_rhythm_mfdfa/data/s_b1555_22/s_b1555_22_2022-09-29_19-00-01-01_241595_269030.wav\n",
      "Saving /mnt/cube/j8xing/starling_rhythm_mfdfa/data/s_b1555_22/s_b1555_22_2022-09-29_09-00-01-02_353230_380650.wav\n",
      "Saving /mnt/cube/j8xing/starling_rhythm_mfdfa/data/s_b1555_22/s_b1555_22_2022-09-29_21-00-01-01_1401575_1428905.wav\n",
      "Saving /mnt/cube/j8xing/starling_rhythm_mfdfa/data/s_b1555_22/s_b1555_22_2022-09-29_21-00-01-01_1626245_1653460.wav\n"
     ]
    },
    {
     "name": "stderr",
     "output_type": "stream",
     "text": [
      "\n",
      "Processing each day's bout: 118it [00:05, 29.24it/s]\u001b[A\n",
      "Processing each day's bout: 121it [00:05, 29.32it/s]\u001b[A"
     ]
    },
    {
     "name": "stdout",
     "output_type": "stream",
     "text": [
      "Saving /mnt/cube/j8xing/starling_rhythm_mfdfa/data/s_b1555_22/s_b1555_22_2022-09-29_16-00-01-02_958635_985525.wav\n",
      "Saving /mnt/cube/j8xing/starling_rhythm_mfdfa/data/s_b1555_22/s_b1555_22_2022-09-29_10-00-01-01_483800_510235.wav\n",
      "Saving /mnt/cube/j8xing/starling_rhythm_mfdfa/data/s_b1555_22/s_b1555_22_2022-09-29_10-00-01-01_575535_601960.wav\n",
      "Saving /mnt/cube/j8xing/starling_rhythm_mfdfa/data/s_b1555_22/s_b1555_22_2022-09-29_21-00-01-01_1674810_1701195.wav\n",
      "Saving /mnt/cube/j8xing/starling_rhythm_mfdfa/data/s_b1555_22/s_b1555_22_2022-09-29_16-00-01-02_1023930_1050185.wav\n",
      "Saving /mnt/cube/j8xing/starling_rhythm_mfdfa/data/s_b1555_22/s_b1555_22_2022-09-29_18-00-01-01_854180_880415.wav\n",
      "Saving /mnt/cube/j8xing/starling_rhythm_mfdfa/data/s_b1555_22/s_b1555_22_2022-09-29_09-00-01-02_1650970_1676800.wav\n"
     ]
    },
    {
     "name": "stderr",
     "output_type": "stream",
     "text": [
      "\n",
      "Processing each day's bout: 125it [00:05, 30.15it/s]\u001b[A\n",
      "Processing each day's bout: 129it [00:05, 31.09it/s]\u001b[A"
     ]
    },
    {
     "name": "stdout",
     "output_type": "stream",
     "text": [
      "Saving /mnt/cube/j8xing/starling_rhythm_mfdfa/data/s_b1555_22/s_b1555_22_2022-09-29_21-00-01-01_730575_756345.wav\n",
      "Saving /mnt/cube/j8xing/starling_rhythm_mfdfa/data/s_b1555_22/s_b1555_22_2022-09-29_09-00-01-01_1677120_1702080.wav\n",
      "Saving /mnt/cube/j8xing/starling_rhythm_mfdfa/data/s_b1555_22/s_b1555_22_2022-09-29_20-00-02-01_366455_391405.wav\n",
      "Saving /mnt/cube/j8xing/starling_rhythm_mfdfa/data/s_b1555_22/s_b1555_22_2022-09-29_19-00-01-02_273385_298080.wav\n",
      "Saving /mnt/cube/j8xing/starling_rhythm_mfdfa/data/s_b1555_22/s_b1555_22_2022-09-29_10-00-01-02_702325_725830.wav\n",
      "Saving /mnt/cube/j8xing/starling_rhythm_mfdfa/data/s_b1555_22/s_b1555_22_2022-09-29_10-00-01-02_1219450_1242860.wav\n",
      "Saving /mnt/cube/j8xing/starling_rhythm_mfdfa/data/s_b1555_22/s_b1555_22_2022-09-29_10-00-01-01_1045815_1069010.wav\n"
     ]
    },
    {
     "name": "stderr",
     "output_type": "stream",
     "text": [
      "\n",
      "Processing each day's bout: 135it [00:05, 22.72it/s]\u001b[A\n",
      "Processing each day:  20%|██        | 2/10 [00:18<01:14,  9.25s/it]"
     ]
    },
    {
     "name": "stdout",
     "output_type": "stream",
     "text": [
      "Saving /mnt/cube/j8xing/starling_rhythm_mfdfa/data/s_b1555_22/s_b1555_22_2022-09-29_20-00-02-01_156975_179355.wav\n",
      "Saving /mnt/cube/j8xing/starling_rhythm_mfdfa/data/s_b1555_22/s_b1555_22_2022-09-29_08-00-01-02_1529450_1551650.wav\n",
      "Saving /mnt/cube/j8xing/starling_rhythm_mfdfa/data/s_b1555_22/s_b1555_22_2022-09-29_16-00-01-02_912430_933335.wav\n"
     ]
    },
    {
     "name": "stderr",
     "output_type": "stream",
     "text": [
      "\n",
      "Processing each day's bout: 0it [00:00, ?it/s]\u001b[A\n",
      "Processing each day's bout: 1it [00:00,  3.50it/s]\u001b[A\n",
      "Processing each day's bout: 3it [00:00,  8.20it/s]\u001b[A"
     ]
    },
    {
     "name": "stdout",
     "output_type": "stream",
     "text": [
      "Saving /mnt/cube/j8xing/starling_rhythm_mfdfa/data/s_b1555_22/s_b1555_22_2022-09-24_19-00-01-02_1612090_1676345.wav\n",
      "Saving /mnt/cube/j8xing/starling_rhythm_mfdfa/data/s_b1555_22/s_b1555_22_2022-09-24_11-00-01-02_541795_603000.wav\n",
      "Saving /mnt/cube/j8xing/starling_rhythm_mfdfa/data/s_b1555_22/s_b1555_22_2022-09-24_10-00-02-01_368520_427400.wav\n",
      "Saving /mnt/cube/j8xing/starling_rhythm_mfdfa/data/s_b1555_22/s_b1555_22_2022-09-24_10-00-02-01_174560_231535.wav\n"
     ]
    },
    {
     "name": "stderr",
     "output_type": "stream",
     "text": [
      "\n",
      "Processing each day's bout: 5it [00:00, 10.89it/s]\u001b[A\n",
      "Processing each day's bout: 7it [00:00, 12.96it/s]\u001b[A"
     ]
    },
    {
     "name": "stdout",
     "output_type": "stream",
     "text": [
      "Saving /mnt/cube/j8xing/starling_rhythm_mfdfa/data/s_b1555_22/s_b1555_22_2022-09-24_11-00-01-02_1352995_1409920.wav\n",
      "Saving /mnt/cube/j8xing/starling_rhythm_mfdfa/data/s_b1555_22/s_b1555_22_2022-09-24_14-00-01-01_1596760_1652760.wav\n",
      "Saving /mnt/cube/j8xing/starling_rhythm_mfdfa/data/s_b1555_22/s_b1555_22_2022-09-24_19-00-01-02_706815_762050.wav\n",
      "Saving /mnt/cube/j8xing/starling_rhythm_mfdfa/data/s_b1555_22/s_b1555_22_2022-09-24_20-00-01-01_1232340_1287205.wav\n"
     ]
    },
    {
     "name": "stderr",
     "output_type": "stream",
     "text": [
      "\n",
      "Processing each day's bout: 9it [00:00, 14.54it/s]\u001b[A\n",
      "Processing each day's bout: 11it [00:00, 15.50it/s]\u001b[A"
     ]
    },
    {
     "name": "stdout",
     "output_type": "stream",
     "text": [
      "Saving /mnt/cube/j8xing/starling_rhythm_mfdfa/data/s_b1555_22/s_b1555_22_2022-09-24_20-00-01-01_521635_574845.wav\n",
      "Saving /mnt/cube/j8xing/starling_rhythm_mfdfa/data/s_b1555_22/s_b1555_22_2022-09-24_12-00-01-02_384805_437320.wav\n",
      "Saving /mnt/cube/j8xing/starling_rhythm_mfdfa/data/s_b1555_22/s_b1555_22_2022-09-24_12-00-01-01_1507615_1560130.wav\n",
      "Saving /mnt/cube/j8xing/starling_rhythm_mfdfa/data/s_b1555_22/s_b1555_22_2022-09-24_19-00-01-02_438285_490175.wav\n"
     ]
    },
    {
     "name": "stderr",
     "output_type": "stream",
     "text": [
      "\n",
      "Processing each day's bout: 13it [00:00, 15.95it/s]\u001b[A\n",
      "Processing each day's bout: 15it [00:01, 16.67it/s]\u001b[A"
     ]
    },
    {
     "name": "stdout",
     "output_type": "stream",
     "text": [
      "Saving /mnt/cube/j8xing/starling_rhythm_mfdfa/data/s_b1555_22/s_b1555_22_2022-09-24_11-00-01-02_948005_998975.wav\n",
      "Saving /mnt/cube/j8xing/starling_rhythm_mfdfa/data/s_b1555_22/s_b1555_22_2022-09-24_11-00-01-02_374270_423275.wav\n",
      "Saving /mnt/cube/j8xing/starling_rhythm_mfdfa/data/s_b1555_22/s_b1555_22_2022-09-24_12-00-01-01_1750135_1797890.wav\n",
      "Saving /mnt/cube/j8xing/starling_rhythm_mfdfa/data/s_b1555_22/s_b1555_22_2022-09-24_12-00-01-02_1522800_1570290.wav\n"
     ]
    },
    {
     "name": "stderr",
     "output_type": "stream",
     "text": [
      "\n",
      "Processing each day's bout: 17it [00:01, 17.21it/s]\u001b[A\n",
      "Processing each day's bout: 19it [00:01, 17.62it/s]\u001b[A"
     ]
    },
    {
     "name": "stdout",
     "output_type": "stream",
     "text": [
      "Saving /mnt/cube/j8xing/starling_rhythm_mfdfa/data/s_b1555_22/s_b1555_22_2022-09-24_12-00-01-01_1385395_1432815.wav\n",
      "Saving /mnt/cube/j8xing/starling_rhythm_mfdfa/data/s_b1555_22/s_b1555_22_2022-09-24_10-00-02-01_1381020_1428230.wav\n",
      "Saving /mnt/cube/j8xing/starling_rhythm_mfdfa/data/s_b1555_22/s_b1555_22_2022-09-24_10-00-02-01_1091560_1138430.wav\n",
      "Saving /mnt/cube/j8xing/starling_rhythm_mfdfa/data/s_b1555_22/s_b1555_22_2022-09-24_10-00-02-02_598970_645825.wav\n"
     ]
    },
    {
     "name": "stderr",
     "output_type": "stream",
     "text": [
      "\n",
      "Processing each day's bout: 21it [00:01, 18.26it/s]\u001b[A\n",
      "Processing each day's bout: 24it [00:01, 19.29it/s]\u001b[A"
     ]
    },
    {
     "name": "stdout",
     "output_type": "stream",
     "text": [
      "Saving /mnt/cube/j8xing/starling_rhythm_mfdfa/data/s_b1555_22/s_b1555_22_2022-09-24_10-00-02-01_740700_787280.wav\n",
      "Saving /mnt/cube/j8xing/starling_rhythm_mfdfa/data/s_b1555_22/s_b1555_22_2022-09-24_20-00-01-01_390505_436965.wav\n",
      "Saving /mnt/cube/j8xing/starling_rhythm_mfdfa/data/s_b1555_22/s_b1555_22_2022-09-24_20-00-01-02_377935_424065.wav\n",
      "Saving /mnt/cube/j8xing/starling_rhythm_mfdfa/data/s_b1555_22/s_b1555_22_2022-09-24_11-00-01-02_275090_321160.wav\n",
      "Saving /mnt/cube/j8xing/starling_rhythm_mfdfa/data/s_b1555_22/s_b1555_22_2022-09-24_19-00-01-02_1351065_1397075.wav\n"
     ]
    },
    {
     "name": "stderr",
     "output_type": "stream",
     "text": [
      "\n",
      "Processing each day's bout: 27it [00:01, 19.69it/s]\u001b[A"
     ]
    },
    {
     "name": "stdout",
     "output_type": "stream",
     "text": [
      "Saving /mnt/cube/j8xing/starling_rhythm_mfdfa/data/s_b1555_22/s_b1555_22_2022-09-24_11-00-01-02_209740_255570.wav\n",
      "Saving /mnt/cube/j8xing/starling_rhythm_mfdfa/data/s_b1555_22/s_b1555_22_2022-09-24_10-00-02-01_628310_673850.wav\n",
      "Saving /mnt/cube/j8xing/starling_rhythm_mfdfa/data/s_b1555_22/s_b1555_22_2022-09-24_21-00-01-02_1159345_1204720.wav\n",
      "Saving /mnt/cube/j8xing/starling_rhythm_mfdfa/data/s_b1555_22/s_b1555_22_2022-09-24_19-00-01-01_1271140_1316450.wav\n",
      "Saving /mnt/cube/j8xing/starling_rhythm_mfdfa/data/s_b1555_22/s_b1555_22_2022-09-24_12-00-01-01_543970_588975.wav\n"
     ]
    },
    {
     "name": "stderr",
     "output_type": "stream",
     "text": [
      "\n",
      "Processing each day's bout: 30it [00:01, 19.95it/s]\u001b[A\n",
      "Processing each day's bout: 33it [00:02, 20.28it/s]\u001b[A"
     ]
    },
    {
     "name": "stdout",
     "output_type": "stream",
     "text": [
      "Saving /mnt/cube/j8xing/starling_rhythm_mfdfa/data/s_b1555_22/s_b1555_22_2022-09-24_12-00-01-01_415905_460905.wav\n",
      "Saving /mnt/cube/j8xing/starling_rhythm_mfdfa/data/s_b1555_22/s_b1555_22_2022-09-24_12-00-01-01_1108590_1152895.wav\n",
      "Saving /mnt/cube/j8xing/starling_rhythm_mfdfa/data/s_b1555_22/s_b1555_22_2022-09-24_09-00-01-01_1117085_1160435.wav\n",
      "Saving /mnt/cube/j8xing/starling_rhythm_mfdfa/data/s_b1555_22/s_b1555_22_2022-09-24_19-00-01-02_1542335_1585515.wav\n",
      "Saving /mnt/cube/j8xing/starling_rhythm_mfdfa/data/s_b1555_22/s_b1555_22_2022-09-24_19-00-01-02_165875_208935.wav\n"
     ]
    },
    {
     "name": "stderr",
     "output_type": "stream",
     "text": [
      "\n",
      "Processing each day's bout: 36it [00:02, 20.72it/s]\u001b[A\n",
      "Processing each day's bout: 39it [00:02, 21.03it/s]\u001b[A"
     ]
    },
    {
     "name": "stdout",
     "output_type": "stream",
     "text": [
      "Saving /mnt/cube/j8xing/starling_rhythm_mfdfa/data/s_b1555_22/s_b1555_22_2022-09-24_13-00-01-02_681395_724305.wav\n",
      "Saving /mnt/cube/j8xing/starling_rhythm_mfdfa/data/s_b1555_22/s_b1555_22_2022-09-24_20-00-01-01_1376880_1419670.wav\n",
      "Saving /mnt/cube/j8xing/starling_rhythm_mfdfa/data/s_b1555_22/s_b1555_22_2022-09-24_20-00-01-02_1375625_1418010.wav\n",
      "Saving /mnt/cube/j8xing/starling_rhythm_mfdfa/data/s_b1555_22/s_b1555_22_2022-09-24_19-00-01-01_223535_265260.wav\n",
      "Saving /mnt/cube/j8xing/starling_rhythm_mfdfa/data/s_b1555_22/s_b1555_22_2022-09-24_19-00-01-02_1463095_1503560.wav\n"
     ]
    },
    {
     "name": "stderr",
     "output_type": "stream",
     "text": [
      "\n",
      "Processing each day's bout: 42it [00:02, 21.54it/s]\u001b[A"
     ]
    },
    {
     "name": "stdout",
     "output_type": "stream",
     "text": [
      "Saving /mnt/cube/j8xing/starling_rhythm_mfdfa/data/s_b1555_22/s_b1555_22_2022-09-24_21-00-01-01_319455_359910.wav\n",
      "Saving /mnt/cube/j8xing/starling_rhythm_mfdfa/data/s_b1555_22/s_b1555_22_2022-09-24_08-00-01-02_1092365_1132310.wav\n",
      "Saving /mnt/cube/j8xing/starling_rhythm_mfdfa/data/s_b1555_22/s_b1555_22_2022-09-24_21-00-01-02_1460995_1500650.wav\n",
      "Saving /mnt/cube/j8xing/starling_rhythm_mfdfa/data/s_b1555_22/s_b1555_22_2022-09-24_19-00-01-02_1261365_1300950.wav\n",
      "Saving /mnt/cube/j8xing/starling_rhythm_mfdfa/data/s_b1555_22/s_b1555_22_2022-09-24_16-00-01-01_1378940_1418525.wav\n"
     ]
    },
    {
     "name": "stderr",
     "output_type": "stream",
     "text": [
      "\n",
      "Processing each day's bout: 45it [00:02, 22.04it/s]\u001b[A\n",
      "Processing each day's bout: 48it [00:02, 22.43it/s]\u001b[A"
     ]
    },
    {
     "name": "stdout",
     "output_type": "stream",
     "text": [
      "Saving /mnt/cube/j8xing/starling_rhythm_mfdfa/data/s_b1555_22/s_b1555_22_2022-09-24_10-00-02-02_851030_890585.wav\n",
      "Saving /mnt/cube/j8xing/starling_rhythm_mfdfa/data/s_b1555_22/s_b1555_22_2022-09-24_08-00-01-02_267520_306440.wav\n",
      "Saving /mnt/cube/j8xing/starling_rhythm_mfdfa/data/s_b1555_22/s_b1555_22_2022-09-24_09-00-01-01_1263010_1301890.wav\n",
      "Saving /mnt/cube/j8xing/starling_rhythm_mfdfa/data/s_b1555_22/s_b1555_22_2022-09-24_18-00-01-02_604090_642595.wav\n",
      "Saving /mnt/cube/j8xing/starling_rhythm_mfdfa/data/s_b1555_22/s_b1555_22_2022-09-24_13-00-01-02_808715_846715.wav\n"
     ]
    },
    {
     "name": "stderr",
     "output_type": "stream",
     "text": [
      "\n",
      "Processing each day's bout: 51it [00:02, 22.60it/s]\u001b[A\n",
      "Processing each day's bout: 54it [00:02, 22.96it/s]\u001b[A"
     ]
    },
    {
     "name": "stdout",
     "output_type": "stream",
     "text": [
      "Saving /mnt/cube/j8xing/starling_rhythm_mfdfa/data/s_b1555_22/s_b1555_22_2022-09-24_08-00-01-02_1514955_1552890.wav\n",
      "Saving /mnt/cube/j8xing/starling_rhythm_mfdfa/data/s_b1555_22/s_b1555_22_2022-09-24_19-00-01-01_725155_762745.wav\n",
      "Saving /mnt/cube/j8xing/starling_rhythm_mfdfa/data/s_b1555_22/s_b1555_22_2022-09-24_17-00-01-02_685680_723235.wav\n",
      "Saving /mnt/cube/j8xing/starling_rhythm_mfdfa/data/s_b1555_22/s_b1555_22_2022-09-24_19-00-01-01_28595_66020.wav\n",
      "Saving /mnt/cube/j8xing/starling_rhythm_mfdfa/data/s_b1555_22/s_b1555_22_2022-09-24_10-00-02-01_1628625_1666015.wav\n"
     ]
    },
    {
     "name": "stderr",
     "output_type": "stream",
     "text": [
      "\n",
      "Processing each day's bout: 57it [00:03, 23.41it/s]\u001b[A\n"
     ]
    },
    {
     "name": "stdout",
     "output_type": "stream",
     "text": [
      "Saving /mnt/cube/j8xing/starling_rhythm_mfdfa/data/s_b1555_22/s_b1555_22_2022-09-24_12-00-01-02_1451040_1487775.wav\n",
      "Saving /mnt/cube/j8xing/starling_rhythm_mfdfa/data/s_b1555_22/s_b1555_22_2022-09-24_18-00-01-02_396990_433375.wav\n",
      "Saving /mnt/cube/j8xing/starling_rhythm_mfdfa/data/s_b1555_22/s_b1555_22_2022-09-24_16-00-01-02_444315_480670.wav\n",
      "Saving /mnt/cube/j8xing/starling_rhythm_mfdfa/data/s_b1555_22/s_b1555_22_2022-09-24_09-00-01-01_336285_372560.wav\n",
      "Saving /mnt/cube/j8xing/starling_rhythm_mfdfa/data/s_b1555_22/s_b1555_22_2022-09-24_08-00-01-02_1605655_1641925.wav\n"
     ]
    },
    {
     "name": "stderr",
     "output_type": "stream",
     "text": [
      "Processing each day's bout: 60it [00:03, 23.86it/s]\u001b[A\n",
      "Processing each day's bout: 63it [00:03, 24.28it/s]\u001b[A"
     ]
    },
    {
     "name": "stdout",
     "output_type": "stream",
     "text": [
      "Saving /mnt/cube/j8xing/starling_rhythm_mfdfa/data/s_b1555_22/s_b1555_22_2022-09-24_13-00-01-02_895690_931430.wav\n",
      "Saving /mnt/cube/j8xing/starling_rhythm_mfdfa/data/s_b1555_22/s_b1555_22_2022-09-24_19-00-01-02_263350_299020.wav\n",
      "Saving /mnt/cube/j8xing/starling_rhythm_mfdfa/data/s_b1555_22/s_b1555_22_2022-09-24_08-00-01-02_1417335_1451790.wav\n",
      "Saving /mnt/cube/j8xing/starling_rhythm_mfdfa/data/s_b1555_22/s_b1555_22_2022-09-24_08-00-01-02_1186780_1221200.wav\n",
      "Saving /mnt/cube/j8xing/starling_rhythm_mfdfa/data/s_b1555_22/s_b1555_22_2022-09-24_14-00-01-01_1488805_1523195.wav\n",
      "Saving /mnt/cube/j8xing/starling_rhythm_mfdfa/data/s_b1555_22/s_b1555_22_2022-09-24_15-00-01-02_1166660_1200100.wav\n"
     ]
    },
    {
     "name": "stderr",
     "output_type": "stream",
     "text": [
      "\n",
      "Processing each day's bout: 66it [00:03, 25.08it/s]\u001b[A\n",
      "Processing each day's bout: 69it [00:03, 26.11it/s]\u001b[A"
     ]
    },
    {
     "name": "stdout",
     "output_type": "stream",
     "text": [
      "Saving /mnt/cube/j8xing/starling_rhythm_mfdfa/data/s_b1555_22/s_b1555_22_2022-09-24_18-00-01-01_1229955_1263250.wav\n",
      "Saving /mnt/cube/j8xing/starling_rhythm_mfdfa/data/s_b1555_22/s_b1555_22_2022-09-24_10-00-02-01_1202530_1235575.wav\n",
      "Saving /mnt/cube/j8xing/starling_rhythm_mfdfa/data/s_b1555_22/s_b1555_22_2022-09-24_09-00-01-02_1518990_1551855.wav\n",
      "Saving /mnt/cube/j8xing/starling_rhythm_mfdfa/data/s_b1555_22/s_b1555_22_2022-09-24_15-00-01-02_1348335_1381175.wav\n",
      "Saving /mnt/cube/j8xing/starling_rhythm_mfdfa/data/s_b1555_22/s_b1555_22_2022-09-24_09-00-01-01_201035_232555.wav\n",
      "Saving /mnt/cube/j8xing/starling_rhythm_mfdfa/data/s_b1555_22/s_b1555_22_2022-09-24_09-00-01-01_944375_975100.wav\n"
     ]
    },
    {
     "name": "stderr",
     "output_type": "stream",
     "text": [
      "\n",
      "Processing each day's bout: 72it [00:03, 26.98it/s]\u001b[A\n",
      "Processing each day's bout: 75it [00:03, 27.43it/s]\u001b[A"
     ]
    },
    {
     "name": "stdout",
     "output_type": "stream",
     "text": [
      "Saving /mnt/cube/j8xing/starling_rhythm_mfdfa/data/s_b1555_22/s_b1555_22_2022-09-24_09-00-01-01_607165_637855.wav\n",
      "Saving /mnt/cube/j8xing/starling_rhythm_mfdfa/data/s_b1555_22/s_b1555_22_2022-09-24_15-00-01-02_1063240_1093890.wav\n",
      "Saving /mnt/cube/j8xing/starling_rhythm_mfdfa/data/s_b1555_22/s_b1555_22_2022-09-24_09-00-01-02_902060_932630.wav\n",
      "Saving /mnt/cube/j8xing/starling_rhythm_mfdfa/data/s_b1555_22/s_b1555_22_2022-09-24_21-00-01-02_1094110_1123390.wav\n",
      "Saving /mnt/cube/j8xing/starling_rhythm_mfdfa/data/s_b1555_22/s_b1555_22_2022-09-24_08-00-01-02_173980_203115.wav\n",
      "Saving /mnt/cube/j8xing/starling_rhythm_mfdfa/data/s_b1555_22/s_b1555_22_2022-09-24_18-00-01-01_1158390_1187360.wav\n"
     ]
    },
    {
     "name": "stderr",
     "output_type": "stream",
     "text": [
      "\n",
      "Processing each day's bout: 78it [00:03, 28.03it/s]\u001b[A\n",
      "Processing each day's bout: 81it [00:03, 28.05it/s]\u001b[A"
     ]
    },
    {
     "name": "stdout",
     "output_type": "stream",
     "text": [
      "Saving /mnt/cube/j8xing/starling_rhythm_mfdfa/data/s_b1555_22/s_b1555_22_2022-09-24_09-00-01-02_558405_587315.wav\n",
      "Saving /mnt/cube/j8xing/starling_rhythm_mfdfa/data/s_b1555_22/s_b1555_22_2022-09-24_21-00-01-02_109030_137910.wav\n",
      "Saving /mnt/cube/j8xing/starling_rhythm_mfdfa/data/s_b1555_22/s_b1555_22_2022-09-24_09-00-01-02_1246010_1274880.wav\n",
      "Saving /mnt/cube/j8xing/starling_rhythm_mfdfa/data/s_b1555_22/s_b1555_22_2022-09-24_20-00-01-02_1087545_1115935.wav\n",
      "Saving /mnt/cube/j8xing/starling_rhythm_mfdfa/data/s_b1555_22/s_b1555_22_2022-09-24_20-00-01-01_1325145_1352705.wav\n",
      "Saving /mnt/cube/j8xing/starling_rhythm_mfdfa/data/s_b1555_22/s_b1555_22_2022-09-24_21-00-01-02_1330695_1357905.wav\n",
      "Saving /mnt/cube/j8xing/starling_rhythm_mfdfa/data/s_b1555_22/s_b1555_22_2022-09-24_09-00-01-01_279055_305940.wav\n"
     ]
    },
    {
     "name": "stderr",
     "output_type": "stream",
     "text": [
      "\n",
      "Processing each day's bout: 85it [00:04, 30.03it/s]\u001b[A\n",
      "Processing each day's bout: 89it [00:04, 31.74it/s]\u001b[A"
     ]
    },
    {
     "name": "stdout",
     "output_type": "stream",
     "text": [
      "Saving /mnt/cube/j8xing/starling_rhythm_mfdfa/data/s_b1555_22/s_b1555_22_2022-09-24_08-00-01-02_1279070_1305425.wav\n",
      "Saving /mnt/cube/j8xing/starling_rhythm_mfdfa/data/s_b1555_22/s_b1555_22_2022-09-24_15-00-01-02_1118675_1144545.wav\n",
      "Saving /mnt/cube/j8xing/starling_rhythm_mfdfa/data/s_b1555_22/s_b1555_22_2022-09-24_09-00-01-02_1030610_1053780.wav\n",
      "Saving /mnt/cube/j8xing/starling_rhythm_mfdfa/data/s_b1555_22/s_b1555_22_2022-09-24_16-00-01-01_1663200_1686090.wav\n",
      "Saving /mnt/cube/j8xing/starling_rhythm_mfdfa/data/s_b1555_22/s_b1555_22_2022-09-24_09-00-01-01_496495_518480.wav\n",
      "Saving /mnt/cube/j8xing/starling_rhythm_mfdfa/data/s_b1555_22/s_b1555_22_2022-09-24_08-00-01-01_1266895_1286575.wav\n",
      "Saving /mnt/cube/j8xing/starling_rhythm_mfdfa/data/s_b1555_22/s_b1555_22_2022-09-24_20-00-01-02_1168980_1188650.wav\n",
      "Saving /mnt/cube/j8xing/starling_rhythm_mfdfa/data/s_b1555_22/s_b1555_22_2022-09-24_09-00-01-02_363205_382630.wav\n"
     ]
    },
    {
     "name": "stderr",
     "output_type": "stream",
     "text": [
      "\n",
      "Processing each day's bout: 93it [00:04, 34.01it/s]\u001b[A\n",
      "Processing each day's bout: 100it [00:04, 22.79it/s][A\n",
      "Processing each day:  30%|███       | 3/10 [00:25<00:59,  8.53s/it]"
     ]
    },
    {
     "name": "stdout",
     "output_type": "stream",
     "text": [
      "Saving /mnt/cube/j8xing/starling_rhythm_mfdfa/data/s_b1555_22/s_b1555_22_2022-09-24_16-00-01-01_1537805_1556495.wav\n",
      "Saving /mnt/cube/j8xing/starling_rhythm_mfdfa/data/s_b1555_22/s_b1555_22_2022-09-24_09-00-01-02_1681920_1699730.wav\n",
      "Saving /mnt/cube/j8xing/starling_rhythm_mfdfa/data/s_b1555_22/s_b1555_22_2022-09-24_19-00-01-02_117880_135455.wav\n",
      "Saving /mnt/cube/j8xing/starling_rhythm_mfdfa/data/s_b1555_22/s_b1555_22_2022-09-24_20-00-01-02_1476910_1494370.wav\n",
      "Saving /mnt/cube/j8xing/starling_rhythm_mfdfa/data/s_b1555_22/s_b1555_22_2022-09-24_19-00-01-01_321215_338425.wav\n",
      "Saving /mnt/cube/j8xing/starling_rhythm_mfdfa/data/s_b1555_22/s_b1555_22_2022-09-24_13-00-01-02_1484805_1493015.wav\n",
      "Saving /mnt/cube/j8xing/starling_rhythm_mfdfa/data/s_b1555_22/s_b1555_22_2022-09-24_08-00-01-02_1009485_1012585.wav\n"
     ]
    },
    {
     "name": "stderr",
     "output_type": "stream",
     "text": [
      "\n",
      "Processing each day's bout: 0it [00:00, ?it/s]\u001b[A\n",
      "Processing each day's bout: 1it [00:00,  5.24it/s]\u001b[A\n",
      "Processing each day's bout: 3it [00:00, 10.53it/s]\u001b[A"
     ]
    },
    {
     "name": "stdout",
     "output_type": "stream",
     "text": [
      "Saving /mnt/cube/j8xing/starling_rhythm_mfdfa/data/s_b1555_22/s_b1555_22_2022-09-20_09-00-01-02_963040_1021010.wav\n",
      "Saving /mnt/cube/j8xing/starling_rhythm_mfdfa/data/s_b1555_22/s_b1555_22_2022-09-20_09-00-01-02_1626685_1683550.wav\n",
      "Saving /mnt/cube/j8xing/starling_rhythm_mfdfa/data/s_b1555_22/s_b1555_22_2022-09-20_10-00-01-02_1463625_1517595.wav\n",
      "Saving /mnt/cube/j8xing/starling_rhythm_mfdfa/data/s_b1555_22/s_b1555_22_2022-09-20_10-00-01-01_920690_973680.wav\n"
     ]
    },
    {
     "name": "stderr",
     "output_type": "stream",
     "text": [
      "\n",
      "Processing each day's bout: 5it [00:00, 13.27it/s]\u001b[A\n",
      "Processing each day's bout: 7it [00:00, 15.23it/s]\u001b[A"
     ]
    },
    {
     "name": "stdout",
     "output_type": "stream",
     "text": [
      "Saving /mnt/cube/j8xing/starling_rhythm_mfdfa/data/s_b1555_22/s_b1555_22_2022-09-20_10-00-01-02_1043850_1096310.wav\n",
      "Saving /mnt/cube/j8xing/starling_rhythm_mfdfa/data/s_b1555_22/s_b1555_22_2022-09-20_19-00-01-01_1357415_1408175.wav\n",
      "Saving /mnt/cube/j8xing/starling_rhythm_mfdfa/data/s_b1555_22/s_b1555_22_2022-09-20_19-00-01-01_466370_515905.wav\n",
      "Saving /mnt/cube/j8xing/starling_rhythm_mfdfa/data/s_b1555_22/s_b1555_22_2022-09-20_10-00-01-02_601630_651090.wav\n"
     ]
    },
    {
     "name": "stderr",
     "output_type": "stream",
     "text": [
      "\n",
      "Processing each day's bout: 9it [00:00, 16.25it/s]\u001b[A\n",
      "Processing each day's bout: 12it [00:00, 17.98it/s]\u001b[A"
     ]
    },
    {
     "name": "stdout",
     "output_type": "stream",
     "text": [
      "Saving /mnt/cube/j8xing/starling_rhythm_mfdfa/data/s_b1555_22/s_b1555_22_2022-09-20_17-00-01-02_416065_461895.wav\n",
      "Saving /mnt/cube/j8xing/starling_rhythm_mfdfa/data/s_b1555_22/s_b1555_22_2022-09-20_20-00-01-02_560985_606040.wav\n",
      "Saving /mnt/cube/j8xing/starling_rhythm_mfdfa/data/s_b1555_22/s_b1555_22_2022-09-20_20-00-01-01_1554240_1598735.wav\n",
      "Saving /mnt/cube/j8xing/starling_rhythm_mfdfa/data/s_b1555_22/s_b1555_22_2022-09-20_14-00-01-02_506095_550240.wav\n",
      "Saving /mnt/cube/j8xing/starling_rhythm_mfdfa/data/s_b1555_22/s_b1555_22_2022-09-20_10-00-01-02_1381465_1425475.wav\n"
     ]
    },
    {
     "name": "stderr",
     "output_type": "stream",
     "text": [
      "\n",
      "Processing each day's bout: 15it [00:00, 19.31it/s]\u001b[A"
     ]
    },
    {
     "name": "stdout",
     "output_type": "stream",
     "text": [
      "Saving /mnt/cube/j8xing/starling_rhythm_mfdfa/data/s_b1555_22/s_b1555_22_2022-09-20_16-00-01-02_678230_721835.wav\n",
      "Saving /mnt/cube/j8xing/starling_rhythm_mfdfa/data/s_b1555_22/s_b1555_22_2022-09-20_09-00-01-01_1138035_1181490.wav\n",
      "Saving /mnt/cube/j8xing/starling_rhythm_mfdfa/data/s_b1555_22/s_b1555_22_2022-09-20_11-00-01-02_502435_545690.wav\n",
      "Saving /mnt/cube/j8xing/starling_rhythm_mfdfa/data/s_b1555_22/s_b1555_22_2022-09-20_10-00-01-01_100705_143770.wav\n",
      "Saving /mnt/cube/j8xing/starling_rhythm_mfdfa/data/s_b1555_22/s_b1555_22_2022-09-20_11-00-01-01_923030_965955.wav\n"
     ]
    },
    {
     "name": "stderr",
     "output_type": "stream",
     "text": [
      "\n",
      "Processing each day's bout: 18it [00:01, 19.95it/s]\u001b[A\n",
      "Processing each day's bout: 21it [00:01, 20.30it/s]\u001b[A"
     ]
    },
    {
     "name": "stdout",
     "output_type": "stream",
     "text": [
      "Saving /mnt/cube/j8xing/starling_rhythm_mfdfa/data/s_b1555_22/s_b1555_22_2022-09-20_09-00-01-02_1242225_1285075.wav\n",
      "Saving /mnt/cube/j8xing/starling_rhythm_mfdfa/data/s_b1555_22/s_b1555_22_2022-09-20_20-00-01-01_1038885_1081600.wav\n",
      "Saving /mnt/cube/j8xing/starling_rhythm_mfdfa/data/s_b1555_22/s_b1555_22_2022-09-20_11-00-01-01_559635_602195.wav\n",
      "Saving /mnt/cube/j8xing/starling_rhythm_mfdfa/data/s_b1555_22/s_b1555_22_2022-09-20_16-00-01-02_546655_588590.wav\n",
      "Saving /mnt/cube/j8xing/starling_rhythm_mfdfa/data/s_b1555_22/s_b1555_22_2022-09-20_21-00-01-01_1371655_1413510.wav\n"
     ]
    },
    {
     "name": "stderr",
     "output_type": "stream",
     "text": [
      "\n",
      "Processing each day's bout: 24it [00:01, 20.56it/s]\u001b[A\n",
      "Processing each day's bout: 27it [00:01, 20.90it/s]\u001b[A"
     ]
    },
    {
     "name": "stdout",
     "output_type": "stream",
     "text": [
      "Saving /mnt/cube/j8xing/starling_rhythm_mfdfa/data/s_b1555_22/s_b1555_22_2022-09-20_08-00-01-02_1238880_1280705.wav\n",
      "Saving /mnt/cube/j8xing/starling_rhythm_mfdfa/data/s_b1555_22/s_b1555_22_2022-09-20_14-00-01-01_1628340_1669985.wav\n",
      "Saving /mnt/cube/j8xing/starling_rhythm_mfdfa/data/s_b1555_22/s_b1555_22_2022-09-20_10-00-01-01_1287330_1328380.wav\n",
      "Saving /mnt/cube/j8xing/starling_rhythm_mfdfa/data/s_b1555_22/s_b1555_22_2022-09-20_11-00-01-01_398375_439120.wav\n",
      "Saving /mnt/cube/j8xing/starling_rhythm_mfdfa/data/s_b1555_22/s_b1555_22_2022-09-20_20-00-01-02_440325_479900.wav\n"
     ]
    },
    {
     "name": "stderr",
     "output_type": "stream",
     "text": [
      "\n",
      "Processing each day's bout: 30it [00:01, 20.98it/s]\u001b[A"
     ]
    },
    {
     "name": "stdout",
     "output_type": "stream",
     "text": [
      "Saving /mnt/cube/j8xing/starling_rhythm_mfdfa/data/s_b1555_22/s_b1555_22_2022-09-20_20-00-01-02_1237605_1276770.wav\n",
      "Saving /mnt/cube/j8xing/starling_rhythm_mfdfa/data/s_b1555_22/s_b1555_22_2022-09-20_20-00-01-02_1404055_1443170.wav\n",
      "Saving /mnt/cube/j8xing/starling_rhythm_mfdfa/data/s_b1555_22/s_b1555_22_2022-09-20_19-00-01-01_1250925_1289885.wav\n",
      "Saving /mnt/cube/j8xing/starling_rhythm_mfdfa/data/s_b1555_22/s_b1555_22_2022-09-20_15-00-01-01_1106520_1145250.wav\n",
      "Saving /mnt/cube/j8xing/starling_rhythm_mfdfa/data/s_b1555_22/s_b1555_22_2022-09-20_10-00-01-01_727480_765375.wav\n"
     ]
    },
    {
     "name": "stderr",
     "output_type": "stream",
     "text": [
      "\n",
      "Processing each day's bout: 33it [00:01, 21.48it/s]\u001b[A\n",
      "Processing each day's bout: 36it [00:01, 21.87it/s]\u001b[A"
     ]
    },
    {
     "name": "stdout",
     "output_type": "stream",
     "text": [
      "Saving /mnt/cube/j8xing/starling_rhythm_mfdfa/data/s_b1555_22/s_b1555_22_2022-09-20_15-00-01-02_1173680_1211290.wav\n",
      "Saving /mnt/cube/j8xing/starling_rhythm_mfdfa/data/s_b1555_22/s_b1555_22_2022-09-20_20-00-01-02_1152230_1189720.wav\n",
      "Saving /mnt/cube/j8xing/starling_rhythm_mfdfa/data/s_b1555_22/s_b1555_22_2022-09-20_11-00-01-02_210075_247215.wav\n",
      "Saving /mnt/cube/j8xing/starling_rhythm_mfdfa/data/s_b1555_22/s_b1555_22_2022-09-20_14-00-01-02_1057605_1094745.wav\n",
      "Saving /mnt/cube/j8xing/starling_rhythm_mfdfa/data/s_b1555_22/s_b1555_22_2022-09-20_10-00-01-01_575690_612500.wav\n"
     ]
    },
    {
     "name": "stderr",
     "output_type": "stream",
     "text": [
      "\n",
      "Processing each day's bout: 39it [00:02, 22.65it/s]\u001b[A\n",
      "Processing each day's bout: 42it [00:02, 23.66it/s]\u001b[A"
     ]
    },
    {
     "name": "stdout",
     "output_type": "stream",
     "text": [
      "Saving /mnt/cube/j8xing/starling_rhythm_mfdfa/data/s_b1555_22/s_b1555_22_2022-09-20_10-00-01-01_431870_468565.wav\n",
      "Saving /mnt/cube/j8xing/starling_rhythm_mfdfa/data/s_b1555_22/s_b1555_22_2022-09-20_20-00-01-01_1319915_1356420.wav\n",
      "Saving /mnt/cube/j8xing/starling_rhythm_mfdfa/data/s_b1555_22/s_b1555_22_2022-09-20_16-00-01-01_108110_144375.wav\n",
      "Saving /mnt/cube/j8xing/starling_rhythm_mfdfa/data/s_b1555_22/s_b1555_22_2022-09-20_15-00-01-02_1614910_1651170.wav\n",
      "Saving /mnt/cube/j8xing/starling_rhythm_mfdfa/data/s_b1555_22/s_b1555_22_2022-09-20_15-00-01-02_533635_568950.wav\n",
      "Saving /mnt/cube/j8xing/starling_rhythm_mfdfa/data/s_b1555_22/s_b1555_22_2022-09-20_19-00-01-01_309475_344715.wav\n"
     ]
    },
    {
     "name": "stderr",
     "output_type": "stream",
     "text": [
      "\n",
      "Processing each day's bout: 45it [00:02, 24.07it/s]\u001b[A\n",
      "Processing each day's bout: 48it [00:02, 24.41it/s]\u001b[A"
     ]
    },
    {
     "name": "stdout",
     "output_type": "stream",
     "text": [
      "Saving /mnt/cube/j8xing/starling_rhythm_mfdfa/data/s_b1555_22/s_b1555_22_2022-09-20_08-00-01-02_1602030_1637260.wav\n",
      "Saving /mnt/cube/j8xing/starling_rhythm_mfdfa/data/s_b1555_22/s_b1555_22_2022-09-20_09-00-01-02_1368310_1403400.wav\n",
      "Saving /mnt/cube/j8xing/starling_rhythm_mfdfa/data/s_b1555_22/s_b1555_22_2022-09-20_16-00-01-02_436000_470550.wav\n",
      "Saving /mnt/cube/j8xing/starling_rhythm_mfdfa/data/s_b1555_22/s_b1555_22_2022-09-20_16-00-01-01_708735_742980.wav\n",
      "Saving /mnt/cube/j8xing/starling_rhythm_mfdfa/data/s_b1555_22/s_b1555_22_2022-09-20_13-00-01-01_1251425_1285205.wav\n",
      "Saving /mnt/cube/j8xing/starling_rhythm_mfdfa/data/s_b1555_22/s_b1555_22_2022-09-20_11-00-01-01_1718145_1751745.wav\n"
     ]
    },
    {
     "name": "stderr",
     "output_type": "stream",
     "text": [
      "\n",
      "Processing each day's bout: 51it [00:02, 25.04it/s]\u001b[A\n",
      "Processing each day's bout: 54it [00:02, 25.56it/s]\u001b[A"
     ]
    },
    {
     "name": "stdout",
     "output_type": "stream",
     "text": [
      "Saving /mnt/cube/j8xing/starling_rhythm_mfdfa/data/s_b1555_22/s_b1555_22_2022-09-20_11-00-01-02_785960_819160.wav\n",
      "Saving /mnt/cube/j8xing/starling_rhythm_mfdfa/data/s_b1555_22/s_b1555_22_2022-09-20_16-00-01-01_408245_441345.wav\n",
      "Saving /mnt/cube/j8xing/starling_rhythm_mfdfa/data/s_b1555_22/s_b1555_22_2022-09-20_09-00-01-01_1238825_1270805.wav\n",
      "Saving /mnt/cube/j8xing/starling_rhythm_mfdfa/data/s_b1555_22/s_b1555_22_2022-09-20_17-00-01-01_1725825_1757730.wav\n",
      "Saving /mnt/cube/j8xing/starling_rhythm_mfdfa/data/s_b1555_22/s_b1555_22_2022-09-20_21-00-01-01_1161995_1192955.wav\n",
      "Saving /mnt/cube/j8xing/starling_rhythm_mfdfa/data/s_b1555_22/s_b1555_22_2022-09-20_14-00-01-02_1173610_1204540.wav\n"
     ]
    },
    {
     "name": "stderr",
     "output_type": "stream",
     "text": [
      "\n",
      "Processing each day's bout: 57it [00:02, 25.89it/s]\u001b[A\n",
      "Processing each day's bout: 60it [00:02, 26.33it/s]\u001b[A"
     ]
    },
    {
     "name": "stdout",
     "output_type": "stream",
     "text": [
      "Saving /mnt/cube/j8xing/starling_rhythm_mfdfa/data/s_b1555_22/s_b1555_22_2022-09-20_16-00-01-01_1259190_1290040.wav\n",
      "Saving /mnt/cube/j8xing/starling_rhythm_mfdfa/data/s_b1555_22/s_b1555_22_2022-09-20_14-00-01-02_454435_485065.wav\n",
      "Saving /mnt/cube/j8xing/starling_rhythm_mfdfa/data/s_b1555_22/s_b1555_22_2022-09-20_15-00-01-01_808540_838830.wav\n",
      "Saving /mnt/cube/j8xing/starling_rhythm_mfdfa/data/s_b1555_22/s_b1555_22_2022-09-20_14-00-01-01_1228675_1258610.wav\n",
      "Saving /mnt/cube/j8xing/starling_rhythm_mfdfa/data/s_b1555_22/s_b1555_22_2022-09-20_14-00-01-01_1302850_1332555.wav\n",
      "Saving /mnt/cube/j8xing/starling_rhythm_mfdfa/data/s_b1555_22/s_b1555_22_2022-09-20_19-00-01-01_928470_958100.wav\n"
     ]
    },
    {
     "name": "stderr",
     "output_type": "stream",
     "text": [
      "\n",
      "Processing each day's bout: 63it [00:02, 27.27it/s]\u001b[A\n",
      "Processing each day's bout: 66it [00:03, 27.76it/s]\u001b[A"
     ]
    },
    {
     "name": "stdout",
     "output_type": "stream",
     "text": [
      "Saving /mnt/cube/j8xing/starling_rhythm_mfdfa/data/s_b1555_22/s_b1555_22_2022-09-20_20-00-01-02_177135_206650.wav\n",
      "Saving /mnt/cube/j8xing/starling_rhythm_mfdfa/data/s_b1555_22/s_b1555_22_2022-09-20_09-00-01-01_1611695_1641125.wav\n",
      "Saving /mnt/cube/j8xing/starling_rhythm_mfdfa/data/s_b1555_22/s_b1555_22_2022-09-20_15-00-01-01_1041275_1070540.wav\n",
      "Saving /mnt/cube/j8xing/starling_rhythm_mfdfa/data/s_b1555_22/s_b1555_22_2022-09-20_13-00-01-02_595845_624925.wav\n",
      "Saving /mnt/cube/j8xing/starling_rhythm_mfdfa/data/s_b1555_22/s_b1555_22_2022-09-20_10-00-01-02_852675_881655.wav\n",
      "Saving /mnt/cube/j8xing/starling_rhythm_mfdfa/data/s_b1555_22/s_b1555_22_2022-09-20_20-00-01-01_1412310_1440995.wav\n"
     ]
    },
    {
     "name": "stderr",
     "output_type": "stream",
     "text": [
      "\n",
      "Processing each day's bout: 70it [00:03, 28.65it/s]\u001b[A\n",
      "Processing each day's bout: 74it [00:03, 29.44it/s]\u001b[A"
     ]
    },
    {
     "name": "stdout",
     "output_type": "stream",
     "text": [
      "Saving /mnt/cube/j8xing/starling_rhythm_mfdfa/data/s_b1555_22/s_b1555_22_2022-09-20_18-00-01-02_559015_587450.wav\n",
      "Saving /mnt/cube/j8xing/starling_rhythm_mfdfa/data/s_b1555_22/s_b1555_22_2022-09-20_19-00-01-01_399865_428155.wav\n",
      "Saving /mnt/cube/j8xing/starling_rhythm_mfdfa/data/s_b1555_22/s_b1555_22_2022-09-20_13-00-01-02_1314270_1342350.wav\n",
      "Saving /mnt/cube/j8xing/starling_rhythm_mfdfa/data/s_b1555_22/s_b1555_22_2022-09-20_15-00-01-02_1238125_1265715.wav\n",
      "Saving /mnt/cube/j8xing/starling_rhythm_mfdfa/data/s_b1555_22/s_b1555_22_2022-09-20_20-00-01-02_1506655_1534035.wav\n",
      "Saving /mnt/cube/j8xing/starling_rhythm_mfdfa/data/s_b1555_22/s_b1555_22_2022-09-20_18-00-01-02_1211005_1237480.wav\n",
      "Saving /mnt/cube/j8xing/starling_rhythm_mfdfa/data/s_b1555_22/s_b1555_22_2022-09-20_21-00-01-01_195410_221620.wav\n"
     ]
    },
    {
     "name": "stderr",
     "output_type": "stream",
     "text": [
      "\n",
      "Processing each day's bout: 78it [00:03, 30.76it/s]\u001b[A"
     ]
    },
    {
     "name": "stdout",
     "output_type": "stream",
     "text": [
      "Saving /mnt/cube/j8xing/starling_rhythm_mfdfa/data/s_b1555_22/s_b1555_22_2022-09-20_21-00-01-01_1019565_1045345.wav\n",
      "Saving /mnt/cube/j8xing/starling_rhythm_mfdfa/data/s_b1555_22/s_b1555_22_2022-09-20_19-00-01-01_1191830_1217200.wav\n",
      "Saving /mnt/cube/j8xing/starling_rhythm_mfdfa/data/s_b1555_22/s_b1555_22_2022-09-20_09-00-01-01_135995_161160.wav\n",
      "Saving /mnt/cube/j8xing/starling_rhythm_mfdfa/data/s_b1555_22/s_b1555_22_2022-09-20_20-00-01-01_1125615_1149425.wav\n",
      "Saving /mnt/cube/j8xing/starling_rhythm_mfdfa/data/s_b1555_22/s_b1555_22_2022-09-20_14-00-01-02_271730_295205.wav\n",
      "Saving /mnt/cube/j8xing/starling_rhythm_mfdfa/data/s_b1555_22/s_b1555_22_2022-09-20_17-00-01-01_1692050_1714120.wav\n",
      "Saving /mnt/cube/j8xing/starling_rhythm_mfdfa/data/s_b1555_22/s_b1555_22_2022-09-20_20-00-01-01_1222895_1244615.wav\n"
     ]
    },
    {
     "name": "stderr",
     "output_type": "stream",
     "text": [
      "\n",
      "Processing each day's bout: 88it [00:03, 24.45it/s]\u001b[A\n",
      "Processing each day:  40%|████      | 4/10 [00:31<00:45,  7.53s/it]"
     ]
    },
    {
     "name": "stdout",
     "output_type": "stream",
     "text": [
      "Saving /mnt/cube/j8xing/starling_rhythm_mfdfa/data/s_b1555_22/s_b1555_22_2022-09-20_12-00-02-02_780180_801280.wav\n",
      "Saving /mnt/cube/j8xing/starling_rhythm_mfdfa/data/s_b1555_22/s_b1555_22_2022-09-20_11-00-01-02_1394935_1398920.wav\n",
      "Saving /mnt/cube/j8xing/starling_rhythm_mfdfa/data/s_b1555_22/s_b1555_22_2022-09-20_08-00-01-01_843395_847050.wav\n",
      "Saving /mnt/cube/j8xing/starling_rhythm_mfdfa/data/s_b1555_22/s_b1555_22_2022-09-20_13-00-01-02_1102390_1105625.wav\n",
      "Saving /mnt/cube/j8xing/starling_rhythm_mfdfa/data/s_b1555_22/s_b1555_22_2022-09-20_11-00-01-02_715505_718710.wav\n",
      "Saving /mnt/cube/j8xing/starling_rhythm_mfdfa/data/s_b1555_22/s_b1555_22_2022-09-20_08-00-01-01_115750_118750.wav\n"
     ]
    },
    {
     "name": "stderr",
     "output_type": "stream",
     "text": [
      "\n",
      "Processing each day's bout: 0it [00:00, ?it/s]\u001b[A\n",
      "Processing each day's bout: 2it [00:00, 15.81it/s]\u001b[A"
     ]
    },
    {
     "name": "stdout",
     "output_type": "stream",
     "text": [
      "Saving /mnt/cube/j8xing/starling_rhythm_mfdfa/data/s_b1555_22/s_b1555_22_2022-09-27_19-00-01-02_893555_950285.wav\n",
      "Saving /mnt/cube/j8xing/starling_rhythm_mfdfa/data/s_b1555_22/s_b1555_22_2022-09-27_12-00-01-01_422815_478345.wav\n",
      "Saving /mnt/cube/j8xing/starling_rhythm_mfdfa/data/s_b1555_22/s_b1555_22_2022-09-27_19-00-01-02_1333380_1387440.wav\n",
      "Saving /mnt/cube/j8xing/starling_rhythm_mfdfa/data/s_b1555_22/s_b1555_22_2022-09-27_13-00-01-02_734055_787700.wav\n"
     ]
    },
    {
     "name": "stderr",
     "output_type": "stream",
     "text": [
      "\n",
      "Processing each day's bout: 4it [00:00, 16.76it/s]\u001b[A\n",
      "Processing each day's bout: 6it [00:00, 17.07it/s]\u001b[A"
     ]
    },
    {
     "name": "stdout",
     "output_type": "stream",
     "text": [
      "Saving /mnt/cube/j8xing/starling_rhythm_mfdfa/data/s_b1555_22/s_b1555_22_2022-09-27_11-00-01-02_1596170_1649685.wav\n",
      "Saving /mnt/cube/j8xing/starling_rhythm_mfdfa/data/s_b1555_22/s_b1555_22_2022-09-27_19-00-01-01_328380_381890.wav\n",
      "Saving /mnt/cube/j8xing/starling_rhythm_mfdfa/data/s_b1555_22/s_b1555_22_2022-09-27_12-00-01-02_818025_870585.wav\n",
      "Saving /mnt/cube/j8xing/starling_rhythm_mfdfa/data/s_b1555_22/s_b1555_22_2022-09-27_19-00-01-01_778065_829800.wav\n"
     ]
    },
    {
     "name": "stderr",
     "output_type": "stream",
     "text": [
      "\n",
      "Processing each day's bout: 8it [00:00, 17.21it/s]\u001b[A\n",
      "Processing each day's bout: 10it [00:00, 17.70it/s]\u001b[A"
     ]
    },
    {
     "name": "stdout",
     "output_type": "stream",
     "text": [
      "Saving /mnt/cube/j8xing/starling_rhythm_mfdfa/data/s_b1555_22/s_b1555_22_2022-09-27_21-00-01-02_61000_111075.wav\n",
      "Saving /mnt/cube/j8xing/starling_rhythm_mfdfa/data/s_b1555_22/s_b1555_22_2022-09-27_19-00-01-01_1119140_1169085.wav\n",
      "Saving /mnt/cube/j8xing/starling_rhythm_mfdfa/data/s_b1555_22/s_b1555_22_2022-09-27_18-00-01-01_838770_888500.wav\n",
      "Saving /mnt/cube/j8xing/starling_rhythm_mfdfa/data/s_b1555_22/s_b1555_22_2022-09-27_18-00-01-01_1535450_1584710.wav\n"
     ]
    },
    {
     "name": "stderr",
     "output_type": "stream",
     "text": [
      "\n",
      "Processing each day's bout: 12it [00:00, 17.72it/s]\u001b[A\n",
      "Processing each day's bout: 14it [00:00, 17.67it/s]\u001b[A"
     ]
    },
    {
     "name": "stdout",
     "output_type": "stream",
     "text": [
      "Saving /mnt/cube/j8xing/starling_rhythm_mfdfa/data/s_b1555_22/s_b1555_22_2022-09-27_20-00-01-01_911890_961030.wav\n",
      "Saving /mnt/cube/j8xing/starling_rhythm_mfdfa/data/s_b1555_22/s_b1555_22_2022-09-27_12-00-01-02_1185125_1234230.wav\n",
      "Saving /mnt/cube/j8xing/starling_rhythm_mfdfa/data/s_b1555_22/s_b1555_22_2022-09-27_20-00-01-01_692635_741465.wav\n",
      "Saving /mnt/cube/j8xing/starling_rhythm_mfdfa/data/s_b1555_22/s_b1555_22_2022-09-27_19-00-01-01_1489185_1537825.wav\n"
     ]
    },
    {
     "name": "stderr",
     "output_type": "stream",
     "text": [
      "\n",
      "Processing each day's bout: 16it [00:00, 17.72it/s]\u001b[A\n",
      "Processing each day's bout: 18it [00:01, 17.93it/s]\u001b[A"
     ]
    },
    {
     "name": "stdout",
     "output_type": "stream",
     "text": [
      "Saving /mnt/cube/j8xing/starling_rhythm_mfdfa/data/s_b1555_22/s_b1555_22_2022-09-27_19-00-01-02_1258840_1307190.wav\n",
      "Saving /mnt/cube/j8xing/starling_rhythm_mfdfa/data/s_b1555_22/s_b1555_22_2022-09-27_20-00-01-01_1298475_1346735.wav\n",
      "Saving /mnt/cube/j8xing/starling_rhythm_mfdfa/data/s_b1555_22/s_b1555_22_2022-09-27_21-00-01-01_768070_815905.wav\n",
      "Saving /mnt/cube/j8xing/starling_rhythm_mfdfa/data/s_b1555_22/s_b1555_22_2022-09-27_18-00-01-02_784280_831885.wav\n"
     ]
    },
    {
     "name": "stderr",
     "output_type": "stream",
     "text": [
      "\n",
      "Processing each day's bout: 20it [00:01, 18.15it/s]\u001b[A\n",
      "Processing each day's bout: 22it [00:01, 18.42it/s]\u001b[A"
     ]
    },
    {
     "name": "stdout",
     "output_type": "stream",
     "text": [
      "Saving /mnt/cube/j8xing/starling_rhythm_mfdfa/data/s_b1555_22/s_b1555_22_2022-09-27_21-00-01-01_1553290_1600865.wav\n",
      "Saving /mnt/cube/j8xing/starling_rhythm_mfdfa/data/s_b1555_22/s_b1555_22_2022-09-27_20-00-01-01_1504360_1551460.wav\n",
      "Saving /mnt/cube/j8xing/starling_rhythm_mfdfa/data/s_b1555_22/s_b1555_22_2022-09-27_20-00-01-01_293965_341005.wav\n",
      "Saving /mnt/cube/j8xing/starling_rhythm_mfdfa/data/s_b1555_22/s_b1555_22_2022-09-27_21-00-01-01_355725_402735.wav\n",
      "Saving /mnt/cube/j8xing/starling_rhythm_mfdfa/data/s_b1555_22/s_b1555_22_2022-09-27_18-00-01-01_592775_639480.wav\n"
     ]
    },
    {
     "name": "stderr",
     "output_type": "stream",
     "text": [
      "\n",
      "Processing each day's bout: 25it [00:01, 19.42it/s]\u001b[A\n",
      "Processing each day's bout: 28it [00:01, 20.07it/s]\u001b[A"
     ]
    },
    {
     "name": "stdout",
     "output_type": "stream",
     "text": [
      "Saving /mnt/cube/j8xing/starling_rhythm_mfdfa/data/s_b1555_22/s_b1555_22_2022-09-27_21-00-01-01_1030035_1075775.wav\n",
      "Saving /mnt/cube/j8xing/starling_rhythm_mfdfa/data/s_b1555_22/s_b1555_22_2022-09-27_19-00-01-01_1211390_1257020.wav\n",
      "Saving /mnt/cube/j8xing/starling_rhythm_mfdfa/data/s_b1555_22/s_b1555_22_2022-09-27_20-00-01-02_1436340_1481585.wav\n",
      "Saving /mnt/cube/j8xing/starling_rhythm_mfdfa/data/s_b1555_22/s_b1555_22_2022-09-27_11-00-01-02_1079920_1124895.wav\n",
      "Saving /mnt/cube/j8xing/starling_rhythm_mfdfa/data/s_b1555_22/s_b1555_22_2022-09-27_18-00-01-02_1572610_1617465.wav\n"
     ]
    },
    {
     "name": "stderr",
     "output_type": "stream",
     "text": [
      "\n",
      "Processing each day's bout: 31it [00:01, 20.37it/s]\u001b[A\n",
      "Processing each day's bout: 34it [00:01, 20.25it/s]\u001b[A"
     ]
    },
    {
     "name": "stdout",
     "output_type": "stream",
     "text": [
      "Saving /mnt/cube/j8xing/starling_rhythm_mfdfa/data/s_b1555_22/s_b1555_22_2022-09-27_13-00-01-01_1533630_1578445.wav\n",
      "Saving /mnt/cube/j8xing/starling_rhythm_mfdfa/data/s_b1555_22/s_b1555_22_2022-09-27_17-00-02-02_613880_658590.wav\n",
      "Saving /mnt/cube/j8xing/starling_rhythm_mfdfa/data/s_b1555_22/s_b1555_22_2022-09-27_17-00-02-02_976320_1020640.wav\n",
      "Saving /mnt/cube/j8xing/starling_rhythm_mfdfa/data/s_b1555_22/s_b1555_22_2022-09-27_19-00-01-01_714535_758730.wav\n",
      "Saving /mnt/cube/j8xing/starling_rhythm_mfdfa/data/s_b1555_22/s_b1555_22_2022-09-27_19-00-01-01_1644720_1688360.wav\n"
     ]
    },
    {
     "name": "stderr",
     "output_type": "stream",
     "text": [
      "\n",
      "Processing each day's bout: 37it [00:01, 20.78it/s]\u001b[A"
     ]
    },
    {
     "name": "stdout",
     "output_type": "stream",
     "text": [
      "Saving /mnt/cube/j8xing/starling_rhythm_mfdfa/data/s_b1555_22/s_b1555_22_2022-09-27_18-00-01-02_324140_367710.wav\n",
      "Saving /mnt/cube/j8xing/starling_rhythm_mfdfa/data/s_b1555_22/s_b1555_22_2022-09-27_14-00-01-01_1310935_1354370.wav\n",
      "Saving /mnt/cube/j8xing/starling_rhythm_mfdfa/data/s_b1555_22/s_b1555_22_2022-09-27_19-00-01-01_487935_531180.wav\n",
      "Saving /mnt/cube/j8xing/starling_rhythm_mfdfa/data/s_b1555_22/s_b1555_22_2022-09-27_15-00-01-02_212005_255090.wav\n",
      "Saving /mnt/cube/j8xing/starling_rhythm_mfdfa/data/s_b1555_22/s_b1555_22_2022-09-27_15-00-01-01_301490_344525.wav\n"
     ]
    },
    {
     "name": "stderr",
     "output_type": "stream",
     "text": [
      "\n",
      "Processing each day's bout: 40it [00:02, 20.87it/s]\u001b[A\n",
      "Processing each day's bout: 43it [00:02, 20.72it/s]\u001b[A"
     ]
    },
    {
     "name": "stdout",
     "output_type": "stream",
     "text": [
      "Saving /mnt/cube/j8xing/starling_rhythm_mfdfa/data/s_b1555_22/s_b1555_22_2022-09-27_10-00-01-02_663930_706700.wav\n",
      "Saving /mnt/cube/j8xing/starling_rhythm_mfdfa/data/s_b1555_22/s_b1555_22_2022-09-27_20-00-01-02_1191240_1233940.wav\n",
      "Saving /mnt/cube/j8xing/starling_rhythm_mfdfa/data/s_b1555_22/s_b1555_22_2022-09-27_13-00-01-01_745400_787980.wav\n",
      "Saving /mnt/cube/j8xing/starling_rhythm_mfdfa/data/s_b1555_22/s_b1555_22_2022-09-27_16-00-01-01_577970_620405.wav\n",
      "Saving /mnt/cube/j8xing/starling_rhythm_mfdfa/data/s_b1555_22/s_b1555_22_2022-09-27_20-00-01-01_553070_595335.wav\n"
     ]
    },
    {
     "name": "stderr",
     "output_type": "stream",
     "text": [
      "\n",
      "Processing each day's bout: 46it [00:02, 20.85it/s]\u001b[A\n",
      "Processing each day's bout: 49it [00:02, 20.73it/s]\u001b[A"
     ]
    },
    {
     "name": "stdout",
     "output_type": "stream",
     "text": [
      "Saving /mnt/cube/j8xing/starling_rhythm_mfdfa/data/s_b1555_22/s_b1555_22_2022-09-27_20-00-01-02_175710_217805.wav\n",
      "Saving /mnt/cube/j8xing/starling_rhythm_mfdfa/data/s_b1555_22/s_b1555_22_2022-09-27_15-00-01-02_445135_487165.wav\n",
      "Saving /mnt/cube/j8xing/starling_rhythm_mfdfa/data/s_b1555_22/s_b1555_22_2022-09-27_12-00-01-02_1468725_1509870.wav\n",
      "Saving /mnt/cube/j8xing/starling_rhythm_mfdfa/data/s_b1555_22/s_b1555_22_2022-09-27_21-00-01-01_1481370_1522380.wav\n",
      "Saving /mnt/cube/j8xing/starling_rhythm_mfdfa/data/s_b1555_22/s_b1555_22_2022-09-27_12-00-01-02_1291045_1331595.wav\n"
     ]
    },
    {
     "name": "stderr",
     "output_type": "stream",
     "text": [
      "\n",
      "Processing each day's bout: 52it [00:02, 21.16it/s]\u001b[A"
     ]
    },
    {
     "name": "stdout",
     "output_type": "stream",
     "text": [
      "Saving /mnt/cube/j8xing/starling_rhythm_mfdfa/data/s_b1555_22/s_b1555_22_2022-09-27_10-00-01-02_974210_1013975.wav\n",
      "Saving /mnt/cube/j8xing/starling_rhythm_mfdfa/data/s_b1555_22/s_b1555_22_2022-09-27_12-00-01-01_898070_937720.wav\n",
      "Saving /mnt/cube/j8xing/starling_rhythm_mfdfa/data/s_b1555_22/s_b1555_22_2022-09-27_19-00-01-02_1598980_1638530.wav\n",
      "Saving /mnt/cube/j8xing/starling_rhythm_mfdfa/data/s_b1555_22/s_b1555_22_2022-09-27_11-00-01-02_1176955_1216280.wav\n",
      "Saving /mnt/cube/j8xing/starling_rhythm_mfdfa/data/s_b1555_22/s_b1555_22_2022-09-27_12-00-01-02_762825_802150.wav\n"
     ]
    },
    {
     "name": "stderr",
     "output_type": "stream",
     "text": [
      "\n",
      "Processing each day's bout: 55it [00:02, 21.32it/s]\u001b[A\n",
      "Processing each day's bout: 58it [00:02, 21.94it/s]\u001b[A"
     ]
    },
    {
     "name": "stdout",
     "output_type": "stream",
     "text": [
      "Saving /mnt/cube/j8xing/starling_rhythm_mfdfa/data/s_b1555_22/s_b1555_22_2022-09-27_12-00-01-02_322970_362145.wav\n",
      "Saving /mnt/cube/j8xing/starling_rhythm_mfdfa/data/s_b1555_22/s_b1555_22_2022-09-27_19-00-01-02_429185_468325.wav\n",
      "Saving /mnt/cube/j8xing/starling_rhythm_mfdfa/data/s_b1555_22/s_b1555_22_2022-09-27_08-00-01-02_30085_69170.wav\n",
      "Saving /mnt/cube/j8xing/starling_rhythm_mfdfa/data/s_b1555_22/s_b1555_22_2022-09-27_18-00-01-02_106965_146010.wav\n",
      "Saving /mnt/cube/j8xing/starling_rhythm_mfdfa/data/s_b1555_22/s_b1555_22_2022-09-27_16-00-01-01_308515_347365.wav\n"
     ]
    },
    {
     "name": "stderr",
     "output_type": "stream",
     "text": [
      "\n",
      "Processing each day's bout: 61it [00:03, 22.43it/s]\u001b[A\n",
      "Processing each day's bout: 64it [00:03, 22.55it/s]\u001b[A"
     ]
    },
    {
     "name": "stdout",
     "output_type": "stream",
     "text": [
      "Saving /mnt/cube/j8xing/starling_rhythm_mfdfa/data/s_b1555_22/s_b1555_22_2022-09-27_18-00-01-01_924480_963260.wav\n",
      "Saving /mnt/cube/j8xing/starling_rhythm_mfdfa/data/s_b1555_22/s_b1555_22_2022-09-27_18-00-01-01_1021055_1059835.wav\n",
      "Saving /mnt/cube/j8xing/starling_rhythm_mfdfa/data/s_b1555_22/s_b1555_22_2022-09-27_11-00-01-02_1538375_1577050.wav\n",
      "Saving /mnt/cube/j8xing/starling_rhythm_mfdfa/data/s_b1555_22/s_b1555_22_2022-09-27_18-00-01-01_1092065_1130470.wav\n",
      "Saving /mnt/cube/j8xing/starling_rhythm_mfdfa/data/s_b1555_22/s_b1555_22_2022-09-27_18-00-01-01_473875_511925.wav\n"
     ]
    },
    {
     "name": "stderr",
     "output_type": "stream",
     "text": [
      "\n",
      "Processing each day's bout: 67it [00:03, 22.62it/s]\u001b[A"
     ]
    },
    {
     "name": "stdout",
     "output_type": "stream",
     "text": [
      "Saving /mnt/cube/j8xing/starling_rhythm_mfdfa/data/s_b1555_22/s_b1555_22_2022-09-27_15-00-01-01_926870_964575.wav\n",
      "Saving /mnt/cube/j8xing/starling_rhythm_mfdfa/data/s_b1555_22/s_b1555_22_2022-09-27_19-00-01-02_299795_337025.wav\n",
      "Saving /mnt/cube/j8xing/starling_rhythm_mfdfa/data/s_b1555_22/s_b1555_22_2022-09-27_21-00-01-01_453185_490070.wav\n",
      "Saving /mnt/cube/j8xing/starling_rhythm_mfdfa/data/s_b1555_22/s_b1555_22_2022-09-27_19-00-01-02_664925_701780.wav\n",
      "Saving /mnt/cube/j8xing/starling_rhythm_mfdfa/data/s_b1555_22/s_b1555_22_2022-09-27_19-00-01-01_1725365_1762205.wav\n"
     ]
    },
    {
     "name": "stderr",
     "output_type": "stream",
     "text": [
      "\n",
      "Processing each day's bout: 70it [00:03, 22.19it/s]\u001b[A\n",
      "Processing each day's bout: 73it [00:03, 22.51it/s]\u001b[A"
     ]
    },
    {
     "name": "stdout",
     "output_type": "stream",
     "text": [
      "Saving /mnt/cube/j8xing/starling_rhythm_mfdfa/data/s_b1555_22/s_b1555_22_2022-09-27_20-00-01-02_741035_777825.wav\n",
      "Saving /mnt/cube/j8xing/starling_rhythm_mfdfa/data/s_b1555_22/s_b1555_22_2022-09-27_20-00-01-02_1573185_1609945.wav\n",
      "Saving /mnt/cube/j8xing/starling_rhythm_mfdfa/data/s_b1555_22/s_b1555_22_2022-09-27_21-00-01-01_65300_102005.wav\n",
      "Saving /mnt/cube/j8xing/starling_rhythm_mfdfa/data/s_b1555_22/s_b1555_22_2022-09-27_18-00-01-02_1661215_1697915.wav\n",
      "Saving /mnt/cube/j8xing/starling_rhythm_mfdfa/data/s_b1555_22/s_b1555_22_2022-09-27_19-00-01-01_153755_190430.wav\n"
     ]
    },
    {
     "name": "stderr",
     "output_type": "stream",
     "text": [
      "\n",
      "Processing each day's bout: 76it [00:03, 23.03it/s]\u001b[A\n",
      "Processing each day's bout: 79it [00:03, 23.48it/s]\u001b[A"
     ]
    },
    {
     "name": "stdout",
     "output_type": "stream",
     "text": [
      "Saving /mnt/cube/j8xing/starling_rhythm_mfdfa/data/s_b1555_22/s_b1555_22_2022-09-27_18-00-01-01_660280_696835.wav\n",
      "Saving /mnt/cube/j8xing/starling_rhythm_mfdfa/data/s_b1555_22/s_b1555_22_2022-09-27_19-00-01-01_1580890_1617165.wav\n",
      "Saving /mnt/cube/j8xing/starling_rhythm_mfdfa/data/s_b1555_22/s_b1555_22_2022-09-27_20-00-01-02_304480_340535.wav\n",
      "Saving /mnt/cube/j8xing/starling_rhythm_mfdfa/data/s_b1555_22/s_b1555_22_2022-09-27_12-00-01-01_1254590_1290615.wav\n",
      "Saving /mnt/cube/j8xing/starling_rhythm_mfdfa/data/s_b1555_22/s_b1555_22_2022-09-27_12-00-01-01_635515_671280.wav\n",
      "Saving /mnt/cube/j8xing/starling_rhythm_mfdfa/data/s_b1555_22/s_b1555_22_2022-09-27_12-00-01-01_1370885_1406500.wav\n"
     ]
    },
    {
     "name": "stderr",
     "output_type": "stream",
     "text": [
      "\n",
      "Processing each day's bout: 82it [00:03, 24.14it/s]\u001b[A\n",
      "Processing each day's bout: 85it [00:04, 24.98it/s]\u001b[A"
     ]
    },
    {
     "name": "stdout",
     "output_type": "stream",
     "text": [
      "Saving /mnt/cube/j8xing/starling_rhythm_mfdfa/data/s_b1555_22/s_b1555_22_2022-09-27_20-00-01-02_806510_841765.wav\n",
      "Saving /mnt/cube/j8xing/starling_rhythm_mfdfa/data/s_b1555_22/s_b1555_22_2022-09-27_11-00-01-02_943220_978340.wav\n",
      "Saving /mnt/cube/j8xing/starling_rhythm_mfdfa/data/s_b1555_22/s_b1555_22_2022-09-27_19-00-01-01_75125_110005.wav\n",
      "Saving /mnt/cube/j8xing/starling_rhythm_mfdfa/data/s_b1555_22/s_b1555_22_2022-09-27_11-00-01-02_1025370_1059760.wav\n",
      "Saving /mnt/cube/j8xing/starling_rhythm_mfdfa/data/s_b1555_22/s_b1555_22_2022-09-27_18-00-01-01_1765620_1799935.wav\n",
      "Saving /mnt/cube/j8xing/starling_rhythm_mfdfa/data/s_b1555_22/s_b1555_22_2022-09-27_08-00-01-02_1471720_1505990.wav\n"
     ]
    },
    {
     "name": "stderr",
     "output_type": "stream",
     "text": [
      "\n",
      "Processing each day's bout: 88it [00:04, 25.42it/s]\u001b[A\n",
      "Processing each day's bout: 91it [00:04, 25.90it/s]\u001b[A"
     ]
    },
    {
     "name": "stdout",
     "output_type": "stream",
     "text": [
      "Saving /mnt/cube/j8xing/starling_rhythm_mfdfa/data/s_b1555_22/s_b1555_22_2022-09-27_08-00-01-02_418545_452635.wav\n",
      "Saving /mnt/cube/j8xing/starling_rhythm_mfdfa/data/s_b1555_22/s_b1555_22_2022-09-27_12-00-01-01_718645_752570.wav\n",
      "Saving /mnt/cube/j8xing/starling_rhythm_mfdfa/data/s_b1555_22/s_b1555_22_2022-09-27_13-00-01-01_831610_865440.wav\n",
      "Saving /mnt/cube/j8xing/starling_rhythm_mfdfa/data/s_b1555_22/s_b1555_22_2022-09-27_16-00-01-01_253650_287395.wav\n",
      "Saving /mnt/cube/j8xing/starling_rhythm_mfdfa/data/s_b1555_22/s_b1555_22_2022-09-27_19-00-01-02_842760_876035.wav\n",
      "Saving /mnt/cube/j8xing/starling_rhythm_mfdfa/data/s_b1555_22/s_b1555_22_2022-09-27_18-00-01-02_242895_276015.wav\n"
     ]
    },
    {
     "name": "stderr",
     "output_type": "stream",
     "text": [
      "\n",
      "Processing each day's bout: 94it [00:04, 26.40it/s]\u001b[A\n",
      "Processing each day's bout: 97it [00:04, 26.68it/s]\u001b[A"
     ]
    },
    {
     "name": "stdout",
     "output_type": "stream",
     "text": [
      "Saving /mnt/cube/j8xing/starling_rhythm_mfdfa/data/s_b1555_22/s_b1555_22_2022-09-27_20-00-01-01_1732405_1765460.wav\n",
      "Saving /mnt/cube/j8xing/starling_rhythm_mfdfa/data/s_b1555_22/s_b1555_22_2022-09-27_20-00-01-01_1662550_1695395.wav\n",
      "Saving /mnt/cube/j8xing/starling_rhythm_mfdfa/data/s_b1555_22/s_b1555_22_2022-09-27_10-00-01-02_1052245_1084990.wav\n",
      "Saving /mnt/cube/j8xing/starling_rhythm_mfdfa/data/s_b1555_22/s_b1555_22_2022-09-27_17-00-02-01_732930_765195.wav\n",
      "Saving /mnt/cube/j8xing/starling_rhythm_mfdfa/data/s_b1555_22/s_b1555_22_2022-09-27_16-00-01-01_714970_746165.wav\n",
      "Saving /mnt/cube/j8xing/starling_rhythm_mfdfa/data/s_b1555_22/s_b1555_22_2022-09-27_21-00-01-01_1768915_1799835.wav\n"
     ]
    },
    {
     "name": "stderr",
     "output_type": "stream",
     "text": [
      "\n",
      "Processing each day's bout: 101it [00:04, 27.85it/s]\u001b[A\n",
      "Processing each day's bout: 104it [00:04, 28.39it/s]\u001b[A"
     ]
    },
    {
     "name": "stdout",
     "output_type": "stream",
     "text": [
      "Saving /mnt/cube/j8xing/starling_rhythm_mfdfa/data/s_b1555_22/s_b1555_22_2022-09-27_12-00-01-02_897220_927735.wav\n",
      "Saving /mnt/cube/j8xing/starling_rhythm_mfdfa/data/s_b1555_22/s_b1555_22_2022-09-27_10-00-01-01_694115_724130.wav\n",
      "Saving /mnt/cube/j8xing/starling_rhythm_mfdfa/data/s_b1555_22/s_b1555_22_2022-09-27_20-00-01-02_881870_910795.wav\n",
      "Saving /mnt/cube/j8xing/starling_rhythm_mfdfa/data/s_b1555_22/s_b1555_22_2022-09-27_12-00-01-01_1723810_1752735.wav\n",
      "Saving /mnt/cube/j8xing/starling_rhythm_mfdfa/data/s_b1555_22/s_b1555_22_2022-09-27_19-00-01-02_771185_799055.wav\n",
      "Saving /mnt/cube/j8xing/starling_rhythm_mfdfa/data/s_b1555_22/s_b1555_22_2022-09-27_08-00-01-01_1014610_1042480.wav\n"
     ]
    },
    {
     "name": "stderr",
     "output_type": "stream",
     "text": [
      "\n",
      "Processing each day's bout: 107it [00:04, 28.75it/s]\u001b[A\n",
      "Processing each day's bout: 111it [00:04, 29.98it/s]\u001b[A"
     ]
    },
    {
     "name": "stdout",
     "output_type": "stream",
     "text": [
      "Saving /mnt/cube/j8xing/starling_rhythm_mfdfa/data/s_b1555_22/s_b1555_22_2022-09-27_21-00-01-01_1635630_1663105.wav\n",
      "Saving /mnt/cube/j8xing/starling_rhythm_mfdfa/data/s_b1555_22/s_b1555_22_2022-09-27_19-00-01-02_530660_558015.wav\n",
      "Saving /mnt/cube/j8xing/starling_rhythm_mfdfa/data/s_b1555_22/s_b1555_22_2022-09-27_22-00-01-01_84655_111830.wav\n",
      "Saving /mnt/cube/j8xing/starling_rhythm_mfdfa/data/s_b1555_22/s_b1555_22_2022-09-27_21-00-01-02_1592360_1619360.wav\n",
      "Saving /mnt/cube/j8xing/starling_rhythm_mfdfa/data/s_b1555_22/s_b1555_22_2022-09-27_18-00-01-01_1319745_1345640.wav\n",
      "Saving /mnt/cube/j8xing/starling_rhythm_mfdfa/data/s_b1555_22/s_b1555_22_2022-09-27_12-00-01-01_1032515_1058395.wav\n",
      "Saving /mnt/cube/j8xing/starling_rhythm_mfdfa/data/s_b1555_22/s_b1555_22_2022-09-27_20-00-01-02_32230_58025.wav\n"
     ]
    },
    {
     "name": "stderr",
     "output_type": "stream",
     "text": [
      "\n",
      "Processing each day's bout: 115it [00:05, 30.93it/s]\u001b[A\n",
      "Processing each day's bout: 119it [00:05, 32.53it/s]\u001b[A"
     ]
    },
    {
     "name": "stdout",
     "output_type": "stream",
     "text": [
      "Saving /mnt/cube/j8xing/starling_rhythm_mfdfa/data/s_b1555_22/s_b1555_22_2022-09-27_08-00-01-01_946840_972630.wav\n",
      "Saving /mnt/cube/j8xing/starling_rhythm_mfdfa/data/s_b1555_22/s_b1555_22_2022-09-27_20-00-01-02_1035955_1061655.wav\n",
      "Saving /mnt/cube/j8xing/starling_rhythm_mfdfa/data/s_b1555_22/s_b1555_22_2022-09-27_12-00-01-01_66470_92045.wav\n",
      "Saving /mnt/cube/j8xing/starling_rhythm_mfdfa/data/s_b1555_22/s_b1555_22_2022-09-27_20-00-01-01_106675_131785.wav\n",
      "Saving /mnt/cube/j8xing/starling_rhythm_mfdfa/data/s_b1555_22/s_b1555_22_2022-09-27_20-00-01-01_1226575_1249235.wav\n",
      "Saving /mnt/cube/j8xing/starling_rhythm_mfdfa/data/s_b1555_22/s_b1555_22_2022-09-27_20-00-01-01_15295_37925.wav\n",
      "Saving /mnt/cube/j8xing/starling_rhythm_mfdfa/data/s_b1555_22/s_b1555_22_2022-09-27_19-00-01-02_1522050_1544665.wav\n"
     ]
    },
    {
     "name": "stderr",
     "output_type": "stream",
     "text": [
      "\n",
      "Processing each day's bout: 123it [00:05, 33.83it/s]\u001b[A"
     ]
    },
    {
     "name": "stdout",
     "output_type": "stream",
     "text": [
      "Saving /mnt/cube/j8xing/starling_rhythm_mfdfa/data/s_b1555_22/s_b1555_22_2022-09-27_15-00-01-02_1677945_1699745.wav\n",
      "Saving /mnt/cube/j8xing/starling_rhythm_mfdfa/data/s_b1555_22/s_b1555_22_2022-09-27_21-00-01-01_1440375_1462115.wav\n",
      "Saving /mnt/cube/j8xing/starling_rhythm_mfdfa/data/s_b1555_22/s_b1555_22_2022-09-27_16-00-01-01_1205960_1227520.wav\n",
      "Saving /mnt/cube/j8xing/starling_rhythm_mfdfa/data/s_b1555_22/s_b1555_22_2022-09-27_09-00-01-02_477125_496860.wav\n",
      "Saving /mnt/cube/j8xing/starling_rhythm_mfdfa/data/s_b1555_22/s_b1555_22_2022-09-27_10-00-01-02_540885_560610.wav\n",
      "Saving /mnt/cube/j8xing/starling_rhythm_mfdfa/data/s_b1555_22/s_b1555_22_2022-09-27_08-00-01-02_370295_387245.wav\n",
      "Saving /mnt/cube/j8xing/starling_rhythm_mfdfa/data/s_b1555_22/s_b1555_22_2022-09-27_08-00-01-01_1119770_1132145.wav\n",
      "Saving /mnt/cube/j8xing/starling_rhythm_mfdfa/data/s_b1555_22/s_b1555_22_2022-09-27_11-00-01-02_1688895_1699925.wav\n",
      "Saving /mnt/cube/j8xing/starling_rhythm_mfdfa/data/s_b1555_22/s_b1555_22_2022-09-27_19-00-01-02_759275_768180.wav\n",
      "Saving /mnt/cube/j8xing/starling_rhythm_mfdfa/data/s_b1555_22/s_b1555_22_2022-09-27_10-00-01-01_1286480_1290615.wav\n"
     ]
    },
    {
     "name": "stderr",
     "output_type": "stream",
     "text": [
      "\n",
      "Processing each day's bout: 130it [00:05, 24.01it/s]\u001b[A\n",
      "Processing each day:  50%|█████     | 5/10 [00:40<00:40,  8.08s/it]"
     ]
    },
    {
     "name": "stdout",
     "output_type": "stream",
     "text": [
      "Saving /mnt/cube/j8xing/starling_rhythm_mfdfa/data/s_b1555_22/s_b1555_22_2022-09-27_09-00-01-01_85130_88235.wav\n"
     ]
    },
    {
     "name": "stderr",
     "output_type": "stream",
     "text": [
      "\n",
      "Processing each day's bout: 0it [00:00, ?it/s]\u001b[A\n",
      "Processing each day's bout: 2it [00:00, 16.93it/s]\u001b[A"
     ]
    },
    {
     "name": "stdout",
     "output_type": "stream",
     "text": [
      "Saving /mnt/cube/j8xing/starling_rhythm_mfdfa/data/s_b1555_22/s_b1555_22_2022-09-25_19-00-01-02_1545265_1602845.wav\n",
      "Saving /mnt/cube/j8xing/starling_rhythm_mfdfa/data/s_b1555_22/s_b1555_22_2022-09-25_18-00-01-02_1578385_1635015.wav\n",
      "Saving /mnt/cube/j8xing/starling_rhythm_mfdfa/data/s_b1555_22/s_b1555_22_2022-09-25_20-00-01-02_789175_842850.wav\n",
      "Saving /mnt/cube/j8xing/starling_rhythm_mfdfa/data/s_b1555_22/s_b1555_22_2022-09-25_19-00-01-02_1287260_1340015.wav\n"
     ]
    },
    {
     "name": "stderr",
     "output_type": "stream",
     "text": [
      "\n",
      "Processing each day's bout: 4it [00:00, 17.11it/s]\u001b[A\n",
      "Processing each day's bout: 6it [00:00, 17.47it/s]\u001b[A"
     ]
    },
    {
     "name": "stdout",
     "output_type": "stream",
     "text": [
      "Saving /mnt/cube/j8xing/starling_rhythm_mfdfa/data/s_b1555_22/s_b1555_22_2022-09-25_09-00-01-02_1646160_1698580.wav\n",
      "Saving /mnt/cube/j8xing/starling_rhythm_mfdfa/data/s_b1555_22/s_b1555_22_2022-09-25_20-00-01-01_71885_123660.wav\n",
      "Saving /mnt/cube/j8xing/starling_rhythm_mfdfa/data/s_b1555_22/s_b1555_22_2022-09-25_18-00-01-01_1208295_1259145.wav\n",
      "Saving /mnt/cube/j8xing/starling_rhythm_mfdfa/data/s_b1555_22/s_b1555_22_2022-09-25_18-00-01-01_1132390_1183170.wav\n"
     ]
    },
    {
     "name": "stderr",
     "output_type": "stream",
     "text": [
      "\n",
      "Processing each day's bout: 8it [00:00, 17.62it/s]\u001b[A\n",
      "Processing each day's bout: 10it [00:00, 17.96it/s]\u001b[A"
     ]
    },
    {
     "name": "stdout",
     "output_type": "stream",
     "text": [
      "Saving /mnt/cube/j8xing/starling_rhythm_mfdfa/data/s_b1555_22/s_b1555_22_2022-09-25_20-00-01-01_1284165_1332440.wav\n",
      "Saving /mnt/cube/j8xing/starling_rhythm_mfdfa/data/s_b1555_22/s_b1555_22_2022-09-25_20-00-01-02_1106155_1153895.wav\n",
      "Saving /mnt/cube/j8xing/starling_rhythm_mfdfa/data/s_b1555_22/s_b1555_22_2022-09-25_21-00-01-01_1444135_1491835.wav\n",
      "Saving /mnt/cube/j8xing/starling_rhythm_mfdfa/data/s_b1555_22/s_b1555_22_2022-09-25_10-00-01-02_772495_820190.wav\n"
     ]
    },
    {
     "name": "stderr",
     "output_type": "stream",
     "text": [
      "\n",
      "Processing each day's bout: 12it [00:00, 18.29it/s]\u001b[A\n",
      "Processing each day's bout: 14it [00:00, 18.31it/s]\u001b[A"
     ]
    },
    {
     "name": "stdout",
     "output_type": "stream",
     "text": [
      "Saving /mnt/cube/j8xing/starling_rhythm_mfdfa/data/s_b1555_22/s_b1555_22_2022-09-25_20-00-01-01_907485_954955.wav\n",
      "Saving /mnt/cube/j8xing/starling_rhythm_mfdfa/data/s_b1555_22/s_b1555_22_2022-09-25_17-00-01-02_1086430_1133405.wav\n",
      "Saving /mnt/cube/j8xing/starling_rhythm_mfdfa/data/s_b1555_22/s_b1555_22_2022-09-25_19-00-01-02_531695_578525.wav\n",
      "Saving /mnt/cube/j8xing/starling_rhythm_mfdfa/data/s_b1555_22/s_b1555_22_2022-09-25_18-00-01-02_1499100_1545860.wav\n"
     ]
    },
    {
     "name": "stderr",
     "output_type": "stream",
     "text": [
      "\n",
      "Processing each day's bout: 16it [00:00, 18.59it/s]\u001b[A\n",
      "Processing each day's bout: 19it [00:01, 19.30it/s]\u001b[A"
     ]
    },
    {
     "name": "stdout",
     "output_type": "stream",
     "text": [
      "Saving /mnt/cube/j8xing/starling_rhythm_mfdfa/data/s_b1555_22/s_b1555_22_2022-09-25_20-00-01-02_167480_212985.wav\n",
      "Saving /mnt/cube/j8xing/starling_rhythm_mfdfa/data/s_b1555_22/s_b1555_22_2022-09-25_19-00-01-02_1116515_1161920.wav\n",
      "Saving /mnt/cube/j8xing/starling_rhythm_mfdfa/data/s_b1555_22/s_b1555_22_2022-09-25_20-00-01-02_1203535_1248925.wav\n",
      "Saving /mnt/cube/j8xing/starling_rhythm_mfdfa/data/s_b1555_22/s_b1555_22_2022-09-25_11-00-01-01_1172210_1216720.wav\n",
      "Saving /mnt/cube/j8xing/starling_rhythm_mfdfa/data/s_b1555_22/s_b1555_22_2022-09-25_09-00-01-02_1470435_1514735.wav\n"
     ]
    },
    {
     "name": "stderr",
     "output_type": "stream",
     "text": [
      "\n",
      "Processing each day's bout: 22it [00:01, 20.33it/s]\u001b[A\n",
      "Processing each day's bout: 25it [00:01, 20.61it/s]\u001b[A"
     ]
    },
    {
     "name": "stdout",
     "output_type": "stream",
     "text": [
      "Saving /mnt/cube/j8xing/starling_rhythm_mfdfa/data/s_b1555_22/s_b1555_22_2022-09-25_18-00-01-02_599395_643210.wav\n",
      "Saving /mnt/cube/j8xing/starling_rhythm_mfdfa/data/s_b1555_22/s_b1555_22_2022-09-25_20-00-01-01_228515_272310.wav\n",
      "Saving /mnt/cube/j8xing/starling_rhythm_mfdfa/data/s_b1555_22/s_b1555_22_2022-09-25_19-00-01-02_431325_474945.wav\n",
      "Saving /mnt/cube/j8xing/starling_rhythm_mfdfa/data/s_b1555_22/s_b1555_22_2022-09-25_12-00-01-01_1375675_1419030.wav\n",
      "Saving /mnt/cube/j8xing/starling_rhythm_mfdfa/data/s_b1555_22/s_b1555_22_2022-09-25_10-00-01-01_231345_274675.wav\n"
     ]
    },
    {
     "name": "stderr",
     "output_type": "stream",
     "text": [
      "\n",
      "Processing each day's bout: 28it [00:01, 20.84it/s]\u001b[A"
     ]
    },
    {
     "name": "stdout",
     "output_type": "stream",
     "text": [
      "Saving /mnt/cube/j8xing/starling_rhythm_mfdfa/data/s_b1555_22/s_b1555_22_2022-09-25_10-00-01-01_568280_611505.wav\n",
      "Saving /mnt/cube/j8xing/starling_rhythm_mfdfa/data/s_b1555_22/s_b1555_22_2022-09-25_20-00-01-02_1454885_1497460.wav\n",
      "Saving /mnt/cube/j8xing/starling_rhythm_mfdfa/data/s_b1555_22/s_b1555_22_2022-09-25_19-00-01-01_1460610_1502795.wav\n",
      "Saving /mnt/cube/j8xing/starling_rhythm_mfdfa/data/s_b1555_22/s_b1555_22_2022-09-25_18-00-01-02_867735_909885.wav\n",
      "Saving /mnt/cube/j8xing/starling_rhythm_mfdfa/data/s_b1555_22/s_b1555_22_2022-09-25_10-00-01-01_887580_929325.wav\n"
     ]
    },
    {
     "name": "stderr",
     "output_type": "stream",
     "text": [
      "\n",
      "Processing each day's bout: 31it [00:01, 21.10it/s]\u001b[A\n",
      "Processing each day's bout: 34it [00:01, 21.51it/s]\u001b[A"
     ]
    },
    {
     "name": "stdout",
     "output_type": "stream",
     "text": [
      "Saving /mnt/cube/j8xing/starling_rhythm_mfdfa/data/s_b1555_22/s_b1555_22_2022-09-25_20-00-01-01_735280_776820.wav\n",
      "Saving /mnt/cube/j8xing/starling_rhythm_mfdfa/data/s_b1555_22/s_b1555_22_2022-09-25_21-00-01-01_818060_859440.wav\n",
      "Saving /mnt/cube/j8xing/starling_rhythm_mfdfa/data/s_b1555_22/s_b1555_22_2022-09-25_17-00-01-02_1007475_1048585.wav\n",
      "Saving /mnt/cube/j8xing/starling_rhythm_mfdfa/data/s_b1555_22/s_b1555_22_2022-09-25_09-00-01-02_1098235_1139185.wav\n",
      "Saving /mnt/cube/j8xing/starling_rhythm_mfdfa/data/s_b1555_22/s_b1555_22_2022-09-25_11-00-01-01_974685_1015560.wav\n"
     ]
    },
    {
     "name": "stderr",
     "output_type": "stream",
     "text": [
      "\n",
      "Processing each day's bout: 37it [00:01, 21.51it/s]\u001b[A\n",
      "Processing each day's bout: 40it [00:01, 21.49it/s]\u001b[A"
     ]
    },
    {
     "name": "stdout",
     "output_type": "stream",
     "text": [
      "Saving /mnt/cube/j8xing/starling_rhythm_mfdfa/data/s_b1555_22/s_b1555_22_2022-09-25_21-00-01-01_1057115_1097890.wav\n",
      "Saving /mnt/cube/j8xing/starling_rhythm_mfdfa/data/s_b1555_22/s_b1555_22_2022-09-25_12-00-01-01_623190_663775.wav\n",
      "Saving /mnt/cube/j8xing/starling_rhythm_mfdfa/data/s_b1555_22/s_b1555_22_2022-09-25_10-00-01-01_440500_481040.wav\n",
      "Saving /mnt/cube/j8xing/starling_rhythm_mfdfa/data/s_b1555_22/s_b1555_22_2022-09-25_19-00-01-02_1659570_1700000.wav\n",
      "Saving /mnt/cube/j8xing/starling_rhythm_mfdfa/data/s_b1555_22/s_b1555_22_2022-09-25_09-00-01-02_1561450_1600795.wav\n"
     ]
    },
    {
     "name": "stderr",
     "output_type": "stream",
     "text": [
      "\n",
      "Processing each day's bout: 43it [00:02, 21.72it/s]\u001b[A"
     ]
    },
    {
     "name": "stdout",
     "output_type": "stream",
     "text": [
      "Saving /mnt/cube/j8xing/starling_rhythm_mfdfa/data/s_b1555_22/s_b1555_22_2022-09-25_09-00-01-02_854560_893895.wav\n",
      "Saving /mnt/cube/j8xing/starling_rhythm_mfdfa/data/s_b1555_22/s_b1555_22_2022-09-25_12-00-01-01_1483470_1522760.wav\n",
      "Saving /mnt/cube/j8xing/starling_rhythm_mfdfa/data/s_b1555_22/s_b1555_22_2022-09-25_18-00-01-02_698635_737785.wav\n",
      "Saving /mnt/cube/j8xing/starling_rhythm_mfdfa/data/s_b1555_22/s_b1555_22_2022-09-25_10-00-01-02_1303785_1342810.wav\n",
      "Saving /mnt/cube/j8xing/starling_rhythm_mfdfa/data/s_b1555_22/s_b1555_22_2022-09-25_10-00-01-01_1560465_1599465.wav\n"
     ]
    },
    {
     "name": "stderr",
     "output_type": "stream",
     "text": [
      "\n",
      "Processing each day's bout: 46it [00:02, 21.99it/s]\u001b[A\n",
      "Processing each day's bout: 49it [00:02, 22.26it/s]\u001b[A"
     ]
    },
    {
     "name": "stdout",
     "output_type": "stream",
     "text": [
      "Saving /mnt/cube/j8xing/starling_rhythm_mfdfa/data/s_b1555_22/s_b1555_22_2022-09-25_10-00-01-01_1692270_1730960.wav\n",
      "Saving /mnt/cube/j8xing/starling_rhythm_mfdfa/data/s_b1555_22/s_b1555_22_2022-09-25_19-00-01-01_1643590_1682260.wav\n",
      "Saving /mnt/cube/j8xing/starling_rhythm_mfdfa/data/s_b1555_22/s_b1555_22_2022-09-25_11-00-01-01_426840_465070.wav\n",
      "Saving /mnt/cube/j8xing/starling_rhythm_mfdfa/data/s_b1555_22/s_b1555_22_2022-09-25_11-00-01-01_842415_880610.wav\n",
      "Saving /mnt/cube/j8xing/starling_rhythm_mfdfa/data/s_b1555_22/s_b1555_22_2022-09-25_11-00-01-01_715305_753040.wav\n"
     ]
    },
    {
     "name": "stderr",
     "output_type": "stream",
     "text": [
      "\n",
      "Processing each day's bout: 52it [00:02, 22.65it/s]\u001b[A\n",
      "Processing each day's bout: 55it [00:02, 23.39it/s]\u001b[A"
     ]
    },
    {
     "name": "stdout",
     "output_type": "stream",
     "text": [
      "Saving /mnt/cube/j8xing/starling_rhythm_mfdfa/data/s_b1555_22/s_b1555_22_2022-09-25_20-00-01-02_1599190_1636635.wav\n",
      "Saving /mnt/cube/j8xing/starling_rhythm_mfdfa/data/s_b1555_22/s_b1555_22_2022-09-25_19-00-01-02_1206400_1243230.wav\n",
      "Saving /mnt/cube/j8xing/starling_rhythm_mfdfa/data/s_b1555_22/s_b1555_22_2022-09-25_17-00-01-02_909305_945575.wav\n",
      "Saving /mnt/cube/j8xing/starling_rhythm_mfdfa/data/s_b1555_22/s_b1555_22_2022-09-25_20-00-01-01_1377530_1413575.wav\n",
      "Saving /mnt/cube/j8xing/starling_rhythm_mfdfa/data/s_b1555_22/s_b1555_22_2022-09-25_20-00-01-02_942295_978140.wav\n",
      "Saving /mnt/cube/j8xing/starling_rhythm_mfdfa/data/s_b1555_22/s_b1555_22_2022-09-25_20-00-01-01_827390_862925.wav\n"
     ]
    },
    {
     "name": "stderr",
     "output_type": "stream",
     "text": [
      "\n",
      "Processing each day's bout: 58it [00:02, 24.47it/s]\u001b[A\n",
      "Processing each day's bout: 61it [00:02, 24.69it/s]\u001b[A"
     ]
    },
    {
     "name": "stdout",
     "output_type": "stream",
     "text": [
      "Saving /mnt/cube/j8xing/starling_rhythm_mfdfa/data/s_b1555_22/s_b1555_22_2022-09-25_11-00-01-01_1496765_1532225.wav\n",
      "Saving /mnt/cube/j8xing/starling_rhythm_mfdfa/data/s_b1555_22/s_b1555_22_2022-09-25_18-00-01-02_1429305_1464760.wav\n",
      "Saving /mnt/cube/j8xing/starling_rhythm_mfdfa/data/s_b1555_22/s_b1555_22_2022-09-25_10-00-01-02_205690_240960.wav\n",
      "Saving /mnt/cube/j8xing/starling_rhythm_mfdfa/data/s_b1555_22/s_b1555_22_2022-09-25_21-00-01-01_1274935_1310090.wav\n",
      "Saving /mnt/cube/j8xing/starling_rhythm_mfdfa/data/s_b1555_22/s_b1555_22_2022-09-25_20-00-01-02_1012140_1047055.wav\n",
      "Saving /mnt/cube/j8xing/starling_rhythm_mfdfa/data/s_b1555_22/s_b1555_22_2022-09-25_19-00-01-02_959775_994470.wav\n"
     ]
    },
    {
     "name": "stderr",
     "output_type": "stream",
     "text": [
      "\n",
      "Processing each day's bout: 64it [00:02, 25.03it/s]\u001b[A\n",
      "Processing each day's bout: 67it [00:03, 25.26it/s]\u001b[A"
     ]
    },
    {
     "name": "stdout",
     "output_type": "stream",
     "text": [
      "Saving /mnt/cube/j8xing/starling_rhythm_mfdfa/data/s_b1555_22/s_b1555_22_2022-09-25_17-00-01-02_1223750_1258285.wav\n",
      "Saving /mnt/cube/j8xing/starling_rhythm_mfdfa/data/s_b1555_22/s_b1555_22_2022-09-25_10-00-01-02_1177310_1211575.wav\n",
      "Saving /mnt/cube/j8xing/starling_rhythm_mfdfa/data/s_b1555_22/s_b1555_22_2022-09-25_10-00-01-01_309800_343990.wav\n",
      "Saving /mnt/cube/j8xing/starling_rhythm_mfdfa/data/s_b1555_22/s_b1555_22_2022-09-25_17-00-01-02_1382095_1416165.wav\n",
      "Saving /mnt/cube/j8xing/starling_rhythm_mfdfa/data/s_b1555_22/s_b1555_22_2022-09-25_10-00-01-02_380475_414130.wav\n",
      "Saving /mnt/cube/j8xing/starling_rhythm_mfdfa/data/s_b1555_22/s_b1555_22_2022-09-25_10-00-01-01_102735_136020.wav\n"
     ]
    },
    {
     "name": "stderr",
     "output_type": "stream",
     "text": [
      "\n",
      "Processing each day's bout: 70it [00:03, 25.63it/s]\u001b[A\n",
      "Processing each day's bout: 73it [00:03, 25.93it/s]\u001b[A"
     ]
    },
    {
     "name": "stdout",
     "output_type": "stream",
     "text": [
      "Saving /mnt/cube/j8xing/starling_rhythm_mfdfa/data/s_b1555_22/s_b1555_22_2022-09-25_20-00-01-01_1593025_1626295.wav\n",
      "Saving /mnt/cube/j8xing/starling_rhythm_mfdfa/data/s_b1555_22/s_b1555_22_2022-09-25_19-00-01-01_1580685_1613905.wav\n",
      "Saving /mnt/cube/j8xing/starling_rhythm_mfdfa/data/s_b1555_22/s_b1555_22_2022-09-25_11-00-01-02_41815_74090.wav\n",
      "Saving /mnt/cube/j8xing/starling_rhythm_mfdfa/data/s_b1555_22/s_b1555_22_2022-09-25_10-00-01-02_531660_563915.wav\n",
      "Saving /mnt/cube/j8xing/starling_rhythm_mfdfa/data/s_b1555_22/s_b1555_22_2022-09-25_15-00-01-02_79330_110530.wav\n",
      "Saving /mnt/cube/j8xing/starling_rhythm_mfdfa/data/s_b1555_22/s_b1555_22_2022-09-25_21-00-01-01_1141535_1172160.wav\n"
     ]
    },
    {
     "name": "stderr",
     "output_type": "stream",
     "text": [
      "\n",
      "Processing each day's bout: 76it [00:03, 26.29it/s]\u001b[A\n",
      "Processing each day's bout: 79it [00:03, 26.48it/s]\u001b[A"
     ]
    },
    {
     "name": "stdout",
     "output_type": "stream",
     "text": [
      "Saving /mnt/cube/j8xing/starling_rhythm_mfdfa/data/s_b1555_22/s_b1555_22_2022-09-25_20-00-01-02_101380_131845.wav\n",
      "Saving /mnt/cube/j8xing/starling_rhythm_mfdfa/data/s_b1555_22/s_b1555_22_2022-09-25_20-00-01-01_990810_1020915.wav\n",
      "Saving /mnt/cube/j8xing/starling_rhythm_mfdfa/data/s_b1555_22/s_b1555_22_2022-09-25_18-00-01-01_1495415_1525300.wav\n",
      "Saving /mnt/cube/j8xing/starling_rhythm_mfdfa/data/s_b1555_22/s_b1555_22_2022-09-25_21-00-01-01_951845_981400.wav\n",
      "Saving /mnt/cube/j8xing/starling_rhythm_mfdfa/data/s_b1555_22/s_b1555_22_2022-09-25_10-00-01-01_1258390_1287605.wav\n",
      "Saving /mnt/cube/j8xing/starling_rhythm_mfdfa/data/s_b1555_22/s_b1555_22_2022-09-25_20-00-01-01_302980_331985.wav\n"
     ]
    },
    {
     "name": "stderr",
     "output_type": "stream",
     "text": [
      "\n",
      "Processing each day's bout: 82it [00:03, 27.06it/s]\u001b[A\n",
      "Processing each day's bout: 85it [00:03, 27.81it/s]\u001b[A"
     ]
    },
    {
     "name": "stdout",
     "output_type": "stream",
     "text": [
      "Saving /mnt/cube/j8xing/starling_rhythm_mfdfa/data/s_b1555_22/s_b1555_22_2022-09-25_11-00-01-01_1635560_1664495.wav\n",
      "Saving /mnt/cube/j8xing/starling_rhythm_mfdfa/data/s_b1555_22/s_b1555_22_2022-09-25_20-00-01-01_1193410_1222215.wav\n",
      "Saving /mnt/cube/j8xing/starling_rhythm_mfdfa/data/s_b1555_22/s_b1555_22_2022-09-25_10-00-01-02_464925_493600.wav\n",
      "Saving /mnt/cube/j8xing/starling_rhythm_mfdfa/data/s_b1555_22/s_b1555_22_2022-09-25_18-00-01-02_532655_561255.wav\n",
      "Saving /mnt/cube/j8xing/starling_rhythm_mfdfa/data/s_b1555_22/s_b1555_22_2022-09-25_10-00-01-01_975415_1003800.wav\n",
      "Saving /mnt/cube/j8xing/starling_rhythm_mfdfa/data/s_b1555_22/s_b1555_22_2022-09-25_19-00-01-02_77645_105805.wav\n"
     ]
    },
    {
     "name": "stderr",
     "output_type": "stream",
     "text": [
      "\n",
      "Processing each day's bout: 88it [00:03, 28.15it/s]\u001b[A\n",
      "Processing each day's bout: 92it [00:03, 29.53it/s]\u001b[A"
     ]
    },
    {
     "name": "stdout",
     "output_type": "stream",
     "text": [
      "Saving /mnt/cube/j8xing/starling_rhythm_mfdfa/data/s_b1555_22/s_b1555_22_2022-09-25_10-00-01-02_12960_40900.wav\n",
      "Saving /mnt/cube/j8xing/starling_rhythm_mfdfa/data/s_b1555_22/s_b1555_22_2022-09-25_21-00-01-01_729835_757075.wav\n",
      "Saving /mnt/cube/j8xing/starling_rhythm_mfdfa/data/s_b1555_22/s_b1555_22_2022-09-25_10-00-01-01_822545_849210.wav\n",
      "Saving /mnt/cube/j8xing/starling_rhythm_mfdfa/data/s_b1555_22/s_b1555_22_2022-09-25_19-00-01-02_166495_193015.wav\n",
      "Saving /mnt/cube/j8xing/starling_rhythm_mfdfa/data/s_b1555_22/s_b1555_22_2022-09-25_18-00-01-02_947125_973555.wav\n",
      "Saving /mnt/cube/j8xing/starling_rhythm_mfdfa/data/s_b1555_22/s_b1555_22_2022-09-25_17-00-01-02_1298465_1323535.wav\n",
      "Saving /mnt/cube/j8xing/starling_rhythm_mfdfa/data/s_b1555_22/s_b1555_22_2022-09-25_19-00-01-01_1400290_1425310.wav\n"
     ]
    },
    {
     "name": "stderr",
     "output_type": "stream",
     "text": [
      "\n",
      "Processing each day's bout: 96it [00:04, 31.13it/s]\u001b[A\n",
      "Processing each day's bout: 101it [00:04, 34.16it/s]\u001b[A"
     ]
    },
    {
     "name": "stdout",
     "output_type": "stream",
     "text": [
      "Saving /mnt/cube/j8xing/starling_rhythm_mfdfa/data/s_b1555_22/s_b1555_22_2022-09-25_20-00-01-01_1532125_1556690.wav\n",
      "Saving /mnt/cube/j8xing/starling_rhythm_mfdfa/data/s_b1555_22/s_b1555_22_2022-09-25_14-00-02-01_1768580_1791970.wav\n",
      "Saving /mnt/cube/j8xing/starling_rhythm_mfdfa/data/s_b1555_22/s_b1555_22_2022-09-25_10-00-01-02_102785_125305.wav\n",
      "Saving /mnt/cube/j8xing/starling_rhythm_mfdfa/data/s_b1555_22/s_b1555_22_2022-09-25_14-00-02-01_721030_743265.wav\n",
      "Saving /mnt/cube/j8xing/starling_rhythm_mfdfa/data/s_b1555_22/s_b1555_22_2022-09-25_20-00-01-02_1360050_1380385.wav\n",
      "Saving /mnt/cube/j8xing/starling_rhythm_mfdfa/data/s_b1555_22/s_b1555_22_2022-09-25_17-00-01-02_1191090_1211275.wav\n",
      "Saving /mnt/cube/j8xing/starling_rhythm_mfdfa/data/s_b1555_22/s_b1555_22_2022-09-25_20-00-01-02_1680420_1700000.wav\n",
      "Saving /mnt/cube/j8xing/starling_rhythm_mfdfa/data/s_b1555_22/s_b1555_22_2022-09-25_17-00-01-02_1267220_1286795.wav\n"
     ]
    },
    {
     "name": "stderr",
     "output_type": "stream",
     "text": [
      "Processing each day's bout: 105it [00:04, 24.45it/s]\n",
      "Processing each day:  60%|██████    | 6/10 [00:48<00:31,  7.77s/it]"
     ]
    },
    {
     "name": "stdout",
     "output_type": "stream",
     "text": [
      "Saving /mnt/cube/j8xing/starling_rhythm_mfdfa/data/s_b1555_22/s_b1555_22_2022-09-25_14-00-02-01_1447265_1463740.wav\n",
      "Saving /mnt/cube/j8xing/starling_rhythm_mfdfa/data/s_b1555_22/s_b1555_22_2022-09-25_09-00-01-02_959060_974605.wav\n",
      "Saving /mnt/cube/j8xing/starling_rhythm_mfdfa/data/s_b1555_22/s_b1555_22_2022-09-25_09-00-01-02_780670_786335.wav\n"
     ]
    },
    {
     "name": "stderr",
     "output_type": "stream",
     "text": [
      "\n",
      "Processing each day's bout: 0it [00:00, ?it/s]\u001b[A\n",
      "Processing each day's bout: 2it [00:00, 16.48it/s]\u001b[A"
     ]
    },
    {
     "name": "stdout",
     "output_type": "stream",
     "text": [
      "Saving /mnt/cube/j8xing/starling_rhythm_mfdfa/data/s_b1555_22/s_b1555_22_2022-09-28_17-00-01-02_1281750_1341670.wav\n",
      "Saving /mnt/cube/j8xing/starling_rhythm_mfdfa/data/s_b1555_22/s_b1555_22_2022-09-28_18-00-01-02_384780_442020.wav\n",
      "Saving /mnt/cube/j8xing/starling_rhythm_mfdfa/data/s_b1555_22/s_b1555_22_2022-09-28_12-00-01-01_1343630_1399290.wav\n",
      "Saving /mnt/cube/j8xing/starling_rhythm_mfdfa/data/s_b1555_22/s_b1555_22_2022-09-28_13-00-01-02_508580_562235.wav\n"
     ]
    },
    {
     "name": "stderr",
     "output_type": "stream",
     "text": [
      "\n",
      "Processing each day's bout: 4it [00:00, 17.23it/s]\u001b[A\n",
      "Processing each day's bout: 6it [00:00, 17.25it/s]\u001b[A"
     ]
    },
    {
     "name": "stdout",
     "output_type": "stream",
     "text": [
      "Saving /mnt/cube/j8xing/starling_rhythm_mfdfa/data/s_b1555_22/s_b1555_22_2022-09-28_17-00-01-01_1673305_1726710.wav\n",
      "Saving /mnt/cube/j8xing/starling_rhythm_mfdfa/data/s_b1555_22/s_b1555_22_2022-09-28_10-00-01-01_891195_943895.wav\n",
      "Saving /mnt/cube/j8xing/starling_rhythm_mfdfa/data/s_b1555_22/s_b1555_22_2022-09-28_09-00-01-02_1398130_1450025.wav\n",
      "Saving /mnt/cube/j8xing/starling_rhythm_mfdfa/data/s_b1555_22/s_b1555_22_2022-09-28_14-00-01-01_862915_914675.wav\n"
     ]
    },
    {
     "name": "stderr",
     "output_type": "stream",
     "text": [
      "\n",
      "Processing each day's bout: 8it [00:00, 17.41it/s]\u001b[A\n",
      "Processing each day's bout: 10it [00:00, 17.59it/s]\u001b[A"
     ]
    },
    {
     "name": "stdout",
     "output_type": "stream",
     "text": [
      "Saving /mnt/cube/j8xing/starling_rhythm_mfdfa/data/s_b1555_22/s_b1555_22_2022-09-28_17-00-01-02_1588140_1639120.wav\n",
      "Saving /mnt/cube/j8xing/starling_rhythm_mfdfa/data/s_b1555_22/s_b1555_22_2022-09-28_15-00-01-02_1293550_1344435.wav\n",
      "Saving /mnt/cube/j8xing/starling_rhythm_mfdfa/data/s_b1555_22/s_b1555_22_2022-09-28_13-00-01-02_1216505_1267250.wav\n",
      "Saving /mnt/cube/j8xing/starling_rhythm_mfdfa/data/s_b1555_22/s_b1555_22_2022-09-28_18-00-01-02_224380_274815.wav\n"
     ]
    },
    {
     "name": "stderr",
     "output_type": "stream",
     "text": [
      "\n",
      "Processing each day's bout: 12it [00:00, 17.78it/s]\u001b[A\n",
      "Processing each day's bout: 14it [00:00, 17.93it/s]\u001b[A"
     ]
    },
    {
     "name": "stdout",
     "output_type": "stream",
     "text": [
      "Saving /mnt/cube/j8xing/starling_rhythm_mfdfa/data/s_b1555_22/s_b1555_22_2022-09-28_18-00-01-02_59625_109750.wav\n",
      "Saving /mnt/cube/j8xing/starling_rhythm_mfdfa/data/s_b1555_22/s_b1555_22_2022-09-28_15-00-01-02_1095640_1145720.wav\n",
      "Saving /mnt/cube/j8xing/starling_rhythm_mfdfa/data/s_b1555_22/s_b1555_22_2022-09-28_17-00-01-02_602765_652725.wav\n",
      "Saving /mnt/cube/j8xing/starling_rhythm_mfdfa/data/s_b1555_22/s_b1555_22_2022-09-28_19-00-01-02_1412630_1462345.wav\n"
     ]
    },
    {
     "name": "stderr",
     "output_type": "stream",
     "text": [
      "\n",
      "Processing each day's bout: 16it [00:00, 17.93it/s]\u001b[A\n",
      "Processing each day's bout: 18it [00:01, 17.95it/s]\u001b[A"
     ]
    },
    {
     "name": "stdout",
     "output_type": "stream",
     "text": [
      "Saving /mnt/cube/j8xing/starling_rhythm_mfdfa/data/s_b1555_22/s_b1555_22_2022-09-28_20-00-02-02_165955_215215.wav\n",
      "Saving /mnt/cube/j8xing/starling_rhythm_mfdfa/data/s_b1555_22/s_b1555_22_2022-09-28_16-00-01-02_1129125_1178080.wav\n",
      "Saving /mnt/cube/j8xing/starling_rhythm_mfdfa/data/s_b1555_22/s_b1555_22_2022-09-28_17-00-01-02_816870_865340.wav\n",
      "Saving /mnt/cube/j8xing/starling_rhythm_mfdfa/data/s_b1555_22/s_b1555_22_2022-09-28_10-00-01-01_1688695_1736285.wav\n"
     ]
    },
    {
     "name": "stderr",
     "output_type": "stream",
     "text": [
      "\n",
      "Processing each day's bout: 20it [00:01, 18.35it/s]\u001b[A\n",
      "Processing each day's bout: 23it [00:01, 19.17it/s]\u001b[A"
     ]
    },
    {
     "name": "stdout",
     "output_type": "stream",
     "text": [
      "Saving /mnt/cube/j8xing/starling_rhythm_mfdfa/data/s_b1555_22/s_b1555_22_2022-09-28_10-00-01-01_365530_413060.wav\n",
      "Saving /mnt/cube/j8xing/starling_rhythm_mfdfa/data/s_b1555_22/s_b1555_22_2022-09-28_20-00-02-02_697660_745095.wav\n",
      "Saving /mnt/cube/j8xing/starling_rhythm_mfdfa/data/s_b1555_22/s_b1555_22_2022-09-28_21-00-02-02_324080_371170.wav\n",
      "Saving /mnt/cube/j8xing/starling_rhythm_mfdfa/data/s_b1555_22/s_b1555_22_2022-09-28_21-00-02-02_243775_290735.wav\n",
      "Saving /mnt/cube/j8xing/starling_rhythm_mfdfa/data/s_b1555_22/s_b1555_22_2022-09-28_16-00-01-02_1558745_1605680.wav\n"
     ]
    },
    {
     "name": "stderr",
     "output_type": "stream",
     "text": [
      "\n",
      "Processing each day's bout: 25it [00:01, 19.31it/s]\u001b[A\n",
      "Processing each day's bout: 27it [00:01, 19.44it/s]\u001b[A"
     ]
    },
    {
     "name": "stdout",
     "output_type": "stream",
     "text": [
      "Saving /mnt/cube/j8xing/starling_rhythm_mfdfa/data/s_b1555_22/s_b1555_22_2022-09-28_12-00-01-01_881720_928455.wav\n",
      "Saving /mnt/cube/j8xing/starling_rhythm_mfdfa/data/s_b1555_22/s_b1555_22_2022-09-28_13-00-01-02_1294560_1340335.wav\n",
      "Saving /mnt/cube/j8xing/starling_rhythm_mfdfa/data/s_b1555_22/s_b1555_22_2022-09-28_17-00-01-02_415385_460900.wav\n",
      "Saving /mnt/cube/j8xing/starling_rhythm_mfdfa/data/s_b1555_22/s_b1555_22_2022-09-28_12-00-01-01_706875_752235.wav\n",
      "Saving /mnt/cube/j8xing/starling_rhythm_mfdfa/data/s_b1555_22/s_b1555_22_2022-09-28_21-00-02-01_465845_511110.wav\n"
     ]
    },
    {
     "name": "stderr",
     "output_type": "stream",
     "text": [
      "\n",
      "Processing each day's bout: 30it [00:01, 19.75it/s]\u001b[A\n",
      "Processing each day's bout: 33it [00:01, 20.02it/s]\u001b[A"
     ]
    },
    {
     "name": "stdout",
     "output_type": "stream",
     "text": [
      "Saving /mnt/cube/j8xing/starling_rhythm_mfdfa/data/s_b1555_22/s_b1555_22_2022-09-28_09-00-01-02_1509385_1554500.wav\n",
      "Saving /mnt/cube/j8xing/starling_rhythm_mfdfa/data/s_b1555_22/s_b1555_22_2022-09-28_16-00-01-02_711870_756160.wav\n",
      "Saving /mnt/cube/j8xing/starling_rhythm_mfdfa/data/s_b1555_22/s_b1555_22_2022-09-28_08-00-01-02_728270_772520.wav\n",
      "Saving /mnt/cube/j8xing/starling_rhythm_mfdfa/data/s_b1555_22/s_b1555_22_2022-09-28_12-00-01-01_1728530_1772680.wav\n",
      "Saving /mnt/cube/j8xing/starling_rhythm_mfdfa/data/s_b1555_22/s_b1555_22_2022-09-28_20-00-02-01_1117260_1161280.wav\n"
     ]
    },
    {
     "name": "stderr",
     "output_type": "stream",
     "text": [
      "\n",
      "Processing each day's bout: 36it [00:01, 20.52it/s]\u001b[A\n",
      "Processing each day's bout: 39it [00:02, 20.80it/s]\u001b[A"
     ]
    },
    {
     "name": "stdout",
     "output_type": "stream",
     "text": [
      "Saving /mnt/cube/j8xing/starling_rhythm_mfdfa/data/s_b1555_22/s_b1555_22_2022-09-28_18-00-01-02_1208475_1252020.wav\n",
      "Saving /mnt/cube/j8xing/starling_rhythm_mfdfa/data/s_b1555_22/s_b1555_22_2022-09-28_15-00-01-02_1467575_1510190.wav\n",
      "Saving /mnt/cube/j8xing/starling_rhythm_mfdfa/data/s_b1555_22/s_b1555_22_2022-09-28_21-00-02-01_1738035_1780400.wav\n",
      "Saving /mnt/cube/j8xing/starling_rhythm_mfdfa/data/s_b1555_22/s_b1555_22_2022-09-28_17-00-01-02_725010_767220.wav\n",
      "Saving /mnt/cube/j8xing/starling_rhythm_mfdfa/data/s_b1555_22/s_b1555_22_2022-09-28_10-00-01-02_942045_983835.wav\n"
     ]
    },
    {
     "name": "stderr",
     "output_type": "stream",
     "text": [
      "\n",
      "Processing each day's bout: 42it [00:02, 21.05it/s]\u001b[A"
     ]
    },
    {
     "name": "stdout",
     "output_type": "stream",
     "text": [
      "Saving /mnt/cube/j8xing/starling_rhythm_mfdfa/data/s_b1555_22/s_b1555_22_2022-09-28_12-00-01-01_637555_679040.wav\n",
      "Saving /mnt/cube/j8xing/starling_rhythm_mfdfa/data/s_b1555_22/s_b1555_22_2022-09-28_10-00-01-02_1442365_1483085.wav\n",
      "Saving /mnt/cube/j8xing/starling_rhythm_mfdfa/data/s_b1555_22/s_b1555_22_2022-09-28_12-00-01-01_800360_841025.wav\n",
      "Saving /mnt/cube/j8xing/starling_rhythm_mfdfa/data/s_b1555_22/s_b1555_22_2022-09-28_10-00-01-01_1003660_1043655.wav\n",
      "Saving /mnt/cube/j8xing/starling_rhythm_mfdfa/data/s_b1555_22/s_b1555_22_2022-09-28_20-00-02-01_773320_813105.wav\n"
     ]
    },
    {
     "name": "stderr",
     "output_type": "stream",
     "text": [
      "\n",
      "Processing each day's bout: 45it [00:02, 21.42it/s]\u001b[A\n",
      "Processing each day's bout: 48it [00:02, 21.63it/s]\u001b[A"
     ]
    },
    {
     "name": "stdout",
     "output_type": "stream",
     "text": [
      "Saving /mnt/cube/j8xing/starling_rhythm_mfdfa/data/s_b1555_22/s_b1555_22_2022-09-28_11-00-01-02_146840_186585.wav\n",
      "Saving /mnt/cube/j8xing/starling_rhythm_mfdfa/data/s_b1555_22/s_b1555_22_2022-09-28_10-00-01-02_1189270_1228895.wav\n",
      "Saving /mnt/cube/j8xing/starling_rhythm_mfdfa/data/s_b1555_22/s_b1555_22_2022-09-28_08-00-01-02_1175760_1215060.wav\n",
      "Saving /mnt/cube/j8xing/starling_rhythm_mfdfa/data/s_b1555_22/s_b1555_22_2022-09-28_18-00-01-02_142450_181595.wav\n",
      "Saving /mnt/cube/j8xing/starling_rhythm_mfdfa/data/s_b1555_22/s_b1555_22_2022-09-28_20-00-02-01_938440_977560.wav\n"
     ]
    },
    {
     "name": "stderr",
     "output_type": "stream",
     "text": [
      "\n",
      "Processing each day's bout: 51it [00:02, 21.69it/s]\u001b[A\n",
      "Processing each day's bout: 54it [00:02, 22.17it/s]\u001b[A"
     ]
    },
    {
     "name": "stdout",
     "output_type": "stream",
     "text": [
      "Saving /mnt/cube/j8xing/starling_rhythm_mfdfa/data/s_b1555_22/s_b1555_22_2022-09-28_09-00-01-02_1016370_1055445.wav\n",
      "Saving /mnt/cube/j8xing/starling_rhythm_mfdfa/data/s_b1555_22/s_b1555_22_2022-09-28_09-00-01-01_1555860_1594830.wav\n",
      "Saving /mnt/cube/j8xing/starling_rhythm_mfdfa/data/s_b1555_22/s_b1555_22_2022-09-28_20-00-02-01_843640_882375.wav\n",
      "Saving /mnt/cube/j8xing/starling_rhythm_mfdfa/data/s_b1555_22/s_b1555_22_2022-09-28_20-00-02-01_1211585_1249975.wav\n",
      "Saving /mnt/cube/j8xing/starling_rhythm_mfdfa/data/s_b1555_22/s_b1555_22_2022-09-28_17-00-01-02_1661680_1700000.wav\n"
     ]
    },
    {
     "name": "stderr",
     "output_type": "stream",
     "text": [
      "\n",
      "Processing each day's bout: 57it [00:02, 22.89it/s]\u001b[A"
     ]
    },
    {
     "name": "stdout",
     "output_type": "stream",
     "text": [
      "Saving /mnt/cube/j8xing/starling_rhythm_mfdfa/data/s_b1555_22/s_b1555_22_2022-09-28_20-00-02-01_1460485_1498765.wav\n",
      "Saving /mnt/cube/j8xing/starling_rhythm_mfdfa/data/s_b1555_22/s_b1555_22_2022-09-28_11-00-01-01_1126980_1164840.wav\n",
      "Saving /mnt/cube/j8xing/starling_rhythm_mfdfa/data/s_b1555_22/s_b1555_22_2022-09-28_11-00-01-01_1233115_1270780.wav\n",
      "Saving /mnt/cube/j8xing/starling_rhythm_mfdfa/data/s_b1555_22/s_b1555_22_2022-09-28_17-00-01-02_954315_991970.wav\n",
      "Saving /mnt/cube/j8xing/starling_rhythm_mfdfa/data/s_b1555_22/s_b1555_22_2022-09-28_13-00-01-01_1145640_1183050.wav\n"
     ]
    },
    {
     "name": "stderr",
     "output_type": "stream",
     "text": [
      "\n",
      "Processing each day's bout: 60it [00:02, 23.15it/s]\u001b[A\n",
      "Processing each day's bout: 63it [00:03, 23.35it/s]\u001b[A"
     ]
    },
    {
     "name": "stdout",
     "output_type": "stream",
     "text": [
      "Saving /mnt/cube/j8xing/starling_rhythm_mfdfa/data/s_b1555_22/s_b1555_22_2022-09-28_09-00-01-01_1720975_1758090.wav\n",
      "Saving /mnt/cube/j8xing/starling_rhythm_mfdfa/data/s_b1555_22/s_b1555_22_2022-09-28_11-00-01-02_602700_639080.wav\n",
      "Saving /mnt/cube/j8xing/starling_rhythm_mfdfa/data/s_b1555_22/s_b1555_22_2022-09-28_20-00-02-02_615895_652240.wav\n",
      "Saving /mnt/cube/j8xing/starling_rhythm_mfdfa/data/s_b1555_22/s_b1555_22_2022-09-28_10-00-01-02_1058075_1093985.wav\n",
      "Saving /mnt/cube/j8xing/starling_rhythm_mfdfa/data/s_b1555_22/s_b1555_22_2022-09-28_09-00-01-02_1092815_1128555.wav\n"
     ]
    },
    {
     "name": "stderr",
     "output_type": "stream",
     "text": [
      "\n",
      "Processing each day's bout: 66it [00:03, 23.47it/s]\u001b[A\n",
      "Processing each day's bout: 69it [00:03, 24.01it/s]\u001b[A"
     ]
    },
    {
     "name": "stdout",
     "output_type": "stream",
     "text": [
      "Saving /mnt/cube/j8xing/starling_rhythm_mfdfa/data/s_b1555_22/s_b1555_22_2022-09-28_14-00-01-02_636210_671745.wav\n",
      "Saving /mnt/cube/j8xing/starling_rhythm_mfdfa/data/s_b1555_22/s_b1555_22_2022-09-28_17-00-01-01_1543075_1578480.wav\n",
      "Saving /mnt/cube/j8xing/starling_rhythm_mfdfa/data/s_b1555_22/s_b1555_22_2022-09-28_19-00-01-02_790065_824720.wav\n",
      "Saving /mnt/cube/j8xing/starling_rhythm_mfdfa/data/s_b1555_22/s_b1555_22_2022-09-28_11-00-01-02_50010_84430.wav\n",
      "Saving /mnt/cube/j8xing/starling_rhythm_mfdfa/data/s_b1555_22/s_b1555_22_2022-09-28_08-00-01-02_932660_967060.wav\n",
      "Saving /mnt/cube/j8xing/starling_rhythm_mfdfa/data/s_b1555_22/s_b1555_22_2022-09-28_20-00-02-01_221175_255575.wav\n"
     ]
    },
    {
     "name": "stderr",
     "output_type": "stream",
     "text": [
      "\n",
      "Processing each day's bout: 72it [00:03, 24.62it/s]\u001b[A\n",
      "Processing each day's bout: 75it [00:03, 24.94it/s]\u001b[A"
     ]
    },
    {
     "name": "stdout",
     "output_type": "stream",
     "text": [
      "Saving /mnt/cube/j8xing/starling_rhythm_mfdfa/data/s_b1555_22/s_b1555_22_2022-09-28_19-00-01-01_537340_571710.wav\n",
      "Saving /mnt/cube/j8xing/starling_rhythm_mfdfa/data/s_b1555_22/s_b1555_22_2022-09-28_18-00-01-02_1314775_1348940.wav\n",
      "Saving /mnt/cube/j8xing/starling_rhythm_mfdfa/data/s_b1555_22/s_b1555_22_2022-09-28_10-00-01-02_763405_797345.wav\n",
      "Saving /mnt/cube/j8xing/starling_rhythm_mfdfa/data/s_b1555_22/s_b1555_22_2022-09-28_17-00-01-01_1604285_1638025.wav\n",
      "Saving /mnt/cube/j8xing/starling_rhythm_mfdfa/data/s_b1555_22/s_b1555_22_2022-09-28_20-00-02-02_872160_905510.wav\n",
      "Saving /mnt/cube/j8xing/starling_rhythm_mfdfa/data/s_b1555_22/s_b1555_22_2022-09-28_10-00-01-01_569920_603165.wav\n"
     ]
    },
    {
     "name": "stderr",
     "output_type": "stream",
     "text": [
      "\n",
      "Processing each day's bout: 78it [00:03, 25.20it/s]\u001b[A\n",
      "Processing each day's bout: 81it [00:03, 25.72it/s]\u001b[A"
     ]
    },
    {
     "name": "stdout",
     "output_type": "stream",
     "text": [
      "Saving /mnt/cube/j8xing/starling_rhythm_mfdfa/data/s_b1555_22/s_b1555_22_2022-09-28_20-00-02-02_780220_813095.wav\n",
      "Saving /mnt/cube/j8xing/starling_rhythm_mfdfa/data/s_b1555_22/s_b1555_22_2022-09-28_20-00-02-02_1418825_1451455.wav\n",
      "Saving /mnt/cube/j8xing/starling_rhythm_mfdfa/data/s_b1555_22/s_b1555_22_2022-09-28_10-00-01-01_1500935_1532050.wav\n",
      "Saving /mnt/cube/j8xing/starling_rhythm_mfdfa/data/s_b1555_22/s_b1555_22_2022-09-28_10-00-01-01_451825_482855.wav\n",
      "Saving /mnt/cube/j8xing/starling_rhythm_mfdfa/data/s_b1555_22/s_b1555_22_2022-09-28_08-00-01-02_218950_249750.wav\n",
      "Saving /mnt/cube/j8xing/starling_rhythm_mfdfa/data/s_b1555_22/s_b1555_22_2022-09-28_08-00-01-02_302065_331470.wav\n"
     ]
    },
    {
     "name": "stderr",
     "output_type": "stream",
     "text": [
      "\n",
      "Processing each day's bout: 84it [00:03, 26.42it/s]\u001b[A\n",
      "Processing each day's bout: 87it [00:04, 27.17it/s]\u001b[A"
     ]
    },
    {
     "name": "stdout",
     "output_type": "stream",
     "text": [
      "Saving /mnt/cube/j8xing/starling_rhythm_mfdfa/data/s_b1555_22/s_b1555_22_2022-09-28_10-00-01-01_1599685_1628900.wav\n",
      "Saving /mnt/cube/j8xing/starling_rhythm_mfdfa/data/s_b1555_22/s_b1555_22_2022-09-28_13-00-01-02_427875_456935.wav\n",
      "Saving /mnt/cube/j8xing/starling_rhythm_mfdfa/data/s_b1555_22/s_b1555_22_2022-09-28_21-00-02-01_392285_419220.wav\n",
      "Saving /mnt/cube/j8xing/starling_rhythm_mfdfa/data/s_b1555_22/s_b1555_22_2022-09-28_13-00-01-02_377315_403530.wav\n",
      "Saving /mnt/cube/j8xing/starling_rhythm_mfdfa/data/s_b1555_22/s_b1555_22_2022-09-28_09-00-01-02_1189350_1214895.wav\n",
      "Saving /mnt/cube/j8xing/starling_rhythm_mfdfa/data/s_b1555_22/s_b1555_22_2022-09-28_08-00-01-02_849755_874675.wav\n",
      "Saving /mnt/cube/j8xing/starling_rhythm_mfdfa/data/s_b1555_22/s_b1555_22_2022-09-28_10-00-01-01_1193855_1217525.wav\n"
     ]
    },
    {
     "name": "stderr",
     "output_type": "stream",
     "text": [
      "\n",
      "Processing each day's bout: 95it [00:04, 22.68it/s]\u001b[A\n",
      "Processing each day:  70%|███████   | 7/10 [00:54<00:21,  7.29s/it]"
     ]
    },
    {
     "name": "stdout",
     "output_type": "stream",
     "text": [
      "Saving /mnt/cube/j8xing/starling_rhythm_mfdfa/data/s_b1555_22/s_b1555_22_2022-09-28_10-00-01-01_1086090_1106235.wav\n",
      "Saving /mnt/cube/j8xing/starling_rhythm_mfdfa/data/s_b1555_22/s_b1555_22_2022-09-28_10-00-01-01_1470555_1490045.wav\n",
      "Saving /mnt/cube/j8xing/starling_rhythm_mfdfa/data/s_b1555_22/s_b1555_22_2022-09-28_14-00-01-01_1188115_1202465.wav\n",
      "Saving /mnt/cube/j8xing/starling_rhythm_mfdfa/data/s_b1555_22/s_b1555_22_2022-09-28_14-00-01-01_1105050_1114790.wav\n",
      "Saving /mnt/cube/j8xing/starling_rhythm_mfdfa/data/s_b1555_22/s_b1555_22_2022-09-28_14-00-01-01_1212030_1218410.wav\n"
     ]
    },
    {
     "name": "stderr",
     "output_type": "stream",
     "text": [
      "\n",
      "Processing each day's bout: 0it [00:00, ?it/s]\u001b[A\n",
      "Processing each day's bout: 2it [00:00, 15.99it/s]\u001b[A"
     ]
    },
    {
     "name": "stdout",
     "output_type": "stream",
     "text": [
      "Saving /mnt/cube/j8xing/starling_rhythm_mfdfa/data/s_b1555_22/s_b1555_22_2022-09-22_21-00-01-01_459200_511810.wav\n",
      "Saving /mnt/cube/j8xing/starling_rhythm_mfdfa/data/s_b1555_22/s_b1555_22_2022-09-22_11-00-01-02_1121430_1173660.wav\n",
      "Saving /mnt/cube/j8xing/starling_rhythm_mfdfa/data/s_b1555_22/s_b1555_22_2022-09-22_17-00-01-01_1540435_1592055.wav\n",
      "Saving /mnt/cube/j8xing/starling_rhythm_mfdfa/data/s_b1555_22/s_b1555_22_2022-09-22_17-00-01-01_1247215_1298055.wav\n"
     ]
    },
    {
     "name": "stderr",
     "output_type": "stream",
     "text": [
      "\n",
      "Processing each day's bout: 4it [00:00, 16.96it/s]\u001b[A\n",
      "Processing each day's bout: 6it [00:00, 17.31it/s]\u001b[A"
     ]
    },
    {
     "name": "stdout",
     "output_type": "stream",
     "text": [
      "Saving /mnt/cube/j8xing/starling_rhythm_mfdfa/data/s_b1555_22/s_b1555_22_2022-09-22_11-00-01-02_787075_837575.wav\n",
      "Saving /mnt/cube/j8xing/starling_rhythm_mfdfa/data/s_b1555_22/s_b1555_22_2022-09-22_16-00-01-02_216775_266350.wav\n",
      "Saving /mnt/cube/j8xing/starling_rhythm_mfdfa/data/s_b1555_22/s_b1555_22_2022-09-22_11-00-01-02_557885_606735.wav\n",
      "Saving /mnt/cube/j8xing/starling_rhythm_mfdfa/data/s_b1555_22/s_b1555_22_2022-09-22_17-00-01-01_686440_733655.wav\n"
     ]
    },
    {
     "name": "stderr",
     "output_type": "stream",
     "text": [
      "\n",
      "Processing each day's bout: 8it [00:00, 17.65it/s]\u001b[A\n",
      "Processing each day's bout: 10it [00:00, 18.18it/s]\u001b[A"
     ]
    },
    {
     "name": "stdout",
     "output_type": "stream",
     "text": [
      "Saving /mnt/cube/j8xing/starling_rhythm_mfdfa/data/s_b1555_22/s_b1555_22_2022-09-22_11-00-01-02_1567765_1614490.wav\n",
      "Saving /mnt/cube/j8xing/starling_rhythm_mfdfa/data/s_b1555_22/s_b1555_22_2022-09-22_17-00-01-01_899460_945825.wav\n",
      "Saving /mnt/cube/j8xing/starling_rhythm_mfdfa/data/s_b1555_22/s_b1555_22_2022-09-22_10-00-01-01_1588580_1633170.wav\n",
      "Saving /mnt/cube/j8xing/starling_rhythm_mfdfa/data/s_b1555_22/s_b1555_22_2022-09-22_19-00-01-02_1346310_1390080.wav\n",
      "Saving /mnt/cube/j8xing/starling_rhythm_mfdfa/data/s_b1555_22/s_b1555_22_2022-09-22_20-00-01-01_1637725_1681210.wav\n"
     ]
    },
    {
     "name": "stderr",
     "output_type": "stream",
     "text": [
      "\n",
      "Processing each day's bout: 13it [00:00, 19.30it/s]\u001b[A\n",
      "Processing each day's bout: 16it [00:00, 20.23it/s]\u001b[A"
     ]
    },
    {
     "name": "stdout",
     "output_type": "stream",
     "text": [
      "Saving /mnt/cube/j8xing/starling_rhythm_mfdfa/data/s_b1555_22/s_b1555_22_2022-09-22_18-00-01-02_348975_392365.wav\n",
      "Saving /mnt/cube/j8xing/starling_rhythm_mfdfa/data/s_b1555_22/s_b1555_22_2022-09-22_21-00-01-01_366365_409730.wav\n",
      "Saving /mnt/cube/j8xing/starling_rhythm_mfdfa/data/s_b1555_22/s_b1555_22_2022-09-22_18-00-01-01_1192385_1235640.wav\n",
      "Saving /mnt/cube/j8xing/starling_rhythm_mfdfa/data/s_b1555_22/s_b1555_22_2022-09-22_19-00-01-02_1516065_1559280.wav\n",
      "Saving /mnt/cube/j8xing/starling_rhythm_mfdfa/data/s_b1555_22/s_b1555_22_2022-09-22_17-00-01-01_1677405_1720590.wav\n"
     ]
    },
    {
     "name": "stderr",
     "output_type": "stream",
     "text": [
      "\n",
      "Processing each day's bout: 19it [00:00, 20.74it/s]\u001b[A\n",
      "Processing each day's bout: 22it [00:01, 20.85it/s]\u001b[A"
     ]
    },
    {
     "name": "stdout",
     "output_type": "stream",
     "text": [
      "Saving /mnt/cube/j8xing/starling_rhythm_mfdfa/data/s_b1555_22/s_b1555_22_2022-09-22_17-00-01-02_443495_486225.wav\n",
      "Saving /mnt/cube/j8xing/starling_rhythm_mfdfa/data/s_b1555_22/s_b1555_22_2022-09-22_20-00-01-02_1504220_1546015.wav\n",
      "Saving /mnt/cube/j8xing/starling_rhythm_mfdfa/data/s_b1555_22/s_b1555_22_2022-09-22_12-00-01-01_330245_371875.wav\n",
      "Saving /mnt/cube/j8xing/starling_rhythm_mfdfa/data/s_b1555_22/s_b1555_22_2022-09-22_17-00-01-01_177445_218895.wav\n",
      "Saving /mnt/cube/j8xing/starling_rhythm_mfdfa/data/s_b1555_22/s_b1555_22_2022-09-22_11-00-01-01_1291365_1332040.wav\n"
     ]
    },
    {
     "name": "stderr",
     "output_type": "stream",
     "text": [
      "\n",
      "Processing each day's bout: 25it [00:01, 21.29it/s]\u001b[A"
     ]
    },
    {
     "name": "stdout",
     "output_type": "stream",
     "text": [
      "Saving /mnt/cube/j8xing/starling_rhythm_mfdfa/data/s_b1555_22/s_b1555_22_2022-09-22_21-00-01-02_448715_489250.wav\n",
      "Saving /mnt/cube/j8xing/starling_rhythm_mfdfa/data/s_b1555_22/s_b1555_22_2022-09-22_17-00-01-02_703445_743655.wav\n",
      "Saving /mnt/cube/j8xing/starling_rhythm_mfdfa/data/s_b1555_22/s_b1555_22_2022-09-22_21-00-01-01_1180360_1220560.wav\n",
      "Saving /mnt/cube/j8xing/starling_rhythm_mfdfa/data/s_b1555_22/s_b1555_22_2022-09-22_17-00-01-02_826485_866625.wav\n",
      "Saving /mnt/cube/j8xing/starling_rhythm_mfdfa/data/s_b1555_22/s_b1555_22_2022-09-22_20-00-01-02_1106990_1146900.wav\n"
     ]
    },
    {
     "name": "stderr",
     "output_type": "stream",
     "text": [
      "\n",
      "Processing each day's bout: 28it [00:01, 21.55it/s]\u001b[A\n",
      "Processing each day's bout: 31it [00:01, 21.42it/s]\u001b[A"
     ]
    },
    {
     "name": "stdout",
     "output_type": "stream",
     "text": [
      "Saving /mnt/cube/j8xing/starling_rhythm_mfdfa/data/s_b1555_22/s_b1555_22_2022-09-22_17-00-01-02_765660_805315.wav\n",
      "Saving /mnt/cube/j8xing/starling_rhythm_mfdfa/data/s_b1555_22/s_b1555_22_2022-09-22_18-00-01-01_1444805_1484405.wav\n",
      "Saving /mnt/cube/j8xing/starling_rhythm_mfdfa/data/s_b1555_22/s_b1555_22_2022-09-22_17-00-01-01_766230_805665.wav\n",
      "Saving /mnt/cube/j8xing/starling_rhythm_mfdfa/data/s_b1555_22/s_b1555_22_2022-09-22_09-00-01-02_689685_728925.wav\n",
      "Saving /mnt/cube/j8xing/starling_rhythm_mfdfa/data/s_b1555_22/s_b1555_22_2022-09-22_09-00-01-01_1700590_1739475.wav\n"
     ]
    },
    {
     "name": "stderr",
     "output_type": "stream",
     "text": [
      "\n",
      "Processing each day's bout: 34it [00:01, 21.96it/s]\u001b[A\n",
      "Processing each day's bout: 37it [00:01, 22.68it/s]\u001b[A"
     ]
    },
    {
     "name": "stdout",
     "output_type": "stream",
     "text": [
      "Saving /mnt/cube/j8xing/starling_rhythm_mfdfa/data/s_b1555_22/s_b1555_22_2022-09-22_17-00-01-02_550185_588945.wav\n",
      "Saving /mnt/cube/j8xing/starling_rhythm_mfdfa/data/s_b1555_22/s_b1555_22_2022-09-22_18-00-01-02_435045_473710.wav\n",
      "Saving /mnt/cube/j8xing/starling_rhythm_mfdfa/data/s_b1555_22/s_b1555_22_2022-09-22_20-00-01-01_75500_114040.wav\n",
      "Saving /mnt/cube/j8xing/starling_rhythm_mfdfa/data/s_b1555_22/s_b1555_22_2022-09-22_19-00-01-02_1583035_1621570.wav\n",
      "Saving /mnt/cube/j8xing/starling_rhythm_mfdfa/data/s_b1555_22/s_b1555_22_2022-09-22_09-00-01-01_1036080_1074450.wav\n"
     ]
    },
    {
     "name": "stderr",
     "output_type": "stream",
     "text": [
      "\n",
      "Processing each day's bout: 40it [00:01, 23.19it/s]\u001b[A"
     ]
    },
    {
     "name": "stdout",
     "output_type": "stream",
     "text": [
      "Saving /mnt/cube/j8xing/starling_rhythm_mfdfa/data/s_b1555_22/s_b1555_22_2022-09-22_17-00-01-01_395145_433295.wav\n",
      "Saving /mnt/cube/j8xing/starling_rhythm_mfdfa/data/s_b1555_22/s_b1555_22_2022-09-22_18-00-01-01_875105_913150.wav\n",
      "Saving /mnt/cube/j8xing/starling_rhythm_mfdfa/data/s_b1555_22/s_b1555_22_2022-09-22_17-00-01-02_332675_370670.wav\n",
      "Saving /mnt/cube/j8xing/starling_rhythm_mfdfa/data/s_b1555_22/s_b1555_22_2022-09-22_19-00-01-02_1655200_1692675.wav\n",
      "Saving /mnt/cube/j8xing/starling_rhythm_mfdfa/data/s_b1555_22/s_b1555_22_2022-09-22_20-00-01-01_147665_185140.wav\n"
     ]
    },
    {
     "name": "stderr",
     "output_type": "stream",
     "text": [
      "\n",
      "Processing each day's bout: 43it [00:02, 23.31it/s]\u001b[A\n",
      "Processing each day's bout: 46it [00:02, 23.62it/s]\u001b[A"
     ]
    },
    {
     "name": "stdout",
     "output_type": "stream",
     "text": [
      "Saving /mnt/cube/j8xing/starling_rhythm_mfdfa/data/s_b1555_22/s_b1555_22_2022-09-22_13-00-01-01_912390_949755.wav\n",
      "Saving /mnt/cube/j8xing/starling_rhythm_mfdfa/data/s_b1555_22/s_b1555_22_2022-09-22_20-00-01-02_823455_860425.wav\n",
      "Saving /mnt/cube/j8xing/starling_rhythm_mfdfa/data/s_b1555_22/s_b1555_22_2022-09-22_21-00-01-01_1617715_1654600.wav\n",
      "Saving /mnt/cube/j8xing/starling_rhythm_mfdfa/data/s_b1555_22/s_b1555_22_2022-09-22_21-00-01-02_1205845_1242675.wav\n",
      "Saving /mnt/cube/j8xing/starling_rhythm_mfdfa/data/s_b1555_22/s_b1555_22_2022-09-22_17-00-01-01_1070795_1107495.wav\n"
     ]
    },
    {
     "name": "stderr",
     "output_type": "stream",
     "text": [
      "\n",
      "Processing each day's bout: 49it [00:02, 23.69it/s]\u001b[A\n",
      "Processing each day's bout: 52it [00:02, 23.96it/s]\u001b[A"
     ]
    },
    {
     "name": "stdout",
     "output_type": "stream",
     "text": [
      "Saving /mnt/cube/j8xing/starling_rhythm_mfdfa/data/s_b1555_22/s_b1555_22_2022-09-22_10-00-01-01_1700770_1737460.wav\n",
      "Saving /mnt/cube/j8xing/starling_rhythm_mfdfa/data/s_b1555_22/s_b1555_22_2022-09-22_17-00-01-01_982975_1019645.wav\n",
      "Saving /mnt/cube/j8xing/starling_rhythm_mfdfa/data/s_b1555_22/s_b1555_22_2022-09-22_20-00-01-01_780375_816605.wav\n",
      "Saving /mnt/cube/j8xing/starling_rhythm_mfdfa/data/s_b1555_22/s_b1555_22_2022-09-22_12-00-01-01_212920_249060.wav\n",
      "Saving /mnt/cube/j8xing/starling_rhythm_mfdfa/data/s_b1555_22/s_b1555_22_2022-09-22_18-00-01-01_1134295_1170025.wav\n"
     ]
    },
    {
     "name": "stderr",
     "output_type": "stream",
     "text": [
      "\n",
      "Processing each day's bout: 55it [00:02, 24.10it/s]\u001b[A\n",
      "Processing each day's bout: 58it [00:02, 24.88it/s]\u001b[A"
     ]
    },
    {
     "name": "stdout",
     "output_type": "stream",
     "text": [
      "Saving /mnt/cube/j8xing/starling_rhythm_mfdfa/data/s_b1555_22/s_b1555_22_2022-09-22_09-00-01-02_623515_658975.wav\n",
      "Saving /mnt/cube/j8xing/starling_rhythm_mfdfa/data/s_b1555_22/s_b1555_22_2022-09-22_17-00-01-02_282745_318180.wav\n",
      "Saving /mnt/cube/j8xing/starling_rhythm_mfdfa/data/s_b1555_22/s_b1555_22_2022-09-22_20-00-01-02_733100_768075.wav\n",
      "Saving /mnt/cube/j8xing/starling_rhythm_mfdfa/data/s_b1555_22/s_b1555_22_2022-09-22_18-00-01-01_774025_808750.wav\n",
      "Saving /mnt/cube/j8xing/starling_rhythm_mfdfa/data/s_b1555_22/s_b1555_22_2022-09-22_11-00-01-01_1213310_1247715.wav\n",
      "Saving /mnt/cube/j8xing/starling_rhythm_mfdfa/data/s_b1555_22/s_b1555_22_2022-09-22_20-00-01-01_1766125_1799975.wav\n"
     ]
    },
    {
     "name": "stderr",
     "output_type": "stream",
     "text": [
      "\n",
      "Processing each day's bout: 61it [00:02, 25.64it/s]\u001b[A\n",
      "Processing each day's bout: 64it [00:02, 26.22it/s]\u001b[A"
     ]
    },
    {
     "name": "stdout",
     "output_type": "stream",
     "text": [
      "Saving /mnt/cube/j8xing/starling_rhythm_mfdfa/data/s_b1555_22/s_b1555_22_2022-09-22_09-00-01-02_1571585_1604665.wav\n",
      "Saving /mnt/cube/j8xing/starling_rhythm_mfdfa/data/s_b1555_22/s_b1555_22_2022-09-22_19-00-01-02_1261475_1294485.wav\n",
      "Saving /mnt/cube/j8xing/starling_rhythm_mfdfa/data/s_b1555_22/s_b1555_22_2022-09-22_21-00-01-01_1549670_1582565.wav\n",
      "Saving /mnt/cube/j8xing/starling_rhythm_mfdfa/data/s_b1555_22/s_b1555_22_2022-09-22_09-00-01-02_1639600_1672400.wav\n",
      "Saving /mnt/cube/j8xing/starling_rhythm_mfdfa/data/s_b1555_22/s_b1555_22_2022-09-22_20-00-01-02_1220265_1251605.wav\n",
      "Saving /mnt/cube/j8xing/starling_rhythm_mfdfa/data/s_b1555_22/s_b1555_22_2022-09-22_17-00-01-01_514895_544160.wav\n"
     ]
    },
    {
     "name": "stderr",
     "output_type": "stream",
     "text": [
      "\n",
      "Processing each day's bout: 67it [00:02, 27.13it/s]\u001b[A\n",
      "Processing each day's bout: 71it [00:03, 29.74it/s]\u001b[A"
     ]
    },
    {
     "name": "stdout",
     "output_type": "stream",
     "text": [
      "Saving /mnt/cube/j8xing/starling_rhythm_mfdfa/data/s_b1555_22/s_b1555_22_2022-09-22_18-00-01-01_358395_387345.wav\n",
      "Saving /mnt/cube/j8xing/starling_rhythm_mfdfa/data/s_b1555_22/s_b1555_22_2022-09-22_17-00-01-01_452495_481025.wav\n",
      "Saving /mnt/cube/j8xing/starling_rhythm_mfdfa/data/s_b1555_22/s_b1555_22_2022-09-22_19-00-01-02_1475550_1501345.wav\n",
      "Saving /mnt/cube/j8xing/starling_rhythm_mfdfa/data/s_b1555_22/s_b1555_22_2022-09-22_21-00-01-01_1103590_1127310.wav\n",
      "Saving /mnt/cube/j8xing/starling_rhythm_mfdfa/data/s_b1555_22/s_b1555_22_2022-09-22_17-00-01-01_1126615_1150285.wav\n",
      "Saving /mnt/cube/j8xing/starling_rhythm_mfdfa/data/s_b1555_22/s_b1555_22_2022-09-22_20-00-01-01_1278845_1301600.wav\n",
      "Saving /mnt/cube/j8xing/starling_rhythm_mfdfa/data/s_b1555_22/s_b1555_22_2022-09-22_16-00-01-01_1546210_1567385.wav\n"
     ]
    },
    {
     "name": "stderr",
     "output_type": "stream",
     "text": [
      "\n",
      "Processing each day's bout: 76it [00:03, 33.61it/s]\u001b[A\n",
      "Processing each day's bout: 82it [00:03, 40.37it/s]\u001b[A"
     ]
    },
    {
     "name": "stdout",
     "output_type": "stream",
     "text": [
      "Saving /mnt/cube/j8xing/starling_rhythm_mfdfa/data/s_b1555_22/s_b1555_22_2022-09-22_16-00-01-02_1645430_1666560.wav\n",
      "Saving /mnt/cube/j8xing/starling_rhythm_mfdfa/data/s_b1555_22/s_b1555_22_2022-09-22_21-00-01-01_220315_240240.wav\n",
      "Saving /mnt/cube/j8xing/starling_rhythm_mfdfa/data/s_b1555_22/s_b1555_22_2022-09-22_09-00-01-01_804055_822610.wav\n",
      "Saving /mnt/cube/j8xing/starling_rhythm_mfdfa/data/s_b1555_22/s_b1555_22_2022-09-22_21-00-01-01_264685_281320.wav\n",
      "Saving /mnt/cube/j8xing/starling_rhythm_mfdfa/data/s_b1555_22/s_b1555_22_2022-09-22_16-00-01-02_1684850_1699710.wav\n",
      "Saving /mnt/cube/j8xing/starling_rhythm_mfdfa/data/s_b1555_22/s_b1555_22_2022-09-22_15-00-01-01_833465_847795.wav\n",
      "Saving /mnt/cube/j8xing/starling_rhythm_mfdfa/data/s_b1555_22/s_b1555_22_2022-09-22_15-00-01-01_535945_549225.wav\n",
      "Saving /mnt/cube/j8xing/starling_rhythm_mfdfa/data/s_b1555_22/s_b1555_22_2022-09-22_10-00-01-01_1781870_1792990.wav\n",
      "Saving /mnt/cube/j8xing/starling_rhythm_mfdfa/data/s_b1555_22/s_b1555_22_2022-09-22_13-00-01-01_1749055_1758630.wav\n",
      "Saving /mnt/cube/j8xing/starling_rhythm_mfdfa/data/s_b1555_22/s_b1555_22_2022-09-22_10-00-01-01_658645_667075.wav\n",
      "Saving /mnt/cube/j8xing/starling_rhythm_mfdfa/data/s_b1555_22/s_b1555_22_2022-09-22_13-00-01-01_1773495_1781665.wav\n"
     ]
    },
    {
     "name": "stderr",
     "output_type": "stream",
     "text": [
      "\n",
      "Processing each day's bout: 95it [00:03, 27.81it/s]\u001b[A\n",
      "Processing each day:  80%|████████  | 8/10 [00:59<00:13,  6.61s/it]"
     ]
    },
    {
     "name": "stdout",
     "output_type": "stream",
     "text": [
      "Saving /mnt/cube/j8xing/starling_rhythm_mfdfa/data/s_b1555_22/s_b1555_22_2022-09-22_08-00-01-01_538565_546005.wav\n",
      "Saving /mnt/cube/j8xing/starling_rhythm_mfdfa/data/s_b1555_22/s_b1555_22_2022-09-22_08-00-01-01_929445_936770.wav\n",
      "Saving /mnt/cube/j8xing/starling_rhythm_mfdfa/data/s_b1555_22/s_b1555_22_2022-09-22_15-00-01-01_511140_516110.wav\n",
      "Saving /mnt/cube/j8xing/starling_rhythm_mfdfa/data/s_b1555_22/s_b1555_22_2022-09-22_15-00-01-02_186600_191305.wav\n",
      "Saving /mnt/cube/j8xing/starling_rhythm_mfdfa/data/s_b1555_22/s_b1555_22_2022-09-22_09-00-01-01_976810_981420.wav\n",
      "Saving /mnt/cube/j8xing/starling_rhythm_mfdfa/data/s_b1555_22/s_b1555_22_2022-09-22_13-00-01-02_403115_407380.wav\n",
      "Saving /mnt/cube/j8xing/starling_rhythm_mfdfa/data/s_b1555_22/s_b1555_22_2022-09-22_08-00-01-02_946385_950550.wav\n",
      "Saving /mnt/cube/j8xing/starling_rhythm_mfdfa/data/s_b1555_22/s_b1555_22_2022-09-22_09-00-01-02_1300610_1304750.wav\n",
      "Saving /mnt/cube/j8xing/starling_rhythm_mfdfa/data/s_b1555_22/s_b1555_22_2022-09-22_15-00-01-01_936540_940640.wav\n",
      "Saving /mnt/cube/j8xing/starling_rhythm_mfdfa/data/s_b1555_22/s_b1555_22_2022-09-22_08-00-01-02_1520060_1523445.wav\n",
      "Saving /mnt/cube/j8xing/starling_rhythm_mfdfa/data/s_b1555_22/s_b1555_22_2022-09-22_08-00-01-02_1200730_1204030.wav\n",
      "Saving /mnt/cube/j8xing/starling_rhythm_mfdfa/data/s_b1555_22/s_b1555_22_2022-09-22_14-00-01-01_1008615_1011755.wav\n"
     ]
    },
    {
     "name": "stderr",
     "output_type": "stream",
     "text": [
      "\n",
      "Processing each day's bout: 0it [00:00, ?it/s]\u001b[A\n",
      "Processing each day's bout: 2it [00:00, 17.87it/s]\u001b[A"
     ]
    },
    {
     "name": "stdout",
     "output_type": "stream",
     "text": [
      "Saving /mnt/cube/j8xing/starling_rhythm_mfdfa/data/s_b1555_22/s_b1555_22_2022-09-26_09-00-01-02_1173085_1227110.wav\n",
      "Saving /mnt/cube/j8xing/starling_rhythm_mfdfa/data/s_b1555_22/s_b1555_22_2022-09-26_19-00-01-02_922520_976405.wav\n",
      "Saving /mnt/cube/j8xing/starling_rhythm_mfdfa/data/s_b1555_22/s_b1555_22_2022-09-26_19-00-01-02_514650_563455.wav\n",
      "Saving /mnt/cube/j8xing/starling_rhythm_mfdfa/data/s_b1555_22/s_b1555_22_2022-09-26_20-00-01-01_929260_977655.wav\n"
     ]
    },
    {
     "name": "stderr",
     "output_type": "stream",
     "text": [
      "\n",
      "Processing each day's bout: 4it [00:00, 18.93it/s]\u001b[A\n",
      "Processing each day's bout: 6it [00:00, 18.79it/s]\u001b[A"
     ]
    },
    {
     "name": "stdout",
     "output_type": "stream",
     "text": [
      "Saving /mnt/cube/j8xing/starling_rhythm_mfdfa/data/s_b1555_22/s_b1555_22_2022-09-26_20-00-01-01_359980_408375.wav\n",
      "Saving /mnt/cube/j8xing/starling_rhythm_mfdfa/data/s_b1555_22/s_b1555_22_2022-09-26_14-00-01-02_837390_885225.wav\n",
      "Saving /mnt/cube/j8xing/starling_rhythm_mfdfa/data/s_b1555_22/s_b1555_22_2022-09-26_14-00-01-01_1100905_1148275.wav\n",
      "Saving /mnt/cube/j8xing/starling_rhythm_mfdfa/data/s_b1555_22/s_b1555_22_2022-09-26_19-00-01-02_1583365_1630655.wav\n"
     ]
    },
    {
     "name": "stderr",
     "output_type": "stream",
     "text": [
      "\n",
      "Processing each day's bout: 8it [00:00, 18.71it/s]\u001b[A\n",
      "Processing each day's bout: 10it [00:00, 18.97it/s]\u001b[A"
     ]
    },
    {
     "name": "stdout",
     "output_type": "stream",
     "text": [
      "Saving /mnt/cube/j8xing/starling_rhythm_mfdfa/data/s_b1555_22/s_b1555_22_2022-09-26_19-00-01-01_158410_205490.wav\n",
      "Saving /mnt/cube/j8xing/starling_rhythm_mfdfa/data/s_b1555_22/s_b1555_22_2022-09-26_20-00-01-01_1289135_1336180.wav\n",
      "Saving /mnt/cube/j8xing/starling_rhythm_mfdfa/data/s_b1555_22/s_b1555_22_2022-09-26_13-00-01-01_836370_882780.wav\n",
      "Saving /mnt/cube/j8xing/starling_rhythm_mfdfa/data/s_b1555_22/s_b1555_22_2022-09-26_20-00-01-01_569750_615675.wav\n"
     ]
    },
    {
     "name": "stderr",
     "output_type": "stream",
     "text": [
      "\n",
      "Processing each day's bout: 12it [00:00, 18.91it/s]\u001b[A\n",
      "Processing each day's bout: 15it [00:00, 20.18it/s]\u001b[A"
     ]
    },
    {
     "name": "stdout",
     "output_type": "stream",
     "text": [
      "Saving /mnt/cube/j8xing/starling_rhythm_mfdfa/data/s_b1555_22/s_b1555_22_2022-09-26_19-00-01-02_1123315_1167990.wav\n",
      "Saving /mnt/cube/j8xing/starling_rhythm_mfdfa/data/s_b1555_22/s_b1555_22_2022-09-26_14-00-01-01_370610_415265.wav\n",
      "Saving /mnt/cube/j8xing/starling_rhythm_mfdfa/data/s_b1555_22/s_b1555_22_2022-09-26_11-00-01-01_1180180_1224450.wav\n",
      "Saving /mnt/cube/j8xing/starling_rhythm_mfdfa/data/s_b1555_22/s_b1555_22_2022-09-26_10-00-01-02_577260_621150.wav\n",
      "Saving /mnt/cube/j8xing/starling_rhythm_mfdfa/data/s_b1555_22/s_b1555_22_2022-09-26_19-00-01-02_605910_649775.wav\n"
     ]
    },
    {
     "name": "stderr",
     "output_type": "stream",
     "text": [
      "\n",
      "Processing each day's bout: 18it [00:00, 20.68it/s]\u001b[A\n",
      "Processing each day's bout: 21it [00:01, 21.18it/s]\u001b[A"
     ]
    },
    {
     "name": "stdout",
     "output_type": "stream",
     "text": [
      "Saving /mnt/cube/j8xing/starling_rhythm_mfdfa/data/s_b1555_22/s_b1555_22_2022-09-26_11-00-01-01_1393525_1437270.wav\n",
      "Saving /mnt/cube/j8xing/starling_rhythm_mfdfa/data/s_b1555_22/s_b1555_22_2022-09-26_14-00-01-01_25040_68705.wav\n",
      "Saving /mnt/cube/j8xing/starling_rhythm_mfdfa/data/s_b1555_22/s_b1555_22_2022-09-26_13-00-01-02_1532425_1576090.wav\n",
      "Saving /mnt/cube/j8xing/starling_rhythm_mfdfa/data/s_b1555_22/s_b1555_22_2022-09-26_11-00-01-01_1528730_1571820.wav\n",
      "Saving /mnt/cube/j8xing/starling_rhythm_mfdfa/data/s_b1555_22/s_b1555_22_2022-09-26_10-00-01-02_759010_801460.wav\n"
     ]
    },
    {
     "name": "stderr",
     "output_type": "stream",
     "text": [
      "\n",
      "Processing each day's bout: 24it [00:01, 21.51it/s]\u001b[A"
     ]
    },
    {
     "name": "stdout",
     "output_type": "stream",
     "text": [
      "Saving /mnt/cube/j8xing/starling_rhythm_mfdfa/data/s_b1555_22/s_b1555_22_2022-09-26_20-00-01-01_1186765_1228565.wav\n",
      "Saving /mnt/cube/j8xing/starling_rhythm_mfdfa/data/s_b1555_22/s_b1555_22_2022-09-26_18-00-01-02_1580805_1622600.wav\n",
      "Saving /mnt/cube/j8xing/starling_rhythm_mfdfa/data/s_b1555_22/s_b1555_22_2022-09-26_12-00-02-01_53135_94735.wav\n",
      "Saving /mnt/cube/j8xing/starling_rhythm_mfdfa/data/s_b1555_22/s_b1555_22_2022-09-26_11-00-01-02_1561150_1602745.wav\n",
      "Saving /mnt/cube/j8xing/starling_rhythm_mfdfa/data/s_b1555_22/s_b1555_22_2022-09-26_10-00-01-01_1747420_1788565.wav\n"
     ]
    },
    {
     "name": "stderr",
     "output_type": "stream",
     "text": [
      "\n",
      "Processing each day's bout: 27it [00:01, 22.09it/s]\u001b[A\n",
      "Processing each day's bout: 30it [00:01, 21.89it/s]\u001b[A"
     ]
    },
    {
     "name": "stdout",
     "output_type": "stream",
     "text": [
      "Saving /mnt/cube/j8xing/starling_rhythm_mfdfa/data/s_b1555_22/s_b1555_22_2022-09-26_17-00-01-01_673950_715090.wav\n",
      "Saving /mnt/cube/j8xing/starling_rhythm_mfdfa/data/s_b1555_22/s_b1555_22_2022-09-26_16-00-01-02_586685_627775.wav\n",
      "Saving /mnt/cube/j8xing/starling_rhythm_mfdfa/data/s_b1555_22/s_b1555_22_2022-09-26_19-00-01-02_767110_807935.wav\n",
      "Saving /mnt/cube/j8xing/starling_rhythm_mfdfa/data/s_b1555_22/s_b1555_22_2022-09-26_20-00-01-01_829595_870390.wav\n",
      "Saving /mnt/cube/j8xing/starling_rhythm_mfdfa/data/s_b1555_22/s_b1555_22_2022-09-26_09-00-01-01_454445_495225.wav\n"
     ]
    },
    {
     "name": "stderr",
     "output_type": "stream",
     "text": [
      "\n",
      "Processing each day's bout: 33it [00:01, 21.76it/s]\u001b[A\n",
      "Processing each day's bout: 36it [00:01, 21.57it/s]\u001b[A"
     ]
    },
    {
     "name": "stdout",
     "output_type": "stream",
     "text": [
      "Saving /mnt/cube/j8xing/starling_rhythm_mfdfa/data/s_b1555_22/s_b1555_22_2022-09-26_10-00-01-01_1116065_1156715.wav\n",
      "Saving /mnt/cube/j8xing/starling_rhythm_mfdfa/data/s_b1555_22/s_b1555_22_2022-09-26_10-00-01-02_1298600_1339190.wav\n",
      "Saving /mnt/cube/j8xing/starling_rhythm_mfdfa/data/s_b1555_22/s_b1555_22_2022-09-26_20-00-01-01_262305_302785.wav\n",
      "Saving /mnt/cube/j8xing/starling_rhythm_mfdfa/data/s_b1555_22/s_b1555_22_2022-09-26_21-00-01-01_876105_915990.wav\n",
      "Saving /mnt/cube/j8xing/starling_rhythm_mfdfa/data/s_b1555_22/s_b1555_22_2022-09-26_09-00-01-01_743225_783070.wav\n"
     ]
    },
    {
     "name": "stderr",
     "output_type": "stream",
     "text": [
      "\n",
      "Processing each day's bout: 39it [00:01, 21.62it/s]\u001b[A"
     ]
    },
    {
     "name": "stdout",
     "output_type": "stream",
     "text": [
      "Saving /mnt/cube/j8xing/starling_rhythm_mfdfa/data/s_b1555_22/s_b1555_22_2022-09-26_14-00-01-01_451400_491040.wav\n",
      "Saving /mnt/cube/j8xing/starling_rhythm_mfdfa/data/s_b1555_22/s_b1555_22_2022-09-26_10-00-01-02_89085_128440.wav\n",
      "Saving /mnt/cube/j8xing/starling_rhythm_mfdfa/data/s_b1555_22/s_b1555_22_2022-09-26_17-00-01-01_575680_614990.wav\n",
      "Saving /mnt/cube/j8xing/starling_rhythm_mfdfa/data/s_b1555_22/s_b1555_22_2022-09-26_20-00-01-01_1543720_1582865.wav\n",
      "Saving /mnt/cube/j8xing/starling_rhythm_mfdfa/data/s_b1555_22/s_b1555_22_2022-09-26_11-00-01-02_1494835_1533175.wav\n"
     ]
    },
    {
     "name": "stderr",
     "output_type": "stream",
     "text": [
      "\n",
      "Processing each day's bout: 42it [00:02, 21.82it/s]\u001b[A\n",
      "Processing each day's bout: 45it [00:02, 22.19it/s]\u001b[A"
     ]
    },
    {
     "name": "stdout",
     "output_type": "stream",
     "text": [
      "Saving /mnt/cube/j8xing/starling_rhythm_mfdfa/data/s_b1555_22/s_b1555_22_2022-09-26_10-00-01-02_973320_1011450.wav\n",
      "Saving /mnt/cube/j8xing/starling_rhythm_mfdfa/data/s_b1555_22/s_b1555_22_2022-09-26_09-00-01-01_555665_593710.wav\n",
      "Saving /mnt/cube/j8xing/starling_rhythm_mfdfa/data/s_b1555_22/s_b1555_22_2022-09-26_19-00-01-02_271400_309260.wav\n",
      "Saving /mnt/cube/j8xing/starling_rhythm_mfdfa/data/s_b1555_22/s_b1555_22_2022-09-26_19-00-01-02_836745_874145.wav\n",
      "Saving /mnt/cube/j8xing/starling_rhythm_mfdfa/data/s_b1555_22/s_b1555_22_2022-09-26_14-00-01-01_308545_345635.wav\n"
     ]
    },
    {
     "name": "stderr",
     "output_type": "stream",
     "text": [
      "\n",
      "Processing each day's bout: 48it [00:02, 22.24it/s]\u001b[A\n",
      "Processing each day's bout: 51it [00:02, 23.03it/s]\u001b[A"
     ]
    },
    {
     "name": "stdout",
     "output_type": "stream",
     "text": [
      "Saving /mnt/cube/j8xing/starling_rhythm_mfdfa/data/s_b1555_22/s_b1555_22_2022-09-26_18-00-01-02_1404205_1440230.wav\n",
      "Saving /mnt/cube/j8xing/starling_rhythm_mfdfa/data/s_b1555_22/s_b1555_22_2022-09-26_20-00-01-01_449740_485050.wav\n",
      "Saving /mnt/cube/j8xing/starling_rhythm_mfdfa/data/s_b1555_22/s_b1555_22_2022-09-26_18-00-01-02_1665225_1700000.wav\n",
      "Saving /mnt/cube/j8xing/starling_rhythm_mfdfa/data/s_b1555_22/s_b1555_22_2022-09-26_20-00-01-01_159885_194255.wav\n",
      "Saving /mnt/cube/j8xing/starling_rhythm_mfdfa/data/s_b1555_22/s_b1555_22_2022-09-26_10-00-01-01_485195_519565.wav\n"
     ]
    },
    {
     "name": "stderr",
     "output_type": "stream",
     "text": [
      "\n",
      "Processing each day's bout: 54it [00:02, 23.72it/s]\u001b[A\n",
      "Processing each day's bout: 57it [00:02, 24.66it/s]\u001b[A"
     ]
    },
    {
     "name": "stdout",
     "output_type": "stream",
     "text": [
      "Saving /mnt/cube/j8xing/starling_rhythm_mfdfa/data/s_b1555_22/s_b1555_22_2022-09-26_20-00-01-01_663790_698110.wav\n",
      "Saving /mnt/cube/j8xing/starling_rhythm_mfdfa/data/s_b1555_22/s_b1555_22_2022-09-26_19-00-01-01_740885_775125.wav\n",
      "Saving /mnt/cube/j8xing/starling_rhythm_mfdfa/data/s_b1555_22/s_b1555_22_2022-09-26_14-00-01-01_537270_570340.wav\n",
      "Saving /mnt/cube/j8xing/starling_rhythm_mfdfa/data/s_b1555_22/s_b1555_22_2022-09-26_10-00-01-02_1554935_1587960.wav\n",
      "Saving /mnt/cube/j8xing/starling_rhythm_mfdfa/data/s_b1555_22/s_b1555_22_2022-09-26_14-00-01-02_173815_206675.wav\n",
      "Saving /mnt/cube/j8xing/starling_rhythm_mfdfa/data/s_b1555_22/s_b1555_22_2022-09-26_09-00-01-02_820655_853225.wav\n"
     ]
    },
    {
     "name": "stderr",
     "output_type": "stream",
     "text": [
      "\n",
      "Processing each day's bout: 60it [00:02, 25.20it/s]\u001b[A\n",
      "Processing each day's bout: 63it [00:02, 26.17it/s]\u001b[A"
     ]
    },
    {
     "name": "stdout",
     "output_type": "stream",
     "text": [
      "Saving /mnt/cube/j8xing/starling_rhythm_mfdfa/data/s_b1555_22/s_b1555_22_2022-09-26_13-00-01-01_1104845_1137390.wav\n",
      "Saving /mnt/cube/j8xing/starling_rhythm_mfdfa/data/s_b1555_22/s_b1555_22_2022-09-26_17-00-01-01_1430205_1462510.wav\n",
      "Saving /mnt/cube/j8xing/starling_rhythm_mfdfa/data/s_b1555_22/s_b1555_22_2022-09-26_18-00-01-02_1472935_1505055.wav\n",
      "Saving /mnt/cube/j8xing/starling_rhythm_mfdfa/data/s_b1555_22/s_b1555_22_2022-09-26_15-00-01-01_293730_325645.wav\n",
      "Saving /mnt/cube/j8xing/starling_rhythm_mfdfa/data/s_b1555_22/s_b1555_22_2022-09-26_16-00-01-02_1219450_1251100.wav\n",
      "Saving /mnt/cube/j8xing/starling_rhythm_mfdfa/data/s_b1555_22/s_b1555_22_2022-09-26_09-00-01-01_995925_1027325.wav\n"
     ]
    },
    {
     "name": "stderr",
     "output_type": "stream",
     "text": [
      "\n",
      "Processing each day's bout: 67it [00:02, 27.42it/s]\u001b[A"
     ]
    },
    {
     "name": "stdout",
     "output_type": "stream",
     "text": [
      "Saving /mnt/cube/j8xing/starling_rhythm_mfdfa/data/s_b1555_22/s_b1555_22_2022-09-26_10-00-01-02_1464370_1495705.wav\n",
      "Saving /mnt/cube/j8xing/starling_rhythm_mfdfa/data/s_b1555_22/s_b1555_22_2022-09-26_20-00-01-01_1452615_1483765.wav\n",
      "Saving /mnt/cube/j8xing/starling_rhythm_mfdfa/data/s_b1555_22/s_b1555_22_2022-09-26_14-00-01-02_464180_494465.wav\n",
      "Saving /mnt/cube/j8xing/starling_rhythm_mfdfa/data/s_b1555_22/s_b1555_22_2022-09-26_10-00-01-01_824190_854310.wav\n",
      "Saving /mnt/cube/j8xing/starling_rhythm_mfdfa/data/s_b1555_22/s_b1555_22_2022-09-26_10-00-01-02_495365_525150.wav\n",
      "Saving /mnt/cube/j8xing/starling_rhythm_mfdfa/data/s_b1555_22/s_b1555_22_2022-09-26_20-00-01-01_1029245_1058840.wav\n"
     ]
    },
    {
     "name": "stderr",
     "output_type": "stream",
     "text": [
      "\n",
      "Processing each day's bout: 70it [00:03, 27.87it/s]\u001b[A\n",
      "Processing each day's bout: 74it [00:03, 28.77it/s]\u001b[A"
     ]
    },
    {
     "name": "stdout",
     "output_type": "stream",
     "text": [
      "Saving /mnt/cube/j8xing/starling_rhythm_mfdfa/data/s_b1555_22/s_b1555_22_2022-09-26_13-00-01-01_1036345_1065165.wav\n",
      "Saving /mnt/cube/j8xing/starling_rhythm_mfdfa/data/s_b1555_22/s_b1555_22_2022-09-26_09-00-01-01_1147005_1175615.wav\n",
      "Saving /mnt/cube/j8xing/starling_rhythm_mfdfa/data/s_b1555_22/s_b1555_22_2022-09-26_10-00-01-02_656415_684730.wav\n",
      "Saving /mnt/cube/j8xing/starling_rhythm_mfdfa/data/s_b1555_22/s_b1555_22_2022-09-26_16-00-01-02_1165915_1194010.wav\n",
      "Saving /mnt/cube/j8xing/starling_rhythm_mfdfa/data/s_b1555_22/s_b1555_22_2022-09-26_09-00-01-02_1377275_1405310.wav\n",
      "Saving /mnt/cube/j8xing/starling_rhythm_mfdfa/data/s_b1555_22/s_b1555_22_2022-09-26_19-00-01-02_1206360_1234265.wav\n",
      "Saving /mnt/cube/j8xing/starling_rhythm_mfdfa/data/s_b1555_22/s_b1555_22_2022-09-26_11-00-01-02_1321415_1348475.wav\n"
     ]
    },
    {
     "name": "stderr",
     "output_type": "stream",
     "text": [
      "\n",
      "Processing each day's bout: 78it [00:03, 29.26it/s]\u001b[A\n",
      "Processing each day's bout: 82it [00:03, 29.93it/s]\u001b[A"
     ]
    },
    {
     "name": "stdout",
     "output_type": "stream",
     "text": [
      "Saving /mnt/cube/j8xing/starling_rhythm_mfdfa/data/s_b1555_22/s_b1555_22_2022-09-26_09-00-01-02_258365_285370.wav\n",
      "Saving /mnt/cube/j8xing/starling_rhythm_mfdfa/data/s_b1555_22/s_b1555_22_2022-09-26_14-00-01-02_334635_361260.wav\n",
      "Saving /mnt/cube/j8xing/starling_rhythm_mfdfa/data/s_b1555_22/s_b1555_22_2022-09-26_16-00-01-02_1098895_1125270.wav\n",
      "Saving /mnt/cube/j8xing/starling_rhythm_mfdfa/data/s_b1555_22/s_b1555_22_2022-09-26_19-00-01-02_346695_373025.wav\n",
      "Saving /mnt/cube/j8xing/starling_rhythm_mfdfa/data/s_b1555_22/s_b1555_22_2022-09-26_19-00-01-02_1270680_1296925.wav\n",
      "Saving /mnt/cube/j8xing/starling_rhythm_mfdfa/data/s_b1555_22/s_b1555_22_2022-09-26_12-00-02-01_289015_314835.wav\n",
      "Saving /mnt/cube/j8xing/starling_rhythm_mfdfa/data/s_b1555_22/s_b1555_22_2022-09-26_13-00-01-02_1493125_1518935.wav\n"
     ]
    },
    {
     "name": "stderr",
     "output_type": "stream",
     "text": [
      "\n",
      "Processing each day's bout: 86it [00:03, 30.38it/s]\u001b[A\n",
      "Processing each day's bout: 91it [00:03, 34.84it/s]\u001b[A"
     ]
    },
    {
     "name": "stdout",
     "output_type": "stream",
     "text": [
      "Saving /mnt/cube/j8xing/starling_rhythm_mfdfa/data/s_b1555_22/s_b1555_22_2022-09-26_09-00-01-01_860095_885800.wav\n",
      "Saving /mnt/cube/j8xing/starling_rhythm_mfdfa/data/s_b1555_22/s_b1555_22_2022-09-26_14-00-01-01_768530_794225.wav\n",
      "Saving /mnt/cube/j8xing/starling_rhythm_mfdfa/data/s_b1555_22/s_b1555_22_2022-09-26_13-00-01-01_489195_513295.wav\n",
      "Saving /mnt/cube/j8xing/starling_rhythm_mfdfa/data/s_b1555_22/s_b1555_22_2022-09-26_10-00-01-02_162185_186040.wav\n",
      "Saving /mnt/cube/j8xing/starling_rhythm_mfdfa/data/s_b1555_22/s_b1555_22_2022-09-26_19-00-01-02_1676490_1699960.wav\n",
      "Saving /mnt/cube/j8xing/starling_rhythm_mfdfa/data/s_b1555_22/s_b1555_22_2022-09-26_09-00-01-01_1444680_1449765.wav\n",
      "Saving /mnt/cube/j8xing/starling_rhythm_mfdfa/data/s_b1555_22/s_b1555_22_2022-09-26_08-00-01-01_240945_245190.wav\n",
      "Saving /mnt/cube/j8xing/starling_rhythm_mfdfa/data/s_b1555_22/s_b1555_22_2022-09-26_14-00-01-02_1034025_1038250.wav\n",
      "Saving /mnt/cube/j8xing/starling_rhythm_mfdfa/data/s_b1555_22/s_b1555_22_2022-09-26_08-00-01-01_579105_583260.wav\n",
      "Saving /mnt/cube/j8xing/starling_rhythm_mfdfa/data/s_b1555_22/s_b1555_22_2022-09-26_08-00-01-01_1081880_1085625.wav\n",
      "Saving /mnt/cube/j8xing/starling_rhythm_mfdfa/data/s_b1555_22/s_b1555_22_2022-09-26_08-00-01-01_103370_106480.wav\n"
     ]
    },
    {
     "name": "stderr",
     "output_type": "stream",
     "text": [
      "Processing each day's bout: 95it [00:03, 25.47it/s]\n",
      "Processing each day:  90%|█████████ | 9/10 [01:05<00:06,  6.30s/it]\n",
      "Processing each day's bout: 0it [00:00, ?it/s]\u001b[A\n",
      "Processing each day's bout: 2it [00:00, 17.63it/s]\u001b[A"
     ]
    },
    {
     "name": "stdout",
     "output_type": "stream",
     "text": [
      "Saving /mnt/cube/j8xing/starling_rhythm_mfdfa/data/s_b1555_22/s_b1555_22_2022-09-21_20-00-02-02_1011390_1068510.wav\n",
      "Saving /mnt/cube/j8xing/starling_rhythm_mfdfa/data/s_b1555_22/s_b1555_22_2022-09-21_11-00-01-02_1498670_1553790.wav\n",
      "Saving /mnt/cube/j8xing/starling_rhythm_mfdfa/data/s_b1555_22/s_b1555_22_2022-09-21_19-00-01-01_1435940_1489360.wav\n",
      "Saving /mnt/cube/j8xing/starling_rhythm_mfdfa/data/s_b1555_22/s_b1555_22_2022-09-21_19-00-01-02_163680_216595.wav\n"
     ]
    },
    {
     "name": "stderr",
     "output_type": "stream",
     "text": [
      "\n",
      "Processing each day's bout: 4it [00:00, 17.69it/s]\u001b[A\n",
      "Processing each day's bout: 6it [00:00, 17.66it/s]\u001b[A"
     ]
    },
    {
     "name": "stdout",
     "output_type": "stream",
     "text": [
      "Saving /mnt/cube/j8xing/starling_rhythm_mfdfa/data/s_b1555_22/s_b1555_22_2022-09-21_20-00-02-01_1349220_1400630.wav\n",
      "Saving /mnt/cube/j8xing/starling_rhythm_mfdfa/data/s_b1555_22/s_b1555_22_2022-09-21_20-00-02-01_731770_781700.wav\n",
      "Saving /mnt/cube/j8xing/starling_rhythm_mfdfa/data/s_b1555_22/s_b1555_22_2022-09-21_19-00-01-02_742540_791730.wav\n",
      "Saving /mnt/cube/j8xing/starling_rhythm_mfdfa/data/s_b1555_22/s_b1555_22_2022-09-21_12-00-01-01_575910_624445.wav\n"
     ]
    },
    {
     "name": "stderr",
     "output_type": "stream",
     "text": [
      "\n",
      "Processing each day's bout: 8it [00:00, 17.77it/s]\u001b[A\n",
      "Processing each day's bout: 10it [00:00, 17.92it/s]\u001b[A"
     ]
    },
    {
     "name": "stdout",
     "output_type": "stream",
     "text": [
      "Saving /mnt/cube/j8xing/starling_rhythm_mfdfa/data/s_b1555_22/s_b1555_22_2022-09-21_19-00-01-01_1587810_1635765.wav\n",
      "Saving /mnt/cube/j8xing/starling_rhythm_mfdfa/data/s_b1555_22/s_b1555_22_2022-09-21_19-00-01-01_1359940_1407075.wav\n",
      "Saving /mnt/cube/j8xing/starling_rhythm_mfdfa/data/s_b1555_22/s_b1555_22_2022-09-21_12-00-01-01_1625140_1670575.wav\n",
      "Saving /mnt/cube/j8xing/starling_rhythm_mfdfa/data/s_b1555_22/s_b1555_22_2022-09-21_20-00-02-02_689465_734020.wav\n",
      "Saving /mnt/cube/j8xing/starling_rhythm_mfdfa/data/s_b1555_22/s_b1555_22_2022-09-21_19-00-01-02_1116515_1160010.wav\n"
     ]
    },
    {
     "name": "stderr",
     "output_type": "stream",
     "text": [
      "\n",
      "Processing each day's bout: 13it [00:00, 19.43it/s]\u001b[A\n",
      "Processing each day's bout: 16it [00:00, 20.13it/s]\u001b[A"
     ]
    },
    {
     "name": "stdout",
     "output_type": "stream",
     "text": [
      "Saving /mnt/cube/j8xing/starling_rhythm_mfdfa/data/s_b1555_22/s_b1555_22_2022-09-21_19-00-01-01_350865_393850.wav\n",
      "Saving /mnt/cube/j8xing/starling_rhythm_mfdfa/data/s_b1555_22/s_b1555_22_2022-09-21_19-00-01-01_801680_844110.wav\n",
      "Saving /mnt/cube/j8xing/starling_rhythm_mfdfa/data/s_b1555_22/s_b1555_22_2022-09-21_18-00-01-02_1534970_1576855.wav\n",
      "Saving /mnt/cube/j8xing/starling_rhythm_mfdfa/data/s_b1555_22/s_b1555_22_2022-09-21_12-00-01-01_81820_123645.wav\n",
      "Saving /mnt/cube/j8xing/starling_rhythm_mfdfa/data/s_b1555_22/s_b1555_22_2022-09-21_11-00-01-01_1208265_1249675.wav\n"
     ]
    },
    {
     "name": "stderr",
     "output_type": "stream",
     "text": [
      "\n",
      "Processing each day's bout: 19it [00:00, 20.59it/s]\u001b[A\n",
      "Processing each day's bout: 22it [00:01, 21.09it/s]\u001b[A"
     ]
    },
    {
     "name": "stdout",
     "output_type": "stream",
     "text": [
      "Saving /mnt/cube/j8xing/starling_rhythm_mfdfa/data/s_b1555_22/s_b1555_22_2022-09-21_19-00-01-01_1132910_1174315.wav\n",
      "Saving /mnt/cube/j8xing/starling_rhythm_mfdfa/data/s_b1555_22/s_b1555_22_2022-09-21_20-00-02-02_1449110_1490030.wav\n",
      "Saving /mnt/cube/j8xing/starling_rhythm_mfdfa/data/s_b1555_22/s_b1555_22_2022-09-21_19-00-01-01_412725_453625.wav\n",
      "Saving /mnt/cube/j8xing/starling_rhythm_mfdfa/data/s_b1555_22/s_b1555_22_2022-09-21_11-00-01-02_800865_840805.wav\n",
      "Saving /mnt/cube/j8xing/starling_rhythm_mfdfa/data/s_b1555_22/s_b1555_22_2022-09-21_18-00-01-02_1414605_1454470.wav\n"
     ]
    },
    {
     "name": "stderr",
     "output_type": "stream",
     "text": [
      "\n",
      "Processing each day's bout: 25it [00:01, 21.98it/s]\u001b[A"
     ]
    },
    {
     "name": "stdout",
     "output_type": "stream",
     "text": [
      "Saving /mnt/cube/j8xing/starling_rhythm_mfdfa/data/s_b1555_22/s_b1555_22_2022-09-21_09-00-01-02_306660_346405.wav\n",
      "Saving /mnt/cube/j8xing/starling_rhythm_mfdfa/data/s_b1555_22/s_b1555_22_2022-09-21_12-00-01-01_674635_714355.wav\n",
      "Saving /mnt/cube/j8xing/starling_rhythm_mfdfa/data/s_b1555_22/s_b1555_22_2022-09-21_20-00-02-02_1138110_1177220.wav\n",
      "Saving /mnt/cube/j8xing/starling_rhythm_mfdfa/data/s_b1555_22/s_b1555_22_2022-09-21_19-00-01-01_30880_69730.wav\n",
      "Saving /mnt/cube/j8xing/starling_rhythm_mfdfa/data/s_b1555_22/s_b1555_22_2022-09-21_18-00-01-01_1010295_1048430.wav\n"
     ]
    },
    {
     "name": "stderr",
     "output_type": "stream",
     "text": [
      "\n",
      "Processing each day's bout: 28it [00:01, 22.51it/s]\u001b[A\n",
      "Processing each day's bout: 31it [00:01, 22.84it/s]\u001b[A"
     ]
    },
    {
     "name": "stdout",
     "output_type": "stream",
     "text": [
      "Saving /mnt/cube/j8xing/starling_rhythm_mfdfa/data/s_b1555_22/s_b1555_22_2022-09-21_19-00-01-02_1482505_1520415.wav\n",
      "Saving /mnt/cube/j8xing/starling_rhythm_mfdfa/data/s_b1555_22/s_b1555_22_2022-09-21_20-00-02-01_159955_197640.wav\n",
      "Saving /mnt/cube/j8xing/starling_rhythm_mfdfa/data/s_b1555_22/s_b1555_22_2022-09-21_11-00-01-02_1055880_1093545.wav\n",
      "Saving /mnt/cube/j8xing/starling_rhythm_mfdfa/data/s_b1555_22/s_b1555_22_2022-09-21_18-00-01-01_951170_988565.wav\n",
      "Saving /mnt/cube/j8xing/starling_rhythm_mfdfa/data/s_b1555_22/s_b1555_22_2022-09-21_20-00-02-02_852260_889650.wav\n"
     ]
    },
    {
     "name": "stderr",
     "output_type": "stream",
     "text": [
      "\n",
      "Processing each day's bout: 34it [00:01, 22.91it/s]\u001b[A\n",
      "Processing each day's bout: 37it [00:01, 23.32it/s]\u001b[A"
     ]
    },
    {
     "name": "stdout",
     "output_type": "stream",
     "text": [
      "Saving /mnt/cube/j8xing/starling_rhythm_mfdfa/data/s_b1555_22/s_b1555_22_2022-09-21_21-00-02-02_711320_748545.wav\n",
      "Saving /mnt/cube/j8xing/starling_rhythm_mfdfa/data/s_b1555_22/s_b1555_22_2022-09-21_09-00-01-02_164020_201040.wav\n",
      "Saving /mnt/cube/j8xing/starling_rhythm_mfdfa/data/s_b1555_22/s_b1555_22_2022-09-21_09-00-01-02_482750_518410.wav\n",
      "Saving /mnt/cube/j8xing/starling_rhythm_mfdfa/data/s_b1555_22/s_b1555_22_2022-09-21_19-00-01-01_1721695_1757290.wav\n",
      "Saving /mnt/cube/j8xing/starling_rhythm_mfdfa/data/s_b1555_22/s_b1555_22_2022-09-21_09-00-01-02_882390_917945.wav\n"
     ]
    },
    {
     "name": "stderr",
     "output_type": "stream",
     "text": [
      "\n",
      "Processing each day's bout: 40it [00:01, 24.05it/s]\u001b[A\n",
      "Processing each day's bout: 43it [00:01, 24.47it/s]\u001b[A"
     ]
    },
    {
     "name": "stdout",
     "output_type": "stream",
     "text": [
      "Saving /mnt/cube/j8xing/starling_rhythm_mfdfa/data/s_b1555_22/s_b1555_22_2022-09-21_19-00-01-02_361635_396645.wav\n",
      "Saving /mnt/cube/j8xing/starling_rhythm_mfdfa/data/s_b1555_22/s_b1555_22_2022-09-21_11-00-01-02_176415_211405.wav\n",
      "Saving /mnt/cube/j8xing/starling_rhythm_mfdfa/data/s_b1555_22/s_b1555_22_2022-09-21_12-00-01-01_189260_224200.wav\n",
      "Saving /mnt/cube/j8xing/starling_rhythm_mfdfa/data/s_b1555_22/s_b1555_22_2022-09-21_19-00-01-02_445940_480605.wav\n",
      "Saving /mnt/cube/j8xing/starling_rhythm_mfdfa/data/s_b1555_22/s_b1555_22_2022-09-21_19-00-01-01_938205_972555.wav\n",
      "Saving /mnt/cube/j8xing/starling_rhythm_mfdfa/data/s_b1555_22/s_b1555_22_2022-09-21_20-00-02-02_536805_571080.wav\n"
     ]
    },
    {
     "name": "stderr",
     "output_type": "stream",
     "text": [
      "\n",
      "Processing each day's bout: 46it [00:02, 24.86it/s]\u001b[A\n",
      "Processing each day's bout: 49it [00:02, 25.59it/s]\u001b[A"
     ]
    },
    {
     "name": "stdout",
     "output_type": "stream",
     "text": [
      "Saving /mnt/cube/j8xing/starling_rhythm_mfdfa/data/s_b1555_22/s_b1555_22_2022-09-21_11-00-01-02_975360_1009630.wav\n",
      "Saving /mnt/cube/j8xing/starling_rhythm_mfdfa/data/s_b1555_22/s_b1555_22_2022-09-21_09-00-01-02_806975_840835.wav\n",
      "Saving /mnt/cube/j8xing/starling_rhythm_mfdfa/data/s_b1555_22/s_b1555_22_2022-09-21_11-00-01-02_882535_915755.wav\n",
      "Saving /mnt/cube/j8xing/starling_rhythm_mfdfa/data/s_b1555_22/s_b1555_22_2022-09-21_12-00-01-01_854430_887430.wav\n",
      "Saving /mnt/cube/j8xing/starling_rhythm_mfdfa/data/s_b1555_22/s_b1555_22_2022-09-21_20-00-02-02_349795_382090.wav\n",
      "Saving /mnt/cube/j8xing/starling_rhythm_mfdfa/data/s_b1555_22/s_b1555_22_2022-09-21_18-00-01-01_1091045_1122570.wav\n"
     ]
    },
    {
     "name": "stderr",
     "output_type": "stream",
     "text": [
      "\n",
      "Processing each day's bout: 52it [00:02, 26.30it/s]\u001b[A\n",
      "Processing each day's bout: 55it [00:02, 26.69it/s]\u001b[A"
     ]
    },
    {
     "name": "stdout",
     "output_type": "stream",
     "text": [
      "Saving /mnt/cube/j8xing/starling_rhythm_mfdfa/data/s_b1555_22/s_b1555_22_2022-09-21_09-00-01-02_1432560_1463835.wav\n",
      "Saving /mnt/cube/j8xing/starling_rhythm_mfdfa/data/s_b1555_22/s_b1555_22_2022-09-21_12-00-01-01_270025_301075.wav\n",
      "Saving /mnt/cube/j8xing/starling_rhythm_mfdfa/data/s_b1555_22/s_b1555_22_2022-09-21_11-00-01-01_1011815_1042640.wav\n",
      "Saving /mnt/cube/j8xing/starling_rhythm_mfdfa/data/s_b1555_22/s_b1555_22_2022-09-21_10-00-01-01_419980_450595.wav\n",
      "Saving /mnt/cube/j8xing/starling_rhythm_mfdfa/data/s_b1555_22/s_b1555_22_2022-09-21_20-00-02-02_617755_648265.wav\n",
      "Saving /mnt/cube/j8xing/starling_rhythm_mfdfa/data/s_b1555_22/s_b1555_22_2022-09-21_19-00-01-02_1204225_1234665.wav\n"
     ]
    },
    {
     "name": "stderr",
     "output_type": "stream",
     "text": [
      "\n",
      "Processing each day's bout: 58it [00:02, 27.03it/s]\u001b[A\n",
      "Processing each day's bout: 61it [00:02, 27.67it/s]\u001b[A"
     ]
    },
    {
     "name": "stdout",
     "output_type": "stream",
     "text": [
      "Saving /mnt/cube/j8xing/starling_rhythm_mfdfa/data/s_b1555_22/s_b1555_22_2022-09-21_18-00-01-01_1222430_1252335.wav\n",
      "Saving /mnt/cube/j8xing/starling_rhythm_mfdfa/data/s_b1555_22/s_b1555_22_2022-09-21_19-00-01-01_157235_187135.wav\n",
      "Saving /mnt/cube/j8xing/starling_rhythm_mfdfa/data/s_b1555_22/s_b1555_22_2022-09-21_19-00-01-02_1333550_1363285.wav\n",
      "Saving /mnt/cube/j8xing/starling_rhythm_mfdfa/data/s_b1555_22/s_b1555_22_2022-09-21_11-00-01-02_504410_533970.wav\n",
      "Saving /mnt/cube/j8xing/starling_rhythm_mfdfa/data/s_b1555_22/s_b1555_22_2022-09-21_18-00-01-02_1615645_1644470.wav\n",
      "Saving /mnt/cube/j8xing/starling_rhythm_mfdfa/data/s_b1555_22/s_b1555_22_2022-09-21_09-00-01-02_1256705_1285315.wav\n"
     ]
    },
    {
     "name": "stderr",
     "output_type": "stream",
     "text": [
      "\n",
      "Processing each day's bout: 64it [00:02, 28.31it/s]\u001b[A\n",
      "Processing each day's bout: 68it [00:02, 29.32it/s]\u001b[A"
     ]
    },
    {
     "name": "stdout",
     "output_type": "stream",
     "text": [
      "Saving /mnt/cube/j8xing/starling_rhythm_mfdfa/data/s_b1555_22/s_b1555_22_2022-09-21_19-00-01-01_1019340_1047890.wav\n",
      "Saving /mnt/cube/j8xing/starling_rhythm_mfdfa/data/s_b1555_22/s_b1555_22_2022-09-21_09-00-01-02_401010_429510.wav\n",
      "Saving /mnt/cube/j8xing/starling_rhythm_mfdfa/data/s_b1555_22/s_b1555_22_2022-09-21_09-00-01-02_1349105_1377465.wav\n",
      "Saving /mnt/cube/j8xing/starling_rhythm_mfdfa/data/s_b1555_22/s_b1555_22_2022-09-21_21-00-02-02_505335_533425.wav\n",
      "Saving /mnt/cube/j8xing/starling_rhythm_mfdfa/data/s_b1555_22/s_b1555_22_2022-09-21_11-00-01-02_403020_431095.wav\n",
      "Saving /mnt/cube/j8xing/starling_rhythm_mfdfa/data/s_b1555_22/s_b1555_22_2022-09-21_19-00-01-02_879755_906795.wav\n",
      "Saving /mnt/cube/j8xing/starling_rhythm_mfdfa/data/s_b1555_22/s_b1555_22_2022-09-21_13-00-01-02_1072140_1099165.wav\n"
     ]
    },
    {
     "name": "stderr",
     "output_type": "stream",
     "text": [
      "\n",
      "Processing each day's bout: 72it [00:02, 30.30it/s]\u001b[A\n",
      "Processing each day's bout: 76it [00:03, 32.41it/s]\u001b[A"
     ]
    },
    {
     "name": "stdout",
     "output_type": "stream",
     "text": [
      "Saving /mnt/cube/j8xing/starling_rhythm_mfdfa/data/s_b1555_22/s_b1555_22_2022-09-21_19-00-01-01_876210_902875.wav\n",
      "Saving /mnt/cube/j8xing/starling_rhythm_mfdfa/data/s_b1555_22/s_b1555_22_2022-09-21_19-00-01-02_1593325_1619855.wav\n",
      "Saving /mnt/cube/j8xing/starling_rhythm_mfdfa/data/s_b1555_22/s_b1555_22_2022-09-21_18-00-01-02_1482515_1507485.wav\n",
      "Saving /mnt/cube/j8xing/starling_rhythm_mfdfa/data/s_b1555_22/s_b1555_22_2022-09-21_18-00-01-01_1719345_1743800.wav\n",
      "Saving /mnt/cube/j8xing/starling_rhythm_mfdfa/data/s_b1555_22/s_b1555_22_2022-09-21_18-00-01-01_1152895_1176360.wav\n",
      "Saving /mnt/cube/j8xing/starling_rhythm_mfdfa/data/s_b1555_22/s_b1555_22_2022-09-21_17-00-01-01_1451315_1473465.wav\n",
      "Saving /mnt/cube/j8xing/starling_rhythm_mfdfa/data/s_b1555_22/s_b1555_22_2022-09-21_11-00-01-02_326685_348805.wav\n",
      "Saving /mnt/cube/j8xing/starling_rhythm_mfdfa/data/s_b1555_22/s_b1555_22_2022-09-21_17-00-01-01_1549190_1571095.wav\n"
     ]
    },
    {
     "name": "stderr",
     "output_type": "stream",
     "text": [
      "\n",
      "Processing each day's bout: 84it [00:03, 26.20it/s]\u001b[A\n",
      "Processing each day: 100%|██████████| 10/10 [01:09<00:00,  6.96s/it]"
     ]
    },
    {
     "name": "stdout",
     "output_type": "stream",
     "text": [
      "Saving /mnt/cube/j8xing/starling_rhythm_mfdfa/data/s_b1555_22/s_b1555_22_2022-09-21_13-00-01-02_998510_1020140.wav\n",
      "Saving /mnt/cube/j8xing/starling_rhythm_mfdfa/data/s_b1555_22/s_b1555_22_2022-09-21_10-00-01-01_461735_473175.wav\n",
      "Saving /mnt/cube/j8xing/starling_rhythm_mfdfa/data/s_b1555_22/s_b1555_22_2022-09-21_14-00-01-02_1591530_1602065.wav\n",
      "Saving /mnt/cube/j8xing/starling_rhythm_mfdfa/data/s_b1555_22/s_b1555_22_2022-09-21_14-00-01-02_1605580_1610770.wav\n",
      "Saving /mnt/cube/j8xing/starling_rhythm_mfdfa/data/s_b1555_22/s_b1555_22_2022-09-21_10-00-01-01_411070_415280.wav\n",
      "Saving /mnt/cube/j8xing/starling_rhythm_mfdfa/data/s_b1555_22/s_b1555_22_2022-09-21_13-00-01-02_1620240_1623675.wav\n",
      "Saving /mnt/cube/j8xing/starling_rhythm_mfdfa/data/s_b1555_22/s_b1555_22_2022-09-21_09-00-01-01_710815_714180.wav\n"
     ]
    },
    {
     "name": "stderr",
     "output_type": "stream",
     "text": [
      "\n"
     ]
    }
   ],
   "source": [
    "## For every pickle path\n",
    "for pickle in tqdm(pickle_paths, desc = 'Processing each day'):\n",
    "    \n",
    "    ## load in the pickle\n",
    "    bouts = pd.read_pickle(pickle)\n",
    "    ## filter out calls\n",
    "    bouts = bouts[bouts['is_call'] != True]\n",
    "    \n",
    "    ## For each bout, find its audio, and construct its name\n",
    "    for i, row in tqdm(bouts.iterrows(), desc = \"Processing each day's bout\"):\n",
    "        data = row.waveform\n",
    "        \n",
    "        ## CONVENTION: bID_YYYY-MM-DD_TIMESTAMP_STRT_END.wav\n",
    "        ymd = str(pickle).split('/')[6]\n",
    "        tstamp = row.file.split('/')[-1].split('.')[0]\n",
    "        strt = str(row.start_ms)\n",
    "        end = str(row.end_ms)\n",
    "        \n",
    "        filename = bID + '_' + ymd + '_' + tstamp + '_' + strt + '_' + end + str('.wav')\n",
    "    \n",
    "        filename = PROCESSED_DIR / bID / filename\n",
    "        ensure_dir(filename)\n",
    "        \n",
    "        print('Saving ' + str(filename))\n",
    "        \n",
    "        wav.write(filename = filename, rate = rate, data = data)"
   ]
  },
  {
   "cell_type": "code",
   "execution_count": null,
   "id": "41107206",
   "metadata": {},
   "outputs": [],
   "source": []
  }
 ],
 "metadata": {
  "kernelspec": {
   "display_name": "starling_rhythm",
   "language": "python",
   "name": "starling_rhythm"
  },
  "language_info": {
   "codemirror_mode": {
    "name": "ipython",
    "version": 3
   },
   "file_extension": ".py",
   "mimetype": "text/x-python",
   "name": "python",
   "nbconvert_exporter": "python",
   "pygments_lexer": "ipython3",
   "version": "3.10.10"
  }
 },
 "nbformat": 4,
 "nbformat_minor": 5
}
