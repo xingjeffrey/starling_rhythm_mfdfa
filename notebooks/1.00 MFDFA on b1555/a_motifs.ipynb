{
 "cells": [
  {
   "cell_type": "markdown",
   "id": "5a676801",
   "metadata": {},
   "source": [
    "# New Stims. \n",
    "based on accelerando and ritardando"
   ]
  },
  {
   "cell_type": "code",
   "execution_count": 1,
   "id": "4c7cdfad",
   "metadata": {},
   "outputs": [],
   "source": [
    "from starling_rhythm.utils.paths import PROCESSED_DIR, ensure_dir"
   ]
  },
  {
   "cell_type": "code",
   "execution_count": 2,
   "id": "897665c3",
   "metadata": {},
   "outputs": [],
   "source": [
    "bID = \"s_b1555_22\""
   ]
  },
  {
   "cell_type": "code",
   "execution_count": 3,
   "id": "851487ff",
   "metadata": {},
   "outputs": [],
   "source": [
    "syllable_address = PROCESSED_DIR / bID / \"syllable_df.pickle\""
   ]
  },
  {
   "cell_type": "markdown",
   "id": "964126fc",
   "metadata": {},
   "source": [
    "## Get syllables"
   ]
  },
  {
   "cell_type": "code",
   "execution_count": 4,
   "id": "5a340a87",
   "metadata": {},
   "outputs": [],
   "source": [
    "import pandas as pd\n",
    "import numpy as np"
   ]
  },
  {
   "cell_type": "code",
   "execution_count": 5,
   "id": "b5fb16f6",
   "metadata": {},
   "outputs": [],
   "source": [
    "syllable_df = pd.read_pickle(syllable_address)"
   ]
  },
  {
   "cell_type": "markdown",
   "id": "eefbdbfc",
   "metadata": {},
   "source": [
    "## Pick a motif"
   ]
  },
  {
   "cell_type": "code",
   "execution_count": 6,
   "id": "0ab102c0",
   "metadata": {},
   "outputs": [],
   "source": [
    "import random\n",
    "from scipy.io.wavfile import read, write\n",
    "from starling_rhythm.synth import taper_audio, float32_to_int16"
   ]
  },
  {
   "cell_type": "code",
   "execution_count": 7,
   "id": "fc8a30c8",
   "metadata": {},
   "outputs": [],
   "source": [
    "def motif_picker(syllable_df, motif_n = 64):\n",
    "    '''\n",
    "    Within the dataframe, randomly pick some number of motifs and save them\n",
    "    '''\n",
    "    \n",
    "    for i in np.arange(0, motif_n):\n",
    "        motif = syllable_df.sample(n = 1)\n",
    "        \n",
    "        rate, data = read(motif['file'].values[0])\n",
    "        \n",
    "        ## trim audio\n",
    "        min_onset = int(motif.onsets_ms.values[0] * rate)\n",
    "        max_offset = int(motif.offsets_ms.values[0] * rate)\n",
    "        motif_data = data[min_onset:max_offset]\n",
    "        \n",
    "        ## taper\n",
    "        motif_data = taper_audio(motif_data, taper = int(2*(rate / 1000)))\n",
    "        \n",
    "        ## normalize\n",
    "        motif_data = motif_data / max(motif_data)\n",
    "        motif_data = float32_to_int16(motif_data)\n",
    "        \n",
    "        ## save info\n",
    "        filename = 'motif' + str(i) + '.wav'\n",
    "        SAVE_PATH = PROCESSED_DIR / bID / 'motifs' / filename\n",
    "        ensure_dir(SAVE_PATH)\n",
    "        \n",
    "        ## write audio files\n",
    "        write(SAVE_PATH, rate, motif_data)"
   ]
  },
  {
   "cell_type": "code",
   "execution_count": 8,
   "id": "72cee576",
   "metadata": {},
   "outputs": [],
   "source": [
    "motif_picker(syllable_df, motif_n = 64)"
   ]
  },
  {
   "cell_type": "code",
   "execution_count": 9,
   "id": "f94838c8",
   "metadata": {},
   "outputs": [],
   "source": [
    "import IPython"
   ]
  },
  {
   "cell_type": "code",
   "execution_count": 10,
   "id": "49a92627",
   "metadata": {},
   "outputs": [],
   "source": [
    "motif_dir = PROCESSED_DIR / bID / 'motifs'"
   ]
  },
  {
   "cell_type": "code",
   "execution_count": 11,
   "id": "05ba8b84",
   "metadata": {},
   "outputs": [],
   "source": [
    "motifs = list(motif_dir.glob('*'))"
   ]
  },
  {
   "cell_type": "code",
   "execution_count": 12,
   "id": "245acf81",
   "metadata": {},
   "outputs": [
    {
     "data": {
      "text/plain": [
       "[PosixPath('/mnt/cube/j8xing/starling_rhythm_mfdfa/data/s_b1555_22/motifs/motif58.wav'),\n",
       " PosixPath('/mnt/cube/j8xing/starling_rhythm_mfdfa/data/s_b1555_22/motifs/motif24.wav'),\n",
       " PosixPath('/mnt/cube/j8xing/starling_rhythm_mfdfa/data/s_b1555_22/motifs/motif23.wav'),\n",
       " PosixPath('/mnt/cube/j8xing/starling_rhythm_mfdfa/data/s_b1555_22/motifs/motif51.wav'),\n",
       " PosixPath('/mnt/cube/j8xing/starling_rhythm_mfdfa/data/s_b1555_22/motifs/motif56.wav'),\n",
       " PosixPath('/mnt/cube/j8xing/starling_rhythm_mfdfa/data/s_b1555_22/motifs/motif63.wav'),\n",
       " PosixPath('/mnt/cube/j8xing/starling_rhythm_mfdfa/data/s_b1555_22/motifs/motif18.wav'),\n",
       " PosixPath('/mnt/cube/j8xing/starling_rhythm_mfdfa/data/s_b1555_22/motifs/motif16.wav'),\n",
       " PosixPath('/mnt/cube/j8xing/starling_rhythm_mfdfa/data/s_b1555_22/motifs/motif11.wav'),\n",
       " PosixPath('/mnt/cube/j8xing/starling_rhythm_mfdfa/data/s_b1555_22/motifs/motif0.wav'),\n",
       " PosixPath('/mnt/cube/j8xing/starling_rhythm_mfdfa/data/s_b1555_22/motifs/motif7.wav'),\n",
       " PosixPath('/mnt/cube/j8xing/starling_rhythm_mfdfa/data/s_b1555_22/motifs/motif9.wav'),\n",
       " PosixPath('/mnt/cube/j8xing/starling_rhythm_mfdfa/data/s_b1555_22/motifs/motif47.wav'),\n",
       " PosixPath('/mnt/cube/j8xing/starling_rhythm_mfdfa/data/s_b1555_22/motifs/motif40.wav'),\n",
       " PosixPath('/mnt/cube/j8xing/starling_rhythm_mfdfa/data/s_b1555_22/motifs/motif32.wav'),\n",
       " PosixPath('/mnt/cube/j8xing/starling_rhythm_mfdfa/data/s_b1555_22/motifs/motif49.wav'),\n",
       " PosixPath('/mnt/cube/j8xing/starling_rhythm_mfdfa/data/s_b1555_22/motifs/motif35.wav'),\n",
       " PosixPath('/mnt/cube/j8xing/starling_rhythm_mfdfa/data/s_b1555_22/motifs/motif10.wav'),\n",
       " PosixPath('/mnt/cube/j8xing/starling_rhythm_mfdfa/data/s_b1555_22/motifs/motif17.wav'),\n",
       " PosixPath('/mnt/cube/j8xing/starling_rhythm_mfdfa/data/s_b1555_22/motifs/motif19.wav'),\n",
       " PosixPath('/mnt/cube/j8xing/starling_rhythm_mfdfa/data/s_b1555_22/motifs/motif62.wav'),\n",
       " PosixPath('/mnt/cube/j8xing/starling_rhythm_mfdfa/data/s_b1555_22/motifs/motif57.wav'),\n",
       " PosixPath('/mnt/cube/j8xing/starling_rhythm_mfdfa/data/s_b1555_22/motifs/motif50.wav'),\n",
       " PosixPath('/mnt/cube/j8xing/starling_rhythm_mfdfa/data/s_b1555_22/motifs/motif22.wav'),\n",
       " PosixPath('/mnt/cube/j8xing/starling_rhythm_mfdfa/data/s_b1555_22/motifs/motif59.wav'),\n",
       " PosixPath('/mnt/cube/j8xing/starling_rhythm_mfdfa/data/s_b1555_22/motifs/motif25.wav'),\n",
       " PosixPath('/mnt/cube/j8xing/starling_rhythm_mfdfa/data/s_b1555_22/motifs/motif48.wav'),\n",
       " PosixPath('/mnt/cube/j8xing/starling_rhythm_mfdfa/data/s_b1555_22/motifs/motif34.wav'),\n",
       " PosixPath('/mnt/cube/j8xing/starling_rhythm_mfdfa/data/s_b1555_22/motifs/motif33.wav'),\n",
       " PosixPath('/mnt/cube/j8xing/starling_rhythm_mfdfa/data/s_b1555_22/motifs/motif41.wav'),\n",
       " PosixPath('/mnt/cube/j8xing/starling_rhythm_mfdfa/data/s_b1555_22/motifs/motif46.wav'),\n",
       " PosixPath('/mnt/cube/j8xing/starling_rhythm_mfdfa/data/s_b1555_22/motifs/motif8.wav'),\n",
       " PosixPath('/mnt/cube/j8xing/starling_rhythm_mfdfa/data/s_b1555_22/motifs/motif6.wav'),\n",
       " PosixPath('/mnt/cube/j8xing/starling_rhythm_mfdfa/data/s_b1555_22/motifs/motif1.wav'),\n",
       " PosixPath('/mnt/cube/j8xing/starling_rhythm_mfdfa/data/s_b1555_22/motifs/motif30.wav'),\n",
       " PosixPath('/mnt/cube/j8xing/starling_rhythm_mfdfa/data/s_b1555_22/motifs/motif37.wav'),\n",
       " PosixPath('/mnt/cube/j8xing/starling_rhythm_mfdfa/data/s_b1555_22/motifs/motif45.wav'),\n",
       " PosixPath('/mnt/cube/j8xing/starling_rhythm_mfdfa/data/s_b1555_22/motifs/motif39.wav'),\n",
       " PosixPath('/mnt/cube/j8xing/starling_rhythm_mfdfa/data/s_b1555_22/motifs/motif42.wav'),\n",
       " PosixPath('/mnt/cube/j8xing/starling_rhythm_mfdfa/data/s_b1555_22/motifs/motif2.wav'),\n",
       " PosixPath('/mnt/cube/j8xing/starling_rhythm_mfdfa/data/s_b1555_22/motifs/motif5.wav'),\n",
       " PosixPath('/mnt/cube/j8xing/starling_rhythm_mfdfa/data/s_b1555_22/motifs/motif14.wav'),\n",
       " PosixPath('/mnt/cube/j8xing/starling_rhythm_mfdfa/data/s_b1555_22/motifs/motif13.wav'),\n",
       " PosixPath('/mnt/cube/j8xing/starling_rhythm_mfdfa/data/s_b1555_22/motifs/motif61.wav'),\n",
       " PosixPath('/mnt/cube/j8xing/starling_rhythm_mfdfa/data/s_b1555_22/motifs/motif53.wav'),\n",
       " PosixPath('/mnt/cube/j8xing/starling_rhythm_mfdfa/data/s_b1555_22/motifs/motif54.wav'),\n",
       " PosixPath('/mnt/cube/j8xing/starling_rhythm_mfdfa/data/s_b1555_22/motifs/motif28.wav'),\n",
       " PosixPath('/mnt/cube/j8xing/starling_rhythm_mfdfa/data/s_b1555_22/motifs/motif26.wav'),\n",
       " PosixPath('/mnt/cube/j8xing/starling_rhythm_mfdfa/data/s_b1555_22/motifs/motif21.wav'),\n",
       " PosixPath('/mnt/cube/j8xing/starling_rhythm_mfdfa/data/s_b1555_22/motifs/motif4.wav'),\n",
       " PosixPath('/mnt/cube/j8xing/starling_rhythm_mfdfa/data/s_b1555_22/motifs/motif3.wav'),\n",
       " PosixPath('/mnt/cube/j8xing/starling_rhythm_mfdfa/data/s_b1555_22/motifs/motif43.wav'),\n",
       " PosixPath('/mnt/cube/j8xing/starling_rhythm_mfdfa/data/s_b1555_22/motifs/motif44.wav'),\n",
       " PosixPath('/mnt/cube/j8xing/starling_rhythm_mfdfa/data/s_b1555_22/motifs/motif38.wav'),\n",
       " PosixPath('/mnt/cube/j8xing/starling_rhythm_mfdfa/data/s_b1555_22/motifs/motif36.wav'),\n",
       " PosixPath('/mnt/cube/j8xing/starling_rhythm_mfdfa/data/s_b1555_22/motifs/motif31.wav'),\n",
       " PosixPath('/mnt/cube/j8xing/starling_rhythm_mfdfa/data/s_b1555_22/motifs/motif20.wav'),\n",
       " PosixPath('/mnt/cube/j8xing/starling_rhythm_mfdfa/data/s_b1555_22/motifs/motif27.wav'),\n",
       " PosixPath('/mnt/cube/j8xing/starling_rhythm_mfdfa/data/s_b1555_22/motifs/motif55.wav'),\n",
       " PosixPath('/mnt/cube/j8xing/starling_rhythm_mfdfa/data/s_b1555_22/motifs/motif29.wav'),\n",
       " PosixPath('/mnt/cube/j8xing/starling_rhythm_mfdfa/data/s_b1555_22/motifs/motif52.wav'),\n",
       " PosixPath('/mnt/cube/j8xing/starling_rhythm_mfdfa/data/s_b1555_22/motifs/motif60.wav'),\n",
       " PosixPath('/mnt/cube/j8xing/starling_rhythm_mfdfa/data/s_b1555_22/motifs/motif12.wav'),\n",
       " PosixPath('/mnt/cube/j8xing/starling_rhythm_mfdfa/data/s_b1555_22/motifs/motif15.wav')]"
      ]
     },
     "execution_count": 12,
     "metadata": {},
     "output_type": "execute_result"
    }
   ],
   "source": [
    "motifs"
   ]
  },
  {
   "cell_type": "code",
   "execution_count": 19,
   "id": "850f9a62",
   "metadata": {},
   "outputs": [
    {
     "data": {
      "text/html": [
       "\n",
       "                <audio  controls=\"controls\" >\n",
       "                    <source src=\"data:audio/x-wav;base64,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\" type=\"audio/x-wav\" />\n",
       "                    Your browser does not support the audio element.\n",
       "                </audio>\n",
       "              "
      ],
      "text/plain": [
       "<IPython.lib.display.Audio object>"
      ]
     },
     "metadata": {},
     "output_type": "display_data"
    }
   ],
   "source": [
    "IPython.display.display(IPython.display.Audio(str(motifs[5])))"
   ]
  }
 ],
 "metadata": {
  "kernelspec": {
   "display_name": "starling_rhythm",
   "language": "python",
   "name": "starling_rhythm"
  },
  "language_info": {
   "codemirror_mode": {
    "name": "ipython",
    "version": 3
   },
   "file_extension": ".py",
   "mimetype": "text/x-python",
   "name": "python",
   "nbconvert_exporter": "python",
   "pygments_lexer": "ipython3",
   "version": "3.10.4"
  }
 },
 "nbformat": 4,
 "nbformat_minor": 5
}
