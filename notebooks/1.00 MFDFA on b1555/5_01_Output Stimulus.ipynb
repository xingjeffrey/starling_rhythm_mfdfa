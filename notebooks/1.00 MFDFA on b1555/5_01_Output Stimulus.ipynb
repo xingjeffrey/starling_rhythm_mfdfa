{
 "cells": [
  {
   "cell_type": "markdown",
   "id": "3cdbb0b8",
   "metadata": {},
   "source": [
    "## Pick stimulus\n",
    "\n",
    "- from initial reading of max and mins"
   ]
  },
  {
   "cell_type": "code",
   "execution_count": 1,
   "id": "781bce6e",
   "metadata": {},
   "outputs": [],
   "source": [
    "from starling_rhythm.utils.paths import PROCESSED_DIR"
   ]
  },
  {
   "cell_type": "code",
   "execution_count": 2,
   "id": "3bda5053",
   "metadata": {},
   "outputs": [],
   "source": [
    "bID = 's_b1555_22'\n",
    "SAVE_PATH = PROCESSED_DIR / bID / 'shuffle_tmf.pickle'"
   ]
  },
  {
   "cell_type": "code",
   "execution_count": 3,
   "id": "01acebfd",
   "metadata": {},
   "outputs": [],
   "source": [
    "import pandas as pd"
   ]
  },
  {
   "cell_type": "code",
   "execution_count": 4,
   "id": "42bbb8e7",
   "metadata": {},
   "outputs": [],
   "source": [
    "shuffle_tmf = pd.read_pickle(SAVE_PATH)"
   ]
  },
  {
   "cell_type": "code",
   "execution_count": 5,
   "id": "480924f0",
   "metadata": {},
   "outputs": [],
   "source": [
    "shuffle_wavs = shuffle_tmf.shuffle_wavs.values"
   ]
  },
  {
   "cell_type": "markdown",
   "id": "9740b3ce",
   "metadata": {},
   "source": [
    "## Original calculation. "
   ]
  },
  {
   "cell_type": "code",
   "execution_count": 6,
   "id": "8f84acbb",
   "metadata": {},
   "outputs": [
    {
     "data": {
      "text/html": [
       "<div>\n",
       "<style scoped>\n",
       "    .dataframe tbody tr th:only-of-type {\n",
       "        vertical-align: middle;\n",
       "    }\n",
       "\n",
       "    .dataframe tbody tr th {\n",
       "        vertical-align: top;\n",
       "    }\n",
       "\n",
       "    .dataframe thead th {\n",
       "        text-align: right;\n",
       "    }\n",
       "</style>\n",
       "<table border=\"1\" class=\"dataframe\">\n",
       "  <thead>\n",
       "    <tr style=\"text-align: right;\">\n",
       "      <th></th>\n",
       "      <th>index</th>\n",
       "      <th>shuffle_wavs</th>\n",
       "      <th>shuffle_og_seg</th>\n",
       "      <th>shuffle_ts</th>\n",
       "      <th>seg_nb</th>\n",
       "      <th>type</th>\n",
       "    </tr>\n",
       "  </thead>\n",
       "  <tbody>\n",
       "    <tr>\n",
       "      <th>18</th>\n",
       "      <td>18</td>\n",
       "      <td>/mnt/cube/j8xing/starling_rhythm_mfdfa/data/s_...</td>\n",
       "      <td>s_b1555_22_2022-09-20_09-00-01-01_1611695_1641...</td>\n",
       "      <td>33.540317</td>\n",
       "      <td>0</td>\n",
       "      <td>max</td>\n",
       "    </tr>\n",
       "    <tr>\n",
       "      <th>1</th>\n",
       "      <td>1</td>\n",
       "      <td>/mnt/cube/j8xing/starling_rhythm_mfdfa/data/s_...</td>\n",
       "      <td>s_b1555_22_2022-09-20_09-00-01-01_1611695_1641...</td>\n",
       "      <td>13.189624</td>\n",
       "      <td>0</td>\n",
       "      <td>min</td>\n",
       "    </tr>\n",
       "    <tr>\n",
       "      <th>3</th>\n",
       "      <td>35</td>\n",
       "      <td>/mnt/cube/j8xing/starling_rhythm_mfdfa/data/s_...</td>\n",
       "      <td>s_b1555_22_2022-09-20_09-00-01-02_1242225_1285...</td>\n",
       "      <td>48.723433</td>\n",
       "      <td>1</td>\n",
       "      <td>max</td>\n",
       "    </tr>\n",
       "    <tr>\n",
       "      <th>30</th>\n",
       "      <td>62</td>\n",
       "      <td>/mnt/cube/j8xing/starling_rhythm_mfdfa/data/s_...</td>\n",
       "      <td>s_b1555_22_2022-09-20_09-00-01-02_1242225_1285...</td>\n",
       "      <td>24.444802</td>\n",
       "      <td>1</td>\n",
       "      <td>min</td>\n",
       "    </tr>\n",
       "    <tr>\n",
       "      <th>19</th>\n",
       "      <td>83</td>\n",
       "      <td>/mnt/cube/j8xing/starling_rhythm_mfdfa/data/s_...</td>\n",
       "      <td>s_b1555_22_2022-09-20_09-00-01-02_1242225_1285...</td>\n",
       "      <td>43.137802</td>\n",
       "      <td>2</td>\n",
       "      <td>max</td>\n",
       "    </tr>\n",
       "  </tbody>\n",
       "</table>\n",
       "</div>"
      ],
      "text/plain": [
       "    index                                       shuffle_wavs  \\\n",
       "18     18  /mnt/cube/j8xing/starling_rhythm_mfdfa/data/s_...   \n",
       "1       1  /mnt/cube/j8xing/starling_rhythm_mfdfa/data/s_...   \n",
       "3      35  /mnt/cube/j8xing/starling_rhythm_mfdfa/data/s_...   \n",
       "30     62  /mnt/cube/j8xing/starling_rhythm_mfdfa/data/s_...   \n",
       "19     83  /mnt/cube/j8xing/starling_rhythm_mfdfa/data/s_...   \n",
       "\n",
       "                                       shuffle_og_seg  shuffle_ts  seg_nb type  \n",
       "18  s_b1555_22_2022-09-20_09-00-01-01_1611695_1641...   33.540317       0  max  \n",
       "1   s_b1555_22_2022-09-20_09-00-01-01_1611695_1641...   13.189624       0  min  \n",
       "3   s_b1555_22_2022-09-20_09-00-01-02_1242225_1285...   48.723433       1  max  \n",
       "30  s_b1555_22_2022-09-20_09-00-01-02_1242225_1285...   24.444802       1  min  \n",
       "19  s_b1555_22_2022-09-20_09-00-01-02_1242225_1285...   43.137802       2  max  "
      ]
     },
     "execution_count": 6,
     "metadata": {},
     "output_type": "execute_result"
    }
   ],
   "source": [
    "shuffle_tmf.head()"
   ]
  },
  {
   "cell_type": "code",
   "execution_count": 7,
   "id": "4f4a8e68",
   "metadata": {},
   "outputs": [
    {
     "name": "stderr",
     "output_type": "stream",
     "text": [
      "/tmp/ipykernel_31246/123448108.py:2: TqdmWarning: IProgress not found. Please update jupyter and ipywidgets. See https://ipywidgets.readthedocs.io/en/stable/user_install.html\n",
      "  from tqdm.autonotebook import tqdm\n"
     ]
    }
   ],
   "source": [
    "from joblib import Parallel, delayed\n",
    "from tqdm.autonotebook import tqdm"
   ]
  },
  {
   "cell_type": "code",
   "execution_count": 8,
   "id": "1dde0cc4",
   "metadata": {},
   "outputs": [],
   "source": [
    "from starling_rhythm.mfdfa import tmf\n",
    "n_jobs = 42\n",
    "verbose = 0"
   ]
  },
  {
   "cell_type": "markdown",
   "id": "8717bc79",
   "metadata": {},
   "source": [
    "## Do a power analysis"
   ]
  },
  {
   "cell_type": "code",
   "execution_count": 17,
   "id": "909d8a02",
   "metadata": {},
   "outputs": [],
   "source": [
    "import numpy as np\n",
    "from statsmodels.stats.power import FTestAnovaPower\n",
    "import matplotlib.pyplot as plt"
   ]
  },
  {
   "cell_type": "code",
   "execution_count": 22,
   "id": "faef4f05",
   "metadata": {},
   "outputs": [
    {
     "data": {
      "text/plain": [
       "0.395990434731053"
      ]
     },
     "execution_count": 22,
     "metadata": {},
     "output_type": "execute_result"
    }
   ],
   "source": [
    "solver = FTestAnovaPower()\n",
    "solver.solve_power(effect_size = 0.25, nobs = 48, alpha = 0.05, power = None)"
   ]
  },
  {
   "cell_type": "markdown",
   "id": "b1d93e5e",
   "metadata": {},
   "source": [
    "## Do a sanity test of T"
   ]
  },
  {
   "cell_type": "code",
   "execution_count": 11,
   "id": "8b62fb5e",
   "metadata": {},
   "outputs": [
    {
     "name": "stderr",
     "output_type": "stream",
     "text": [
      "shuffle:  50%|█████     | 504/1000 [03:32<03:55,  2.11it/s]/home/AD/j8xing/anaconda3/envs/starling_rhythm/lib/python3.10/site-packages/joblib/externals/loky/process_executor.py:702: UserWarning: A worker stopped while some jobs were given to the executor. This can be caused by a too short worker timeout or by a memory leak.\n",
      "  warnings.warn(\n",
      "shuffle: 100%|██████████| 1000/1000 [07:15<00:00,  2.30it/s]\n"
     ]
    },
    {
     "name": "stdout",
     "output_type": "stream",
     "text": [
      "CPU times: user 2.03 s, sys: 1.29 s, total: 3.32 s\n",
      "Wall time: 8min 7s\n"
     ]
    }
   ],
   "source": [
    "%%time\n",
    "\n",
    "with Parallel(n_jobs = n_jobs, verbose = verbose) as parallel:\n",
    "    shuffle_ts = parallel(\n",
    "        delayed(tmf)(\n",
    "            address,\n",
    "            ns = 32,\n",
    "            amp_env_sr = 200,\n",
    "            hilbert_artifacts = True\n",
    "        )\n",
    "        for address in tqdm(shuffle_wavs, desc = 'shuffle')\n",
    "    )"
   ]
  },
  {
   "cell_type": "code",
   "execution_count": 12,
   "id": "3d025502",
   "metadata": {},
   "outputs": [],
   "source": [
    "shuffle_tmf['sanity_tmf'] = shuffle_ts"
   ]
  },
  {
   "cell_type": "code",
   "execution_count": 13,
   "id": "ee572d52",
   "metadata": {},
   "outputs": [
    {
     "data": {
      "text/html": [
       "<div>\n",
       "<style scoped>\n",
       "    .dataframe tbody tr th:only-of-type {\n",
       "        vertical-align: middle;\n",
       "    }\n",
       "\n",
       "    .dataframe tbody tr th {\n",
       "        vertical-align: top;\n",
       "    }\n",
       "\n",
       "    .dataframe thead th {\n",
       "        text-align: right;\n",
       "    }\n",
       "</style>\n",
       "<table border=\"1\" class=\"dataframe\">\n",
       "  <thead>\n",
       "    <tr style=\"text-align: right;\">\n",
       "      <th></th>\n",
       "      <th>index</th>\n",
       "      <th>shuffle_wavs</th>\n",
       "      <th>shuffle_og_seg</th>\n",
       "      <th>shuffle_ts</th>\n",
       "      <th>seg_nb</th>\n",
       "      <th>type</th>\n",
       "      <th>sanity_tmf</th>\n",
       "    </tr>\n",
       "  </thead>\n",
       "  <tbody>\n",
       "    <tr>\n",
       "      <th>18</th>\n",
       "      <td>18</td>\n",
       "      <td>/mnt/cube/j8xing/starling_rhythm_mfdfa/data/s_...</td>\n",
       "      <td>s_b1555_22_2022-09-20_09-00-01-01_1611695_1641...</td>\n",
       "      <td>33.540317</td>\n",
       "      <td>0</td>\n",
       "      <td>max</td>\n",
       "      <td>23.279555</td>\n",
       "    </tr>\n",
       "    <tr>\n",
       "      <th>1</th>\n",
       "      <td>1</td>\n",
       "      <td>/mnt/cube/j8xing/starling_rhythm_mfdfa/data/s_...</td>\n",
       "      <td>s_b1555_22_2022-09-20_09-00-01-01_1611695_1641...</td>\n",
       "      <td>13.189624</td>\n",
       "      <td>0</td>\n",
       "      <td>min</td>\n",
       "      <td>12.311960</td>\n",
       "    </tr>\n",
       "    <tr>\n",
       "      <th>3</th>\n",
       "      <td>35</td>\n",
       "      <td>/mnt/cube/j8xing/starling_rhythm_mfdfa/data/s_...</td>\n",
       "      <td>s_b1555_22_2022-09-20_09-00-01-02_1242225_1285...</td>\n",
       "      <td>48.723433</td>\n",
       "      <td>1</td>\n",
       "      <td>max</td>\n",
       "      <td>46.688159</td>\n",
       "    </tr>\n",
       "    <tr>\n",
       "      <th>30</th>\n",
       "      <td>62</td>\n",
       "      <td>/mnt/cube/j8xing/starling_rhythm_mfdfa/data/s_...</td>\n",
       "      <td>s_b1555_22_2022-09-20_09-00-01-02_1242225_1285...</td>\n",
       "      <td>24.444802</td>\n",
       "      <td>1</td>\n",
       "      <td>min</td>\n",
       "      <td>27.277788</td>\n",
       "    </tr>\n",
       "    <tr>\n",
       "      <th>19</th>\n",
       "      <td>83</td>\n",
       "      <td>/mnt/cube/j8xing/starling_rhythm_mfdfa/data/s_...</td>\n",
       "      <td>s_b1555_22_2022-09-20_09-00-01-02_1242225_1285...</td>\n",
       "      <td>43.137802</td>\n",
       "      <td>2</td>\n",
       "      <td>max</td>\n",
       "      <td>42.292035</td>\n",
       "    </tr>\n",
       "    <tr>\n",
       "      <th>...</th>\n",
       "      <td>...</td>\n",
       "      <td>...</td>\n",
       "      <td>...</td>\n",
       "      <td>...</td>\n",
       "      <td>...</td>\n",
       "      <td>...</td>\n",
       "      <td>...</td>\n",
       "    </tr>\n",
       "    <tr>\n",
       "      <th>15</th>\n",
       "      <td>15919</td>\n",
       "      <td>/mnt/cube/j8xing/starling_rhythm_mfdfa/data/s_...</td>\n",
       "      <td>s_b1555_22_2022-09-29_21-00-01-02_1004735_1051...</td>\n",
       "      <td>41.725690</td>\n",
       "      <td>497</td>\n",
       "      <td>min</td>\n",
       "      <td>54.453983</td>\n",
       "    </tr>\n",
       "    <tr>\n",
       "      <th>22</th>\n",
       "      <td>15958</td>\n",
       "      <td>/mnt/cube/j8xing/starling_rhythm_mfdfa/data/s_...</td>\n",
       "      <td>s_b1555_22_2022-09-29_21-00-01-02_1004735_1051...</td>\n",
       "      <td>57.690444</td>\n",
       "      <td>498</td>\n",
       "      <td>max</td>\n",
       "      <td>63.989083</td>\n",
       "    </tr>\n",
       "    <tr>\n",
       "      <th>15</th>\n",
       "      <td>15951</td>\n",
       "      <td>/mnt/cube/j8xing/starling_rhythm_mfdfa/data/s_...</td>\n",
       "      <td>s_b1555_22_2022-09-29_21-00-01-02_1004735_1051...</td>\n",
       "      <td>20.800937</td>\n",
       "      <td>498</td>\n",
       "      <td>min</td>\n",
       "      <td>21.407516</td>\n",
       "    </tr>\n",
       "    <tr>\n",
       "      <th>27</th>\n",
       "      <td>15995</td>\n",
       "      <td>/mnt/cube/j8xing/starling_rhythm_mfdfa/data/s_...</td>\n",
       "      <td>s_b1555_22_2022-09-29_21-00-01-02_844145_87959...</td>\n",
       "      <td>42.612415</td>\n",
       "      <td>499</td>\n",
       "      <td>max</td>\n",
       "      <td>32.853170</td>\n",
       "    </tr>\n",
       "    <tr>\n",
       "      <th>4</th>\n",
       "      <td>15972</td>\n",
       "      <td>/mnt/cube/j8xing/starling_rhythm_mfdfa/data/s_...</td>\n",
       "      <td>s_b1555_22_2022-09-29_21-00-01-02_844145_87959...</td>\n",
       "      <td>18.240135</td>\n",
       "      <td>499</td>\n",
       "      <td>min</td>\n",
       "      <td>17.161434</td>\n",
       "    </tr>\n",
       "  </tbody>\n",
       "</table>\n",
       "<p>1000 rows × 7 columns</p>\n",
       "</div>"
      ],
      "text/plain": [
       "    index                                       shuffle_wavs  \\\n",
       "18     18  /mnt/cube/j8xing/starling_rhythm_mfdfa/data/s_...   \n",
       "1       1  /mnt/cube/j8xing/starling_rhythm_mfdfa/data/s_...   \n",
       "3      35  /mnt/cube/j8xing/starling_rhythm_mfdfa/data/s_...   \n",
       "30     62  /mnt/cube/j8xing/starling_rhythm_mfdfa/data/s_...   \n",
       "19     83  /mnt/cube/j8xing/starling_rhythm_mfdfa/data/s_...   \n",
       "..    ...                                                ...   \n",
       "15  15919  /mnt/cube/j8xing/starling_rhythm_mfdfa/data/s_...   \n",
       "22  15958  /mnt/cube/j8xing/starling_rhythm_mfdfa/data/s_...   \n",
       "15  15951  /mnt/cube/j8xing/starling_rhythm_mfdfa/data/s_...   \n",
       "27  15995  /mnt/cube/j8xing/starling_rhythm_mfdfa/data/s_...   \n",
       "4   15972  /mnt/cube/j8xing/starling_rhythm_mfdfa/data/s_...   \n",
       "\n",
       "                                       shuffle_og_seg  shuffle_ts  seg_nb  \\\n",
       "18  s_b1555_22_2022-09-20_09-00-01-01_1611695_1641...   33.540317       0   \n",
       "1   s_b1555_22_2022-09-20_09-00-01-01_1611695_1641...   13.189624       0   \n",
       "3   s_b1555_22_2022-09-20_09-00-01-02_1242225_1285...   48.723433       1   \n",
       "30  s_b1555_22_2022-09-20_09-00-01-02_1242225_1285...   24.444802       1   \n",
       "19  s_b1555_22_2022-09-20_09-00-01-02_1242225_1285...   43.137802       2   \n",
       "..                                                ...         ...     ...   \n",
       "15  s_b1555_22_2022-09-29_21-00-01-02_1004735_1051...   41.725690     497   \n",
       "22  s_b1555_22_2022-09-29_21-00-01-02_1004735_1051...   57.690444     498   \n",
       "15  s_b1555_22_2022-09-29_21-00-01-02_1004735_1051...   20.800937     498   \n",
       "27  s_b1555_22_2022-09-29_21-00-01-02_844145_87959...   42.612415     499   \n",
       "4   s_b1555_22_2022-09-29_21-00-01-02_844145_87959...   18.240135     499   \n",
       "\n",
       "   type  sanity_tmf  \n",
       "18  max   23.279555  \n",
       "1   min   12.311960  \n",
       "3   max   46.688159  \n",
       "30  min   27.277788  \n",
       "19  max   42.292035  \n",
       "..  ...         ...  \n",
       "15  min   54.453983  \n",
       "22  max   63.989083  \n",
       "15  min   21.407516  \n",
       "27  max   32.853170  \n",
       "4   min   17.161434  \n",
       "\n",
       "[1000 rows x 7 columns]"
      ]
     },
     "execution_count": 13,
     "metadata": {},
     "output_type": "execute_result"
    }
   ],
   "source": [
    "shuffle_tmf"
   ]
  },
  {
   "cell_type": "code",
   "execution_count": 14,
   "id": "ec8542c9",
   "metadata": {},
   "outputs": [],
   "source": [
    "import seaborn as sns"
   ]
  },
  {
   "cell_type": "code",
   "execution_count": 15,
   "id": "ffdbf1b7",
   "metadata": {},
   "outputs": [
    {
     "data": {
      "text/plain": [
       "<AxesSubplot:xlabel='shuffle_ts', ylabel='Count'>"
      ]
     },
     "execution_count": 15,
     "metadata": {},
     "output_type": "execute_result"
    },
    {
     "data": {
      "image/png": "[encoded data removed]",
      "text/plain": [
       "<Figure size 432x288 with 1 Axes>"
      ]
     },
     "metadata": {
      "needs_background": "light"
     },
     "output_type": "display_data"
    }
   ],
   "source": [
    "sns.histplot(data = shuffle_tmf.reset_index(), x = 'shuffle_ts', hue = 'type')"
   ]
  },
  {
   "cell_type": "code",
   "execution_count": 16,
   "id": "86bd7f7e",
   "metadata": {},
   "outputs": [
    {
     "data": {
      "text/plain": [
       "<AxesSubplot:xlabel='sanity_tmf', ylabel='Count'>"
      ]
     },
     "execution_count": 16,
     "metadata": {},
     "output_type": "execute_result"
    },
    {
     "data": {
      "image/png": "[encoded data removed]",
      "text/plain": [
       "<Figure size 432x288 with 1 Axes>"
      ]
     },
     "metadata": {
      "needs_background": "light"
     },
     "output_type": "display_data"
    }
   ],
   "source": [
    "sns.histplot(data = shuffle_tmf.reset_index(), x = 'sanity_tmf', hue = 'type')"
   ]
  },
  {
   "cell_type": "code",
   "execution_count": 17,
   "id": "0e0f4751",
   "metadata": {},
   "outputs": [],
   "source": [
    "## we know from this that there is a population difference when we run a second time. \n",
    "## Let's run 100 ts of each segment, and take the sample mean, and take that as the true t statistic of the recording"
   ]
  },
  {
   "cell_type": "code",
   "execution_count": 18,
   "id": "325c6b64",
   "metadata": {},
   "outputs": [],
   "source": [
    "def tmf_n(\n",
    "    address, \n",
    "    ns = 32, \n",
    "    amp_env_sr = 200,\n",
    "    nt = 36\n",
    "):\n",
    "    SDoTMF = []\n",
    "    for i in np.arange(0, nt):\n",
    "        SDoTMF.append(tmf(address, ns = ns, amp_env_sr = amp_env_sr, hilbert_artifacts = True))\n",
    "    \n",
    "    return SDoTMF"
   ]
  },
  {
   "cell_type": "code",
   "execution_count": 19,
   "id": "579c2574",
   "metadata": {},
   "outputs": [],
   "source": [
    "tester = shuffle_wavs[0]"
   ]
  },
  {
   "cell_type": "code",
   "execution_count": 20,
   "id": "dc00037e",
   "metadata": {},
   "outputs": [
    {
     "data": {
      "text/plain": [
       "PosixPath('/mnt/cube/j8xing/starling_rhythm_mfdfa/data/s_b1555_22/templatingFalse-shuffle/s_b1555_22_2022-09-20_09-00-01-01_1611695_1641125_seg_20.0_30.0_templatingFalse-shuffle_26_.wav')"
      ]
     },
     "execution_count": 20,
     "metadata": {},
     "output_type": "execute_result"
    }
   ],
   "source": [
    "tester"
   ]
  },
  {
   "cell_type": "code",
   "execution_count": 21,
   "id": "7adb3479",
   "metadata": {},
   "outputs": [
    {
     "data": {
      "text/plain": [
       "[28.310736633737495, 21.68673077125807, 22.51500008604709]"
      ]
     },
     "execution_count": 21,
     "metadata": {},
     "output_type": "execute_result"
    }
   ],
   "source": [
    "tmf_n(tester, nt = 3)"
   ]
  },
  {
   "cell_type": "code",
   "execution_count": null,
   "id": "b38ce045",
   "metadata": {},
   "outputs": [
    {
     "name": "stderr",
     "output_type": "stream",
     "text": [
      "shuffle:   8%|▊         | 84/1000 [25:27<4:37:39, 18.19s/it]/home/AD/j8xing/anaconda3/envs/starling_rhythm/lib/python3.10/site-packages/joblib/externals/loky/process_executor.py:702: UserWarning: A worker stopped while some jobs were given to the executor. This can be caused by a too short worker timeout or by a memory leak.\n",
      "  warnings.warn(\n",
      "shuffle:  34%|███▎      | 336/1000 [3:29:25<7:53:28, 42.78s/it]"
     ]
    }
   ],
   "source": [
    "%%time\n",
    "\n",
    "with Parallel(n_jobs = n_jobs, verbose = verbose) as parallel:\n",
    "    SDoTMF = parallel(\n",
    "        delayed(tmf_n)(\n",
    "            address,\n",
    "            ns = 32,\n",
    "            amp_env_sr = 200,\n",
    "            nt = 100\n",
    "        )\n",
    "        for address in tqdm(shuffle_wavs, desc = 'shuffle')\n",
    "    )"
   ]
  },
  {
   "cell_type": "code",
   "execution_count": null,
   "id": "7b86a5c1",
   "metadata": {},
   "outputs": [],
   "source": [
    "shuffle_tmf['SDoTMF'] = SDoTMF"
   ]
  },
  {
   "cell_type": "code",
   "execution_count": null,
   "id": "a4c7f9f0",
   "metadata": {},
   "outputs": [],
   "source": [
    "shuffle_tmf"
   ]
  },
  {
   "cell_type": "code",
   "execution_count": null,
   "id": "0386a62c",
   "metadata": {},
   "outputs": [],
   "source": [
    "## Pickle dataframe"
   ]
  },
  {
   "cell_type": "code",
   "execution_count": null,
   "id": "e133a05f",
   "metadata": {},
   "outputs": [],
   "source": [
    "from starling_rhythm.utils.paths import PROCESSED_DIR, ensure_dir"
   ]
  },
  {
   "cell_type": "code",
   "execution_count": null,
   "id": "4bd19eb2",
   "metadata": {},
   "outputs": [],
   "source": [
    "SAVE_PATH = PROCESSED_DIR / bID / 'shuffle_tmf_SDoTMF.pickle'\n",
    "ensure_dir(SAVE_PATH)"
   ]
  },
  {
   "cell_type": "code",
   "execution_count": null,
   "id": "79257273",
   "metadata": {},
   "outputs": [],
   "source": [
    "shuffle_tmf.to_pickle(SAVE_PATH)"
   ]
  }
 ],
 "metadata": {
  "kernelspec": {
   "display_name": "starling_rhythm",
   "language": "python",
   "name": "starling_rhythm"
  },
  "language_info": {
   "codemirror_mode": {
    "name": "ipython",
    "version": 3
   },
   "file_extension": ".py",
   "mimetype": "text/x-python",
   "name": "python",
   "nbconvert_exporter": "python",
   "pygments_lexer": "ipython3",
   "version": "3.10.10"
  }
 },
 "nbformat": 4,
 "nbformat_minor": 5
}
